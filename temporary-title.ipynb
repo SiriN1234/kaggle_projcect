{
 "cells": [
  {
   "cell_type": "markdown",
   "id": "cf66113c",
   "metadata": {
    "papermill": {
     "duration": 0.090722,
     "end_time": "2022-04-05T08:43:44.244950",
     "exception": false,
     "start_time": "2022-04-05T08:43:44.154228",
     "status": "completed"
    },
    "tags": []
   },
   "source": [
    "# 프로젝트 개요\n",
    "- 강의명 : 2022년 K-디지털 직업훈련(Training) 사업 - AI데이터플랫폼을 활용한 빅데이터 분석전문가 과정\n",
    "- 교과목명 : 빅데이터 분석 및 시각화, AI개발 기초, 인공지능 프로그래밍\n",
    "- 프로젝트 주제 : Spaceship Titanic 데이터를 활용한 탑승유무 분류모형 개발\n",
    "- 프로젝트 마감일 : 2022년 4월 12일 화요일\n",
    "- 강사명 : 정지훈 강사\n",
    "- 수강생명 : 한정인"
   ]
  },
  {
   "cell_type": "code",
   "execution_count": 1,
   "id": "0e68b854",
   "metadata": {
    "_cell_guid": "b1076dfc-b9ad-4769-8c92-a6c4dae69d19",
    "_uuid": "8f2839f25d086af736a60e9eeb907d3b93b6e0e5",
    "execution": {
     "iopub.execute_input": "2022-04-05T08:43:44.409328Z",
     "iopub.status.busy": "2022-04-05T08:43:44.408158Z",
     "iopub.status.idle": "2022-04-05T08:43:44.420234Z",
     "shell.execute_reply": "2022-04-05T08:43:44.420691Z",
     "shell.execute_reply.started": "2022-04-05T08:41:10.691424Z"
    },
    "papermill": {
     "duration": 0.096001,
     "end_time": "2022-04-05T08:43:44.420981",
     "exception": false,
     "start_time": "2022-04-05T08:43:44.324980",
     "status": "completed"
    },
    "tags": []
   },
   "outputs": [
    {
     "name": "stdout",
     "output_type": "stream",
     "text": [
      "/kaggle/input/spaceship-titanic/sample_submission.csv\n",
      "/kaggle/input/spaceship-titanic/train.csv\n",
      "/kaggle/input/spaceship-titanic/test.csv\n"
     ]
    }
   ],
   "source": [
    "# This Python 3 environment comes with many helpful analytics libraries installed\n",
    "# It is defined by the kaggle/python Docker image: https://github.com/kaggle/docker-python\n",
    "# For example, here's several helpful packages to load\n",
    "\n",
    "import numpy as np # linear algebra\n",
    "import pandas as pd # data processing, CSV file I/O (e.g. pd.read_csv)\n",
    "\n",
    "# Input data files are available in the read-only \"../input/\" directory\n",
    "# For example, running this (by clicking run or pressing Shift+Enter) will list all files under the input directory\n",
    "\n",
    "import os\n",
    "for dirname, _, filenames in os.walk('/kaggle/input'):\n",
    "    for filename in filenames:\n",
    "        print(os.path.join(dirname, filename))\n",
    "\n",
    "# You can write up to 20GB to the current directory (/kaggle/working/) that gets preserved as output when you create a version using \"Save & Run All\" \n",
    "# You can also write temporary files to /kaggle/temp/, but they won't be saved outside of the current session"
   ]
  },
  {
   "cell_type": "markdown",
   "id": "b3e74476",
   "metadata": {
    "papermill": {
     "duration": 0.084321,
     "end_time": "2022-04-05T08:43:44.585432",
     "exception": false,
     "start_time": "2022-04-05T08:43:44.501111",
     "status": "completed"
    },
    "tags": []
   },
   "source": [
    "# File and Data Field Descriptions\n",
    "\n",
    "- train.csv - Personal records for about two-thirds (~8700) of the passengers, to be used as training data.\n",
    "    - PassengerId - A unique Id for each passenger. Each Id takes the form gggg_pp where gggg indicates a group the passenger is travelling with and pp is their number within the group. People in a group are often family members, but not always.\n",
    "    - HomePlanet - The planet the passenger departed from, typically their planet of permanent residence.\n",
    "    - CryoSleep - Indicates whether the passenger elected to be put into suspended animation for the duration of the voyage. Passengers in cryosleep are confined to their cabins.\n",
    "    - Cabin - The cabin number where the passenger is staying. Takes the form deck/num/side, where side can be either P for Port or S for Starboard.\n",
    "    - Destination - The planet the passenger will be debarking to.\n",
    "    - Age - The age of the passenger.\n",
    "    - VIP - Whether the passenger has paid for special VIP service during the voyage.\n",
    "    - RoomService, FoodCourt, ShoppingMall, Spa, VRDeck - Amount the passenger has billed at each of the Spaceship Titanic's many luxury amenities.\n",
    "    - Name - The first and last names of the passenger.\n",
    "    - Transported - Whether the passenger was transported to another dimension. This is the target, the column you are trying to predict.\n",
    "- test.csv - Personal records for the remaining one-third (~4300) of the passengers, to be used as test data. Your task is to predict the value of Transported for the passengers in this set.\n",
    "- sample_submission.csv - A submission file in the correct format.\n",
    "    - PassengerId - Id for each passenger in the test set.\n",
    "    - Transported - The target. For each passenger, predict either True or False."
   ]
  },
  {
   "cell_type": "markdown",
   "id": "6df30cf4",
   "metadata": {
    "papermill": {
     "duration": 0.08089,
     "end_time": "2022-04-05T08:43:44.750215",
     "exception": false,
     "start_time": "2022-04-05T08:43:44.669325",
     "status": "completed"
    },
    "tags": []
   },
   "source": [
    "# 파일 및 데이터 필드 설명\n",
    "- train.csv - 승객의 약 3분의 2(~8700)에 대한 개인 기록으로, 훈련 데이터로 사용됩니다.\n",
    "    - PassengerId - 각 승객의 고유 ID입니다. 각 ID는 ggg_pp 형식을 취하며, 여기서 ggg는 승객이 함께 여행하는 그룹을 나타내며, pp는 그룹 내 번호를 나타냅니다. 그룹의 사람들은 종종 가족 구성원이지만 항상 그렇지는 않다.\n",
    "    - HomePlanet - 승객이 출발한 행성으로, 일반적으로 영구 거주지 행성입니다.\n",
    "    - CryoSleep - 승객이 항해가 진행되는 동안 일시 정지 애니메이션으로 전환되도록 선택했는지 여부를 나타냅니다. 저온 수면 중인 승객들은 객실에 갇히게 된다.\n",
    "    - 객실 - 승객이 머물고 있는 객실 번호입니다. 갑판/번호/측면 형식을 취합니다. 여기서 측면은 좌현에 P 또는 우현에 S가 될 수 있습니다.\n",
    "    - 목적지 - 승객이 주차를 해제할 행성입니다.\n",
    "    - 연령 - 승객의 연령입니다.\n",
    "    - VIP - 승객이 여행 중 특별 VIP 서비스에 비용을 지불했는지 여부\n",
    "    - 룸 서비스, 푸드 코트, 쇼핑 몰, 스파, VRDeck - 승객이 우주선 타이타닉의 많은 고급 편의 시설 각각에서 청구한 금액입니다.\n",
    "    - 이름 - 승객의 이름과 성.\n",
    "    - 운송됨 - 승객이 다른 차원으로 운송되었는지 여부. 예측하려는 대상 열입니다.\n",
    "- test.csv - 테스트 데이터로 사용되는 나머지 승객의 1/3(~4300)에 대한 개인 기록. 작업은 이 세트의 승객에 대한 운송 값을 예측하는 것입니다.\n",
    "- sample_submission.csv - 올바른 형식의 송신 파일.\n",
    "    - PassengerId - 테스트 세트에 포함된 각 승객의 ID입니다.\n",
    "    - Transported - 타겟. 각 승객에 대해 참 또는 거짓을 예측합니다."
   ]
  },
  {
   "cell_type": "markdown",
   "id": "c00f0a1f",
   "metadata": {
    "papermill": {
     "duration": 0.079833,
     "end_time": "2022-04-05T08:43:44.909629",
     "exception": false,
     "start_time": "2022-04-05T08:43:44.829796",
     "status": "completed"
    },
    "tags": []
   },
   "source": [
    "# Step 1. 라이브러리 및 데이터 불러오기\n",
    "\n",
    "- 본 프로젝트 수행을 위한 필수 라이브러리를 불러온다. "
   ]
  },
  {
   "cell_type": "code",
   "execution_count": 2,
   "id": "e7ba1304",
   "metadata": {
    "execution": {
     "iopub.execute_input": "2022-04-05T08:43:45.073276Z",
     "iopub.status.busy": "2022-04-05T08:43:45.072639Z",
     "iopub.status.idle": "2022-04-05T08:43:46.062502Z",
     "shell.execute_reply": "2022-04-05T08:43:46.061897Z",
     "shell.execute_reply.started": "2022-04-05T08:41:10.702897Z"
    },
    "papermill": {
     "duration": 1.073599,
     "end_time": "2022-04-05T08:43:46.062654",
     "exception": false,
     "start_time": "2022-04-05T08:43:44.989055",
     "status": "completed"
    },
    "tags": []
   },
   "outputs": [
    {
     "name": "stdout",
     "output_type": "stream",
     "text": [
      "numpy version: 1.20.3\n",
      "pandas version: 1.3.5\n",
      "matplotlib version: 3.5.1\n",
      "seaborn version: 0.11.2\n"
     ]
    }
   ],
   "source": [
    "# 데이터 가공 \n",
    "import numpy as np \n",
    "import pandas as pd \n",
    "\n",
    "print(\"numpy version:\", np.__version__)\n",
    "print(\"pandas version:\", pd.__version__)\n",
    "\n",
    "# 데이터 시각화\n",
    "import matplotlib\n",
    "import matplotlib.pyplot as plt \n",
    "import plotly.graph_objects as go\n",
    "import seaborn as sns \n",
    "print(\"matplotlib version:\", matplotlib.__version__)\n",
    "print(\"seaborn version:\", sns.__version__)"
   ]
  },
  {
   "cell_type": "markdown",
   "id": "e0e27134",
   "metadata": {
    "papermill": {
     "duration": 0.080028,
     "end_time": "2022-04-05T08:43:46.223547",
     "exception": false,
     "start_time": "2022-04-05T08:43:46.143519",
     "status": "completed"
    },
    "tags": []
   },
   "source": [
    "- 이번에는 주어진 데이터를 불러온다. \n",
    "- 훈련데이터는 8,693개, 테스트 데이터는 4,277개로 구성이 되어 있음\n",
    "- 독립변수 컬럼 갯수는 13개이며, 종속 변수는 1개로 구성되어 있음"
   ]
  },
  {
   "cell_type": "code",
   "execution_count": 3,
   "id": "0b7bc401",
   "metadata": {
    "execution": {
     "iopub.execute_input": "2022-04-05T08:43:46.389095Z",
     "iopub.status.busy": "2022-04-05T08:43:46.388404Z",
     "iopub.status.idle": "2022-04-05T08:43:46.479137Z",
     "shell.execute_reply": "2022-04-05T08:43:46.479644Z",
     "shell.execute_reply.started": "2022-04-05T08:41:10.717082Z"
    },
    "papermill": {
     "duration": 0.175952,
     "end_time": "2022-04-05T08:43:46.479809",
     "exception": false,
     "start_time": "2022-04-05T08:43:46.303857",
     "status": "completed"
    },
    "tags": []
   },
   "outputs": [
    {
     "data": {
      "text/plain": [
       "((8693, 14), (4277, 13), (4277, 2))"
      ]
     },
     "execution_count": 3,
     "metadata": {},
     "output_type": "execute_result"
    }
   ],
   "source": [
    "train_data = pd.read_csv(\"../input/spaceship-titanic/train.csv\")\n",
    "test_data = pd.read_csv(\"../input/spaceship-titanic/test.csv\")\n",
    "sample_submission = pd.read_csv(\"../input/spaceship-titanic/sample_submission.csv\")\n",
    "\n",
    "train_data.shape, test_data.shape, sample_submission.shape"
   ]
  },
  {
   "cell_type": "code",
   "execution_count": 4,
   "id": "eaf81e7e",
   "metadata": {
    "execution": {
     "iopub.execute_input": "2022-04-05T08:43:46.649326Z",
     "iopub.status.busy": "2022-04-05T08:43:46.648437Z",
     "iopub.status.idle": "2022-04-05T08:43:46.674888Z",
     "shell.execute_reply": "2022-04-05T08:43:46.675482Z",
     "shell.execute_reply.started": "2022-04-05T08:41:10.783467Z"
    },
    "papermill": {
     "duration": 0.115064,
     "end_time": "2022-04-05T08:43:46.675651",
     "exception": false,
     "start_time": "2022-04-05T08:43:46.560587",
     "status": "completed"
    },
    "tags": []
   },
   "outputs": [
    {
     "data": {
      "text/html": [
       "<div>\n",
       "<style scoped>\n",
       "    .dataframe tbody tr th:only-of-type {\n",
       "        vertical-align: middle;\n",
       "    }\n",
       "\n",
       "    .dataframe tbody tr th {\n",
       "        vertical-align: top;\n",
       "    }\n",
       "\n",
       "    .dataframe thead th {\n",
       "        text-align: right;\n",
       "    }\n",
       "</style>\n",
       "<table border=\"1\" class=\"dataframe\">\n",
       "  <thead>\n",
       "    <tr style=\"text-align: right;\">\n",
       "      <th></th>\n",
       "      <th>PassengerId</th>\n",
       "      <th>HomePlanet</th>\n",
       "      <th>CryoSleep</th>\n",
       "      <th>Cabin</th>\n",
       "      <th>Destination</th>\n",
       "      <th>Age</th>\n",
       "      <th>VIP</th>\n",
       "      <th>RoomService</th>\n",
       "      <th>FoodCourt</th>\n",
       "      <th>ShoppingMall</th>\n",
       "      <th>Spa</th>\n",
       "      <th>VRDeck</th>\n",
       "      <th>Name</th>\n",
       "      <th>Transported</th>\n",
       "    </tr>\n",
       "  </thead>\n",
       "  <tbody>\n",
       "    <tr>\n",
       "      <th>0</th>\n",
       "      <td>0001_01</td>\n",
       "      <td>Europa</td>\n",
       "      <td>False</td>\n",
       "      <td>B/0/P</td>\n",
       "      <td>TRAPPIST-1e</td>\n",
       "      <td>39.0</td>\n",
       "      <td>False</td>\n",
       "      <td>0.0</td>\n",
       "      <td>0.0</td>\n",
       "      <td>0.0</td>\n",
       "      <td>0.0</td>\n",
       "      <td>0.0</td>\n",
       "      <td>Maham Ofracculy</td>\n",
       "      <td>False</td>\n",
       "    </tr>\n",
       "    <tr>\n",
       "      <th>1</th>\n",
       "      <td>0002_01</td>\n",
       "      <td>Earth</td>\n",
       "      <td>False</td>\n",
       "      <td>F/0/S</td>\n",
       "      <td>TRAPPIST-1e</td>\n",
       "      <td>24.0</td>\n",
       "      <td>False</td>\n",
       "      <td>109.0</td>\n",
       "      <td>9.0</td>\n",
       "      <td>25.0</td>\n",
       "      <td>549.0</td>\n",
       "      <td>44.0</td>\n",
       "      <td>Juanna Vines</td>\n",
       "      <td>True</td>\n",
       "    </tr>\n",
       "    <tr>\n",
       "      <th>2</th>\n",
       "      <td>0003_01</td>\n",
       "      <td>Europa</td>\n",
       "      <td>False</td>\n",
       "      <td>A/0/S</td>\n",
       "      <td>TRAPPIST-1e</td>\n",
       "      <td>58.0</td>\n",
       "      <td>True</td>\n",
       "      <td>43.0</td>\n",
       "      <td>3576.0</td>\n",
       "      <td>0.0</td>\n",
       "      <td>6715.0</td>\n",
       "      <td>49.0</td>\n",
       "      <td>Altark Susent</td>\n",
       "      <td>False</td>\n",
       "    </tr>\n",
       "    <tr>\n",
       "      <th>3</th>\n",
       "      <td>0003_02</td>\n",
       "      <td>Europa</td>\n",
       "      <td>False</td>\n",
       "      <td>A/0/S</td>\n",
       "      <td>TRAPPIST-1e</td>\n",
       "      <td>33.0</td>\n",
       "      <td>False</td>\n",
       "      <td>0.0</td>\n",
       "      <td>1283.0</td>\n",
       "      <td>371.0</td>\n",
       "      <td>3329.0</td>\n",
       "      <td>193.0</td>\n",
       "      <td>Solam Susent</td>\n",
       "      <td>False</td>\n",
       "    </tr>\n",
       "    <tr>\n",
       "      <th>4</th>\n",
       "      <td>0004_01</td>\n",
       "      <td>Earth</td>\n",
       "      <td>False</td>\n",
       "      <td>F/1/S</td>\n",
       "      <td>TRAPPIST-1e</td>\n",
       "      <td>16.0</td>\n",
       "      <td>False</td>\n",
       "      <td>303.0</td>\n",
       "      <td>70.0</td>\n",
       "      <td>151.0</td>\n",
       "      <td>565.0</td>\n",
       "      <td>2.0</td>\n",
       "      <td>Willy Santantines</td>\n",
       "      <td>True</td>\n",
       "    </tr>\n",
       "    <tr>\n",
       "      <th>5</th>\n",
       "      <td>0005_01</td>\n",
       "      <td>Earth</td>\n",
       "      <td>False</td>\n",
       "      <td>F/0/P</td>\n",
       "      <td>PSO J318.5-22</td>\n",
       "      <td>44.0</td>\n",
       "      <td>False</td>\n",
       "      <td>0.0</td>\n",
       "      <td>483.0</td>\n",
       "      <td>0.0</td>\n",
       "      <td>291.0</td>\n",
       "      <td>0.0</td>\n",
       "      <td>Sandie Hinetthews</td>\n",
       "      <td>True</td>\n",
       "    </tr>\n",
       "    <tr>\n",
       "      <th>6</th>\n",
       "      <td>0006_01</td>\n",
       "      <td>Earth</td>\n",
       "      <td>False</td>\n",
       "      <td>F/2/S</td>\n",
       "      <td>TRAPPIST-1e</td>\n",
       "      <td>26.0</td>\n",
       "      <td>False</td>\n",
       "      <td>42.0</td>\n",
       "      <td>1539.0</td>\n",
       "      <td>3.0</td>\n",
       "      <td>0.0</td>\n",
       "      <td>0.0</td>\n",
       "      <td>Billex Jacostaffey</td>\n",
       "      <td>True</td>\n",
       "    </tr>\n",
       "    <tr>\n",
       "      <th>7</th>\n",
       "      <td>0006_02</td>\n",
       "      <td>Earth</td>\n",
       "      <td>True</td>\n",
       "      <td>G/0/S</td>\n",
       "      <td>TRAPPIST-1e</td>\n",
       "      <td>28.0</td>\n",
       "      <td>False</td>\n",
       "      <td>0.0</td>\n",
       "      <td>0.0</td>\n",
       "      <td>0.0</td>\n",
       "      <td>0.0</td>\n",
       "      <td>NaN</td>\n",
       "      <td>Candra Jacostaffey</td>\n",
       "      <td>True</td>\n",
       "    </tr>\n",
       "    <tr>\n",
       "      <th>8</th>\n",
       "      <td>0007_01</td>\n",
       "      <td>Earth</td>\n",
       "      <td>False</td>\n",
       "      <td>F/3/S</td>\n",
       "      <td>TRAPPIST-1e</td>\n",
       "      <td>35.0</td>\n",
       "      <td>False</td>\n",
       "      <td>0.0</td>\n",
       "      <td>785.0</td>\n",
       "      <td>17.0</td>\n",
       "      <td>216.0</td>\n",
       "      <td>0.0</td>\n",
       "      <td>Andona Beston</td>\n",
       "      <td>True</td>\n",
       "    </tr>\n",
       "    <tr>\n",
       "      <th>9</th>\n",
       "      <td>0008_01</td>\n",
       "      <td>Europa</td>\n",
       "      <td>True</td>\n",
       "      <td>B/1/P</td>\n",
       "      <td>55 Cancri e</td>\n",
       "      <td>14.0</td>\n",
       "      <td>False</td>\n",
       "      <td>0.0</td>\n",
       "      <td>0.0</td>\n",
       "      <td>0.0</td>\n",
       "      <td>0.0</td>\n",
       "      <td>0.0</td>\n",
       "      <td>Erraiam Flatic</td>\n",
       "      <td>True</td>\n",
       "    </tr>\n",
       "  </tbody>\n",
       "</table>\n",
       "</div>"
      ],
      "text/plain": [
       "  PassengerId HomePlanet CryoSleep  Cabin    Destination   Age    VIP  \\\n",
       "0     0001_01     Europa     False  B/0/P    TRAPPIST-1e  39.0  False   \n",
       "1     0002_01      Earth     False  F/0/S    TRAPPIST-1e  24.0  False   \n",
       "2     0003_01     Europa     False  A/0/S    TRAPPIST-1e  58.0   True   \n",
       "3     0003_02     Europa     False  A/0/S    TRAPPIST-1e  33.0  False   \n",
       "4     0004_01      Earth     False  F/1/S    TRAPPIST-1e  16.0  False   \n",
       "5     0005_01      Earth     False  F/0/P  PSO J318.5-22  44.0  False   \n",
       "6     0006_01      Earth     False  F/2/S    TRAPPIST-1e  26.0  False   \n",
       "7     0006_02      Earth      True  G/0/S    TRAPPIST-1e  28.0  False   \n",
       "8     0007_01      Earth     False  F/3/S    TRAPPIST-1e  35.0  False   \n",
       "9     0008_01     Europa      True  B/1/P    55 Cancri e  14.0  False   \n",
       "\n",
       "   RoomService  FoodCourt  ShoppingMall     Spa  VRDeck                Name  \\\n",
       "0          0.0        0.0           0.0     0.0     0.0     Maham Ofracculy   \n",
       "1        109.0        9.0          25.0   549.0    44.0        Juanna Vines   \n",
       "2         43.0     3576.0           0.0  6715.0    49.0       Altark Susent   \n",
       "3          0.0     1283.0         371.0  3329.0   193.0        Solam Susent   \n",
       "4        303.0       70.0         151.0   565.0     2.0   Willy Santantines   \n",
       "5          0.0      483.0           0.0   291.0     0.0   Sandie Hinetthews   \n",
       "6         42.0     1539.0           3.0     0.0     0.0  Billex Jacostaffey   \n",
       "7          0.0        0.0           0.0     0.0     NaN  Candra Jacostaffey   \n",
       "8          0.0      785.0          17.0   216.0     0.0       Andona Beston   \n",
       "9          0.0        0.0           0.0     0.0     0.0      Erraiam Flatic   \n",
       "\n",
       "   Transported  \n",
       "0        False  \n",
       "1         True  \n",
       "2        False  \n",
       "3        False  \n",
       "4         True  \n",
       "5         True  \n",
       "6         True  \n",
       "7         True  \n",
       "8         True  \n",
       "9         True  "
      ]
     },
     "execution_count": 4,
     "metadata": {},
     "output_type": "execute_result"
    }
   ],
   "source": [
    "train_data.head(10)"
   ]
  },
  {
   "cell_type": "code",
   "execution_count": 5,
   "id": "81583662",
   "metadata": {
    "execution": {
     "iopub.execute_input": "2022-04-05T08:43:46.841353Z",
     "iopub.status.busy": "2022-04-05T08:43:46.840715Z",
     "iopub.status.idle": "2022-04-05T08:43:46.876840Z",
     "shell.execute_reply": "2022-04-05T08:43:46.877389Z",
     "shell.execute_reply.started": "2022-04-05T08:41:10.816819Z"
    },
    "papermill": {
     "duration": 0.120509,
     "end_time": "2022-04-05T08:43:46.877566",
     "exception": false,
     "start_time": "2022-04-05T08:43:46.757057",
     "status": "completed"
    },
    "tags": []
   },
   "outputs": [],
   "source": [
    "train_data[['Deck', 'Num', 'Side']] = train_data['Cabin'].str.split('/', expand=True)\n",
    "test_data[['Deck', 'Num', 'Side']] = test_data['Cabin'].str.split('/', expand=True)"
   ]
  },
  {
   "cell_type": "code",
   "execution_count": 6,
   "id": "5fbcb6a8",
   "metadata": {
    "execution": {
     "iopub.execute_input": "2022-04-05T08:43:47.068099Z",
     "iopub.status.busy": "2022-04-05T08:43:47.053483Z",
     "iopub.status.idle": "2022-04-05T08:43:47.079437Z",
     "shell.execute_reply": "2022-04-05T08:43:47.079960Z",
     "shell.execute_reply.started": "2022-04-05T08:41:10.857743Z"
    },
    "papermill": {
     "duration": 0.120862,
     "end_time": "2022-04-05T08:43:47.080141",
     "exception": false,
     "start_time": "2022-04-05T08:43:46.959279",
     "status": "completed"
    },
    "tags": []
   },
   "outputs": [
    {
     "data": {
      "text/html": [
       "<div>\n",
       "<style scoped>\n",
       "    .dataframe tbody tr th:only-of-type {\n",
       "        vertical-align: middle;\n",
       "    }\n",
       "\n",
       "    .dataframe tbody tr th {\n",
       "        vertical-align: top;\n",
       "    }\n",
       "\n",
       "    .dataframe thead th {\n",
       "        text-align: right;\n",
       "    }\n",
       "</style>\n",
       "<table border=\"1\" class=\"dataframe\">\n",
       "  <thead>\n",
       "    <tr style=\"text-align: right;\">\n",
       "      <th></th>\n",
       "      <th>PassengerId</th>\n",
       "      <th>HomePlanet</th>\n",
       "      <th>CryoSleep</th>\n",
       "      <th>Cabin</th>\n",
       "      <th>Destination</th>\n",
       "      <th>Age</th>\n",
       "      <th>VIP</th>\n",
       "      <th>RoomService</th>\n",
       "      <th>FoodCourt</th>\n",
       "      <th>ShoppingMall</th>\n",
       "      <th>Spa</th>\n",
       "      <th>VRDeck</th>\n",
       "      <th>Name</th>\n",
       "      <th>Transported</th>\n",
       "      <th>Deck</th>\n",
       "      <th>Num</th>\n",
       "      <th>Side</th>\n",
       "    </tr>\n",
       "  </thead>\n",
       "  <tbody>\n",
       "    <tr>\n",
       "      <th>0</th>\n",
       "      <td>0001_01</td>\n",
       "      <td>Europa</td>\n",
       "      <td>False</td>\n",
       "      <td>B/0/P</td>\n",
       "      <td>TRAPPIST-1e</td>\n",
       "      <td>39.0</td>\n",
       "      <td>False</td>\n",
       "      <td>0.0</td>\n",
       "      <td>0.0</td>\n",
       "      <td>0.0</td>\n",
       "      <td>0.0</td>\n",
       "      <td>0.0</td>\n",
       "      <td>Maham Ofracculy</td>\n",
       "      <td>False</td>\n",
       "      <td>B</td>\n",
       "      <td>0</td>\n",
       "      <td>P</td>\n",
       "    </tr>\n",
       "    <tr>\n",
       "      <th>1</th>\n",
       "      <td>0002_01</td>\n",
       "      <td>Earth</td>\n",
       "      <td>False</td>\n",
       "      <td>F/0/S</td>\n",
       "      <td>TRAPPIST-1e</td>\n",
       "      <td>24.0</td>\n",
       "      <td>False</td>\n",
       "      <td>109.0</td>\n",
       "      <td>9.0</td>\n",
       "      <td>25.0</td>\n",
       "      <td>549.0</td>\n",
       "      <td>44.0</td>\n",
       "      <td>Juanna Vines</td>\n",
       "      <td>True</td>\n",
       "      <td>F</td>\n",
       "      <td>0</td>\n",
       "      <td>S</td>\n",
       "    </tr>\n",
       "    <tr>\n",
       "      <th>2</th>\n",
       "      <td>0003_01</td>\n",
       "      <td>Europa</td>\n",
       "      <td>False</td>\n",
       "      <td>A/0/S</td>\n",
       "      <td>TRAPPIST-1e</td>\n",
       "      <td>58.0</td>\n",
       "      <td>True</td>\n",
       "      <td>43.0</td>\n",
       "      <td>3576.0</td>\n",
       "      <td>0.0</td>\n",
       "      <td>6715.0</td>\n",
       "      <td>49.0</td>\n",
       "      <td>Altark Susent</td>\n",
       "      <td>False</td>\n",
       "      <td>A</td>\n",
       "      <td>0</td>\n",
       "      <td>S</td>\n",
       "    </tr>\n",
       "    <tr>\n",
       "      <th>3</th>\n",
       "      <td>0003_02</td>\n",
       "      <td>Europa</td>\n",
       "      <td>False</td>\n",
       "      <td>A/0/S</td>\n",
       "      <td>TRAPPIST-1e</td>\n",
       "      <td>33.0</td>\n",
       "      <td>False</td>\n",
       "      <td>0.0</td>\n",
       "      <td>1283.0</td>\n",
       "      <td>371.0</td>\n",
       "      <td>3329.0</td>\n",
       "      <td>193.0</td>\n",
       "      <td>Solam Susent</td>\n",
       "      <td>False</td>\n",
       "      <td>A</td>\n",
       "      <td>0</td>\n",
       "      <td>S</td>\n",
       "    </tr>\n",
       "    <tr>\n",
       "      <th>4</th>\n",
       "      <td>0004_01</td>\n",
       "      <td>Earth</td>\n",
       "      <td>False</td>\n",
       "      <td>F/1/S</td>\n",
       "      <td>TRAPPIST-1e</td>\n",
       "      <td>16.0</td>\n",
       "      <td>False</td>\n",
       "      <td>303.0</td>\n",
       "      <td>70.0</td>\n",
       "      <td>151.0</td>\n",
       "      <td>565.0</td>\n",
       "      <td>2.0</td>\n",
       "      <td>Willy Santantines</td>\n",
       "      <td>True</td>\n",
       "      <td>F</td>\n",
       "      <td>1</td>\n",
       "      <td>S</td>\n",
       "    </tr>\n",
       "    <tr>\n",
       "      <th>5</th>\n",
       "      <td>0005_01</td>\n",
       "      <td>Earth</td>\n",
       "      <td>False</td>\n",
       "      <td>F/0/P</td>\n",
       "      <td>PSO J318.5-22</td>\n",
       "      <td>44.0</td>\n",
       "      <td>False</td>\n",
       "      <td>0.0</td>\n",
       "      <td>483.0</td>\n",
       "      <td>0.0</td>\n",
       "      <td>291.0</td>\n",
       "      <td>0.0</td>\n",
       "      <td>Sandie Hinetthews</td>\n",
       "      <td>True</td>\n",
       "      <td>F</td>\n",
       "      <td>0</td>\n",
       "      <td>P</td>\n",
       "    </tr>\n",
       "    <tr>\n",
       "      <th>6</th>\n",
       "      <td>0006_01</td>\n",
       "      <td>Earth</td>\n",
       "      <td>False</td>\n",
       "      <td>F/2/S</td>\n",
       "      <td>TRAPPIST-1e</td>\n",
       "      <td>26.0</td>\n",
       "      <td>False</td>\n",
       "      <td>42.0</td>\n",
       "      <td>1539.0</td>\n",
       "      <td>3.0</td>\n",
       "      <td>0.0</td>\n",
       "      <td>0.0</td>\n",
       "      <td>Billex Jacostaffey</td>\n",
       "      <td>True</td>\n",
       "      <td>F</td>\n",
       "      <td>2</td>\n",
       "      <td>S</td>\n",
       "    </tr>\n",
       "    <tr>\n",
       "      <th>7</th>\n",
       "      <td>0006_02</td>\n",
       "      <td>Earth</td>\n",
       "      <td>True</td>\n",
       "      <td>G/0/S</td>\n",
       "      <td>TRAPPIST-1e</td>\n",
       "      <td>28.0</td>\n",
       "      <td>False</td>\n",
       "      <td>0.0</td>\n",
       "      <td>0.0</td>\n",
       "      <td>0.0</td>\n",
       "      <td>0.0</td>\n",
       "      <td>NaN</td>\n",
       "      <td>Candra Jacostaffey</td>\n",
       "      <td>True</td>\n",
       "      <td>G</td>\n",
       "      <td>0</td>\n",
       "      <td>S</td>\n",
       "    </tr>\n",
       "    <tr>\n",
       "      <th>8</th>\n",
       "      <td>0007_01</td>\n",
       "      <td>Earth</td>\n",
       "      <td>False</td>\n",
       "      <td>F/3/S</td>\n",
       "      <td>TRAPPIST-1e</td>\n",
       "      <td>35.0</td>\n",
       "      <td>False</td>\n",
       "      <td>0.0</td>\n",
       "      <td>785.0</td>\n",
       "      <td>17.0</td>\n",
       "      <td>216.0</td>\n",
       "      <td>0.0</td>\n",
       "      <td>Andona Beston</td>\n",
       "      <td>True</td>\n",
       "      <td>F</td>\n",
       "      <td>3</td>\n",
       "      <td>S</td>\n",
       "    </tr>\n",
       "    <tr>\n",
       "      <th>9</th>\n",
       "      <td>0008_01</td>\n",
       "      <td>Europa</td>\n",
       "      <td>True</td>\n",
       "      <td>B/1/P</td>\n",
       "      <td>55 Cancri e</td>\n",
       "      <td>14.0</td>\n",
       "      <td>False</td>\n",
       "      <td>0.0</td>\n",
       "      <td>0.0</td>\n",
       "      <td>0.0</td>\n",
       "      <td>0.0</td>\n",
       "      <td>0.0</td>\n",
       "      <td>Erraiam Flatic</td>\n",
       "      <td>True</td>\n",
       "      <td>B</td>\n",
       "      <td>1</td>\n",
       "      <td>P</td>\n",
       "    </tr>\n",
       "    <tr>\n",
       "      <th>10</th>\n",
       "      <td>0008_02</td>\n",
       "      <td>Europa</td>\n",
       "      <td>True</td>\n",
       "      <td>B/1/P</td>\n",
       "      <td>TRAPPIST-1e</td>\n",
       "      <td>34.0</td>\n",
       "      <td>False</td>\n",
       "      <td>0.0</td>\n",
       "      <td>0.0</td>\n",
       "      <td>NaN</td>\n",
       "      <td>0.0</td>\n",
       "      <td>0.0</td>\n",
       "      <td>Altardr Flatic</td>\n",
       "      <td>True</td>\n",
       "      <td>B</td>\n",
       "      <td>1</td>\n",
       "      <td>P</td>\n",
       "    </tr>\n",
       "    <tr>\n",
       "      <th>11</th>\n",
       "      <td>0008_03</td>\n",
       "      <td>Europa</td>\n",
       "      <td>False</td>\n",
       "      <td>B/1/P</td>\n",
       "      <td>55 Cancri e</td>\n",
       "      <td>45.0</td>\n",
       "      <td>False</td>\n",
       "      <td>39.0</td>\n",
       "      <td>7295.0</td>\n",
       "      <td>589.0</td>\n",
       "      <td>110.0</td>\n",
       "      <td>124.0</td>\n",
       "      <td>Wezena Flatic</td>\n",
       "      <td>True</td>\n",
       "      <td>B</td>\n",
       "      <td>1</td>\n",
       "      <td>P</td>\n",
       "    </tr>\n",
       "    <tr>\n",
       "      <th>12</th>\n",
       "      <td>0009_01</td>\n",
       "      <td>Mars</td>\n",
       "      <td>False</td>\n",
       "      <td>F/1/P</td>\n",
       "      <td>TRAPPIST-1e</td>\n",
       "      <td>32.0</td>\n",
       "      <td>False</td>\n",
       "      <td>73.0</td>\n",
       "      <td>0.0</td>\n",
       "      <td>1123.0</td>\n",
       "      <td>0.0</td>\n",
       "      <td>113.0</td>\n",
       "      <td>Berers Barne</td>\n",
       "      <td>True</td>\n",
       "      <td>F</td>\n",
       "      <td>1</td>\n",
       "      <td>P</td>\n",
       "    </tr>\n",
       "    <tr>\n",
       "      <th>13</th>\n",
       "      <td>0010_01</td>\n",
       "      <td>Earth</td>\n",
       "      <td>False</td>\n",
       "      <td>G/1/S</td>\n",
       "      <td>TRAPPIST-1e</td>\n",
       "      <td>48.0</td>\n",
       "      <td>False</td>\n",
       "      <td>719.0</td>\n",
       "      <td>1.0</td>\n",
       "      <td>65.0</td>\n",
       "      <td>0.0</td>\n",
       "      <td>24.0</td>\n",
       "      <td>Reney Baketton</td>\n",
       "      <td>False</td>\n",
       "      <td>G</td>\n",
       "      <td>1</td>\n",
       "      <td>S</td>\n",
       "    </tr>\n",
       "    <tr>\n",
       "      <th>14</th>\n",
       "      <td>0011_01</td>\n",
       "      <td>Earth</td>\n",
       "      <td>False</td>\n",
       "      <td>F/2/P</td>\n",
       "      <td>TRAPPIST-1e</td>\n",
       "      <td>28.0</td>\n",
       "      <td>False</td>\n",
       "      <td>8.0</td>\n",
       "      <td>974.0</td>\n",
       "      <td>12.0</td>\n",
       "      <td>2.0</td>\n",
       "      <td>7.0</td>\n",
       "      <td>Elle Bertsontry</td>\n",
       "      <td>True</td>\n",
       "      <td>F</td>\n",
       "      <td>2</td>\n",
       "      <td>P</td>\n",
       "    </tr>\n",
       "    <tr>\n",
       "      <th>15</th>\n",
       "      <td>0012_01</td>\n",
       "      <td>Earth</td>\n",
       "      <td>False</td>\n",
       "      <td>NaN</td>\n",
       "      <td>TRAPPIST-1e</td>\n",
       "      <td>31.0</td>\n",
       "      <td>False</td>\n",
       "      <td>32.0</td>\n",
       "      <td>0.0</td>\n",
       "      <td>876.0</td>\n",
       "      <td>0.0</td>\n",
       "      <td>0.0</td>\n",
       "      <td>Justie Pooles</td>\n",
       "      <td>False</td>\n",
       "      <td>NaN</td>\n",
       "      <td>NaN</td>\n",
       "      <td>NaN</td>\n",
       "    </tr>\n",
       "    <tr>\n",
       "      <th>16</th>\n",
       "      <td>0014_01</td>\n",
       "      <td>Mars</td>\n",
       "      <td>False</td>\n",
       "      <td>F/3/P</td>\n",
       "      <td>55 Cancri e</td>\n",
       "      <td>27.0</td>\n",
       "      <td>False</td>\n",
       "      <td>1286.0</td>\n",
       "      <td>122.0</td>\n",
       "      <td>NaN</td>\n",
       "      <td>0.0</td>\n",
       "      <td>0.0</td>\n",
       "      <td>Flats Eccle</td>\n",
       "      <td>False</td>\n",
       "      <td>F</td>\n",
       "      <td>3</td>\n",
       "      <td>P</td>\n",
       "    </tr>\n",
       "    <tr>\n",
       "      <th>17</th>\n",
       "      <td>0015_01</td>\n",
       "      <td>Earth</td>\n",
       "      <td>False</td>\n",
       "      <td>F/4/P</td>\n",
       "      <td>55 Cancri e</td>\n",
       "      <td>24.0</td>\n",
       "      <td>False</td>\n",
       "      <td>0.0</td>\n",
       "      <td>1.0</td>\n",
       "      <td>0.0</td>\n",
       "      <td>0.0</td>\n",
       "      <td>637.0</td>\n",
       "      <td>Carry Hughriend</td>\n",
       "      <td>False</td>\n",
       "      <td>F</td>\n",
       "      <td>4</td>\n",
       "      <td>P</td>\n",
       "    </tr>\n",
       "    <tr>\n",
       "      <th>18</th>\n",
       "      <td>0016_01</td>\n",
       "      <td>Mars</td>\n",
       "      <td>True</td>\n",
       "      <td>F/5/P</td>\n",
       "      <td>TRAPPIST-1e</td>\n",
       "      <td>45.0</td>\n",
       "      <td>False</td>\n",
       "      <td>0.0</td>\n",
       "      <td>0.0</td>\n",
       "      <td>0.0</td>\n",
       "      <td>0.0</td>\n",
       "      <td>0.0</td>\n",
       "      <td>Alus Upead</td>\n",
       "      <td>True</td>\n",
       "      <td>F</td>\n",
       "      <td>5</td>\n",
       "      <td>P</td>\n",
       "    </tr>\n",
       "    <tr>\n",
       "      <th>19</th>\n",
       "      <td>0017_01</td>\n",
       "      <td>Earth</td>\n",
       "      <td>False</td>\n",
       "      <td>G/0/P</td>\n",
       "      <td>TRAPPIST-1e</td>\n",
       "      <td>0.0</td>\n",
       "      <td>False</td>\n",
       "      <td>0.0</td>\n",
       "      <td>0.0</td>\n",
       "      <td>0.0</td>\n",
       "      <td>0.0</td>\n",
       "      <td>0.0</td>\n",
       "      <td>Lyde Brighttt</td>\n",
       "      <td>True</td>\n",
       "      <td>G</td>\n",
       "      <td>0</td>\n",
       "      <td>P</td>\n",
       "    </tr>\n",
       "  </tbody>\n",
       "</table>\n",
       "</div>"
      ],
      "text/plain": [
       "   PassengerId HomePlanet CryoSleep  Cabin    Destination   Age    VIP  \\\n",
       "0      0001_01     Europa     False  B/0/P    TRAPPIST-1e  39.0  False   \n",
       "1      0002_01      Earth     False  F/0/S    TRAPPIST-1e  24.0  False   \n",
       "2      0003_01     Europa     False  A/0/S    TRAPPIST-1e  58.0   True   \n",
       "3      0003_02     Europa     False  A/0/S    TRAPPIST-1e  33.0  False   \n",
       "4      0004_01      Earth     False  F/1/S    TRAPPIST-1e  16.0  False   \n",
       "5      0005_01      Earth     False  F/0/P  PSO J318.5-22  44.0  False   \n",
       "6      0006_01      Earth     False  F/2/S    TRAPPIST-1e  26.0  False   \n",
       "7      0006_02      Earth      True  G/0/S    TRAPPIST-1e  28.0  False   \n",
       "8      0007_01      Earth     False  F/3/S    TRAPPIST-1e  35.0  False   \n",
       "9      0008_01     Europa      True  B/1/P    55 Cancri e  14.0  False   \n",
       "10     0008_02     Europa      True  B/1/P    TRAPPIST-1e  34.0  False   \n",
       "11     0008_03     Europa     False  B/1/P    55 Cancri e  45.0  False   \n",
       "12     0009_01       Mars     False  F/1/P    TRAPPIST-1e  32.0  False   \n",
       "13     0010_01      Earth     False  G/1/S    TRAPPIST-1e  48.0  False   \n",
       "14     0011_01      Earth     False  F/2/P    TRAPPIST-1e  28.0  False   \n",
       "15     0012_01      Earth     False    NaN    TRAPPIST-1e  31.0  False   \n",
       "16     0014_01       Mars     False  F/3/P    55 Cancri e  27.0  False   \n",
       "17     0015_01      Earth     False  F/4/P    55 Cancri e  24.0  False   \n",
       "18     0016_01       Mars      True  F/5/P    TRAPPIST-1e  45.0  False   \n",
       "19     0017_01      Earth     False  G/0/P    TRAPPIST-1e   0.0  False   \n",
       "\n",
       "    RoomService  FoodCourt  ShoppingMall     Spa  VRDeck                Name  \\\n",
       "0           0.0        0.0           0.0     0.0     0.0     Maham Ofracculy   \n",
       "1         109.0        9.0          25.0   549.0    44.0        Juanna Vines   \n",
       "2          43.0     3576.0           0.0  6715.0    49.0       Altark Susent   \n",
       "3           0.0     1283.0         371.0  3329.0   193.0        Solam Susent   \n",
       "4         303.0       70.0         151.0   565.0     2.0   Willy Santantines   \n",
       "5           0.0      483.0           0.0   291.0     0.0   Sandie Hinetthews   \n",
       "6          42.0     1539.0           3.0     0.0     0.0  Billex Jacostaffey   \n",
       "7           0.0        0.0           0.0     0.0     NaN  Candra Jacostaffey   \n",
       "8           0.0      785.0          17.0   216.0     0.0       Andona Beston   \n",
       "9           0.0        0.0           0.0     0.0     0.0      Erraiam Flatic   \n",
       "10          0.0        0.0           NaN     0.0     0.0      Altardr Flatic   \n",
       "11         39.0     7295.0         589.0   110.0   124.0       Wezena Flatic   \n",
       "12         73.0        0.0        1123.0     0.0   113.0        Berers Barne   \n",
       "13        719.0        1.0          65.0     0.0    24.0      Reney Baketton   \n",
       "14          8.0      974.0          12.0     2.0     7.0     Elle Bertsontry   \n",
       "15         32.0        0.0         876.0     0.0     0.0       Justie Pooles   \n",
       "16       1286.0      122.0           NaN     0.0     0.0         Flats Eccle   \n",
       "17          0.0        1.0           0.0     0.0   637.0     Carry Hughriend   \n",
       "18          0.0        0.0           0.0     0.0     0.0          Alus Upead   \n",
       "19          0.0        0.0           0.0     0.0     0.0       Lyde Brighttt   \n",
       "\n",
       "    Transported Deck  Num Side  \n",
       "0         False    B    0    P  \n",
       "1          True    F    0    S  \n",
       "2         False    A    0    S  \n",
       "3         False    A    0    S  \n",
       "4          True    F    1    S  \n",
       "5          True    F    0    P  \n",
       "6          True    F    2    S  \n",
       "7          True    G    0    S  \n",
       "8          True    F    3    S  \n",
       "9          True    B    1    P  \n",
       "10         True    B    1    P  \n",
       "11         True    B    1    P  \n",
       "12         True    F    1    P  \n",
       "13        False    G    1    S  \n",
       "14         True    F    2    P  \n",
       "15        False  NaN  NaN  NaN  \n",
       "16        False    F    3    P  \n",
       "17        False    F    4    P  \n",
       "18         True    F    5    P  \n",
       "19         True    G    0    P  "
      ]
     },
     "execution_count": 6,
     "metadata": {},
     "output_type": "execute_result"
    }
   ],
   "source": [
    "train_data.head(20)"
   ]
  },
  {
   "cell_type": "markdown",
   "id": "37f6a708",
   "metadata": {
    "papermill": {
     "duration": 0.082517,
     "end_time": "2022-04-05T08:43:47.247287",
     "exception": false,
     "start_time": "2022-04-05T08:43:47.164770",
     "status": "completed"
    },
    "tags": []
   },
   "source": [
    "- train_data에 대해 살펴본다. \n",
    "- 먼저, 결측치가 있는 코드들이 있지만, 전체적으로 많은 편은 아님. \n",
    "- bool(1), float64(6), object(10)개로 구성이 되어 있음. "
   ]
  },
  {
   "cell_type": "code",
   "execution_count": 7,
   "id": "d7d55c94",
   "metadata": {
    "execution": {
     "iopub.execute_input": "2022-04-05T08:43:47.426829Z",
     "iopub.status.busy": "2022-04-05T08:43:47.417681Z",
     "iopub.status.idle": "2022-04-05T08:43:47.448325Z",
     "shell.execute_reply": "2022-04-05T08:43:47.449240Z",
     "shell.execute_reply.started": "2022-04-05T08:41:10.900522Z"
    },
    "papermill": {
     "duration": 0.119508,
     "end_time": "2022-04-05T08:43:47.449479",
     "exception": false,
     "start_time": "2022-04-05T08:43:47.329971",
     "status": "completed"
    },
    "tags": []
   },
   "outputs": [
    {
     "name": "stdout",
     "output_type": "stream",
     "text": [
      "<class 'pandas.core.frame.DataFrame'>\n",
      "RangeIndex: 8693 entries, 0 to 8692\n",
      "Data columns (total 17 columns):\n",
      " #   Column        Non-Null Count  Dtype  \n",
      "---  ------        --------------  -----  \n",
      " 0   PassengerId   8693 non-null   object \n",
      " 1   HomePlanet    8492 non-null   object \n",
      " 2   CryoSleep     8476 non-null   object \n",
      " 3   Cabin         8494 non-null   object \n",
      " 4   Destination   8511 non-null   object \n",
      " 5   Age           8514 non-null   float64\n",
      " 6   VIP           8490 non-null   object \n",
      " 7   RoomService   8512 non-null   float64\n",
      " 8   FoodCourt     8510 non-null   float64\n",
      " 9   ShoppingMall  8485 non-null   float64\n",
      " 10  Spa           8510 non-null   float64\n",
      " 11  VRDeck        8505 non-null   float64\n",
      " 12  Name          8493 non-null   object \n",
      " 13  Transported   8693 non-null   bool   \n",
      " 14  Deck          8494 non-null   object \n",
      " 15  Num           8494 non-null   object \n",
      " 16  Side          8494 non-null   object \n",
      "dtypes: bool(1), float64(6), object(10)\n",
      "memory usage: 1.1+ MB\n"
     ]
    }
   ],
   "source": [
    "train_data.info()"
   ]
  },
  {
   "cell_type": "markdown",
   "id": "056ac3dc",
   "metadata": {
    "papermill": {
     "duration": 0.082711,
     "end_time": "2022-04-05T08:43:47.616218",
     "exception": false,
     "start_time": "2022-04-05T08:43:47.533507",
     "status": "completed"
    },
    "tags": []
   },
   "source": [
    "- 테스트 데이터도 마찬가지로 비슷한 양상을 나타냄. "
   ]
  },
  {
   "cell_type": "code",
   "execution_count": 8,
   "id": "e460fc11",
   "metadata": {
    "execution": {
     "iopub.execute_input": "2022-04-05T08:43:47.787806Z",
     "iopub.status.busy": "2022-04-05T08:43:47.787202Z",
     "iopub.status.idle": "2022-04-05T08:43:47.801985Z",
     "shell.execute_reply": "2022-04-05T08:43:47.802467Z",
     "shell.execute_reply.started": "2022-04-05T08:41:10.927197Z"
    },
    "papermill": {
     "duration": 0.103385,
     "end_time": "2022-04-05T08:43:47.802643",
     "exception": false,
     "start_time": "2022-04-05T08:43:47.699258",
     "status": "completed"
    },
    "tags": []
   },
   "outputs": [
    {
     "name": "stdout",
     "output_type": "stream",
     "text": [
      "<class 'pandas.core.frame.DataFrame'>\n",
      "RangeIndex: 4277 entries, 0 to 4276\n",
      "Data columns (total 16 columns):\n",
      " #   Column        Non-Null Count  Dtype  \n",
      "---  ------        --------------  -----  \n",
      " 0   PassengerId   4277 non-null   object \n",
      " 1   HomePlanet    4190 non-null   object \n",
      " 2   CryoSleep     4184 non-null   object \n",
      " 3   Cabin         4177 non-null   object \n",
      " 4   Destination   4185 non-null   object \n",
      " 5   Age           4186 non-null   float64\n",
      " 6   VIP           4184 non-null   object \n",
      " 7   RoomService   4195 non-null   float64\n",
      " 8   FoodCourt     4171 non-null   float64\n",
      " 9   ShoppingMall  4179 non-null   float64\n",
      " 10  Spa           4176 non-null   float64\n",
      " 11  VRDeck        4197 non-null   float64\n",
      " 12  Name          4183 non-null   object \n",
      " 13  Deck          4177 non-null   object \n",
      " 14  Num           4177 non-null   object \n",
      " 15  Side          4177 non-null   object \n",
      "dtypes: float64(6), object(10)\n",
      "memory usage: 534.8+ KB\n"
     ]
    }
   ],
   "source": [
    "test_data.info()"
   ]
  },
  {
   "cell_type": "markdown",
   "id": "75c30a34",
   "metadata": {
    "papermill": {
     "duration": 0.082858,
     "end_time": "2022-04-05T08:43:47.968791",
     "exception": false,
     "start_time": "2022-04-05T08:43:47.885933",
     "status": "completed"
    },
    "tags": []
   },
   "source": [
    "- 예측해야 할 종속변수는 Transported 인 것으로 확인됨. "
   ]
  },
  {
   "cell_type": "code",
   "execution_count": 9,
   "id": "cf67d8c3",
   "metadata": {
    "execution": {
     "iopub.execute_input": "2022-04-05T08:43:48.148591Z",
     "iopub.status.busy": "2022-04-05T08:43:48.139076Z",
     "iopub.status.idle": "2022-04-05T08:43:48.151345Z",
     "shell.execute_reply": "2022-04-05T08:43:48.150700Z",
     "shell.execute_reply.started": "2022-04-05T08:41:10.952907Z"
    },
    "papermill": {
     "duration": 0.0985,
     "end_time": "2022-04-05T08:43:48.151483",
     "exception": false,
     "start_time": "2022-04-05T08:43:48.052983",
     "status": "completed"
    },
    "tags": []
   },
   "outputs": [
    {
     "name": "stdout",
     "output_type": "stream",
     "text": [
      "<class 'pandas.core.frame.DataFrame'>\n",
      "RangeIndex: 4277 entries, 0 to 4276\n",
      "Data columns (total 2 columns):\n",
      " #   Column       Non-Null Count  Dtype \n",
      "---  ------       --------------  ----- \n",
      " 0   PassengerId  4277 non-null   object\n",
      " 1   Transported  4277 non-null   bool  \n",
      "dtypes: bool(1), object(1)\n",
      "memory usage: 37.7+ KB\n"
     ]
    }
   ],
   "source": [
    "sample_submission.info()"
   ]
  },
  {
   "cell_type": "markdown",
   "id": "5dfd5100",
   "metadata": {
    "papermill": {
     "duration": 0.08431,
     "end_time": "2022-04-05T08:43:48.320239",
     "exception": false,
     "start_time": "2022-04-05T08:43:48.235929",
     "status": "completed"
    },
    "tags": []
   },
   "source": [
    "- 데이터 컬럼 확인\n",
    "    + 각 데이터의 특성을 파악하기 위해서는 해당 설명서를 참조하는 것이 좋음. \n",
    "    + 출처 : https://www.kaggle.com/competitions/spaceship-titanic/data\n",
    "- 본 포스트에서는 추가 설명은 생략함. "
   ]
  },
  {
   "cell_type": "markdown",
   "id": "23347a41",
   "metadata": {
    "papermill": {
     "duration": 0.085089,
     "end_time": "2022-04-05T08:43:48.490390",
     "exception": false,
     "start_time": "2022-04-05T08:43:48.405301",
     "status": "completed"
    },
    "tags": []
   },
   "source": [
    "- 대회주제\n",
    "    + Transported Column 설명을 보면, 다른 차원으로 이동하기 위한, 각 승객의 탑승을 했는지 못했는지를 예측하는 문제이며, 평가지표는 정확도로 판정함.\n",
    "- 분류 정확도(Classification Accuracy)의 설명은 [Classification Accuracy](https://developers.google.com/machine-learning/crash-course/classification/accuracy)에서 확인할 수 있다. "
   ]
  },
  {
   "cell_type": "markdown",
   "id": "d2c47a94",
   "metadata": {
    "papermill": {
     "duration": 0.084212,
     "end_time": "2022-04-05T08:43:48.659007",
     "exception": false,
     "start_time": "2022-04-05T08:43:48.574795",
     "status": "completed"
    },
    "tags": []
   },
   "source": [
    "# Step 2. 탐색적 자료 분석 (EDA)\n",
    "- 데이터 시각화\n",
    "- 산점도, 막대 그래프 등\n",
    "- 그래프 해석해서 설명을 달아야 함\n",
    "- 약간의 데이터 전처리"
   ]
  },
  {
   "cell_type": "markdown",
   "id": "55e0648f",
   "metadata": {
    "papermill": {
     "duration": 0.08493,
     "end_time": "2022-04-05T08:43:48.831760",
     "exception": false,
     "start_time": "2022-04-05T08:43:48.746830",
     "status": "completed"
    },
    "tags": []
   },
   "source": [
    "## 데이터 시각화를 위한 주요 함수 작성\n",
    "- 훈련데이터의 구조는 다음과 같다. \n",
    "    + dtypes: bool(1), float64(6), object(10)\n",
    "- 우선, 종속변수인 bool의 갯수에 대해 확인한다. \n",
    "- 갯수로 파악할 때는 비율은 큰 차이가 없는 것으로 확인했다. 즉, 데이터는 매우 균등하게 구성이 된 것이다. \n",
    "- 추가적으로 Deck, Num, Side에 대해 파악한다"
   ]
  },
  {
   "cell_type": "code",
   "execution_count": 10,
   "id": "3216687f",
   "metadata": {
    "execution": {
     "iopub.execute_input": "2022-04-05T08:43:49.011659Z",
     "iopub.status.busy": "2022-04-05T08:43:49.010990Z",
     "iopub.status.idle": "2022-04-05T08:43:49.013998Z",
     "shell.execute_reply": "2022-04-05T08:43:49.014496Z",
     "shell.execute_reply.started": "2022-04-05T08:41:10.969003Z"
    },
    "papermill": {
     "duration": 0.096586,
     "end_time": "2022-04-05T08:43:49.014665",
     "exception": false,
     "start_time": "2022-04-05T08:43:48.918079",
     "status": "completed"
    },
    "tags": []
   },
   "outputs": [
    {
     "data": {
      "text/plain": [
       "True     4378\n",
       "False    4315\n",
       "Name: Transported, dtype: int64"
      ]
     },
     "execution_count": 10,
     "metadata": {},
     "output_type": "execute_result"
    }
   ],
   "source": [
    "train_data['Transported'].value_counts()"
   ]
  },
  {
   "cell_type": "code",
   "execution_count": 11,
   "id": "e13adef5",
   "metadata": {
    "execution": {
     "iopub.execute_input": "2022-04-05T08:43:49.190196Z",
     "iopub.status.busy": "2022-04-05T08:43:49.189523Z",
     "iopub.status.idle": "2022-04-05T08:43:49.198281Z",
     "shell.execute_reply": "2022-04-05T08:43:49.198909Z",
     "shell.execute_reply.started": "2022-04-05T08:41:10.981511Z"
    },
    "papermill": {
     "duration": 0.098153,
     "end_time": "2022-04-05T08:43:49.199085",
     "exception": false,
     "start_time": "2022-04-05T08:43:49.100932",
     "status": "completed"
    },
    "tags": []
   },
   "outputs": [
    {
     "data": {
      "text/plain": [
       "False    5439\n",
       "True     3037\n",
       "Name: CryoSleep, dtype: int64"
      ]
     },
     "execution_count": 11,
     "metadata": {},
     "output_type": "execute_result"
    }
   ],
   "source": [
    "train_data['CryoSleep'].value_counts()"
   ]
  },
  {
   "cell_type": "code",
   "execution_count": 12,
   "id": "83f4b302",
   "metadata": {
    "execution": {
     "iopub.execute_input": "2022-04-05T08:43:49.374810Z",
     "iopub.status.busy": "2022-04-05T08:43:49.373834Z",
     "iopub.status.idle": "2022-04-05T08:43:49.382023Z",
     "shell.execute_reply": "2022-04-05T08:43:49.382600Z",
     "shell.execute_reply.started": "2022-04-05T08:41:10.994692Z"
    },
    "papermill": {
     "duration": 0.098206,
     "end_time": "2022-04-05T08:43:49.382767",
     "exception": false,
     "start_time": "2022-04-05T08:43:49.284561",
     "status": "completed"
    },
    "tags": []
   },
   "outputs": [
    {
     "data": {
      "text/plain": [
       "F    2794\n",
       "G    2559\n",
       "E     876\n",
       "B     779\n",
       "C     747\n",
       "D     478\n",
       "A     256\n",
       "T       5\n",
       "Name: Deck, dtype: int64"
      ]
     },
     "execution_count": 12,
     "metadata": {},
     "output_type": "execute_result"
    }
   ],
   "source": [
    "train_data['Deck'].value_counts()"
   ]
  },
  {
   "cell_type": "code",
   "execution_count": 13,
   "id": "d1baca88",
   "metadata": {
    "execution": {
     "iopub.execute_input": "2022-04-05T08:43:49.561382Z",
     "iopub.status.busy": "2022-04-05T08:43:49.560426Z",
     "iopub.status.idle": "2022-04-05T08:43:49.570845Z",
     "shell.execute_reply": "2022-04-05T08:43:49.571448Z",
     "shell.execute_reply.started": "2022-04-05T08:41:11.005735Z"
    },
    "papermill": {
     "duration": 0.100379,
     "end_time": "2022-04-05T08:43:49.571616",
     "exception": false,
     "start_time": "2022-04-05T08:43:49.471237",
     "status": "completed"
    },
    "tags": []
   },
   "outputs": [
    {
     "data": {
      "text/plain": [
       "82      28\n",
       "86      22\n",
       "19      22\n",
       "56      21\n",
       "176     21\n",
       "        ..\n",
       "1644     1\n",
       "1515     1\n",
       "1639     1\n",
       "1277     1\n",
       "1894     1\n",
       "Name: Num, Length: 1817, dtype: int64"
      ]
     },
     "execution_count": 13,
     "metadata": {},
     "output_type": "execute_result"
    }
   ],
   "source": [
    "train_data['Num'].value_counts()"
   ]
  },
  {
   "cell_type": "code",
   "execution_count": 14,
   "id": "6596ad35",
   "metadata": {
    "execution": {
     "iopub.execute_input": "2022-04-05T08:43:49.748715Z",
     "iopub.status.busy": "2022-04-05T08:43:49.747741Z",
     "iopub.status.idle": "2022-04-05T08:43:49.756282Z",
     "shell.execute_reply": "2022-04-05T08:43:49.756740Z",
     "shell.execute_reply.started": "2022-04-05T08:41:11.020255Z"
    },
    "papermill": {
     "duration": 0.099448,
     "end_time": "2022-04-05T08:43:49.756951",
     "exception": false,
     "start_time": "2022-04-05T08:43:49.657503",
     "status": "completed"
    },
    "tags": []
   },
   "outputs": [
    {
     "data": {
      "text/plain": [
       "S    4288\n",
       "P    4206\n",
       "Name: Side, dtype: int64"
      ]
     },
     "execution_count": 14,
     "metadata": {},
     "output_type": "execute_result"
    }
   ],
   "source": [
    "train_data['Side'].value_counts()"
   ]
  },
  {
   "cell_type": "code",
   "execution_count": 15,
   "id": "b46c1902",
   "metadata": {
    "execution": {
     "iopub.execute_input": "2022-04-05T08:43:49.941713Z",
     "iopub.status.busy": "2022-04-05T08:43:49.932091Z",
     "iopub.status.idle": "2022-04-05T08:43:49.943670Z",
     "shell.execute_reply": "2022-04-05T08:43:49.944256Z",
     "shell.execute_reply.started": "2022-04-05T08:41:11.036072Z"
    },
    "papermill": {
     "duration": 0.100647,
     "end_time": "2022-04-05T08:43:49.944442",
     "exception": false,
     "start_time": "2022-04-05T08:43:49.843795",
     "status": "completed"
    },
    "tags": []
   },
   "outputs": [],
   "source": [
    "def cnt_bar(data, col_name):\n",
    "    df = data[col_name].value_counts()\n",
    "    fig, ax = plt.subplots(figsize=(10, 8))\n",
    "    labels = [str(item) for item in list(data[col_name].value_counts().index)]\n",
    "    bars = sns.countplot(x=col_name, data=data, color='lightgray', alpha=0.85, zorder=2, ax=ax)\n",
    "    \n",
    "    for bar in bars.patches:\n",
    "        fontweight = \"normal\"\n",
    "        color = \"k\"\n",
    "        height = np.round(bar.get_height(), 2)\n",
    "        if bar.get_height() == data[col_name].value_counts().values[0]:\n",
    "            fontweight=\"bold\"\n",
    "            color=\"orange\"\n",
    "            bar.set_facecolor(color)\n",
    "        ax.text(bar.get_x() + bar.get_width()/2., height+100, height+1, ha = 'center', size=12, fontweight=fontweight, color=color)\n",
    "    ax.set_title(f'Bar Graph of {col_name}', size = 16)\n",
    "    ax.set_xlabel(col_name, size = 16)\n",
    "    ax.set_ylabel(\"No. Passengers\", size = 16)\n",
    "\n",
    "    ax.spines['top'].set_visible(False)\n",
    "    ax.spines['left'].set_position((\"outward\", 20))\n",
    "    ax.spines['left'].set_visible(False)\n",
    "    ax.spines['right'].set_visible(False)\n",
    "\n",
    "    ax.grid(axis=\"y\", which=\"major\", color=\"lightgray\")\n",
    "    ax.grid(axis=\"y\", which=\"minor\", ls=\":\")\n",
    "    \n",
    "    plt.show()"
   ]
  },
  {
   "cell_type": "code",
   "execution_count": 16,
   "id": "235e84ae",
   "metadata": {
    "execution": {
     "iopub.execute_input": "2022-04-05T08:43:50.125047Z",
     "iopub.status.busy": "2022-04-05T08:43:50.121003Z",
     "iopub.status.idle": "2022-04-05T08:43:50.126774Z",
     "shell.execute_reply": "2022-04-05T08:43:50.127321Z",
     "shell.execute_reply.started": "2022-04-05T08:41:11.052080Z"
    },
    "papermill": {
     "duration": 0.095891,
     "end_time": "2022-04-05T08:43:50.127498",
     "exception": false,
     "start_time": "2022-04-05T08:43:50.031607",
     "status": "completed"
    },
    "tags": []
   },
   "outputs": [],
   "source": [
    "def cnt_donut(data, col_name):\n",
    "    fig = go.Figure(data=[go.Pie(labels=data[col_name], hole=0.5)])\n",
    "    fig.add_annotation(text=col_name,\n",
    "                      x=0.5,y=0.5,showarrow=False,font_size=20,opacity=0.4)\n",
    "    fig.update_layout(\n",
    "        legend=dict(orientation='v',traceorder='reversed'),\n",
    "        hoverlabel=dict(bgcolor='white'))\n",
    "    fig.update_traces(textposition='outside', textinfo='percent+label')\n",
    "    fig.show()"
   ]
  },
  {
   "cell_type": "markdown",
   "id": "1a5b52d4",
   "metadata": {
    "papermill": {
     "duration": 0.085691,
     "end_time": "2022-04-05T08:43:50.299761",
     "exception": false,
     "start_time": "2022-04-05T08:43:50.214070",
     "status": "completed"
    },
    "tags": []
   },
   "source": [
    "- 이제 함수를 적용해본다. \n",
    "    + Cabin이나, PassengerID 등에는 적용할 수 없다. "
   ]
  },
  {
   "cell_type": "code",
   "execution_count": 17,
   "id": "2378b9f7",
   "metadata": {
    "execution": {
     "iopub.execute_input": "2022-04-05T08:43:50.478329Z",
     "iopub.status.busy": "2022-04-05T08:43:50.477660Z",
     "iopub.status.idle": "2022-04-05T08:43:50.664793Z",
     "shell.execute_reply": "2022-04-05T08:43:50.665349Z",
     "shell.execute_reply.started": "2022-04-05T08:41:11.063830Z"
    },
    "papermill": {
     "duration": 0.27855,
     "end_time": "2022-04-05T08:43:50.665527",
     "exception": false,
     "start_time": "2022-04-05T08:43:50.386977",
     "status": "completed"
    },
    "tags": []
   },
   "outputs": [
    {
     "data": {
      "text/html": [
       "        <script type=\"text/javascript\">\n",
       "        window.PlotlyConfig = {MathJaxConfig: 'local'};\n",
       "        if (window.MathJax) {MathJax.Hub.Config({SVG: {font: \"STIX-Web\"}});}\n",
       "        if (typeof require !== 'undefined') {\n",
       "        require.undef(\"plotly\");\n",
       "        requirejs.config({\n",
       "            paths: {\n",
       "                'plotly': ['https://cdn.plot.ly/plotly-2.9.0.min']\n",
       "            }\n",
       "        });\n",
       "        require(['plotly'], function(Plotly) {\n",
       "            window._Plotly = Plotly;\n",
       "        });\n",
       "        }\n",
       "        </script>\n",
       "        "
      ]
     },
     "metadata": {},
     "output_type": "display_data"
    },
    {
     "data": {
      "text/html": [
       "<div>                            <div id=\"5d729c48-69ca-4866-822f-407f27ff7e8a\" class=\"plotly-graph-div\" style=\"height:525px; width:100%;\"></div>            <script type=\"text/javascript\">                require([\"plotly\"], function(Plotly) {                    window.PLOTLYENV=window.PLOTLYENV || {};                                    if (document.getElementById(\"5d729c48-69ca-4866-822f-407f27ff7e8a\")) {                    Plotly.newPlot(                        \"5d729c48-69ca-4866-822f-407f27ff7e8a\",                        [{\"hole\":0.5,\"labels\":[\"TRAPPIST-1e\",\"TRAPPIST-1e\",\"TRAPPIST-1e\",\"TRAPPIST-1e\",\"TRAPPIST-1e\",\"PSO J318.5-22\",\"TRAPPIST-1e\",\"TRAPPIST-1e\",\"TRAPPIST-1e\",\"55 Cancri e\",\"TRAPPIST-1e\",\"55 Cancri e\",\"TRAPPIST-1e\",\"TRAPPIST-1e\",\"TRAPPIST-1e\",\"TRAPPIST-1e\",\"55 Cancri e\",\"55 Cancri e\",\"TRAPPIST-1e\",\"TRAPPIST-1e\",\"55 Cancri e\",\"TRAPPIST-1e\",\"55 Cancri e\",\"55 Cancri e\",\"TRAPPIST-1e\",\"PSO J318.5-22\",\"TRAPPIST-1e\",\"TRAPPIST-1e\",\"TRAPPIST-1e\",\"TRAPPIST-1e\",\"55 Cancri e\",\"TRAPPIST-1e\",\"TRAPPIST-1e\",\"TRAPPIST-1e\",\"TRAPPIST-1e\",\"TRAPPIST-1e\",\"55 Cancri e\",\"55 Cancri e\",\"55 Cancri e\",\"55 Cancri e\",\"55 Cancri e\",\"TRAPPIST-1e\",\"TRAPPIST-1e\",\"TRAPPIST-1e\",\"55 Cancri e\",\"PSO J318.5-22\",\"TRAPPIST-1e\",null,\"55 Cancri e\",\"TRAPPIST-1e\",\"TRAPPIST-1e\",\"TRAPPIST-1e\",\"TRAPPIST-1e\",\"TRAPPIST-1e\",\"TRAPPIST-1e\",\"PSO J318.5-22\",\"TRAPPIST-1e\",\"TRAPPIST-1e\",\"TRAPPIST-1e\",\"TRAPPIST-1e\",\"TRAPPIST-1e\",\"PSO J318.5-22\",\"TRAPPIST-1e\",\"55 Cancri e\",\"TRAPPIST-1e\",\"TRAPPIST-1e\",\"TRAPPIST-1e\",\"TRAPPIST-1e\",\"TRAPPIST-1e\",\"PSO J318.5-22\",\"TRAPPIST-1e\",\"TRAPPIST-1e\",\"TRAPPIST-1e\",\"TRAPPIST-1e\",\"TRAPPIST-1e\",\"TRAPPIST-1e\",\"TRAPPIST-1e\",\"TRAPPIST-1e\",\"TRAPPIST-1e\",\"TRAPPIST-1e\",\"TRAPPIST-1e\",\"PSO J318.5-22\",\"TRAPPIST-1e\",\"TRAPPIST-1e\",\"TRAPPIST-1e\",\"TRAPPIST-1e\",\"TRAPPIST-1e\",\"TRAPPIST-1e\",\"TRAPPIST-1e\",\"TRAPPIST-1e\",\"TRAPPIST-1e\",\"PSO J318.5-22\",\"TRAPPIST-1e\",\"TRAPPIST-1e\",\"TRAPPIST-1e\",\"TRAPPIST-1e\",\"55 Cancri e\",\"TRAPPIST-1e\",\"TRAPPIST-1e\",\"TRAPPIST-1e\",\"TRAPPIST-1e\",\"TRAPPIST-1e\",\"TRAPPIST-1e\",\"TRAPPIST-1e\",\"TRAPPIST-1e\",\"TRAPPIST-1e\",\"TRAPPIST-1e\",\"TRAPPIST-1e\",\"55 Cancri e\",\"TRAPPIST-1e\",\"TRAPPIST-1e\",\"TRAPPIST-1e\",\"TRAPPIST-1e\",\"TRAPPIST-1e\",\"TRAPPIST-1e\",\"TRAPPIST-1e\",\"TRAPPIST-1e\",\"TRAPPIST-1e\",\"TRAPPIST-1e\",\"TRAPPIST-1e\",\"TRAPPIST-1e\",\"TRAPPIST-1e\",\"PSO J318.5-22\",\"TRAPPIST-1e\",\"TRAPPIST-1e\",\"TRAPPIST-1e\",\"PSO J318.5-22\",\"TRAPPIST-1e\",null,\"55 Cancri e\",\"TRAPPIST-1e\",\"TRAPPIST-1e\",\"TRAPPIST-1e\",\"TRAPPIST-1e\",\"TRAPPIST-1e\",\"TRAPPIST-1e\",\"TRAPPIST-1e\",\"55 Cancri e\",\"55 Cancri e\",null,\"TRAPPIST-1e\",\"TRAPPIST-1e\",\"TRAPPIST-1e\",\"TRAPPIST-1e\",\"PSO J318.5-22\",\"TRAPPIST-1e\",\"TRAPPIST-1e\",\"TRAPPIST-1e\",\"TRAPPIST-1e\",\"TRAPPIST-1e\",\"PSO J318.5-22\",\"TRAPPIST-1e\",\"TRAPPIST-1e\",\"55 Cancri e\",\"TRAPPIST-1e\",\"TRAPPIST-1e\",\"TRAPPIST-1e\",\"TRAPPIST-1e\",\"TRAPPIST-1e\",\"TRAPPIST-1e\",\"TRAPPIST-1e\",\"TRAPPIST-1e\",\"TRAPPIST-1e\",\"TRAPPIST-1e\",\"55 Cancri e\",\"55 Cancri e\",\"TRAPPIST-1e\",\"TRAPPIST-1e\",\"TRAPPIST-1e\",\"TRAPPIST-1e\",\"TRAPPIST-1e\",\"TRAPPIST-1e\",\"TRAPPIST-1e\",\"PSO J318.5-22\",\"TRAPPIST-1e\",\"PSO J318.5-22\",\"TRAPPIST-1e\",\"TRAPPIST-1e\",\"TRAPPIST-1e\",\"TRAPPIST-1e\",\"55 Cancri e\",\"55 Cancri e\",\"TRAPPIST-1e\",\"TRAPPIST-1e\",\"55 Cancri e\",\"PSO J318.5-22\",\"55 Cancri e\",\"TRAPPIST-1e\",\"TRAPPIST-1e\",\"TRAPPIST-1e\",\"TRAPPIST-1e\",\"TRAPPIST-1e\",\"TRAPPIST-1e\",\"55 Cancri e\",\"TRAPPIST-1e\",\"TRAPPIST-1e\",\"TRAPPIST-1e\",\"TRAPPIST-1e\",\"TRAPPIST-1e\",\"TRAPPIST-1e\",\"TRAPPIST-1e\",\"55 Cancri e\",\"TRAPPIST-1e\",\"55 Cancri e\",\"TRAPPIST-1e\",\"TRAPPIST-1e\",\"TRAPPIST-1e\",\"TRAPPIST-1e\",\"TRAPPIST-1e\",\"TRAPPIST-1e\",\"TRAPPIST-1e\",\"TRAPPIST-1e\",\"TRAPPIST-1e\",\"TRAPPIST-1e\",\"TRAPPIST-1e\",\"PSO J318.5-22\",\"TRAPPIST-1e\",\"TRAPPIST-1e\",\"PSO J318.5-22\",\"TRAPPIST-1e\",\"TRAPPIST-1e\",\"TRAPPIST-1e\",\"TRAPPIST-1e\",\"TRAPPIST-1e\",\"55 Cancri e\",\"TRAPPIST-1e\",\"TRAPPIST-1e\",\"TRAPPIST-1e\",\"55 Cancri e\",\"55 Cancri e\",\"TRAPPIST-1e\",\"TRAPPIST-1e\",\"TRAPPIST-1e\",\"PSO J318.5-22\",\"55 Cancri e\",\"TRAPPIST-1e\",\"TRAPPIST-1e\",\"TRAPPIST-1e\",\"TRAPPIST-1e\",\"55 Cancri e\",\"TRAPPIST-1e\",\"TRAPPIST-1e\",\"TRAPPIST-1e\",\"TRAPPIST-1e\",\"TRAPPIST-1e\",\"TRAPPIST-1e\",\"TRAPPIST-1e\",\"55 Cancri e\",\"TRAPPIST-1e\",\"55 Cancri e\",\"55 Cancri e\",\"TRAPPIST-1e\",\"TRAPPIST-1e\",\"TRAPPIST-1e\",\"TRAPPIST-1e\",\"PSO J318.5-22\",\"TRAPPIST-1e\",\"TRAPPIST-1e\",\"55 Cancri e\",\"55 Cancri e\",\"55 Cancri e\",\"TRAPPIST-1e\",\"55 Cancri e\",\"55 Cancri e\",\"55 Cancri e\",\"TRAPPIST-1e\",\"TRAPPIST-1e\",\"55 Cancri e\",\"TRAPPIST-1e\",\"TRAPPIST-1e\",\"TRAPPIST-1e\",\"55 Cancri e\",\"TRAPPIST-1e\",\"TRAPPIST-1e\",\"TRAPPIST-1e\",\"TRAPPIST-1e\",\"55 Cancri e\",\"TRAPPIST-1e\",\"TRAPPIST-1e\",\"TRAPPIST-1e\",\"TRAPPIST-1e\",\"PSO J318.5-22\",\"55 Cancri e\",\"55 Cancri e\",\"55 Cancri e\",\"55 Cancri e\",\"PSO J318.5-22\",\"TRAPPIST-1e\",\"TRAPPIST-1e\",\"TRAPPIST-1e\",\"TRAPPIST-1e\",\"TRAPPIST-1e\",\"PSO J318.5-22\",\"55 Cancri e\",\"TRAPPIST-1e\",\"TRAPPIST-1e\",\"TRAPPIST-1e\",\"TRAPPIST-1e\",\"TRAPPIST-1e\",\"TRAPPIST-1e\",\"55 Cancri e\",\"TRAPPIST-1e\",\"TRAPPIST-1e\",\"55 Cancri e\",\"TRAPPIST-1e\",\"55 Cancri e\",\"TRAPPIST-1e\",\"55 Cancri e\",\"PSO J318.5-22\",\"PSO J318.5-22\",\"TRAPPIST-1e\",\"55 Cancri e\",\"TRAPPIST-1e\",\"TRAPPIST-1e\",\"TRAPPIST-1e\",\"PSO J318.5-22\",\"TRAPPIST-1e\",\"TRAPPIST-1e\",\"55 Cancri e\",\"TRAPPIST-1e\",\"TRAPPIST-1e\",\"PSO J318.5-22\",\"PSO J318.5-22\",\"TRAPPIST-1e\",\"55 Cancri e\",\"55 Cancri e\",\"TRAPPIST-1e\",\"TRAPPIST-1e\",\"TRAPPIST-1e\",\"TRAPPIST-1e\",\"TRAPPIST-1e\",\"TRAPPIST-1e\",\"TRAPPIST-1e\",\"TRAPPIST-1e\",\"TRAPPIST-1e\",\"55 Cancri e\",\"55 Cancri e\",\"55 Cancri e\",\"TRAPPIST-1e\",\"TRAPPIST-1e\",\"TRAPPIST-1e\",\"TRAPPIST-1e\",\"TRAPPIST-1e\",\"TRAPPIST-1e\",\"55 Cancri e\",\"55 Cancri e\",\"55 Cancri e\",null,\"TRAPPIST-1e\",\"PSO J318.5-22\",\"55 Cancri e\",\"TRAPPIST-1e\",\"TRAPPIST-1e\",\"TRAPPIST-1e\",\"TRAPPIST-1e\",\"TRAPPIST-1e\",\"PSO J318.5-22\",\"TRAPPIST-1e\",\"55 Cancri e\",\"55 Cancri e\",\"TRAPPIST-1e\",\"TRAPPIST-1e\",\"TRAPPIST-1e\",\"TRAPPIST-1e\",\"TRAPPIST-1e\",\"55 Cancri e\",\"TRAPPIST-1e\",\"55 Cancri e\",\"TRAPPIST-1e\",\"TRAPPIST-1e\",\"TRAPPIST-1e\",\"TRAPPIST-1e\",\"TRAPPIST-1e\",\"55 Cancri e\",\"TRAPPIST-1e\",\"TRAPPIST-1e\",\"TRAPPIST-1e\",\"TRAPPIST-1e\",\"55 Cancri e\",\"55 Cancri e\",\"TRAPPIST-1e\",\"TRAPPIST-1e\",\"TRAPPIST-1e\",\"TRAPPIST-1e\",\"TRAPPIST-1e\",\"TRAPPIST-1e\",\"TRAPPIST-1e\",\"55 Cancri e\",\"55 Cancri e\",\"TRAPPIST-1e\",\"TRAPPIST-1e\",\"TRAPPIST-1e\",\"55 Cancri e\",\"TRAPPIST-1e\",\"TRAPPIST-1e\",\"TRAPPIST-1e\",\"55 Cancri e\",\"PSO J318.5-22\",\"TRAPPIST-1e\",\"PSO J318.5-22\",\"TRAPPIST-1e\",\"55 Cancri e\",\"55 Cancri e\",\"TRAPPIST-1e\",\"TRAPPIST-1e\",\"TRAPPIST-1e\",\"TRAPPIST-1e\",\"TRAPPIST-1e\",\"55 Cancri e\",\"TRAPPIST-1e\",\"TRAPPIST-1e\",\"PSO J318.5-22\",\"TRAPPIST-1e\",\"TRAPPIST-1e\",\"TRAPPIST-1e\",\"55 Cancri e\",\"TRAPPIST-1e\",\"55 Cancri e\",\"TRAPPIST-1e\",\"TRAPPIST-1e\",\"TRAPPIST-1e\",\"PSO J318.5-22\",\"TRAPPIST-1e\",\"TRAPPIST-1e\",\"55 Cancri e\",\"TRAPPIST-1e\",\"PSO J318.5-22\",\"PSO J318.5-22\",\"TRAPPIST-1e\",\"55 Cancri e\",null,\"TRAPPIST-1e\",\"TRAPPIST-1e\",\"TRAPPIST-1e\",\"TRAPPIST-1e\",\"TRAPPIST-1e\",\"TRAPPIST-1e\",\"55 Cancri e\",\"TRAPPIST-1e\",\"TRAPPIST-1e\",\"55 Cancri e\",\"PSO J318.5-22\",\"55 Cancri e\",\"TRAPPIST-1e\",\"PSO J318.5-22\",\"TRAPPIST-1e\",\"TRAPPIST-1e\",\"TRAPPIST-1e\",\"TRAPPIST-1e\",\"TRAPPIST-1e\",\"TRAPPIST-1e\",\"TRAPPIST-1e\",\"55 Cancri e\",\"TRAPPIST-1e\",\"PSO J318.5-22\",\"TRAPPIST-1e\",\"55 Cancri e\",\"55 Cancri e\",\"55 Cancri e\",\"TRAPPIST-1e\",\"55 Cancri e\",\"TRAPPIST-1e\",\"TRAPPIST-1e\",\"TRAPPIST-1e\",\"TRAPPIST-1e\",\"TRAPPIST-1e\",\"55 Cancri e\",\"55 Cancri e\",null,\"TRAPPIST-1e\",\"55 Cancri e\",\"55 Cancri e\",\"TRAPPIST-1e\",\"TRAPPIST-1e\",\"TRAPPIST-1e\",\"55 Cancri e\",\"TRAPPIST-1e\",\"PSO J318.5-22\",\"TRAPPIST-1e\",\"55 Cancri e\",\"TRAPPIST-1e\",\"TRAPPIST-1e\",\"TRAPPIST-1e\",\"TRAPPIST-1e\",\"TRAPPIST-1e\",\"TRAPPIST-1e\",\"TRAPPIST-1e\",\"TRAPPIST-1e\",\"55 Cancri e\",\"TRAPPIST-1e\",\"TRAPPIST-1e\",\"PSO J318.5-22\",\"55 Cancri e\",\"55 Cancri e\",\"TRAPPIST-1e\",\"TRAPPIST-1e\",\"TRAPPIST-1e\",\"TRAPPIST-1e\",\"TRAPPIST-1e\",\"TRAPPIST-1e\",\"55 Cancri e\",\"55 Cancri e\",\"TRAPPIST-1e\",\"TRAPPIST-1e\",\"TRAPPIST-1e\",\"TRAPPIST-1e\",\"TRAPPIST-1e\",\"TRAPPIST-1e\",\"55 Cancri e\",\"TRAPPIST-1e\",\"TRAPPIST-1e\",\"PSO J318.5-22\",\"TRAPPIST-1e\",\"TRAPPIST-1e\",\"TRAPPIST-1e\",\"55 Cancri e\",\"TRAPPIST-1e\",\"TRAPPIST-1e\",\"55 Cancri e\",\"TRAPPIST-1e\",\"TRAPPIST-1e\",\"PSO J318.5-22\",\"TRAPPIST-1e\",\"PSO J318.5-22\",\"TRAPPIST-1e\",\"TRAPPIST-1e\",\"55 Cancri e\",\"55 Cancri e\",\"TRAPPIST-1e\",null,\"TRAPPIST-1e\",\"TRAPPIST-1e\",\"TRAPPIST-1e\",\"TRAPPIST-1e\",\"55 Cancri e\",\"TRAPPIST-1e\",\"TRAPPIST-1e\",\"55 Cancri e\",\"TRAPPIST-1e\",\"TRAPPIST-1e\",null,\"55 Cancri e\",\"TRAPPIST-1e\",\"TRAPPIST-1e\",\"TRAPPIST-1e\",\"TRAPPIST-1e\",\"TRAPPIST-1e\",null,\"TRAPPIST-1e\",\"TRAPPIST-1e\",\"TRAPPIST-1e\",\"TRAPPIST-1e\",\"TRAPPIST-1e\",\"TRAPPIST-1e\",\"TRAPPIST-1e\",\"TRAPPIST-1e\",\"TRAPPIST-1e\",\"TRAPPIST-1e\",\"TRAPPIST-1e\",\"TRAPPIST-1e\",\"TRAPPIST-1e\",\"TRAPPIST-1e\",\"PSO J318.5-22\",\"TRAPPIST-1e\",\"TRAPPIST-1e\",\"PSO J318.5-22\",\"TRAPPIST-1e\",\"55 Cancri e\",\"TRAPPIST-1e\",\"TRAPPIST-1e\",null,\"TRAPPIST-1e\",\"TRAPPIST-1e\",\"TRAPPIST-1e\",\"TRAPPIST-1e\",\"TRAPPIST-1e\",\"TRAPPIST-1e\",\"TRAPPIST-1e\",\"TRAPPIST-1e\",\"TRAPPIST-1e\",\"TRAPPIST-1e\",\"TRAPPIST-1e\",\"TRAPPIST-1e\",\"55 Cancri e\",\"TRAPPIST-1e\",\"TRAPPIST-1e\",\"TRAPPIST-1e\",\"TRAPPIST-1e\",\"PSO J318.5-22\",\"TRAPPIST-1e\",\"TRAPPIST-1e\",\"TRAPPIST-1e\",\"TRAPPIST-1e\",\"55 Cancri e\",\"55 Cancri e\",\"PSO J318.5-22\",\"TRAPPIST-1e\",\"55 Cancri e\",\"TRAPPIST-1e\",\"TRAPPIST-1e\",\"TRAPPIST-1e\",\"TRAPPIST-1e\",\"TRAPPIST-1e\",\"PSO J318.5-22\",\"TRAPPIST-1e\",\"TRAPPIST-1e\",\"TRAPPIST-1e\",\"55 Cancri e\",\"TRAPPIST-1e\",\"TRAPPIST-1e\",\"55 Cancri e\",\"TRAPPIST-1e\",\"TRAPPIST-1e\",\"55 Cancri e\",\"55 Cancri e\",\"TRAPPIST-1e\",\"55 Cancri e\",\"55 Cancri e\",\"TRAPPIST-1e\",\"TRAPPIST-1e\",null,\"55 Cancri e\",\"TRAPPIST-1e\",\"TRAPPIST-1e\",\"TRAPPIST-1e\",\"PSO J318.5-22\",\"TRAPPIST-1e\",\"TRAPPIST-1e\",\"TRAPPIST-1e\",\"TRAPPIST-1e\",\"TRAPPIST-1e\",\"PSO J318.5-22\",\"TRAPPIST-1e\",\"TRAPPIST-1e\",\"TRAPPIST-1e\",\"TRAPPIST-1e\",\"TRAPPIST-1e\",\"TRAPPIST-1e\",\"TRAPPIST-1e\",\"TRAPPIST-1e\",\"TRAPPIST-1e\",\"PSO J318.5-22\",\"TRAPPIST-1e\",\"PSO J318.5-22\",\"TRAPPIST-1e\",\"TRAPPIST-1e\",\"TRAPPIST-1e\",\"PSO J318.5-22\",\"TRAPPIST-1e\",\"TRAPPIST-1e\",\"TRAPPIST-1e\",\"TRAPPIST-1e\",\"TRAPPIST-1e\",\"TRAPPIST-1e\",\"TRAPPIST-1e\",\"TRAPPIST-1e\",\"TRAPPIST-1e\",\"TRAPPIST-1e\",\"TRAPPIST-1e\",\"TRAPPIST-1e\",\"TRAPPIST-1e\",\"TRAPPIST-1e\",\"TRAPPIST-1e\",\"TRAPPIST-1e\",\"TRAPPIST-1e\",\"55 Cancri e\",\"TRAPPIST-1e\",\"TRAPPIST-1e\",\"55 Cancri e\",null,\"55 Cancri e\",\"TRAPPIST-1e\",\"TRAPPIST-1e\",\"TRAPPIST-1e\",\"TRAPPIST-1e\",\"55 Cancri e\",\"TRAPPIST-1e\",\"55 Cancri e\",\"55 Cancri e\",\"55 Cancri e\",\"TRAPPIST-1e\",\"TRAPPIST-1e\",\"TRAPPIST-1e\",\"TRAPPIST-1e\",\"PSO J318.5-22\",\"TRAPPIST-1e\",null,\"PSO J318.5-22\",\"PSO J318.5-22\",\"55 Cancri e\",\"55 Cancri e\",\"55 Cancri e\",\"TRAPPIST-1e\",\"TRAPPIST-1e\",\"PSO J318.5-22\",\"TRAPPIST-1e\",\"TRAPPIST-1e\",\"55 Cancri e\",\"TRAPPIST-1e\",\"TRAPPIST-1e\",\"55 Cancri e\",\"TRAPPIST-1e\",\"TRAPPIST-1e\",\"55 Cancri e\",\"TRAPPIST-1e\",\"55 Cancri e\",\"55 Cancri e\",\"TRAPPIST-1e\",\"TRAPPIST-1e\",\"TRAPPIST-1e\",\"55 Cancri e\",null,\"55 Cancri e\",\"55 Cancri e\",\"55 Cancri e\",\"55 Cancri e\",\"TRAPPIST-1e\",\"TRAPPIST-1e\",\"55 Cancri e\",null,\"PSO J318.5-22\",\"TRAPPIST-1e\",\"PSO J318.5-22\",\"TRAPPIST-1e\",\"TRAPPIST-1e\",\"55 Cancri e\",\"TRAPPIST-1e\",\"55 Cancri e\",\"TRAPPIST-1e\",\"TRAPPIST-1e\",\"TRAPPIST-1e\",\"PSO J318.5-22\",\"55 Cancri e\",\"PSO J318.5-22\",\"TRAPPIST-1e\",\"55 Cancri e\",\"55 Cancri e\",\"TRAPPIST-1e\",\"55 Cancri e\",\"TRAPPIST-1e\",\"TRAPPIST-1e\",\"TRAPPIST-1e\",null,\"PSO J318.5-22\",\"TRAPPIST-1e\",\"55 Cancri e\",\"TRAPPIST-1e\",\"TRAPPIST-1e\",\"TRAPPIST-1e\",\"55 Cancri e\",\"TRAPPIST-1e\",\"TRAPPIST-1e\",\"TRAPPIST-1e\",\"PSO J318.5-22\",\"PSO J318.5-22\",\"PSO J318.5-22\",\"55 Cancri e\",\"55 Cancri e\",\"TRAPPIST-1e\",\"55 Cancri e\",\"TRAPPIST-1e\",\"PSO J318.5-22\",\"55 Cancri e\",\"TRAPPIST-1e\",\"55 Cancri e\",\"TRAPPIST-1e\",\"TRAPPIST-1e\",\"TRAPPIST-1e\",\"TRAPPIST-1e\",\"TRAPPIST-1e\",\"TRAPPIST-1e\",\"TRAPPIST-1e\",\"PSO J318.5-22\",\"TRAPPIST-1e\",\"TRAPPIST-1e\",\"TRAPPIST-1e\",\"TRAPPIST-1e\",\"55 Cancri e\",\"TRAPPIST-1e\",\"TRAPPIST-1e\",\"PSO J318.5-22\",\"55 Cancri e\",\"TRAPPIST-1e\",\"TRAPPIST-1e\",\"55 Cancri e\",\"55 Cancri e\",\"TRAPPIST-1e\",\"TRAPPIST-1e\",\"TRAPPIST-1e\",\"TRAPPIST-1e\",\"TRAPPIST-1e\",\"PSO J318.5-22\",\"TRAPPIST-1e\",\"55 Cancri e\",\"TRAPPIST-1e\",\"55 Cancri e\",\"PSO J318.5-22\",\"TRAPPIST-1e\",\"TRAPPIST-1e\",\"55 Cancri e\",\"TRAPPIST-1e\",\"TRAPPIST-1e\",\"TRAPPIST-1e\",\"TRAPPIST-1e\",\"55 Cancri e\",\"TRAPPIST-1e\",\"55 Cancri e\",\"55 Cancri e\",\"TRAPPIST-1e\",\"TRAPPIST-1e\",\"TRAPPIST-1e\",\"TRAPPIST-1e\",\"TRAPPIST-1e\",\"55 Cancri e\",\"55 Cancri e\",\"TRAPPIST-1e\",\"TRAPPIST-1e\",\"TRAPPIST-1e\",\"PSO J318.5-22\",\"TRAPPIST-1e\",\"TRAPPIST-1e\",\"TRAPPIST-1e\",\"TRAPPIST-1e\",\"TRAPPIST-1e\",\"55 Cancri e\",\"PSO J318.5-22\",\"TRAPPIST-1e\",\"TRAPPIST-1e\",\"TRAPPIST-1e\",\"TRAPPIST-1e\",\"55 Cancri e\",\"TRAPPIST-1e\",\"55 Cancri e\",\"TRAPPIST-1e\",\"55 Cancri e\",\"TRAPPIST-1e\",\"TRAPPIST-1e\",\"TRAPPIST-1e\",\"TRAPPIST-1e\",\"TRAPPIST-1e\",\"55 Cancri e\",\"TRAPPIST-1e\",\"PSO J318.5-22\",\"55 Cancri e\",\"55 Cancri e\",\"TRAPPIST-1e\",\"TRAPPIST-1e\",\"TRAPPIST-1e\",\"TRAPPIST-1e\",\"TRAPPIST-1e\",\"55 Cancri e\",\"TRAPPIST-1e\",\"TRAPPIST-1e\",\"PSO J318.5-22\",\"PSO J318.5-22\",\"55 Cancri e\",\"55 Cancri e\",\"55 Cancri e\",\"TRAPPIST-1e\",\"TRAPPIST-1e\",\"TRAPPIST-1e\",\"TRAPPIST-1e\",\"TRAPPIST-1e\",\"55 Cancri e\",\"TRAPPIST-1e\",\"TRAPPIST-1e\",\"PSO J318.5-22\",\"TRAPPIST-1e\",\"TRAPPIST-1e\",\"TRAPPIST-1e\",\"TRAPPIST-1e\",\"TRAPPIST-1e\",\"TRAPPIST-1e\",\"TRAPPIST-1e\",\"TRAPPIST-1e\",\"TRAPPIST-1e\",\"TRAPPIST-1e\",null,\"TRAPPIST-1e\",\"TRAPPIST-1e\",\"TRAPPIST-1e\",\"TRAPPIST-1e\",\"55 Cancri e\",\"TRAPPIST-1e\",\"55 Cancri e\",\"55 Cancri e\",\"PSO J318.5-22\",\"TRAPPIST-1e\",\"PSO J318.5-22\",\"55 Cancri e\",\"TRAPPIST-1e\",\"TRAPPIST-1e\",\"TRAPPIST-1e\",\"55 Cancri e\",\"TRAPPIST-1e\",\"TRAPPIST-1e\",\"TRAPPIST-1e\",\"TRAPPIST-1e\",\"TRAPPIST-1e\",\"TRAPPIST-1e\",\"TRAPPIST-1e\",\"TRAPPIST-1e\",\"TRAPPIST-1e\",\"55 Cancri e\",\"TRAPPIST-1e\",\"TRAPPIST-1e\",null,\"PSO J318.5-22\",\"TRAPPIST-1e\",\"55 Cancri e\",\"TRAPPIST-1e\",\"TRAPPIST-1e\",\"TRAPPIST-1e\",\"TRAPPIST-1e\",\"55 Cancri e\",\"TRAPPIST-1e\",\"PSO J318.5-22\",\"TRAPPIST-1e\",\"55 Cancri e\",\"TRAPPIST-1e\",\"TRAPPIST-1e\",\"TRAPPIST-1e\",\"TRAPPIST-1e\",\"PSO J318.5-22\",\"TRAPPIST-1e\",\"TRAPPIST-1e\",\"TRAPPIST-1e\",\"55 Cancri e\",\"55 Cancri e\",\"55 Cancri e\",\"55 Cancri e\",\"55 Cancri e\",\"TRAPPIST-1e\",\"TRAPPIST-1e\",\"55 Cancri e\",\"TRAPPIST-1e\",\"TRAPPIST-1e\",null,\"TRAPPIST-1e\",\"55 Cancri e\",\"TRAPPIST-1e\",\"TRAPPIST-1e\",\"55 Cancri e\",\"TRAPPIST-1e\",\"TRAPPIST-1e\",\"TRAPPIST-1e\",\"TRAPPIST-1e\",\"55 Cancri e\",\"TRAPPIST-1e\",\"TRAPPIST-1e\",\"TRAPPIST-1e\",\"TRAPPIST-1e\",\"TRAPPIST-1e\",\"TRAPPIST-1e\",\"TRAPPIST-1e\",\"TRAPPIST-1e\",\"TRAPPIST-1e\",null,\"TRAPPIST-1e\",\"TRAPPIST-1e\",\"55 Cancri e\",\"TRAPPIST-1e\",\"55 Cancri e\",\"55 Cancri e\",\"TRAPPIST-1e\",\"TRAPPIST-1e\",\"TRAPPIST-1e\",\"TRAPPIST-1e\",\"TRAPPIST-1e\",\"55 Cancri e\",\"TRAPPIST-1e\",\"TRAPPIST-1e\",\"TRAPPIST-1e\",\"PSO J318.5-22\",\"TRAPPIST-1e\",\"TRAPPIST-1e\",\"55 Cancri e\",\"PSO J318.5-22\",\"TRAPPIST-1e\",\"PSO J318.5-22\",\"TRAPPIST-1e\",\"TRAPPIST-1e\",\"TRAPPIST-1e\",\"TRAPPIST-1e\",\"TRAPPIST-1e\",\"TRAPPIST-1e\",\"TRAPPIST-1e\",\"55 Cancri e\",\"TRAPPIST-1e\",\"TRAPPIST-1e\",\"55 Cancri e\",\"PSO J318.5-22\",\"TRAPPIST-1e\",\"TRAPPIST-1e\",\"55 Cancri e\",\"55 Cancri e\",\"TRAPPIST-1e\",\"TRAPPIST-1e\",\"TRAPPIST-1e\",\"TRAPPIST-1e\",\"TRAPPIST-1e\",\"TRAPPIST-1e\",\"TRAPPIST-1e\",\"PSO J318.5-22\",\"TRAPPIST-1e\",\"TRAPPIST-1e\",\"TRAPPIST-1e\",\"TRAPPIST-1e\",\"TRAPPIST-1e\",\"55 Cancri e\",\"55 Cancri e\",\"TRAPPIST-1e\",\"TRAPPIST-1e\",\"TRAPPIST-1e\",\"TRAPPIST-1e\",\"TRAPPIST-1e\",\"TRAPPIST-1e\",\"TRAPPIST-1e\",\"TRAPPIST-1e\",\"TRAPPIST-1e\",\"TRAPPIST-1e\",null,\"TRAPPIST-1e\",\"PSO J318.5-22\",\"55 Cancri e\",\"TRAPPIST-1e\",\"TRAPPIST-1e\",\"TRAPPIST-1e\",\"TRAPPIST-1e\",\"TRAPPIST-1e\",\"TRAPPIST-1e\",\"TRAPPIST-1e\",\"PSO J318.5-22\",\"TRAPPIST-1e\",\"TRAPPIST-1e\",\"TRAPPIST-1e\",\"TRAPPIST-1e\",\"PSO J318.5-22\",\"TRAPPIST-1e\",\"TRAPPIST-1e\",\"TRAPPIST-1e\",\"TRAPPIST-1e\",\"55 Cancri e\",\"55 Cancri e\",\"TRAPPIST-1e\",\"TRAPPIST-1e\",\"TRAPPIST-1e\",\"TRAPPIST-1e\",\"TRAPPIST-1e\",\"TRAPPIST-1e\",\"TRAPPIST-1e\",\"TRAPPIST-1e\",\"PSO J318.5-22\",\"TRAPPIST-1e\",\"55 Cancri e\",\"TRAPPIST-1e\",\"TRAPPIST-1e\",\"55 Cancri e\",\"TRAPPIST-1e\",\"TRAPPIST-1e\",\"55 Cancri e\",\"TRAPPIST-1e\",\"TRAPPIST-1e\",\"TRAPPIST-1e\",\"55 Cancri e\",\"TRAPPIST-1e\",\"TRAPPIST-1e\",\"TRAPPIST-1e\",\"TRAPPIST-1e\",\"TRAPPIST-1e\",\"55 Cancri e\",\"TRAPPIST-1e\",\"55 Cancri e\",\"55 Cancri e\",\"TRAPPIST-1e\",\"55 Cancri e\",null,\"TRAPPIST-1e\",\"55 Cancri e\",\"55 Cancri e\",\"TRAPPIST-1e\",\"TRAPPIST-1e\",\"TRAPPIST-1e\",\"55 Cancri e\",\"55 Cancri e\",\"TRAPPIST-1e\",\"TRAPPIST-1e\",\"TRAPPIST-1e\",\"TRAPPIST-1e\",\"55 Cancri e\",\"TRAPPIST-1e\",\"TRAPPIST-1e\",\"TRAPPIST-1e\",\"TRAPPIST-1e\",\"55 Cancri e\",\"55 Cancri e\",\"TRAPPIST-1e\",\"55 Cancri e\",\"55 Cancri e\",\"TRAPPIST-1e\",\"TRAPPIST-1e\",\"TRAPPIST-1e\",\"55 Cancri e\",\"TRAPPIST-1e\",\"TRAPPIST-1e\",\"TRAPPIST-1e\",\"TRAPPIST-1e\",\"PSO J318.5-22\",\"TRAPPIST-1e\",\"TRAPPIST-1e\",\"TRAPPIST-1e\",\"TRAPPIST-1e\",\"TRAPPIST-1e\",\"TRAPPIST-1e\",\"55 Cancri e\",\"TRAPPIST-1e\",\"TRAPPIST-1e\",\"TRAPPIST-1e\",\"TRAPPIST-1e\",\"TRAPPIST-1e\",\"TRAPPIST-1e\",\"TRAPPIST-1e\",\"TRAPPIST-1e\",\"TRAPPIST-1e\",\"TRAPPIST-1e\",\"TRAPPIST-1e\",\"TRAPPIST-1e\",\"TRAPPIST-1e\",\"TRAPPIST-1e\",\"TRAPPIST-1e\",\"TRAPPIST-1e\",\"55 Cancri e\",\"55 Cancri e\",\"55 Cancri e\",\"TRAPPIST-1e\",\"TRAPPIST-1e\",\"55 Cancri e\",\"TRAPPIST-1e\",\"TRAPPIST-1e\",\"TRAPPIST-1e\",\"TRAPPIST-1e\",\"PSO J318.5-22\",\"TRAPPIST-1e\",\"TRAPPIST-1e\",\"TRAPPIST-1e\",\"55 Cancri e\",\"TRAPPIST-1e\",\"55 Cancri e\",\"TRAPPIST-1e\",\"TRAPPIST-1e\",\"55 Cancri e\",\"TRAPPIST-1e\",\"TRAPPIST-1e\",\"TRAPPIST-1e\",\"TRAPPIST-1e\",\"TRAPPIST-1e\",\"TRAPPIST-1e\",\"TRAPPIST-1e\",\"55 Cancri e\",\"TRAPPIST-1e\",\"TRAPPIST-1e\",\"TRAPPIST-1e\",\"TRAPPIST-1e\",\"TRAPPIST-1e\",\"TRAPPIST-1e\",\"TRAPPIST-1e\",\"55 Cancri e\",\"PSO J318.5-22\",\"PSO J318.5-22\",\"TRAPPIST-1e\",\"55 Cancri e\",\"TRAPPIST-1e\",\"TRAPPIST-1e\",\"PSO J318.5-22\",\"TRAPPIST-1e\",\"55 Cancri e\",\"TRAPPIST-1e\",\"TRAPPIST-1e\",\"TRAPPIST-1e\",\"PSO J318.5-22\",\"TRAPPIST-1e\",\"TRAPPIST-1e\",\"TRAPPIST-1e\",\"TRAPPIST-1e\",\"TRAPPIST-1e\",\"TRAPPIST-1e\",\"55 Cancri e\",\"TRAPPIST-1e\",\"PSO J318.5-22\",\"55 Cancri e\",\"TRAPPIST-1e\",\"TRAPPIST-1e\",\"PSO J318.5-22\",\"TRAPPIST-1e\",\"PSO J318.5-22\",\"TRAPPIST-1e\",\"55 Cancri e\",\"TRAPPIST-1e\",\"55 Cancri e\",\"PSO J318.5-22\",\"TRAPPIST-1e\",\"PSO J318.5-22\",\"TRAPPIST-1e\",null,\"55 Cancri e\",\"TRAPPIST-1e\",\"TRAPPIST-1e\",\"55 Cancri e\",\"TRAPPIST-1e\",\"TRAPPIST-1e\",\"TRAPPIST-1e\",\"TRAPPIST-1e\",\"TRAPPIST-1e\",\"55 Cancri e\",\"TRAPPIST-1e\",\"TRAPPIST-1e\",\"TRAPPIST-1e\",\"PSO J318.5-22\",\"TRAPPIST-1e\",\"TRAPPIST-1e\",\"TRAPPIST-1e\",\"55 Cancri e\",\"55 Cancri e\",\"55 Cancri e\",\"TRAPPIST-1e\",\"TRAPPIST-1e\",\"TRAPPIST-1e\",\"TRAPPIST-1e\",\"PSO J318.5-22\",\"TRAPPIST-1e\",\"55 Cancri e\",\"TRAPPIST-1e\",\"55 Cancri e\",\"55 Cancri e\",\"55 Cancri e\",\"55 Cancri e\",\"TRAPPIST-1e\",\"TRAPPIST-1e\",null,\"TRAPPIST-1e\",\"TRAPPIST-1e\",\"55 Cancri e\",\"TRAPPIST-1e\",\"55 Cancri e\",\"TRAPPIST-1e\",\"TRAPPIST-1e\",\"55 Cancri e\",\"55 Cancri e\",\"55 Cancri e\",\"TRAPPIST-1e\",\"TRAPPIST-1e\",\"TRAPPIST-1e\",\"TRAPPIST-1e\",\"TRAPPIST-1e\",\"TRAPPIST-1e\",\"TRAPPIST-1e\",\"TRAPPIST-1e\",\"TRAPPIST-1e\",\"PSO J318.5-22\",\"TRAPPIST-1e\",\"PSO J318.5-22\",\"TRAPPIST-1e\",\"TRAPPIST-1e\",\"55 Cancri e\",\"TRAPPIST-1e\",\"TRAPPIST-1e\",\"TRAPPIST-1e\",\"TRAPPIST-1e\",\"TRAPPIST-1e\",\"TRAPPIST-1e\",\"55 Cancri e\",\"TRAPPIST-1e\",\"PSO J318.5-22\",\"PSO J318.5-22\",\"TRAPPIST-1e\",\"TRAPPIST-1e\",\"TRAPPIST-1e\",\"TRAPPIST-1e\",\"TRAPPIST-1e\",\"TRAPPIST-1e\",\"PSO J318.5-22\",\"TRAPPIST-1e\",\"TRAPPIST-1e\",\"TRAPPIST-1e\",\"TRAPPIST-1e\",\"55 Cancri e\",\"TRAPPIST-1e\",\"55 Cancri e\",\"TRAPPIST-1e\",\"TRAPPIST-1e\",\"TRAPPIST-1e\",\"TRAPPIST-1e\",\"TRAPPIST-1e\",\"TRAPPIST-1e\",\"TRAPPIST-1e\",\"TRAPPIST-1e\",\"TRAPPIST-1e\",\"TRAPPIST-1e\",\"55 Cancri e\",\"PSO J318.5-22\",null,\"TRAPPIST-1e\",\"TRAPPIST-1e\",\"TRAPPIST-1e\",\"TRAPPIST-1e\",\"TRAPPIST-1e\",null,\"TRAPPIST-1e\",\"TRAPPIST-1e\",\"TRAPPIST-1e\",\"55 Cancri e\",\"PSO J318.5-22\",\"TRAPPIST-1e\",\"TRAPPIST-1e\",null,\"TRAPPIST-1e\",\"TRAPPIST-1e\",\"TRAPPIST-1e\",\"TRAPPIST-1e\",\"TRAPPIST-1e\",\"TRAPPIST-1e\",\"55 Cancri e\",\"TRAPPIST-1e\",\"PSO J318.5-22\",\"55 Cancri e\",\"TRAPPIST-1e\",\"TRAPPIST-1e\",\"TRAPPIST-1e\",\"TRAPPIST-1e\",\"TRAPPIST-1e\",\"PSO J318.5-22\",\"PSO J318.5-22\",\"TRAPPIST-1e\",\"55 Cancri e\",\"PSO J318.5-22\",\"TRAPPIST-1e\",\"55 Cancri e\",\"TRAPPIST-1e\",\"TRAPPIST-1e\",\"TRAPPIST-1e\",\"TRAPPIST-1e\",\"TRAPPIST-1e\",\"55 Cancri e\",\"TRAPPIST-1e\",\"TRAPPIST-1e\",\"55 Cancri e\",\"TRAPPIST-1e\",\"55 Cancri e\",\"TRAPPIST-1e\",\"55 Cancri e\",\"TRAPPIST-1e\",\"TRAPPIST-1e\",\"TRAPPIST-1e\",\"TRAPPIST-1e\",\"55 Cancri e\",null,\"TRAPPIST-1e\",\"TRAPPIST-1e\",\"TRAPPIST-1e\",\"TRAPPIST-1e\",\"TRAPPIST-1e\",\"TRAPPIST-1e\",\"TRAPPIST-1e\",\"TRAPPIST-1e\",null,\"TRAPPIST-1e\",\"TRAPPIST-1e\",\"TRAPPIST-1e\",\"TRAPPIST-1e\",\"PSO J318.5-22\",\"TRAPPIST-1e\",\"TRAPPIST-1e\",\"PSO J318.5-22\",\"TRAPPIST-1e\",\"55 Cancri e\",\"55 Cancri e\",\"55 Cancri e\",\"TRAPPIST-1e\",\"TRAPPIST-1e\",\"TRAPPIST-1e\",\"55 Cancri e\",\"TRAPPIST-1e\",\"55 Cancri e\",\"55 Cancri e\",\"TRAPPIST-1e\",\"TRAPPIST-1e\",\"55 Cancri e\",\"TRAPPIST-1e\",\"55 Cancri e\",\"TRAPPIST-1e\",\"55 Cancri e\",\"TRAPPIST-1e\",\"TRAPPIST-1e\",null,\"PSO J318.5-22\",\"TRAPPIST-1e\",\"TRAPPIST-1e\",\"PSO J318.5-22\",\"PSO J318.5-22\",\"TRAPPIST-1e\",\"TRAPPIST-1e\",\"TRAPPIST-1e\",\"PSO J318.5-22\",\"TRAPPIST-1e\",\"TRAPPIST-1e\",\"TRAPPIST-1e\",\"TRAPPIST-1e\",\"TRAPPIST-1e\",\"TRAPPIST-1e\",\"55 Cancri e\",\"55 Cancri e\",\"TRAPPIST-1e\",\"TRAPPIST-1e\",\"TRAPPIST-1e\",\"TRAPPIST-1e\",\"TRAPPIST-1e\",\"TRAPPIST-1e\",\"TRAPPIST-1e\",\"55 Cancri e\",\"55 Cancri e\",\"55 Cancri e\",\"TRAPPIST-1e\",\"TRAPPIST-1e\",\"TRAPPIST-1e\",\"TRAPPIST-1e\",\"TRAPPIST-1e\",null,\"TRAPPIST-1e\",\"TRAPPIST-1e\",\"TRAPPIST-1e\",\"TRAPPIST-1e\",\"TRAPPIST-1e\",\"TRAPPIST-1e\",\"TRAPPIST-1e\",\"TRAPPIST-1e\",\"TRAPPIST-1e\",\"55 Cancri e\",\"TRAPPIST-1e\",\"TRAPPIST-1e\",\"TRAPPIST-1e\",\"55 Cancri e\",\"TRAPPIST-1e\",\"TRAPPIST-1e\",\"TRAPPIST-1e\",\"55 Cancri e\",\"55 Cancri e\",\"TRAPPIST-1e\",\"55 Cancri e\",\"PSO J318.5-22\",\"TRAPPIST-1e\",\"TRAPPIST-1e\",\"TRAPPIST-1e\",\"TRAPPIST-1e\",\"TRAPPIST-1e\",\"55 Cancri e\",\"TRAPPIST-1e\",\"TRAPPIST-1e\",\"TRAPPIST-1e\",\"TRAPPIST-1e\",\"TRAPPIST-1e\",\"55 Cancri e\",\"TRAPPIST-1e\",\"TRAPPIST-1e\",\"TRAPPIST-1e\",\"55 Cancri e\",\"TRAPPIST-1e\",\"TRAPPIST-1e\",\"55 Cancri e\",\"TRAPPIST-1e\",\"TRAPPIST-1e\",\"TRAPPIST-1e\",\"TRAPPIST-1e\",\"TRAPPIST-1e\",\"55 Cancri e\",\"TRAPPIST-1e\",\"TRAPPIST-1e\",\"PSO J318.5-22\",\"TRAPPIST-1e\",\"TRAPPIST-1e\",\"PSO J318.5-22\",\"TRAPPIST-1e\",\"TRAPPIST-1e\",\"TRAPPIST-1e\",\"TRAPPIST-1e\",\"TRAPPIST-1e\",null,\"TRAPPIST-1e\",\"55 Cancri e\",\"TRAPPIST-1e\",\"TRAPPIST-1e\",\"TRAPPIST-1e\",\"TRAPPIST-1e\",\"TRAPPIST-1e\",\"TRAPPIST-1e\",\"TRAPPIST-1e\",\"TRAPPIST-1e\",\"55 Cancri e\",\"TRAPPIST-1e\",\"55 Cancri e\",\"TRAPPIST-1e\",\"55 Cancri e\",\"TRAPPIST-1e\",\"TRAPPIST-1e\",\"55 Cancri e\",\"TRAPPIST-1e\",\"TRAPPIST-1e\",\"TRAPPIST-1e\",\"55 Cancri e\",\"TRAPPIST-1e\",\"TRAPPIST-1e\",\"TRAPPIST-1e\",\"TRAPPIST-1e\",\"55 Cancri e\",\"TRAPPIST-1e\",\"TRAPPIST-1e\",\"TRAPPIST-1e\",\"TRAPPIST-1e\",\"TRAPPIST-1e\",\"TRAPPIST-1e\",\"55 Cancri e\",\"TRAPPIST-1e\",\"TRAPPIST-1e\",\"TRAPPIST-1e\",\"TRAPPIST-1e\",\"PSO J318.5-22\",\"TRAPPIST-1e\",\"55 Cancri e\",\"PSO J318.5-22\",\"TRAPPIST-1e\",\"PSO J318.5-22\",\"55 Cancri e\",\"TRAPPIST-1e\",\"55 Cancri e\",\"TRAPPIST-1e\",\"TRAPPIST-1e\",\"TRAPPIST-1e\",\"PSO J318.5-22\",\"TRAPPIST-1e\",\"TRAPPIST-1e\",\"TRAPPIST-1e\",\"TRAPPIST-1e\",\"TRAPPIST-1e\",\"TRAPPIST-1e\",\"55 Cancri e\",\"TRAPPIST-1e\",\"TRAPPIST-1e\",\"TRAPPIST-1e\",\"TRAPPIST-1e\",\"TRAPPIST-1e\",\"55 Cancri e\",\"55 Cancri e\",\"TRAPPIST-1e\",\"TRAPPIST-1e\",\"55 Cancri e\",\"55 Cancri e\",\"PSO J318.5-22\",\"55 Cancri e\",\"PSO J318.5-22\",null,\"TRAPPIST-1e\",\"TRAPPIST-1e\",\"TRAPPIST-1e\",\"TRAPPIST-1e\",\"TRAPPIST-1e\",\"TRAPPIST-1e\",\"TRAPPIST-1e\",\"TRAPPIST-1e\",\"TRAPPIST-1e\",\"TRAPPIST-1e\",\"TRAPPIST-1e\",\"PSO J318.5-22\",\"PSO J318.5-22\",\"TRAPPIST-1e\",\"TRAPPIST-1e\",\"TRAPPIST-1e\",\"TRAPPIST-1e\",\"55 Cancri e\",\"TRAPPIST-1e\",\"TRAPPIST-1e\",\"55 Cancri e\",\"TRAPPIST-1e\",\"55 Cancri e\",\"PSO J318.5-22\",\"TRAPPIST-1e\",\"TRAPPIST-1e\",\"TRAPPIST-1e\",\"TRAPPIST-1e\",\"55 Cancri e\",\"55 Cancri e\",\"TRAPPIST-1e\",\"TRAPPIST-1e\",\"TRAPPIST-1e\",\"TRAPPIST-1e\",\"TRAPPIST-1e\",\"TRAPPIST-1e\",\"TRAPPIST-1e\",\"PSO J318.5-22\",\"TRAPPIST-1e\",\"TRAPPIST-1e\",\"TRAPPIST-1e\",\"PSO J318.5-22\",\"55 Cancri e\",\"TRAPPIST-1e\",\"TRAPPIST-1e\",\"TRAPPIST-1e\",\"55 Cancri e\",\"TRAPPIST-1e\",\"PSO J318.5-22\",\"TRAPPIST-1e\",\"TRAPPIST-1e\",\"TRAPPIST-1e\",\"TRAPPIST-1e\",\"TRAPPIST-1e\",\"TRAPPIST-1e\",\"TRAPPIST-1e\",\"PSO J318.5-22\",\"TRAPPIST-1e\",\"TRAPPIST-1e\",\"TRAPPIST-1e\",\"TRAPPIST-1e\",\"TRAPPIST-1e\",\"TRAPPIST-1e\",\"TRAPPIST-1e\",\"TRAPPIST-1e\",\"TRAPPIST-1e\",\"TRAPPIST-1e\",\"TRAPPIST-1e\",\"TRAPPIST-1e\",\"55 Cancri e\",\"TRAPPIST-1e\",null,\"55 Cancri e\",\"TRAPPIST-1e\",\"TRAPPIST-1e\",\"55 Cancri e\",\"PSO J318.5-22\",\"55 Cancri e\",\"TRAPPIST-1e\",\"TRAPPIST-1e\",\"PSO J318.5-22\",\"TRAPPIST-1e\",\"55 Cancri e\",\"PSO J318.5-22\",\"TRAPPIST-1e\",\"PSO J318.5-22\",\"TRAPPIST-1e\",\"TRAPPIST-1e\",\"55 Cancri e\",\"TRAPPIST-1e\",\"TRAPPIST-1e\",\"TRAPPIST-1e\",\"PSO J318.5-22\",\"55 Cancri e\",\"TRAPPIST-1e\",\"TRAPPIST-1e\",\"TRAPPIST-1e\",\"TRAPPIST-1e\",\"TRAPPIST-1e\",\"55 Cancri e\",\"PSO J318.5-22\",null,\"TRAPPIST-1e\",\"TRAPPIST-1e\",\"TRAPPIST-1e\",\"55 Cancri e\",\"55 Cancri e\",\"TRAPPIST-1e\",\"TRAPPIST-1e\",\"TRAPPIST-1e\",\"TRAPPIST-1e\",\"TRAPPIST-1e\",\"55 Cancri e\",\"TRAPPIST-1e\",\"TRAPPIST-1e\",\"TRAPPIST-1e\",\"TRAPPIST-1e\",\"TRAPPIST-1e\",\"PSO J318.5-22\",\"55 Cancri e\",\"55 Cancri e\",\"TRAPPIST-1e\",\"TRAPPIST-1e\",\"55 Cancri e\",\"PSO J318.5-22\",\"55 Cancri e\",\"TRAPPIST-1e\",\"TRAPPIST-1e\",\"TRAPPIST-1e\",\"55 Cancri e\",\"TRAPPIST-1e\",\"TRAPPIST-1e\",\"55 Cancri e\",\"55 Cancri e\",\"TRAPPIST-1e\",\"TRAPPIST-1e\",\"TRAPPIST-1e\",\"TRAPPIST-1e\",\"55 Cancri e\",\"TRAPPIST-1e\",\"TRAPPIST-1e\",\"TRAPPIST-1e\",\"55 Cancri e\",\"TRAPPIST-1e\",\"TRAPPIST-1e\",\"PSO J318.5-22\",\"TRAPPIST-1e\",\"TRAPPIST-1e\",\"55 Cancri e\",\"TRAPPIST-1e\",\"TRAPPIST-1e\",\"PSO J318.5-22\",\"TRAPPIST-1e\",\"TRAPPIST-1e\",\"TRAPPIST-1e\",\"TRAPPIST-1e\",\"55 Cancri e\",\"55 Cancri e\",null,\"55 Cancri e\",\"TRAPPIST-1e\",\"TRAPPIST-1e\",\"TRAPPIST-1e\",\"55 Cancri e\",\"TRAPPIST-1e\",\"TRAPPIST-1e\",\"55 Cancri e\",null,\"TRAPPIST-1e\",\"TRAPPIST-1e\",\"TRAPPIST-1e\",\"PSO J318.5-22\",\"TRAPPIST-1e\",\"TRAPPIST-1e\",\"TRAPPIST-1e\",\"TRAPPIST-1e\",\"TRAPPIST-1e\",\"TRAPPIST-1e\",\"PSO J318.5-22\",\"55 Cancri e\",\"TRAPPIST-1e\",\"55 Cancri e\",\"TRAPPIST-1e\",\"TRAPPIST-1e\",\"TRAPPIST-1e\",\"55 Cancri e\",null,\"TRAPPIST-1e\",\"55 Cancri e\",\"TRAPPIST-1e\",\"TRAPPIST-1e\",\"55 Cancri e\",\"TRAPPIST-1e\",\"TRAPPIST-1e\",\"TRAPPIST-1e\",\"TRAPPIST-1e\",\"TRAPPIST-1e\",\"TRAPPIST-1e\",\"TRAPPIST-1e\",\"TRAPPIST-1e\",\"TRAPPIST-1e\",\"TRAPPIST-1e\",\"TRAPPIST-1e\",\"TRAPPIST-1e\",\"TRAPPIST-1e\",\"PSO J318.5-22\",\"TRAPPIST-1e\",\"TRAPPIST-1e\",\"TRAPPIST-1e\",\"55 Cancri e\",\"TRAPPIST-1e\",\"55 Cancri e\",\"55 Cancri e\",\"TRAPPIST-1e\",\"TRAPPIST-1e\",\"TRAPPIST-1e\",\"TRAPPIST-1e\",\"TRAPPIST-1e\",\"TRAPPIST-1e\",\"55 Cancri e\",\"TRAPPIST-1e\",\"TRAPPIST-1e\",\"TRAPPIST-1e\",\"55 Cancri e\",\"55 Cancri e\",\"TRAPPIST-1e\",\"55 Cancri e\",\"PSO J318.5-22\",\"55 Cancri e\",\"55 Cancri e\",\"TRAPPIST-1e\",\"TRAPPIST-1e\",\"55 Cancri e\",\"TRAPPIST-1e\",\"TRAPPIST-1e\",\"TRAPPIST-1e\",\"TRAPPIST-1e\",\"TRAPPIST-1e\",\"TRAPPIST-1e\",\"55 Cancri e\",\"TRAPPIST-1e\",\"TRAPPIST-1e\",\"TRAPPIST-1e\",\"TRAPPIST-1e\",\"55 Cancri e\",\"TRAPPIST-1e\",\"55 Cancri e\",\"TRAPPIST-1e\",\"TRAPPIST-1e\",\"TRAPPIST-1e\",\"PSO J318.5-22\",\"55 Cancri e\",\"TRAPPIST-1e\",\"55 Cancri e\",\"TRAPPIST-1e\",\"TRAPPIST-1e\",\"TRAPPIST-1e\",\"TRAPPIST-1e\",\"TRAPPIST-1e\",\"TRAPPIST-1e\",\"TRAPPIST-1e\",\"TRAPPIST-1e\",\"TRAPPIST-1e\",\"TRAPPIST-1e\",\"TRAPPIST-1e\",\"TRAPPIST-1e\",\"TRAPPIST-1e\",\"TRAPPIST-1e\",\"PSO J318.5-22\",\"TRAPPIST-1e\",\"TRAPPIST-1e\",\"TRAPPIST-1e\",\"55 Cancri e\",\"TRAPPIST-1e\",\"PSO J318.5-22\",\"TRAPPIST-1e\",\"TRAPPIST-1e\",\"55 Cancri e\",\"TRAPPIST-1e\",\"TRAPPIST-1e\",\"TRAPPIST-1e\",\"TRAPPIST-1e\",\"PSO J318.5-22\",\"55 Cancri e\",\"PSO J318.5-22\",\"55 Cancri e\",\"TRAPPIST-1e\",\"TRAPPIST-1e\",\"55 Cancri e\",\"TRAPPIST-1e\",\"55 Cancri e\",\"TRAPPIST-1e\",\"55 Cancri e\",\"TRAPPIST-1e\",\"TRAPPIST-1e\",\"TRAPPIST-1e\",\"TRAPPIST-1e\",\"TRAPPIST-1e\",\"TRAPPIST-1e\",\"TRAPPIST-1e\",\"TRAPPIST-1e\",\"TRAPPIST-1e\",\"PSO J318.5-22\",\"55 Cancri e\",\"55 Cancri e\",\"TRAPPIST-1e\",\"55 Cancri e\",\"TRAPPIST-1e\",\"TRAPPIST-1e\",\"TRAPPIST-1e\",\"TRAPPIST-1e\",\"PSO J318.5-22\",\"TRAPPIST-1e\",\"TRAPPIST-1e\",\"TRAPPIST-1e\",\"55 Cancri e\",\"TRAPPIST-1e\",\"TRAPPIST-1e\",\"TRAPPIST-1e\",\"TRAPPIST-1e\",\"TRAPPIST-1e\",\"55 Cancri e\",\"TRAPPIST-1e\",\"TRAPPIST-1e\",\"55 Cancri e\",\"PSO J318.5-22\",\"PSO J318.5-22\",\"55 Cancri e\",\"TRAPPIST-1e\",\"TRAPPIST-1e\",\"55 Cancri e\",\"55 Cancri e\",\"PSO J318.5-22\",\"TRAPPIST-1e\",\"55 Cancri e\",\"TRAPPIST-1e\",\"PSO J318.5-22\",\"TRAPPIST-1e\",\"55 Cancri e\",\"PSO J318.5-22\",\"55 Cancri e\",\"TRAPPIST-1e\",\"TRAPPIST-1e\",\"TRAPPIST-1e\",\"TRAPPIST-1e\",\"TRAPPIST-1e\",\"TRAPPIST-1e\",\"TRAPPIST-1e\",\"TRAPPIST-1e\",\"TRAPPIST-1e\",\"55 Cancri e\",\"55 Cancri e\",\"TRAPPIST-1e\",\"TRAPPIST-1e\",\"55 Cancri e\",\"55 Cancri e\",\"TRAPPIST-1e\",\"PSO J318.5-22\",\"TRAPPIST-1e\",\"TRAPPIST-1e\",\"TRAPPIST-1e\",\"TRAPPIST-1e\",\"TRAPPIST-1e\",\"TRAPPIST-1e\",\"TRAPPIST-1e\",\"PSO J318.5-22\",\"TRAPPIST-1e\",\"55 Cancri e\",\"TRAPPIST-1e\",\"TRAPPIST-1e\",\"PSO J318.5-22\",\"TRAPPIST-1e\",\"TRAPPIST-1e\",\"TRAPPIST-1e\",\"TRAPPIST-1e\",\"TRAPPIST-1e\",\"55 Cancri e\",\"55 Cancri e\",\"TRAPPIST-1e\",\"TRAPPIST-1e\",\"TRAPPIST-1e\",\"55 Cancri e\",\"TRAPPIST-1e\",\"PSO J318.5-22\",\"TRAPPIST-1e\",\"TRAPPIST-1e\",\"TRAPPIST-1e\",\"TRAPPIST-1e\",\"TRAPPIST-1e\",\"TRAPPIST-1e\",\"TRAPPIST-1e\",\"TRAPPIST-1e\",\"55 Cancri e\",\"TRAPPIST-1e\",\"PSO J318.5-22\",\"TRAPPIST-1e\",\"TRAPPIST-1e\",\"TRAPPIST-1e\",\"TRAPPIST-1e\",\"TRAPPIST-1e\",\"TRAPPIST-1e\",\"TRAPPIST-1e\",\"TRAPPIST-1e\",\"PSO J318.5-22\",\"TRAPPIST-1e\",\"TRAPPIST-1e\",\"55 Cancri e\",null,\"PSO J318.5-22\",\"TRAPPIST-1e\",\"TRAPPIST-1e\",\"TRAPPIST-1e\",\"55 Cancri e\",\"55 Cancri e\",\"TRAPPIST-1e\",\"TRAPPIST-1e\",\"TRAPPIST-1e\",\"TRAPPIST-1e\",\"55 Cancri e\",\"TRAPPIST-1e\",\"TRAPPIST-1e\",\"TRAPPIST-1e\",\"PSO J318.5-22\",\"TRAPPIST-1e\",\"TRAPPIST-1e\",\"PSO J318.5-22\",\"PSO J318.5-22\",\"55 Cancri e\",\"TRAPPIST-1e\",\"TRAPPIST-1e\",\"TRAPPIST-1e\",\"TRAPPIST-1e\",\"TRAPPIST-1e\",\"PSO J318.5-22\",\"TRAPPIST-1e\",\"TRAPPIST-1e\",\"TRAPPIST-1e\",\"TRAPPIST-1e\",\"TRAPPIST-1e\",\"TRAPPIST-1e\",\"TRAPPIST-1e\",\"TRAPPIST-1e\",\"55 Cancri e\",\"55 Cancri e\",\"55 Cancri e\",\"TRAPPIST-1e\",\"TRAPPIST-1e\",\"55 Cancri e\",\"TRAPPIST-1e\",\"TRAPPIST-1e\",\"TRAPPIST-1e\",\"TRAPPIST-1e\",\"TRAPPIST-1e\",\"TRAPPIST-1e\",\"TRAPPIST-1e\",\"TRAPPIST-1e\",\"PSO J318.5-22\",\"TRAPPIST-1e\",\"TRAPPIST-1e\",\"TRAPPIST-1e\",\"TRAPPIST-1e\",\"TRAPPIST-1e\",\"TRAPPIST-1e\",\"TRAPPIST-1e\",\"PSO J318.5-22\",\"TRAPPIST-1e\",\"TRAPPIST-1e\",\"TRAPPIST-1e\",\"PSO J318.5-22\",\"TRAPPIST-1e\",\"TRAPPIST-1e\",\"TRAPPIST-1e\",\"TRAPPIST-1e\",\"PSO J318.5-22\",\"PSO J318.5-22\",\"55 Cancri e\",\"TRAPPIST-1e\",\"TRAPPIST-1e\",\"55 Cancri e\",\"TRAPPIST-1e\",\"PSO J318.5-22\",\"TRAPPIST-1e\",\"TRAPPIST-1e\",\"TRAPPIST-1e\",\"55 Cancri e\",\"TRAPPIST-1e\",null,\"TRAPPIST-1e\",\"PSO J318.5-22\",\"TRAPPIST-1e\",\"TRAPPIST-1e\",\"TRAPPIST-1e\",\"55 Cancri e\",\"TRAPPIST-1e\",\"55 Cancri e\",\"55 Cancri e\",\"TRAPPIST-1e\",\"55 Cancri e\",\"TRAPPIST-1e\",\"TRAPPIST-1e\",\"55 Cancri e\",\"TRAPPIST-1e\",\"PSO J318.5-22\",\"TRAPPIST-1e\",\"TRAPPIST-1e\",\"TRAPPIST-1e\",\"TRAPPIST-1e\",\"TRAPPIST-1e\",\"55 Cancri e\",\"TRAPPIST-1e\",\"TRAPPIST-1e\",null,\"55 Cancri e\",\"TRAPPIST-1e\",\"PSO J318.5-22\",\"TRAPPIST-1e\",\"TRAPPIST-1e\",\"PSO J318.5-22\",\"TRAPPIST-1e\",\"TRAPPIST-1e\",\"TRAPPIST-1e\",\"55 Cancri e\",\"TRAPPIST-1e\",\"TRAPPIST-1e\",\"55 Cancri e\",\"55 Cancri e\",\"TRAPPIST-1e\",\"55 Cancri e\",\"TRAPPIST-1e\",\"55 Cancri e\",\"TRAPPIST-1e\",\"TRAPPIST-1e\",\"55 Cancri e\",\"TRAPPIST-1e\",\"55 Cancri e\",\"PSO J318.5-22\",\"TRAPPIST-1e\",\"TRAPPIST-1e\",\"55 Cancri e\",\"TRAPPIST-1e\",null,\"TRAPPIST-1e\",\"TRAPPIST-1e\",\"55 Cancri e\",\"TRAPPIST-1e\",\"TRAPPIST-1e\",\"TRAPPIST-1e\",\"55 Cancri e\",\"TRAPPIST-1e\",\"TRAPPIST-1e\",\"55 Cancri e\",\"TRAPPIST-1e\",\"TRAPPIST-1e\",\"TRAPPIST-1e\",\"TRAPPIST-1e\",\"TRAPPIST-1e\",\"TRAPPIST-1e\",\"TRAPPIST-1e\",\"TRAPPIST-1e\",\"55 Cancri e\",\"TRAPPIST-1e\",\"TRAPPIST-1e\",\"55 Cancri e\",\"55 Cancri e\",\"PSO J318.5-22\",\"TRAPPIST-1e\",\"55 Cancri e\",\"55 Cancri e\",\"TRAPPIST-1e\",\"TRAPPIST-1e\",\"TRAPPIST-1e\",\"TRAPPIST-1e\",\"TRAPPIST-1e\",\"TRAPPIST-1e\",\"TRAPPIST-1e\",\"55 Cancri e\",\"TRAPPIST-1e\",\"55 Cancri e\",\"TRAPPIST-1e\",\"TRAPPIST-1e\",\"TRAPPIST-1e\",\"PSO J318.5-22\",\"TRAPPIST-1e\",\"55 Cancri e\",\"55 Cancri e\",\"TRAPPIST-1e\",\"55 Cancri e\",\"55 Cancri e\",\"TRAPPIST-1e\",\"55 Cancri e\",\"TRAPPIST-1e\",\"TRAPPIST-1e\",\"TRAPPIST-1e\",\"TRAPPIST-1e\",\"55 Cancri e\",\"55 Cancri e\",\"55 Cancri e\",\"TRAPPIST-1e\",\"55 Cancri e\",\"TRAPPIST-1e\",\"TRAPPIST-1e\",\"PSO J318.5-22\",\"55 Cancri e\",\"TRAPPIST-1e\",\"TRAPPIST-1e\",\"TRAPPIST-1e\",\"TRAPPIST-1e\",\"TRAPPIST-1e\",\"TRAPPIST-1e\",\"TRAPPIST-1e\",\"55 Cancri e\",\"PSO J318.5-22\",\"TRAPPIST-1e\",\"TRAPPIST-1e\",\"PSO J318.5-22\",\"55 Cancri e\",\"PSO J318.5-22\",\"PSO J318.5-22\",\"TRAPPIST-1e\",\"TRAPPIST-1e\",\"TRAPPIST-1e\",\"TRAPPIST-1e\",\"55 Cancri e\",\"TRAPPIST-1e\",\"55 Cancri e\",\"TRAPPIST-1e\",\"TRAPPIST-1e\",\"PSO J318.5-22\",\"TRAPPIST-1e\",\"PSO J318.5-22\",\"55 Cancri e\",\"TRAPPIST-1e\",\"TRAPPIST-1e\",\"PSO J318.5-22\",\"55 Cancri e\",\"55 Cancri e\",\"TRAPPIST-1e\",\"55 Cancri e\",\"TRAPPIST-1e\",\"TRAPPIST-1e\",\"55 Cancri e\",\"TRAPPIST-1e\",\"TRAPPIST-1e\",\"TRAPPIST-1e\",\"TRAPPIST-1e\",\"TRAPPIST-1e\",\"PSO J318.5-22\",null,\"TRAPPIST-1e\",\"TRAPPIST-1e\",\"TRAPPIST-1e\",\"TRAPPIST-1e\",\"TRAPPIST-1e\",\"TRAPPIST-1e\",\"TRAPPIST-1e\",\"TRAPPIST-1e\",\"TRAPPIST-1e\",\"55 Cancri e\",\"55 Cancri e\",\"PSO J318.5-22\",\"TRAPPIST-1e\",\"55 Cancri e\",\"TRAPPIST-1e\",\"PSO J318.5-22\",\"55 Cancri e\",\"TRAPPIST-1e\",\"TRAPPIST-1e\",\"TRAPPIST-1e\",\"TRAPPIST-1e\",\"TRAPPIST-1e\",\"TRAPPIST-1e\",\"TRAPPIST-1e\",\"TRAPPIST-1e\",\"TRAPPIST-1e\",\"TRAPPIST-1e\",\"TRAPPIST-1e\",\"TRAPPIST-1e\",\"TRAPPIST-1e\",\"55 Cancri e\",\"TRAPPIST-1e\",\"TRAPPIST-1e\",\"PSO J318.5-22\",\"TRAPPIST-1e\",null,\"TRAPPIST-1e\",\"TRAPPIST-1e\",\"55 Cancri e\",\"TRAPPIST-1e\",\"TRAPPIST-1e\",\"55 Cancri e\",\"TRAPPIST-1e\",\"TRAPPIST-1e\",\"TRAPPIST-1e\",\"TRAPPIST-1e\",\"PSO J318.5-22\",\"TRAPPIST-1e\",\"TRAPPIST-1e\",\"TRAPPIST-1e\",\"TRAPPIST-1e\",\"TRAPPIST-1e\",\"TRAPPIST-1e\",\"TRAPPIST-1e\",\"TRAPPIST-1e\",\"TRAPPIST-1e\",\"TRAPPIST-1e\",\"TRAPPIST-1e\",\"TRAPPIST-1e\",\"TRAPPIST-1e\",\"TRAPPIST-1e\",\"TRAPPIST-1e\",\"TRAPPIST-1e\",\"TRAPPIST-1e\",\"TRAPPIST-1e\",\"55 Cancri e\",\"TRAPPIST-1e\",\"TRAPPIST-1e\",\"55 Cancri e\",null,\"TRAPPIST-1e\",\"TRAPPIST-1e\",\"TRAPPIST-1e\",\"TRAPPIST-1e\",\"PSO J318.5-22\",\"55 Cancri e\",\"TRAPPIST-1e\",\"TRAPPIST-1e\",\"TRAPPIST-1e\",\"PSO J318.5-22\",\"TRAPPIST-1e\",\"TRAPPIST-1e\",\"PSO J318.5-22\",\"TRAPPIST-1e\",\"PSO J318.5-22\",\"TRAPPIST-1e\",\"TRAPPIST-1e\",\"TRAPPIST-1e\",\"TRAPPIST-1e\",\"TRAPPIST-1e\",\"TRAPPIST-1e\",\"TRAPPIST-1e\",\"TRAPPIST-1e\",\"TRAPPIST-1e\",\"TRAPPIST-1e\",\"TRAPPIST-1e\",\"55 Cancri e\",\"TRAPPIST-1e\",\"PSO J318.5-22\",\"55 Cancri e\",\"55 Cancri e\",\"TRAPPIST-1e\",\"TRAPPIST-1e\",\"TRAPPIST-1e\",\"TRAPPIST-1e\",\"PSO J318.5-22\",\"TRAPPIST-1e\",\"TRAPPIST-1e\",\"55 Cancri e\",\"TRAPPIST-1e\",\"55 Cancri e\",\"TRAPPIST-1e\",\"TRAPPIST-1e\",\"TRAPPIST-1e\",\"TRAPPIST-1e\",\"TRAPPIST-1e\",\"TRAPPIST-1e\",\"55 Cancri e\",\"55 Cancri e\",\"55 Cancri e\",\"55 Cancri e\",\"TRAPPIST-1e\",\"TRAPPIST-1e\",\"TRAPPIST-1e\",\"55 Cancri e\",\"55 Cancri e\",\"TRAPPIST-1e\",\"55 Cancri e\",\"55 Cancri e\",\"55 Cancri e\",\"TRAPPIST-1e\",\"55 Cancri e\",\"TRAPPIST-1e\",\"TRAPPIST-1e\",\"TRAPPIST-1e\",\"TRAPPIST-1e\",\"55 Cancri e\",\"55 Cancri e\",\"55 Cancri e\",\"PSO J318.5-22\",\"TRAPPIST-1e\",\"TRAPPIST-1e\",\"PSO J318.5-22\",\"TRAPPIST-1e\",\"TRAPPIST-1e\",\"55 Cancri e\",\"55 Cancri e\",\"TRAPPIST-1e\",\"PSO J318.5-22\",\"TRAPPIST-1e\",null,\"TRAPPIST-1e\",\"55 Cancri e\",\"TRAPPIST-1e\",\"55 Cancri e\",\"TRAPPIST-1e\",\"55 Cancri e\",\"55 Cancri e\",\"TRAPPIST-1e\",\"TRAPPIST-1e\",\"TRAPPIST-1e\",\"TRAPPIST-1e\",\"TRAPPIST-1e\",\"TRAPPIST-1e\",\"TRAPPIST-1e\",\"55 Cancri e\",\"55 Cancri e\",\"TRAPPIST-1e\",\"55 Cancri e\",\"TRAPPIST-1e\",\"TRAPPIST-1e\",\"TRAPPIST-1e\",\"TRAPPIST-1e\",\"TRAPPIST-1e\",\"TRAPPIST-1e\",\"TRAPPIST-1e\",\"PSO J318.5-22\",\"TRAPPIST-1e\",\"TRAPPIST-1e\",\"TRAPPIST-1e\",\"TRAPPIST-1e\",\"TRAPPIST-1e\",\"TRAPPIST-1e\",\"TRAPPIST-1e\",\"TRAPPIST-1e\",\"TRAPPIST-1e\",\"55 Cancri e\",\"55 Cancri e\",\"55 Cancri e\",\"TRAPPIST-1e\",\"TRAPPIST-1e\",\"TRAPPIST-1e\",\"TRAPPIST-1e\",\"TRAPPIST-1e\",\"TRAPPIST-1e\",\"PSO J318.5-22\",\"TRAPPIST-1e\",\"TRAPPIST-1e\",\"55 Cancri e\",\"TRAPPIST-1e\",\"TRAPPIST-1e\",\"TRAPPIST-1e\",\"TRAPPIST-1e\",\"TRAPPIST-1e\",\"PSO J318.5-22\",\"PSO J318.5-22\",\"TRAPPIST-1e\",\"TRAPPIST-1e\",\"TRAPPIST-1e\",\"TRAPPIST-1e\",\"TRAPPIST-1e\",\"55 Cancri e\",\"TRAPPIST-1e\",\"TRAPPIST-1e\",\"TRAPPIST-1e\",\"TRAPPIST-1e\",\"TRAPPIST-1e\",\"TRAPPIST-1e\",\"55 Cancri e\",\"TRAPPIST-1e\",\"TRAPPIST-1e\",\"TRAPPIST-1e\",\"TRAPPIST-1e\",\"55 Cancri e\",\"TRAPPIST-1e\",\"55 Cancri e\",\"TRAPPIST-1e\",\"TRAPPIST-1e\",\"TRAPPIST-1e\",\"TRAPPIST-1e\",\"55 Cancri e\",\"TRAPPIST-1e\",\"PSO J318.5-22\",\"TRAPPIST-1e\",\"PSO J318.5-22\",\"TRAPPIST-1e\",\"55 Cancri e\",\"55 Cancri e\",\"TRAPPIST-1e\",\"TRAPPIST-1e\",\"TRAPPIST-1e\",\"TRAPPIST-1e\",\"PSO J318.5-22\",\"55 Cancri e\",\"55 Cancri e\",\"TRAPPIST-1e\",\"55 Cancri e\",\"55 Cancri e\",\"TRAPPIST-1e\",\"TRAPPIST-1e\",\"TRAPPIST-1e\",\"TRAPPIST-1e\",\"TRAPPIST-1e\",\"PSO J318.5-22\",\"TRAPPIST-1e\",\"PSO J318.5-22\",\"TRAPPIST-1e\",\"TRAPPIST-1e\",\"TRAPPIST-1e\",\"55 Cancri e\",\"55 Cancri e\",\"55 Cancri e\",\"TRAPPIST-1e\",\"TRAPPIST-1e\",\"TRAPPIST-1e\",\"TRAPPIST-1e\",\"55 Cancri e\",\"TRAPPIST-1e\",\"TRAPPIST-1e\",\"TRAPPIST-1e\",\"TRAPPIST-1e\",\"TRAPPIST-1e\",\"TRAPPIST-1e\",\"TRAPPIST-1e\",\"TRAPPIST-1e\",\"55 Cancri e\",\"55 Cancri e\",\"PSO J318.5-22\",\"TRAPPIST-1e\",\"55 Cancri e\",\"55 Cancri e\",\"55 Cancri e\",\"TRAPPIST-1e\",\"55 Cancri e\",\"PSO J318.5-22\",\"TRAPPIST-1e\",\"55 Cancri e\",\"TRAPPIST-1e\",\"TRAPPIST-1e\",\"TRAPPIST-1e\",\"TRAPPIST-1e\",\"TRAPPIST-1e\",\"TRAPPIST-1e\",\"TRAPPIST-1e\",\"TRAPPIST-1e\",\"TRAPPIST-1e\",\"55 Cancri e\",\"TRAPPIST-1e\",\"TRAPPIST-1e\",\"TRAPPIST-1e\",\"55 Cancri e\",\"TRAPPIST-1e\",\"55 Cancri e\",\"TRAPPIST-1e\",\"TRAPPIST-1e\",\"TRAPPIST-1e\",\"TRAPPIST-1e\",\"PSO J318.5-22\",\"TRAPPIST-1e\",\"TRAPPIST-1e\",\"TRAPPIST-1e\",\"55 Cancri e\",\"TRAPPIST-1e\",\"PSO J318.5-22\",\"PSO J318.5-22\",\"TRAPPIST-1e\",\"TRAPPIST-1e\",null,\"TRAPPIST-1e\",\"TRAPPIST-1e\",\"TRAPPIST-1e\",\"55 Cancri e\",\"TRAPPIST-1e\",\"TRAPPIST-1e\",\"PSO J318.5-22\",\"TRAPPIST-1e\",\"TRAPPIST-1e\",\"PSO J318.5-22\",\"55 Cancri e\",\"TRAPPIST-1e\",\"TRAPPIST-1e\",\"55 Cancri e\",\"TRAPPIST-1e\",\"TRAPPIST-1e\",\"TRAPPIST-1e\",\"TRAPPIST-1e\",\"TRAPPIST-1e\",\"TRAPPIST-1e\",\"TRAPPIST-1e\",\"TRAPPIST-1e\",\"55 Cancri e\",\"55 Cancri e\",\"TRAPPIST-1e\",\"TRAPPIST-1e\",\"55 Cancri e\",\"TRAPPIST-1e\",\"TRAPPIST-1e\",\"PSO J318.5-22\",\"TRAPPIST-1e\",\"TRAPPIST-1e\",\"TRAPPIST-1e\",null,\"TRAPPIST-1e\",\"TRAPPIST-1e\",\"55 Cancri e\",\"TRAPPIST-1e\",null,\"TRAPPIST-1e\",\"PSO J318.5-22\",\"TRAPPIST-1e\",\"PSO J318.5-22\",\"TRAPPIST-1e\",\"55 Cancri e\",\"55 Cancri e\",\"PSO J318.5-22\",\"TRAPPIST-1e\",\"TRAPPIST-1e\",\"TRAPPIST-1e\",\"TRAPPIST-1e\",\"TRAPPIST-1e\",\"55 Cancri e\",\"TRAPPIST-1e\",\"TRAPPIST-1e\",\"TRAPPIST-1e\",\"TRAPPIST-1e\",\"TRAPPIST-1e\",\"TRAPPIST-1e\",\"PSO J318.5-22\",\"TRAPPIST-1e\",\"TRAPPIST-1e\",\"TRAPPIST-1e\",\"TRAPPIST-1e\",\"TRAPPIST-1e\",\"TRAPPIST-1e\",\"TRAPPIST-1e\",\"55 Cancri e\",\"TRAPPIST-1e\",\"TRAPPIST-1e\",\"55 Cancri e\",\"55 Cancri e\",\"TRAPPIST-1e\",\"TRAPPIST-1e\",\"PSO J318.5-22\",\"55 Cancri e\",\"PSO J318.5-22\",\"TRAPPIST-1e\",\"55 Cancri e\",\"55 Cancri e\",\"TRAPPIST-1e\",\"55 Cancri e\",\"55 Cancri e\",\"PSO J318.5-22\",\"TRAPPIST-1e\",\"TRAPPIST-1e\",\"TRAPPIST-1e\",\"55 Cancri e\",\"TRAPPIST-1e\",\"TRAPPIST-1e\",\"55 Cancri e\",\"TRAPPIST-1e\",\"PSO J318.5-22\",\"TRAPPIST-1e\",\"TRAPPIST-1e\",\"TRAPPIST-1e\",\"TRAPPIST-1e\",\"TRAPPIST-1e\",\"PSO J318.5-22\",\"TRAPPIST-1e\",\"TRAPPIST-1e\",\"TRAPPIST-1e\",\"TRAPPIST-1e\",\"55 Cancri e\",\"TRAPPIST-1e\",\"PSO J318.5-22\",\"TRAPPIST-1e\",\"TRAPPIST-1e\",\"55 Cancri e\",\"TRAPPIST-1e\",\"TRAPPIST-1e\",\"TRAPPIST-1e\",\"55 Cancri e\",\"55 Cancri e\",\"TRAPPIST-1e\",\"55 Cancri e\",null,\"TRAPPIST-1e\",\"TRAPPIST-1e\",\"55 Cancri e\",\"TRAPPIST-1e\",\"55 Cancri e\",\"TRAPPIST-1e\",\"TRAPPIST-1e\",\"TRAPPIST-1e\",\"TRAPPIST-1e\",\"TRAPPIST-1e\",\"55 Cancri e\",\"PSO J318.5-22\",\"TRAPPIST-1e\",\"TRAPPIST-1e\",\"55 Cancri e\",\"TRAPPIST-1e\",\"TRAPPIST-1e\",\"TRAPPIST-1e\",null,\"TRAPPIST-1e\",\"55 Cancri e\",\"55 Cancri e\",\"PSO J318.5-22\",\"TRAPPIST-1e\",\"TRAPPIST-1e\",\"TRAPPIST-1e\",\"55 Cancri e\",\"PSO J318.5-22\",\"TRAPPIST-1e\",\"TRAPPIST-1e\",\"TRAPPIST-1e\",\"TRAPPIST-1e\",\"TRAPPIST-1e\",\"TRAPPIST-1e\",\"TRAPPIST-1e\",\"TRAPPIST-1e\",\"PSO J318.5-22\",\"TRAPPIST-1e\",\"TRAPPIST-1e\",\"TRAPPIST-1e\",\"PSO J318.5-22\",\"55 Cancri e\",\"55 Cancri e\",\"TRAPPIST-1e\",\"TRAPPIST-1e\",\"TRAPPIST-1e\",\"PSO J318.5-22\",\"55 Cancri e\",\"TRAPPIST-1e\",\"TRAPPIST-1e\",\"TRAPPIST-1e\",\"TRAPPIST-1e\",\"TRAPPIST-1e\",\"TRAPPIST-1e\",\"TRAPPIST-1e\",\"TRAPPIST-1e\",\"PSO J318.5-22\",\"55 Cancri e\",\"55 Cancri e\",\"TRAPPIST-1e\",\"TRAPPIST-1e\",\"55 Cancri e\",\"PSO J318.5-22\",\"TRAPPIST-1e\",\"TRAPPIST-1e\",\"TRAPPIST-1e\",\"TRAPPIST-1e\",\"PSO J318.5-22\",\"TRAPPIST-1e\",\"55 Cancri e\",null,\"TRAPPIST-1e\",null,\"TRAPPIST-1e\",\"55 Cancri e\",\"PSO J318.5-22\",\"TRAPPIST-1e\",\"TRAPPIST-1e\",\"TRAPPIST-1e\",\"TRAPPIST-1e\",\"TRAPPIST-1e\",\"TRAPPIST-1e\",\"TRAPPIST-1e\",\"55 Cancri e\",\"TRAPPIST-1e\",\"55 Cancri e\",\"55 Cancri e\",\"TRAPPIST-1e\",\"TRAPPIST-1e\",\"PSO J318.5-22\",\"TRAPPIST-1e\",\"PSO J318.5-22\",\"TRAPPIST-1e\",\"TRAPPIST-1e\",\"TRAPPIST-1e\",\"PSO J318.5-22\",\"TRAPPIST-1e\",\"TRAPPIST-1e\",\"TRAPPIST-1e\",\"TRAPPIST-1e\",\"PSO J318.5-22\",\"55 Cancri e\",\"TRAPPIST-1e\",\"55 Cancri e\",\"TRAPPIST-1e\",\"TRAPPIST-1e\",\"TRAPPIST-1e\",\"55 Cancri e\",\"55 Cancri e\",\"PSO J318.5-22\",\"TRAPPIST-1e\",\"PSO J318.5-22\",\"TRAPPIST-1e\",\"TRAPPIST-1e\",\"TRAPPIST-1e\",\"TRAPPIST-1e\",\"TRAPPIST-1e\",\"TRAPPIST-1e\",\"TRAPPIST-1e\",null,\"TRAPPIST-1e\",\"TRAPPIST-1e\",\"TRAPPIST-1e\",\"PSO J318.5-22\",\"TRAPPIST-1e\",\"55 Cancri e\",\"TRAPPIST-1e\",\"TRAPPIST-1e\",\"TRAPPIST-1e\",\"55 Cancri e\",\"PSO J318.5-22\",\"PSO J318.5-22\",\"TRAPPIST-1e\",\"TRAPPIST-1e\",\"55 Cancri e\",\"55 Cancri e\",\"55 Cancri e\",null,\"TRAPPIST-1e\",\"55 Cancri e\",\"55 Cancri e\",\"TRAPPIST-1e\",\"TRAPPIST-1e\",\"TRAPPIST-1e\",\"TRAPPIST-1e\",\"PSO J318.5-22\",\"PSO J318.5-22\",\"TRAPPIST-1e\",\"TRAPPIST-1e\",\"TRAPPIST-1e\",\"55 Cancri e\",\"TRAPPIST-1e\",\"TRAPPIST-1e\",\"TRAPPIST-1e\",\"TRAPPIST-1e\",\"TRAPPIST-1e\",\"TRAPPIST-1e\",\"TRAPPIST-1e\",\"55 Cancri e\",\"TRAPPIST-1e\",\"TRAPPIST-1e\",\"TRAPPIST-1e\",\"TRAPPIST-1e\",\"TRAPPIST-1e\",\"TRAPPIST-1e\",\"55 Cancri e\",\"TRAPPIST-1e\",\"55 Cancri e\",\"TRAPPIST-1e\",\"TRAPPIST-1e\",\"TRAPPIST-1e\",\"TRAPPIST-1e\",\"TRAPPIST-1e\",\"PSO J318.5-22\",\"TRAPPIST-1e\",\"PSO J318.5-22\",\"TRAPPIST-1e\",\"TRAPPIST-1e\",\"TRAPPIST-1e\",\"TRAPPIST-1e\",\"TRAPPIST-1e\",\"TRAPPIST-1e\",\"PSO J318.5-22\",\"TRAPPIST-1e\",\"TRAPPIST-1e\",\"TRAPPIST-1e\",\"55 Cancri e\",\"TRAPPIST-1e\",\"TRAPPIST-1e\",\"TRAPPIST-1e\",\"TRAPPIST-1e\",\"TRAPPIST-1e\",\"TRAPPIST-1e\",\"TRAPPIST-1e\",\"TRAPPIST-1e\",\"PSO J318.5-22\",\"TRAPPIST-1e\",\"TRAPPIST-1e\",\"TRAPPIST-1e\",\"55 Cancri e\",\"TRAPPIST-1e\",\"TRAPPIST-1e\",\"TRAPPIST-1e\",\"TRAPPIST-1e\",\"TRAPPIST-1e\",\"TRAPPIST-1e\",\"TRAPPIST-1e\",\"PSO J318.5-22\",\"55 Cancri e\",\"TRAPPIST-1e\",\"55 Cancri e\",\"TRAPPIST-1e\",\"PSO J318.5-22\",\"55 Cancri e\",\"55 Cancri e\",\"TRAPPIST-1e\",\"TRAPPIST-1e\",\"TRAPPIST-1e\",\"TRAPPIST-1e\",\"TRAPPIST-1e\",\"TRAPPIST-1e\",\"TRAPPIST-1e\",\"55 Cancri e\",\"PSO J318.5-22\",\"55 Cancri e\",\"TRAPPIST-1e\",\"TRAPPIST-1e\",\"TRAPPIST-1e\",\"TRAPPIST-1e\",\"55 Cancri e\",\"TRAPPIST-1e\",\"TRAPPIST-1e\",\"TRAPPIST-1e\",\"TRAPPIST-1e\",\"TRAPPIST-1e\",\"PSO J318.5-22\",\"TRAPPIST-1e\",\"55 Cancri e\",\"TRAPPIST-1e\",\"TRAPPIST-1e\",\"TRAPPIST-1e\",\"TRAPPIST-1e\",\"TRAPPIST-1e\",\"TRAPPIST-1e\",\"TRAPPIST-1e\",\"PSO J318.5-22\",null,\"TRAPPIST-1e\",\"TRAPPIST-1e\",\"TRAPPIST-1e\",\"55 Cancri e\",\"TRAPPIST-1e\",\"55 Cancri e\",\"TRAPPIST-1e\",\"55 Cancri e\",\"TRAPPIST-1e\",\"TRAPPIST-1e\",\"TRAPPIST-1e\",\"PSO J318.5-22\",\"PSO J318.5-22\",\"TRAPPIST-1e\",\"TRAPPIST-1e\",\"TRAPPIST-1e\",\"TRAPPIST-1e\",\"TRAPPIST-1e\",\"55 Cancri e\",\"TRAPPIST-1e\",\"TRAPPIST-1e\",\"TRAPPIST-1e\",\"TRAPPIST-1e\",\"TRAPPIST-1e\",\"TRAPPIST-1e\",\"55 Cancri e\",\"55 Cancri e\",\"TRAPPIST-1e\",\"TRAPPIST-1e\",\"TRAPPIST-1e\",\"TRAPPIST-1e\",\"55 Cancri e\",\"TRAPPIST-1e\",\"TRAPPIST-1e\",\"TRAPPIST-1e\",\"TRAPPIST-1e\",\"55 Cancri e\",\"TRAPPIST-1e\",null,\"TRAPPIST-1e\",\"55 Cancri e\",\"TRAPPIST-1e\",\"55 Cancri e\",\"TRAPPIST-1e\",\"TRAPPIST-1e\",\"TRAPPIST-1e\",\"55 Cancri e\",\"55 Cancri e\",\"TRAPPIST-1e\",\"55 Cancri e\",\"55 Cancri e\",\"TRAPPIST-1e\",\"TRAPPIST-1e\",\"TRAPPIST-1e\",\"TRAPPIST-1e\",\"TRAPPIST-1e\",\"PSO J318.5-22\",\"55 Cancri e\",\"PSO J318.5-22\",\"55 Cancri e\",\"TRAPPIST-1e\",\"TRAPPIST-1e\",\"55 Cancri e\",\"TRAPPIST-1e\",\"TRAPPIST-1e\",\"TRAPPIST-1e\",\"TRAPPIST-1e\",\"TRAPPIST-1e\",\"TRAPPIST-1e\",\"55 Cancri e\",\"TRAPPIST-1e\",\"TRAPPIST-1e\",\"55 Cancri e\",\"55 Cancri e\",\"TRAPPIST-1e\",\"TRAPPIST-1e\",\"55 Cancri e\",\"TRAPPIST-1e\",\"TRAPPIST-1e\",\"TRAPPIST-1e\",\"TRAPPIST-1e\",\"TRAPPIST-1e\",\"55 Cancri e\",\"TRAPPIST-1e\",\"TRAPPIST-1e\",\"TRAPPIST-1e\",\"55 Cancri e\",\"TRAPPIST-1e\",\"TRAPPIST-1e\",\"TRAPPIST-1e\",\"PSO J318.5-22\",\"TRAPPIST-1e\",\"TRAPPIST-1e\",\"55 Cancri e\",\"TRAPPIST-1e\",\"TRAPPIST-1e\",\"TRAPPIST-1e\",\"TRAPPIST-1e\",\"TRAPPIST-1e\",\"TRAPPIST-1e\",\"55 Cancri e\",\"TRAPPIST-1e\",\"TRAPPIST-1e\",\"TRAPPIST-1e\",\"TRAPPIST-1e\",\"TRAPPIST-1e\",\"TRAPPIST-1e\",\"TRAPPIST-1e\",\"TRAPPIST-1e\",\"TRAPPIST-1e\",\"55 Cancri e\",\"TRAPPIST-1e\",\"TRAPPIST-1e\",\"55 Cancri e\",\"TRAPPIST-1e\",\"TRAPPIST-1e\",\"PSO J318.5-22\",\"55 Cancri e\",\"TRAPPIST-1e\",\"TRAPPIST-1e\",null,\"TRAPPIST-1e\",\"TRAPPIST-1e\",\"55 Cancri e\",\"TRAPPIST-1e\",\"TRAPPIST-1e\",\"55 Cancri e\",\"TRAPPIST-1e\",\"55 Cancri e\",\"PSO J318.5-22\",\"TRAPPIST-1e\",\"55 Cancri e\",\"TRAPPIST-1e\",\"55 Cancri e\",\"TRAPPIST-1e\",\"55 Cancri e\",\"TRAPPIST-1e\",\"TRAPPIST-1e\",\"TRAPPIST-1e\",\"PSO J318.5-22\",\"55 Cancri e\",\"55 Cancri e\",\"TRAPPIST-1e\",\"TRAPPIST-1e\",\"TRAPPIST-1e\",\"TRAPPIST-1e\",\"TRAPPIST-1e\",\"TRAPPIST-1e\",\"PSO J318.5-22\",\"PSO J318.5-22\",\"PSO J318.5-22\",\"TRAPPIST-1e\",\"55 Cancri e\",\"TRAPPIST-1e\",\"TRAPPIST-1e\",\"55 Cancri e\",\"55 Cancri e\",\"TRAPPIST-1e\",\"TRAPPIST-1e\",\"TRAPPIST-1e\",\"PSO J318.5-22\",\"TRAPPIST-1e\",\"55 Cancri e\",\"55 Cancri e\",\"TRAPPIST-1e\",null,\"TRAPPIST-1e\",null,\"TRAPPIST-1e\",\"55 Cancri e\",\"TRAPPIST-1e\",\"55 Cancri e\",\"TRAPPIST-1e\",\"TRAPPIST-1e\",\"TRAPPIST-1e\",\"55 Cancri e\",\"PSO J318.5-22\",\"TRAPPIST-1e\",\"TRAPPIST-1e\",\"TRAPPIST-1e\",\"TRAPPIST-1e\",\"55 Cancri e\",\"TRAPPIST-1e\",\"TRAPPIST-1e\",\"TRAPPIST-1e\",\"TRAPPIST-1e\",\"55 Cancri e\",\"TRAPPIST-1e\",null,\"TRAPPIST-1e\",\"TRAPPIST-1e\",\"TRAPPIST-1e\",\"55 Cancri e\",\"55 Cancri e\",\"TRAPPIST-1e\",\"TRAPPIST-1e\",\"PSO J318.5-22\",\"TRAPPIST-1e\",\"TRAPPIST-1e\",\"TRAPPIST-1e\",\"TRAPPIST-1e\",\"TRAPPIST-1e\",\"TRAPPIST-1e\",\"55 Cancri e\",\"TRAPPIST-1e\",\"55 Cancri e\",\"TRAPPIST-1e\",\"55 Cancri e\",\"TRAPPIST-1e\",\"TRAPPIST-1e\",\"PSO J318.5-22\",\"TRAPPIST-1e\",\"TRAPPIST-1e\",\"55 Cancri e\",\"TRAPPIST-1e\",\"TRAPPIST-1e\",\"TRAPPIST-1e\",\"PSO J318.5-22\",\"TRAPPIST-1e\",\"55 Cancri e\",\"TRAPPIST-1e\",\"TRAPPIST-1e\",\"55 Cancri e\",\"TRAPPIST-1e\",\"PSO J318.5-22\",\"TRAPPIST-1e\",\"TRAPPIST-1e\",\"TRAPPIST-1e\",\"TRAPPIST-1e\",\"TRAPPIST-1e\",\"PSO J318.5-22\",\"TRAPPIST-1e\",\"TRAPPIST-1e\",\"PSO J318.5-22\",\"55 Cancri e\",\"PSO J318.5-22\",\"TRAPPIST-1e\",\"TRAPPIST-1e\",\"PSO J318.5-22\",\"TRAPPIST-1e\",\"55 Cancri e\",\"TRAPPIST-1e\",\"PSO J318.5-22\",\"TRAPPIST-1e\",\"55 Cancri e\",\"TRAPPIST-1e\",\"TRAPPIST-1e\",\"55 Cancri e\",\"TRAPPIST-1e\",\"TRAPPIST-1e\",\"TRAPPIST-1e\",\"TRAPPIST-1e\",\"TRAPPIST-1e\",\"55 Cancri e\",\"TRAPPIST-1e\",\"TRAPPIST-1e\",\"TRAPPIST-1e\",\"TRAPPIST-1e\",\"PSO J318.5-22\",\"55 Cancri e\",\"TRAPPIST-1e\",\"TRAPPIST-1e\",\"TRAPPIST-1e\",\"TRAPPIST-1e\",\"PSO J318.5-22\",\"55 Cancri e\",\"TRAPPIST-1e\",\"TRAPPIST-1e\",\"55 Cancri e\",\"TRAPPIST-1e\",\"TRAPPIST-1e\",\"TRAPPIST-1e\",\"TRAPPIST-1e\",\"TRAPPIST-1e\",\"TRAPPIST-1e\",\"55 Cancri e\",\"TRAPPIST-1e\",\"PSO J318.5-22\",\"TRAPPIST-1e\",\"TRAPPIST-1e\",\"TRAPPIST-1e\",\"TRAPPIST-1e\",\"TRAPPIST-1e\",\"PSO J318.5-22\",\"55 Cancri e\",\"TRAPPIST-1e\",\"TRAPPIST-1e\",\"TRAPPIST-1e\",\"TRAPPIST-1e\",\"TRAPPIST-1e\",\"55 Cancri e\",\"TRAPPIST-1e\",\"TRAPPIST-1e\",\"TRAPPIST-1e\",\"PSO J318.5-22\",\"55 Cancri e\",\"TRAPPIST-1e\",\"PSO J318.5-22\",\"TRAPPIST-1e\",\"TRAPPIST-1e\",\"55 Cancri e\",\"TRAPPIST-1e\",\"TRAPPIST-1e\",\"55 Cancri e\",\"TRAPPIST-1e\",\"TRAPPIST-1e\",\"55 Cancri e\",\"TRAPPIST-1e\",\"TRAPPIST-1e\",\"55 Cancri e\",\"TRAPPIST-1e\",\"TRAPPIST-1e\",\"TRAPPIST-1e\",\"TRAPPIST-1e\",\"PSO J318.5-22\",\"TRAPPIST-1e\",\"TRAPPIST-1e\",\"55 Cancri e\",\"TRAPPIST-1e\",\"TRAPPIST-1e\",\"TRAPPIST-1e\",\"TRAPPIST-1e\",\"PSO J318.5-22\",\"55 Cancri e\",\"TRAPPIST-1e\",\"PSO J318.5-22\",\"TRAPPIST-1e\",\"TRAPPIST-1e\",\"TRAPPIST-1e\",\"TRAPPIST-1e\",\"TRAPPIST-1e\",\"TRAPPIST-1e\",\"TRAPPIST-1e\",\"TRAPPIST-1e\",\"55 Cancri e\",\"TRAPPIST-1e\",\"TRAPPIST-1e\",\"TRAPPIST-1e\",\"55 Cancri e\",\"TRAPPIST-1e\",\"TRAPPIST-1e\",\"TRAPPIST-1e\",\"55 Cancri e\",\"55 Cancri e\",\"55 Cancri e\",\"55 Cancri e\",\"TRAPPIST-1e\",\"TRAPPIST-1e\",\"PSO J318.5-22\",\"PSO J318.5-22\",\"TRAPPIST-1e\",\"PSO J318.5-22\",\"TRAPPIST-1e\",\"TRAPPIST-1e\",\"TRAPPIST-1e\",\"TRAPPIST-1e\",\"55 Cancri e\",\"TRAPPIST-1e\",\"TRAPPIST-1e\",\"TRAPPIST-1e\",\"TRAPPIST-1e\",\"TRAPPIST-1e\",\"55 Cancri e\",\"TRAPPIST-1e\",\"TRAPPIST-1e\",\"TRAPPIST-1e\",\"TRAPPIST-1e\",\"55 Cancri e\",\"TRAPPIST-1e\",\"TRAPPIST-1e\",\"TRAPPIST-1e\",\"TRAPPIST-1e\",\"TRAPPIST-1e\",\"TRAPPIST-1e\",\"TRAPPIST-1e\",\"TRAPPIST-1e\",\"TRAPPIST-1e\",\"TRAPPIST-1e\",\"55 Cancri e\",\"55 Cancri e\",\"55 Cancri e\",\"TRAPPIST-1e\",\"TRAPPIST-1e\",\"TRAPPIST-1e\",\"TRAPPIST-1e\",\"TRAPPIST-1e\",\"TRAPPIST-1e\",\"TRAPPIST-1e\",\"TRAPPIST-1e\",\"PSO J318.5-22\",\"55 Cancri e\",\"TRAPPIST-1e\",\"TRAPPIST-1e\",\"TRAPPIST-1e\",\"TRAPPIST-1e\",\"TRAPPIST-1e\",\"TRAPPIST-1e\",\"55 Cancri e\",\"TRAPPIST-1e\",\"TRAPPIST-1e\",\"TRAPPIST-1e\",\"TRAPPIST-1e\",\"TRAPPIST-1e\",\"55 Cancri e\",\"55 Cancri e\",\"TRAPPIST-1e\",\"PSO J318.5-22\",\"TRAPPIST-1e\",\"TRAPPIST-1e\",\"55 Cancri e\",\"TRAPPIST-1e\",\"TRAPPIST-1e\",\"55 Cancri e\",\"TRAPPIST-1e\",\"TRAPPIST-1e\",\"PSO J318.5-22\",\"TRAPPIST-1e\",\"55 Cancri e\",\"TRAPPIST-1e\",\"TRAPPIST-1e\",\"TRAPPIST-1e\",\"TRAPPIST-1e\",\"TRAPPIST-1e\",\"TRAPPIST-1e\",\"TRAPPIST-1e\",\"PSO J318.5-22\",\"TRAPPIST-1e\",\"TRAPPIST-1e\",\"55 Cancri e\",\"55 Cancri e\",\"TRAPPIST-1e\",\"TRAPPIST-1e\",\"PSO J318.5-22\",\"55 Cancri e\",\"TRAPPIST-1e\",\"TRAPPIST-1e\",\"TRAPPIST-1e\",\"PSO J318.5-22\",\"TRAPPIST-1e\",\"PSO J318.5-22\",\"TRAPPIST-1e\",\"TRAPPIST-1e\",\"55 Cancri e\",\"PSO J318.5-22\",\"TRAPPIST-1e\",\"TRAPPIST-1e\",\"TRAPPIST-1e\",\"TRAPPIST-1e\",\"TRAPPIST-1e\",\"TRAPPIST-1e\",\"PSO J318.5-22\",\"TRAPPIST-1e\",\"PSO J318.5-22\",\"TRAPPIST-1e\",\"TRAPPIST-1e\",\"TRAPPIST-1e\",\"55 Cancri e\",\"TRAPPIST-1e\",\"TRAPPIST-1e\",\"55 Cancri e\",\"TRAPPIST-1e\",null,\"55 Cancri e\",\"TRAPPIST-1e\",\"TRAPPIST-1e\",\"55 Cancri e\",\"TRAPPIST-1e\",\"55 Cancri e\",\"55 Cancri e\",null,\"TRAPPIST-1e\",\"TRAPPIST-1e\",\"TRAPPIST-1e\",\"TRAPPIST-1e\",\"55 Cancri e\",\"TRAPPIST-1e\",\"55 Cancri e\",\"TRAPPIST-1e\",\"55 Cancri e\",\"55 Cancri e\",\"55 Cancri e\",\"TRAPPIST-1e\",\"TRAPPIST-1e\",\"TRAPPIST-1e\",\"55 Cancri e\",\"TRAPPIST-1e\",\"PSO J318.5-22\",\"TRAPPIST-1e\",\"TRAPPIST-1e\",\"TRAPPIST-1e\",\"TRAPPIST-1e\",\"55 Cancri e\",\"TRAPPIST-1e\",\"PSO J318.5-22\",\"TRAPPIST-1e\",\"TRAPPIST-1e\",\"TRAPPIST-1e\",\"TRAPPIST-1e\",\"TRAPPIST-1e\",\"TRAPPIST-1e\",\"TRAPPIST-1e\",\"TRAPPIST-1e\",\"TRAPPIST-1e\",\"55 Cancri e\",\"PSO J318.5-22\",\"TRAPPIST-1e\",\"TRAPPIST-1e\",\"TRAPPIST-1e\",\"55 Cancri e\",\"TRAPPIST-1e\",\"TRAPPIST-1e\",\"TRAPPIST-1e\",\"TRAPPIST-1e\",\"TRAPPIST-1e\",\"55 Cancri e\",\"55 Cancri e\",\"TRAPPIST-1e\",\"55 Cancri e\",\"55 Cancri e\",\"55 Cancri e\",\"TRAPPIST-1e\",\"55 Cancri e\",\"PSO J318.5-22\",\"TRAPPIST-1e\",\"TRAPPIST-1e\",\"55 Cancri e\",\"55 Cancri e\",\"55 Cancri e\",\"TRAPPIST-1e\",\"TRAPPIST-1e\",\"TRAPPIST-1e\",\"55 Cancri e\",\"TRAPPIST-1e\",\"TRAPPIST-1e\",\"TRAPPIST-1e\",\"TRAPPIST-1e\",\"TRAPPIST-1e\",\"TRAPPIST-1e\",\"55 Cancri e\",\"55 Cancri e\",\"55 Cancri e\",\"TRAPPIST-1e\",\"TRAPPIST-1e\",\"TRAPPIST-1e\",\"TRAPPIST-1e\",\"TRAPPIST-1e\",\"TRAPPIST-1e\",\"TRAPPIST-1e\",\"TRAPPIST-1e\",\"TRAPPIST-1e\",\"TRAPPIST-1e\",null,\"55 Cancri e\",\"55 Cancri e\",\"TRAPPIST-1e\",\"55 Cancri e\",\"TRAPPIST-1e\",\"TRAPPIST-1e\",\"TRAPPIST-1e\",\"TRAPPIST-1e\",\"55 Cancri e\",\"TRAPPIST-1e\",\"TRAPPIST-1e\",\"PSO J318.5-22\",\"PSO J318.5-22\",\"TRAPPIST-1e\",\"TRAPPIST-1e\",\"TRAPPIST-1e\",\"TRAPPIST-1e\",\"TRAPPIST-1e\",\"TRAPPIST-1e\",\"TRAPPIST-1e\",\"TRAPPIST-1e\",\"PSO J318.5-22\",\"PSO J318.5-22\",\"55 Cancri e\",\"TRAPPIST-1e\",\"TRAPPIST-1e\",\"55 Cancri e\",\"TRAPPIST-1e\",\"PSO J318.5-22\",\"TRAPPIST-1e\",\"55 Cancri e\",\"TRAPPIST-1e\",\"TRAPPIST-1e\",\"55 Cancri e\",\"TRAPPIST-1e\",\"TRAPPIST-1e\",\"55 Cancri e\",\"TRAPPIST-1e\",\"TRAPPIST-1e\",\"PSO J318.5-22\",\"TRAPPIST-1e\",\"TRAPPIST-1e\",\"TRAPPIST-1e\",\"TRAPPIST-1e\",\"55 Cancri e\",\"TRAPPIST-1e\",\"55 Cancri e\",\"TRAPPIST-1e\",\"TRAPPIST-1e\",\"TRAPPIST-1e\",\"TRAPPIST-1e\",\"TRAPPIST-1e\",\"55 Cancri e\",\"TRAPPIST-1e\",\"TRAPPIST-1e\",\"PSO J318.5-22\",\"TRAPPIST-1e\",\"TRAPPIST-1e\",\"TRAPPIST-1e\",\"PSO J318.5-22\",\"TRAPPIST-1e\",\"PSO J318.5-22\",\"55 Cancri e\",\"TRAPPIST-1e\",\"55 Cancri e\",\"TRAPPIST-1e\",\"TRAPPIST-1e\",\"TRAPPIST-1e\",\"TRAPPIST-1e\",\"55 Cancri e\",\"TRAPPIST-1e\",\"PSO J318.5-22\",\"TRAPPIST-1e\",\"PSO J318.5-22\",\"TRAPPIST-1e\",\"TRAPPIST-1e\",\"TRAPPIST-1e\",\"TRAPPIST-1e\",\"TRAPPIST-1e\",\"TRAPPIST-1e\",\"55 Cancri e\",\"TRAPPIST-1e\",\"TRAPPIST-1e\",\"TRAPPIST-1e\",\"55 Cancri e\",\"TRAPPIST-1e\",\"TRAPPIST-1e\",\"TRAPPIST-1e\",\"TRAPPIST-1e\",\"TRAPPIST-1e\",\"TRAPPIST-1e\",\"TRAPPIST-1e\",\"TRAPPIST-1e\",\"TRAPPIST-1e\",\"TRAPPIST-1e\",\"55 Cancri e\",\"55 Cancri e\",\"55 Cancri e\",\"TRAPPIST-1e\",\"TRAPPIST-1e\",\"55 Cancri e\",\"TRAPPIST-1e\",\"TRAPPIST-1e\",\"TRAPPIST-1e\",\"TRAPPIST-1e\",\"TRAPPIST-1e\",\"TRAPPIST-1e\",\"TRAPPIST-1e\",\"TRAPPIST-1e\",\"TRAPPIST-1e\",\"TRAPPIST-1e\",\"TRAPPIST-1e\",\"TRAPPIST-1e\",\"TRAPPIST-1e\",\"TRAPPIST-1e\",\"PSO J318.5-22\",\"PSO J318.5-22\",\"TRAPPIST-1e\",\"PSO J318.5-22\",\"TRAPPIST-1e\",\"55 Cancri e\",\"TRAPPIST-1e\",\"TRAPPIST-1e\",\"PSO J318.5-22\",\"TRAPPIST-1e\",\"TRAPPIST-1e\",\"TRAPPIST-1e\",\"TRAPPIST-1e\",\"55 Cancri e\",\"TRAPPIST-1e\",\"TRAPPIST-1e\",\"TRAPPIST-1e\",\"TRAPPIST-1e\",\"55 Cancri e\",\"55 Cancri e\",\"TRAPPIST-1e\",\"55 Cancri e\",\"TRAPPIST-1e\",\"TRAPPIST-1e\",\"55 Cancri e\",\"TRAPPIST-1e\",\"TRAPPIST-1e\",\"PSO J318.5-22\",\"TRAPPIST-1e\",null,\"55 Cancri e\",\"55 Cancri e\",\"TRAPPIST-1e\",\"TRAPPIST-1e\",\"TRAPPIST-1e\",\"TRAPPIST-1e\",\"TRAPPIST-1e\",\"TRAPPIST-1e\",\"TRAPPIST-1e\",\"TRAPPIST-1e\",\"TRAPPIST-1e\",\"TRAPPIST-1e\",\"TRAPPIST-1e\",null,\"TRAPPIST-1e\",\"55 Cancri e\",\"TRAPPIST-1e\",\"TRAPPIST-1e\",\"55 Cancri e\",\"55 Cancri e\",\"TRAPPIST-1e\",\"TRAPPIST-1e\",\"TRAPPIST-1e\",\"TRAPPIST-1e\",\"TRAPPIST-1e\",\"55 Cancri e\",\"55 Cancri e\",\"TRAPPIST-1e\",\"55 Cancri e\",\"PSO J318.5-22\",null,\"TRAPPIST-1e\",\"PSO J318.5-22\",\"TRAPPIST-1e\",\"TRAPPIST-1e\",\"TRAPPIST-1e\",\"55 Cancri e\",\"TRAPPIST-1e\",\"TRAPPIST-1e\",\"TRAPPIST-1e\",\"55 Cancri e\",\"TRAPPIST-1e\",\"55 Cancri e\",\"PSO J318.5-22\",\"TRAPPIST-1e\",\"55 Cancri e\",\"TRAPPIST-1e\",\"TRAPPIST-1e\",\"TRAPPIST-1e\",\"TRAPPIST-1e\",\"TRAPPIST-1e\",\"PSO J318.5-22\",\"TRAPPIST-1e\",null,\"PSO J318.5-22\",\"TRAPPIST-1e\",\"TRAPPIST-1e\",\"55 Cancri e\",\"TRAPPIST-1e\",\"TRAPPIST-1e\",\"TRAPPIST-1e\",\"PSO J318.5-22\",\"TRAPPIST-1e\",\"TRAPPIST-1e\",\"55 Cancri e\",\"55 Cancri e\",\"TRAPPIST-1e\",\"55 Cancri e\",\"55 Cancri e\",null,\"55 Cancri e\",\"55 Cancri e\",\"55 Cancri e\",\"TRAPPIST-1e\",\"55 Cancri e\",\"55 Cancri e\",\"PSO J318.5-22\",\"TRAPPIST-1e\",\"TRAPPIST-1e\",null,\"TRAPPIST-1e\",\"TRAPPIST-1e\",\"TRAPPIST-1e\",\"TRAPPIST-1e\",\"TRAPPIST-1e\",\"PSO J318.5-22\",\"TRAPPIST-1e\",\"TRAPPIST-1e\",\"TRAPPIST-1e\",\"TRAPPIST-1e\",\"TRAPPIST-1e\",\"TRAPPIST-1e\",\"TRAPPIST-1e\",\"TRAPPIST-1e\",\"TRAPPIST-1e\",\"TRAPPIST-1e\",\"TRAPPIST-1e\",\"TRAPPIST-1e\",\"55 Cancri e\",\"TRAPPIST-1e\",\"TRAPPIST-1e\",\"55 Cancri e\",\"PSO J318.5-22\",\"PSO J318.5-22\",\"TRAPPIST-1e\",\"TRAPPIST-1e\",\"TRAPPIST-1e\",\"TRAPPIST-1e\",\"TRAPPIST-1e\",\"TRAPPIST-1e\",\"TRAPPIST-1e\",\"TRAPPIST-1e\",null,\"TRAPPIST-1e\",\"TRAPPIST-1e\",\"TRAPPIST-1e\",\"TRAPPIST-1e\",\"TRAPPIST-1e\",\"PSO J318.5-22\",\"PSO J318.5-22\",\"TRAPPIST-1e\",\"TRAPPIST-1e\",\"TRAPPIST-1e\",\"TRAPPIST-1e\",\"TRAPPIST-1e\",\"TRAPPIST-1e\",\"PSO J318.5-22\",\"TRAPPIST-1e\",\"TRAPPIST-1e\",\"PSO J318.5-22\",\"55 Cancri e\",\"TRAPPIST-1e\",\"TRAPPIST-1e\",\"55 Cancri e\",\"PSO J318.5-22\",\"55 Cancri e\",\"55 Cancri e\",\"TRAPPIST-1e\",\"TRAPPIST-1e\",\"TRAPPIST-1e\",\"TRAPPIST-1e\",\"TRAPPIST-1e\",\"TRAPPIST-1e\",\"PSO J318.5-22\",\"55 Cancri e\",null,\"55 Cancri e\",\"TRAPPIST-1e\",\"TRAPPIST-1e\",\"TRAPPIST-1e\",\"TRAPPIST-1e\",\"TRAPPIST-1e\",\"TRAPPIST-1e\",\"TRAPPIST-1e\",\"PSO J318.5-22\",\"PSO J318.5-22\",\"TRAPPIST-1e\",\"TRAPPIST-1e\",\"55 Cancri e\",\"TRAPPIST-1e\",\"PSO J318.5-22\",\"TRAPPIST-1e\",\"55 Cancri e\",\"TRAPPIST-1e\",\"55 Cancri e\",\"TRAPPIST-1e\",\"TRAPPIST-1e\",\"TRAPPIST-1e\",\"55 Cancri e\",\"55 Cancri e\",\"TRAPPIST-1e\",\"TRAPPIST-1e\",\"TRAPPIST-1e\",\"TRAPPIST-1e\",\"TRAPPIST-1e\",\"TRAPPIST-1e\",\"55 Cancri e\",\"55 Cancri e\",\"TRAPPIST-1e\",\"PSO J318.5-22\",\"TRAPPIST-1e\",\"55 Cancri e\",\"PSO J318.5-22\",\"TRAPPIST-1e\",\"TRAPPIST-1e\",\"TRAPPIST-1e\",\"TRAPPIST-1e\",\"TRAPPIST-1e\",\"55 Cancri e\",\"TRAPPIST-1e\",\"PSO J318.5-22\",\"55 Cancri e\",\"TRAPPIST-1e\",\"55 Cancri e\",\"TRAPPIST-1e\",\"PSO J318.5-22\",\"PSO J318.5-22\",\"TRAPPIST-1e\",\"TRAPPIST-1e\",\"TRAPPIST-1e\",\"55 Cancri e\",\"55 Cancri e\",\"TRAPPIST-1e\",\"TRAPPIST-1e\",\"TRAPPIST-1e\",\"TRAPPIST-1e\",\"TRAPPIST-1e\",\"PSO J318.5-22\",\"TRAPPIST-1e\",\"55 Cancri e\",\"55 Cancri e\",\"TRAPPIST-1e\",\"TRAPPIST-1e\",\"TRAPPIST-1e\",\"TRAPPIST-1e\",\"TRAPPIST-1e\",\"TRAPPIST-1e\",\"TRAPPIST-1e\",\"TRAPPIST-1e\",\"TRAPPIST-1e\",\"TRAPPIST-1e\",\"55 Cancri e\",\"TRAPPIST-1e\",\"TRAPPIST-1e\",\"55 Cancri e\",null,\"55 Cancri e\",\"TRAPPIST-1e\",\"TRAPPIST-1e\",\"TRAPPIST-1e\",\"TRAPPIST-1e\",\"55 Cancri e\",\"55 Cancri e\",\"55 Cancri e\",\"TRAPPIST-1e\",\"TRAPPIST-1e\",\"TRAPPIST-1e\",\"TRAPPIST-1e\",\"TRAPPIST-1e\",\"TRAPPIST-1e\",\"TRAPPIST-1e\",\"55 Cancri e\",\"TRAPPIST-1e\",\"TRAPPIST-1e\",\"TRAPPIST-1e\",\"TRAPPIST-1e\",\"TRAPPIST-1e\",\"TRAPPIST-1e\",\"TRAPPIST-1e\",\"TRAPPIST-1e\",\"TRAPPIST-1e\",\"TRAPPIST-1e\",\"55 Cancri e\",\"TRAPPIST-1e\",\"TRAPPIST-1e\",\"TRAPPIST-1e\",\"TRAPPIST-1e\",\"55 Cancri e\",\"TRAPPIST-1e\",\"TRAPPIST-1e\",\"PSO J318.5-22\",\"TRAPPIST-1e\",\"PSO J318.5-22\",\"PSO J318.5-22\",\"TRAPPIST-1e\",\"TRAPPIST-1e\",\"TRAPPIST-1e\",\"TRAPPIST-1e\",\"TRAPPIST-1e\",\"TRAPPIST-1e\",\"TRAPPIST-1e\",\"55 Cancri e\",\"TRAPPIST-1e\",\"TRAPPIST-1e\",\"55 Cancri e\",\"PSO J318.5-22\",\"TRAPPIST-1e\",\"TRAPPIST-1e\",\"TRAPPIST-1e\",\"TRAPPIST-1e\",\"PSO J318.5-22\",\"TRAPPIST-1e\",\"TRAPPIST-1e\",\"55 Cancri e\",\"TRAPPIST-1e\",\"55 Cancri e\",\"TRAPPIST-1e\",\"TRAPPIST-1e\",\"55 Cancri e\",\"TRAPPIST-1e\",\"TRAPPIST-1e\",\"TRAPPIST-1e\",\"55 Cancri e\",\"TRAPPIST-1e\",\"55 Cancri e\",\"55 Cancri e\",\"PSO J318.5-22\",\"TRAPPIST-1e\",\"TRAPPIST-1e\",\"TRAPPIST-1e\",\"TRAPPIST-1e\",\"TRAPPIST-1e\",\"TRAPPIST-1e\",\"TRAPPIST-1e\",\"TRAPPIST-1e\",\"TRAPPIST-1e\",\"55 Cancri e\",\"TRAPPIST-1e\",\"TRAPPIST-1e\",\"TRAPPIST-1e\",\"TRAPPIST-1e\",\"TRAPPIST-1e\",\"55 Cancri e\",\"TRAPPIST-1e\",\"TRAPPIST-1e\",\"TRAPPIST-1e\",\"TRAPPIST-1e\",\"TRAPPIST-1e\",\"TRAPPIST-1e\",\"55 Cancri e\",\"TRAPPIST-1e\",\"55 Cancri e\",\"55 Cancri e\",\"TRAPPIST-1e\",\"TRAPPIST-1e\",\"TRAPPIST-1e\",\"TRAPPIST-1e\",null,\"TRAPPIST-1e\",\"TRAPPIST-1e\",\"55 Cancri e\",\"55 Cancri e\",\"55 Cancri e\",\"TRAPPIST-1e\",\"55 Cancri e\",\"TRAPPIST-1e\",\"55 Cancri e\",\"TRAPPIST-1e\",\"55 Cancri e\",\"TRAPPIST-1e\",\"55 Cancri e\",\"TRAPPIST-1e\",\"55 Cancri e\",\"TRAPPIST-1e\",\"TRAPPIST-1e\",\"TRAPPIST-1e\",\"TRAPPIST-1e\",\"TRAPPIST-1e\",\"TRAPPIST-1e\",\"PSO J318.5-22\",\"TRAPPIST-1e\",\"TRAPPIST-1e\",\"TRAPPIST-1e\",\"TRAPPIST-1e\",\"TRAPPIST-1e\",\"55 Cancri e\",\"55 Cancri e\",\"55 Cancri e\",\"55 Cancri e\",\"TRAPPIST-1e\",\"TRAPPIST-1e\",\"PSO J318.5-22\",\"TRAPPIST-1e\",\"TRAPPIST-1e\",\"TRAPPIST-1e\",\"TRAPPIST-1e\",\"TRAPPIST-1e\",\"TRAPPIST-1e\",\"TRAPPIST-1e\",\"TRAPPIST-1e\",\"TRAPPIST-1e\",\"TRAPPIST-1e\",\"TRAPPIST-1e\",\"TRAPPIST-1e\",\"TRAPPIST-1e\",\"55 Cancri e\",\"55 Cancri e\",\"TRAPPIST-1e\",\"55 Cancri e\",\"TRAPPIST-1e\",\"55 Cancri e\",\"TRAPPIST-1e\",\"TRAPPIST-1e\",\"TRAPPIST-1e\",\"55 Cancri e\",\"TRAPPIST-1e\",\"TRAPPIST-1e\",\"TRAPPIST-1e\",\"TRAPPIST-1e\",\"TRAPPIST-1e\",\"TRAPPIST-1e\",\"TRAPPIST-1e\",\"TRAPPIST-1e\",\"TRAPPIST-1e\",\"55 Cancri e\",\"TRAPPIST-1e\",\"TRAPPIST-1e\",\"TRAPPIST-1e\",\"55 Cancri e\",\"TRAPPIST-1e\",\"TRAPPIST-1e\",\"PSO J318.5-22\",\"TRAPPIST-1e\",\"TRAPPIST-1e\",\"TRAPPIST-1e\",\"TRAPPIST-1e\",\"TRAPPIST-1e\",\"TRAPPIST-1e\",\"TRAPPIST-1e\",\"55 Cancri e\",\"TRAPPIST-1e\",\"TRAPPIST-1e\",\"TRAPPIST-1e\",\"TRAPPIST-1e\",\"TRAPPIST-1e\",\"TRAPPIST-1e\",\"55 Cancri e\",\"TRAPPIST-1e\",\"55 Cancri e\",\"TRAPPIST-1e\",\"PSO J318.5-22\",\"TRAPPIST-1e\",\"TRAPPIST-1e\",\"55 Cancri e\",\"TRAPPIST-1e\",\"TRAPPIST-1e\",\"PSO J318.5-22\",\"TRAPPIST-1e\",\"TRAPPIST-1e\",\"TRAPPIST-1e\",\"TRAPPIST-1e\",\"TRAPPIST-1e\",\"55 Cancri e\",\"TRAPPIST-1e\",\"TRAPPIST-1e\",\"55 Cancri e\",\"TRAPPIST-1e\",\"TRAPPIST-1e\",\"55 Cancri e\",\"PSO J318.5-22\",\"55 Cancri e\",\"55 Cancri e\",\"55 Cancri e\",\"TRAPPIST-1e\",\"TRAPPIST-1e\",\"PSO J318.5-22\",\"PSO J318.5-22\",\"55 Cancri e\",\"TRAPPIST-1e\",\"TRAPPIST-1e\",\"TRAPPIST-1e\",\"TRAPPIST-1e\",\"TRAPPIST-1e\",\"TRAPPIST-1e\",\"PSO J318.5-22\",\"TRAPPIST-1e\",\"TRAPPIST-1e\",\"TRAPPIST-1e\",\"TRAPPIST-1e\",\"55 Cancri e\",\"TRAPPIST-1e\",\"TRAPPIST-1e\",\"55 Cancri e\",\"TRAPPIST-1e\",null,\"55 Cancri e\",\"55 Cancri e\",\"55 Cancri e\",\"TRAPPIST-1e\",\"TRAPPIST-1e\",\"TRAPPIST-1e\",\"TRAPPIST-1e\",\"TRAPPIST-1e\",\"55 Cancri e\",\"TRAPPIST-1e\",\"TRAPPIST-1e\",\"TRAPPIST-1e\",\"55 Cancri e\",\"TRAPPIST-1e\",\"TRAPPIST-1e\",\"PSO J318.5-22\",\"TRAPPIST-1e\",\"TRAPPIST-1e\",\"55 Cancri e\",\"TRAPPIST-1e\",\"TRAPPIST-1e\",\"TRAPPIST-1e\",\"TRAPPIST-1e\",\"PSO J318.5-22\",null,\"TRAPPIST-1e\",\"TRAPPIST-1e\",\"TRAPPIST-1e\",\"55 Cancri e\",\"TRAPPIST-1e\",\"PSO J318.5-22\",\"TRAPPIST-1e\",\"55 Cancri e\",\"55 Cancri e\",\"TRAPPIST-1e\",\"55 Cancri e\",\"TRAPPIST-1e\",\"PSO J318.5-22\",\"TRAPPIST-1e\",\"PSO J318.5-22\",\"55 Cancri e\",\"55 Cancri e\",\"TRAPPIST-1e\",\"TRAPPIST-1e\",\"TRAPPIST-1e\",\"55 Cancri e\",\"TRAPPIST-1e\",\"TRAPPIST-1e\",\"55 Cancri e\",\"TRAPPIST-1e\",\"TRAPPIST-1e\",\"PSO J318.5-22\",\"PSO J318.5-22\",\"PSO J318.5-22\",\"TRAPPIST-1e\",\"TRAPPIST-1e\",\"TRAPPIST-1e\",\"PSO J318.5-22\",\"TRAPPIST-1e\",\"TRAPPIST-1e\",\"TRAPPIST-1e\",\"TRAPPIST-1e\",\"TRAPPIST-1e\",\"55 Cancri e\",\"TRAPPIST-1e\",\"TRAPPIST-1e\",\"TRAPPIST-1e\",\"TRAPPIST-1e\",\"PSO J318.5-22\",\"TRAPPIST-1e\",\"TRAPPIST-1e\",\"55 Cancri e\",null,\"55 Cancri e\",\"PSO J318.5-22\",\"PSO J318.5-22\",\"TRAPPIST-1e\",null,\"TRAPPIST-1e\",\"TRAPPIST-1e\",\"TRAPPIST-1e\",\"TRAPPIST-1e\",\"TRAPPIST-1e\",\"TRAPPIST-1e\",\"PSO J318.5-22\",\"TRAPPIST-1e\",\"TRAPPIST-1e\",\"55 Cancri e\",\"TRAPPIST-1e\",\"TRAPPIST-1e\",\"TRAPPIST-1e\",\"TRAPPIST-1e\",\"55 Cancri e\",\"TRAPPIST-1e\",\"55 Cancri e\",\"TRAPPIST-1e\",\"PSO J318.5-22\",\"55 Cancri e\",\"TRAPPIST-1e\",\"PSO J318.5-22\",\"PSO J318.5-22\",\"TRAPPIST-1e\",\"TRAPPIST-1e\",\"TRAPPIST-1e\",\"55 Cancri e\",\"TRAPPIST-1e\",\"55 Cancri e\",\"TRAPPIST-1e\",\"TRAPPIST-1e\",\"TRAPPIST-1e\",\"TRAPPIST-1e\",\"55 Cancri e\",\"55 Cancri e\",\"TRAPPIST-1e\",\"TRAPPIST-1e\",\"TRAPPIST-1e\",\"TRAPPIST-1e\",\"55 Cancri e\",\"55 Cancri e\",\"55 Cancri e\",\"TRAPPIST-1e\",\"TRAPPIST-1e\",\"TRAPPIST-1e\",\"TRAPPIST-1e\",\"TRAPPIST-1e\",\"TRAPPIST-1e\",\"PSO J318.5-22\",\"TRAPPIST-1e\",\"TRAPPIST-1e\",null,\"TRAPPIST-1e\",\"TRAPPIST-1e\",\"TRAPPIST-1e\",\"TRAPPIST-1e\",\"TRAPPIST-1e\",\"55 Cancri e\",\"TRAPPIST-1e\",\"TRAPPIST-1e\",\"55 Cancri e\",\"TRAPPIST-1e\",\"PSO J318.5-22\",\"TRAPPIST-1e\",\"55 Cancri e\",\"TRAPPIST-1e\",\"TRAPPIST-1e\",\"TRAPPIST-1e\",\"TRAPPIST-1e\",\"TRAPPIST-1e\",\"55 Cancri e\",\"TRAPPIST-1e\",\"55 Cancri e\",\"TRAPPIST-1e\",\"55 Cancri e\",\"TRAPPIST-1e\",\"TRAPPIST-1e\",\"TRAPPIST-1e\",\"TRAPPIST-1e\",\"TRAPPIST-1e\",\"TRAPPIST-1e\",\"TRAPPIST-1e\",\"TRAPPIST-1e\",\"TRAPPIST-1e\",\"TRAPPIST-1e\",\"55 Cancri e\",\"TRAPPIST-1e\",\"TRAPPIST-1e\",\"TRAPPIST-1e\",\"TRAPPIST-1e\",\"55 Cancri e\",\"TRAPPIST-1e\",\"55 Cancri e\",\"PSO J318.5-22\",\"PSO J318.5-22\",\"TRAPPIST-1e\",\"TRAPPIST-1e\",\"TRAPPIST-1e\",\"TRAPPIST-1e\",\"TRAPPIST-1e\",\"TRAPPIST-1e\",\"TRAPPIST-1e\",\"TRAPPIST-1e\",\"55 Cancri e\",\"TRAPPIST-1e\",\"TRAPPIST-1e\",\"55 Cancri e\",\"TRAPPIST-1e\",\"TRAPPIST-1e\",\"TRAPPIST-1e\",\"PSO J318.5-22\",\"TRAPPIST-1e\",\"TRAPPIST-1e\",\"TRAPPIST-1e\",\"55 Cancri e\",\"TRAPPIST-1e\",\"TRAPPIST-1e\",\"TRAPPIST-1e\",\"55 Cancri e\",\"55 Cancri e\",\"TRAPPIST-1e\",\"TRAPPIST-1e\",\"TRAPPIST-1e\",\"TRAPPIST-1e\",\"PSO J318.5-22\",\"55 Cancri e\",\"TRAPPIST-1e\",\"TRAPPIST-1e\",\"TRAPPIST-1e\",\"TRAPPIST-1e\",\"55 Cancri e\",\"TRAPPIST-1e\",\"TRAPPIST-1e\",\"TRAPPIST-1e\",\"TRAPPIST-1e\",\"55 Cancri e\",\"TRAPPIST-1e\",\"TRAPPIST-1e\",\"55 Cancri e\",\"PSO J318.5-22\",\"TRAPPIST-1e\",\"PSO J318.5-22\",\"TRAPPIST-1e\",\"TRAPPIST-1e\",\"TRAPPIST-1e\",\"TRAPPIST-1e\",\"PSO J318.5-22\",\"TRAPPIST-1e\",\"TRAPPIST-1e\",\"55 Cancri e\",\"TRAPPIST-1e\",\"TRAPPIST-1e\",\"55 Cancri e\",\"TRAPPIST-1e\",\"55 Cancri e\",\"TRAPPIST-1e\",\"TRAPPIST-1e\",\"TRAPPIST-1e\",\"TRAPPIST-1e\",\"55 Cancri e\",\"55 Cancri e\",\"TRAPPIST-1e\",\"TRAPPIST-1e\",\"55 Cancri e\",\"TRAPPIST-1e\",\"TRAPPIST-1e\",\"TRAPPIST-1e\",\"TRAPPIST-1e\",\"TRAPPIST-1e\",\"TRAPPIST-1e\",\"TRAPPIST-1e\",\"55 Cancri e\",\"55 Cancri e\",\"55 Cancri e\",\"TRAPPIST-1e\",\"55 Cancri e\",\"TRAPPIST-1e\",\"TRAPPIST-1e\",null,\"TRAPPIST-1e\",\"TRAPPIST-1e\",\"TRAPPIST-1e\",\"TRAPPIST-1e\",\"TRAPPIST-1e\",\"TRAPPIST-1e\",\"TRAPPIST-1e\",\"TRAPPIST-1e\",\"TRAPPIST-1e\",\"55 Cancri e\",\"55 Cancri e\",\"TRAPPIST-1e\",\"TRAPPIST-1e\",\"TRAPPIST-1e\",\"TRAPPIST-1e\",\"55 Cancri e\",\"PSO J318.5-22\",\"55 Cancri e\",\"TRAPPIST-1e\",\"TRAPPIST-1e\",\"TRAPPIST-1e\",\"55 Cancri e\",\"TRAPPIST-1e\",\"TRAPPIST-1e\",\"TRAPPIST-1e\",\"TRAPPIST-1e\",\"TRAPPIST-1e\",\"55 Cancri e\",\"PSO J318.5-22\",\"TRAPPIST-1e\",\"TRAPPIST-1e\",\"55 Cancri e\",\"TRAPPIST-1e\",\"55 Cancri e\",\"TRAPPIST-1e\",\"TRAPPIST-1e\",\"55 Cancri e\",\"TRAPPIST-1e\",\"PSO J318.5-22\",\"55 Cancri e\",\"TRAPPIST-1e\",\"TRAPPIST-1e\",\"55 Cancri e\",\"TRAPPIST-1e\",null,\"PSO J318.5-22\",\"TRAPPIST-1e\",\"PSO J318.5-22\",\"TRAPPIST-1e\",\"TRAPPIST-1e\",\"55 Cancri e\",\"TRAPPIST-1e\",\"TRAPPIST-1e\",\"TRAPPIST-1e\",\"55 Cancri e\",\"TRAPPIST-1e\",\"TRAPPIST-1e\",\"PSO J318.5-22\",\"TRAPPIST-1e\",\"TRAPPIST-1e\",\"TRAPPIST-1e\",\"TRAPPIST-1e\",\"TRAPPIST-1e\",null,\"TRAPPIST-1e\",\"55 Cancri e\",\"TRAPPIST-1e\",\"TRAPPIST-1e\",\"TRAPPIST-1e\",\"TRAPPIST-1e\",\"TRAPPIST-1e\",\"TRAPPIST-1e\",\"TRAPPIST-1e\",null,\"55 Cancri e\",\"TRAPPIST-1e\",\"TRAPPIST-1e\",\"TRAPPIST-1e\",\"TRAPPIST-1e\",\"TRAPPIST-1e\",\"TRAPPIST-1e\",null,\"TRAPPIST-1e\",\"TRAPPIST-1e\",\"TRAPPIST-1e\",\"TRAPPIST-1e\",\"55 Cancri e\",\"TRAPPIST-1e\",\"55 Cancri e\",\"TRAPPIST-1e\",\"PSO J318.5-22\",\"TRAPPIST-1e\",\"55 Cancri e\",\"55 Cancri e\",\"55 Cancri e\",null,\"TRAPPIST-1e\",\"55 Cancri e\",\"TRAPPIST-1e\",\"TRAPPIST-1e\",\"TRAPPIST-1e\",\"TRAPPIST-1e\",\"TRAPPIST-1e\",\"TRAPPIST-1e\",\"TRAPPIST-1e\",\"TRAPPIST-1e\",\"TRAPPIST-1e\",\"TRAPPIST-1e\",\"TRAPPIST-1e\",\"TRAPPIST-1e\",\"TRAPPIST-1e\",\"55 Cancri e\",\"55 Cancri e\",\"TRAPPIST-1e\",\"TRAPPIST-1e\",\"TRAPPIST-1e\",\"TRAPPIST-1e\",\"55 Cancri e\",\"55 Cancri e\",\"TRAPPIST-1e\",\"TRAPPIST-1e\",\"TRAPPIST-1e\",\"55 Cancri e\",\"TRAPPIST-1e\",\"TRAPPIST-1e\",\"TRAPPIST-1e\",\"PSO J318.5-22\",\"TRAPPIST-1e\",\"TRAPPIST-1e\",\"TRAPPIST-1e\",\"TRAPPIST-1e\",\"TRAPPIST-1e\",\"TRAPPIST-1e\",\"55 Cancri e\",\"PSO J318.5-22\",\"55 Cancri e\",\"TRAPPIST-1e\",\"55 Cancri e\",\"TRAPPIST-1e\",\"TRAPPIST-1e\",\"TRAPPIST-1e\",\"TRAPPIST-1e\",null,null,\"TRAPPIST-1e\",\"TRAPPIST-1e\",\"TRAPPIST-1e\",\"TRAPPIST-1e\",\"TRAPPIST-1e\",\"TRAPPIST-1e\",\"TRAPPIST-1e\",\"TRAPPIST-1e\",\"55 Cancri e\",\"TRAPPIST-1e\",\"TRAPPIST-1e\",\"TRAPPIST-1e\",\"55 Cancri e\",\"TRAPPIST-1e\",\"TRAPPIST-1e\",\"TRAPPIST-1e\",\"TRAPPIST-1e\",\"PSO J318.5-22\",\"TRAPPIST-1e\",\"55 Cancri e\",\"TRAPPIST-1e\",\"55 Cancri e\",\"55 Cancri e\",\"TRAPPIST-1e\",\"TRAPPIST-1e\",\"TRAPPIST-1e\",\"TRAPPIST-1e\",\"TRAPPIST-1e\",\"TRAPPIST-1e\",\"TRAPPIST-1e\",\"55 Cancri e\",\"PSO J318.5-22\",\"55 Cancri e\",null,\"TRAPPIST-1e\",\"TRAPPIST-1e\",\"TRAPPIST-1e\",\"TRAPPIST-1e\",\"TRAPPIST-1e\",\"TRAPPIST-1e\",\"TRAPPIST-1e\",\"TRAPPIST-1e\",\"TRAPPIST-1e\",\"55 Cancri e\",\"TRAPPIST-1e\",\"55 Cancri e\",\"55 Cancri e\",\"55 Cancri e\",\"TRAPPIST-1e\",\"TRAPPIST-1e\",\"55 Cancri e\",\"TRAPPIST-1e\",\"TRAPPIST-1e\",\"TRAPPIST-1e\",null,\"TRAPPIST-1e\",\"TRAPPIST-1e\",\"55 Cancri e\",\"TRAPPIST-1e\",\"TRAPPIST-1e\",\"TRAPPIST-1e\",\"TRAPPIST-1e\",null,\"PSO J318.5-22\",\"TRAPPIST-1e\",\"TRAPPIST-1e\",\"TRAPPIST-1e\",\"TRAPPIST-1e\",\"TRAPPIST-1e\",\"TRAPPIST-1e\",\"TRAPPIST-1e\",\"TRAPPIST-1e\",\"TRAPPIST-1e\",\"TRAPPIST-1e\",\"PSO J318.5-22\",\"55 Cancri e\",\"55 Cancri e\",\"55 Cancri e\",\"TRAPPIST-1e\",\"TRAPPIST-1e\",\"TRAPPIST-1e\",\"55 Cancri e\",\"TRAPPIST-1e\",\"TRAPPIST-1e\",\"TRAPPIST-1e\",\"TRAPPIST-1e\",\"PSO J318.5-22\",\"55 Cancri e\",\"TRAPPIST-1e\",\"TRAPPIST-1e\",\"TRAPPIST-1e\",null,\"TRAPPIST-1e\",\"TRAPPIST-1e\",\"TRAPPIST-1e\",\"TRAPPIST-1e\",\"TRAPPIST-1e\",\"55 Cancri e\",\"TRAPPIST-1e\",\"TRAPPIST-1e\",\"TRAPPIST-1e\",\"55 Cancri e\",\"TRAPPIST-1e\",\"TRAPPIST-1e\",\"TRAPPIST-1e\",\"TRAPPIST-1e\",\"TRAPPIST-1e\",\"TRAPPIST-1e\",\"PSO J318.5-22\",\"TRAPPIST-1e\",\"TRAPPIST-1e\",\"55 Cancri e\",\"TRAPPIST-1e\",\"TRAPPIST-1e\",\"55 Cancri e\",\"TRAPPIST-1e\",\"TRAPPIST-1e\",\"55 Cancri e\",\"PSO J318.5-22\",\"55 Cancri e\",\"TRAPPIST-1e\",\"TRAPPIST-1e\",\"TRAPPIST-1e\",\"TRAPPIST-1e\",\"TRAPPIST-1e\",\"TRAPPIST-1e\",\"55 Cancri e\",\"TRAPPIST-1e\",\"TRAPPIST-1e\",\"TRAPPIST-1e\",\"TRAPPIST-1e\",\"TRAPPIST-1e\",\"TRAPPIST-1e\",\"TRAPPIST-1e\",\"TRAPPIST-1e\",\"PSO J318.5-22\",\"55 Cancri e\",\"TRAPPIST-1e\",\"TRAPPIST-1e\",\"55 Cancri e\",\"TRAPPIST-1e\",\"55 Cancri e\",\"55 Cancri e\",\"TRAPPIST-1e\",\"TRAPPIST-1e\",\"TRAPPIST-1e\",\"TRAPPIST-1e\",\"PSO J318.5-22\",\"PSO J318.5-22\",\"TRAPPIST-1e\",\"TRAPPIST-1e\",\"TRAPPIST-1e\",\"55 Cancri e\",\"TRAPPIST-1e\",\"55 Cancri e\",\"TRAPPIST-1e\",\"TRAPPIST-1e\",\"TRAPPIST-1e\",\"TRAPPIST-1e\",\"TRAPPIST-1e\",\"PSO J318.5-22\",\"TRAPPIST-1e\",\"55 Cancri e\",\"55 Cancri e\",\"55 Cancri e\",\"TRAPPIST-1e\",\"TRAPPIST-1e\",\"TRAPPIST-1e\",\"55 Cancri e\",\"TRAPPIST-1e\",\"TRAPPIST-1e\",\"TRAPPIST-1e\",\"TRAPPIST-1e\",\"TRAPPIST-1e\",\"55 Cancri e\",null,\"TRAPPIST-1e\",\"TRAPPIST-1e\",\"55 Cancri e\",\"TRAPPIST-1e\",\"TRAPPIST-1e\",\"TRAPPIST-1e\",\"TRAPPIST-1e\",\"TRAPPIST-1e\",\"TRAPPIST-1e\",\"55 Cancri e\",\"TRAPPIST-1e\",null,\"TRAPPIST-1e\",\"TRAPPIST-1e\",\"TRAPPIST-1e\",\"TRAPPIST-1e\",\"55 Cancri e\",\"55 Cancri e\",\"TRAPPIST-1e\",\"PSO J318.5-22\",\"TRAPPIST-1e\",\"PSO J318.5-22\",\"TRAPPIST-1e\",\"TRAPPIST-1e\",\"TRAPPIST-1e\",\"TRAPPIST-1e\",\"TRAPPIST-1e\",\"TRAPPIST-1e\",\"TRAPPIST-1e\",\"TRAPPIST-1e\",\"TRAPPIST-1e\",\"PSO J318.5-22\",\"55 Cancri e\",\"TRAPPIST-1e\",\"55 Cancri e\",\"TRAPPIST-1e\",\"55 Cancri e\",\"PSO J318.5-22\",\"TRAPPIST-1e\",\"PSO J318.5-22\",\"TRAPPIST-1e\",\"TRAPPIST-1e\",\"TRAPPIST-1e\",\"PSO J318.5-22\",\"TRAPPIST-1e\",null,\"TRAPPIST-1e\",\"TRAPPIST-1e\",\"PSO J318.5-22\",\"TRAPPIST-1e\",\"TRAPPIST-1e\",\"TRAPPIST-1e\",\"TRAPPIST-1e\",\"TRAPPIST-1e\",\"TRAPPIST-1e\",\"PSO J318.5-22\",\"55 Cancri e\",null,\"TRAPPIST-1e\",\"TRAPPIST-1e\",\"TRAPPIST-1e\",\"TRAPPIST-1e\",\"TRAPPIST-1e\",\"TRAPPIST-1e\",\"TRAPPIST-1e\",\"TRAPPIST-1e\",\"55 Cancri e\",\"TRAPPIST-1e\",\"TRAPPIST-1e\",\"TRAPPIST-1e\",\"TRAPPIST-1e\",\"TRAPPIST-1e\",\"55 Cancri e\",\"TRAPPIST-1e\",\"TRAPPIST-1e\",\"TRAPPIST-1e\",\"55 Cancri e\",\"TRAPPIST-1e\",\"TRAPPIST-1e\",\"TRAPPIST-1e\",\"TRAPPIST-1e\",\"PSO J318.5-22\",\"TRAPPIST-1e\",\"55 Cancri e\",\"TRAPPIST-1e\",\"55 Cancri e\",\"55 Cancri e\",\"TRAPPIST-1e\",\"TRAPPIST-1e\",\"TRAPPIST-1e\",\"PSO J318.5-22\",\"TRAPPIST-1e\",\"TRAPPIST-1e\",\"TRAPPIST-1e\",\"TRAPPIST-1e\",\"TRAPPIST-1e\",\"TRAPPIST-1e\",\"55 Cancri e\",\"TRAPPIST-1e\",\"TRAPPIST-1e\",\"PSO J318.5-22\",\"TRAPPIST-1e\",\"TRAPPIST-1e\",\"TRAPPIST-1e\",\"TRAPPIST-1e\",\"55 Cancri e\",\"55 Cancri e\",\"TRAPPIST-1e\",\"PSO J318.5-22\",\"TRAPPIST-1e\",\"55 Cancri e\",\"55 Cancri e\",\"TRAPPIST-1e\",\"55 Cancri e\",\"55 Cancri e\",\"TRAPPIST-1e\",\"TRAPPIST-1e\",null,\"TRAPPIST-1e\",\"55 Cancri e\",\"55 Cancri e\",\"55 Cancri e\",\"55 Cancri e\",\"TRAPPIST-1e\",\"PSO J318.5-22\",null,\"TRAPPIST-1e\",\"PSO J318.5-22\",\"55 Cancri e\",\"TRAPPIST-1e\",\"TRAPPIST-1e\",null,\"TRAPPIST-1e\",\"TRAPPIST-1e\",\"TRAPPIST-1e\",\"TRAPPIST-1e\",\"TRAPPIST-1e\",\"55 Cancri e\",\"TRAPPIST-1e\",\"TRAPPIST-1e\",\"TRAPPIST-1e\",\"TRAPPIST-1e\",\"PSO J318.5-22\",\"TRAPPIST-1e\",\"PSO J318.5-22\",null,\"55 Cancri e\",\"55 Cancri e\",\"TRAPPIST-1e\",\"55 Cancri e\",\"TRAPPIST-1e\",\"55 Cancri e\",\"TRAPPIST-1e\",null,\"PSO J318.5-22\",\"TRAPPIST-1e\",\"PSO J318.5-22\",\"PSO J318.5-22\",\"TRAPPIST-1e\",\"TRAPPIST-1e\",\"TRAPPIST-1e\",\"55 Cancri e\",\"55 Cancri e\",\"TRAPPIST-1e\",\"TRAPPIST-1e\",\"55 Cancri e\",\"TRAPPIST-1e\",\"TRAPPIST-1e\",\"TRAPPIST-1e\",\"TRAPPIST-1e\",null,\"55 Cancri e\",\"55 Cancri e\",\"TRAPPIST-1e\",\"TRAPPIST-1e\",\"TRAPPIST-1e\",\"TRAPPIST-1e\",\"TRAPPIST-1e\",\"TRAPPIST-1e\",\"TRAPPIST-1e\",\"55 Cancri e\",\"PSO J318.5-22\",\"PSO J318.5-22\",\"55 Cancri e\",\"TRAPPIST-1e\",\"55 Cancri e\",\"TRAPPIST-1e\",\"TRAPPIST-1e\",\"55 Cancri e\",\"TRAPPIST-1e\",\"55 Cancri e\",\"PSO J318.5-22\",\"TRAPPIST-1e\",\"TRAPPIST-1e\",\"TRAPPIST-1e\",\"TRAPPIST-1e\",\"TRAPPIST-1e\",\"TRAPPIST-1e\",\"55 Cancri e\",\"TRAPPIST-1e\",\"TRAPPIST-1e\",\"TRAPPIST-1e\",\"TRAPPIST-1e\",\"TRAPPIST-1e\",\"55 Cancri e\",\"TRAPPIST-1e\",\"TRAPPIST-1e\",\"TRAPPIST-1e\",\"TRAPPIST-1e\",\"55 Cancri e\",\"55 Cancri e\",\"55 Cancri e\",\"TRAPPIST-1e\",\"TRAPPIST-1e\",\"TRAPPIST-1e\",\"TRAPPIST-1e\",\"TRAPPIST-1e\",\"55 Cancri e\",\"TRAPPIST-1e\",\"TRAPPIST-1e\",\"55 Cancri e\",\"TRAPPIST-1e\",\"TRAPPIST-1e\",\"TRAPPIST-1e\",\"TRAPPIST-1e\",\"55 Cancri e\",\"PSO J318.5-22\",\"TRAPPIST-1e\",\"TRAPPIST-1e\",\"TRAPPIST-1e\",\"TRAPPIST-1e\",\"TRAPPIST-1e\",\"TRAPPIST-1e\",\"TRAPPIST-1e\",\"TRAPPIST-1e\",\"TRAPPIST-1e\",\"TRAPPIST-1e\",\"TRAPPIST-1e\",\"TRAPPIST-1e\",\"TRAPPIST-1e\",\"TRAPPIST-1e\",\"55 Cancri e\",\"TRAPPIST-1e\",\"TRAPPIST-1e\",null,\"TRAPPIST-1e\",\"TRAPPIST-1e\",\"TRAPPIST-1e\",\"TRAPPIST-1e\",\"PSO J318.5-22\",\"TRAPPIST-1e\",\"TRAPPIST-1e\",\"TRAPPIST-1e\",\"55 Cancri e\",\"PSO J318.5-22\",\"PSO J318.5-22\",\"55 Cancri e\",\"TRAPPIST-1e\",\"55 Cancri e\",\"55 Cancri e\",\"TRAPPIST-1e\",\"TRAPPIST-1e\",\"TRAPPIST-1e\",\"TRAPPIST-1e\",\"55 Cancri e\",\"TRAPPIST-1e\",\"55 Cancri e\",\"55 Cancri e\",\"TRAPPIST-1e\",\"TRAPPIST-1e\",\"TRAPPIST-1e\",\"55 Cancri e\",\"PSO J318.5-22\",\"TRAPPIST-1e\",\"TRAPPIST-1e\",\"TRAPPIST-1e\",\"PSO J318.5-22\",\"TRAPPIST-1e\",null,\"TRAPPIST-1e\",\"TRAPPIST-1e\",\"TRAPPIST-1e\",\"TRAPPIST-1e\",\"PSO J318.5-22\",\"TRAPPIST-1e\",\"TRAPPIST-1e\",\"TRAPPIST-1e\",\"TRAPPIST-1e\",\"TRAPPIST-1e\",\"TRAPPIST-1e\",\"TRAPPIST-1e\",\"TRAPPIST-1e\",\"TRAPPIST-1e\",\"TRAPPIST-1e\",\"TRAPPIST-1e\",\"TRAPPIST-1e\",\"TRAPPIST-1e\",\"TRAPPIST-1e\",\"TRAPPIST-1e\",\"TRAPPIST-1e\",\"TRAPPIST-1e\",\"TRAPPIST-1e\",\"55 Cancri e\",\"TRAPPIST-1e\",\"TRAPPIST-1e\",\"55 Cancri e\",\"TRAPPIST-1e\",\"55 Cancri e\",\"TRAPPIST-1e\",\"TRAPPIST-1e\",\"55 Cancri e\",\"TRAPPIST-1e\",\"55 Cancri e\",\"55 Cancri e\",\"TRAPPIST-1e\",\"TRAPPIST-1e\",\"TRAPPIST-1e\",\"TRAPPIST-1e\",\"TRAPPIST-1e\",\"TRAPPIST-1e\",\"TRAPPIST-1e\",\"55 Cancri e\",\"TRAPPIST-1e\",\"55 Cancri e\",\"TRAPPIST-1e\",\"TRAPPIST-1e\",\"TRAPPIST-1e\",\"TRAPPIST-1e\",\"TRAPPIST-1e\",\"55 Cancri e\",\"PSO J318.5-22\",null,\"TRAPPIST-1e\",\"55 Cancri e\",\"TRAPPIST-1e\",\"TRAPPIST-1e\",\"TRAPPIST-1e\",\"TRAPPIST-1e\",\"55 Cancri e\",\"TRAPPIST-1e\",\"55 Cancri e\",\"TRAPPIST-1e\",\"TRAPPIST-1e\",\"TRAPPIST-1e\",\"TRAPPIST-1e\",\"55 Cancri e\",\"TRAPPIST-1e\",null,\"TRAPPIST-1e\",\"TRAPPIST-1e\",\"TRAPPIST-1e\",\"TRAPPIST-1e\",\"TRAPPIST-1e\",\"TRAPPIST-1e\",\"TRAPPIST-1e\",\"55 Cancri e\",\"55 Cancri e\",\"TRAPPIST-1e\",\"TRAPPIST-1e\",\"TRAPPIST-1e\",\"PSO J318.5-22\",\"TRAPPIST-1e\",\"TRAPPIST-1e\",\"TRAPPIST-1e\",\"TRAPPIST-1e\",\"TRAPPIST-1e\",\"55 Cancri e\",\"TRAPPIST-1e\",\"TRAPPIST-1e\",\"TRAPPIST-1e\",\"TRAPPIST-1e\",\"TRAPPIST-1e\",\"55 Cancri e\",\"55 Cancri e\",null,\"TRAPPIST-1e\",\"TRAPPIST-1e\",\"TRAPPIST-1e\",\"TRAPPIST-1e\",\"TRAPPIST-1e\",\"55 Cancri e\",\"55 Cancri e\",\"TRAPPIST-1e\",\"PSO J318.5-22\",\"TRAPPIST-1e\",\"TRAPPIST-1e\",\"TRAPPIST-1e\",\"TRAPPIST-1e\",\"TRAPPIST-1e\",\"TRAPPIST-1e\",\"PSO J318.5-22\",\"55 Cancri e\",\"TRAPPIST-1e\",\"TRAPPIST-1e\",\"TRAPPIST-1e\",\"TRAPPIST-1e\",\"TRAPPIST-1e\",\"55 Cancri e\",\"TRAPPIST-1e\",\"TRAPPIST-1e\",null,\"TRAPPIST-1e\",\"TRAPPIST-1e\",\"TRAPPIST-1e\",\"TRAPPIST-1e\",\"TRAPPIST-1e\",\"55 Cancri e\",\"TRAPPIST-1e\",\"TRAPPIST-1e\",\"TRAPPIST-1e\",\"TRAPPIST-1e\",\"TRAPPIST-1e\",\"TRAPPIST-1e\",\"TRAPPIST-1e\",\"TRAPPIST-1e\",\"PSO J318.5-22\",\"TRAPPIST-1e\",\"TRAPPIST-1e\",\"TRAPPIST-1e\",\"TRAPPIST-1e\",\"TRAPPIST-1e\",\"TRAPPIST-1e\",\"TRAPPIST-1e\",\"55 Cancri e\",\"TRAPPIST-1e\",\"TRAPPIST-1e\",\"TRAPPIST-1e\",\"PSO J318.5-22\",\"TRAPPIST-1e\",\"TRAPPIST-1e\",\"TRAPPIST-1e\",\"TRAPPIST-1e\",\"TRAPPIST-1e\",\"TRAPPIST-1e\",\"PSO J318.5-22\",\"TRAPPIST-1e\",\"TRAPPIST-1e\",\"TRAPPIST-1e\",\"PSO J318.5-22\",\"TRAPPIST-1e\",\"TRAPPIST-1e\",\"TRAPPIST-1e\",\"TRAPPIST-1e\",\"55 Cancri e\",\"TRAPPIST-1e\",\"TRAPPIST-1e\",\"TRAPPIST-1e\",\"55 Cancri e\",\"TRAPPIST-1e\",\"TRAPPIST-1e\",\"PSO J318.5-22\",\"TRAPPIST-1e\",\"PSO J318.5-22\",\"TRAPPIST-1e\",\"TRAPPIST-1e\",\"TRAPPIST-1e\",\"TRAPPIST-1e\",\"55 Cancri e\",\"TRAPPIST-1e\",\"TRAPPIST-1e\",\"TRAPPIST-1e\",\"TRAPPIST-1e\",\"PSO J318.5-22\",\"TRAPPIST-1e\",\"55 Cancri e\",\"TRAPPIST-1e\",\"55 Cancri e\",\"55 Cancri e\",\"TRAPPIST-1e\",\"TRAPPIST-1e\",\"55 Cancri e\",\"TRAPPIST-1e\",\"PSO J318.5-22\",\"PSO J318.5-22\",\"TRAPPIST-1e\",\"55 Cancri e\",\"TRAPPIST-1e\",\"55 Cancri e\",\"TRAPPIST-1e\",\"TRAPPIST-1e\",\"TRAPPIST-1e\",\"TRAPPIST-1e\",\"TRAPPIST-1e\",\"TRAPPIST-1e\",\"TRAPPIST-1e\",\"TRAPPIST-1e\",\"55 Cancri e\",\"55 Cancri e\",\"TRAPPIST-1e\",\"55 Cancri e\",\"TRAPPIST-1e\",\"TRAPPIST-1e\",\"TRAPPIST-1e\",\"55 Cancri e\",\"TRAPPIST-1e\",\"TRAPPIST-1e\",\"PSO J318.5-22\",\"TRAPPIST-1e\",\"TRAPPIST-1e\",\"TRAPPIST-1e\",\"TRAPPIST-1e\",\"TRAPPIST-1e\",\"55 Cancri e\",\"TRAPPIST-1e\",\"PSO J318.5-22\",\"55 Cancri e\",\"TRAPPIST-1e\",\"TRAPPIST-1e\",\"TRAPPIST-1e\",\"TRAPPIST-1e\",\"TRAPPIST-1e\",\"TRAPPIST-1e\",\"TRAPPIST-1e\",\"TRAPPIST-1e\",\"TRAPPIST-1e\",\"TRAPPIST-1e\",\"TRAPPIST-1e\",\"TRAPPIST-1e\",\"55 Cancri e\",\"TRAPPIST-1e\",\"TRAPPIST-1e\",\"TRAPPIST-1e\",\"55 Cancri e\",\"TRAPPIST-1e\",\"TRAPPIST-1e\",\"TRAPPIST-1e\",\"TRAPPIST-1e\",\"TRAPPIST-1e\",\"TRAPPIST-1e\",\"TRAPPIST-1e\",\"TRAPPIST-1e\",\"PSO J318.5-22\",\"55 Cancri e\",\"55 Cancri e\",\"TRAPPIST-1e\",\"PSO J318.5-22\",\"TRAPPIST-1e\",\"TRAPPIST-1e\",\"TRAPPIST-1e\",\"TRAPPIST-1e\",\"TRAPPIST-1e\",\"TRAPPIST-1e\",\"55 Cancri e\",\"TRAPPIST-1e\",\"TRAPPIST-1e\",\"PSO J318.5-22\",\"55 Cancri e\",\"TRAPPIST-1e\",\"TRAPPIST-1e\",\"TRAPPIST-1e\",\"55 Cancri e\",\"TRAPPIST-1e\",\"55 Cancri e\",\"TRAPPIST-1e\",\"55 Cancri e\",\"TRAPPIST-1e\",\"TRAPPIST-1e\",\"PSO J318.5-22\",\"TRAPPIST-1e\",\"TRAPPIST-1e\",\"TRAPPIST-1e\",\"55 Cancri e\",\"TRAPPIST-1e\",\"TRAPPIST-1e\",\"TRAPPIST-1e\",\"TRAPPIST-1e\",\"TRAPPIST-1e\",\"TRAPPIST-1e\",\"TRAPPIST-1e\",\"TRAPPIST-1e\",\"TRAPPIST-1e\",\"PSO J318.5-22\",\"TRAPPIST-1e\",\"TRAPPIST-1e\",\"55 Cancri e\",\"TRAPPIST-1e\",\"TRAPPIST-1e\",\"TRAPPIST-1e\",\"TRAPPIST-1e\",\"TRAPPIST-1e\",null,\"TRAPPIST-1e\",\"TRAPPIST-1e\",\"55 Cancri e\",\"TRAPPIST-1e\",\"TRAPPIST-1e\",\"TRAPPIST-1e\",\"TRAPPIST-1e\",\"TRAPPIST-1e\",\"TRAPPIST-1e\",\"55 Cancri e\",\"TRAPPIST-1e\",\"55 Cancri e\",\"TRAPPIST-1e\",\"55 Cancri e\",\"55 Cancri e\",\"55 Cancri e\",\"55 Cancri e\",\"TRAPPIST-1e\",\"TRAPPIST-1e\",\"55 Cancri e\",\"PSO J318.5-22\",\"55 Cancri e\",\"TRAPPIST-1e\",\"TRAPPIST-1e\",\"PSO J318.5-22\",\"TRAPPIST-1e\",\"PSO J318.5-22\",\"55 Cancri e\",\"TRAPPIST-1e\",\"55 Cancri e\",\"55 Cancri e\",\"TRAPPIST-1e\",\"TRAPPIST-1e\",\"TRAPPIST-1e\",null,\"55 Cancri e\",\"TRAPPIST-1e\",\"TRAPPIST-1e\",\"55 Cancri e\",\"TRAPPIST-1e\",\"55 Cancri e\",\"TRAPPIST-1e\",\"55 Cancri e\",\"TRAPPIST-1e\",\"55 Cancri e\",\"TRAPPIST-1e\",\"TRAPPIST-1e\",\"TRAPPIST-1e\",\"TRAPPIST-1e\",\"55 Cancri e\",\"TRAPPIST-1e\",\"TRAPPIST-1e\",\"TRAPPIST-1e\",\"55 Cancri e\",\"55 Cancri e\",\"PSO J318.5-22\",\"TRAPPIST-1e\",\"55 Cancri e\",\"TRAPPIST-1e\",\"TRAPPIST-1e\",\"TRAPPIST-1e\",\"PSO J318.5-22\",\"TRAPPIST-1e\",\"TRAPPIST-1e\",\"TRAPPIST-1e\",\"PSO J318.5-22\",\"TRAPPIST-1e\",\"TRAPPIST-1e\",\"TRAPPIST-1e\",\"TRAPPIST-1e\",\"TRAPPIST-1e\",\"TRAPPIST-1e\",\"TRAPPIST-1e\",null,\"55 Cancri e\",\"TRAPPIST-1e\",\"55 Cancri e\",\"TRAPPIST-1e\",\"TRAPPIST-1e\",\"TRAPPIST-1e\",\"55 Cancri e\",\"TRAPPIST-1e\",\"55 Cancri e\",\"TRAPPIST-1e\",\"55 Cancri e\",\"55 Cancri e\",\"TRAPPIST-1e\",\"PSO J318.5-22\",\"TRAPPIST-1e\",\"TRAPPIST-1e\",\"PSO J318.5-22\",\"TRAPPIST-1e\",\"PSO J318.5-22\",\"55 Cancri e\",\"TRAPPIST-1e\",\"TRAPPIST-1e\",\"TRAPPIST-1e\",\"55 Cancri e\",\"TRAPPIST-1e\",\"TRAPPIST-1e\",\"TRAPPIST-1e\",\"TRAPPIST-1e\",\"PSO J318.5-22\",\"55 Cancri e\",\"TRAPPIST-1e\",\"TRAPPIST-1e\",\"TRAPPIST-1e\",\"TRAPPIST-1e\",\"55 Cancri e\",\"55 Cancri e\",\"TRAPPIST-1e\",\"TRAPPIST-1e\",\"55 Cancri e\",\"55 Cancri e\",\"TRAPPIST-1e\",\"TRAPPIST-1e\",\"TRAPPIST-1e\",\"TRAPPIST-1e\",\"TRAPPIST-1e\",\"TRAPPIST-1e\",\"PSO J318.5-22\",\"TRAPPIST-1e\",\"TRAPPIST-1e\",\"TRAPPIST-1e\",\"TRAPPIST-1e\",\"55 Cancri e\",\"TRAPPIST-1e\",\"TRAPPIST-1e\",\"TRAPPIST-1e\",\"TRAPPIST-1e\",\"TRAPPIST-1e\",\"TRAPPIST-1e\",\"TRAPPIST-1e\",\"TRAPPIST-1e\",\"TRAPPIST-1e\",\"TRAPPIST-1e\",\"TRAPPIST-1e\",\"TRAPPIST-1e\",\"TRAPPIST-1e\",\"TRAPPIST-1e\",\"TRAPPIST-1e\",\"PSO J318.5-22\",\"TRAPPIST-1e\",\"TRAPPIST-1e\",\"TRAPPIST-1e\",\"TRAPPIST-1e\",\"TRAPPIST-1e\",\"TRAPPIST-1e\",\"TRAPPIST-1e\",\"TRAPPIST-1e\",\"PSO J318.5-22\",\"TRAPPIST-1e\",\"55 Cancri e\",\"55 Cancri e\",\"TRAPPIST-1e\",\"TRAPPIST-1e\",\"TRAPPIST-1e\",\"TRAPPIST-1e\",\"55 Cancri e\",null,\"TRAPPIST-1e\",\"TRAPPIST-1e\",\"TRAPPIST-1e\",\"TRAPPIST-1e\",\"TRAPPIST-1e\",\"TRAPPIST-1e\",\"TRAPPIST-1e\",\"55 Cancri e\",\"55 Cancri e\",\"TRAPPIST-1e\",\"TRAPPIST-1e\",\"TRAPPIST-1e\",\"TRAPPIST-1e\",\"TRAPPIST-1e\",\"PSO J318.5-22\",\"TRAPPIST-1e\",\"TRAPPIST-1e\",\"TRAPPIST-1e\",\"PSO J318.5-22\",\"TRAPPIST-1e\",\"TRAPPIST-1e\",\"PSO J318.5-22\",\"TRAPPIST-1e\",\"PSO J318.5-22\",\"TRAPPIST-1e\",\"TRAPPIST-1e\",\"TRAPPIST-1e\",\"TRAPPIST-1e\",\"TRAPPIST-1e\",\"TRAPPIST-1e\",\"TRAPPIST-1e\",\"PSO J318.5-22\",\"TRAPPIST-1e\",\"55 Cancri e\",\"TRAPPIST-1e\",\"55 Cancri e\",\"TRAPPIST-1e\",\"55 Cancri e\",\"55 Cancri e\",\"TRAPPIST-1e\",\"PSO J318.5-22\",\"TRAPPIST-1e\",\"TRAPPIST-1e\",\"TRAPPIST-1e\",\"TRAPPIST-1e\",\"55 Cancri e\",\"55 Cancri e\",\"55 Cancri e\",\"PSO J318.5-22\",\"PSO J318.5-22\",\"TRAPPIST-1e\",\"TRAPPIST-1e\",null,\"55 Cancri e\",\"55 Cancri e\",\"TRAPPIST-1e\",\"PSO J318.5-22\",\"TRAPPIST-1e\",\"55 Cancri e\",null,\"TRAPPIST-1e\",\"TRAPPIST-1e\",\"TRAPPIST-1e\",\"TRAPPIST-1e\",\"TRAPPIST-1e\",\"TRAPPIST-1e\",\"TRAPPIST-1e\",\"TRAPPIST-1e\",\"TRAPPIST-1e\",\"TRAPPIST-1e\",\"55 Cancri e\",\"55 Cancri e\",\"TRAPPIST-1e\",\"TRAPPIST-1e\",\"TRAPPIST-1e\",\"TRAPPIST-1e\",\"TRAPPIST-1e\",\"55 Cancri e\",\"TRAPPIST-1e\",\"TRAPPIST-1e\",\"55 Cancri e\",\"55 Cancri e\",\"TRAPPIST-1e\",\"TRAPPIST-1e\",\"TRAPPIST-1e\",null,\"TRAPPIST-1e\",\"TRAPPIST-1e\",null,\"TRAPPIST-1e\",\"TRAPPIST-1e\",\"55 Cancri e\",\"TRAPPIST-1e\",\"55 Cancri e\",\"55 Cancri e\",\"TRAPPIST-1e\",\"55 Cancri e\",\"TRAPPIST-1e\",\"TRAPPIST-1e\",\"TRAPPIST-1e\",\"55 Cancri e\",null,\"PSO J318.5-22\",\"55 Cancri e\",\"TRAPPIST-1e\",\"TRAPPIST-1e\",\"TRAPPIST-1e\",\"55 Cancri e\",\"55 Cancri e\",\"TRAPPIST-1e\",\"55 Cancri e\",\"TRAPPIST-1e\",\"TRAPPIST-1e\",null,\"TRAPPIST-1e\",\"TRAPPIST-1e\",\"TRAPPIST-1e\",\"TRAPPIST-1e\",\"PSO J318.5-22\",\"55 Cancri e\",\"TRAPPIST-1e\",\"TRAPPIST-1e\",\"55 Cancri e\",null,\"TRAPPIST-1e\",\"TRAPPIST-1e\",\"TRAPPIST-1e\",\"TRAPPIST-1e\",\"55 Cancri e\",\"TRAPPIST-1e\",\"TRAPPIST-1e\",\"TRAPPIST-1e\",\"55 Cancri e\",\"55 Cancri e\",\"PSO J318.5-22\",\"TRAPPIST-1e\",\"TRAPPIST-1e\",\"55 Cancri e\",\"TRAPPIST-1e\",\"TRAPPIST-1e\",\"55 Cancri e\",\"TRAPPIST-1e\",\"TRAPPIST-1e\",\"TRAPPIST-1e\",\"TRAPPIST-1e\",\"TRAPPIST-1e\",\"TRAPPIST-1e\",\"TRAPPIST-1e\",\"55 Cancri e\",\"TRAPPIST-1e\",\"TRAPPIST-1e\",\"TRAPPIST-1e\",\"TRAPPIST-1e\",\"TRAPPIST-1e\",\"PSO J318.5-22\",null,\"55 Cancri e\",\"TRAPPIST-1e\",\"TRAPPIST-1e\",\"TRAPPIST-1e\",\"PSO J318.5-22\",\"PSO J318.5-22\",\"55 Cancri e\",\"55 Cancri e\",\"TRAPPIST-1e\",\"TRAPPIST-1e\",\"TRAPPIST-1e\",\"55 Cancri e\",\"PSO J318.5-22\",\"TRAPPIST-1e\",\"TRAPPIST-1e\",null,\"PSO J318.5-22\",\"TRAPPIST-1e\",\"55 Cancri e\",\"TRAPPIST-1e\",\"55 Cancri e\",\"TRAPPIST-1e\",\"TRAPPIST-1e\",\"TRAPPIST-1e\",null,\"55 Cancri e\",\"TRAPPIST-1e\",\"TRAPPIST-1e\",\"TRAPPIST-1e\",\"TRAPPIST-1e\",\"55 Cancri e\",\"TRAPPIST-1e\",\"TRAPPIST-1e\",\"TRAPPIST-1e\",\"TRAPPIST-1e\",\"55 Cancri e\",null,\"55 Cancri e\",\"55 Cancri e\",\"TRAPPIST-1e\",\"55 Cancri e\",\"55 Cancri e\",\"TRAPPIST-1e\",\"55 Cancri e\",\"TRAPPIST-1e\",\"55 Cancri e\",\"55 Cancri e\",\"TRAPPIST-1e\",\"TRAPPIST-1e\",\"55 Cancri e\",\"TRAPPIST-1e\",\"TRAPPIST-1e\",\"TRAPPIST-1e\",\"PSO J318.5-22\",\"TRAPPIST-1e\",\"55 Cancri e\",\"PSO J318.5-22\",\"TRAPPIST-1e\",\"TRAPPIST-1e\",\"TRAPPIST-1e\",\"TRAPPIST-1e\",\"TRAPPIST-1e\",\"55 Cancri e\",\"55 Cancri e\",\"TRAPPIST-1e\",\"TRAPPIST-1e\",\"TRAPPIST-1e\",\"TRAPPIST-1e\",\"TRAPPIST-1e\",\"55 Cancri e\",\"55 Cancri e\",\"55 Cancri e\",\"TRAPPIST-1e\",\"TRAPPIST-1e\",\"TRAPPIST-1e\",\"TRAPPIST-1e\",\"55 Cancri e\",\"55 Cancri e\",\"TRAPPIST-1e\",\"55 Cancri e\",\"TRAPPIST-1e\",\"TRAPPIST-1e\",\"TRAPPIST-1e\",\"TRAPPIST-1e\",\"55 Cancri e\",\"TRAPPIST-1e\",\"55 Cancri e\",\"TRAPPIST-1e\",\"TRAPPIST-1e\",\"TRAPPIST-1e\",\"55 Cancri e\",\"55 Cancri e\",\"TRAPPIST-1e\",\"TRAPPIST-1e\",\"55 Cancri e\",\"TRAPPIST-1e\",\"TRAPPIST-1e\",\"55 Cancri e\",\"TRAPPIST-1e\",\"TRAPPIST-1e\",\"TRAPPIST-1e\",\"TRAPPIST-1e\",\"TRAPPIST-1e\",\"PSO J318.5-22\",\"TRAPPIST-1e\",\"TRAPPIST-1e\",\"TRAPPIST-1e\",\"TRAPPIST-1e\",\"55 Cancri e\",\"TRAPPIST-1e\",\"TRAPPIST-1e\",\"55 Cancri e\",\"PSO J318.5-22\",\"TRAPPIST-1e\",\"55 Cancri e\",\"PSO J318.5-22\",\"TRAPPIST-1e\",\"TRAPPIST-1e\",\"TRAPPIST-1e\",\"TRAPPIST-1e\",\"TRAPPIST-1e\",\"TRAPPIST-1e\",\"TRAPPIST-1e\",\"55 Cancri e\",\"55 Cancri e\",null,\"PSO J318.5-22\",\"55 Cancri e\",\"TRAPPIST-1e\",\"TRAPPIST-1e\",\"TRAPPIST-1e\",\"55 Cancri e\",\"TRAPPIST-1e\",\"TRAPPIST-1e\",\"TRAPPIST-1e\",\"TRAPPIST-1e\",\"TRAPPIST-1e\",\"55 Cancri e\",\"TRAPPIST-1e\",\"TRAPPIST-1e\",\"TRAPPIST-1e\",\"55 Cancri e\",\"TRAPPIST-1e\",\"TRAPPIST-1e\",\"TRAPPIST-1e\",\"PSO J318.5-22\",\"TRAPPIST-1e\",\"TRAPPIST-1e\",\"TRAPPIST-1e\",\"55 Cancri e\",\"TRAPPIST-1e\",\"55 Cancri e\",\"TRAPPIST-1e\",\"TRAPPIST-1e\",\"TRAPPIST-1e\",\"TRAPPIST-1e\",\"TRAPPIST-1e\",\"TRAPPIST-1e\",\"TRAPPIST-1e\",\"TRAPPIST-1e\",\"TRAPPIST-1e\",\"TRAPPIST-1e\",null,\"TRAPPIST-1e\",\"TRAPPIST-1e\",\"55 Cancri e\",\"TRAPPIST-1e\",\"55 Cancri e\",\"PSO J318.5-22\",\"PSO J318.5-22\",\"TRAPPIST-1e\",\"TRAPPIST-1e\",\"TRAPPIST-1e\",\"TRAPPIST-1e\",\"TRAPPIST-1e\",\"TRAPPIST-1e\",\"TRAPPIST-1e\",\"TRAPPIST-1e\",null,\"TRAPPIST-1e\",\"TRAPPIST-1e\",\"TRAPPIST-1e\",\"TRAPPIST-1e\",\"TRAPPIST-1e\",\"PSO J318.5-22\",null,\"TRAPPIST-1e\",\"TRAPPIST-1e\",\"TRAPPIST-1e\",\"PSO J318.5-22\",\"TRAPPIST-1e\",\"TRAPPIST-1e\",\"55 Cancri e\",\"TRAPPIST-1e\",\"TRAPPIST-1e\",\"TRAPPIST-1e\",\"TRAPPIST-1e\",\"55 Cancri e\",\"TRAPPIST-1e\",\"TRAPPIST-1e\",\"55 Cancri e\",\"TRAPPIST-1e\",\"TRAPPIST-1e\",\"TRAPPIST-1e\",\"55 Cancri e\",\"TRAPPIST-1e\",\"TRAPPIST-1e\",\"55 Cancri e\",\"TRAPPIST-1e\",\"TRAPPIST-1e\",\"TRAPPIST-1e\",\"TRAPPIST-1e\",\"TRAPPIST-1e\",\"TRAPPIST-1e\",\"55 Cancri e\",\"TRAPPIST-1e\",\"TRAPPIST-1e\",\"TRAPPIST-1e\",\"TRAPPIST-1e\",\"TRAPPIST-1e\",\"PSO J318.5-22\",\"TRAPPIST-1e\",\"55 Cancri e\",\"55 Cancri e\",\"55 Cancri e\",\"TRAPPIST-1e\",\"TRAPPIST-1e\",\"TRAPPIST-1e\",\"TRAPPIST-1e\",\"55 Cancri e\",\"TRAPPIST-1e\",\"55 Cancri e\",\"PSO J318.5-22\",\"PSO J318.5-22\",\"TRAPPIST-1e\",\"55 Cancri e\",\"55 Cancri e\",\"TRAPPIST-1e\",\"TRAPPIST-1e\",\"TRAPPIST-1e\",\"55 Cancri e\",\"TRAPPIST-1e\",\"TRAPPIST-1e\",\"55 Cancri e\",\"55 Cancri e\",\"TRAPPIST-1e\",\"TRAPPIST-1e\",\"TRAPPIST-1e\",\"TRAPPIST-1e\",\"TRAPPIST-1e\",\"55 Cancri e\",\"TRAPPIST-1e\",\"PSO J318.5-22\",\"TRAPPIST-1e\",\"TRAPPIST-1e\",\"55 Cancri e\",\"TRAPPIST-1e\",\"PSO J318.5-22\",\"55 Cancri e\",\"TRAPPIST-1e\",\"TRAPPIST-1e\",\"TRAPPIST-1e\",\"55 Cancri e\",\"TRAPPIST-1e\",\"PSO J318.5-22\",\"TRAPPIST-1e\",\"TRAPPIST-1e\",\"TRAPPIST-1e\",\"TRAPPIST-1e\",\"TRAPPIST-1e\",\"TRAPPIST-1e\",\"TRAPPIST-1e\",\"TRAPPIST-1e\",\"TRAPPIST-1e\",\"TRAPPIST-1e\",\"TRAPPIST-1e\",\"TRAPPIST-1e\",\"TRAPPIST-1e\",\"55 Cancri e\",\"55 Cancri e\",\"PSO J318.5-22\",null,\"TRAPPIST-1e\",\"55 Cancri e\",\"TRAPPIST-1e\",\"TRAPPIST-1e\",\"TRAPPIST-1e\",\"TRAPPIST-1e\",\"TRAPPIST-1e\",\"TRAPPIST-1e\",\"TRAPPIST-1e\",\"55 Cancri e\",\"TRAPPIST-1e\",\"TRAPPIST-1e\",\"TRAPPIST-1e\",\"PSO J318.5-22\",\"55 Cancri e\",\"TRAPPIST-1e\",\"TRAPPIST-1e\",\"PSO J318.5-22\",\"PSO J318.5-22\",\"55 Cancri e\",\"TRAPPIST-1e\",null,\"TRAPPIST-1e\",\"TRAPPIST-1e\",\"TRAPPIST-1e\",\"55 Cancri e\",\"PSO J318.5-22\",\"TRAPPIST-1e\",\"TRAPPIST-1e\",\"TRAPPIST-1e\",\"TRAPPIST-1e\",\"TRAPPIST-1e\",\"PSO J318.5-22\",\"TRAPPIST-1e\",\"PSO J318.5-22\",\"TRAPPIST-1e\",\"TRAPPIST-1e\",\"PSO J318.5-22\",\"TRAPPIST-1e\",\"TRAPPIST-1e\",\"TRAPPIST-1e\",\"TRAPPIST-1e\",\"TRAPPIST-1e\",\"TRAPPIST-1e\",\"PSO J318.5-22\",\"TRAPPIST-1e\",\"TRAPPIST-1e\",\"TRAPPIST-1e\",\"TRAPPIST-1e\",\"TRAPPIST-1e\",\"55 Cancri e\",\"55 Cancri e\",\"TRAPPIST-1e\",\"TRAPPIST-1e\",\"TRAPPIST-1e\",\"TRAPPIST-1e\",\"TRAPPIST-1e\",\"55 Cancri e\",\"TRAPPIST-1e\",\"55 Cancri e\",\"55 Cancri e\",\"55 Cancri e\",\"TRAPPIST-1e\",\"55 Cancri e\",\"TRAPPIST-1e\",\"TRAPPIST-1e\",\"PSO J318.5-22\",\"PSO J318.5-22\",\"TRAPPIST-1e\",\"TRAPPIST-1e\",\"55 Cancri e\",\"TRAPPIST-1e\",\"PSO J318.5-22\",\"TRAPPIST-1e\",\"TRAPPIST-1e\",\"TRAPPIST-1e\",\"55 Cancri e\",\"PSO J318.5-22\",\"TRAPPIST-1e\",\"TRAPPIST-1e\",\"TRAPPIST-1e\",\"TRAPPIST-1e\",null,\"PSO J318.5-22\",\"TRAPPIST-1e\",\"TRAPPIST-1e\",\"55 Cancri e\",\"TRAPPIST-1e\",\"TRAPPIST-1e\",\"TRAPPIST-1e\",\"TRAPPIST-1e\",\"TRAPPIST-1e\",\"55 Cancri e\",\"TRAPPIST-1e\",\"TRAPPIST-1e\",\"TRAPPIST-1e\",\"TRAPPIST-1e\",\"TRAPPIST-1e\",\"55 Cancri e\",\"55 Cancri e\",\"TRAPPIST-1e\",\"TRAPPIST-1e\",\"TRAPPIST-1e\",\"TRAPPIST-1e\",\"TRAPPIST-1e\",\"55 Cancri e\",\"TRAPPIST-1e\",\"TRAPPIST-1e\",\"TRAPPIST-1e\",\"TRAPPIST-1e\",\"55 Cancri e\",\"TRAPPIST-1e\",\"TRAPPIST-1e\",\"TRAPPIST-1e\",\"TRAPPIST-1e\",\"TRAPPIST-1e\",\"TRAPPIST-1e\",\"TRAPPIST-1e\",\"55 Cancri e\",\"TRAPPIST-1e\",\"TRAPPIST-1e\",\"TRAPPIST-1e\",\"PSO J318.5-22\",\"TRAPPIST-1e\",\"TRAPPIST-1e\",\"TRAPPIST-1e\",\"55 Cancri e\",\"TRAPPIST-1e\",\"TRAPPIST-1e\",\"TRAPPIST-1e\",\"TRAPPIST-1e\",\"TRAPPIST-1e\",\"PSO J318.5-22\",\"55 Cancri e\",\"55 Cancri e\",\"TRAPPIST-1e\",\"55 Cancri e\",\"55 Cancri e\",\"TRAPPIST-1e\",\"TRAPPIST-1e\",\"TRAPPIST-1e\",\"TRAPPIST-1e\",\"TRAPPIST-1e\",\"TRAPPIST-1e\",\"55 Cancri e\",\"TRAPPIST-1e\",\"TRAPPIST-1e\",\"TRAPPIST-1e\",\"55 Cancri e\",\"TRAPPIST-1e\",\"TRAPPIST-1e\",\"TRAPPIST-1e\",\"TRAPPIST-1e\",\"55 Cancri e\",\"TRAPPIST-1e\",\"55 Cancri e\",\"TRAPPIST-1e\",\"55 Cancri e\",\"TRAPPIST-1e\",null,\"55 Cancri e\",\"TRAPPIST-1e\",\"TRAPPIST-1e\",\"TRAPPIST-1e\",\"TRAPPIST-1e\",\"TRAPPIST-1e\",\"TRAPPIST-1e\",\"PSO J318.5-22\",\"TRAPPIST-1e\",\"55 Cancri e\",\"PSO J318.5-22\",\"55 Cancri e\",\"TRAPPIST-1e\",\"PSO J318.5-22\",\"55 Cancri e\",\"PSO J318.5-22\",\"TRAPPIST-1e\",\"TRAPPIST-1e\",\"55 Cancri e\",\"TRAPPIST-1e\",\"55 Cancri e\",\"TRAPPIST-1e\",\"TRAPPIST-1e\",\"55 Cancri e\",\"55 Cancri e\",\"TRAPPIST-1e\",\"55 Cancri e\",\"TRAPPIST-1e\",\"TRAPPIST-1e\",\"TRAPPIST-1e\",\"TRAPPIST-1e\",\"55 Cancri e\",\"TRAPPIST-1e\",\"55 Cancri e\",\"TRAPPIST-1e\",\"TRAPPIST-1e\",\"55 Cancri e\",\"TRAPPIST-1e\",\"TRAPPIST-1e\",\"TRAPPIST-1e\",\"TRAPPIST-1e\",\"TRAPPIST-1e\",\"TRAPPIST-1e\",\"TRAPPIST-1e\",\"55 Cancri e\",\"TRAPPIST-1e\",\"TRAPPIST-1e\",\"TRAPPIST-1e\",\"TRAPPIST-1e\",\"TRAPPIST-1e\",\"55 Cancri e\",\"PSO J318.5-22\",\"TRAPPIST-1e\",\"55 Cancri e\",\"TRAPPIST-1e\",\"PSO J318.5-22\",\"TRAPPIST-1e\",\"TRAPPIST-1e\",\"TRAPPIST-1e\",\"TRAPPIST-1e\",\"55 Cancri e\",\"55 Cancri e\",\"55 Cancri e\",\"TRAPPIST-1e\",\"55 Cancri e\",\"PSO J318.5-22\",\"TRAPPIST-1e\",\"TRAPPIST-1e\",\"55 Cancri e\",\"TRAPPIST-1e\",\"PSO J318.5-22\",\"TRAPPIST-1e\",\"TRAPPIST-1e\",\"TRAPPIST-1e\",\"TRAPPIST-1e\",\"TRAPPIST-1e\",\"55 Cancri e\",\"TRAPPIST-1e\",\"TRAPPIST-1e\",\"55 Cancri e\",\"TRAPPIST-1e\",\"55 Cancri e\",\"55 Cancri e\",\"TRAPPIST-1e\",\"TRAPPIST-1e\",\"TRAPPIST-1e\",\"PSO J318.5-22\",\"TRAPPIST-1e\",\"TRAPPIST-1e\",\"PSO J318.5-22\",null,\"TRAPPIST-1e\",\"55 Cancri e\",\"55 Cancri e\",\"55 Cancri e\",\"TRAPPIST-1e\",\"PSO J318.5-22\",\"TRAPPIST-1e\",\"PSO J318.5-22\",\"TRAPPIST-1e\",\"TRAPPIST-1e\",\"TRAPPIST-1e\",\"TRAPPIST-1e\",\"TRAPPIST-1e\",\"TRAPPIST-1e\",\"TRAPPIST-1e\",\"55 Cancri e\",\"TRAPPIST-1e\",\"TRAPPIST-1e\",\"TRAPPIST-1e\",\"TRAPPIST-1e\",\"TRAPPIST-1e\",\"TRAPPIST-1e\",\"55 Cancri e\",\"TRAPPIST-1e\",\"TRAPPIST-1e\",\"55 Cancri e\",\"PSO J318.5-22\",\"55 Cancri e\",\"55 Cancri e\",\"55 Cancri e\",\"TRAPPIST-1e\",\"PSO J318.5-22\",\"TRAPPIST-1e\",\"55 Cancri e\",\"PSO J318.5-22\",\"TRAPPIST-1e\",\"TRAPPIST-1e\",\"55 Cancri e\",\"TRAPPIST-1e\",\"TRAPPIST-1e\",\"TRAPPIST-1e\",\"TRAPPIST-1e\",\"TRAPPIST-1e\",\"TRAPPIST-1e\",\"TRAPPIST-1e\",\"TRAPPIST-1e\",\"TRAPPIST-1e\",\"TRAPPIST-1e\",\"PSO J318.5-22\",\"TRAPPIST-1e\",\"TRAPPIST-1e\",\"TRAPPIST-1e\",\"TRAPPIST-1e\",\"55 Cancri e\",null,\"TRAPPIST-1e\",\"TRAPPIST-1e\",\"TRAPPIST-1e\",\"PSO J318.5-22\",\"TRAPPIST-1e\",\"TRAPPIST-1e\",\"TRAPPIST-1e\",\"55 Cancri e\",\"TRAPPIST-1e\",\"TRAPPIST-1e\",\"TRAPPIST-1e\",\"TRAPPIST-1e\",\"TRAPPIST-1e\",\"TRAPPIST-1e\",\"PSO J318.5-22\",\"TRAPPIST-1e\",\"TRAPPIST-1e\",\"TRAPPIST-1e\",\"TRAPPIST-1e\",\"TRAPPIST-1e\",\"TRAPPIST-1e\",\"TRAPPIST-1e\",\"55 Cancri e\",\"TRAPPIST-1e\",\"TRAPPIST-1e\",\"55 Cancri e\",\"55 Cancri e\",\"TRAPPIST-1e\",\"TRAPPIST-1e\",\"TRAPPIST-1e\",\"55 Cancri e\",\"TRAPPIST-1e\",\"TRAPPIST-1e\",\"55 Cancri e\",\"TRAPPIST-1e\",\"TRAPPIST-1e\",\"TRAPPIST-1e\",\"TRAPPIST-1e\",\"55 Cancri e\",\"55 Cancri e\",\"55 Cancri e\",\"TRAPPIST-1e\",\"PSO J318.5-22\",\"PSO J318.5-22\",\"TRAPPIST-1e\",\"TRAPPIST-1e\",\"TRAPPIST-1e\",\"TRAPPIST-1e\",\"TRAPPIST-1e\",\"PSO J318.5-22\",\"PSO J318.5-22\",\"TRAPPIST-1e\",\"TRAPPIST-1e\",\"TRAPPIST-1e\",\"55 Cancri e\",\"TRAPPIST-1e\",\"TRAPPIST-1e\",\"TRAPPIST-1e\",\"TRAPPIST-1e\",\"55 Cancri e\",\"TRAPPIST-1e\",\"PSO J318.5-22\",null,\"55 Cancri e\",\"PSO J318.5-22\",\"TRAPPIST-1e\",\"PSO J318.5-22\",\"TRAPPIST-1e\",\"TRAPPIST-1e\",\"55 Cancri e\",\"PSO J318.5-22\",\"TRAPPIST-1e\",\"55 Cancri e\",\"TRAPPIST-1e\",\"TRAPPIST-1e\",\"TRAPPIST-1e\",\"TRAPPIST-1e\",\"TRAPPIST-1e\",\"TRAPPIST-1e\",\"TRAPPIST-1e\",\"55 Cancri e\",\"TRAPPIST-1e\",\"TRAPPIST-1e\",\"TRAPPIST-1e\",\"TRAPPIST-1e\",\"PSO J318.5-22\",\"TRAPPIST-1e\",\"55 Cancri e\",\"55 Cancri e\",\"TRAPPIST-1e\",\"TRAPPIST-1e\",\"TRAPPIST-1e\",\"TRAPPIST-1e\",\"TRAPPIST-1e\",\"TRAPPIST-1e\",\"TRAPPIST-1e\",\"TRAPPIST-1e\",\"TRAPPIST-1e\",\"TRAPPIST-1e\",\"TRAPPIST-1e\",\"55 Cancri e\",\"55 Cancri e\",\"TRAPPIST-1e\",\"TRAPPIST-1e\",\"TRAPPIST-1e\",\"TRAPPIST-1e\",\"TRAPPIST-1e\",\"TRAPPIST-1e\",\"TRAPPIST-1e\",\"55 Cancri e\",\"TRAPPIST-1e\",\"55 Cancri e\",\"TRAPPIST-1e\",\"TRAPPIST-1e\",\"TRAPPIST-1e\",\"TRAPPIST-1e\",\"TRAPPIST-1e\",\"TRAPPIST-1e\",\"TRAPPIST-1e\",\"TRAPPIST-1e\",\"PSO J318.5-22\",\"TRAPPIST-1e\",\"55 Cancri e\",\"TRAPPIST-1e\",\"TRAPPIST-1e\",\"TRAPPIST-1e\",\"TRAPPIST-1e\",\"TRAPPIST-1e\",\"TRAPPIST-1e\",\"55 Cancri e\",\"PSO J318.5-22\",\"TRAPPIST-1e\",\"TRAPPIST-1e\",\"55 Cancri e\",\"TRAPPIST-1e\",\"PSO J318.5-22\",\"TRAPPIST-1e\",\"TRAPPIST-1e\",\"TRAPPIST-1e\",\"TRAPPIST-1e\",\"PSO J318.5-22\",\"55 Cancri e\",\"55 Cancri e\",\"TRAPPIST-1e\",\"55 Cancri e\",\"TRAPPIST-1e\",\"PSO J318.5-22\",\"55 Cancri e\",\"TRAPPIST-1e\",\"TRAPPIST-1e\",\"TRAPPIST-1e\",\"TRAPPIST-1e\",\"TRAPPIST-1e\",\"55 Cancri e\",\"TRAPPIST-1e\",\"TRAPPIST-1e\",\"55 Cancri e\",\"TRAPPIST-1e\",\"TRAPPIST-1e\",\"PSO J318.5-22\",\"TRAPPIST-1e\",\"55 Cancri e\",\"TRAPPIST-1e\",\"TRAPPIST-1e\",\"55 Cancri e\",\"TRAPPIST-1e\",\"PSO J318.5-22\",\"TRAPPIST-1e\",\"TRAPPIST-1e\",\"PSO J318.5-22\",\"55 Cancri e\",\"55 Cancri e\",\"TRAPPIST-1e\",\"TRAPPIST-1e\",\"TRAPPIST-1e\",\"TRAPPIST-1e\",\"TRAPPIST-1e\",\"TRAPPIST-1e\",\"TRAPPIST-1e\",\"55 Cancri e\",\"TRAPPIST-1e\",\"TRAPPIST-1e\",\"TRAPPIST-1e\",\"55 Cancri e\",\"TRAPPIST-1e\",\"TRAPPIST-1e\",\"55 Cancri e\",\"TRAPPIST-1e\",\"TRAPPIST-1e\",\"TRAPPIST-1e\",\"55 Cancri e\",\"TRAPPIST-1e\",\"TRAPPIST-1e\",\"TRAPPIST-1e\",\"55 Cancri e\",\"TRAPPIST-1e\",\"55 Cancri e\",\"PSO J318.5-22\",\"TRAPPIST-1e\",\"TRAPPIST-1e\",\"TRAPPIST-1e\",\"TRAPPIST-1e\",\"55 Cancri e\",\"TRAPPIST-1e\",\"TRAPPIST-1e\",\"TRAPPIST-1e\",\"PSO J318.5-22\",\"TRAPPIST-1e\",\"TRAPPIST-1e\",\"55 Cancri e\",\"PSO J318.5-22\",\"TRAPPIST-1e\",\"TRAPPIST-1e\",\"TRAPPIST-1e\",\"TRAPPIST-1e\",\"55 Cancri e\",\"TRAPPIST-1e\",\"TRAPPIST-1e\",null,\"PSO J318.5-22\",\"TRAPPIST-1e\",\"TRAPPIST-1e\",\"TRAPPIST-1e\",\"TRAPPIST-1e\",\"TRAPPIST-1e\",\"TRAPPIST-1e\",\"TRAPPIST-1e\",\"TRAPPIST-1e\",\"55 Cancri e\",\"55 Cancri e\",\"55 Cancri e\",\"TRAPPIST-1e\",\"TRAPPIST-1e\",\"55 Cancri e\",\"TRAPPIST-1e\",\"TRAPPIST-1e\",\"TRAPPIST-1e\",\"TRAPPIST-1e\",\"TRAPPIST-1e\",\"TRAPPIST-1e\",\"55 Cancri e\",\"55 Cancri e\",\"55 Cancri e\",\"55 Cancri e\",\"55 Cancri e\",\"TRAPPIST-1e\",\"TRAPPIST-1e\",\"TRAPPIST-1e\",\"TRAPPIST-1e\",\"55 Cancri e\",\"TRAPPIST-1e\",\"TRAPPIST-1e\",\"TRAPPIST-1e\",\"55 Cancri e\",\"55 Cancri e\",\"55 Cancri e\",\"55 Cancri e\",null,\"TRAPPIST-1e\",\"TRAPPIST-1e\",\"PSO J318.5-22\",\"TRAPPIST-1e\",\"TRAPPIST-1e\",\"TRAPPIST-1e\",\"55 Cancri e\",\"TRAPPIST-1e\",\"TRAPPIST-1e\",\"PSO J318.5-22\",\"TRAPPIST-1e\",\"TRAPPIST-1e\",\"TRAPPIST-1e\",\"TRAPPIST-1e\",\"TRAPPIST-1e\",\"TRAPPIST-1e\",\"TRAPPIST-1e\",\"TRAPPIST-1e\",\"TRAPPIST-1e\",\"TRAPPIST-1e\",\"TRAPPIST-1e\",\"TRAPPIST-1e\",\"TRAPPIST-1e\",\"TRAPPIST-1e\",\"PSO J318.5-22\",\"TRAPPIST-1e\",\"TRAPPIST-1e\",\"55 Cancri e\",\"PSO J318.5-22\",\"TRAPPIST-1e\",\"TRAPPIST-1e\",\"55 Cancri e\",\"TRAPPIST-1e\",\"TRAPPIST-1e\",\"TRAPPIST-1e\",\"TRAPPIST-1e\",\"PSO J318.5-22\",\"TRAPPIST-1e\",\"TRAPPIST-1e\",\"TRAPPIST-1e\",\"TRAPPIST-1e\",\"TRAPPIST-1e\",\"TRAPPIST-1e\",\"55 Cancri e\",\"55 Cancri e\",\"TRAPPIST-1e\",\"TRAPPIST-1e\",\"55 Cancri e\",\"TRAPPIST-1e\",\"TRAPPIST-1e\",\"55 Cancri e\",\"TRAPPIST-1e\",\"PSO J318.5-22\",\"55 Cancri e\",\"TRAPPIST-1e\",\"PSO J318.5-22\",\"TRAPPIST-1e\",\"TRAPPIST-1e\",\"TRAPPIST-1e\",\"PSO J318.5-22\",\"TRAPPIST-1e\",\"55 Cancri e\",\"TRAPPIST-1e\",\"TRAPPIST-1e\",\"55 Cancri e\",\"TRAPPIST-1e\",\"TRAPPIST-1e\",\"TRAPPIST-1e\",\"TRAPPIST-1e\",\"55 Cancri e\",\"TRAPPIST-1e\",\"TRAPPIST-1e\",\"55 Cancri e\",\"TRAPPIST-1e\",\"TRAPPIST-1e\",\"TRAPPIST-1e\",\"TRAPPIST-1e\",\"TRAPPIST-1e\",\"TRAPPIST-1e\",\"TRAPPIST-1e\",\"55 Cancri e\",\"55 Cancri e\",\"55 Cancri e\",\"55 Cancri e\",\"TRAPPIST-1e\",\"PSO J318.5-22\",\"TRAPPIST-1e\",\"55 Cancri e\",\"TRAPPIST-1e\",\"TRAPPIST-1e\",\"TRAPPIST-1e\",\"TRAPPIST-1e\",\"TRAPPIST-1e\",\"TRAPPIST-1e\",\"TRAPPIST-1e\",null,\"TRAPPIST-1e\",\"TRAPPIST-1e\",\"55 Cancri e\",\"TRAPPIST-1e\",\"TRAPPIST-1e\",\"TRAPPIST-1e\",\"TRAPPIST-1e\",\"TRAPPIST-1e\",\"TRAPPIST-1e\",\"TRAPPIST-1e\",\"TRAPPIST-1e\",null,\"TRAPPIST-1e\",\"TRAPPIST-1e\",\"TRAPPIST-1e\",\"TRAPPIST-1e\",\"55 Cancri e\",\"TRAPPIST-1e\",\"55 Cancri e\",\"55 Cancri e\",\"TRAPPIST-1e\",\"TRAPPIST-1e\",\"PSO J318.5-22\",\"TRAPPIST-1e\",\"TRAPPIST-1e\",\"55 Cancri e\",\"TRAPPIST-1e\",\"PSO J318.5-22\",\"TRAPPIST-1e\",\"TRAPPIST-1e\",\"55 Cancri e\",null,\"PSO J318.5-22\",\"PSO J318.5-22\",\"TRAPPIST-1e\",\"TRAPPIST-1e\",\"TRAPPIST-1e\",\"TRAPPIST-1e\",\"55 Cancri e\",\"TRAPPIST-1e\",\"TRAPPIST-1e\",\"55 Cancri e\",\"55 Cancri e\",\"TRAPPIST-1e\",\"TRAPPIST-1e\",\"TRAPPIST-1e\",\"55 Cancri e\",\"TRAPPIST-1e\",\"TRAPPIST-1e\",\"TRAPPIST-1e\",\"55 Cancri e\",\"TRAPPIST-1e\",\"TRAPPIST-1e\",\"TRAPPIST-1e\",\"TRAPPIST-1e\",null,\"TRAPPIST-1e\",\"TRAPPIST-1e\",\"TRAPPIST-1e\",\"TRAPPIST-1e\",\"TRAPPIST-1e\",\"TRAPPIST-1e\",\"TRAPPIST-1e\",\"TRAPPIST-1e\",\"TRAPPIST-1e\",\"TRAPPIST-1e\",\"55 Cancri e\",\"TRAPPIST-1e\",\"TRAPPIST-1e\",\"TRAPPIST-1e\",\"TRAPPIST-1e\",\"TRAPPIST-1e\",\"PSO J318.5-22\",\"TRAPPIST-1e\",\"TRAPPIST-1e\",\"55 Cancri e\",\"TRAPPIST-1e\",\"55 Cancri e\",\"TRAPPIST-1e\",\"TRAPPIST-1e\",\"TRAPPIST-1e\",\"TRAPPIST-1e\",\"TRAPPIST-1e\",\"TRAPPIST-1e\",\"TRAPPIST-1e\",null,\"TRAPPIST-1e\",\"TRAPPIST-1e\",\"PSO J318.5-22\",\"TRAPPIST-1e\",\"TRAPPIST-1e\",\"55 Cancri e\",\"TRAPPIST-1e\",\"TRAPPIST-1e\",\"55 Cancri e\",\"TRAPPIST-1e\",\"TRAPPIST-1e\",\"TRAPPIST-1e\",\"TRAPPIST-1e\",\"TRAPPIST-1e\",\"TRAPPIST-1e\",\"TRAPPIST-1e\",\"TRAPPIST-1e\",\"TRAPPIST-1e\",\"TRAPPIST-1e\",\"55 Cancri e\",\"TRAPPIST-1e\",\"TRAPPIST-1e\",\"55 Cancri e\",\"TRAPPIST-1e\",\"TRAPPIST-1e\",\"TRAPPIST-1e\",\"55 Cancri e\",\"TRAPPIST-1e\",\"55 Cancri e\",\"TRAPPIST-1e\",\"TRAPPIST-1e\",\"TRAPPIST-1e\",\"55 Cancri e\",\"55 Cancri e\",\"55 Cancri e\",\"TRAPPIST-1e\",\"TRAPPIST-1e\",\"TRAPPIST-1e\",\"TRAPPIST-1e\",\"TRAPPIST-1e\",\"PSO J318.5-22\",\"TRAPPIST-1e\",\"TRAPPIST-1e\",\"55 Cancri e\",\"TRAPPIST-1e\",\"55 Cancri e\",\"TRAPPIST-1e\",\"PSO J318.5-22\",\"TRAPPIST-1e\",null,\"TRAPPIST-1e\",\"TRAPPIST-1e\",\"TRAPPIST-1e\",\"55 Cancri e\",\"55 Cancri e\",\"55 Cancri e\",\"TRAPPIST-1e\",\"PSO J318.5-22\",\"TRAPPIST-1e\",\"PSO J318.5-22\",\"TRAPPIST-1e\",\"55 Cancri e\",\"TRAPPIST-1e\",\"TRAPPIST-1e\",\"PSO J318.5-22\",\"TRAPPIST-1e\",\"TRAPPIST-1e\",\"TRAPPIST-1e\",\"TRAPPIST-1e\",\"TRAPPIST-1e\",\"TRAPPIST-1e\",\"TRAPPIST-1e\",\"TRAPPIST-1e\",\"PSO J318.5-22\",\"55 Cancri e\",\"TRAPPIST-1e\",null,\"TRAPPIST-1e\",\"TRAPPIST-1e\",\"TRAPPIST-1e\",\"TRAPPIST-1e\",\"55 Cancri e\",\"55 Cancri e\",\"TRAPPIST-1e\",\"TRAPPIST-1e\",\"TRAPPIST-1e\",\"TRAPPIST-1e\",\"TRAPPIST-1e\",\"TRAPPIST-1e\",\"55 Cancri e\",\"55 Cancri e\",\"PSO J318.5-22\",\"TRAPPIST-1e\",\"TRAPPIST-1e\",\"TRAPPIST-1e\",null,\"TRAPPIST-1e\",\"TRAPPIST-1e\",\"TRAPPIST-1e\",\"55 Cancri e\",\"TRAPPIST-1e\",\"PSO J318.5-22\",\"TRAPPIST-1e\",\"TRAPPIST-1e\",\"TRAPPIST-1e\",\"TRAPPIST-1e\",\"TRAPPIST-1e\",\"55 Cancri e\",\"TRAPPIST-1e\",\"TRAPPIST-1e\",\"TRAPPIST-1e\",\"55 Cancri e\",\"TRAPPIST-1e\",\"55 Cancri e\",\"TRAPPIST-1e\",\"TRAPPIST-1e\",\"PSO J318.5-22\",\"TRAPPIST-1e\",\"TRAPPIST-1e\",\"TRAPPIST-1e\",\"TRAPPIST-1e\",\"TRAPPIST-1e\",\"TRAPPIST-1e\",\"PSO J318.5-22\",\"TRAPPIST-1e\",\"TRAPPIST-1e\",\"PSO J318.5-22\",\"TRAPPIST-1e\",\"55 Cancri e\",\"55 Cancri e\",\"TRAPPIST-1e\",\"TRAPPIST-1e\",\"TRAPPIST-1e\",\"TRAPPIST-1e\",\"55 Cancri e\",\"PSO J318.5-22\",\"55 Cancri e\",\"TRAPPIST-1e\",\"55 Cancri e\",\"TRAPPIST-1e\",\"TRAPPIST-1e\",\"TRAPPIST-1e\",\"TRAPPIST-1e\",\"PSO J318.5-22\",\"TRAPPIST-1e\",\"55 Cancri e\",\"TRAPPIST-1e\",\"PSO J318.5-22\",\"PSO J318.5-22\",\"TRAPPIST-1e\",\"TRAPPIST-1e\",\"TRAPPIST-1e\",\"TRAPPIST-1e\",\"TRAPPIST-1e\",\"55 Cancri e\",\"55 Cancri e\",\"TRAPPIST-1e\",\"TRAPPIST-1e\",\"55 Cancri e\",\"55 Cancri e\",\"TRAPPIST-1e\",\"55 Cancri e\",\"TRAPPIST-1e\",\"TRAPPIST-1e\",\"TRAPPIST-1e\",\"TRAPPIST-1e\",\"TRAPPIST-1e\",\"TRAPPIST-1e\",\"TRAPPIST-1e\",\"TRAPPIST-1e\",\"TRAPPIST-1e\",\"TRAPPIST-1e\",\"PSO J318.5-22\",\"TRAPPIST-1e\",\"TRAPPIST-1e\",\"TRAPPIST-1e\",\"55 Cancri e\",\"TRAPPIST-1e\",\"TRAPPIST-1e\",\"55 Cancri e\",\"TRAPPIST-1e\",\"55 Cancri e\",\"TRAPPIST-1e\",\"TRAPPIST-1e\",\"55 Cancri e\",\"TRAPPIST-1e\",\"55 Cancri e\",\"PSO J318.5-22\",\"TRAPPIST-1e\",\"TRAPPIST-1e\",\"55 Cancri e\",\"TRAPPIST-1e\",\"PSO J318.5-22\",\"55 Cancri e\",\"PSO J318.5-22\",\"TRAPPIST-1e\",\"TRAPPIST-1e\",\"55 Cancri e\",\"55 Cancri e\",null,\"TRAPPIST-1e\",\"TRAPPIST-1e\",\"55 Cancri e\",\"55 Cancri e\",\"55 Cancri e\",\"55 Cancri e\",\"TRAPPIST-1e\",\"PSO J318.5-22\",\"TRAPPIST-1e\",\"TRAPPIST-1e\",\"TRAPPIST-1e\",\"TRAPPIST-1e\",\"TRAPPIST-1e\",\"TRAPPIST-1e\",\"TRAPPIST-1e\",\"55 Cancri e\",\"PSO J318.5-22\",\"TRAPPIST-1e\",\"TRAPPIST-1e\",\"PSO J318.5-22\",\"PSO J318.5-22\",\"TRAPPIST-1e\",\"TRAPPIST-1e\",\"TRAPPIST-1e\",\"TRAPPIST-1e\",\"TRAPPIST-1e\",\"TRAPPIST-1e\",\"PSO J318.5-22\",\"TRAPPIST-1e\",\"TRAPPIST-1e\",\"TRAPPIST-1e\",\"TRAPPIST-1e\",\"TRAPPIST-1e\",\"55 Cancri e\",\"TRAPPIST-1e\",\"PSO J318.5-22\",\"TRAPPIST-1e\",\"PSO J318.5-22\",\"TRAPPIST-1e\",\"55 Cancri e\",\"TRAPPIST-1e\",\"TRAPPIST-1e\",\"TRAPPIST-1e\",\"TRAPPIST-1e\",\"TRAPPIST-1e\",\"TRAPPIST-1e\",\"TRAPPIST-1e\",\"TRAPPIST-1e\",\"TRAPPIST-1e\",\"TRAPPIST-1e\",\"TRAPPIST-1e\",\"PSO J318.5-22\",\"TRAPPIST-1e\",\"TRAPPIST-1e\",\"TRAPPIST-1e\",\"TRAPPIST-1e\",\"55 Cancri e\",\"TRAPPIST-1e\",\"TRAPPIST-1e\",\"TRAPPIST-1e\",null,\"TRAPPIST-1e\",\"TRAPPIST-1e\",\"TRAPPIST-1e\",\"TRAPPIST-1e\",\"TRAPPIST-1e\",\"TRAPPIST-1e\",\"TRAPPIST-1e\",\"TRAPPIST-1e\",\"TRAPPIST-1e\",\"TRAPPIST-1e\",\"TRAPPIST-1e\",\"55 Cancri e\",\"TRAPPIST-1e\",\"PSO J318.5-22\",\"TRAPPIST-1e\",null,\"TRAPPIST-1e\",\"TRAPPIST-1e\",\"TRAPPIST-1e\",\"TRAPPIST-1e\",\"TRAPPIST-1e\",\"TRAPPIST-1e\",\"55 Cancri e\",\"TRAPPIST-1e\",\"55 Cancri e\",\"TRAPPIST-1e\",\"TRAPPIST-1e\",\"PSO J318.5-22\",\"TRAPPIST-1e\",\"TRAPPIST-1e\",\"TRAPPIST-1e\",\"TRAPPIST-1e\",null,\"TRAPPIST-1e\",null,\"TRAPPIST-1e\",\"TRAPPIST-1e\",\"55 Cancri e\",\"TRAPPIST-1e\",\"TRAPPIST-1e\",\"TRAPPIST-1e\",\"TRAPPIST-1e\",\"55 Cancri e\",\"TRAPPIST-1e\",\"TRAPPIST-1e\",\"TRAPPIST-1e\",\"TRAPPIST-1e\",\"55 Cancri e\",\"TRAPPIST-1e\",\"TRAPPIST-1e\",\"PSO J318.5-22\",\"TRAPPIST-1e\",\"PSO J318.5-22\",\"TRAPPIST-1e\",\"TRAPPIST-1e\",\"TRAPPIST-1e\",\"TRAPPIST-1e\",\"55 Cancri e\",\"55 Cancri e\",\"TRAPPIST-1e\",\"55 Cancri e\",\"TRAPPIST-1e\",\"TRAPPIST-1e\",\"55 Cancri e\",\"TRAPPIST-1e\",\"TRAPPIST-1e\",\"TRAPPIST-1e\",\"PSO J318.5-22\",\"55 Cancri e\",\"55 Cancri e\",\"55 Cancri e\",\"55 Cancri e\",\"TRAPPIST-1e\",\"TRAPPIST-1e\",\"55 Cancri e\",\"TRAPPIST-1e\",\"TRAPPIST-1e\",\"TRAPPIST-1e\",\"TRAPPIST-1e\",\"TRAPPIST-1e\",\"TRAPPIST-1e\",\"TRAPPIST-1e\",\"TRAPPIST-1e\",\"TRAPPIST-1e\",\"55 Cancri e\",\"TRAPPIST-1e\",\"TRAPPIST-1e\",\"TRAPPIST-1e\",\"TRAPPIST-1e\",\"TRAPPIST-1e\",null,\"TRAPPIST-1e\",\"TRAPPIST-1e\",\"TRAPPIST-1e\",\"TRAPPIST-1e\",\"TRAPPIST-1e\",\"TRAPPIST-1e\",\"TRAPPIST-1e\",\"TRAPPIST-1e\",\"TRAPPIST-1e\",\"TRAPPIST-1e\",\"TRAPPIST-1e\",\"TRAPPIST-1e\",\"TRAPPIST-1e\",\"TRAPPIST-1e\",\"TRAPPIST-1e\",\"TRAPPIST-1e\",null,\"TRAPPIST-1e\",\"55 Cancri e\",\"TRAPPIST-1e\",\"TRAPPIST-1e\",\"PSO J318.5-22\",\"TRAPPIST-1e\",\"55 Cancri e\",\"TRAPPIST-1e\",\"55 Cancri e\",\"TRAPPIST-1e\",\"TRAPPIST-1e\",\"TRAPPIST-1e\",\"TRAPPIST-1e\",\"TRAPPIST-1e\",\"55 Cancri e\",\"PSO J318.5-22\",\"55 Cancri e\",\"55 Cancri e\",\"55 Cancri e\",\"TRAPPIST-1e\",\"TRAPPIST-1e\",\"TRAPPIST-1e\",\"TRAPPIST-1e\",\"TRAPPIST-1e\",\"55 Cancri e\",\"TRAPPIST-1e\",\"TRAPPIST-1e\",\"TRAPPIST-1e\",\"PSO J318.5-22\",\"TRAPPIST-1e\",\"PSO J318.5-22\",\"TRAPPIST-1e\",\"PSO J318.5-22\",\"TRAPPIST-1e\",\"TRAPPIST-1e\",\"TRAPPIST-1e\",null,\"55 Cancri e\",\"55 Cancri e\",\"TRAPPIST-1e\",\"TRAPPIST-1e\",\"55 Cancri e\",\"55 Cancri e\",\"TRAPPIST-1e\",\"PSO J318.5-22\",\"TRAPPIST-1e\",\"TRAPPIST-1e\",\"55 Cancri e\",\"TRAPPIST-1e\",\"55 Cancri e\",\"TRAPPIST-1e\",\"TRAPPIST-1e\",\"TRAPPIST-1e\",\"TRAPPIST-1e\",\"TRAPPIST-1e\",\"TRAPPIST-1e\",\"55 Cancri e\",\"TRAPPIST-1e\",null,\"TRAPPIST-1e\",\"TRAPPIST-1e\",\"TRAPPIST-1e\",\"TRAPPIST-1e\",\"TRAPPIST-1e\",\"TRAPPIST-1e\",\"TRAPPIST-1e\",\"PSO J318.5-22\",\"55 Cancri e\",\"TRAPPIST-1e\",\"55 Cancri e\",\"TRAPPIST-1e\",\"55 Cancri e\",\"TRAPPIST-1e\",\"TRAPPIST-1e\",\"55 Cancri e\",\"TRAPPIST-1e\",\"PSO J318.5-22\",\"TRAPPIST-1e\",\"TRAPPIST-1e\",\"TRAPPIST-1e\",\"TRAPPIST-1e\",\"55 Cancri e\",\"PSO J318.5-22\",\"TRAPPIST-1e\",\"TRAPPIST-1e\",\"55 Cancri e\",\"55 Cancri e\",\"55 Cancri e\",\"55 Cancri e\",\"TRAPPIST-1e\",\"TRAPPIST-1e\",\"TRAPPIST-1e\",\"TRAPPIST-1e\",\"55 Cancri e\",\"TRAPPIST-1e\",\"PSO J318.5-22\",\"TRAPPIST-1e\",\"TRAPPIST-1e\",\"TRAPPIST-1e\",\"TRAPPIST-1e\",\"PSO J318.5-22\",null,\"TRAPPIST-1e\",\"TRAPPIST-1e\",\"PSO J318.5-22\",\"55 Cancri e\",\"TRAPPIST-1e\",\"55 Cancri e\",\"TRAPPIST-1e\",\"TRAPPIST-1e\",\"PSO J318.5-22\",\"TRAPPIST-1e\",\"TRAPPIST-1e\",\"TRAPPIST-1e\",\"TRAPPIST-1e\",\"55 Cancri e\",\"TRAPPIST-1e\",\"TRAPPIST-1e\",\"TRAPPIST-1e\",\"55 Cancri e\",\"TRAPPIST-1e\",\"TRAPPIST-1e\",\"55 Cancri e\",\"TRAPPIST-1e\",\"TRAPPIST-1e\",\"TRAPPIST-1e\",\"TRAPPIST-1e\",\"TRAPPIST-1e\",\"TRAPPIST-1e\",\"TRAPPIST-1e\",\"TRAPPIST-1e\",\"TRAPPIST-1e\",\"55 Cancri e\",\"TRAPPIST-1e\",\"TRAPPIST-1e\",\"55 Cancri e\",\"PSO J318.5-22\",\"TRAPPIST-1e\",\"TRAPPIST-1e\",\"TRAPPIST-1e\",\"TRAPPIST-1e\",\"PSO J318.5-22\",\"TRAPPIST-1e\",\"PSO J318.5-22\",\"TRAPPIST-1e\",\"TRAPPIST-1e\",\"TRAPPIST-1e\",\"TRAPPIST-1e\",\"TRAPPIST-1e\",\"PSO J318.5-22\",\"TRAPPIST-1e\",\"55 Cancri e\",\"TRAPPIST-1e\",\"TRAPPIST-1e\",\"TRAPPIST-1e\",\"55 Cancri e\",\"55 Cancri e\",\"PSO J318.5-22\",\"TRAPPIST-1e\",\"TRAPPIST-1e\",\"TRAPPIST-1e\",\"55 Cancri e\",\"TRAPPIST-1e\",\"TRAPPIST-1e\",\"TRAPPIST-1e\",\"TRAPPIST-1e\",\"TRAPPIST-1e\",\"PSO J318.5-22\",\"TRAPPIST-1e\",\"PSO J318.5-22\",\"TRAPPIST-1e\",\"TRAPPIST-1e\",\"TRAPPIST-1e\",\"55 Cancri e\",\"TRAPPIST-1e\",\"55 Cancri e\",\"55 Cancri e\",\"TRAPPIST-1e\",\"55 Cancri e\",\"TRAPPIST-1e\",\"TRAPPIST-1e\",\"TRAPPIST-1e\",\"TRAPPIST-1e\",\"PSO J318.5-22\",\"55 Cancri e\",\"TRAPPIST-1e\",\"TRAPPIST-1e\",\"PSO J318.5-22\",\"55 Cancri e\",\"PSO J318.5-22\",\"TRAPPIST-1e\",\"TRAPPIST-1e\",null,\"TRAPPIST-1e\",\"TRAPPIST-1e\",\"55 Cancri e\",\"TRAPPIST-1e\",\"TRAPPIST-1e\",\"TRAPPIST-1e\",\"TRAPPIST-1e\",\"55 Cancri e\",\"55 Cancri e\",\"TRAPPIST-1e\",\"55 Cancri e\",\"TRAPPIST-1e\",\"55 Cancri e\",\"TRAPPIST-1e\",\"PSO J318.5-22\",\"TRAPPIST-1e\",\"TRAPPIST-1e\",\"TRAPPIST-1e\",\"TRAPPIST-1e\",\"55 Cancri e\",\"TRAPPIST-1e\",\"TRAPPIST-1e\",\"55 Cancri e\",\"TRAPPIST-1e\",\"55 Cancri e\",\"PSO J318.5-22\",\"TRAPPIST-1e\",null,\"55 Cancri e\",\"TRAPPIST-1e\",\"TRAPPIST-1e\",\"PSO J318.5-22\",\"TRAPPIST-1e\",\"TRAPPIST-1e\",\"55 Cancri e\",\"TRAPPIST-1e\",\"TRAPPIST-1e\",\"55 Cancri e\",\"TRAPPIST-1e\",\"TRAPPIST-1e\",\"TRAPPIST-1e\",null,\"55 Cancri e\",\"55 Cancri e\",\"TRAPPIST-1e\",\"55 Cancri e\",\"55 Cancri e\",\"TRAPPIST-1e\",\"PSO J318.5-22\",\"55 Cancri e\",\"55 Cancri e\",\"55 Cancri e\",\"TRAPPIST-1e\",\"TRAPPIST-1e\",\"TRAPPIST-1e\",\"55 Cancri e\",\"PSO J318.5-22\",\"TRAPPIST-1e\",\"TRAPPIST-1e\",\"55 Cancri e\",\"TRAPPIST-1e\",\"55 Cancri e\",\"TRAPPIST-1e\",null,\"TRAPPIST-1e\",\"55 Cancri e\",\"TRAPPIST-1e\",\"TRAPPIST-1e\",\"TRAPPIST-1e\",\"TRAPPIST-1e\",\"PSO J318.5-22\",\"TRAPPIST-1e\",\"TRAPPIST-1e\",\"TRAPPIST-1e\",\"TRAPPIST-1e\",\"TRAPPIST-1e\",\"TRAPPIST-1e\",\"TRAPPIST-1e\",\"PSO J318.5-22\",\"TRAPPIST-1e\",null,\"TRAPPIST-1e\",\"TRAPPIST-1e\",\"55 Cancri e\",\"TRAPPIST-1e\",\"TRAPPIST-1e\",\"TRAPPIST-1e\",\"TRAPPIST-1e\",\"TRAPPIST-1e\",\"TRAPPIST-1e\",\"55 Cancri e\",\"TRAPPIST-1e\",\"55 Cancri e\",\"TRAPPIST-1e\",\"TRAPPIST-1e\",\"TRAPPIST-1e\",\"TRAPPIST-1e\",\"TRAPPIST-1e\",null,\"TRAPPIST-1e\",\"PSO J318.5-22\",\"PSO J318.5-22\",\"TRAPPIST-1e\",\"TRAPPIST-1e\",\"TRAPPIST-1e\",\"TRAPPIST-1e\",\"TRAPPIST-1e\",\"55 Cancri e\",\"55 Cancri e\",\"TRAPPIST-1e\",\"TRAPPIST-1e\",\"55 Cancri e\",\"TRAPPIST-1e\",\"TRAPPIST-1e\",\"TRAPPIST-1e\",\"55 Cancri e\",\"TRAPPIST-1e\",\"55 Cancri e\",\"55 Cancri e\",\"TRAPPIST-1e\",\"TRAPPIST-1e\",\"TRAPPIST-1e\",\"TRAPPIST-1e\",\"TRAPPIST-1e\",\"TRAPPIST-1e\",\"TRAPPIST-1e\",\"TRAPPIST-1e\",\"TRAPPIST-1e\",\"TRAPPIST-1e\",\"55 Cancri e\",\"TRAPPIST-1e\",\"TRAPPIST-1e\",\"TRAPPIST-1e\",\"55 Cancri e\",\"TRAPPIST-1e\",\"55 Cancri e\",\"PSO J318.5-22\",\"55 Cancri e\",\"55 Cancri e\",\"TRAPPIST-1e\",\"TRAPPIST-1e\",\"TRAPPIST-1e\",\"PSO J318.5-22\",\"TRAPPIST-1e\",\"55 Cancri e\",\"55 Cancri e\",\"TRAPPIST-1e\",\"PSO J318.5-22\",\"TRAPPIST-1e\",\"TRAPPIST-1e\",\"TRAPPIST-1e\",\"55 Cancri e\",\"TRAPPIST-1e\",\"TRAPPIST-1e\",\"55 Cancri e\",\"55 Cancri e\",null,\"PSO J318.5-22\",\"TRAPPIST-1e\",\"TRAPPIST-1e\",\"55 Cancri e\",\"55 Cancri e\",\"TRAPPIST-1e\",\"TRAPPIST-1e\",\"TRAPPIST-1e\",\"TRAPPIST-1e\",\"TRAPPIST-1e\",\"55 Cancri e\",\"TRAPPIST-1e\",\"PSO J318.5-22\",\"TRAPPIST-1e\",\"TRAPPIST-1e\",\"55 Cancri e\",\"TRAPPIST-1e\",\"55 Cancri e\",\"TRAPPIST-1e\",\"TRAPPIST-1e\",\"TRAPPIST-1e\",\"55 Cancri e\",\"TRAPPIST-1e\",\"55 Cancri e\",\"55 Cancri e\",\"TRAPPIST-1e\",\"55 Cancri e\",\"TRAPPIST-1e\",\"TRAPPIST-1e\",\"TRAPPIST-1e\",\"TRAPPIST-1e\",\"TRAPPIST-1e\",\"TRAPPIST-1e\",\"PSO J318.5-22\",\"PSO J318.5-22\",\"TRAPPIST-1e\",\"55 Cancri e\",\"TRAPPIST-1e\",\"PSO J318.5-22\",\"TRAPPIST-1e\",\"TRAPPIST-1e\",\"PSO J318.5-22\",\"PSO J318.5-22\",\"TRAPPIST-1e\",\"TRAPPIST-1e\",\"TRAPPIST-1e\",\"TRAPPIST-1e\",\"55 Cancri e\",\"TRAPPIST-1e\",\"TRAPPIST-1e\",\"PSO J318.5-22\",\"55 Cancri e\",\"TRAPPIST-1e\",\"TRAPPIST-1e\",\"PSO J318.5-22\",\"PSO J318.5-22\",\"PSO J318.5-22\",\"TRAPPIST-1e\",\"TRAPPIST-1e\",\"55 Cancri e\",\"TRAPPIST-1e\",\"TRAPPIST-1e\",\"TRAPPIST-1e\",\"TRAPPIST-1e\",\"TRAPPIST-1e\",\"TRAPPIST-1e\",\"TRAPPIST-1e\",\"TRAPPIST-1e\",\"TRAPPIST-1e\",\"TRAPPIST-1e\",\"TRAPPIST-1e\",\"TRAPPIST-1e\",\"55 Cancri e\",\"TRAPPIST-1e\",\"TRAPPIST-1e\",\"TRAPPIST-1e\",\"TRAPPIST-1e\",\"55 Cancri e\",\"PSO J318.5-22\",\"TRAPPIST-1e\",\"55 Cancri e\",\"55 Cancri e\",\"55 Cancri e\",\"TRAPPIST-1e\",\"TRAPPIST-1e\",\"TRAPPIST-1e\",\"TRAPPIST-1e\",\"TRAPPIST-1e\",\"TRAPPIST-1e\",\"TRAPPIST-1e\",\"PSO J318.5-22\",\"TRAPPIST-1e\",\"TRAPPIST-1e\",\"55 Cancri e\",\"TRAPPIST-1e\",\"TRAPPIST-1e\",\"TRAPPIST-1e\",\"TRAPPIST-1e\",\"TRAPPIST-1e\",\"TRAPPIST-1e\",\"TRAPPIST-1e\",\"TRAPPIST-1e\",\"TRAPPIST-1e\",\"TRAPPIST-1e\",\"TRAPPIST-1e\",\"PSO J318.5-22\",\"TRAPPIST-1e\",\"55 Cancri e\",\"TRAPPIST-1e\",\"55 Cancri e\",\"TRAPPIST-1e\",\"TRAPPIST-1e\",\"55 Cancri e\",\"55 Cancri e\",\"55 Cancri e\",\"TRAPPIST-1e\",\"TRAPPIST-1e\",\"TRAPPIST-1e\",\"TRAPPIST-1e\",\"TRAPPIST-1e\",\"PSO J318.5-22\",\"TRAPPIST-1e\",\"TRAPPIST-1e\",\"TRAPPIST-1e\",\"TRAPPIST-1e\",\"TRAPPIST-1e\",\"TRAPPIST-1e\",\"TRAPPIST-1e\",\"55 Cancri e\",\"TRAPPIST-1e\",\"55 Cancri e\",null,\"TRAPPIST-1e\",\"TRAPPIST-1e\",\"TRAPPIST-1e\",\"TRAPPIST-1e\",\"TRAPPIST-1e\",\"TRAPPIST-1e\",\"TRAPPIST-1e\",\"TRAPPIST-1e\",\"TRAPPIST-1e\",\"TRAPPIST-1e\",\"TRAPPIST-1e\",\"TRAPPIST-1e\",\"TRAPPIST-1e\",\"TRAPPIST-1e\",\"TRAPPIST-1e\",\"TRAPPIST-1e\",\"TRAPPIST-1e\",\"TRAPPIST-1e\",\"55 Cancri e\",\"TRAPPIST-1e\",\"TRAPPIST-1e\",\"TRAPPIST-1e\",\"55 Cancri e\",\"PSO J318.5-22\",\"TRAPPIST-1e\",\"TRAPPIST-1e\",\"TRAPPIST-1e\",\"PSO J318.5-22\",\"TRAPPIST-1e\",\"TRAPPIST-1e\",\"TRAPPIST-1e\",\"TRAPPIST-1e\",\"55 Cancri e\",\"TRAPPIST-1e\",null,\"TRAPPIST-1e\",\"55 Cancri e\",\"TRAPPIST-1e\",\"PSO J318.5-22\",\"TRAPPIST-1e\",\"TRAPPIST-1e\",\"TRAPPIST-1e\",\"TRAPPIST-1e\",\"TRAPPIST-1e\",\"55 Cancri e\",\"55 Cancri e\",\"TRAPPIST-1e\",\"TRAPPIST-1e\",\"TRAPPIST-1e\",\"TRAPPIST-1e\",\"PSO J318.5-22\",\"TRAPPIST-1e\",\"TRAPPIST-1e\",\"TRAPPIST-1e\",\"TRAPPIST-1e\",\"TRAPPIST-1e\",\"TRAPPIST-1e\",\"TRAPPIST-1e\",\"TRAPPIST-1e\",\"TRAPPIST-1e\",\"TRAPPIST-1e\",\"TRAPPIST-1e\",\"TRAPPIST-1e\",\"TRAPPIST-1e\",\"PSO J318.5-22\",\"55 Cancri e\",\"TRAPPIST-1e\",\"55 Cancri e\",\"PSO J318.5-22\",\"TRAPPIST-1e\",\"TRAPPIST-1e\",\"55 Cancri e\",\"TRAPPIST-1e\",\"TRAPPIST-1e\",\"TRAPPIST-1e\",\"55 Cancri e\",\"55 Cancri e\",\"PSO J318.5-22\",\"TRAPPIST-1e\",\"TRAPPIST-1e\",\"TRAPPIST-1e\",\"PSO J318.5-22\",\"TRAPPIST-1e\",\"TRAPPIST-1e\",\"TRAPPIST-1e\",\"TRAPPIST-1e\",\"TRAPPIST-1e\",\"TRAPPIST-1e\",\"TRAPPIST-1e\",\"55 Cancri e\",\"TRAPPIST-1e\",\"TRAPPIST-1e\",\"TRAPPIST-1e\",\"TRAPPIST-1e\",\"TRAPPIST-1e\",\"TRAPPIST-1e\",\"TRAPPIST-1e\",\"TRAPPIST-1e\",\"TRAPPIST-1e\",\"TRAPPIST-1e\",\"TRAPPIST-1e\",\"55 Cancri e\",\"TRAPPIST-1e\",\"PSO J318.5-22\",\"55 Cancri e\",\"TRAPPIST-1e\",null,\"TRAPPIST-1e\",null,\"TRAPPIST-1e\",\"TRAPPIST-1e\",\"TRAPPIST-1e\",\"TRAPPIST-1e\",\"55 Cancri e\",\"55 Cancri e\",\"55 Cancri e\",\"55 Cancri e\",\"TRAPPIST-1e\",\"TRAPPIST-1e\",\"55 Cancri e\",\"PSO J318.5-22\",\"TRAPPIST-1e\",\"PSO J318.5-22\",\"TRAPPIST-1e\",\"PSO J318.5-22\",\"TRAPPIST-1e\",\"PSO J318.5-22\",\"TRAPPIST-1e\",\"55 Cancri e\",\"TRAPPIST-1e\",\"TRAPPIST-1e\",\"TRAPPIST-1e\",\"TRAPPIST-1e\",\"55 Cancri e\",\"TRAPPIST-1e\",\"TRAPPIST-1e\",\"TRAPPIST-1e\",\"TRAPPIST-1e\",\"TRAPPIST-1e\",\"TRAPPIST-1e\",\"TRAPPIST-1e\",\"TRAPPIST-1e\",\"TRAPPIST-1e\",\"55 Cancri e\",\"TRAPPIST-1e\",\"55 Cancri e\",\"TRAPPIST-1e\",\"TRAPPIST-1e\",\"55 Cancri e\",\"55 Cancri e\",\"55 Cancri e\",\"55 Cancri e\",\"TRAPPIST-1e\",\"TRAPPIST-1e\",\"PSO J318.5-22\",\"55 Cancri e\",\"TRAPPIST-1e\",\"55 Cancri e\",\"TRAPPIST-1e\",\"TRAPPIST-1e\",\"PSO J318.5-22\",\"PSO J318.5-22\",\"TRAPPIST-1e\",\"TRAPPIST-1e\",\"TRAPPIST-1e\",\"TRAPPIST-1e\",\"TRAPPIST-1e\",\"TRAPPIST-1e\",\"55 Cancri e\",\"TRAPPIST-1e\",\"TRAPPIST-1e\",\"TRAPPIST-1e\",\"TRAPPIST-1e\",\"55 Cancri e\",\"55 Cancri e\",\"55 Cancri e\",\"TRAPPIST-1e\",\"TRAPPIST-1e\",\"PSO J318.5-22\",\"55 Cancri e\",\"PSO J318.5-22\",\"PSO J318.5-22\",\"PSO J318.5-22\",\"TRAPPIST-1e\",\"TRAPPIST-1e\",\"55 Cancri e\",\"TRAPPIST-1e\",\"TRAPPIST-1e\",\"55 Cancri e\",\"TRAPPIST-1e\",\"55 Cancri e\",\"55 Cancri e\",\"55 Cancri e\",\"55 Cancri e\",\"TRAPPIST-1e\",\"55 Cancri e\",\"TRAPPIST-1e\",\"TRAPPIST-1e\",\"TRAPPIST-1e\",\"TRAPPIST-1e\",\"TRAPPIST-1e\",\"55 Cancri e\",\"TRAPPIST-1e\",\"TRAPPIST-1e\",\"55 Cancri e\",\"TRAPPIST-1e\",\"TRAPPIST-1e\",\"55 Cancri e\",\"TRAPPIST-1e\",\"TRAPPIST-1e\",\"TRAPPIST-1e\",\"TRAPPIST-1e\",\"55 Cancri e\",\"TRAPPIST-1e\",\"TRAPPIST-1e\",\"55 Cancri e\",\"TRAPPIST-1e\",\"PSO J318.5-22\",\"TRAPPIST-1e\",\"TRAPPIST-1e\",\"55 Cancri e\",\"TRAPPIST-1e\",\"TRAPPIST-1e\",\"TRAPPIST-1e\",\"TRAPPIST-1e\",\"TRAPPIST-1e\",\"TRAPPIST-1e\",\"55 Cancri e\",\"TRAPPIST-1e\",\"PSO J318.5-22\",\"55 Cancri e\",\"PSO J318.5-22\",\"TRAPPIST-1e\",\"TRAPPIST-1e\",\"TRAPPIST-1e\",\"PSO J318.5-22\",\"TRAPPIST-1e\",\"55 Cancri e\",\"TRAPPIST-1e\",\"TRAPPIST-1e\",\"55 Cancri e\",\"TRAPPIST-1e\",\"TRAPPIST-1e\",null,\"TRAPPIST-1e\",\"TRAPPIST-1e\",\"TRAPPIST-1e\",\"TRAPPIST-1e\",\"PSO J318.5-22\",\"55 Cancri e\",\"TRAPPIST-1e\",\"TRAPPIST-1e\",\"TRAPPIST-1e\",\"TRAPPIST-1e\",\"TRAPPIST-1e\",\"PSO J318.5-22\",\"TRAPPIST-1e\",\"TRAPPIST-1e\",\"TRAPPIST-1e\",\"TRAPPIST-1e\",\"55 Cancri e\",\"TRAPPIST-1e\",\"TRAPPIST-1e\",\"PSO J318.5-22\",\"55 Cancri e\",\"PSO J318.5-22\",\"TRAPPIST-1e\",\"PSO J318.5-22\",\"TRAPPIST-1e\",\"55 Cancri e\",\"PSO J318.5-22\",\"TRAPPIST-1e\",\"TRAPPIST-1e\",\"55 Cancri e\",\"TRAPPIST-1e\",\"PSO J318.5-22\",\"TRAPPIST-1e\",\"TRAPPIST-1e\",\"TRAPPIST-1e\",\"TRAPPIST-1e\",\"55 Cancri e\",\"TRAPPIST-1e\",\"55 Cancri e\",\"TRAPPIST-1e\",\"TRAPPIST-1e\",\"TRAPPIST-1e\",\"TRAPPIST-1e\",\"TRAPPIST-1e\",\"PSO J318.5-22\",\"TRAPPIST-1e\",\"TRAPPIST-1e\",\"55 Cancri e\",\"PSO J318.5-22\",\"TRAPPIST-1e\",\"TRAPPIST-1e\",\"TRAPPIST-1e\",\"TRAPPIST-1e\",\"TRAPPIST-1e\",\"TRAPPIST-1e\",\"TRAPPIST-1e\",\"TRAPPIST-1e\",\"TRAPPIST-1e\",\"TRAPPIST-1e\",\"TRAPPIST-1e\",\"TRAPPIST-1e\",\"TRAPPIST-1e\",\"TRAPPIST-1e\",\"TRAPPIST-1e\",\"TRAPPIST-1e\",\"TRAPPIST-1e\",\"TRAPPIST-1e\",\"TRAPPIST-1e\",\"TRAPPIST-1e\",\"TRAPPIST-1e\",\"TRAPPIST-1e\",\"TRAPPIST-1e\",\"TRAPPIST-1e\",\"TRAPPIST-1e\",\"55 Cancri e\",\"55 Cancri e\",\"TRAPPIST-1e\",\"TRAPPIST-1e\",\"TRAPPIST-1e\",\"TRAPPIST-1e\",\"TRAPPIST-1e\",\"PSO J318.5-22\",null,\"55 Cancri e\",\"TRAPPIST-1e\",\"TRAPPIST-1e\",\"TRAPPIST-1e\",\"TRAPPIST-1e\",\"TRAPPIST-1e\",\"TRAPPIST-1e\",\"55 Cancri e\",\"55 Cancri e\",\"55 Cancri e\",\"PSO J318.5-22\",\"TRAPPIST-1e\",\"TRAPPIST-1e\",\"TRAPPIST-1e\",\"TRAPPIST-1e\",\"TRAPPIST-1e\",\"TRAPPIST-1e\",\"TRAPPIST-1e\",\"TRAPPIST-1e\",\"TRAPPIST-1e\",\"TRAPPIST-1e\",\"TRAPPIST-1e\",\"TRAPPIST-1e\",\"TRAPPIST-1e\",\"TRAPPIST-1e\",\"TRAPPIST-1e\",\"TRAPPIST-1e\",\"55 Cancri e\",\"TRAPPIST-1e\",\"TRAPPIST-1e\",\"TRAPPIST-1e\",\"TRAPPIST-1e\",\"TRAPPIST-1e\",\"TRAPPIST-1e\",\"TRAPPIST-1e\",\"TRAPPIST-1e\",\"TRAPPIST-1e\",\"TRAPPIST-1e\",\"TRAPPIST-1e\",\"TRAPPIST-1e\",\"TRAPPIST-1e\",\"TRAPPIST-1e\",null,\"TRAPPIST-1e\",\"TRAPPIST-1e\",\"TRAPPIST-1e\",\"55 Cancri e\",\"TRAPPIST-1e\",\"PSO J318.5-22\",null,\"55 Cancri e\",\"TRAPPIST-1e\",\"55 Cancri e\",\"TRAPPIST-1e\",\"TRAPPIST-1e\",\"55 Cancri e\",\"TRAPPIST-1e\",\"55 Cancri e\",\"55 Cancri e\",\"TRAPPIST-1e\",\"TRAPPIST-1e\",\"55 Cancri e\",\"55 Cancri e\",\"TRAPPIST-1e\",\"PSO J318.5-22\",\"TRAPPIST-1e\",\"PSO J318.5-22\",\"55 Cancri e\",\"PSO J318.5-22\",\"PSO J318.5-22\",\"TRAPPIST-1e\",\"TRAPPIST-1e\",\"TRAPPIST-1e\",\"TRAPPIST-1e\",\"PSO J318.5-22\",\"55 Cancri e\",\"PSO J318.5-22\",\"TRAPPIST-1e\",\"TRAPPIST-1e\",\"TRAPPIST-1e\",\"TRAPPIST-1e\",\"TRAPPIST-1e\",\"TRAPPIST-1e\",\"TRAPPIST-1e\",\"TRAPPIST-1e\",\"TRAPPIST-1e\",\"TRAPPIST-1e\",\"55 Cancri e\",\"TRAPPIST-1e\",\"TRAPPIST-1e\",\"TRAPPIST-1e\",\"TRAPPIST-1e\",\"PSO J318.5-22\",\"TRAPPIST-1e\",\"TRAPPIST-1e\",\"TRAPPIST-1e\",\"TRAPPIST-1e\",\"PSO J318.5-22\",\"TRAPPIST-1e\",\"TRAPPIST-1e\",\"TRAPPIST-1e\",\"55 Cancri e\",\"TRAPPIST-1e\",\"55 Cancri e\",\"TRAPPIST-1e\",\"TRAPPIST-1e\",\"TRAPPIST-1e\",\"TRAPPIST-1e\",\"TRAPPIST-1e\",\"TRAPPIST-1e\",\"55 Cancri e\",\"TRAPPIST-1e\",\"TRAPPIST-1e\",\"55 Cancri e\",\"TRAPPIST-1e\",\"55 Cancri e\",\"PSO J318.5-22\",\"TRAPPIST-1e\",\"TRAPPIST-1e\",\"TRAPPIST-1e\",\"TRAPPIST-1e\",\"PSO J318.5-22\",\"TRAPPIST-1e\",\"TRAPPIST-1e\",\"TRAPPIST-1e\",\"TRAPPIST-1e\",\"TRAPPIST-1e\",\"TRAPPIST-1e\",\"TRAPPIST-1e\",\"TRAPPIST-1e\",\"TRAPPIST-1e\",\"TRAPPIST-1e\",\"55 Cancri e\",\"TRAPPIST-1e\",\"PSO J318.5-22\",\"PSO J318.5-22\",\"TRAPPIST-1e\",\"55 Cancri e\",\"TRAPPIST-1e\",\"PSO J318.5-22\",\"TRAPPIST-1e\",null,\"55 Cancri e\",\"55 Cancri e\",\"TRAPPIST-1e\",\"TRAPPIST-1e\",\"TRAPPIST-1e\",\"TRAPPIST-1e\",\"TRAPPIST-1e\",\"TRAPPIST-1e\",\"TRAPPIST-1e\",\"TRAPPIST-1e\",\"TRAPPIST-1e\",\"TRAPPIST-1e\",\"55 Cancri e\",\"TRAPPIST-1e\",\"TRAPPIST-1e\",\"TRAPPIST-1e\",\"TRAPPIST-1e\",\"TRAPPIST-1e\",\"TRAPPIST-1e\",\"PSO J318.5-22\",\"55 Cancri e\",\"TRAPPIST-1e\",\"55 Cancri e\",\"55 Cancri e\",\"TRAPPIST-1e\",\"TRAPPIST-1e\",\"PSO J318.5-22\",\"TRAPPIST-1e\",\"55 Cancri e\",\"TRAPPIST-1e\",\"TRAPPIST-1e\",\"TRAPPIST-1e\",\"55 Cancri e\",\"55 Cancri e\",\"TRAPPIST-1e\",\"55 Cancri e\",\"TRAPPIST-1e\",\"55 Cancri e\",\"TRAPPIST-1e\",\"55 Cancri e\",\"TRAPPIST-1e\",\"TRAPPIST-1e\",\"55 Cancri e\",\"TRAPPIST-1e\",\"55 Cancri e\",\"55 Cancri e\",\"55 Cancri e\",\"TRAPPIST-1e\",\"TRAPPIST-1e\",\"TRAPPIST-1e\",\"PSO J318.5-22\",\"TRAPPIST-1e\",\"TRAPPIST-1e\",\"55 Cancri e\",\"TRAPPIST-1e\",\"TRAPPIST-1e\",\"TRAPPIST-1e\",\"55 Cancri e\",\"55 Cancri e\",\"55 Cancri e\",\"55 Cancri e\",\"55 Cancri e\",\"TRAPPIST-1e\",\"55 Cancri e\",\"55 Cancri e\",\"55 Cancri e\",\"TRAPPIST-1e\",\"TRAPPIST-1e\",\"TRAPPIST-1e\",\"TRAPPIST-1e\",\"TRAPPIST-1e\",\"TRAPPIST-1e\",\"55 Cancri e\",\"TRAPPIST-1e\",\"TRAPPIST-1e\",\"55 Cancri e\",\"PSO J318.5-22\",\"55 Cancri e\",\"TRAPPIST-1e\",\"PSO J318.5-22\",\"TRAPPIST-1e\",\"55 Cancri e\",\"TRAPPIST-1e\",\"TRAPPIST-1e\",\"TRAPPIST-1e\",\"TRAPPIST-1e\",\"55 Cancri e\",\"TRAPPIST-1e\",\"55 Cancri e\",\"TRAPPIST-1e\",\"TRAPPIST-1e\",\"TRAPPIST-1e\",\"TRAPPIST-1e\",\"TRAPPIST-1e\",\"PSO J318.5-22\",\"55 Cancri e\",\"TRAPPIST-1e\",\"TRAPPIST-1e\",\"TRAPPIST-1e\",\"TRAPPIST-1e\",\"55 Cancri e\",\"55 Cancri e\",\"TRAPPIST-1e\",\"TRAPPIST-1e\",\"55 Cancri e\",\"55 Cancri e\",\"TRAPPIST-1e\",\"TRAPPIST-1e\",\"TRAPPIST-1e\",\"TRAPPIST-1e\",\"TRAPPIST-1e\",\"TRAPPIST-1e\",\"55 Cancri e\",\"TRAPPIST-1e\",\"TRAPPIST-1e\",\"TRAPPIST-1e\",\"TRAPPIST-1e\",\"TRAPPIST-1e\",\"TRAPPIST-1e\",\"TRAPPIST-1e\",\"TRAPPIST-1e\",\"PSO J318.5-22\",\"TRAPPIST-1e\",\"55 Cancri e\",\"TRAPPIST-1e\",\"55 Cancri e\",\"TRAPPIST-1e\",\"TRAPPIST-1e\",\"TRAPPIST-1e\",\"55 Cancri e\",\"PSO J318.5-22\",\"TRAPPIST-1e\",\"TRAPPIST-1e\",\"PSO J318.5-22\",\"TRAPPIST-1e\",\"TRAPPIST-1e\",\"TRAPPIST-1e\",\"TRAPPIST-1e\",\"TRAPPIST-1e\",null,\"TRAPPIST-1e\",\"TRAPPIST-1e\",\"55 Cancri e\",\"TRAPPIST-1e\",\"PSO J318.5-22\",\"TRAPPIST-1e\",\"TRAPPIST-1e\",\"TRAPPIST-1e\",\"TRAPPIST-1e\",\"55 Cancri e\",\"TRAPPIST-1e\",\"TRAPPIST-1e\",\"55 Cancri e\",\"TRAPPIST-1e\",\"TRAPPIST-1e\",\"TRAPPIST-1e\",\"TRAPPIST-1e\",\"55 Cancri e\",\"TRAPPIST-1e\",\"55 Cancri e\",\"PSO J318.5-22\",\"55 Cancri e\",\"55 Cancri e\",\"TRAPPIST-1e\",\"PSO J318.5-22\",null,\"PSO J318.5-22\",null,\"TRAPPIST-1e\",\"TRAPPIST-1e\",\"TRAPPIST-1e\",\"55 Cancri e\",\"TRAPPIST-1e\",\"55 Cancri e\",\"TRAPPIST-1e\",\"TRAPPIST-1e\",\"TRAPPIST-1e\",\"PSO J318.5-22\",\"TRAPPIST-1e\",\"PSO J318.5-22\",\"55 Cancri e\",\"TRAPPIST-1e\",\"TRAPPIST-1e\",\"TRAPPIST-1e\",\"55 Cancri e\",\"55 Cancri e\",\"TRAPPIST-1e\",\"55 Cancri e\",\"TRAPPIST-1e\",\"55 Cancri e\",\"TRAPPIST-1e\",\"TRAPPIST-1e\",\"TRAPPIST-1e\",\"TRAPPIST-1e\",\"TRAPPIST-1e\",\"TRAPPIST-1e\",\"TRAPPIST-1e\",\"PSO J318.5-22\",\"TRAPPIST-1e\",\"TRAPPIST-1e\",\"TRAPPIST-1e\",\"TRAPPIST-1e\",\"TRAPPIST-1e\",\"TRAPPIST-1e\",\"TRAPPIST-1e\",\"TRAPPIST-1e\",\"TRAPPIST-1e\",\"TRAPPIST-1e\",\"TRAPPIST-1e\",\"55 Cancri e\",\"TRAPPIST-1e\",\"TRAPPIST-1e\",null,\"TRAPPIST-1e\",\"TRAPPIST-1e\",\"TRAPPIST-1e\",\"PSO J318.5-22\",\"TRAPPIST-1e\",\"TRAPPIST-1e\",\"TRAPPIST-1e\",\"55 Cancri e\",\"TRAPPIST-1e\",\"TRAPPIST-1e\",\"TRAPPIST-1e\",\"55 Cancri e\",\"TRAPPIST-1e\",\"TRAPPIST-1e\",\"TRAPPIST-1e\",\"TRAPPIST-1e\",\"55 Cancri e\",\"55 Cancri e\",\"TRAPPIST-1e\",\"TRAPPIST-1e\",\"TRAPPIST-1e\",\"TRAPPIST-1e\",\"TRAPPIST-1e\",\"TRAPPIST-1e\",\"55 Cancri e\",\"TRAPPIST-1e\",\"TRAPPIST-1e\",\"TRAPPIST-1e\",\"TRAPPIST-1e\",\"TRAPPIST-1e\",\"TRAPPIST-1e\",\"TRAPPIST-1e\",\"TRAPPIST-1e\",\"PSO J318.5-22\",\"55 Cancri e\",\"TRAPPIST-1e\",null,\"TRAPPIST-1e\",\"TRAPPIST-1e\",\"TRAPPIST-1e\",\"TRAPPIST-1e\",\"TRAPPIST-1e\",\"TRAPPIST-1e\",\"PSO J318.5-22\",\"TRAPPIST-1e\",\"55 Cancri e\",\"TRAPPIST-1e\",\"TRAPPIST-1e\",\"PSO J318.5-22\",\"PSO J318.5-22\",\"TRAPPIST-1e\",\"TRAPPIST-1e\",\"TRAPPIST-1e\",\"TRAPPIST-1e\",\"PSO J318.5-22\",\"TRAPPIST-1e\",\"55 Cancri e\",\"TRAPPIST-1e\",\"TRAPPIST-1e\",null,\"PSO J318.5-22\",\"TRAPPIST-1e\",\"PSO J318.5-22\",\"TRAPPIST-1e\",\"TRAPPIST-1e\",\"PSO J318.5-22\",\"TRAPPIST-1e\",\"TRAPPIST-1e\",\"55 Cancri e\",\"55 Cancri e\",\"55 Cancri e\",\"55 Cancri e\",\"TRAPPIST-1e\",\"TRAPPIST-1e\",\"TRAPPIST-1e\",\"55 Cancri e\",\"TRAPPIST-1e\",\"TRAPPIST-1e\",\"TRAPPIST-1e\",\"PSO J318.5-22\",\"55 Cancri e\",\"PSO J318.5-22\",\"TRAPPIST-1e\",\"TRAPPIST-1e\",\"TRAPPIST-1e\",\"TRAPPIST-1e\",\"TRAPPIST-1e\",\"TRAPPIST-1e\",\"PSO J318.5-22\",\"TRAPPIST-1e\",\"TRAPPIST-1e\",\"TRAPPIST-1e\",\"TRAPPIST-1e\",\"55 Cancri e\",\"TRAPPIST-1e\",\"55 Cancri e\",\"TRAPPIST-1e\",\"TRAPPIST-1e\",\"TRAPPIST-1e\",\"TRAPPIST-1e\",\"TRAPPIST-1e\",\"TRAPPIST-1e\",\"TRAPPIST-1e\",\"TRAPPIST-1e\",\"TRAPPIST-1e\",\"55 Cancri e\",\"TRAPPIST-1e\",\"TRAPPIST-1e\",\"TRAPPIST-1e\",null,\"TRAPPIST-1e\",\"55 Cancri e\",\"TRAPPIST-1e\",\"TRAPPIST-1e\",\"TRAPPIST-1e\",\"TRAPPIST-1e\",\"PSO J318.5-22\",\"TRAPPIST-1e\",\"TRAPPIST-1e\",\"TRAPPIST-1e\",\"TRAPPIST-1e\",\"TRAPPIST-1e\",\"55 Cancri e\",\"55 Cancri e\",\"TRAPPIST-1e\",\"TRAPPIST-1e\",\"TRAPPIST-1e\",\"55 Cancri e\",\"TRAPPIST-1e\",\"TRAPPIST-1e\",\"TRAPPIST-1e\",null,\"TRAPPIST-1e\",\"TRAPPIST-1e\",\"TRAPPIST-1e\",\"55 Cancri e\",\"TRAPPIST-1e\",\"55 Cancri e\",\"TRAPPIST-1e\",\"55 Cancri e\",\"PSO J318.5-22\",\"TRAPPIST-1e\",\"TRAPPIST-1e\",\"TRAPPIST-1e\",\"TRAPPIST-1e\",\"TRAPPIST-1e\",\"TRAPPIST-1e\",\"TRAPPIST-1e\",\"TRAPPIST-1e\",\"55 Cancri e\",\"PSO J318.5-22\",\"TRAPPIST-1e\",\"TRAPPIST-1e\",\"TRAPPIST-1e\",\"TRAPPIST-1e\",\"PSO J318.5-22\",\"TRAPPIST-1e\",\"PSO J318.5-22\",\"TRAPPIST-1e\",\"TRAPPIST-1e\",\"PSO J318.5-22\",\"TRAPPIST-1e\",\"PSO J318.5-22\",\"55 Cancri e\",\"TRAPPIST-1e\",\"55 Cancri e\",\"55 Cancri e\",\"55 Cancri e\",\"TRAPPIST-1e\",\"TRAPPIST-1e\",\"PSO J318.5-22\",\"TRAPPIST-1e\",\"TRAPPIST-1e\",\"TRAPPIST-1e\",\"55 Cancri e\",\"TRAPPIST-1e\",\"TRAPPIST-1e\",\"55 Cancri e\",\"55 Cancri e\",\"55 Cancri e\",\"TRAPPIST-1e\",\"55 Cancri e\",\"55 Cancri e\",\"TRAPPIST-1e\",\"TRAPPIST-1e\",\"TRAPPIST-1e\",\"55 Cancri e\",\"TRAPPIST-1e\",\"TRAPPIST-1e\",\"TRAPPIST-1e\",\"TRAPPIST-1e\",\"TRAPPIST-1e\",\"55 Cancri e\",\"TRAPPIST-1e\",\"TRAPPIST-1e\",\"TRAPPIST-1e\",\"55 Cancri e\",\"TRAPPIST-1e\",\"TRAPPIST-1e\",\"TRAPPIST-1e\",\"55 Cancri e\",\"TRAPPIST-1e\",\"TRAPPIST-1e\",\"TRAPPIST-1e\",\"PSO J318.5-22\",\"TRAPPIST-1e\",\"PSO J318.5-22\",\"TRAPPIST-1e\",\"TRAPPIST-1e\",\"TRAPPIST-1e\",\"TRAPPIST-1e\",\"TRAPPIST-1e\",\"TRAPPIST-1e\",\"55 Cancri e\",\"PSO J318.5-22\",\"TRAPPIST-1e\",\"55 Cancri e\",\"TRAPPIST-1e\",\"55 Cancri e\",\"TRAPPIST-1e\",\"TRAPPIST-1e\",\"55 Cancri e\",\"55 Cancri e\",\"TRAPPIST-1e\",\"TRAPPIST-1e\",\"TRAPPIST-1e\",\"PSO J318.5-22\",\"TRAPPIST-1e\",\"TRAPPIST-1e\",\"55 Cancri e\",\"TRAPPIST-1e\",\"TRAPPIST-1e\",\"55 Cancri e\",\"TRAPPIST-1e\",\"TRAPPIST-1e\",\"TRAPPIST-1e\",\"55 Cancri e\",\"TRAPPIST-1e\",\"PSO J318.5-22\",\"55 Cancri e\",\"PSO J318.5-22\",\"TRAPPIST-1e\",\"TRAPPIST-1e\",\"TRAPPIST-1e\",\"TRAPPIST-1e\",\"55 Cancri e\",\"PSO J318.5-22\",\"TRAPPIST-1e\",\"TRAPPIST-1e\",\"TRAPPIST-1e\",\"TRAPPIST-1e\",\"TRAPPIST-1e\",\"TRAPPIST-1e\",\"TRAPPIST-1e\",\"55 Cancri e\",\"PSO J318.5-22\",\"TRAPPIST-1e\",\"TRAPPIST-1e\",\"TRAPPIST-1e\",\"TRAPPIST-1e\",\"TRAPPIST-1e\",\"TRAPPIST-1e\",\"TRAPPIST-1e\",\"55 Cancri e\",\"PSO J318.5-22\",\"TRAPPIST-1e\",\"TRAPPIST-1e\",\"TRAPPIST-1e\",\"TRAPPIST-1e\",\"PSO J318.5-22\",\"TRAPPIST-1e\",\"TRAPPIST-1e\",\"TRAPPIST-1e\",\"TRAPPIST-1e\",\"TRAPPIST-1e\",\"PSO J318.5-22\",\"PSO J318.5-22\",\"TRAPPIST-1e\",\"TRAPPIST-1e\",\"TRAPPIST-1e\",\"TRAPPIST-1e\",\"TRAPPIST-1e\",\"55 Cancri e\",\"PSO J318.5-22\",\"TRAPPIST-1e\",\"TRAPPIST-1e\",null,\"PSO J318.5-22\",\"TRAPPIST-1e\",\"TRAPPIST-1e\",\"PSO J318.5-22\",\"55 Cancri e\",\"TRAPPIST-1e\",\"TRAPPIST-1e\",\"TRAPPIST-1e\",\"TRAPPIST-1e\",\"TRAPPIST-1e\",\"TRAPPIST-1e\",\"TRAPPIST-1e\",\"TRAPPIST-1e\",\"TRAPPIST-1e\",\"TRAPPIST-1e\",\"TRAPPIST-1e\",\"TRAPPIST-1e\",\"TRAPPIST-1e\",\"55 Cancri e\",\"55 Cancri e\",\"TRAPPIST-1e\",\"TRAPPIST-1e\",\"TRAPPIST-1e\",\"TRAPPIST-1e\",\"TRAPPIST-1e\",\"55 Cancri e\",\"TRAPPIST-1e\",\"TRAPPIST-1e\",\"TRAPPIST-1e\",\"TRAPPIST-1e\",\"55 Cancri e\",\"TRAPPIST-1e\",\"PSO J318.5-22\",\"55 Cancri e\",\"TRAPPIST-1e\",\"55 Cancri e\",\"55 Cancri e\",\"TRAPPIST-1e\",\"TRAPPIST-1e\",\"TRAPPIST-1e\",\"TRAPPIST-1e\",\"TRAPPIST-1e\",\"TRAPPIST-1e\",\"55 Cancri e\",\"TRAPPIST-1e\",\"55 Cancri e\",\"TRAPPIST-1e\",\"PSO J318.5-22\",\"TRAPPIST-1e\",\"55 Cancri e\",\"TRAPPIST-1e\",\"TRAPPIST-1e\",\"TRAPPIST-1e\",\"55 Cancri e\",\"55 Cancri e\",\"TRAPPIST-1e\",\"55 Cancri e\",\"TRAPPIST-1e\",\"TRAPPIST-1e\",\"TRAPPIST-1e\",\"TRAPPIST-1e\",\"PSO J318.5-22\",\"55 Cancri e\",\"TRAPPIST-1e\",\"TRAPPIST-1e\",\"TRAPPIST-1e\",\"TRAPPIST-1e\",\"55 Cancri e\",\"TRAPPIST-1e\",\"55 Cancri e\",\"TRAPPIST-1e\",\"55 Cancri e\",\"PSO J318.5-22\",\"TRAPPIST-1e\",\"TRAPPIST-1e\",\"TRAPPIST-1e\",\"55 Cancri e\",\"TRAPPIST-1e\",\"TRAPPIST-1e\",\"TRAPPIST-1e\",\"TRAPPIST-1e\",\"TRAPPIST-1e\",\"TRAPPIST-1e\",\"TRAPPIST-1e\",\"TRAPPIST-1e\",\"TRAPPIST-1e\",\"55 Cancri e\",\"TRAPPIST-1e\",\"TRAPPIST-1e\",\"TRAPPIST-1e\",\"PSO J318.5-22\",\"55 Cancri e\",\"55 Cancri e\",\"PSO J318.5-22\",\"55 Cancri e\",\"TRAPPIST-1e\",\"55 Cancri e\",\"TRAPPIST-1e\",\"TRAPPIST-1e\",\"TRAPPIST-1e\",\"TRAPPIST-1e\",\"55 Cancri e\",\"55 Cancri e\",\"TRAPPIST-1e\",\"TRAPPIST-1e\",\"TRAPPIST-1e\",\"TRAPPIST-1e\",\"TRAPPIST-1e\",\"PSO J318.5-22\",\"TRAPPIST-1e\",\"TRAPPIST-1e\",\"55 Cancri e\",\"55 Cancri e\",\"TRAPPIST-1e\",\"55 Cancri e\",\"55 Cancri e\",\"TRAPPIST-1e\",\"TRAPPIST-1e\",\"TRAPPIST-1e\",\"TRAPPIST-1e\",\"55 Cancri e\",\"TRAPPIST-1e\",\"PSO J318.5-22\",\"TRAPPIST-1e\",\"55 Cancri e\",\"TRAPPIST-1e\",\"55 Cancri e\",\"TRAPPIST-1e\",\"TRAPPIST-1e\",\"55 Cancri e\",\"PSO J318.5-22\",\"PSO J318.5-22\",\"TRAPPIST-1e\",\"TRAPPIST-1e\",\"TRAPPIST-1e\",\"55 Cancri e\",\"TRAPPIST-1e\",\"TRAPPIST-1e\",\"TRAPPIST-1e\",\"PSO J318.5-22\",\"TRAPPIST-1e\",\"PSO J318.5-22\",\"TRAPPIST-1e\",\"55 Cancri e\",\"55 Cancri e\",\"TRAPPIST-1e\",\"TRAPPIST-1e\",\"PSO J318.5-22\",\"TRAPPIST-1e\",\"TRAPPIST-1e\",\"TRAPPIST-1e\",\"TRAPPIST-1e\",\"TRAPPIST-1e\",\"TRAPPIST-1e\",\"55 Cancri e\",\"TRAPPIST-1e\",\"TRAPPIST-1e\",\"TRAPPIST-1e\",\"TRAPPIST-1e\",\"TRAPPIST-1e\",\"TRAPPIST-1e\",\"TRAPPIST-1e\",\"55 Cancri e\",\"PSO J318.5-22\",\"TRAPPIST-1e\",\"55 Cancri e\",\"TRAPPIST-1e\",\"TRAPPIST-1e\",\"TRAPPIST-1e\",\"55 Cancri e\",\"TRAPPIST-1e\",\"TRAPPIST-1e\",\"TRAPPIST-1e\",\"TRAPPIST-1e\",\"PSO J318.5-22\",\"TRAPPIST-1e\",\"PSO J318.5-22\",\"TRAPPIST-1e\",null,\"55 Cancri e\",\"TRAPPIST-1e\",\"TRAPPIST-1e\",\"TRAPPIST-1e\",\"TRAPPIST-1e\",\"TRAPPIST-1e\",\"TRAPPIST-1e\",\"TRAPPIST-1e\",\"PSO J318.5-22\",\"TRAPPIST-1e\",\"TRAPPIST-1e\",\"TRAPPIST-1e\",\"TRAPPIST-1e\",\"TRAPPIST-1e\",\"55 Cancri e\",\"55 Cancri e\",\"TRAPPIST-1e\",\"TRAPPIST-1e\",\"TRAPPIST-1e\",\"TRAPPIST-1e\",\"TRAPPIST-1e\",\"PSO J318.5-22\",\"PSO J318.5-22\",\"55 Cancri e\",\"TRAPPIST-1e\",\"TRAPPIST-1e\",\"TRAPPIST-1e\",\"55 Cancri e\",\"TRAPPIST-1e\",\"TRAPPIST-1e\",\"55 Cancri e\",\"TRAPPIST-1e\",\"TRAPPIST-1e\",\"TRAPPIST-1e\",\"TRAPPIST-1e\",\"TRAPPIST-1e\",\"55 Cancri e\",\"TRAPPIST-1e\",\"TRAPPIST-1e\",\"TRAPPIST-1e\",\"TRAPPIST-1e\",\"PSO J318.5-22\",\"PSO J318.5-22\",\"55 Cancri e\",\"TRAPPIST-1e\",\"TRAPPIST-1e\",\"TRAPPIST-1e\",\"TRAPPIST-1e\",\"PSO J318.5-22\",\"TRAPPIST-1e\",\"TRAPPIST-1e\",\"TRAPPIST-1e\",\"55 Cancri e\",\"TRAPPIST-1e\",\"TRAPPIST-1e\",\"TRAPPIST-1e\",\"TRAPPIST-1e\",\"PSO J318.5-22\",\"TRAPPIST-1e\",\"PSO J318.5-22\",\"PSO J318.5-22\",\"55 Cancri e\",\"TRAPPIST-1e\",\"TRAPPIST-1e\",null,\"TRAPPIST-1e\",\"TRAPPIST-1e\",\"TRAPPIST-1e\",\"55 Cancri e\",null,\"TRAPPIST-1e\",\"55 Cancri e\",\"55 Cancri e\",\"PSO J318.5-22\",\"TRAPPIST-1e\",\"55 Cancri e\",\"55 Cancri e\",\"TRAPPIST-1e\",\"TRAPPIST-1e\",\"TRAPPIST-1e\",\"TRAPPIST-1e\",\"TRAPPIST-1e\",\"TRAPPIST-1e\",\"55 Cancri e\",\"55 Cancri e\",\"55 Cancri e\",\"TRAPPIST-1e\",\"TRAPPIST-1e\",\"TRAPPIST-1e\",\"PSO J318.5-22\",\"TRAPPIST-1e\",\"TRAPPIST-1e\",\"TRAPPIST-1e\",\"TRAPPIST-1e\",null,\"TRAPPIST-1e\",\"PSO J318.5-22\",\"PSO J318.5-22\",\"TRAPPIST-1e\",\"TRAPPIST-1e\",\"TRAPPIST-1e\",\"55 Cancri e\",\"TRAPPIST-1e\",\"TRAPPIST-1e\",\"TRAPPIST-1e\",\"TRAPPIST-1e\",\"TRAPPIST-1e\",\"TRAPPIST-1e\",\"TRAPPIST-1e\",\"TRAPPIST-1e\",\"TRAPPIST-1e\",\"PSO J318.5-22\",\"TRAPPIST-1e\",\"TRAPPIST-1e\",\"55 Cancri e\",\"TRAPPIST-1e\",\"TRAPPIST-1e\",\"55 Cancri e\",\"55 Cancri e\",\"PSO J318.5-22\",\"PSO J318.5-22\",\"TRAPPIST-1e\",\"TRAPPIST-1e\",\"TRAPPIST-1e\",\"PSO J318.5-22\",\"55 Cancri e\",\"TRAPPIST-1e\",\"TRAPPIST-1e\",\"TRAPPIST-1e\",\"55 Cancri e\",\"TRAPPIST-1e\",\"TRAPPIST-1e\",\"TRAPPIST-1e\",\"TRAPPIST-1e\",\"TRAPPIST-1e\",\"TRAPPIST-1e\",\"55 Cancri e\",\"PSO J318.5-22\",\"TRAPPIST-1e\",\"55 Cancri e\",\"TRAPPIST-1e\"],\"type\":\"pie\",\"textinfo\":\"percent+label\",\"textposition\":\"outside\"}],                        {\"template\":{\"data\":{\"bar\":[{\"error_x\":{\"color\":\"#2a3f5f\"},\"error_y\":{\"color\":\"#2a3f5f\"},\"marker\":{\"line\":{\"color\":\"#E5ECF6\",\"width\":0.5},\"pattern\":{\"fillmode\":\"overlay\",\"size\":10,\"solidity\":0.2}},\"type\":\"bar\"}],\"barpolar\":[{\"marker\":{\"line\":{\"color\":\"#E5ECF6\",\"width\":0.5},\"pattern\":{\"fillmode\":\"overlay\",\"size\":10,\"solidity\":0.2}},\"type\":\"barpolar\"}],\"carpet\":[{\"aaxis\":{\"endlinecolor\":\"#2a3f5f\",\"gridcolor\":\"white\",\"linecolor\":\"white\",\"minorgridcolor\":\"white\",\"startlinecolor\":\"#2a3f5f\"},\"baxis\":{\"endlinecolor\":\"#2a3f5f\",\"gridcolor\":\"white\",\"linecolor\":\"white\",\"minorgridcolor\":\"white\",\"startlinecolor\":\"#2a3f5f\"},\"type\":\"carpet\"}],\"choropleth\":[{\"colorbar\":{\"outlinewidth\":0,\"ticks\":\"\"},\"type\":\"choropleth\"}],\"contour\":[{\"colorbar\":{\"outlinewidth\":0,\"ticks\":\"\"},\"colorscale\":[[0.0,\"#0d0887\"],[0.1111111111111111,\"#46039f\"],[0.2222222222222222,\"#7201a8\"],[0.3333333333333333,\"#9c179e\"],[0.4444444444444444,\"#bd3786\"],[0.5555555555555556,\"#d8576b\"],[0.6666666666666666,\"#ed7953\"],[0.7777777777777778,\"#fb9f3a\"],[0.8888888888888888,\"#fdca26\"],[1.0,\"#f0f921\"]],\"type\":\"contour\"}],\"contourcarpet\":[{\"colorbar\":{\"outlinewidth\":0,\"ticks\":\"\"},\"type\":\"contourcarpet\"}],\"heatmap\":[{\"colorbar\":{\"outlinewidth\":0,\"ticks\":\"\"},\"colorscale\":[[0.0,\"#0d0887\"],[0.1111111111111111,\"#46039f\"],[0.2222222222222222,\"#7201a8\"],[0.3333333333333333,\"#9c179e\"],[0.4444444444444444,\"#bd3786\"],[0.5555555555555556,\"#d8576b\"],[0.6666666666666666,\"#ed7953\"],[0.7777777777777778,\"#fb9f3a\"],[0.8888888888888888,\"#fdca26\"],[1.0,\"#f0f921\"]],\"type\":\"heatmap\"}],\"heatmapgl\":[{\"colorbar\":{\"outlinewidth\":0,\"ticks\":\"\"},\"colorscale\":[[0.0,\"#0d0887\"],[0.1111111111111111,\"#46039f\"],[0.2222222222222222,\"#7201a8\"],[0.3333333333333333,\"#9c179e\"],[0.4444444444444444,\"#bd3786\"],[0.5555555555555556,\"#d8576b\"],[0.6666666666666666,\"#ed7953\"],[0.7777777777777778,\"#fb9f3a\"],[0.8888888888888888,\"#fdca26\"],[1.0,\"#f0f921\"]],\"type\":\"heatmapgl\"}],\"histogram\":[{\"marker\":{\"pattern\":{\"fillmode\":\"overlay\",\"size\":10,\"solidity\":0.2}},\"type\":\"histogram\"}],\"histogram2d\":[{\"colorbar\":{\"outlinewidth\":0,\"ticks\":\"\"},\"colorscale\":[[0.0,\"#0d0887\"],[0.1111111111111111,\"#46039f\"],[0.2222222222222222,\"#7201a8\"],[0.3333333333333333,\"#9c179e\"],[0.4444444444444444,\"#bd3786\"],[0.5555555555555556,\"#d8576b\"],[0.6666666666666666,\"#ed7953\"],[0.7777777777777778,\"#fb9f3a\"],[0.8888888888888888,\"#fdca26\"],[1.0,\"#f0f921\"]],\"type\":\"histogram2d\"}],\"histogram2dcontour\":[{\"colorbar\":{\"outlinewidth\":0,\"ticks\":\"\"},\"colorscale\":[[0.0,\"#0d0887\"],[0.1111111111111111,\"#46039f\"],[0.2222222222222222,\"#7201a8\"],[0.3333333333333333,\"#9c179e\"],[0.4444444444444444,\"#bd3786\"],[0.5555555555555556,\"#d8576b\"],[0.6666666666666666,\"#ed7953\"],[0.7777777777777778,\"#fb9f3a\"],[0.8888888888888888,\"#fdca26\"],[1.0,\"#f0f921\"]],\"type\":\"histogram2dcontour\"}],\"mesh3d\":[{\"colorbar\":{\"outlinewidth\":0,\"ticks\":\"\"},\"type\":\"mesh3d\"}],\"parcoords\":[{\"line\":{\"colorbar\":{\"outlinewidth\":0,\"ticks\":\"\"}},\"type\":\"parcoords\"}],\"pie\":[{\"automargin\":true,\"type\":\"pie\"}],\"scatter\":[{\"marker\":{\"colorbar\":{\"outlinewidth\":0,\"ticks\":\"\"}},\"type\":\"scatter\"}],\"scatter3d\":[{\"line\":{\"colorbar\":{\"outlinewidth\":0,\"ticks\":\"\"}},\"marker\":{\"colorbar\":{\"outlinewidth\":0,\"ticks\":\"\"}},\"type\":\"scatter3d\"}],\"scattercarpet\":[{\"marker\":{\"colorbar\":{\"outlinewidth\":0,\"ticks\":\"\"}},\"type\":\"scattercarpet\"}],\"scattergeo\":[{\"marker\":{\"colorbar\":{\"outlinewidth\":0,\"ticks\":\"\"}},\"type\":\"scattergeo\"}],\"scattergl\":[{\"marker\":{\"colorbar\":{\"outlinewidth\":0,\"ticks\":\"\"}},\"type\":\"scattergl\"}],\"scattermapbox\":[{\"marker\":{\"colorbar\":{\"outlinewidth\":0,\"ticks\":\"\"}},\"type\":\"scattermapbox\"}],\"scatterpolar\":[{\"marker\":{\"colorbar\":{\"outlinewidth\":0,\"ticks\":\"\"}},\"type\":\"scatterpolar\"}],\"scatterpolargl\":[{\"marker\":{\"colorbar\":{\"outlinewidth\":0,\"ticks\":\"\"}},\"type\":\"scatterpolargl\"}],\"scatterternary\":[{\"marker\":{\"colorbar\":{\"outlinewidth\":0,\"ticks\":\"\"}},\"type\":\"scatterternary\"}],\"surface\":[{\"colorbar\":{\"outlinewidth\":0,\"ticks\":\"\"},\"colorscale\":[[0.0,\"#0d0887\"],[0.1111111111111111,\"#46039f\"],[0.2222222222222222,\"#7201a8\"],[0.3333333333333333,\"#9c179e\"],[0.4444444444444444,\"#bd3786\"],[0.5555555555555556,\"#d8576b\"],[0.6666666666666666,\"#ed7953\"],[0.7777777777777778,\"#fb9f3a\"],[0.8888888888888888,\"#fdca26\"],[1.0,\"#f0f921\"]],\"type\":\"surface\"}],\"table\":[{\"cells\":{\"fill\":{\"color\":\"#EBF0F8\"},\"line\":{\"color\":\"white\"}},\"header\":{\"fill\":{\"color\":\"#C8D4E3\"},\"line\":{\"color\":\"white\"}},\"type\":\"table\"}]},\"layout\":{\"annotationdefaults\":{\"arrowcolor\":\"#2a3f5f\",\"arrowhead\":0,\"arrowwidth\":1},\"autotypenumbers\":\"strict\",\"coloraxis\":{\"colorbar\":{\"outlinewidth\":0,\"ticks\":\"\"}},\"colorscale\":{\"diverging\":[[0,\"#8e0152\"],[0.1,\"#c51b7d\"],[0.2,\"#de77ae\"],[0.3,\"#f1b6da\"],[0.4,\"#fde0ef\"],[0.5,\"#f7f7f7\"],[0.6,\"#e6f5d0\"],[0.7,\"#b8e186\"],[0.8,\"#7fbc41\"],[0.9,\"#4d9221\"],[1,\"#276419\"]],\"sequential\":[[0.0,\"#0d0887\"],[0.1111111111111111,\"#46039f\"],[0.2222222222222222,\"#7201a8\"],[0.3333333333333333,\"#9c179e\"],[0.4444444444444444,\"#bd3786\"],[0.5555555555555556,\"#d8576b\"],[0.6666666666666666,\"#ed7953\"],[0.7777777777777778,\"#fb9f3a\"],[0.8888888888888888,\"#fdca26\"],[1.0,\"#f0f921\"]],\"sequentialminus\":[[0.0,\"#0d0887\"],[0.1111111111111111,\"#46039f\"],[0.2222222222222222,\"#7201a8\"],[0.3333333333333333,\"#9c179e\"],[0.4444444444444444,\"#bd3786\"],[0.5555555555555556,\"#d8576b\"],[0.6666666666666666,\"#ed7953\"],[0.7777777777777778,\"#fb9f3a\"],[0.8888888888888888,\"#fdca26\"],[1.0,\"#f0f921\"]]},\"colorway\":[\"#636efa\",\"#EF553B\",\"#00cc96\",\"#ab63fa\",\"#FFA15A\",\"#19d3f3\",\"#FF6692\",\"#B6E880\",\"#FF97FF\",\"#FECB52\"],\"font\":{\"color\":\"#2a3f5f\"},\"geo\":{\"bgcolor\":\"white\",\"lakecolor\":\"white\",\"landcolor\":\"#E5ECF6\",\"showlakes\":true,\"showland\":true,\"subunitcolor\":\"white\"},\"hoverlabel\":{\"align\":\"left\"},\"hovermode\":\"closest\",\"mapbox\":{\"style\":\"light\"},\"paper_bgcolor\":\"white\",\"plot_bgcolor\":\"#E5ECF6\",\"polar\":{\"angularaxis\":{\"gridcolor\":\"white\",\"linecolor\":\"white\",\"ticks\":\"\"},\"bgcolor\":\"#E5ECF6\",\"radialaxis\":{\"gridcolor\":\"white\",\"linecolor\":\"white\",\"ticks\":\"\"}},\"scene\":{\"xaxis\":{\"backgroundcolor\":\"#E5ECF6\",\"gridcolor\":\"white\",\"gridwidth\":2,\"linecolor\":\"white\",\"showbackground\":true,\"ticks\":\"\",\"zerolinecolor\":\"white\"},\"yaxis\":{\"backgroundcolor\":\"#E5ECF6\",\"gridcolor\":\"white\",\"gridwidth\":2,\"linecolor\":\"white\",\"showbackground\":true,\"ticks\":\"\",\"zerolinecolor\":\"white\"},\"zaxis\":{\"backgroundcolor\":\"#E5ECF6\",\"gridcolor\":\"white\",\"gridwidth\":2,\"linecolor\":\"white\",\"showbackground\":true,\"ticks\":\"\",\"zerolinecolor\":\"white\"}},\"shapedefaults\":{\"line\":{\"color\":\"#2a3f5f\"}},\"ternary\":{\"aaxis\":{\"gridcolor\":\"white\",\"linecolor\":\"white\",\"ticks\":\"\"},\"baxis\":{\"gridcolor\":\"white\",\"linecolor\":\"white\",\"ticks\":\"\"},\"bgcolor\":\"#E5ECF6\",\"caxis\":{\"gridcolor\":\"white\",\"linecolor\":\"white\",\"ticks\":\"\"}},\"title\":{\"x\":0.05},\"xaxis\":{\"automargin\":true,\"gridcolor\":\"white\",\"linecolor\":\"white\",\"ticks\":\"\",\"title\":{\"standoff\":15},\"zerolinecolor\":\"white\",\"zerolinewidth\":2},\"yaxis\":{\"automargin\":true,\"gridcolor\":\"white\",\"linecolor\":\"white\",\"ticks\":\"\",\"title\":{\"standoff\":15},\"zerolinecolor\":\"white\",\"zerolinewidth\":2}}},\"annotations\":[{\"font\":{\"size\":20},\"opacity\":0.4,\"showarrow\":false,\"text\":\"Destination\",\"x\":0.5,\"y\":0.5}],\"legend\":{\"orientation\":\"v\",\"traceorder\":\"reversed\"},\"hoverlabel\":{\"bgcolor\":\"white\"}},                        {\"responsive\": true}                    ).then(function(){\n",
       "                            \n",
       "var gd = document.getElementById('5d729c48-69ca-4866-822f-407f27ff7e8a');\n",
       "var x = new MutationObserver(function (mutations, observer) {{\n",
       "        var display = window.getComputedStyle(gd).display;\n",
       "        if (!display || display === 'none') {{\n",
       "            console.log([gd, 'removed!']);\n",
       "            Plotly.purge(gd);\n",
       "            observer.disconnect();\n",
       "        }}\n",
       "}});\n",
       "\n",
       "// Listen for the removal of the full notebook cells\n",
       "var notebookContainer = gd.closest('#notebook-container');\n",
       "if (notebookContainer) {{\n",
       "    x.observe(notebookContainer, {childList: true});\n",
       "}}\n",
       "\n",
       "// Listen for the clearing of the current output cell\n",
       "var outputEl = gd.closest('.output');\n",
       "if (outputEl) {{\n",
       "    x.observe(outputEl, {childList: true});\n",
       "}}\n",
       "\n",
       "                        })                };                });            </script>        </div>"
      ]
     },
     "metadata": {},
     "output_type": "display_data"
    }
   ],
   "source": [
    "cnt_donut(train_data, \"Destination\")"
   ]
  },
  {
   "cell_type": "code",
   "execution_count": 18,
   "id": "f7c4d7f6",
   "metadata": {
    "execution": {
     "iopub.execute_input": "2022-04-05T08:43:50.895016Z",
     "iopub.status.busy": "2022-04-05T08:43:50.850553Z",
     "iopub.status.idle": "2022-04-05T08:43:50.903353Z",
     "shell.execute_reply": "2022-04-05T08:43:50.903846Z",
     "shell.execute_reply.started": "2022-04-05T08:41:11.127247Z"
    },
    "papermill": {
     "duration": 0.146955,
     "end_time": "2022-04-05T08:43:50.904054",
     "exception": false,
     "start_time": "2022-04-05T08:43:50.757099",
     "status": "completed"
    },
    "tags": []
   },
   "outputs": [
    {
     "data": {
      "text/html": [
       "<div>                            <div id=\"69386da4-6b62-40ee-ba62-a6536a13d2fa\" class=\"plotly-graph-div\" style=\"height:525px; width:100%;\"></div>            <script type=\"text/javascript\">                require([\"plotly\"], function(Plotly) {                    window.PLOTLYENV=window.PLOTLYENV || {};                                    if (document.getElementById(\"69386da4-6b62-40ee-ba62-a6536a13d2fa\")) {                    Plotly.newPlot(                        \"69386da4-6b62-40ee-ba62-a6536a13d2fa\",                        [{\"hole\":0.5,\"labels\":[\"Europa\",\"Earth\",\"Europa\",\"Europa\",\"Earth\",\"Earth\",\"Earth\",\"Earth\",\"Earth\",\"Europa\",\"Europa\",\"Europa\",\"Mars\",\"Earth\",\"Earth\",\"Earth\",\"Mars\",\"Earth\",\"Mars\",\"Earth\",\"Earth\",\"Earth\",\"Earth\",\"Earth\",\"Earth\",\"Earth\",\"Earth\",\"Mars\",\"Europa\",\"Earth\",\"Europa\",\"Mars\",\"Earth\",\"Mars\",\"Mars\",\"Mars\",\"Europa\",\"Mars\",\"Earth\",\"Earth\",\"Earth\",\"Earth\",\"Europa\",\"Earth\",\"Earth\",\"Earth\",\"Mars\",\"Mars\",\"Earth\",\"Earth\",\"Earth\",\"Earth\",\"Europa\",\"Europa\",\"Europa\",\"Earth\",\"Earth\",\"Earth\",\"Mars\",null,\"Earth\",\"Earth\",\"Earth\",\"Earth\",\"Mars\",\"Earth\",\"Earth\",\"Earth\",\"Earth\",\"Mars\",\"Europa\",\"Mars\",\"Mars\",\"Europa\",\"Earth\",\"Mars\",\"Mars\",\"Mars\",\"Earth\",\"Europa\",\"Earth\",\"Mars\",\"Earth\",\"Earth\",\"Earth\",\"Earth\",\"Earth\",\"Earth\",\"Europa\",\"Earth\",\"Earth\",\"Earth\",\"Earth\",\"Mars\",\"Earth\",\"Earth\",\"Earth\",\"Earth\",\"Earth\",\"Mars\",\"Earth\",\"Earth\",\"Earth\",\"Europa\",\"Europa\",\"Europa\",\"Europa\",\"Europa\",\"Europa\",\"Earth\",\"Earth\",\"Mars\",\"Europa\",null,\"Europa\",\"Mars\",\"Earth\",\"Earth\",\"Mars\",\"Mars\",\"Mars\",\"Mars\",\"Earth\",\"Mars\",\"Mars\",\"Earth\",\"Earth\",\"Earth\",\"Earth\",\"Europa\",\"Earth\",\"Earth\",\"Mars\",\"Earth\",\"Earth\",\"Earth\",\"Mars\",\"Earth\",\"Earth\",\"Earth\",\"Earth\",\"Europa\",\"Europa\",\"Earth\",\"Earth\",\"Mars\",\"Mars\",\"Mars\",\"Earth\",\"Earth\",\"Earth\",\"Earth\",\"Earth\",\"Earth\",\"Europa\",\"Mars\",\"Earth\",\"Earth\",\"Earth\",\"Earth\",\"Europa\",\"Earth\",\"Earth\",\"Earth\",\"Earth\",\"Earth\",\"Earth\",\"Earth\",\"Earth\",\"Mars\",\"Mars\",\"Mars\",\"Mars\",\"Mars\",\"Europa\",\"Earth\",\"Earth\",\"Earth\",\"Europa\",\"Europa\",\"Europa\",\"Europa\",\"Europa\",\"Earth\",\"Europa\",\"Earth\",null,\"Mars\",\"Mars\",\"Mars\",\"Earth\",\"Earth\",\"Earth\",\"Earth\",\"Earth\",\"Earth\",\"Earth\",\"Earth\",\"Earth\",\"Earth\",\"Earth\",\"Earth\",\"Earth\",\"Mars\",\"Mars\",\"Mars\",\"Mars\",\"Mars\",\"Mars\",\"Mars\",\"Mars\",\"Mars\",\"Mars\",\"Earth\",\"Mars\",\"Earth\",\"Earth\",\"Mars\",\"Earth\",\"Mars\",\"Earth\",\"Europa\",\"Mars\",\"Mars\",\"Europa\",null,\"Earth\",\"Mars\",\"Mars\",\"Europa\",\"Europa\",\"Mars\",\"Europa\",\"Earth\",null,\"Earth\",\"Earth\",\"Earth\",\"Europa\",\"Mars\",\"Mars\",\"Earth\",\"Europa\",\"Earth\",\"Earth\",\"Europa\",\"Earth\",\"Earth\",\"Earth\",\"Europa\",\"Earth\",\"Earth\",\"Earth\",\"Earth\",\"Earth\",\"Earth\",\"Earth\",\"Europa\",\"Europa\",\"Earth\",\"Europa\",\"Europa\",\"Earth\",\"Europa\",\"Europa\",\"Europa\",\"Europa\",\"Europa\",\"Europa\",\"Europa\",\"Earth\",\"Europa\",\"Earth\",\"Earth\",null,\"Europa\",\"Europa\",\"Earth\",\"Earth\",\"Earth\",\"Europa\",\"Earth\",\"Earth\",\"Earth\",\"Earth\",\"Earth\",null,\"Europa\",\"Europa\",\"Earth\",\"Earth\",null,\"Earth\",\"Earth\",\"Earth\",\"Earth\",\"Europa\",\"Europa\",\"Europa\",\"Earth\",\"Mars\",\"Mars\",\"Earth\",\"Mars\",\"Mars\",\"Mars\",\"Earth\",\"Europa\",\"Earth\",\"Earth\",\"Mars\",\"Earth\",\"Mars\",\"Mars\",\"Mars\",\"Earth\",\"Mars\",\"Earth\",\"Europa\",\"Earth\",\"Earth\",\"Earth\",\"Earth\",\"Earth\",\"Earth\",\"Earth\",\"Mars\",\"Mars\",\"Earth\",\"Earth\",\"Mars\",\"Earth\",\"Earth\",\"Earth\",\"Earth\",\"Europa\",\"Europa\",\"Europa\",\"Europa\",\"Europa\",\"Europa\",\"Europa\",\"Europa\",\"Earth\",\"Europa\",\"Europa\",\"Europa\",null,\"Earth\",\"Earth\",\"Earth\",\"Earth\",\"Earth\",\"Earth\",\"Earth\",\"Earth\",\"Europa\",\"Earth\",\"Europa\",\"Europa\",\"Earth\",\"Mars\",\"Mars\",\"Mars\",\"Mars\",null,\"Mars\",\"Earth\",\"Earth\",\"Earth\",\"Earth\",\"Mars\",\"Mars\",\"Earth\",\"Earth\",\"Europa\",\"Earth\",\"Earth\",\"Europa\",\"Europa\",\"Europa\",\"Europa\",\"Mars\",\"Mars\",\"Mars\",\"Europa\",\"Europa\",\"Europa\",\"Europa\",\"Earth\",\"Mars\",\"Mars\",\"Europa\",\"Europa\",\"Mars\",\"Earth\",\"Earth\",\"Earth\",\"Earth\",\"Earth\",\"Europa\",\"Europa\",\"Earth\",\"Earth\",\"Mars\",null,\"Earth\",null,\"Europa\",\"Earth\",\"Earth\",\"Earth\",\"Earth\",\"Mars\",\"Europa\",\"Europa\",\"Europa\",\"Europa\",\"Europa\",\"Europa\",\"Earth\",\"Earth\",\"Earth\",\"Earth\",\"Europa\",\"Earth\",\"Earth\",\"Earth\",\"Earth\",\"Earth\",\"Earth\",\"Mars\",\"Mars\",\"Earth\",\"Earth\",\"Earth\",\"Earth\",\"Mars\",null,\"Europa\",\"Europa\",\"Earth\",\"Earth\",\"Earth\",\"Mars\",\"Mars\",\"Mars\",\"Earth\",\"Earth\",\"Earth\",\"Earth\",\"Earth\",\"Europa\",\"Europa\",\"Earth\",\"Earth\",\"Europa\",\"Europa\",\"Mars\",\"Mars\",\"Mars\",\"Europa\",\"Mars\",\"Mars\",\"Mars\",\"Mars\",\"Europa\",\"Europa\",\"Europa\",\"Europa\",\"Europa\",null,\"Mars\",\"Earth\",\"Europa\",\"Europa\",\"Europa\",\"Earth\",\"Europa\",\"Europa\",\"Earth\",null,\"Earth\",\"Earth\",\"Earth\",\"Earth\",\"Earth\",\"Earth\",\"Mars\",\"Mars\",\"Europa\",\"Earth\",\"Earth\",\"Earth\",\"Mars\",\"Europa\",\"Europa\",\"Earth\",\"Earth\",\"Europa\",\"Europa\",null,\"Europa\",\"Europa\",\"Mars\",null,\"Earth\",\"Earth\",\"Earth\",\"Earth\",\"Earth\",\"Mars\",\"Mars\",\"Earth\",\"Earth\",\"Europa\",\"Europa\",\"Europa\",\"Europa\",\"Europa\",\"Earth\",\"Earth\",\"Earth\",\"Earth\",null,\"Earth\",\"Mars\",\"Europa\",\"Europa\",\"Europa\",\"Mars\",\"Mars\",\"Earth\",\"Europa\",\"Europa\",\"Earth\",\"Europa\",\"Europa\",\"Europa\",\"Europa\",\"Europa\",\"Europa\",\"Europa\",\"Europa\",\"Earth\",\"Earth\",\"Europa\",\"Earth\",\"Earth\",\"Earth\",\"Earth\",\"Earth\",\"Earth\",\"Mars\",\"Mars\",\"Mars\",\"Mars\",\"Mars\",\"Mars\",\"Mars\",\"Europa\",\"Mars\",\"Earth\",\"Earth\",\"Earth\",\"Earth\",\"Mars\",\"Earth\",null,\"Mars\",\"Earth\",\"Earth\",\"Earth\",\"Mars\",\"Mars\",\"Mars\",\"Mars\",\"Europa\",\"Mars\",\"Mars\",\"Mars\",\"Earth\",\"Europa\",\"Europa\",\"Europa\",\"Earth\",\"Mars\",\"Earth\",\"Earth\",\"Europa\",\"Earth\",\"Earth\",\"Earth\",\"Earth\",\"Earth\",\"Earth\",\"Europa\",\"Europa\",\"Earth\",\"Earth\",\"Earth\",\"Mars\",\"Mars\",\"Mars\",\"Earth\",\"Earth\",\"Earth\",\"Earth\",\"Earth\",\"Mars\",\"Europa\",\"Earth\",\"Earth\",\"Europa\",\"Europa\",\"Europa\",\"Europa\",\"Europa\",\"Mars\",\"Europa\",\"Earth\",\"Europa\",\"Mars\",\"Mars\",\"Mars\",\"Earth\",\"Mars\",\"Mars\",\"Earth\",\"Earth\",\"Earth\",\"Earth\",\"Earth\",\"Earth\",\"Europa\",\"Earth\",\"Europa\",null,\"Mars\",\"Earth\",\"Earth\",\"Earth\",\"Earth\",\"Earth\",\"Earth\",\"Earth\",\"Earth\",\"Earth\",\"Earth\",\"Earth\",\"Mars\",\"Mars\",\"Mars\",\"Mars\",\"Mars\",\"Earth\",\"Mars\",\"Mars\",\"Mars\",\"Mars\",\"Europa\",\"Mars\",\"Mars\",\"Mars\",\"Mars\",\"Europa\",\"Europa\",\"Earth\",\"Earth\",\"Mars\",\"Mars\",\"Europa\",\"Earth\",\"Earth\",\"Earth\",\"Earth\",\"Earth\",\"Europa\",\"Europa\",\"Europa\",\"Mars\",\"Mars\",\"Mars\",\"Earth\",\"Earth\",\"Earth\",\"Earth\",\"Earth\",\"Earth\",\"Earth\",\"Earth\",\"Europa\",\"Earth\",\"Mars\",\"Earth\",\"Earth\",\"Earth\",\"Earth\",\"Earth\",\"Earth\",\"Earth\",\"Earth\",\"Earth\",\"Europa\",\"Mars\",\"Europa\",\"Europa\",\"Europa\",\"Earth\",\"Earth\",\"Earth\",\"Europa\",\"Europa\",\"Europa\",\"Europa\",\"Europa\",\"Europa\",\"Europa\",\"Mars\",\"Europa\",\"Earth\",\"Earth\",\"Mars\",\"Mars\",\"Earth\",\"Europa\",\"Europa\",\"Europa\",\"Earth\",\"Earth\",\"Earth\",\"Earth\",\"Earth\",\"Earth\",\"Earth\",\"Europa\",\"Europa\",null,\"Europa\",\"Earth\",\"Earth\",\"Europa\",\"Earth\",\"Earth\",\"Mars\",\"Europa\",\"Earth\",\"Earth\",\"Earth\",\"Earth\",\"Europa\",\"Europa\",\"Europa\",\"Earth\",\"Earth\",\"Earth\",\"Mars\",\"Mars\",\"Earth\",\"Europa\",\"Earth\",\"Mars\",\"Europa\",\"Mars\",\"Europa\",\"Earth\",\"Earth\",\"Earth\",\"Mars\",\"Mars\",\"Mars\",\"Mars\",\"Mars\",\"Mars\",\"Mars\",\"Mars\",\"Earth\",\"Europa\",\"Earth\",\"Europa\",\"Earth\",\"Earth\",\"Earth\",\"Earth\",\"Earth\",\"Earth\",\"Mars\",\"Earth\",\"Earth\",\"Earth\",\"Earth\",\"Earth\",\"Earth\",\"Europa\",\"Earth\",\"Earth\",\"Mars\",\"Europa\",\"Earth\",\"Europa\",\"Earth\",\"Mars\",\"Mars\",\"Europa\",\"Europa\",\"Mars\",\"Earth\",null,\"Earth\",\"Earth\",\"Earth\",\"Earth\",\"Earth\",\"Europa\",\"Europa\",\"Earth\",\"Earth\",\"Earth\",\"Earth\",\"Europa\",\"Earth\",\"Earth\",\"Earth\",\"Earth\",\"Europa\",\"Mars\",\"Earth\",\"Europa\",\"Earth\",\"Earth\",\"Earth\",\"Europa\",\"Europa\",\"Mars\",\"Earth\",\"Earth\",\"Earth\",\"Earth\",\"Mars\",\"Earth\",\"Earth\",\"Europa\",\"Mars\",\"Earth\",\"Europa\",\"Europa\",\"Earth\",\"Mars\",null,\"Europa\",\"Europa\",\"Earth\",\"Earth\",\"Earth\",\"Earth\",\"Europa\",\"Europa\",\"Europa\",\"Europa\",\"Earth\",\"Mars\",\"Mars\",\"Mars\",\"Europa\",\"Europa\",\"Earth\",\"Earth\",\"Earth\",\"Earth\",\"Earth\",\"Mars\",\"Europa\",\"Europa\",\"Earth\",\"Earth\",\"Earth\",\"Earth\",\"Earth\",\"Earth\",\"Earth\",\"Mars\",\"Earth\",\"Earth\",\"Earth\",\"Earth\",\"Earth\",\"Earth\",\"Mars\",\"Earth\",\"Earth\",\"Earth\",\"Mars\",\"Earth\",\"Earth\",\"Europa\",\"Europa\",\"Mars\",\"Earth\",\"Earth\",\"Mars\",\"Earth\",\"Earth\",\"Earth\",\"Earth\",\"Earth\",\"Earth\",\"Europa\",\"Earth\",\"Earth\",\"Earth\",\"Earth\",\"Earth\",\"Earth\",\"Earth\",\"Earth\",\"Earth\",\"Earth\",\"Earth\",\"Earth\",\"Earth\",null,\"Earth\",\"Earth\",\"Earth\",\"Earth\",\"Europa\",\"Europa\",\"Europa\",\"Europa\",\"Europa\",\"Europa\",\"Earth\",\"Earth\",\"Earth\",\"Europa\",\"Mars\",\"Europa\",\"Mars\",\"Earth\",\"Mars\",\"Mars\",\"Mars\",\"Europa\",\"Earth\",\"Earth\",\"Earth\",\"Earth\",\"Europa\",\"Europa\",\"Earth\",\"Earth\",\"Earth\",\"Earth\",\"Mars\",\"Earth\",\"Earth\",\"Earth\",\"Earth\",\"Mars\",\"Earth\",\"Earth\",\"Earth\",null,\"Earth\",\"Earth\",\"Earth\",\"Mars\",\"Mars\",\"Mars\",\"Mars\",\"Mars\",\"Earth\",\"Earth\",\"Earth\",\"Earth\",\"Earth\",\"Mars\",\"Earth\",\"Earth\",\"Earth\",\"Europa\",\"Earth\",\"Europa\",\"Europa\",\"Earth\",\"Earth\",\"Earth\",\"Mars\",\"Mars\",\"Earth\",\"Earth\",\"Earth\",\"Earth\",null,\"Mars\",\"Europa\",\"Earth\",\"Earth\",\"Earth\",null,\"Europa\",\"Mars\",\"Mars\",\"Earth\",null,\"Europa\",\"Europa\",\"Earth\",\"Earth\",\"Earth\",\"Earth\",\"Mars\",\"Mars\",\"Mars\",\"Mars\",\"Mars\",\"Earth\",\"Earth\",\"Earth\",\"Earth\",\"Earth\",\"Earth\",\"Earth\",\"Earth\",null,\"Europa\",\"Mars\",\"Mars\",\"Earth\",\"Europa\",\"Earth\",\"Mars\",\"Earth\",\"Mars\",\"Mars\",\"Mars\",\"Mars\",\"Mars\",\"Earth\",\"Mars\",\"Mars\",\"Europa\",\"Europa\",\"Europa\",\"Earth\",\"Mars\",\"Mars\",\"Earth\",\"Earth\",\"Earth\",\"Earth\",\"Earth\",\"Earth\",\"Europa\",\"Europa\",\"Earth\",\"Mars\",\"Mars\",\"Earth\",\"Mars\",\"Europa\",\"Earth\",\"Europa\",\"Europa\",\"Europa\",\"Earth\",\"Earth\",\"Earth\",\"Earth\",\"Earth\",\"Earth\",\"Europa\",\"Europa\",\"Europa\",\"Europa\",\"Europa\",\"Europa\",\"Europa\",\"Europa\",\"Earth\",\"Earth\",\"Earth\",\"Earth\",\"Earth\",\"Earth\",\"Mars\",\"Earth\",\"Europa\",\"Europa\",\"Europa\",\"Earth\",\"Earth\",\"Europa\",\"Europa\",\"Europa\",\"Europa\",\"Europa\",\"Earth\",\"Europa\",\"Europa\",\"Europa\",\"Europa\",\"Europa\",\"Mars\",\"Earth\",\"Mars\",\"Earth\",\"Earth\",\"Earth\",\"Mars\",\"Europa\",\"Earth\",\"Europa\",\"Earth\",\"Mars\",\"Mars\",\"Mars\",\"Mars\",\"Earth\",\"Earth\",\"Earth\",\"Earth\",\"Earth\",\"Earth\",\"Earth\",\"Earth\",\"Europa\",\"Earth\",\"Earth\",\"Earth\",\"Europa\",\"Europa\",\"Earth\",\"Europa\",\"Mars\",\"Earth\",\"Europa\",\"Earth\",\"Earth\",\"Earth\",\"Earth\",\"Earth\",\"Earth\",\"Earth\",\"Earth\",\"Earth\",\"Earth\",\"Earth\",\"Earth\",\"Earth\",\"Earth\",\"Earth\",\"Earth\",\"Earth\",\"Europa\",\"Earth\",\"Earth\",\"Earth\",\"Europa\",\"Earth\",\"Mars\",\"Mars\",\"Earth\",\"Earth\",\"Mars\",\"Europa\",\"Europa\",\"Earth\",\"Earth\",\"Earth\",\"Earth\",\"Europa\",\"Europa\",\"Earth\",\"Earth\",\"Europa\",\"Europa\",\"Europa\",\"Earth\",\"Earth\",\"Earth\",\"Mars\",\"Mars\",\"Mars\",\"Mars\",\"Mars\",\"Europa\",\"Earth\",\"Earth\",\"Europa\",\"Mars\",\"Earth\",\"Earth\",\"Mars\",\"Earth\",\"Earth\",\"Earth\",\"Earth\",\"Europa\",\"Earth\",\"Earth\",\"Earth\",\"Earth\",\"Mars\",\"Earth\",\"Mars\",\"Mars\",\"Mars\",\"Mars\",\"Earth\",\"Earth\",\"Earth\",\"Mars\",\"Europa\",\"Europa\",\"Earth\",\"Europa\",\"Europa\",\"Europa\",\"Earth\",\"Earth\",\"Earth\",\"Mars\",\"Earth\",\"Earth\",\"Earth\",\"Earth\",\"Earth\",\"Earth\",\"Europa\",\"Europa\",\"Earth\",\"Europa\",\"Europa\",\"Europa\",\"Europa\",\"Earth\",\"Europa\",\"Mars\",\"Mars\",\"Mars\",\"Earth\",\"Europa\",\"Europa\",\"Mars\",\"Earth\",\"Earth\",\"Earth\",\"Earth\",\"Earth\",\"Earth\",\"Earth\",\"Earth\",\"Mars\",\"Mars\",\"Earth\",\"Mars\",\"Mars\",\"Earth\",\"Earth\",\"Earth\",\"Earth\",\"Earth\",\"Earth\",\"Earth\",\"Earth\",\"Earth\",null,\"Europa\",\"Europa\",\"Earth\",\"Earth\",\"Earth\",\"Earth\",\"Earth\",\"Mars\",\"Mars\",\"Mars\",\"Mars\",\"Mars\",\"Earth\",\"Earth\",\"Mars\",\"Earth\",\"Earth\",\"Europa\",\"Europa\",\"Earth\",\"Earth\",\"Earth\",\"Mars\",\"Earth\",\"Earth\",\"Earth\",\"Europa\",\"Earth\",\"Earth\",\"Earth\",\"Europa\",\"Earth\",\"Earth\",\"Europa\",\"Earth\",\"Earth\",\"Earth\",\"Earth\",\"Earth\",null,\"Earth\",\"Mars\",\"Earth\",\"Earth\",\"Mars\",\"Mars\",\"Mars\",\"Mars\",\"Mars\",\"Earth\",\"Earth\",\"Earth\",\"Earth\",\"Earth\",\"Earth\",\"Earth\",\"Earth\",\"Earth\",\"Europa\",\"Europa\",\"Mars\",\"Earth\",\"Earth\",\"Earth\",\"Earth\",\"Earth\",\"Earth\",\"Earth\",\"Europa\",\"Earth\",\"Europa\",\"Mars\",\"Mars\",\"Mars\",\"Mars\",\"Europa\",\"Europa\",\"Europa\",\"Europa\",\"Europa\",\"Europa\",\"Europa\",\"Europa\",\"Earth\",\"Earth\",\"Earth\",\"Europa\",\"Mars\",\"Mars\",\"Earth\",\"Earth\",\"Earth\",\"Earth\",\"Earth\",\"Earth\",\"Earth\",\"Earth\",\"Earth\",\"Mars\",\"Mars\",\"Earth\",\"Earth\",\"Earth\",\"Europa\",\"Earth\",\"Earth\",\"Europa\",\"Europa\",\"Europa\",\"Europa\",\"Europa\",\"Europa\",\"Europa\",\"Europa\",\"Europa\",\"Earth\",\"Earth\",\"Europa\",\"Europa\",\"Europa\",\"Europa\",\"Europa\",\"Europa\",\"Earth\",null,\"Earth\",\"Earth\",\"Earth\",\"Earth\",\"Earth\",\"Earth\",null,\"Mars\",\"Earth\",\"Earth\",\"Mars\",\"Mars\",\"Earth\",\"Mars\",\"Mars\",\"Earth\",\"Europa\",\"Earth\",\"Earth\",\"Earth\",\"Earth\",\"Earth\",\"Earth\",\"Earth\",\"Earth\",\"Earth\",\"Earth\",\"Earth\",\"Earth\",\"Earth\",\"Earth\",\"Mars\",\"Mars\",\"Earth\",\"Earth\",\"Earth\",\"Earth\",\"Earth\",\"Mars\",\"Mars\",\"Europa\",\"Europa\",\"Europa\",\"Europa\",\"Earth\",\"Earth\",\"Mars\",\"Europa\",\"Europa\",\"Earth\",\"Mars\",\"Earth\",\"Europa\",\"Europa\",\"Mars\",\"Europa\",\"Europa\",\"Earth\",\"Europa\",\"Earth\",\"Mars\",\"Europa\",\"Europa\",\"Europa\",\"Europa\",\"Earth\",\"Mars\",\"Europa\",\"Earth\",\"Mars\",\"Earth\",\"Europa\",\"Europa\",\"Europa\",\"Europa\",\"Europa\",\"Earth\",\"Europa\",\"Earth\",\"Earth\",\"Earth\",\"Earth\",\"Mars\",\"Earth\",\"Europa\",\"Earth\",\"Earth\",\"Mars\",\"Earth\",\"Earth\",\"Mars\",\"Mars\",\"Earth\",\"Earth\",\"Earth\",\"Earth\",\"Earth\",\"Mars\",\"Mars\",\"Earth\",\"Earth\",\"Earth\",\"Europa\",\"Europa\",\"Europa\",\"Europa\",\"Europa\",\"Europa\",\"Earth\",\"Earth\",\"Europa\",\"Europa\",\"Earth\",\"Europa\",\"Europa\",\"Earth\",\"Earth\",\"Earth\",\"Earth\",\"Earth\",\"Earth\",\"Europa\",\"Earth\",\"Earth\",\"Europa\",\"Europa\",\"Earth\",\"Mars\",\"Earth\",\"Earth\",\"Earth\",\"Mars\",\"Earth\",\"Earth\",\"Earth\",\"Mars\",\"Earth\",\"Earth\",\"Earth\",\"Europa\",\"Europa\",\"Earth\",\"Europa\",\"Earth\",\"Earth\",\"Earth\",\"Earth\",\"Europa\",\"Earth\",\"Earth\",\"Earth\",\"Earth\",\"Earth\",\"Earth\",\"Earth\",\"Earth\",\"Earth\",null,\"Earth\",\"Earth\",\"Earth\",\"Earth\",\"Earth\",\"Earth\",\"Earth\",\"Europa\",\"Earth\",\"Earth\",\"Earth\",\"Earth\",\"Mars\",\"Earth\",\"Earth\",\"Europa\",\"Europa\",\"Europa\",\"Europa\",\"Earth\",\"Earth\",\"Europa\",\"Earth\",\"Mars\",\"Mars\",\"Mars\",\"Earth\",\"Earth\",\"Europa\",\"Earth\",\"Earth\",\"Earth\",\"Earth\",\"Earth\",\"Earth\",\"Mars\",\"Earth\",\"Earth\",\"Earth\",\"Mars\",\"Earth\",\"Earth\",\"Earth\",\"Earth\",\"Mars\",\"Earth\",\"Earth\",\"Europa\",\"Earth\",null,\"Earth\",\"Europa\",\"Europa\",\"Mars\",\"Mars\",\"Mars\",\"Earth\",\"Mars\",\"Mars\",\"Mars\",\"Mars\",\"Mars\",\"Mars\",\"Mars\",\"Earth\",\"Earth\",\"Mars\",\"Mars\",\"Earth\",\"Earth\",\"Earth\",\"Earth\",\"Earth\",\"Earth\",\"Earth\",\"Earth\",\"Earth\",\"Europa\",\"Earth\",\"Mars\",\"Mars\",\"Earth\",\"Earth\",\"Earth\",\"Earth\",\"Earth\",\"Earth\",\"Earth\",\"Earth\",\"Earth\",\"Earth\",\"Earth\",\"Earth\",\"Mars\",\"Europa\",\"Mars\",\"Earth\",\"Earth\",\"Earth\",\"Earth\",\"Earth\",\"Earth\",\"Earth\",\"Earth\",\"Earth\",\"Earth\",\"Earth\",\"Earth\",\"Earth\",\"Earth\",\"Europa\",\"Mars\",\"Mars\",\"Earth\",\"Europa\",\"Europa\",\"Europa\",\"Europa\",\"Earth\",\"Mars\",\"Europa\",\"Earth\",\"Mars\",\"Mars\",\"Earth\",\"Earth\",\"Earth\",\"Earth\",\"Europa\",\"Earth\",\"Earth\",\"Earth\",\"Earth\",\"Mars\",\"Earth\",\"Mars\",\"Europa\",\"Europa\",\"Earth\",\"Earth\",\"Earth\",\"Earth\",\"Earth\",\"Earth\",\"Earth\",\"Earth\",\"Earth\",\"Mars\",\"Earth\",\"Mars\",\"Europa\",\"Earth\",\"Mars\",\"Earth\",\"Earth\",null,\"Earth\",\"Europa\",\"Europa\",\"Earth\",\"Earth\",\"Earth\",\"Earth\",null,\"Earth\",\"Earth\",\"Earth\",\"Europa\",\"Europa\",\"Europa\",\"Europa\",\"Europa\",\"Europa\",\"Earth\",\"Europa\",\"Mars\",\"Earth\",\"Earth\",\"Europa\",\"Earth\",\"Earth\",\"Earth\",\"Earth\",\"Earth\",\"Earth\",\"Earth\",\"Earth\",\"Earth\",\"Earth\",\"Europa\",\"Earth\",\"Earth\",\"Earth\",\"Mars\",\"Mars\",\"Europa\",\"Europa\",\"Mars\",\"Mars\",\"Earth\",\"Mars\",\"Earth\",\"Earth\",\"Earth\",\"Earth\",\"Earth\",null,\"Earth\",\"Mars\",\"Europa\",\"Mars\",\"Earth\",\"Earth\",\"Earth\",\"Earth\",\"Earth\",\"Europa\",\"Earth\",\"Earth\",\"Europa\",\"Europa\",\"Mars\",\"Earth\",\"Earth\",\"Earth\",\"Earth\",\"Earth\",\"Earth\",\"Mars\",\"Europa\",\"Europa\",\"Europa\",\"Europa\",\"Europa\",\"Earth\",\"Earth\",\"Europa\",\"Europa\",\"Earth\",\"Earth\",\"Earth\",\"Earth\",\"Europa\",\"Mars\",\"Earth\",\"Earth\",\"Europa\",\"Europa\",\"Europa\",\"Europa\",\"Europa\",\"Mars\",\"Earth\",\"Europa\",\"Europa\",\"Earth\",null,\"Mars\",\"Earth\",\"Europa\",\"Earth\",\"Earth\",\"Earth\",\"Earth\",\"Mars\",\"Mars\",\"Mars\",\"Earth\",\"Earth\",\"Earth\",\"Earth\",\"Earth\",\"Earth\",\"Earth\",\"Earth\",\"Mars\",\"Mars\",\"Earth\",\"Europa\",\"Europa\",\"Europa\",\"Earth\",\"Earth\",\"Earth\",\"Earth\",\"Earth\",\"Earth\",\"Earth\",\"Europa\",\"Earth\",\"Earth\",\"Europa\",\"Earth\",\"Europa\",\"Mars\",\"Earth\",\"Europa\",\"Europa\",\"Europa\",\"Europa\",\"Europa\",\"Europa\",\"Europa\",\"Mars\",null,\"Earth\",\"Earth\",\"Earth\",\"Earth\",\"Earth\",\"Earth\",\"Europa\",\"Mars\",\"Earth\",\"Earth\",\"Earth\",\"Mars\",\"Earth\",\"Earth\",\"Earth\",\"Earth\",\"Earth\",\"Earth\",\"Europa\",\"Earth\",\"Earth\",\"Earth\",\"Earth\",\"Earth\",\"Europa\",\"Europa\",\"Europa\",\"Europa\",\"Earth\",\"Earth\",\"Europa\",\"Earth\",\"Earth\",\"Europa\",\"Europa\",\"Earth\",null,\"Earth\",\"Earth\",\"Earth\",\"Earth\",\"Earth\",\"Earth\",\"Earth\",\"Mars\",\"Earth\",\"Earth\",\"Europa\",\"Europa\",\"Earth\",\"Earth\",\"Mars\",\"Earth\",\"Earth\",\"Earth\",\"Earth\",\"Mars\",\"Europa\",\"Europa\",\"Earth\",null,\"Earth\",\"Earth\",\"Earth\",\"Earth\",\"Earth\",\"Earth\",\"Earth\",\"Earth\",\"Earth\",null,\"Europa\",\"Mars\",\"Earth\",\"Earth\",\"Earth\",\"Europa\",\"Europa\",\"Earth\",\"Europa\",\"Europa\",\"Earth\",\"Europa\",\"Europa\",\"Earth\",\"Earth\",\"Earth\",\"Earth\",\"Earth\",\"Europa\",\"Europa\",\"Europa\",\"Europa\",\"Europa\",\"Earth\",\"Earth\",\"Earth\",\"Earth\",\"Earth\",\"Earth\",\"Mars\",\"Mars\",\"Mars\",\"Mars\",\"Mars\",\"Mars\",\"Earth\",\"Mars\",\"Mars\",\"Europa\",\"Mars\",\"Earth\",\"Europa\",\"Earth\",\"Earth\",\"Earth\",\"Earth\",\"Earth\",\"Earth\",\"Mars\",\"Mars\",\"Europa\",\"Europa\",\"Earth\",\"Europa\",\"Earth\",\"Mars\",\"Earth\",\"Earth\",\"Earth\",\"Earth\",\"Earth\",\"Earth\",\"Earth\",\"Earth\",\"Earth\",\"Earth\",\"Earth\",\"Mars\",\"Mars\",\"Mars\",\"Earth\",\"Earth\",\"Earth\",\"Mars\",\"Mars\",\"Mars\",\"Earth\",\"Mars\",\"Earth\",\"Earth\",\"Mars\",\"Earth\",\"Earth\",\"Earth\",\"Earth\",\"Mars\",\"Earth\",\"Europa\",\"Earth\",\"Earth\",\"Earth\",\"Earth\",\"Earth\",\"Earth\",\"Earth\",\"Mars\",\"Mars\",\"Mars\",\"Earth\",\"Europa\",\"Earth\",\"Mars\",\"Mars\",\"Earth\",\"Earth\",\"Earth\",\"Earth\",\"Earth\",\"Mars\",\"Europa\",\"Earth\",\"Europa\",\"Mars\",\"Mars\",\"Earth\",\"Earth\",\"Earth\",\"Earth\",\"Earth\",\"Mars\",\"Earth\",\"Earth\",\"Earth\",\"Europa\",\"Europa\",\"Europa\",\"Europa\",\"Earth\",\"Mars\",\"Europa\",\"Mars\",\"Mars\",\"Europa\",\"Earth\",\"Earth\",\"Earth\",\"Earth\",\"Earth\",\"Earth\",\"Earth\",\"Europa\",\"Europa\",\"Europa\",\"Europa\",\"Earth\",\"Earth\",\"Earth\",\"Earth\",\"Earth\",\"Earth\",\"Mars\",\"Earth\",\"Mars\",\"Earth\",\"Earth\",\"Earth\",\"Mars\",\"Mars\",\"Mars\",\"Mars\",\"Mars\",\"Mars\",\"Mars\",\"Earth\",\"Europa\",\"Europa\",\"Europa\",\"Earth\",\"Earth\",\"Earth\",\"Europa\",\"Europa\",\"Earth\",\"Earth\",\"Earth\",\"Europa\",\"Europa\",\"Earth\",\"Europa\",\"Europa\",\"Earth\",\"Earth\",\"Earth\",\"Earth\",\"Earth\",\"Mars\",\"Mars\",\"Earth\",\"Mars\",\"Mars\",\"Earth\",\"Earth\",\"Earth\",\"Earth\",\"Europa\",\"Europa\",\"Mars\",\"Earth\",\"Europa\",\"Europa\",\"Europa\",\"Earth\",\"Earth\",\"Mars\",\"Earth\",\"Earth\",\"Mars\",\"Earth\",\"Earth\",\"Earth\",\"Earth\",\"Earth\",\"Earth\",\"Earth\",\"Mars\",\"Europa\",\"Europa\",\"Earth\",\"Earth\",\"Earth\",\"Europa\",\"Mars\",\"Earth\",\"Europa\",\"Europa\",\"Europa\",\"Europa\",\"Europa\",\"Europa\",\"Europa\",\"Europa\",\"Europa\",\"Europa\",\"Earth\",\"Europa\",\"Europa\",\"Europa\",\"Europa\",\"Earth\",null,\"Mars\",\"Earth\",\"Europa\",\"Earth\",\"Earth\",\"Earth\",null,\"Earth\",\"Earth\",\"Earth\",\"Europa\",\"Mars\",\"Earth\",\"Mars\",\"Europa\",\"Europa\",\"Earth\",\"Earth\",\"Mars\",\"Earth\",\"Earth\",\"Earth\",\"Earth\",\"Earth\",\"Earth\",\"Earth\",\"Earth\",\"Earth\",\"Earth\",\"Europa\",\"Earth\",\"Earth\",\"Earth\",\"Mars\",\"Mars\",\"Mars\",\"Earth\",\"Earth\",\"Earth\",\"Earth\",\"Europa\",\"Earth\",\"Europa\",\"Mars\",\"Earth\",\"Mars\",\"Earth\",\"Europa\",\"Mars\",\"Earth\",\"Earth\",\"Europa\",\"Earth\",\"Earth\",\"Earth\",\"Earth\",\"Earth\",\"Earth\",\"Earth\",\"Earth\",null,\"Mars\",\"Earth\",\"Earth\",\"Earth\",\"Earth\",null,\"Earth\",\"Earth\",\"Earth\",\"Earth\",\"Earth\",\"Mars\",\"Earth\",\"Earth\",\"Earth\",\"Europa\",\"Europa\",\"Europa\",null,\"Mars\",\"Earth\",\"Earth\",\"Earth\",\"Earth\",\"Earth\",\"Earth\",\"Europa\",\"Earth\",\"Earth\",\"Earth\",\"Mars\",\"Earth\",\"Earth\",\"Mars\",\"Mars\",\"Europa\",\"Earth\",\"Earth\",\"Earth\",\"Europa\",\"Earth\",\"Earth\",\"Mars\",\"Earth\",\"Earth\",\"Mars\",null,\"Earth\",\"Earth\",\"Earth\",\"Mars\",\"Mars\",\"Mars\",null,\"Earth\",\"Mars\",\"Earth\",\"Mars\",\"Earth\",\"Earth\",\"Earth\",\"Earth\",null,\"Earth\",\"Earth\",\"Earth\",\"Mars\",\"Earth\",\"Earth\",\"Earth\",\"Earth\",\"Mars\",\"Europa\",\"Earth\",\"Europa\",\"Europa\",\"Earth\",\"Earth\",\"Earth\",\"Earth\",\"Earth\",\"Earth\",\"Mars\",\"Europa\",\"Earth\",\"Mars\",\"Earth\",\"Earth\",\"Earth\",\"Europa\",\"Earth\",\"Earth\",\"Mars\",\"Mars\",null,\"Earth\",null,\"Europa\",\"Europa\",\"Europa\",\"Europa\",\"Earth\",\"Mars\",\"Europa\",\"Europa\",\"Earth\",\"Europa\",\"Europa\",\"Earth\",\"Europa\",\"Europa\",\"Earth\",\"Europa\",\"Mars\",\"Mars\",\"Europa\",\"Europa\",\"Europa\",\"Earth\",\"Mars\",\"Mars\",\"Earth\",\"Mars\",\"Mars\",\"Europa\",\"Europa\",\"Earth\",\"Earth\",\"Mars\",\"Europa\",\"Mars\",\"Europa\",\"Europa\",\"Earth\",\"Earth\",\"Europa\",\"Europa\",\"Earth\",\"Mars\",\"Mars\",\"Mars\",\"Earth\",\"Earth\",\"Earth\",\"Earth\",\"Earth\",\"Europa\",\"Europa\",\"Europa\",\"Europa\",\"Mars\",\"Mars\",\"Mars\",\"Mars\",\"Europa\",\"Earth\",\"Earth\",\"Earth\",\"Earth\",\"Mars\",\"Mars\",\"Europa\",\"Mars\",\"Mars\",\"Earth\",\"Europa\",\"Europa\",\"Europa\",\"Earth\",\"Earth\",\"Earth\",\"Earth\",\"Earth\",\"Earth\",\"Earth\",\"Earth\",\"Europa\",\"Europa\",\"Europa\",\"Europa\",\"Europa\",\"Earth\",\"Earth\",\"Earth\",\"Earth\",\"Earth\",\"Mars\",\"Mars\",\"Earth\",\"Europa\",\"Mars\",\"Mars\",\"Mars\",\"Mars\",\"Mars\",\"Mars\",\"Mars\",null,\"Mars\",\"Earth\",\"Mars\",\"Mars\",\"Mars\",\"Mars\",\"Mars\",\"Earth\",\"Earth\",\"Europa\",\"Europa\",\"Europa\",\"Europa\",\"Earth\",\"Earth\",\"Earth\",null,\"Earth\",\"Earth\",\"Earth\",\"Earth\",\"Earth\",\"Earth\",\"Earth\",\"Europa\",\"Europa\",\"Earth\",\"Mars\",\"Earth\",\"Mars\",\"Mars\",\"Earth\",\"Earth\",\"Earth\",\"Earth\",null,\"Earth\",\"Europa\",\"Europa\",\"Europa\",\"Europa\",\"Europa\",\"Europa\",\"Earth\",\"Earth\",\"Mars\",\"Earth\",\"Europa\",\"Earth\",\"Earth\",\"Earth\",\"Earth\",\"Mars\",\"Earth\",\"Earth\",\"Earth\",\"Mars\",\"Earth\",\"Mars\",\"Mars\",\"Mars\",\"Earth\",\"Earth\",\"Earth\",\"Earth\",\"Earth\",\"Europa\",\"Europa\",\"Europa\",\"Earth\",\"Earth\",\"Earth\",\"Europa\",\"Europa\",\"Earth\",\"Earth\",null,\"Earth\",\"Earth\",\"Earth\",\"Europa\",\"Europa\",\"Europa\",\"Europa\",\"Mars\",\"Mars\",\"Europa\",\"Earth\",\"Earth\",\"Earth\",\"Earth\",\"Earth\",\"Europa\",\"Europa\",\"Europa\",\"Earth\",\"Mars\",\"Mars\",\"Mars\",\"Mars\",\"Europa\",\"Earth\",\"Earth\",\"Earth\",\"Europa\",\"Earth\",\"Earth\",\"Earth\",\"Earth\",\"Mars\",\"Europa\",\"Europa\",\"Mars\",\"Mars\",\"Earth\",\"Earth\",\"Earth\",\"Earth\",null,\"Earth\",\"Earth\",\"Earth\",\"Earth\",\"Mars\",\"Mars\",\"Europa\",\"Europa\",\"Mars\",\"Earth\",\"Earth\",\"Mars\",\"Earth\",\"Mars\",\"Mars\",\"Mars\",\"Earth\",\"Earth\",\"Mars\",\"Earth\",\"Earth\",\"Earth\",\"Earth\",\"Earth\",\"Europa\",\"Mars\",\"Earth\",\"Earth\",\"Earth\",\"Earth\",\"Earth\",\"Earth\",\"Earth\",\"Earth\",\"Earth\",\"Mars\",\"Earth\",\"Earth\",\"Earth\",\"Earth\",\"Earth\",\"Earth\",\"Mars\",\"Earth\",\"Earth\",\"Earth\",\"Mars\",\"Mars\",\"Earth\",\"Earth\",\"Europa\",\"Europa\",\"Earth\",\"Europa\",\"Earth\",\"Earth\",\"Earth\",\"Earth\",\"Europa\",\"Europa\",\"Europa\",\"Europa\",\"Europa\",\"Earth\",\"Earth\",\"Europa\",\"Europa\",\"Earth\",\"Earth\",\"Europa\",\"Europa\",\"Earth\",null,\"Europa\",\"Earth\",\"Earth\",\"Mars\",\"Earth\",\"Earth\",\"Earth\",\"Earth\",\"Earth\",\"Earth\",\"Mars\",\"Earth\",null,null,\"Mars\",\"Mars\",\"Mars\",\"Earth\",\"Earth\",\"Earth\",null,\"Earth\",\"Earth\",\"Earth\",null,\"Mars\",\"Europa\",\"Mars\",\"Europa\",\"Europa\",\"Europa\",\"Europa\",\"Earth\",\"Europa\",\"Europa\",\"Earth\",\"Mars\",\"Europa\",\"Earth\",\"Mars\",\"Earth\",\"Earth\",\"Earth\",\"Earth\",\"Earth\",\"Europa\",\"Earth\",\"Europa\",\"Europa\",\"Europa\",\"Europa\",\"Earth\",\"Earth\",\"Mars\",\"Earth\",\"Mars\",\"Mars\",\"Europa\",\"Mars\",\"Mars\",\"Earth\",\"Earth\",\"Europa\",\"Europa\",\"Earth\",\"Mars\",\"Europa\",\"Earth\",\"Earth\",\"Mars\",\"Earth\",\"Earth\",\"Earth\",\"Earth\",\"Mars\",\"Earth\",\"Mars\",\"Europa\",\"Europa\",\"Earth\",\"Earth\",\"Earth\",\"Earth\",\"Earth\",\"Earth\",\"Earth\",\"Earth\",\"Earth\",\"Mars\",\"Mars\",\"Earth\",\"Earth\",\"Earth\",\"Earth\",\"Earth\",\"Earth\",\"Earth\",null,\"Earth\",\"Earth\",\"Mars\",\"Mars\",\"Mars\",\"Mars\",\"Mars\",\"Earth\",\"Mars\",\"Mars\",\"Mars\",\"Mars\",\"Europa\",\"Europa\",\"Europa\",\"Earth\",\"Earth\",\"Earth\",\"Europa\",\"Earth\",\"Europa\",\"Earth\",\"Earth\",\"Earth\",\"Earth\",\"Earth\",\"Earth\",\"Earth\",\"Earth\",\"Earth\",\"Europa\",\"Earth\",\"Earth\",null,\"Earth\",\"Earth\",\"Earth\",\"Earth\",\"Earth\",\"Earth\",\"Mars\",\"Europa\",\"Earth\",\"Earth\",\"Earth\",\"Earth\",\"Earth\",\"Europa\",\"Earth\",\"Earth\",\"Europa\",\"Europa\",\"Earth\",\"Europa\",\"Mars\",\"Europa\",\"Earth\",null,\"Earth\",\"Earth\",\"Europa\",\"Europa\",\"Earth\",\"Europa\",\"Earth\",\"Europa\",\"Europa\",\"Europa\",\"Earth\",\"Earth\",\"Mars\",\"Earth\",\"Mars\",\"Europa\",\"Earth\",null,\"Europa\",\"Earth\",\"Earth\",\"Mars\",\"Europa\",\"Earth\",\"Earth\",\"Europa\",\"Europa\",\"Mars\",\"Earth\",\"Earth\",\"Earth\",\"Earth\",\"Earth\",\"Europa\",\"Europa\",\"Europa\",\"Europa\",\"Earth\",\"Earth\",\"Earth\",\"Earth\",\"Earth\",\"Europa\",\"Earth\",\"Mars\",\"Europa\",\"Mars\",\"Earth\",\"Earth\",\"Earth\",\"Mars\",\"Mars\",\"Mars\",\"Europa\",\"Europa\",\"Earth\",\"Earth\",\"Mars\",\"Mars\",\"Mars\",\"Earth\",\"Earth\",\"Mars\",\"Earth\",\"Earth\",\"Earth\",\"Earth\",\"Europa\",\"Earth\",\"Earth\",\"Earth\",\"Earth\",\"Europa\",\"Europa\",\"Mars\",\"Earth\",\"Earth\",\"Earth\",\"Europa\",\"Europa\",\"Earth\",\"Europa\",\"Mars\",\"Earth\",\"Earth\",\"Europa\",\"Europa\",\"Europa\",\"Europa\",\"Earth\",\"Mars\",\"Mars\",\"Mars\",\"Mars\",\"Earth\",\"Earth\",\"Earth\",\"Europa\",\"Europa\",\"Earth\",\"Earth\",\"Earth\",\"Mars\",\"Earth\",\"Mars\",\"Mars\",\"Mars\",\"Earth\",\"Earth\",\"Earth\",\"Earth\",\"Mars\",\"Mars\",\"Earth\",\"Earth\",\"Mars\",\"Mars\",\"Mars\",\"Europa\",\"Europa\",\"Earth\",\"Mars\",\"Earth\",\"Earth\",null,\"Mars\",\"Earth\",\"Europa\",\"Earth\",\"Earth\",\"Mars\",\"Mars\",\"Mars\",\"Mars\",\"Mars\",\"Earth\",\"Earth\",\"Earth\",\"Earth\",\"Mars\",\"Mars\",\"Europa\",\"Earth\",\"Earth\",\"Earth\",\"Mars\",\"Mars\",\"Earth\",\"Mars\",\"Earth\",\"Earth\",\"Earth\",null,\"Mars\",\"Mars\",\"Europa\",\"Europa\",\"Earth\",\"Earth\",\"Earth\",\"Earth\",\"Europa\",\"Europa\",\"Earth\",\"Mars\",\"Mars\",\"Mars\",\"Mars\",\"Earth\",\"Mars\",\"Earth\",\"Earth\",\"Earth\",\"Earth\",\"Earth\",\"Earth\",\"Mars\",\"Earth\",\"Earth\",\"Earth\",\"Earth\",\"Europa\",\"Europa\",\"Europa\",\"Earth\",\"Earth\",\"Mars\",\"Europa\",\"Europa\",\"Europa\",\"Earth\",\"Earth\",\"Earth\",\"Earth\",\"Mars\",null,\"Earth\",\"Earth\",\"Earth\",\"Mars\",\"Earth\",\"Earth\",\"Earth\",\"Mars\",\"Earth\",\"Earth\",\"Earth\",\"Earth\",\"Europa\",\"Europa\",\"Earth\",\"Europa\",\"Mars\",\"Mars\",\"Earth\",\"Earth\",\"Earth\",\"Earth\",\"Mars\",\"Mars\",\"Mars\",\"Mars\",\"Earth\",\"Earth\",\"Earth\",\"Earth\",\"Earth\",\"Earth\",\"Earth\",\"Earth\",\"Europa\",\"Earth\",\"Europa\",\"Earth\",\"Earth\",\"Earth\",\"Earth\",\"Mars\",\"Europa\",\"Earth\",\"Earth\",\"Earth\",\"Earth\",\"Earth\",\"Earth\",\"Earth\",\"Earth\",\"Earth\",\"Earth\",\"Europa\",\"Europa\",\"Europa\",\"Europa\",\"Europa\",\"Earth\",\"Earth\",\"Europa\",\"Europa\",\"Europa\",\"Earth\",\"Earth\",\"Earth\",\"Earth\",\"Earth\",\"Earth\",\"Earth\",\"Earth\",\"Earth\",\"Earth\",\"Europa\",\"Europa\",\"Europa\",\"Europa\",\"Europa\",\"Mars\",\"Earth\",\"Earth\",\"Earth\",\"Earth\",\"Earth\",\"Earth\",\"Earth\",\"Mars\",\"Mars\",\"Earth\",\"Earth\",\"Earth\",\"Earth\",\"Europa\",\"Mars\",\"Mars\",\"Earth\",\"Earth\",\"Europa\",\"Europa\",\"Europa\",\"Europa\",\"Earth\",\"Earth\",\"Earth\",\"Europa\",\"Europa\",\"Europa\",\"Europa\",\"Europa\",\"Earth\",\"Earth\",\"Europa\",\"Europa\",\"Mars\",\"Mars\",\"Earth\",\"Earth\",\"Earth\",\"Earth\",\"Earth\",\"Mars\",null,\"Mars\",\"Mars\",\"Mars\",\"Mars\",\"Europa\",\"Europa\",\"Europa\",\"Earth\",\"Earth\",\"Earth\",\"Earth\",\"Earth\",\"Europa\",\"Earth\",\"Earth\",\"Europa\",\"Europa\",\"Europa\",\"Europa\",\"Europa\",\"Europa\",\"Earth\",\"Earth\",\"Europa\",\"Mars\",\"Mars\",\"Mars\",null,\"Earth\",\"Earth\",\"Earth\",\"Europa\",\"Earth\",\"Mars\",\"Earth\",\"Earth\",\"Mars\",\"Earth\",\"Earth\",\"Earth\",\"Earth\",\"Earth\",\"Earth\",\"Earth\",\"Earth\",\"Mars\",\"Earth\",\"Mars\",\"Mars\",\"Europa\",\"Europa\",\"Earth\",\"Earth\",\"Earth\",\"Earth\",\"Earth\",\"Earth\",\"Europa\",\"Earth\",\"Earth\",\"Mars\",\"Earth\",\"Earth\",\"Earth\",\"Earth\",\"Earth\",\"Europa\",\"Europa\",\"Earth\",\"Earth\",\"Earth\",\"Europa\",\"Europa\",\"Europa\",\"Earth\",\"Earth\",null,\"Mars\",\"Mars\",\"Earth\",\"Earth\",\"Europa\",\"Europa\",\"Earth\",\"Earth\",\"Europa\",\"Earth\",\"Europa\",\"Europa\",\"Earth\",\"Mars\",\"Earth\",\"Europa\",\"Earth\",\"Earth\",\"Earth\",\"Earth\",\"Earth\",\"Europa\",\"Europa\",null,\"Europa\",\"Earth\",\"Earth\",\"Earth\",\"Earth\",\"Europa\",\"Europa\",\"Europa\",\"Europa\",\"Earth\",\"Earth\",\"Earth\",\"Earth\",\"Europa\",\"Europa\",\"Earth\",\"Earth\",\"Mars\",\"Earth\",\"Mars\",\"Earth\",\"Earth\",\"Europa\",\"Earth\",\"Earth\",\"Mars\",\"Earth\",\"Earth\",\"Europa\",\"Earth\",\"Earth\",\"Earth\",\"Europa\",\"Europa\",\"Europa\",\"Europa\",\"Europa\",\"Europa\",\"Europa\",\"Earth\",\"Earth\",\"Earth\",\"Earth\",\"Europa\",\"Earth\",\"Earth\",\"Earth\",\"Earth\",\"Europa\",\"Europa\",\"Europa\",\"Earth\",\"Europa\",\"Europa\",\"Europa\",\"Mars\",\"Mars\",\"Europa\",\"Europa\",\"Earth\",\"Earth\",\"Europa\",\"Europa\",\"Europa\",\"Europa\",\"Mars\",\"Mars\",\"Mars\",\"Earth\",\"Earth\",\"Earth\",\"Earth\",\"Mars\",\"Earth\",\"Europa\",\"Mars\",\"Earth\",\"Earth\",\"Mars\",\"Mars\",\"Earth\",\"Earth\",\"Earth\",\"Earth\",null,\"Earth\",\"Europa\",\"Europa\",null,\"Mars\",\"Mars\",\"Earth\",\"Earth\",\"Mars\",\"Mars\",\"Mars\",\"Earth\",\"Mars\",\"Mars\",\"Europa\",\"Earth\",\"Earth\",\"Earth\",\"Mars\",\"Europa\",\"Europa\",\"Europa\",\"Earth\",\"Mars\",\"Earth\",\"Earth\",\"Earth\",\"Earth\",\"Europa\",\"Europa\",\"Mars\",\"Earth\",\"Earth\",\"Mars\",\"Mars\",\"Mars\",\"Mars\",\"Mars\",\"Mars\",\"Mars\",\"Mars\",\"Earth\",\"Earth\",\"Earth\",\"Earth\",\"Earth\",\"Earth\",\"Mars\",null,\"Earth\",\"Earth\",\"Earth\",\"Mars\",\"Mars\",\"Earth\",\"Earth\",\"Earth\",\"Earth\",\"Mars\",\"Mars\",\"Earth\",\"Mars\",\"Mars\",\"Earth\",\"Europa\",\"Mars\",\"Earth\",\"Earth\",\"Earth\",\"Mars\",\"Earth\",\"Earth\",\"Mars\",\"Europa\",\"Europa\",\"Europa\",\"Europa\",\"Europa\",\"Europa\",\"Europa\",\"Earth\",\"Earth\",\"Earth\",\"Earth\",\"Earth\",\"Earth\",\"Earth\",\"Earth\",\"Europa\",\"Europa\",\"Europa\",\"Europa\",null,\"Earth\",\"Earth\",\"Earth\",\"Mars\",\"Earth\",\"Earth\",\"Earth\",\"Mars\",\"Europa\",\"Earth\",\"Earth\",\"Earth\",\"Earth\",\"Earth\",\"Earth\",\"Mars\",\"Mars\",\"Mars\",\"Mars\",\"Mars\",\"Mars\",\"Europa\",\"Earth\",\"Earth\",\"Earth\",\"Earth\",\"Earth\",\"Earth\",\"Earth\",\"Earth\",\"Earth\",\"Earth\",\"Europa\",\"Europa\",\"Mars\",\"Earth\",\"Europa\",\"Europa\",\"Earth\",\"Earth\",\"Earth\",\"Earth\",\"Europa\",\"Europa\",\"Europa\",\"Europa\",\"Europa\",\"Mars\",\"Earth\",\"Mars\",\"Mars\",\"Mars\",\"Earth\",\"Mars\",\"Earth\",\"Earth\",\"Europa\",\"Europa\",\"Europa\",\"Europa\",\"Earth\",\"Mars\",null,\"Mars\",\"Earth\",\"Earth\",\"Mars\",\"Mars\",\"Earth\",\"Earth\",\"Earth\",\"Earth\",\"Earth\",\"Earth\",\"Mars\",\"Mars\",\"Mars\",\"Europa\",\"Europa\",\"Europa\",\"Mars\",\"Mars\",\"Earth\",\"Earth\",\"Earth\",\"Earth\",\"Earth\",\"Mars\",\"Mars\",\"Earth\",\"Earth\",\"Earth\",\"Earth\",\"Europa\",\"Europa\",\"Europa\",\"Europa\",\"Europa\",\"Earth\",\"Europa\",\"Europa\",\"Europa\",\"Earth\",\"Earth\",\"Earth\",\"Europa\",\"Earth\",\"Earth\",\"Earth\",\"Mars\",\"Earth\",\"Europa\",\"Europa\",\"Europa\",\"Europa\",\"Mars\",\"Europa\",\"Europa\",\"Earth\",\"Earth\",\"Earth\",\"Europa\",\"Earth\",\"Earth\",\"Earth\",\"Earth\",\"Mars\",\"Earth\",\"Earth\",\"Earth\",\"Earth\",\"Earth\",null,\"Mars\",\"Europa\",\"Earth\",\"Mars\",\"Earth\",\"Europa\",\"Earth\",\"Earth\",\"Earth\",\"Earth\",\"Earth\",\"Earth\",\"Earth\",\"Earth\",\"Mars\",\"Mars\",\"Europa\",\"Europa\",\"Earth\",\"Earth\",\"Europa\",\"Earth\",\"Earth\",\"Earth\",\"Mars\",\"Mars\",\"Mars\",\"Mars\",\"Mars\",\"Mars\",\"Earth\",null,\"Earth\",\"Europa\",\"Europa\",\"Europa\",\"Europa\",\"Earth\",\"Mars\",\"Earth\",\"Earth\",\"Earth\",\"Earth\",\"Mars\",\"Mars\",\"Earth\",\"Europa\",\"Earth\",\"Earth\",\"Mars\",\"Earth\",\"Mars\",\"Earth\",\"Earth\",\"Mars\",\"Earth\",null,\"Earth\",\"Mars\",\"Earth\",\"Earth\",\"Mars\",\"Earth\",\"Mars\",\"Mars\",\"Earth\",\"Earth\",\"Europa\",\"Earth\",\"Earth\",\"Europa\",\"Europa\",\"Europa\",\"Europa\",\"Europa\",\"Europa\",\"Europa\",\"Europa\",\"Mars\",\"Earth\",\"Earth\",\"Earth\",\"Europa\",\"Mars\",\"Mars\",\"Mars\",\"Mars\",\"Mars\",\"Mars\",\"Mars\",\"Europa\",null,\"Earth\",\"Earth\",\"Earth\",\"Earth\",\"Earth\",\"Earth\",\"Earth\",\"Earth\",\"Europa\",\"Europa\",\"Mars\",\"Earth\",\"Earth\",\"Earth\",\"Earth\",\"Mars\",\"Europa\",\"Europa\",\"Europa\",\"Earth\",\"Earth\",\"Earth\",\"Earth\",\"Mars\",\"Mars\",\"Mars\",null,\"Earth\",\"Earth\",\"Europa\",\"Earth\",\"Earth\",\"Earth\",\"Earth\",\"Earth\",\"Earth\",\"Earth\",\"Earth\",\"Europa\",null,\"Earth\",\"Earth\",\"Earth\",\"Earth\",\"Earth\",\"Earth\",\"Europa\",\"Europa\",\"Europa\",\"Earth\",\"Earth\",\"Earth\",\"Earth\",\"Earth\",\"Earth\",\"Earth\",\"Earth\",\"Europa\",\"Europa\",\"Europa\",\"Europa\",\"Earth\",\"Earth\",\"Mars\",\"Mars\",\"Earth\",\"Earth\",\"Earth\",\"Earth\",\"Mars\",\"Mars\",\"Mars\",\"Earth\",\"Mars\",\"Earth\",\"Earth\",\"Mars\",\"Earth\",\"Mars\",\"Earth\",\"Earth\",\"Europa\",\"Earth\",\"Earth\",\"Earth\",\"Mars\",\"Earth\",\"Earth\",\"Earth\",\"Earth\",\"Mars\",\"Earth\",\"Earth\",\"Earth\",\"Earth\",\"Earth\",\"Earth\",\"Earth\",\"Mars\",\"Earth\",\"Mars\",\"Earth\",\"Europa\",\"Earth\",\"Earth\",\"Europa\",\"Earth\",\"Earth\",\"Earth\",\"Earth\",\"Earth\",\"Mars\",\"Mars\",\"Earth\",\"Mars\",\"Earth\",\"Earth\",\"Europa\",\"Earth\",\"Earth\",\"Earth\",\"Earth\",\"Earth\",\"Earth\",\"Earth\",\"Earth\",\"Europa\",\"Earth\",\"Earth\",\"Earth\",\"Earth\",\"Earth\",\"Earth\",\"Earth\",\"Earth\",\"Earth\",\"Earth\",\"Earth\",\"Mars\",\"Earth\",\"Earth\",\"Earth\",\"Earth\",\"Earth\",\"Earth\",\"Earth\",\"Earth\",\"Earth\",\"Earth\",\"Earth\",\"Earth\",\"Earth\",\"Earth\",\"Mars\",\"Earth\",\"Earth\",\"Mars\",\"Europa\",\"Europa\",\"Earth\",\"Mars\",\"Mars\",\"Mars\",\"Mars\",\"Mars\",\"Earth\",\"Earth\",\"Europa\",\"Mars\",\"Earth\",\"Earth\",\"Europa\",\"Earth\",null,\"Earth\",\"Earth\",\"Earth\",\"Earth\",\"Europa\",\"Europa\",\"Earth\",\"Europa\",\"Mars\",\"Earth\",\"Earth\",\"Earth\",\"Earth\",\"Earth\",\"Earth\",\"Europa\",\"Europa\",\"Europa\",\"Earth\",\"Mars\",\"Mars\",\"Mars\",\"Mars\",\"Earth\",\"Earth\",\"Europa\",\"Europa\",\"Earth\",\"Earth\",\"Earth\",\"Earth\",\"Mars\",\"Mars\",\"Mars\",\"Earth\",\"Earth\",\"Earth\",\"Europa\",\"Europa\",\"Europa\",\"Earth\",\"Europa\",\"Europa\",\"Earth\",\"Europa\",\"Earth\",null,\"Mars\",\"Earth\",\"Earth\",\"Mars\",\"Europa\",\"Europa\",\"Europa\",\"Mars\",\"Earth\",\"Earth\",\"Earth\",\"Mars\",\"Earth\",\"Earth\",\"Earth\",\"Mars\",\"Europa\",\"Earth\",\"Earth\",\"Earth\",\"Earth\",\"Europa\",\"Europa\",\"Earth\",\"Earth\",\"Earth\",\"Europa\",\"Europa\",\"Mars\",\"Earth\",\"Earth\",\"Earth\",\"Earth\",\"Europa\",\"Mars\",\"Mars\",\"Mars\",\"Earth\",\"Mars\",\"Europa\",\"Earth\",null,\"Mars\",\"Earth\",\"Earth\",\"Earth\",\"Europa\",\"Mars\",\"Earth\",\"Earth\",\"Europa\",\"Europa\",\"Earth\",\"Earth\",\"Earth\",\"Earth\",\"Mars\",\"Earth\",\"Earth\",\"Earth\",\"Mars\",\"Earth\",\"Earth\",\"Europa\",\"Europa\",\"Earth\",\"Earth\",\"Earth\",\"Europa\",\"Europa\",\"Europa\",\"Earth\",\"Mars\",\"Mars\",null,\"Mars\",\"Mars\",\"Mars\",\"Mars\",\"Earth\",\"Earth\",\"Earth\",\"Mars\",\"Mars\",\"Mars\",\"Mars\",\"Mars\",\"Mars\",\"Mars\",\"Europa\",\"Europa\",\"Europa\",\"Earth\",\"Europa\",\"Europa\",\"Europa\",\"Europa\",\"Europa\",\"Europa\",\"Europa\",\"Europa\",\"Europa\",\"Europa\",\"Europa\",\"Earth\",\"Earth\",\"Earth\",\"Earth\",\"Earth\",\"Earth\",\"Mars\",\"Mars\",\"Earth\",\"Earth\",\"Earth\",\"Earth\",\"Earth\",\"Mars\",\"Earth\",\"Earth\",\"Earth\",\"Earth\",\"Earth\",null,\"Europa\",\"Mars\",\"Europa\",\"Europa\",\"Europa\",null,\"Earth\",\"Europa\",\"Mars\",\"Europa\",null,\"Mars\",\"Mars\",\"Mars\",\"Mars\",\"Mars\",\"Earth\",\"Earth\",\"Earth\",\"Earth\",\"Mars\",\"Mars\",\"Mars\",\"Earth\",\"Earth\",\"Earth\",\"Europa\",\"Europa\",\"Earth\",\"Europa\",\"Earth\",\"Europa\",\"Mars\",\"Mars\",\"Earth\",\"Earth\",\"Earth\",\"Europa\",\"Europa\",\"Europa\",\"Earth\",\"Earth\",\"Earth\",\"Europa\",\"Europa\",\"Europa\",\"Earth\",\"Earth\",\"Earth\",\"Earth\",\"Earth\",\"Earth\",\"Earth\",\"Earth\",\"Earth\",\"Earth\",\"Europa\",\"Europa\",\"Europa\",\"Mars\",\"Earth\",\"Mars\",\"Europa\",\"Europa\",\"Earth\",\"Earth\",\"Earth\",\"Earth\",\"Europa\",\"Europa\",\"Earth\",\"Earth\",\"Earth\",\"Europa\",\"Mars\",\"Mars\",\"Earth\",\"Europa\",\"Earth\",\"Earth\",\"Mars\",\"Mars\",\"Earth\",\"Europa\",null,\"Europa\",\"Earth\",\"Earth\",\"Earth\",\"Earth\",\"Earth\",\"Earth\",\"Mars\",\"Earth\",\"Earth\",\"Earth\",\"Europa\",\"Earth\",\"Earth\",\"Earth\",\"Mars\",\"Mars\",\"Earth\",\"Earth\",\"Mars\",\"Mars\",\"Mars\",\"Mars\",\"Earth\",\"Earth\",\"Mars\",\"Earth\",\"Europa\",\"Europa\",\"Mars\",\"Europa\",\"Europa\",\"Europa\",\"Europa\",\"Mars\",\"Europa\",\"Europa\",\"Europa\",\"Mars\",\"Earth\",\"Earth\",\"Earth\",\"Earth\",\"Earth\",\"Earth\",\"Europa\",\"Mars\",\"Earth\",\"Earth\",\"Earth\",\"Europa\",\"Europa\",\"Earth\",\"Europa\",\"Mars\",\"Earth\",\"Europa\",\"Europa\",\"Europa\",\"Mars\",\"Earth\",\"Europa\",\"Earth\",null,\"Earth\",\"Earth\",\"Mars\",\"Earth\",\"Earth\",\"Europa\",\"Europa\",null,\"Europa\",\"Europa\",\"Mars\",\"Mars\",\"Earth\",\"Earth\",\"Earth\",\"Europa\",\"Europa\",\"Europa\",\"Mars\",\"Europa\",\"Mars\",\"Mars\",\"Mars\",\"Earth\",\"Earth\",\"Earth\",\"Earth\",\"Earth\",\"Earth\",\"Earth\",\"Earth\",\"Mars\",\"Mars\",\"Mars\",\"Earth\",\"Earth\",\"Earth\",\"Earth\",\"Earth\",\"Earth\",\"Europa\",\"Earth\",\"Mars\",\"Europa\",\"Earth\",\"Earth\",\"Earth\",\"Mars\",\"Europa\",\"Europa\",\"Europa\",\"Mars\",\"Mars\",\"Europa\",\"Europa\",\"Europa\",\"Mars\",\"Earth\",\"Earth\",\"Earth\",\"Earth\",\"Earth\",\"Earth\",\"Mars\",null,\"Europa\",\"Europa\",\"Europa\",\"Earth\",\"Earth\",\"Europa\",\"Europa\",\"Europa\",\"Europa\",\"Europa\",\"Earth\",\"Earth\",\"Mars\",\"Europa\",\"Europa\",\"Europa\",\"Europa\",null,\"Earth\",\"Europa\",\"Earth\",\"Earth\",\"Earth\",\"Mars\",\"Earth\",\"Europa\",\"Europa\",\"Earth\",\"Europa\",\"Europa\",\"Europa\",\"Europa\",\"Earth\",\"Europa\",\"Europa\",\"Earth\",\"Earth\",\"Earth\",\"Mars\",\"Mars\",\"Earth\",\"Earth\",\"Earth\",\"Europa\",\"Europa\",\"Earth\",\"Earth\",\"Mars\",\"Earth\",\"Earth\",\"Earth\",\"Earth\",\"Earth\",\"Mars\",\"Mars\",\"Mars\",\"Mars\",\"Earth\",\"Earth\",\"Europa\",\"Europa\",\"Earth\",\"Earth\",\"Mars\",\"Earth\",\"Earth\",\"Earth\",\"Earth\",\"Earth\",\"Earth\",\"Earth\",\"Earth\",\"Earth\",\"Earth\",\"Earth\",null,\"Mars\",\"Europa\",\"Europa\",\"Mars\",\"Mars\",\"Mars\",\"Mars\",\"Mars\",\"Mars\",\"Mars\",\"Europa\",\"Europa\",\"Europa\",\"Mars\",\"Earth\",\"Earth\",\"Earth\",\"Earth\",\"Earth\",\"Earth\",\"Earth\",\"Earth\",\"Earth\",\"Earth\",\"Earth\",\"Europa\",\"Earth\",\"Europa\",\"Earth\",\"Earth\",\"Earth\",\"Earth\",\"Earth\",\"Earth\",\"Earth\",\"Europa\",\"Europa\",\"Mars\",\"Earth\",\"Earth\",\"Earth\",\"Earth\",\"Earth\",\"Mars\",\"Europa\",\"Earth\",\"Earth\",\"Europa\",\"Earth\",\"Earth\",\"Europa\",\"Europa\",\"Europa\",\"Earth\",\"Earth\",\"Earth\",\"Mars\",\"Europa\",\"Europa\",\"Europa\",\"Earth\",\"Earth\",\"Earth\",\"Mars\",\"Earth\",\"Earth\",\"Mars\",\"Mars\",\"Europa\",\"Europa\",\"Europa\",\"Mars\",\"Europa\",\"Europa\",\"Mars\",\"Mars\",\"Mars\",\"Mars\",\"Earth\",\"Europa\",\"Europa\",\"Europa\",\"Europa\",\"Europa\",null,\"Earth\",\"Earth\",\"Europa\",\"Europa\",\"Earth\",\"Earth\",\"Europa\",\"Europa\",\"Earth\",\"Earth\",\"Europa\",\"Earth\",\"Earth\",\"Earth\",\"Europa\",\"Mars\",\"Earth\",\"Earth\",\"Mars\",\"Earth\",\"Europa\",\"Mars\",\"Europa\",\"Europa\",\"Europa\",\"Europa\",\"Europa\",null,\"Europa\",\"Europa\",\"Earth\",\"Europa\",\"Europa\",\"Europa\",\"Europa\",\"Europa\",\"Europa\",\"Earth\",\"Earth\",\"Earth\",\"Mars\",\"Europa\",\"Earth\",\"Earth\",\"Europa\",\"Earth\",\"Earth\",\"Europa\",\"Europa\",\"Earth\",null,\"Earth\",\"Earth\",\"Europa\",\"Earth\",\"Earth\",\"Europa\",\"Europa\",null,\"Earth\",\"Earth\",\"Earth\",\"Europa\",\"Europa\",\"Earth\",\"Earth\",\"Earth\",\"Earth\",\"Earth\",\"Earth\",\"Earth\",\"Earth\",\"Europa\",\"Europa\",\"Europa\",\"Earth\",\"Earth\",\"Earth\",\"Earth\",\"Earth\",\"Earth\",\"Earth\",\"Earth\",\"Earth\",\"Europa\",\"Europa\",\"Earth\",\"Earth\",\"Earth\",\"Europa\",\"Earth\",\"Europa\",\"Mars\",\"Mars\",\"Mars\",\"Mars\",\"Mars\",\"Earth\",\"Europa\",\"Europa\",\"Europa\",\"Earth\",\"Europa\",\"Europa\",\"Earth\",\"Mars\",\"Mars\",\"Mars\",\"Mars\",\"Earth\",\"Europa\",\"Earth\",\"Earth\",\"Mars\",\"Earth\",\"Mars\",\"Mars\",\"Mars\",\"Earth\",\"Earth\",\"Earth\",\"Earth\",\"Mars\",\"Earth\",\"Earth\",\"Earth\",\"Earth\",\"Earth\",\"Europa\",\"Europa\",\"Europa\",\"Europa\",\"Europa\",\"Mars\",\"Mars\",\"Europa\",\"Europa\",\"Europa\",\"Europa\",\"Earth\",\"Mars\",\"Mars\",\"Earth\",\"Mars\",\"Mars\",\"Mars\",\"Europa\",\"Europa\",\"Europa\",\"Earth\",\"Mars\",\"Europa\",\"Europa\",\"Mars\",\"Mars\",\"Earth\",\"Mars\",\"Europa\",\"Europa\",\"Earth\",\"Earth\",\"Earth\",\"Mars\",\"Mars\",\"Earth\",\"Earth\",\"Earth\",\"Earth\",\"Earth\",\"Earth\",\"Mars\",\"Mars\",\"Mars\",\"Mars\",\"Earth\",\"Earth\",\"Europa\",\"Mars\",\"Mars\",\"Europa\",\"Europa\",\"Europa\",\"Europa\",\"Europa\",\"Europa\",\"Mars\",\"Europa\",\"Europa\",\"Earth\",\"Earth\",\"Europa\",\"Earth\",\"Earth\",\"Europa\",\"Europa\",\"Earth\",\"Earth\",\"Mars\",\"Mars\",\"Earth\",\"Mars\",\"Mars\",\"Mars\",\"Earth\",\"Earth\",\"Earth\",\"Earth\",\"Earth\",\"Earth\",\"Mars\",\"Earth\",\"Europa\",\"Earth\",\"Earth\",\"Mars\",\"Mars\",\"Mars\",\"Mars\",\"Mars\",null,\"Mars\",\"Earth\",\"Earth\",\"Earth\",\"Mars\",\"Earth\",\"Mars\",\"Earth\",\"Mars\",\"Mars\",\"Earth\",\"Earth\",null,\"Europa\",\"Europa\",\"Europa\",\"Mars\",\"Europa\",\"Earth\",\"Earth\",\"Earth\",\"Earth\",\"Earth\",\"Earth\",\"Earth\",\"Europa\",\"Earth\",\"Earth\",\"Earth\",\"Europa\",\"Earth\",\"Earth\",\"Earth\",\"Earth\",\"Earth\",\"Europa\",\"Mars\",\"Mars\",\"Earth\",\"Mars\",\"Mars\",\"Earth\",\"Earth\",\"Mars\",\"Europa\",null,\"Mars\",\"Mars\",\"Earth\",\"Earth\",\"Europa\",\"Earth\",\"Earth\",\"Earth\",\"Europa\",\"Europa\",\"Earth\",\"Earth\",\"Earth\",\"Earth\",\"Earth\",\"Earth\",\"Earth\",\"Earth\",\"Earth\",\"Earth\",\"Earth\",\"Earth\",\"Earth\",\"Earth\",\"Earth\",\"Europa\",\"Earth\",\"Mars\",\"Mars\",\"Mars\",\"Earth\",\"Mars\",\"Europa\",\"Earth\",\"Earth\",\"Mars\",\"Mars\",\"Mars\",\"Mars\",\"Mars\",\"Mars\",\"Mars\",\"Mars\",\"Mars\",\"Mars\",\"Europa\",\"Europa\",\"Mars\",\"Mars\",\"Mars\",null,\"Mars\",\"Mars\",\"Earth\",\"Earth\",\"Earth\",\"Earth\",\"Earth\",\"Mars\",\"Earth\",\"Earth\",\"Mars\",\"Europa\",\"Europa\",\"Europa\",\"Earth\",\"Earth\",\"Earth\",\"Mars\",\"Mars\",\"Earth\",\"Earth\",\"Earth\",\"Mars\",\"Earth\",\"Mars\",\"Earth\",\"Earth\",\"Europa\",\"Earth\",\"Earth\",\"Europa\",\"Europa\",\"Earth\",\"Earth\",\"Earth\",\"Earth\",\"Earth\",\"Earth\",\"Earth\",\"Earth\",\"Earth\",\"Earth\",\"Earth\",\"Earth\",\"Earth\",\"Earth\",\"Earth\",\"Earth\",\"Europa\",\"Earth\",\"Earth\",\"Earth\",\"Mars\",\"Europa\",\"Earth\",\"Earth\",\"Earth\",\"Earth\",\"Europa\",\"Earth\",\"Europa\",\"Europa\",\"Europa\",\"Mars\",\"Mars\",\"Mars\",\"Mars\",\"Earth\",\"Earth\",null,\"Mars\",\"Europa\",\"Mars\",\"Mars\",\"Earth\",\"Earth\",\"Earth\",\"Europa\",\"Earth\",\"Earth\",\"Earth\",\"Europa\",\"Europa\",\"Earth\",\"Earth\",\"Earth\",\"Earth\",\"Mars\",\"Mars\",\"Mars\",\"Mars\",\"Europa\",\"Europa\",\"Earth\",\"Earth\",\"Earth\",\"Earth\",\"Earth\",\"Mars\",\"Mars\",\"Mars\",\"Earth\",\"Mars\",\"Mars\",\"Mars\",\"Earth\",\"Europa\",\"Europa\",\"Europa\",\"Europa\",\"Europa\",\"Europa\",\"Earth\",\"Earth\",\"Europa\",\"Europa\",\"Europa\",\"Earth\",\"Earth\",\"Earth\",\"Earth\",\"Earth\",\"Earth\",\"Mars\",\"Mars\",\"Earth\",\"Earth\",\"Earth\",\"Europa\",\"Europa\",\"Earth\",\"Mars\",\"Earth\",\"Europa\",\"Europa\",\"Earth\",\"Earth\",null,\"Earth\",\"Earth\",\"Earth\",\"Earth\",\"Europa\",\"Mars\",\"Earth\",\"Earth\",\"Earth\",\"Europa\",\"Earth\",\"Earth\",\"Earth\",\"Earth\",\"Earth\",\"Europa\",\"Europa\",\"Europa\",\"Europa\",\"Europa\",\"Europa\",\"Europa\",\"Europa\",\"Mars\",\"Mars\",\"Mars\",\"Earth\",\"Earth\",\"Earth\",\"Europa\",\"Earth\",\"Earth\",\"Mars\",\"Mars\",\"Earth\",\"Earth\",\"Earth\",\"Earth\",\"Earth\",\"Earth\",\"Earth\",\"Earth\",\"Earth\",\"Earth\",\"Earth\",\"Earth\",null,\"Europa\",\"Earth\",\"Mars\",\"Mars\",\"Mars\",\"Mars\",\"Earth\",\"Earth\",\"Earth\",\"Earth\",\"Earth\",\"Mars\",\"Europa\",\"Mars\",\"Europa\",\"Europa\",\"Earth\",\"Earth\",\"Earth\",\"Mars\",\"Mars\",\"Mars\",\"Earth\",\"Earth\",\"Earth\",\"Mars\",\"Earth\",\"Earth\",\"Earth\",\"Mars\",\"Europa\",\"Europa\",\"Earth\",\"Earth\",\"Europa\",\"Europa\",\"Earth\",\"Europa\",\"Earth\",\"Earth\",\"Earth\",\"Mars\",\"Earth\",null,\"Earth\",\"Earth\",\"Earth\",\"Earth\",\"Mars\",\"Europa\",\"Europa\",\"Europa\",\"Earth\",\"Earth\",\"Earth\",\"Mars\",\"Europa\",\"Earth\",\"Earth\",\"Earth\",\"Earth\",\"Earth\",\"Earth\",\"Earth\",\"Earth\",\"Earth\",\"Earth\",\"Earth\",\"Europa\",\"Europa\",\"Earth\",\"Earth\",\"Earth\",\"Earth\",\"Earth\",\"Earth\",\"Europa\",\"Europa\",\"Earth\",\"Mars\",\"Earth\",\"Mars\",\"Mars\",\"Mars\",\"Earth\",\"Mars\",\"Earth\",\"Earth\",\"Earth\",\"Mars\",\"Mars\",\"Earth\",\"Earth\",\"Earth\",\"Earth\",\"Earth\",\"Earth\",\"Earth\",\"Earth\",\"Mars\",\"Earth\",\"Earth\",\"Earth\",\"Earth\",\"Mars\",\"Mars\",\"Mars\",\"Earth\",\"Earth\",\"Europa\",\"Europa\",\"Europa\",\"Europa\",\"Mars\",\"Mars\",\"Europa\",\"Europa\",\"Earth\",\"Earth\",\"Earth\",\"Earth\",\"Earth\",\"Europa\",\"Europa\",\"Earth\",\"Earth\",\"Earth\",\"Mars\",\"Earth\",\"Earth\",\"Earth\",\"Europa\",\"Earth\",\"Europa\",\"Earth\",\"Earth\",\"Earth\",\"Earth\",\"Earth\",\"Earth\",\"Earth\",\"Earth\",\"Earth\",\"Earth\",\"Europa\",\"Earth\",\"Earth\",\"Earth\",\"Earth\",\"Europa\",\"Europa\",\"Earth\",\"Earth\",\"Earth\",\"Earth\",\"Earth\",\"Mars\",\"Mars\",\"Earth\",\"Europa\",\"Mars\",\"Europa\",\"Earth\",\"Europa\",\"Earth\",\"Mars\",\"Europa\",\"Europa\",\"Mars\",\"Mars\",\"Earth\",\"Mars\",\"Europa\",\"Earth\",\"Earth\",\"Earth\",\"Earth\",\"Earth\",\"Mars\",\"Earth\",\"Earth\",\"Mars\",\"Europa\",\"Europa\",\"Mars\",\"Mars\",\"Earth\",\"Europa\",\"Mars\",\"Europa\",\"Mars\",\"Europa\",\"Europa\",\"Mars\",\"Mars\",\"Earth\",\"Earth\",\"Earth\",null,\"Mars\",\"Earth\",\"Europa\",\"Mars\",\"Earth\",\"Europa\",\"Europa\",null,\"Europa\",\"Earth\",\"Mars\",\"Earth\",\"Europa\",\"Europa\",\"Europa\",\"Earth\",\"Mars\",\"Earth\",\"Europa\",\"Europa\",\"Mars\",\"Mars\",\"Earth\",\"Mars\",\"Mars\",\"Earth\",\"Earth\",\"Earth\",\"Mars\",\"Mars\",\"Mars\",\"Mars\",\"Mars\",\"Mars\",\"Mars\",\"Earth\",\"Mars\",\"Earth\",null,\"Mars\",\"Mars\",\"Mars\",\"Europa\",\"Earth\",\"Earth\",\"Earth\",\"Earth\",\"Earth\",\"Earth\",\"Earth\",\"Earth\",\"Mars\",\"Mars\",\"Mars\",\"Mars\",\"Mars\",\"Earth\",\"Earth\",\"Europa\",\"Mars\",\"Mars\",\"Mars\",null,\"Earth\",null,\"Mars\",\"Mars\",\"Earth\",\"Earth\",\"Earth\",\"Mars\",\"Earth\",\"Mars\",\"Earth\",\"Earth\",\"Earth\",\"Earth\",\"Europa\",\"Earth\",null,\"Earth\",\"Mars\",\"Mars\",\"Earth\",null,\"Europa\",\"Earth\",\"Mars\",\"Mars\",\"Earth\",\"Earth\",\"Europa\",\"Mars\",\"Earth\",\"Mars\",null,\"Mars\",\"Europa\",\"Europa\",\"Europa\",\"Europa\",\"Europa\",\"Earth\",\"Europa\",\"Europa\",\"Earth\",\"Earth\",\"Earth\",\"Earth\",\"Earth\",\"Earth\",\"Earth\",\"Mars\",\"Earth\",\"Europa\",\"Earth\",\"Mars\",\"Earth\",\"Mars\",\"Europa\",\"Europa\",\"Europa\",\"Europa\",\"Earth\",\"Earth\",\"Mars\",\"Earth\",\"Earth\",\"Earth\",\"Earth\",\"Europa\",\"Europa\",\"Earth\",\"Mars\",\"Earth\",\"Earth\",\"Europa\",\"Mars\",\"Earth\",\"Earth\",\"Earth\",\"Earth\",\"Earth\",\"Europa\",\"Europa\",\"Earth\",\"Earth\",\"Earth\",\"Earth\",\"Earth\",\"Mars\",\"Earth\",\"Earth\",\"Earth\",\"Earth\",\"Earth\",\"Earth\",\"Earth\",\"Earth\",\"Earth\",\"Earth\",\"Earth\",\"Earth\",\"Earth\",\"Earth\",\"Europa\",\"Mars\",\"Mars\",\"Mars\",\"Mars\",\"Earth\",\"Earth\",\"Earth\",\"Mars\",\"Mars\",\"Mars\",\"Mars\",\"Europa\",\"Earth\",\"Mars\",\"Europa\",\"Mars\",\"Earth\",\"Earth\",\"Earth\",\"Europa\",\"Earth\",\"Earth\",\"Mars\",\"Mars\",\"Mars\",null,\"Earth\",\"Earth\",\"Earth\",\"Mars\",\"Europa\",\"Europa\",\"Europa\",\"Europa\",\"Europa\",\"Europa\",\"Europa\",\"Europa\",\"Earth\",\"Earth\",\"Mars\",\"Earth\",\"Earth\",\"Mars\",\"Mars\",\"Earth\",\"Earth\",\"Europa\",\"Earth\",\"Europa\",\"Earth\",\"Earth\",\"Earth\",\"Earth\",\"Earth\",\"Earth\",\"Mars\",\"Earth\",\"Earth\",\"Europa\",\"Earth\",\"Europa\",\"Earth\",\"Earth\",\"Earth\",\"Earth\",\"Earth\",\"Europa\",\"Europa\",null,\"Europa\",\"Europa\",\"Earth\",\"Earth\",\"Europa\",\"Europa\",\"Europa\",\"Europa\",\"Earth\",\"Earth\",\"Earth\",\"Earth\",\"Earth\",\"Earth\",\"Earth\",\"Earth\",\"Mars\",\"Mars\",\"Mars\",\"Mars\",\"Mars\",\"Earth\",\"Earth\",\"Earth\",\"Earth\",\"Earth\",\"Earth\",\"Earth\",\"Europa\",\"Europa\",\"Europa\",\"Mars\",\"Mars\",\"Mars\",\"Mars\",\"Earth\",\"Mars\",\"Europa\",\"Europa\",\"Europa\",\"Europa\",\"Europa\",\"Earth\",\"Earth\",\"Earth\",\"Earth\",\"Earth\",\"Earth\",\"Earth\",\"Earth\",\"Earth\",\"Earth\",\"Europa\",\"Earth\",\"Earth\",\"Earth\",\"Europa\",\"Mars\",\"Earth\",\"Earth\",\"Earth\",\"Earth\",\"Earth\",null,\"Europa\",\"Europa\",\"Europa\",\"Earth\",\"Mars\",\"Mars\",\"Earth\",\"Earth\",\"Earth\",\"Mars\",\"Earth\",\"Earth\",\"Earth\",\"Earth\",\"Earth\",\"Earth\",\"Mars\",\"Earth\",\"Earth\",\"Earth\",\"Earth\",\"Earth\",\"Earth\",\"Europa\",\"Earth\",\"Earth\",\"Europa\",\"Earth\",\"Earth\",\"Earth\",\"Earth\",\"Earth\",\"Earth\",\"Earth\",\"Earth\",\"Earth\",\"Earth\",\"Earth\",\"Europa\",\"Europa\",\"Earth\",\"Mars\",\"Earth\",\"Earth\",\"Europa\",\"Earth\",\"Earth\",\"Mars\",\"Earth\",\"Earth\",\"Earth\",\"Earth\",\"Earth\",\"Earth\",\"Europa\",\"Europa\",\"Earth\",\"Earth\",\"Europa\",\"Europa\",\"Earth\",\"Earth\",\"Earth\",\"Earth\",\"Europa\",\"Earth\",\"Earth\",\"Earth\",\"Earth\",\"Earth\",\"Earth\",\"Earth\",\"Earth\",\"Earth\",\"Earth\",\"Earth\",\"Earth\",\"Earth\",\"Europa\",\"Earth\",\"Earth\",\"Earth\",\"Europa\",\"Earth\",\"Europa\",\"Europa\",\"Europa\",\"Europa\",\"Earth\",\"Mars\",\"Europa\",\"Earth\",\"Earth\",\"Earth\",\"Earth\",\"Europa\",\"Europa\",\"Europa\",\"Earth\",\"Earth\",\"Earth\",\"Earth\",\"Mars\",\"Europa\",\"Earth\",\"Europa\",\"Europa\",\"Europa\",\"Earth\",\"Mars\",null,\"Earth\",\"Mars\",\"Earth\",\"Earth\",\"Earth\",\"Earth\",\"Earth\",\"Earth\",\"Earth\",\"Earth\",null,\"Europa\",\"Europa\",\"Earth\",\"Earth\",\"Earth\",\"Earth\",\"Earth\",\"Earth\",\"Earth\",\"Mars\",\"Mars\",\"Mars\",\"Mars\",\"Mars\",\"Mars\",\"Mars\",\"Earth\",\"Mars\",\"Earth\",\"Europa\",\"Earth\",\"Europa\",\"Earth\",\"Earth\",\"Earth\",\"Europa\",null,\"Earth\",\"Earth\",\"Earth\",\"Earth\",\"Earth\",\"Earth\",\"Europa\",\"Earth\",\"Europa\",\"Earth\",\"Europa\",\"Europa\",\"Earth\",\"Earth\",\"Mars\",\"Earth\",\"Earth\",\"Earth\",\"Earth\",\"Earth\",\"Earth\",\"Earth\",\"Europa\",\"Europa\",\"Europa\",\"Earth\",\"Earth\",\"Mars\",\"Mars\",\"Mars\",\"Earth\",\"Earth\",\"Earth\",\"Earth\",\"Earth\",\"Earth\",\"Earth\",\"Earth\",\"Earth\",\"Mars\",\"Mars\",\"Mars\",\"Earth\",\"Europa\",\"Mars\",\"Earth\",\"Earth\",\"Earth\",\"Earth\",\"Earth\",\"Earth\",\"Earth\",\"Earth\",\"Earth\",\"Earth\",\"Mars\",\"Mars\",\"Earth\",\"Earth\",\"Mars\",\"Mars\",\"Earth\",\"Earth\",\"Earth\",\"Earth\",\"Europa\",\"Earth\",\"Mars\",\"Mars\",\"Mars\",\"Earth\",\"Mars\",\"Earth\",\"Earth\",\"Earth\",\"Earth\",\"Earth\",\"Earth\",\"Earth\",\"Earth\",\"Earth\",\"Europa\",\"Earth\",\"Earth\",\"Europa\",\"Earth\",\"Earth\",\"Earth\",\"Earth\",\"Mars\",\"Earth\",\"Europa\",\"Europa\",\"Europa\",\"Europa\",\"Europa\",\"Europa\",\"Europa\",\"Europa\",\"Europa\",\"Europa\",\"Earth\",\"Europa\",\"Europa\",\"Europa\",\"Europa\",\"Mars\",\"Earth\",\"Earth\",\"Earth\",null,\"Earth\",\"Earth\",\"Earth\",\"Earth\",\"Earth\",\"Mars\",\"Europa\",\"Mars\",\"Mars\",\"Earth\",\"Earth\",\"Mars\",\"Mars\",\"Mars\",\"Mars\",\"Mars\",\"Earth\",\"Europa\",\"Europa\",\"Europa\",\"Europa\",\"Europa\",\"Europa\",\"Europa\",\"Europa\",\"Mars\",\"Earth\",\"Earth\",\"Earth\",\"Earth\",\"Earth\",\"Earth\",\"Earth\",\"Earth\",\"Europa\",\"Mars\",\"Earth\",\"Mars\",\"Mars\",\"Europa\",\"Mars\",\"Europa\",\"Europa\",\"Europa\",\"Europa\",\"Europa\",\"Mars\",null,\"Mars\",\"Mars\",\"Mars\",\"Mars\",\"Mars\",\"Earth\",\"Europa\",\"Earth\",\"Mars\",null,\"Earth\",\"Europa\",\"Earth\",\"Mars\",\"Earth\",\"Earth\",\"Earth\",\"Earth\",\"Mars\",\"Mars\",\"Earth\",\"Earth\",\"Mars\",\"Europa\",\"Europa\",\"Earth\",\"Earth\",\"Earth\",\"Earth\",\"Earth\",\"Europa\",\"Europa\",\"Earth\",\"Earth\",\"Mars\",\"Mars\",\"Earth\",\"Earth\",\"Earth\",\"Earth\",\"Earth\",\"Earth\",\"Earth\",\"Earth\",\"Earth\",\"Earth\",\"Earth\",\"Mars\",\"Europa\",\"Europa\",\"Europa\",\"Europa\",\"Europa\",\"Europa\",\"Earth\",\"Earth\",\"Earth\",\"Earth\",\"Earth\",\"Earth\",\"Earth\",\"Earth\",null,\"Earth\",null,\"Earth\",\"Mars\",\"Mars\",\"Mars\",\"Mars\",\"Mars\",\"Earth\",\"Earth\",\"Europa\",null,\"Europa\",\"Mars\",\"Earth\",\"Earth\",\"Earth\",\"Mars\",\"Mars\",\"Earth\",\"Europa\",\"Earth\",\"Mars\",\"Earth\",\"Earth\",\"Mars\",\"Europa\",\"Europa\",\"Europa\",\"Mars\",\"Earth\",\"Earth\",\"Mars\",\"Mars\",\"Europa\",null,\"Europa\",\"Europa\",\"Europa\",\"Earth\",\"Earth\",\"Mars\",\"Mars\",\"Earth\",\"Mars\",\"Europa\",\"Earth\",\"Earth\",\"Earth\",\"Earth\",\"Earth\",\"Europa\",\"Earth\",\"Mars\",\"Earth\",\"Earth\",\"Earth\",\"Earth\",\"Earth\",\"Europa\",\"Europa\",\"Europa\",\"Mars\",\"Mars\",\"Mars\",\"Mars\",\"Earth\",\"Earth\",\"Earth\",\"Earth\",\"Earth\",\"Europa\",\"Europa\",\"Earth\",null,\"Europa\",\"Europa\",\"Earth\",\"Europa\",\"Europa\",\"Europa\",\"Europa\",\"Europa\",\"Mars\",\"Mars\",\"Mars\",\"Europa\",\"Mars\",\"Mars\",\"Earth\",\"Europa\",\"Europa\",\"Earth\",\"Mars\",\"Earth\",\"Europa\",\"Europa\",\"Earth\",\"Earth\",\"Europa\",\"Mars\",\"Earth\",\"Earth\",\"Earth\",\"Earth\",\"Earth\",\"Earth\",\"Earth\",\"Earth\",\"Earth\",\"Mars\",\"Europa\",\"Europa\",\"Europa\",\"Europa\",\"Europa\",\"Europa\",\"Earth\",\"Earth\",\"Earth\",\"Europa\",\"Europa\",\"Mars\",\"Mars\",\"Earth\",\"Earth\",\"Europa\",\"Europa\",\"Europa\",\"Earth\",\"Earth\",\"Mars\",\"Earth\",\"Earth\",\"Earth\",\"Earth\",\"Earth\",\"Earth\",\"Earth\",\"Earth\",\"Earth\",\"Earth\",\"Earth\",\"Europa\",\"Earth\",\"Earth\",\"Earth\",\"Earth\",\"Earth\",\"Earth\",\"Mars\",\"Earth\",\"Europa\",\"Earth\",\"Europa\",\"Earth\",\"Earth\",\"Mars\",\"Earth\",\"Europa\",\"Europa\",\"Europa\",\"Europa\",\"Earth\",\"Earth\",\"Mars\",\"Mars\",\"Europa\",\"Europa\",\"Europa\",\"Europa\",\"Mars\",\"Earth\",\"Mars\",\"Mars\",\"Mars\",\"Mars\",\"Mars\",\"Earth\",\"Europa\",\"Europa\",\"Mars\",\"Earth\",\"Earth\",\"Earth\",\"Earth\",\"Earth\",\"Mars\",\"Earth\",\"Earth\",\"Earth\",\"Earth\",\"Earth\",\"Mars\",\"Mars\",\"Europa\",\"Mars\",\"Earth\",\"Mars\",\"Mars\",\"Earth\",\"Earth\",\"Earth\",\"Earth\",\"Mars\",\"Earth\",\"Earth\",\"Earth\",\"Earth\",\"Mars\",\"Mars\",\"Mars\",\"Europa\",\"Europa\",\"Earth\",\"Mars\",null,\"Europa\",null,\"Earth\",\"Earth\",\"Earth\",\"Mars\",\"Earth\",\"Earth\",\"Europa\",\"Mars\",\"Mars\",\"Mars\",\"Earth\",\"Earth\",\"Europa\",\"Earth\",\"Earth\",\"Mars\",\"Earth\",\"Earth\",\"Europa\",\"Europa\",\"Earth\",\"Earth\",\"Earth\",\"Earth\",\"Europa\",\"Earth\",\"Europa\",\"Mars\",\"Earth\",\"Earth\",\"Earth\",\"Earth\",\"Earth\",\"Earth\",\"Earth\",\"Earth\",\"Europa\",\"Europa\",\"Europa\",\"Earth\",\"Earth\",\"Earth\",\"Earth\",\"Earth\",\"Earth\",\"Europa\",null,\"Europa\",\"Earth\",\"Earth\",\"Earth\",\"Earth\",\"Mars\",\"Europa\",\"Europa\",\"Europa\",\"Earth\",\"Europa\",\"Europa\",\"Earth\",\"Earth\",\"Earth\",\"Earth\",\"Earth\",\"Earth\",\"Mars\",\"Earth\",\"Earth\",\"Earth\",\"Earth\",\"Earth\",\"Europa\",\"Earth\",\"Earth\",\"Earth\",\"Earth\",\"Earth\",\"Earth\",\"Earth\",\"Earth\",\"Earth\",null,\"Europa\",\"Europa\",\"Mars\",\"Mars\",\"Earth\",\"Earth\",\"Mars\",\"Mars\",\"Earth\",\"Europa\",\"Mars\",\"Earth\",\"Europa\",\"Earth\",\"Earth\",null,\"Earth\",\"Europa\",\"Europa\",\"Europa\",\"Earth\",\"Earth\",null,\"Earth\",\"Earth\",\"Earth\",\"Earth\",\"Earth\",\"Europa\",\"Earth\",\"Mars\",\"Mars\",\"Earth\",\"Earth\",\"Mars\",\"Earth\",\"Europa\",\"Europa\",\"Europa\",\"Europa\",\"Earth\",null,\"Mars\",\"Earth\",\"Earth\",\"Earth\",\"Earth\",\"Earth\",\"Mars\",\"Earth\",\"Earth\",\"Earth\",\"Earth\",\"Earth\",\"Earth\",\"Earth\",\"Earth\",\"Earth\",\"Earth\",\"Europa\",\"Europa\",\"Earth\",\"Earth\",\"Earth\",\"Earth\",null,\"Earth\",null,\"Earth\",\"Earth\",\"Earth\",\"Europa\",\"Europa\",\"Earth\",\"Earth\",\"Earth\",\"Earth\",\"Earth\",\"Europa\",\"Earth\",\"Mars\",\"Earth\",\"Earth\",\"Earth\",\"Europa\",\"Europa\",\"Mars\",\"Mars\",\"Mars\",\"Mars\",\"Earth\",\"Europa\",\"Europa\",\"Earth\",\"Earth\",\"Earth\",\"Earth\",\"Europa\",\"Mars\",\"Mars\",\"Earth\",\"Earth\",\"Earth\",\"Earth\",\"Earth\",\"Earth\",\"Earth\",\"Earth\",\"Earth\",\"Earth\",\"Earth\",\"Earth\",\"Earth\",\"Earth\",\"Earth\",\"Earth\",\"Earth\",\"Earth\",\"Earth\",\"Mars\",\"Mars\",\"Europa\",\"Europa\",\"Mars\",\"Earth\",\"Earth\",\"Earth\",\"Earth\",\"Earth\",\"Europa\",\"Earth\",\"Earth\",\"Mars\",\"Earth\",\"Earth\",\"Mars\",\"Mars\",\"Earth\",\"Earth\",\"Mars\",\"Mars\",\"Mars\",\"Mars\",\"Earth\",\"Earth\",\"Europa\",\"Europa\",\"Mars\",\"Mars\",\"Europa\",\"Europa\",\"Mars\",\"Earth\",\"Earth\",\"Mars\",\"Mars\",\"Mars\",\"Earth\",\"Earth\",\"Earth\",\"Europa\",\"Earth\",\"Europa\",\"Europa\",\"Europa\",null,\"Earth\",\"Earth\",\"Mars\",\"Earth\",\"Earth\",\"Earth\",\"Earth\",\"Earth\",\"Earth\",\"Europa\",\"Earth\",\"Earth\",\"Earth\",\"Europa\",null,\"Europa\",\"Mars\",\"Europa\",\"Europa\",\"Earth\",\"Earth\",\"Earth\",\"Earth\",\"Earth\",\"Earth\",\"Earth\",\"Earth\",\"Earth\",\"Earth\",\"Mars\",\"Earth\",\"Mars\",\"Europa\",\"Earth\",\"Earth\",\"Europa\",\"Earth\",\"Earth\",\"Mars\",\"Earth\",\"Mars\",\"Mars\",null,\"Earth\",\"Mars\",\"Mars\",\"Europa\",\"Earth\",\"Earth\",\"Europa\",null,\"Earth\",\"Earth\",\"Earth\",\"Mars\",\"Mars\",\"Earth\",\"Earth\",\"Earth\",\"Earth\",\"Earth\",\"Earth\",\"Earth\",\"Europa\",\"Mars\",\"Mars\",\"Earth\",\"Europa\",\"Europa\",\"Europa\",\"Earth\",\"Earth\",\"Earth\",\"Earth\",\"Europa\",\"Europa\",\"Earth\",\"Mars\",\"Earth\",\"Earth\",\"Earth\",\"Earth\",\"Mars\",\"Europa\",\"Earth\",\"Earth\",\"Mars\",\"Europa\",\"Earth\",\"Earth\",\"Mars\",\"Earth\",\"Earth\",\"Earth\",\"Earth\",\"Mars\",\"Earth\",\"Europa\",\"Earth\",\"Earth\",\"Earth\",\"Earth\",null,\"Earth\",\"Earth\",\"Earth\",\"Earth\",\"Earth\",\"Earth\",\"Europa\",\"Europa\",\"Europa\",null,\"Europa\",\"Europa\",\"Mars\",\"Earth\",\"Earth\",\"Europa\",\"Europa\",\"Earth\",\"Earth\",\"Earth\",\"Earth\",\"Earth\",\"Earth\",\"Earth\",\"Earth\",\"Earth\",\"Earth\",\"Earth\",\"Mars\",\"Europa\",\"Mars\",\"Earth\",\"Earth\",\"Earth\",\"Earth\",\"Earth\",\"Earth\",\"Earth\",\"Europa\",\"Europa\",\"Europa\",\"Europa\",\"Europa\",\"Earth\",\"Earth\",\"Earth\",\"Earth\",\"Mars\",\"Mars\",\"Mars\",\"Mars\",\"Mars\",\"Mars\",\"Mars\",\"Earth\",\"Europa\",\"Europa\",\"Europa\",\"Europa\",\"Europa\",\"Earth\",\"Earth\",\"Europa\",\"Earth\",\"Earth\",\"Earth\",\"Europa\",\"Europa\",\"Europa\",\"Earth\",\"Europa\",\"Earth\",\"Earth\",\"Earth\",\"Earth\",\"Mars\",\"Earth\",\"Europa\",\"Europa\",\"Earth\",\"Europa\",\"Europa\",\"Europa\",\"Europa\",\"Europa\",\"Europa\",\"Earth\",\"Mars\",\"Earth\",\"Earth\",\"Earth\",\"Earth\",\"Mars\",\"Europa\",\"Earth\",\"Europa\",\"Europa\",\"Europa\",\"Europa\",\"Europa\",\"Europa\",\"Earth\",\"Earth\",\"Europa\",\"Europa\",\"Europa\",\"Earth\",\"Earth\",\"Europa\",\"Europa\",\"Europa\",\"Europa\",\"Mars\",\"Earth\",\"Earth\",\"Earth\",\"Earth\",\"Mars\",\"Mars\",\"Mars\",\"Mars\",\"Mars\",\"Earth\",\"Earth\",\"Europa\",\"Mars\",\"Mars\",\"Mars\",\"Mars\",\"Earth\",\"Earth\",\"Mars\",\"Mars\",\"Europa\",\"Europa\",\"Europa\",\"Earth\",\"Earth\",\"Earth\",\"Mars\",\"Earth\",\"Mars\",\"Mars\",\"Mars\",\"Earth\",\"Earth\",\"Mars\",\"Mars\",\"Mars\",\"Earth\",\"Earth\",\"Earth\",\"Earth\",\"Earth\",\"Earth\",\"Earth\",\"Earth\",\"Earth\",\"Earth\",\"Europa\",\"Europa\",\"Europa\",\"Europa\",\"Europa\",\"Europa\",\"Earth\",\"Earth\",\"Earth\",\"Earth\",\"Earth\",\"Earth\",\"Earth\",\"Earth\",\"Earth\",\"Earth\",\"Earth\",\"Earth\",\"Mars\",\"Mars\",\"Mars\",\"Earth\",\"Earth\",\"Europa\",\"Earth\",\"Europa\",\"Europa\",\"Europa\",\"Earth\",\"Earth\",\"Mars\",\"Mars\",\"Mars\",null,\"Mars\",\"Earth\",\"Mars\",\"Earth\",\"Earth\",\"Earth\",\"Earth\",\"Earth\",\"Earth\",\"Earth\",\"Earth\",\"Earth\",\"Earth\",\"Earth\",\"Earth\",\"Mars\",\"Mars\",\"Earth\",\"Europa\",\"Europa\",\"Europa\",\"Europa\",\"Earth\",\"Earth\",\"Earth\",\"Earth\",\"Mars\",\"Earth\",\"Earth\",\"Mars\",\"Earth\",\"Mars\",\"Mars\",\"Europa\",\"Europa\",\"Mars\",\"Europa\",\"Earth\",\"Earth\",\"Earth\",\"Earth\",\"Europa\",\"Mars\",\"Earth\",\"Europa\",\"Europa\",\"Europa\",\"Europa\",\"Earth\",\"Earth\",\"Earth\",\"Earth\",\"Earth\",\"Europa\",\"Europa\",\"Europa\",\"Europa\",\"Europa\",\"Europa\",\"Earth\",\"Earth\",\"Earth\",\"Europa\",\"Earth\",\"Mars\",\"Mars\",\"Mars\",\"Mars\",\"Earth\",\"Mars\",\"Earth\",\"Earth\",\"Mars\",\"Earth\",\"Europa\",\"Mars\",\"Mars\",\"Mars\",\"Europa\",\"Mars\",\"Mars\",\"Mars\",\"Europa\",\"Europa\",\"Europa\",\"Earth\",\"Mars\",\"Europa\",\"Earth\",\"Earth\",\"Earth\",\"Earth\",\"Mars\",\"Mars\",\"Mars\",\"Earth\",\"Europa\",\"Earth\",\"Mars\",\"Europa\",\"Mars\",\"Mars\",\"Mars\",\"Mars\",\"Earth\",\"Earth\",\"Europa\",\"Europa\",\"Europa\",\"Europa\",\"Europa\",\"Europa\",\"Earth\",\"Earth\",null,\"Earth\",\"Earth\",\"Earth\",\"Earth\",\"Earth\",\"Earth\",\"Europa\",\"Earth\",\"Mars\",\"Mars\",\"Earth\",\"Earth\",\"Mars\",\"Europa\",\"Europa\",\"Europa\",\"Earth\",\"Europa\",\"Europa\",\"Earth\",\"Europa\",\"Europa\",\"Europa\",\"Europa\",\"Mars\",null,\"Europa\",\"Earth\",\"Earth\",\"Mars\",\"Earth\",\"Earth\",\"Europa\",\"Earth\",\"Earth\",\"Mars\",\"Mars\",\"Europa\",\"Europa\",\"Europa\",\"Europa\",\"Europa\",\"Europa\",null,\"Earth\",\"Earth\",\"Earth\",\"Earth\",\"Earth\",\"Earth\",null,\"Earth\",\"Earth\",\"Mars\",\"Mars\",\"Mars\",null,\"Earth\",\"Europa\",\"Europa\",\"Earth\",\"Europa\",\"Europa\",null,\"Earth\",\"Earth\",\"Europa\",\"Europa\",\"Earth\",\"Earth\",\"Mars\",\"Mars\",\"Earth\",\"Mars\",\"Europa\",\"Earth\",\"Earth\",\"Earth\",null,\"Europa\",\"Europa\",\"Earth\",\"Earth\",\"Earth\",\"Earth\",\"Earth\",\"Europa\",\"Europa\",\"Earth\",\"Earth\",\"Mars\",\"Earth\",\"Earth\",\"Earth\",\"Earth\",\"Europa\",\"Europa\",\"Earth\",\"Europa\",\"Earth\",\"Earth\",\"Earth\",\"Earth\",\"Earth\",\"Earth\",\"Earth\",\"Mars\",\"Earth\",\"Mars\",\"Earth\",\"Earth\",\"Earth\",\"Mars\",\"Earth\",\"Mars\",\"Mars\",\"Earth\",\"Earth\",\"Earth\",\"Earth\",\"Mars\",\"Europa\",\"Earth\",\"Europa\",\"Mars\",\"Mars\",\"Earth\",\"Earth\",\"Earth\",\"Earth\",\"Earth\",\"Earth\",\"Earth\",\"Earth\",\"Earth\",\"Earth\",\"Earth\",\"Earth\",\"Earth\",\"Earth\",\"Earth\",\"Earth\",\"Earth\",\"Earth\",\"Europa\",\"Europa\",\"Earth\",\"Mars\",\"Mars\",\"Mars\",\"Earth\",\"Earth\",\"Earth\",\"Europa\",\"Earth\",\"Earth\",\"Earth\",\"Earth\",\"Europa\",\"Earth\",\"Europa\",\"Europa\",\"Europa\",\"Europa\",\"Europa\",\"Europa\",\"Europa\",\"Earth\",\"Earth\",null,\"Europa\",null,\"Mars\",\"Europa\",\"Earth\",\"Mars\",\"Earth\",\"Earth\",\"Earth\",\"Earth\",\"Europa\",\"Earth\",\"Earth\",\"Earth\",\"Europa\",\"Europa\",\"Earth\",\"Europa\",\"Europa\",\"Europa\",\"Europa\",\"Europa\",\"Earth\",\"Earth\",\"Earth\",\"Earth\",\"Earth\",\"Mars\",\"Mars\",\"Mars\",\"Mars\",\"Earth\",\"Europa\",\"Mars\",\"Mars\",\"Earth\",\"Earth\",\"Earth\",\"Mars\",\"Mars\",\"Mars\",\"Mars\",\"Mars\",\"Mars\",\"Europa\",\"Earth\",\"Europa\",\"Earth\",\"Mars\",\"Mars\",\"Europa\",\"Earth\",\"Earth\",\"Earth\",\"Earth\",\"Earth\",\"Europa\",\"Europa\",\"Europa\",\"Earth\",\"Earth\",\"Earth\",\"Mars\",\"Earth\",\"Earth\",\"Europa\",\"Europa\",\"Europa\",\"Earth\",\"Europa\",\"Europa\",\"Europa\",\"Europa\",\"Earth\",\"Earth\",\"Earth\",\"Earth\",\"Earth\",\"Mars\",\"Earth\",\"Europa\",\"Earth\",\"Earth\",\"Mars\",\"Earth\",\"Earth\",\"Earth\",\"Earth\",\"Earth\",\"Earth\",\"Mars\",\"Earth\",\"Mars\",\"Europa\",\"Europa\",\"Europa\",\"Europa\",\"Europa\",\"Europa\",\"Europa\",\"Europa\",\"Earth\",\"Europa\",\"Mars\",\"Mars\",\"Earth\",\"Earth\",\"Europa\",\"Mars\",\"Earth\",\"Europa\",\"Earth\",\"Mars\",\"Mars\",\"Mars\",\"Europa\",\"Mars\",\"Earth\",null,\"Mars\",\"Mars\",\"Mars\",\"Europa\",\"Earth\",\"Earth\",\"Earth\",\"Earth\",\"Earth\",\"Earth\",\"Earth\",\"Earth\",\"Europa\",\"Europa\",\"Earth\",\"Earth\",\"Earth\",\"Earth\",\"Earth\",\"Earth\",\"Earth\",\"Earth\",\"Europa\",\"Mars\",\"Mars\",\"Earth\",\"Earth\",\"Europa\",\"Europa\",\"Europa\",\"Europa\",\"Europa\",\"Europa\",\"Mars\",\"Mars\",\"Earth\",\"Earth\",\"Earth\",\"Mars\",\"Mars\",\"Earth\",\"Mars\",\"Earth\",\"Earth\",\"Earth\",\"Mars\",\"Mars\",\"Earth\",\"Mars\",\"Europa\",\"Earth\",\"Mars\",\"Earth\",\"Earth\",\"Europa\",\"Earth\",\"Mars\",\"Earth\",null,\"Mars\",\"Earth\",\"Earth\",null,null,\"Europa\",\"Mars\",\"Europa\",\"Europa\",\"Earth\",\"Earth\",\"Earth\",\"Earth\",\"Mars\",\"Earth\",\"Earth\",\"Europa\",\"Europa\",\"Europa\",\"Europa\",\"Earth\",\"Earth\",\"Earth\",\"Earth\",\"Earth\",\"Europa\",\"Europa\",\"Earth\",\"Earth\",\"Mars\",\"Mars\",\"Earth\",\"Earth\",\"Earth\",\"Mars\",\"Europa\",\"Earth\",\"Earth\",\"Earth\",\"Europa\",\"Earth\",\"Earth\",\"Earth\",\"Earth\",\"Earth\",\"Earth\",\"Europa\",\"Europa\",\"Europa\",\"Europa\",\"Europa\",\"Europa\",\"Europa\",\"Earth\",\"Earth\",\"Mars\",\"Europa\",\"Europa\",\"Earth\",\"Earth\",\"Earth\",\"Mars\",\"Earth\",\"Earth\",\"Europa\",\"Mars\",\"Earth\",\"Earth\",\"Earth\",\"Earth\",\"Earth\",\"Mars\",\"Europa\",\"Mars\",\"Earth\",\"Europa\",\"Europa\",\"Europa\",\"Earth\",\"Europa\",\"Europa\",\"Europa\",\"Earth\",\"Earth\",\"Earth\",\"Earth\",\"Earth\",\"Earth\",\"Mars\",\"Earth\",\"Earth\",\"Earth\",\"Europa\",\"Europa\",\"Europa\",\"Europa\",\"Europa\",\"Earth\",\"Mars\",\"Earth\",\"Europa\",\"Earth\",\"Europa\",\"Earth\",\"Earth\",\"Mars\",\"Mars\",\"Mars\",\"Earth\",\"Europa\",\"Mars\",\"Earth\",\"Mars\",\"Earth\",\"Europa\",\"Earth\",\"Earth\",\"Mars\",\"Mars\",\"Earth\",\"Mars\",\"Earth\",\"Mars\",\"Europa\",\"Mars\",\"Mars\",\"Mars\",\"Earth\",null,\"Earth\",\"Europa\",\"Europa\",\"Europa\",\"Earth\",\"Mars\",\"Mars\",\"Mars\",\"Earth\",\"Earth\",\"Earth\",\"Earth\",\"Europa\",\"Earth\",\"Mars\",\"Earth\",\"Earth\",\"Earth\",\"Mars\",\"Mars\",\"Earth\",\"Europa\",\"Europa\",\"Earth\",\"Earth\",\"Earth\",\"Earth\",\"Earth\",\"Earth\",\"Europa\",\"Europa\",\"Earth\",\"Earth\",\"Europa\",\"Europa\",\"Earth\",\"Earth\",\"Earth\",\"Mars\",\"Europa\",\"Europa\",\"Earth\",\"Earth\",\"Earth\",\"Earth\",\"Earth\",\"Earth\",\"Earth\",\"Earth\",\"Earth\",\"Europa\",\"Earth\",\"Mars\",\"Europa\",\"Europa\",\"Europa\",\"Europa\",\"Earth\",\"Earth\",\"Mars\",\"Mars\",\"Earth\",\"Earth\",\"Europa\",\"Europa\",\"Europa\",\"Earth\",\"Earth\",\"Earth\",\"Earth\",\"Mars\",\"Europa\",\"Europa\",null,\"Europa\",\"Europa\",\"Europa\",\"Europa\",\"Europa\",\"Earth\",\"Earth\",\"Earth\",\"Europa\",\"Earth\",\"Europa\",\"Europa\",\"Earth\",\"Earth\",\"Earth\",\"Mars\",\"Mars\",\"Mars\",\"Mars\",\"Mars\",\"Europa\",\"Europa\",\"Europa\",\"Earth\",\"Earth\",\"Mars\",\"Europa\",\"Earth\",\"Earth\",\"Europa\",\"Earth\",\"Earth\",\"Europa\",\"Mars\",\"Mars\",\"Earth\",\"Europa\",\"Mars\",null,\"Earth\",\"Europa\",\"Europa\",\"Earth\",\"Earth\",\"Europa\",\"Europa\",\"Earth\",\"Europa\",\"Europa\",\"Europa\",\"Earth\",\"Earth\",\"Earth\",\"Earth\",\"Earth\",\"Earth\",\"Earth\",\"Europa\",\"Earth\",\"Europa\",\"Earth\",\"Earth\",\"Mars\",\"Europa\",\"Earth\",\"Mars\",\"Earth\",\"Mars\",\"Earth\",\"Earth\",\"Earth\",\"Earth\",\"Europa\",\"Earth\",\"Earth\",\"Europa\",\"Earth\",\"Earth\",\"Earth\",\"Earth\",\"Mars\",\"Europa\",\"Europa\",\"Europa\",\"Earth\",\"Mars\",\"Mars\",\"Europa\",\"Europa\",\"Mars\",\"Earth\",\"Mars\",\"Earth\",\"Earth\",null,\"Mars\",\"Earth\",\"Earth\",\"Earth\",\"Earth\",\"Europa\",null,\"Europa\",\"Europa\",\"Earth\",\"Earth\",\"Europa\",\"Earth\",\"Mars\",\"Earth\",\"Mars\",\"Europa\",\"Mars\",\"Earth\",\"Europa\",\"Europa\",\"Europa\",\"Mars\",\"Mars\",\"Earth\",\"Earth\",\"Earth\",\"Mars\",\"Mars\",\"Earth\",\"Europa\",\"Europa\",\"Europa\",\"Mars\",\"Europa\",\"Europa\",\"Mars\",\"Mars\",\"Europa\",\"Earth\",\"Earth\",\"Europa\",\"Earth\",\"Europa\",\"Europa\",\"Earth\",\"Earth\",\"Earth\",\"Earth\",\"Earth\",\"Earth\",\"Earth\",\"Earth\",\"Earth\",\"Earth\",\"Earth\",\"Earth\",\"Mars\",\"Europa\",\"Europa\",\"Earth\",\"Mars\",\"Mars\",\"Earth\",\"Europa\",\"Europa\",\"Mars\",\"Mars\",\"Earth\",\"Earth\",\"Europa\",\"Europa\",\"Earth\",\"Earth\",null,\"Mars\",\"Mars\",\"Earth\",null,\"Earth\",\"Earth\",null,\"Mars\",\"Earth\",\"Earth\",\"Earth\",\"Earth\",\"Earth\",\"Mars\",\"Mars\",\"Earth\",\"Mars\",\"Earth\",\"Earth\",\"Earth\",\"Earth\",\"Earth\",null,\"Earth\",\"Earth\",\"Earth\",\"Earth\",\"Earth\",\"Earth\",null,\"Mars\",\"Mars\",\"Europa\",\"Europa\",\"Earth\",\"Earth\",\"Europa\",\"Europa\",\"Earth\",\"Earth\",\"Earth\",\"Earth\",\"Mars\",\"Mars\",\"Europa\",\"Earth\",\"Mars\",\"Mars\",\"Earth\",\"Mars\",\"Mars\",\"Earth\",null,\"Mars\",\"Mars\",\"Earth\",\"Earth\",\"Earth\",\"Earth\",null,\"Earth\",\"Earth\",\"Earth\",\"Europa\",\"Europa\",\"Europa\",\"Europa\",\"Earth\",\"Europa\",\"Earth\",\"Earth\",\"Earth\",\"Earth\",\"Earth\",\"Earth\",\"Earth\",null,\"Earth\",\"Europa\",\"Earth\",\"Earth\",\"Earth\",\"Earth\",\"Earth\",\"Earth\",\"Earth\",\"Mars\",\"Earth\",\"Earth\",\"Earth\",\"Europa\",\"Earth\",\"Earth\",\"Earth\",\"Earth\",\"Earth\",\"Mars\",\"Earth\",\"Earth\",\"Europa\",\"Earth\",\"Earth\",\"Earth\",\"Mars\",\"Earth\",\"Earth\",\"Earth\",\"Earth\",\"Earth\",\"Earth\",\"Earth\",\"Europa\",\"Europa\",\"Europa\",\"Mars\",\"Europa\",\"Earth\",\"Earth\",\"Earth\",\"Earth\",\"Earth\",\"Earth\",\"Mars\",\"Earth\",\"Mars\",\"Earth\",\"Earth\",\"Earth\",\"Europa\",\"Earth\",\"Earth\",\"Earth\",\"Earth\",\"Earth\",\"Europa\",\"Europa\",\"Earth\",\"Earth\",\"Europa\",\"Europa\",\"Europa\",\"Europa\",\"Europa\",\"Mars\",\"Earth\",\"Mars\",\"Earth\",null,\"Earth\",\"Earth\",\"Earth\",\"Mars\",\"Mars\",\"Earth\",\"Earth\",\"Earth\",\"Mars\",\"Earth\",\"Earth\",\"Earth\",\"Mars\",\"Europa\",\"Europa\",\"Europa\",null,\"Europa\",\"Europa\",\"Earth\",\"Earth\",\"Earth\",\"Europa\",\"Europa\",\"Europa\",\"Mars\",\"Mars\",\"Mars\",\"Mars\",\"Earth\",\"Mars\",\"Mars\",\"Europa\",\"Earth\",\"Earth\",\"Europa\",\"Europa\",\"Earth\",\"Europa\",\"Earth\",\"Europa\",\"Earth\",\"Earth\",\"Mars\",\"Mars\",\"Earth\",\"Earth\",\"Earth\",\"Earth\",\"Earth\",\"Earth\",\"Europa\",\"Mars\",\"Mars\",\"Mars\",\"Earth\",\"Europa\",\"Europa\",\"Europa\",\"Earth\",\"Earth\",\"Mars\",\"Earth\",\"Earth\",\"Europa\",\"Europa\",\"Earth\",\"Europa\",\"Mars\",\"Earth\",\"Earth\",\"Earth\",\"Earth\",\"Europa\",\"Europa\",\"Europa\",\"Mars\",\"Mars\",\"Mars\",\"Earth\",\"Earth\",\"Earth\",\"Europa\",\"Europa\",null,\"Europa\",\"Europa\",\"Europa\",\"Europa\",\"Earth\",\"Earth\",\"Earth\",\"Earth\",\"Earth\",\"Earth\",\"Earth\",\"Mars\",\"Mars\",\"Earth\",\"Europa\",\"Europa\",\"Europa\",\"Europa\",\"Earth\",null,\"Mars\",\"Mars\",\"Earth\",\"Mars\",\"Mars\",\"Mars\",\"Mars\",\"Earth\",\"Earth\",\"Europa\",\"Earth\",\"Europa\",\"Europa\",\"Earth\",\"Europa\",\"Europa\",\"Earth\",\"Earth\",\"Earth\",\"Europa\",\"Earth\",\"Earth\",\"Earth\",\"Europa\",\"Earth\",\"Earth\",\"Europa\",\"Mars\",\"Mars\",\"Earth\",\"Earth\",\"Europa\",\"Europa\",\"Europa\",\"Europa\",\"Europa\",\"Europa\",\"Europa\",\"Europa\",\"Europa\",\"Earth\",\"Mars\",\"Earth\",\"Earth\",\"Earth\",\"Earth\",\"Earth\",\"Europa\",\"Europa\",\"Mars\",\"Europa\",\"Europa\",\"Europa\",\"Earth\",\"Earth\",\"Earth\",\"Earth\",\"Europa\",\"Earth\",\"Europa\",\"Europa\",\"Europa\",\"Earth\",\"Earth\",\"Mars\",\"Earth\",\"Earth\",\"Earth\",\"Earth\",\"Earth\",\"Earth\",\"Earth\",\"Earth\",\"Mars\",\"Mars\",\"Europa\",\"Europa\",\"Europa\",\"Earth\",\"Earth\",\"Earth\",\"Earth\",\"Earth\",\"Earth\",\"Europa\",\"Europa\",\"Europa\",\"Europa\",\"Earth\",\"Earth\",\"Earth\",\"Earth\",\"Earth\",\"Earth\",\"Mars\",\"Mars\",\"Mars\",\"Earth\",\"Earth\",\"Earth\",\"Earth\",\"Earth\",\"Earth\",\"Earth\",\"Earth\",\"Earth\",\"Mars\",\"Earth\",\"Earth\",\"Europa\",\"Earth\",\"Mars\",\"Earth\",\"Earth\",\"Earth\",\"Earth\",\"Earth\",\"Earth\",\"Earth\",\"Earth\",\"Earth\",\"Earth\",\"Europa\",\"Europa\",\"Europa\",\"Earth\",\"Earth\",\"Earth\",\"Earth\",\"Earth\",\"Earth\",\"Earth\",\"Europa\",\"Europa\",\"Earth\",\"Earth\",\"Earth\",\"Earth\",\"Earth\",\"Earth\",\"Europa\",\"Europa\",null,\"Europa\",\"Europa\",\"Europa\",\"Europa\",\"Europa\",\"Europa\",\"Europa\",\"Earth\",\"Mars\",\"Earth\",\"Earth\",\"Mars\",\"Earth\",\"Earth\",\"Earth\",\"Europa\",\"Earth\",\"Earth\",\"Europa\",\"Earth\",\"Europa\",\"Mars\",\"Mars\",\"Mars\",\"Earth\",\"Mars\",\"Mars\",\"Mars\",\"Mars\",\"Earth\",\"Earth\",\"Earth\",\"Earth\",\"Earth\",\"Earth\",\"Earth\",\"Earth\",\"Earth\",\"Earth\",\"Earth\",\"Earth\",\"Earth\",\"Earth\",\"Earth\",\"Europa\",\"Earth\",\"Earth\",\"Earth\",\"Earth\",\"Earth\",\"Earth\",\"Mars\",\"Earth\",\"Mars\",\"Earth\",\"Earth\",\"Earth\",\"Earth\",\"Earth\",\"Mars\",\"Earth\",\"Earth\",\"Mars\",\"Mars\",\"Europa\",\"Europa\",\"Mars\",\"Earth\",\"Mars\",\"Mars\",\"Mars\",\"Earth\",\"Mars\",\"Europa\",\"Europa\",\"Earth\",\"Earth\",\"Earth\",null,\"Earth\",\"Mars\",\"Mars\",\"Mars\",\"Earth\",\"Earth\",\"Europa\",\"Mars\",\"Mars\",null,\"Mars\",\"Europa\",\"Europa\",\"Earth\",\"Earth\",\"Mars\",\"Earth\",\"Earth\",\"Earth\",\"Europa\",\"Europa\",\"Europa\",\"Earth\",\"Europa\",null,\"Earth\",\"Earth\",\"Earth\",\"Mars\",\"Mars\",\"Mars\",\"Mars\",\"Earth\",\"Earth\",\"Earth\",\"Europa\",null,\"Earth\",\"Earth\",\"Earth\",\"Earth\",\"Earth\",\"Earth\",\"Earth\",\"Europa\",\"Earth\",\"Mars\",\"Mars\",\"Mars\",\"Mars\",\"Mars\",\"Europa\",\"Europa\",\"Earth\",\"Europa\",\"Europa\",\"Europa\",\"Earth\",\"Mars\",\"Mars\",\"Mars\",\"Earth\",\"Earth\",\"Mars\",\"Europa\",\"Europa\",\"Earth\",\"Europa\",\"Europa\",\"Earth\",\"Europa\",\"Europa\",\"Earth\",\"Earth\",\"Earth\",\"Earth\",\"Earth\",\"Earth\",\"Earth\",\"Earth\",\"Mars\",\"Mars\",\"Earth\",\"Earth\",\"Europa\",\"Earth\",\"Mars\",\"Mars\",\"Earth\",\"Earth\",\"Earth\",\"Earth\",\"Europa\",\"Earth\",\"Earth\",\"Earth\",\"Earth\",\"Earth\",\"Earth\",\"Earth\",\"Earth\",\"Earth\",\"Earth\",\"Earth\",\"Earth\",\"Earth\",\"Europa\",\"Europa\",\"Earth\",\"Europa\",\"Europa\",\"Europa\",\"Europa\",\"Earth\",\"Earth\",\"Earth\",\"Mars\",\"Earth\",\"Earth\",\"Earth\",\"Earth\",\"Earth\",\"Earth\",\"Europa\",\"Europa\",\"Earth\",\"Earth\",\"Earth\",\"Earth\",\"Earth\",\"Earth\",\"Earth\",\"Earth\",\"Europa\",\"Europa\",\"Earth\",\"Earth\",\"Earth\",\"Mars\",\"Earth\",\"Mars\",\"Earth\",\"Earth\",\"Europa\",\"Europa\",\"Europa\",\"Mars\",\"Mars\",\"Europa\",\"Europa\",\"Europa\",\"Europa\",\"Earth\",\"Europa\",\"Earth\",\"Europa\",\"Europa\",\"Europa\",\"Europa\",\"Europa\",\"Europa\",\"Earth\",\"Earth\",\"Earth\",\"Earth\",\"Mars\",\"Mars\",\"Earth\",\"Earth\",\"Mars\",\"Earth\",\"Europa\",\"Europa\",\"Earth\",\"Earth\",\"Europa\",\"Europa\",\"Mars\",\"Earth\",\"Earth\",\"Earth\",\"Earth\",\"Europa\",\"Earth\",\"Europa\",\"Earth\",\"Europa\",\"Earth\",\"Mars\",\"Earth\",\"Earth\",\"Mars\",\"Europa\",\"Mars\",\"Mars\",\"Europa\",\"Europa\",\"Europa\",\"Earth\",\"Earth\",\"Earth\",\"Mars\",\"Mars\",\"Mars\",\"Earth\",\"Earth\",\"Earth\",\"Mars\",\"Earth\",\"Europa\",\"Earth\",\"Europa\",\"Europa\",\"Earth\",\"Mars\",\"Earth\",\"Europa\",\"Mars\",\"Mars\",\"Mars\",\"Earth\",\"Earth\",\"Mars\",\"Mars\",\"Mars\",\"Earth\",\"Earth\",\"Earth\",\"Mars\",\"Europa\",\"Mars\",\"Mars\",\"Earth\",\"Europa\",\"Europa\",\"Europa\",\"Europa\",\"Mars\",\"Mars\",\"Mars\",\"Earth\",\"Earth\",\"Earth\",\"Europa\",\"Earth\",\"Mars\",\"Europa\",\"Earth\",\"Earth\",\"Mars\",\"Mars\",\"Mars\",\"Mars\",\"Mars\",\"Mars\",\"Earth\",\"Europa\",\"Europa\",\"Earth\",\"Mars\",\"Mars\",null,\"Mars\",\"Europa\",\"Europa\",\"Earth\",\"Mars\",\"Europa\",\"Europa\",\"Earth\",\"Earth\",\"Earth\",\"Earth\",\"Earth\",\"Earth\",\"Earth\",\"Earth\",\"Earth\",\"Mars\",\"Mars\",\"Europa\",\"Europa\",\"Europa\",\"Europa\",\"Europa\",\"Earth\",\"Earth\",\"Earth\",\"Earth\",\"Earth\",\"Earth\",\"Earth\",null,\"Earth\",\"Earth\",\"Earth\",\"Earth\",\"Mars\",\"Mars\",\"Earth\",\"Europa\",\"Europa\",\"Europa\",\"Mars\",\"Earth\",\"Earth\",\"Earth\",\"Earth\",\"Earth\",\"Earth\",\"Mars\",\"Earth\",\"Earth\",\"Earth\",\"Mars\",null,\"Mars\",\"Mars\",\"Earth\",\"Earth\",\"Earth\",\"Mars\",\"Mars\",\"Earth\",\"Mars\",\"Mars\",\"Mars\",\"Earth\",\"Mars\",\"Earth\",\"Earth\",\"Earth\",\"Europa\",\"Europa\",\"Europa\",\"Europa\",\"Earth\",\"Earth\",\"Earth\",\"Europa\",\"Europa\",\"Europa\",\"Mars\",\"Mars\",\"Mars\",\"Earth\",\"Earth\",\"Earth\",\"Earth\",\"Earth\",\"Mars\",\"Mars\",\"Mars\",\"Mars\",\"Earth\",\"Earth\",\"Earth\",\"Earth\",\"Europa\",\"Earth\",\"Europa\",\"Mars\",\"Europa\",\"Mars\",\"Mars\",\"Mars\",\"Mars\",\"Earth\",\"Earth\",\"Earth\",\"Earth\",\"Earth\",\"Earth\",\"Earth\",\"Earth\",\"Earth\",\"Earth\",\"Mars\",\"Europa\",\"Mars\",\"Mars\",\"Earth\",\"Mars\",\"Mars\",\"Earth\",\"Earth\",\"Earth\",\"Mars\",\"Mars\",\"Earth\",\"Earth\",\"Europa\",\"Europa\",\"Europa\",\"Earth\",\"Europa\",\"Mars\",\"Mars\",\"Earth\",\"Earth\",\"Earth\",\"Earth\",\"Earth\",\"Earth\",\"Earth\",\"Earth\",\"Earth\",\"Earth\",\"Europa\",\"Europa\",\"Earth\",\"Earth\",\"Earth\",\"Earth\",\"Mars\",\"Mars\",\"Europa\",\"Europa\",\"Europa\",\"Earth\",\"Earth\",\"Mars\",\"Earth\",\"Earth\",\"Mars\",\"Earth\",\"Earth\",\"Earth\",\"Earth\",\"Europa\",\"Earth\",\"Mars\",\"Mars\",\"Earth\",\"Earth\",\"Mars\",\"Mars\",\"Mars\",\"Earth\",\"Earth\",\"Earth\",\"Earth\",\"Earth\",\"Earth\",\"Earth\",\"Earth\",\"Europa\",\"Europa\",\"Mars\",\"Earth\",\"Earth\",\"Earth\",\"Earth\",\"Earth\",\"Mars\",\"Mars\",\"Mars\",\"Earth\",\"Earth\",\"Europa\",\"Earth\",\"Earth\",\"Earth\",\"Europa\",\"Earth\",\"Earth\",\"Earth\",\"Earth\",\"Earth\",\"Earth\",\"Earth\",\"Earth\",\"Earth\",\"Earth\",\"Earth\",\"Earth\",\"Earth\",\"Earth\",\"Europa\",\"Earth\",\"Mars\",\"Earth\",\"Earth\",\"Earth\",\"Earth\",\"Mars\",\"Earth\",\"Earth\",\"Europa\",null,\"Europa\",\"Europa\",\"Europa\",\"Earth\",\"Earth\",\"Earth\",\"Earth\",\"Earth\",\"Europa\",\"Mars\",\"Earth\",\"Earth\",\"Europa\",\"Europa\",\"Europa\",\"Earth\",\"Earth\",\"Mars\",\"Mars\",\"Mars\",\"Earth\",\"Earth\",\"Earth\",\"Earth\",\"Earth\",\"Earth\",\"Earth\",\"Mars\",\"Europa\",\"Europa\",\"Earth\",\"Earth\",\"Earth\",null,\"Earth\",\"Mars\",\"Mars\",\"Mars\",\"Earth\",\"Earth\",\"Earth\",\"Europa\",\"Mars\",null,\"Mars\",\"Mars\",\"Europa\",\"Europa\",\"Europa\",\"Europa\",\"Europa\",\"Europa\",\"Earth\",\"Mars\",\"Earth\",\"Europa\",\"Europa\",\"Earth\",\"Earth\",\"Earth\",\"Earth\",\"Mars\",\"Earth\",\"Europa\",\"Earth\",\"Mars\",\"Earth\",null,\"Earth\",\"Mars\",\"Earth\",\"Earth\",\"Earth\",null,\"Earth\",\"Earth\",\"Earth\",\"Earth\",\"Mars\",\"Mars\",\"Earth\",\"Earth\",\"Earth\",\"Europa\",\"Earth\",\"Earth\",\"Earth\",\"Mars\",\"Earth\",\"Earth\",\"Earth\",\"Earth\",\"Europa\",\"Europa\",\"Earth\",\"Earth\",\"Earth\",\"Europa\",\"Earth\",\"Earth\",\"Europa\",null,\"Mars\",\"Earth\",\"Earth\",\"Mars\",\"Mars\",\"Mars\",\"Europa\",\"Earth\",\"Earth\",\"Earth\",\"Europa\",\"Europa\",\"Mars\",\"Europa\",\"Europa\",\"Earth\",\"Earth\",\"Earth\",\"Earth\",\"Earth\",\"Earth\",\"Earth\",\"Earth\",\"Earth\",\"Earth\",\"Europa\",\"Earth\",\"Earth\",\"Earth\",null,\"Earth\",\"Mars\",\"Mars\",\"Mars\",\"Mars\",\"Earth\",\"Europa\",\"Europa\",\"Europa\",\"Mars\",\"Earth\",\"Earth\",\"Earth\",\"Earth\",\"Mars\",\"Mars\",\"Earth\",\"Earth\",\"Earth\",\"Earth\",\"Earth\",\"Earth\",\"Europa\",\"Earth\",\"Earth\",\"Earth\",\"Earth\",\"Earth\",\"Earth\",\"Earth\",\"Earth\",\"Europa\",\"Europa\",\"Europa\",\"Europa\",\"Mars\",\"Earth\",\"Europa\",\"Earth\",\"Earth\",\"Earth\",\"Earth\",\"Mars\",\"Earth\",\"Earth\",\"Europa\",\"Europa\",\"Earth\",\"Earth\",\"Earth\",\"Earth\",\"Mars\",\"Earth\",\"Earth\",\"Earth\",\"Earth\",\"Earth\",\"Europa\",\"Europa\",\"Earth\",\"Earth\",\"Earth\",\"Mars\",\"Mars\",\"Earth\",\"Mars\",\"Earth\",\"Earth\",\"Mars\",\"Earth\",null,\"Earth\",\"Mars\",\"Europa\",\"Europa\",\"Europa\",\"Europa\",\"Europa\",\"Earth\",\"Earth\",\"Mars\",\"Europa\",\"Earth\",\"Europa\",null,\"Europa\",\"Europa\",\"Earth\",\"Europa\",\"Earth\",\"Earth\",\"Europa\",\"Europa\",\"Earth\",\"Earth\",\"Mars\",\"Earth\",\"Earth\",\"Europa\",\"Europa\",\"Europa\",\"Europa\",\"Europa\",\"Europa\",\"Earth\",null,\"Mars\",\"Mars\",\"Europa\",\"Europa\",\"Earth\",\"Earth\",\"Earth\",\"Earth\",\"Earth\",\"Earth\",\"Earth\",\"Earth\",\"Earth\",\"Earth\",\"Earth\",\"Earth\",\"Earth\",\"Earth\",\"Earth\",\"Earth\",\"Earth\",\"Earth\",\"Earth\",\"Earth\",\"Earth\",null,\"Europa\",\"Europa\",\"Europa\",\"Earth\",\"Earth\",\"Earth\",\"Mars\",\"Earth\",\"Earth\",\"Earth\",\"Earth\",\"Europa\",\"Earth\",\"Earth\",\"Earth\",\"Earth\",\"Earth\",\"Mars\",\"Mars\",\"Europa\",\"Earth\",\"Earth\",\"Earth\",\"Earth\",\"Earth\",\"Earth\",\"Earth\",\"Mars\",\"Mars\",\"Mars\",\"Mars\",\"Earth\",\"Earth\",\"Earth\",\"Earth\",\"Mars\",\"Europa\",\"Europa\",\"Mars\",\"Mars\",\"Earth\",\"Earth\",\"Mars\",\"Mars\",\"Earth\",\"Europa\",\"Earth\",\"Earth\",\"Earth\",\"Earth\",\"Europa\",\"Europa\",\"Earth\",\"Mars\",\"Earth\",\"Europa\",\"Earth\",\"Earth\",\"Earth\",\"Earth\",\"Earth\",\"Earth\",\"Earth\",\"Europa\",\"Earth\",\"Earth\",\"Earth\",\"Earth\",\"Earth\",\"Mars\",\"Earth\",\"Earth\",\"Europa\",\"Europa\",\"Mars\",\"Earth\",\"Earth\",\"Earth\",\"Earth\",\"Europa\",\"Earth\",\"Earth\",\"Earth\",\"Earth\",\"Earth\",\"Earth\",\"Mars\",\"Earth\",\"Europa\",\"Earth\",\"Earth\",\"Mars\",\"Earth\",\"Earth\",\"Earth\",\"Earth\",\"Earth\",null,\"Europa\",\"Mars\",\"Mars\",\"Europa\",\"Europa\",\"Europa\",\"Europa\",\"Europa\",\"Europa\",\"Europa\",\"Europa\",\"Earth\",\"Europa\",\"Mars\",\"Europa\",\"Europa\",\"Europa\",\"Earth\",\"Earth\",\"Earth\",\"Earth\",\"Earth\",\"Europa\",\"Earth\",\"Earth\",\"Earth\",\"Earth\",\"Earth\",\"Earth\",\"Mars\",\"Mars\",\"Earth\",\"Earth\",\"Earth\",\"Earth\",\"Earth\",\"Earth\",\"Earth\",\"Europa\",\"Mars\",\"Mars\",\"Mars\",\"Earth\",\"Earth\",\"Earth\",\"Earth\",\"Mars\",\"Mars\",\"Earth\",\"Earth\",\"Earth\",\"Earth\",null,\"Europa\",\"Mars\",\"Europa\",\"Europa\",\"Earth\",\"Earth\",\"Earth\",null,\"Earth\",\"Earth\",\"Europa\",\"Europa\",\"Europa\",\"Earth\",\"Earth\",\"Earth\",\"Earth\",null,\"Europa\",\"Europa\",\"Europa\",\"Europa\",\"Earth\",\"Earth\",\"Europa\",\"Europa\"],\"type\":\"pie\",\"textinfo\":\"percent+label\",\"textposition\":\"outside\"}],                        {\"template\":{\"data\":{\"bar\":[{\"error_x\":{\"color\":\"#2a3f5f\"},\"error_y\":{\"color\":\"#2a3f5f\"},\"marker\":{\"line\":{\"color\":\"#E5ECF6\",\"width\":0.5},\"pattern\":{\"fillmode\":\"overlay\",\"size\":10,\"solidity\":0.2}},\"type\":\"bar\"}],\"barpolar\":[{\"marker\":{\"line\":{\"color\":\"#E5ECF6\",\"width\":0.5},\"pattern\":{\"fillmode\":\"overlay\",\"size\":10,\"solidity\":0.2}},\"type\":\"barpolar\"}],\"carpet\":[{\"aaxis\":{\"endlinecolor\":\"#2a3f5f\",\"gridcolor\":\"white\",\"linecolor\":\"white\",\"minorgridcolor\":\"white\",\"startlinecolor\":\"#2a3f5f\"},\"baxis\":{\"endlinecolor\":\"#2a3f5f\",\"gridcolor\":\"white\",\"linecolor\":\"white\",\"minorgridcolor\":\"white\",\"startlinecolor\":\"#2a3f5f\"},\"type\":\"carpet\"}],\"choropleth\":[{\"colorbar\":{\"outlinewidth\":0,\"ticks\":\"\"},\"type\":\"choropleth\"}],\"contour\":[{\"colorbar\":{\"outlinewidth\":0,\"ticks\":\"\"},\"colorscale\":[[0.0,\"#0d0887\"],[0.1111111111111111,\"#46039f\"],[0.2222222222222222,\"#7201a8\"],[0.3333333333333333,\"#9c179e\"],[0.4444444444444444,\"#bd3786\"],[0.5555555555555556,\"#d8576b\"],[0.6666666666666666,\"#ed7953\"],[0.7777777777777778,\"#fb9f3a\"],[0.8888888888888888,\"#fdca26\"],[1.0,\"#f0f921\"]],\"type\":\"contour\"}],\"contourcarpet\":[{\"colorbar\":{\"outlinewidth\":0,\"ticks\":\"\"},\"type\":\"contourcarpet\"}],\"heatmap\":[{\"colorbar\":{\"outlinewidth\":0,\"ticks\":\"\"},\"colorscale\":[[0.0,\"#0d0887\"],[0.1111111111111111,\"#46039f\"],[0.2222222222222222,\"#7201a8\"],[0.3333333333333333,\"#9c179e\"],[0.4444444444444444,\"#bd3786\"],[0.5555555555555556,\"#d8576b\"],[0.6666666666666666,\"#ed7953\"],[0.7777777777777778,\"#fb9f3a\"],[0.8888888888888888,\"#fdca26\"],[1.0,\"#f0f921\"]],\"type\":\"heatmap\"}],\"heatmapgl\":[{\"colorbar\":{\"outlinewidth\":0,\"ticks\":\"\"},\"colorscale\":[[0.0,\"#0d0887\"],[0.1111111111111111,\"#46039f\"],[0.2222222222222222,\"#7201a8\"],[0.3333333333333333,\"#9c179e\"],[0.4444444444444444,\"#bd3786\"],[0.5555555555555556,\"#d8576b\"],[0.6666666666666666,\"#ed7953\"],[0.7777777777777778,\"#fb9f3a\"],[0.8888888888888888,\"#fdca26\"],[1.0,\"#f0f921\"]],\"type\":\"heatmapgl\"}],\"histogram\":[{\"marker\":{\"pattern\":{\"fillmode\":\"overlay\",\"size\":10,\"solidity\":0.2}},\"type\":\"histogram\"}],\"histogram2d\":[{\"colorbar\":{\"outlinewidth\":0,\"ticks\":\"\"},\"colorscale\":[[0.0,\"#0d0887\"],[0.1111111111111111,\"#46039f\"],[0.2222222222222222,\"#7201a8\"],[0.3333333333333333,\"#9c179e\"],[0.4444444444444444,\"#bd3786\"],[0.5555555555555556,\"#d8576b\"],[0.6666666666666666,\"#ed7953\"],[0.7777777777777778,\"#fb9f3a\"],[0.8888888888888888,\"#fdca26\"],[1.0,\"#f0f921\"]],\"type\":\"histogram2d\"}],\"histogram2dcontour\":[{\"colorbar\":{\"outlinewidth\":0,\"ticks\":\"\"},\"colorscale\":[[0.0,\"#0d0887\"],[0.1111111111111111,\"#46039f\"],[0.2222222222222222,\"#7201a8\"],[0.3333333333333333,\"#9c179e\"],[0.4444444444444444,\"#bd3786\"],[0.5555555555555556,\"#d8576b\"],[0.6666666666666666,\"#ed7953\"],[0.7777777777777778,\"#fb9f3a\"],[0.8888888888888888,\"#fdca26\"],[1.0,\"#f0f921\"]],\"type\":\"histogram2dcontour\"}],\"mesh3d\":[{\"colorbar\":{\"outlinewidth\":0,\"ticks\":\"\"},\"type\":\"mesh3d\"}],\"parcoords\":[{\"line\":{\"colorbar\":{\"outlinewidth\":0,\"ticks\":\"\"}},\"type\":\"parcoords\"}],\"pie\":[{\"automargin\":true,\"type\":\"pie\"}],\"scatter\":[{\"marker\":{\"colorbar\":{\"outlinewidth\":0,\"ticks\":\"\"}},\"type\":\"scatter\"}],\"scatter3d\":[{\"line\":{\"colorbar\":{\"outlinewidth\":0,\"ticks\":\"\"}},\"marker\":{\"colorbar\":{\"outlinewidth\":0,\"ticks\":\"\"}},\"type\":\"scatter3d\"}],\"scattercarpet\":[{\"marker\":{\"colorbar\":{\"outlinewidth\":0,\"ticks\":\"\"}},\"type\":\"scattercarpet\"}],\"scattergeo\":[{\"marker\":{\"colorbar\":{\"outlinewidth\":0,\"ticks\":\"\"}},\"type\":\"scattergeo\"}],\"scattergl\":[{\"marker\":{\"colorbar\":{\"outlinewidth\":0,\"ticks\":\"\"}},\"type\":\"scattergl\"}],\"scattermapbox\":[{\"marker\":{\"colorbar\":{\"outlinewidth\":0,\"ticks\":\"\"}},\"type\":\"scattermapbox\"}],\"scatterpolar\":[{\"marker\":{\"colorbar\":{\"outlinewidth\":0,\"ticks\":\"\"}},\"type\":\"scatterpolar\"}],\"scatterpolargl\":[{\"marker\":{\"colorbar\":{\"outlinewidth\":0,\"ticks\":\"\"}},\"type\":\"scatterpolargl\"}],\"scatterternary\":[{\"marker\":{\"colorbar\":{\"outlinewidth\":0,\"ticks\":\"\"}},\"type\":\"scatterternary\"}],\"surface\":[{\"colorbar\":{\"outlinewidth\":0,\"ticks\":\"\"},\"colorscale\":[[0.0,\"#0d0887\"],[0.1111111111111111,\"#46039f\"],[0.2222222222222222,\"#7201a8\"],[0.3333333333333333,\"#9c179e\"],[0.4444444444444444,\"#bd3786\"],[0.5555555555555556,\"#d8576b\"],[0.6666666666666666,\"#ed7953\"],[0.7777777777777778,\"#fb9f3a\"],[0.8888888888888888,\"#fdca26\"],[1.0,\"#f0f921\"]],\"type\":\"surface\"}],\"table\":[{\"cells\":{\"fill\":{\"color\":\"#EBF0F8\"},\"line\":{\"color\":\"white\"}},\"header\":{\"fill\":{\"color\":\"#C8D4E3\"},\"line\":{\"color\":\"white\"}},\"type\":\"table\"}]},\"layout\":{\"annotationdefaults\":{\"arrowcolor\":\"#2a3f5f\",\"arrowhead\":0,\"arrowwidth\":1},\"autotypenumbers\":\"strict\",\"coloraxis\":{\"colorbar\":{\"outlinewidth\":0,\"ticks\":\"\"}},\"colorscale\":{\"diverging\":[[0,\"#8e0152\"],[0.1,\"#c51b7d\"],[0.2,\"#de77ae\"],[0.3,\"#f1b6da\"],[0.4,\"#fde0ef\"],[0.5,\"#f7f7f7\"],[0.6,\"#e6f5d0\"],[0.7,\"#b8e186\"],[0.8,\"#7fbc41\"],[0.9,\"#4d9221\"],[1,\"#276419\"]],\"sequential\":[[0.0,\"#0d0887\"],[0.1111111111111111,\"#46039f\"],[0.2222222222222222,\"#7201a8\"],[0.3333333333333333,\"#9c179e\"],[0.4444444444444444,\"#bd3786\"],[0.5555555555555556,\"#d8576b\"],[0.6666666666666666,\"#ed7953\"],[0.7777777777777778,\"#fb9f3a\"],[0.8888888888888888,\"#fdca26\"],[1.0,\"#f0f921\"]],\"sequentialminus\":[[0.0,\"#0d0887\"],[0.1111111111111111,\"#46039f\"],[0.2222222222222222,\"#7201a8\"],[0.3333333333333333,\"#9c179e\"],[0.4444444444444444,\"#bd3786\"],[0.5555555555555556,\"#d8576b\"],[0.6666666666666666,\"#ed7953\"],[0.7777777777777778,\"#fb9f3a\"],[0.8888888888888888,\"#fdca26\"],[1.0,\"#f0f921\"]]},\"colorway\":[\"#636efa\",\"#EF553B\",\"#00cc96\",\"#ab63fa\",\"#FFA15A\",\"#19d3f3\",\"#FF6692\",\"#B6E880\",\"#FF97FF\",\"#FECB52\"],\"font\":{\"color\":\"#2a3f5f\"},\"geo\":{\"bgcolor\":\"white\",\"lakecolor\":\"white\",\"landcolor\":\"#E5ECF6\",\"showlakes\":true,\"showland\":true,\"subunitcolor\":\"white\"},\"hoverlabel\":{\"align\":\"left\"},\"hovermode\":\"closest\",\"mapbox\":{\"style\":\"light\"},\"paper_bgcolor\":\"white\",\"plot_bgcolor\":\"#E5ECF6\",\"polar\":{\"angularaxis\":{\"gridcolor\":\"white\",\"linecolor\":\"white\",\"ticks\":\"\"},\"bgcolor\":\"#E5ECF6\",\"radialaxis\":{\"gridcolor\":\"white\",\"linecolor\":\"white\",\"ticks\":\"\"}},\"scene\":{\"xaxis\":{\"backgroundcolor\":\"#E5ECF6\",\"gridcolor\":\"white\",\"gridwidth\":2,\"linecolor\":\"white\",\"showbackground\":true,\"ticks\":\"\",\"zerolinecolor\":\"white\"},\"yaxis\":{\"backgroundcolor\":\"#E5ECF6\",\"gridcolor\":\"white\",\"gridwidth\":2,\"linecolor\":\"white\",\"showbackground\":true,\"ticks\":\"\",\"zerolinecolor\":\"white\"},\"zaxis\":{\"backgroundcolor\":\"#E5ECF6\",\"gridcolor\":\"white\",\"gridwidth\":2,\"linecolor\":\"white\",\"showbackground\":true,\"ticks\":\"\",\"zerolinecolor\":\"white\"}},\"shapedefaults\":{\"line\":{\"color\":\"#2a3f5f\"}},\"ternary\":{\"aaxis\":{\"gridcolor\":\"white\",\"linecolor\":\"white\",\"ticks\":\"\"},\"baxis\":{\"gridcolor\":\"white\",\"linecolor\":\"white\",\"ticks\":\"\"},\"bgcolor\":\"#E5ECF6\",\"caxis\":{\"gridcolor\":\"white\",\"linecolor\":\"white\",\"ticks\":\"\"}},\"title\":{\"x\":0.05},\"xaxis\":{\"automargin\":true,\"gridcolor\":\"white\",\"linecolor\":\"white\",\"ticks\":\"\",\"title\":{\"standoff\":15},\"zerolinecolor\":\"white\",\"zerolinewidth\":2},\"yaxis\":{\"automargin\":true,\"gridcolor\":\"white\",\"linecolor\":\"white\",\"ticks\":\"\",\"title\":{\"standoff\":15},\"zerolinecolor\":\"white\",\"zerolinewidth\":2}}},\"annotations\":[{\"font\":{\"size\":20},\"opacity\":0.4,\"showarrow\":false,\"text\":\"HomePlanet\",\"x\":0.5,\"y\":0.5}],\"legend\":{\"orientation\":\"v\",\"traceorder\":\"reversed\"},\"hoverlabel\":{\"bgcolor\":\"white\"}},                        {\"responsive\": true}                    ).then(function(){\n",
       "                            \n",
       "var gd = document.getElementById('69386da4-6b62-40ee-ba62-a6536a13d2fa');\n",
       "var x = new MutationObserver(function (mutations, observer) {{\n",
       "        var display = window.getComputedStyle(gd).display;\n",
       "        if (!display || display === 'none') {{\n",
       "            console.log([gd, 'removed!']);\n",
       "            Plotly.purge(gd);\n",
       "            observer.disconnect();\n",
       "        }}\n",
       "}});\n",
       "\n",
       "// Listen for the removal of the full notebook cells\n",
       "var notebookContainer = gd.closest('#notebook-container');\n",
       "if (notebookContainer) {{\n",
       "    x.observe(notebookContainer, {childList: true});\n",
       "}}\n",
       "\n",
       "// Listen for the clearing of the current output cell\n",
       "var outputEl = gd.closest('.output');\n",
       "if (outputEl) {{\n",
       "    x.observe(outputEl, {childList: true});\n",
       "}}\n",
       "\n",
       "                        })                };                });            </script>        </div>"
      ]
     },
     "metadata": {},
     "output_type": "display_data"
    }
   ],
   "source": [
    "cnt_donut(train_data, \"HomePlanet\")"
   ]
  },
  {
   "cell_type": "code",
   "execution_count": 19,
   "id": "77aced4c",
   "metadata": {
    "execution": {
     "iopub.execute_input": "2022-04-05T08:43:51.104105Z",
     "iopub.status.busy": "2022-04-05T08:43:51.103122Z",
     "iopub.status.idle": "2022-04-05T08:43:51.341539Z",
     "shell.execute_reply": "2022-04-05T08:43:51.340989Z",
     "shell.execute_reply.started": "2022-04-05T08:41:11.181856Z"
    },
    "papermill": {
     "duration": 0.34315,
     "end_time": "2022-04-05T08:43:51.341689",
     "exception": false,
     "start_time": "2022-04-05T08:43:50.998539",
     "status": "completed"
    },
    "tags": []
   },
   "outputs": [
    {
     "data": {
      "image/png": "[encoded data removed]",
      "text/plain": [
       "<Figure size 720x576 with 1 Axes>"
      ]
     },
     "metadata": {
      "needs_background": "light"
     },
     "output_type": "display_data"
    }
   ],
   "source": [
    "cnt_bar(train_data, \"CryoSleep\")"
   ]
  },
  {
   "cell_type": "code",
   "execution_count": 20,
   "id": "8c4bd3a9",
   "metadata": {
    "execution": {
     "iopub.execute_input": "2022-04-05T08:43:51.541548Z",
     "iopub.status.busy": "2022-04-05T08:43:51.540501Z",
     "iopub.status.idle": "2022-04-05T08:43:51.756642Z",
     "shell.execute_reply": "2022-04-05T08:43:51.756130Z",
     "shell.execute_reply.started": "2022-04-05T08:41:11.369806Z"
    },
    "papermill": {
     "duration": 0.320272,
     "end_time": "2022-04-05T08:43:51.756784",
     "exception": false,
     "start_time": "2022-04-05T08:43:51.436512",
     "status": "completed"
    },
    "tags": []
   },
   "outputs": [
    {
     "data": {
      "image/png": "[encoded data removed]",
      "text/plain": [
       "<Figure size 720x576 with 1 Axes>"
      ]
     },
     "metadata": {
      "needs_background": "light"
     },
     "output_type": "display_data"
    }
   ],
   "source": [
    "cnt_bar(train_data, \"VIP\")"
   ]
  },
  {
   "cell_type": "code",
   "execution_count": 21,
   "id": "da2839c6",
   "metadata": {
    "execution": {
     "iopub.execute_input": "2022-04-05T08:43:51.949227Z",
     "iopub.status.busy": "2022-04-05T08:43:51.948576Z",
     "iopub.status.idle": "2022-04-05T08:43:52.127901Z",
     "shell.execute_reply": "2022-04-05T08:43:52.127349Z",
     "shell.execute_reply.started": "2022-04-05T08:41:11.560937Z"
    },
    "papermill": {
     "duration": 0.276519,
     "end_time": "2022-04-05T08:43:52.128059",
     "exception": false,
     "start_time": "2022-04-05T08:43:51.851540",
     "status": "completed"
    },
    "tags": []
   },
   "outputs": [
    {
     "data": {
      "image/png": "[encoded data removed]",
      "text/plain": [
       "<Figure size 720x576 with 1 Axes>"
      ]
     },
     "metadata": {
      "needs_background": "light"
     },
     "output_type": "display_data"
    }
   ],
   "source": [
    "cnt_bar(train_data, \"Transported\")"
   ]
  },
  {
   "cell_type": "code",
   "execution_count": 22,
   "id": "5c25a5d5",
   "metadata": {
    "execution": {
     "iopub.execute_input": "2022-04-05T08:43:52.326939Z",
     "iopub.status.busy": "2022-04-05T08:43:52.326296Z",
     "iopub.status.idle": "2022-04-05T08:43:52.377573Z",
     "shell.execute_reply": "2022-04-05T08:43:52.378073Z",
     "shell.execute_reply.started": "2022-04-05T08:41:11.710992Z"
    },
    "papermill": {
     "duration": 0.153975,
     "end_time": "2022-04-05T08:43:52.378239",
     "exception": false,
     "start_time": "2022-04-05T08:43:52.224264",
     "status": "completed"
    },
    "tags": []
   },
   "outputs": [
    {
     "data": {
      "text/html": [
       "<div>                            <div id=\"16303b09-75ca-45dd-b046-abf4f8ac407d\" class=\"plotly-graph-div\" style=\"height:525px; width:100%;\"></div>            <script type=\"text/javascript\">                require([\"plotly\"], function(Plotly) {                    window.PLOTLYENV=window.PLOTLYENV || {};                                    if (document.getElementById(\"16303b09-75ca-45dd-b046-abf4f8ac407d\")) {                    Plotly.newPlot(                        \"16303b09-75ca-45dd-b046-abf4f8ac407d\",                        [{\"hole\":0.5,\"labels\":[\"B\",\"F\",\"A\",\"A\",\"F\",\"F\",\"F\",\"G\",\"F\",\"B\",\"B\",\"B\",\"F\",\"G\",\"F\",null,\"F\",\"F\",\"F\",\"G\",\"F\",\"E\",\"E\",\"E\",\"E\",\"E\",\"E\",\"D\",\"C\",\"F\",\"C\",\"F\",\"G\",\"F\",\"F\",\"F\",\"D\",\"D\",\"F\",\"F\",\"G\",\"G\",\"B\",\"G\",\"G\",\"G\",\"F\",\"F\",\"E\",\"E\",\"G\",\"F\",\"A\",\"A\",\"A\",\"G\",\"F\",\"F\",\"F\",\"E\",\"G\",\"G\",\"G\",\"F\",\"E\",\"F\",\"F\",\"F\",\"F\",\"D\",\"C\",\"F\",\"F\",\"C\",\"G\",\"F\",\"F\",\"F\",\"G\",\"C\",\"F\",\"E\",\"G\",\"G\",\"F\",\"G\",\"G\",\"G\",\"A\",\"G\",\"G\",\"F\",\"G\",null,\"F\",\"F\",\"G\",\"G\",\"F\",\"D\",\"G\",\"G\",\"G\",null,\"B\",\"B\",\"B\",\"E\",\"B\",\"F\",\"G\",\"F\",\"D\",\"A\",\"A\",\"F\",\"G\",\"F\",\"F\",\"E\",\"D\",\"E\",\"G\",\"F\",\"D\",\"G\",\"G\",\"G\",\"E\",\"C\",\"G\",\"F\",\"F\",\"F\",\"G\",\"G\",\"F\",\"G\",\"G\",\"F\",\"G\",\"B\",\"B\",\"G\",\"G\",\"F\",\"F\",\"F\",\"G\",\"E\",\"G\",\"G\",\"E\",\"F\",\"B\",\"D\",\"G\",\"G\",\"G\",\"G\",\"C\",\"F\",\"G\",\"G\",\"E\",\"G\",\"G\",\"G\",\"G\",\"F\",\"F\",\"F\",\"F\",\"D\",\"C\",\"G\",\"G\",\"G\",\"B\",\"B\",\"B\",\"A\",\"C\",\"G\",\"C\",\"G\",\"D\",\"F\",\"F\",\"F\",\"E\",\"F\",\"F\",\"F\",\"F\",\"G\",\"G\",\"G\",\"G\",\"E\",\"F\",\"G\",\"G\",\"E\",\"E\",\"E\",\"E\",\"E\",\"E\",\"E\",\"F\",\"F\",\"E\",\"G\",\"F\",\"G\",\"F\",\"F\",\"G\",\"F\",\"F\",\"B\",null,\"F\",\"E\",\"F\",\"G\",null,\"F\",\"C\",\"C\",\"D\",\"C\",\"G\",\"C\",\"F\",\"G\",\"F\",\"A\",\"F\",\"F\",\"F\",\"E\",\"F\",\"G\",\"D\",\"F\",\"F\",\"F\",\"D\",\"F\",null,\"G\",\"F\",\"F\",\"G\",\"F\",\"E\",\"E\",\"F\",null,\"B\",\"F\",\"C\",\"B\",\"B\",\"B\",\"B\",\"D\",\"B\",\"G\",\"A\",null,\"F\",\"G\",\"E\",\"C\",\"E\",\"F\",\"F\",null,\"F\",\"G\",\"F\",\"G\",\"G\",\"G\",\"B\",\"B\",\"G\",\"G\",\"F\",\"G\",\"G\",\"G\",null,\"C\",\"C\",\"C\",\"F\",\"F\",\"F\",\"F\",\"F\",\"F\",\"F\",\"G\",\"B\",\"G\",\"F\",\"E\",\"G\",\"F\",\"D\",null,\"G\",\"F\",null,\"B\",\"F\",\"G\",\"G\",\"F\",\"F\",\"F\",\"G\",\"F\",\"F\",\"G\",\"F\",\"F\",\"F\",\"G\",\"E\",\"G\",\"C\",\"B\",\"B\",\"B\",\"B\",\"B\",\"B\",\"B\",\"G\",null,\"B\",\"B\",\"G\",\"G\",\"G\",\"G\",\"G\",\"G\",\"G\",\"G\",\"E\",\"C\",\"E\",\"B\",\"B\",\"G\",\"F\",\"D\",\"D\",\"D\",\"D\",\"D\",\"F\",\"G\",\"F\",\"G\",\"E\",\"F\",\"F\",\"F\",\"C\",\"F\",\"G\",\"B\",\"B\",\"B\",\"B\",\"F\",\"F\",\"F\",\"E\",\"C\",\"A\",\"A\",\"F\",\"F\",\"F\",\"B\",\"B\",\"F\",\"G\",\"G\",\"G\",\"F\",\"F\",\"B\",\"C\",\"F\",\"F\",\"D\",\"F\",\"F\",\"E\",\"B\",\"F\",\"E\",\"G\",\"G\",\"E\",\"B\",null,\"B\",\"B\",\"B\",\"B\",\"F\",\"G\",\"G\",\"G\",\"D\",\"F\",\"G\",\"E\",\"F\",\"G\",\"G\",\"F\",\"F\",\"E\",\"E\",\"F\",null,\"F\",\"F\",\"B\",\"B\",\"F\",\"G\",\"E\",\"F\",\"F\",\"F\",\"E\",\"G\",\"G\",\"E\",\"F\",\"B\",\"C\",\"G\",\"G\",null,\"B\",\"F\",\"E\",\"D\",\"E\",null,\"F\",\"F\",\"E\",\"B\",\"B\",\"B\",\"B\",\"B\",\"B\",\"F\",\"G\",\"C\",\"D\",\"D\",\"G\",\"B\",\"A\",\"F\",\"F\",\"G\",\"G\",\"E\",\"E\",\"E\",null,\"F\",\"F\",\"C\",\"G\",\"G\",\"G\",\"D\",\"B\",\"B\",\"G\",\"F\",\"C\",\"C\",\"C\",\"C\",\"C\",\"F\",\"F\",\"G\",\"F\",\"F\",\"F\",\"E\",\"D\",\"F\",\"F\",\"G\",\"C\",\"C\",\"C\",\"C\",\"C\",\"F\",\"F\",\"G\",\"G\",\"F\",\"G\",\"F\",\"B\",\"B\",\"B\",\"F\",\"E\",\"G\",\"D\",\"D\",\"F\",\"C\",\"C\",\"C\",\"C\",\"C\",\"C\",\"C\",\"C\",\"F\",\"F\",\"E\",\"F\",\"G\",\"F\",\"G\",\"G\",\"E\",\"F\",\"F\",\"F\",\"F\",\"F\",\"F\",\"D\",\"D\",\"F\",\"G\",\"E\",\"G\",\"G\",\"D\",\"G\",\"E\",\"F\",\"G\",\"G\",\"G\",\"F\",\"F\",\"F\",\"F\",\"C\",\"F\",\"E\",\"F\",\"F\",\"C\",\"C\",\"C\",\"G\",\"F\",\"F\",\"G\",\"B\",\"G\",\"G\",\"G\",\"G\",\"G\",\"F\",\"C\",\"C\",\"G\",\"F\",\"G\",\"F\",\"F\",\"D\",\"F\",\"G\",\"E\",\"F\",\"F\",\"E\",\"B\",\"F\",\"F\",\"C\",\"C\",\"C\",\"C\",\"C\",\"F\",\"E\",\"G\",\"C\",\"F\",\"F\",\"F\",\"G\",\"E\",\"E\",\"G\",\"F\",\"G\",\"F\",\"G\",\"G\",\"C\",\"F\",\"E\",\"F\",\"F\",\"F\",\"F\",\"G\",\"G\",\"G\",\"G\",\"G\",\"G\",\"G\",\"G\",\"G\",\"F\",\"F\",\"F\",\"F\",\"F\",\"E\",\"F\",\"D\",\"D\",\"E\",\"B\",\"F\",\"E\",\"F\",\"E\",null,\"C\",\"G\",\"F\",\"F\",\"D\",\"D\",\"F\",\"G\",\"G\",\"F\",\"G\",\"A\",\"A\",null,\"E\",\"F\",\"F\",\"E\",\"G\",\"G\",\"G\",\"G\",\"G\",\"G\",\"G\",null,\"E\",\"E\",\"F\",\"G\",\"F\",\"F\",\"E\",null,\"F\",\"F\",\"F\",\"C\",\"F\",\"C\",\"C\",\"C\",\"G\",\"G\",\"F\",\"A\",\"A\",null,\"D\",\"B\",\"B\",\"B\",\"D\",\"C\",\"G\",\"G\",\"F\",\"F\",\"G\",\"B\",\"B\",\"B\",\"G\",\"G\",\"G\",\"G\",\"G\",\"G\",\"G\",\"E\",\"E\",\"E\",\"E\",\"F\",\"F\",\"A\",\"F\",\"G\",\"F\",\"C\",\"F\",\"G\",\"G\",\"F\",\"A\",\"A\",\"A\",\"G\",\"G\",\"G\",\"F\",\"F\",\"F\",\"D\",\"F\",\"F\",\"A\",\"F\",\"C\",\"F\",\"G\",\"E\",\"F\",\"F\",\"F\",\"F\",\"F\",\"F\",\"F\",\"F\",\"E\",\"E\",\"G\",\"B\",\"G\",\"F\",\"G\",\"F\",\"G\",null,\"F\",\"G\",null,\"F\",\"F\",\"F\",\"F\",null,\"F\",\"G\",\"F\",\"B\",\"G\",\"B\",\"G\",\"F\",\"F\",\"B\",\"B\",\"E\",\"F\",\"A\",\"G\",\"E\",\"G\",\"G\",\"G\",\"B\",\"B\",\"F\",\"G\",\"F\",\"G\",\"A\",\"F\",\"F\",\"G\",\"F\",\"C\",\"D\",null,\"D\",\"G\",\"G\",\"G\",\"C\",\"C\",\"F\",\"G\",\"G\",\"F\",\"G\",\"F\",\"F\",\"G\",\"C\",\"D\",\"F\",\"B\",\"B\",\"G\",\"F\",\"F\",\"B\",\"E\",\"G\",\"E\",\"F\",\"G\",\"B\",\"B\",\"C\",\"B\",\"E\",\"F\",\"F\",\"F\",\"B\",\"B\",\"G\",\"G\",\"F\",\"G\",\"F\",null,\"C\",\"C\",\"F\",\"F\",\"E\",\"G\",\"G\",\"G\",\"F\",\"F\",\"G\",\"G\",\"F\",\"G\",\"G\",\"G\",\"F\",\"F\",\"G\",\"E\",\"F\",\"E\",\"G\",\"B\",\"B\",\"F\",\"F\",\"E\",\"F\",\"G\",\"G\",\"E\",\"E\",\"G\",\"F\",\"B\",\"G\",\"G\",\"G\",\"G\",\"F\",\"G\",\"G\",\"F\",\"G\",\"G\",\"G\",\"E\",\"F\",\"G\",\"E\",\"G\",\"F\",\"G\",\"D\",\"D\",\"D\",null,\"D\",\"D\",\"F\",\"G\",\"F\",\"C\",\"F\",\"C\",\"D\",\"G\",\"F\",\"F\",\"F\",\"A\",\"G\",\"E\",\"E\",null,\"C\",\"C\",null,\"G\",\"G\",\"G\",\"F\",\"F\",\"F\",\"G\",\"F\",\"F\",null,\"F\",\"G\",\"G\",\"G\",\"F\",\"G\",\"F\",\"F\",\"F\",\"F\",\"F\",\"F\",\"F\",\"G\",\"G\",\"G\",\"F\",\"G\",\"G\",\"G\",null,\"F\",\"C\",\"C\",\"F\",\"G\",\"F\",\"F\",\"F\",\"F\",\"F\",\"F\",\"F\",\"F\",\"F\",\"C\",\"F\",\"G\",\"F\",\"B\",\"B\",\"F\",\"F\",\"G\",\"T\",\"B\",\"B\",\"G\",\"G\",\"E\",\"G\",\"F\",\"F\",\"F\",\"F\",\"F\",\"F\",\"G\",\"G\",\"G\",\"G\",\"E\",\"G\",\"G\",\"D\",\"D\",\"F\",\"D\",\"F\",null,\"G\",\"E\",\"F\",\"F\",\"F\",\"F\",\"E\",\"F\",\"F\",\"F\",\"F\",\"C\",\"C\",\"B\",\"E\",\"E\",\"E\",\"G\",\"G\",null,\"G\",\"E\",\"F\",\"B\",\"B\",\"E\",\"E\",\"D\",null,\"E\",null,\"G\",\"B\",\"B\",\"B\",\"G\",\"G\",\"G\",\"F\",\"G\",\"F\",\"B\",\"C\",\"C\",\"C\",null,\"C\",\"C\",\"C\",\"G\",\"G\",\"G\",\"G\",\"G\",\"G\",\"F\",\"G\",\"B\",\"B\",\"B\",\"F\",\"G\",\"B\",\"B\",\"B\",\"B\",\"C\",\"F\",\"B\",\"B\",\"B\",\"B\",\"C\",\"F\",\"E\",\"F\",\"E\",\"G\",\"G\",\"F\",\"C\",\"F\",\"B\",\"F\",\"F\",\"E\",\"F\",\"E\",\"G\",\"G\",\"G\",\"F\",\"G\",\"F\",\"G\",\"G\",\"C\",\"E\",\"F\",\"F\",\"B\",\"B\",\"F\",\"B\",null,\"E\",\"B\",\"F\",\"G\",\"G\",\"G\",\"G\",\"G\",\"G\",\"G\",\"F\",\"G\",\"G\",\"G\",\"F\",\"G\",\"G\",\"G\",\"F\",\"E\",\"G\",\"E\",\"G\",\"C\",\"F\",null,\"E\",\"F\",\"G\",\"E\",\"C\",\"C\",\"G\",\"F\",\"F\",\"F\",\"C\",\"B\",\"E\",\"F\",\"C\",\"A\",\"A\",\"G\",\"F\",\"F\",\"D\",\"F\",\"F\",\"F\",\"E\",\"A\",\"F\",\"G\",\"C\",\"F\",\"E\",\"G\",\"E\",\"G\",\"F\",\"F\",\"G\",\"C\",\"F\",\"G\",\"G\",\"G\",\"F\",\"F\",\"F\",\"F\",\"F\",\"F\",\"G\",\"G\",\"G\",\"F\",\"B\",\"B\",\"F\",\"A\",\"A\",\"A\",null,\"F\",\"F\",\"D\",\"E\",\"E\",\"E\",\"E\",\"E\",\"E\",\"B\",\"B\",\"G\",null,\"E\",\"E\",\"E\",\"F\",\"C\",\"F\",\"F\",\"D\",\"G\",\"E\",\"E\",\"F\",\"G\",\"F\",\"G\",\"G\",\"G\",\"E\",\"E\",\"E\",\"F\",\"F\",\"G\",\"D\",\"D\",\"G\",\"E\",\"F\",\"G\",\"G\",\"F\",\"G\",\"G\",\"F\",\"F\",\"B\",\"B\",\"G\",\"F\",\"G\",\"G\",\"G\",\"F\",\"F\",\"F\",\"F\",\"F\",\"G\",\"G\",\"D\",\"E\",\"F\",\"B\",\"B\",\"G\",\"G\",\"E\",\"D\",\"G\",\"F\",\"G\",\"C\",\"G\",\"F\",\"F\",\"C\",\"G\",\"E\",\"D\",\"E\",\"G\",\"F\",\"F\",\"E\",\"G\",\"G\",\"E\",\"G\",\"G\",\"F\",\"F\",\"F\",\"F\",\"F\",\"G\",\"F\",\"G\",\"F\",\"G\",\"G\",\"G\",\"G\",\"E\",\"B\",null,\"E\",\"F\",\"F\",\"G\",\"F\",\"G\",\"G\",\"F\",\"D\",\"G\",\"C\",\"F\",\"E\",\"F\",\"F\",\"B\",\"B\",\"B\",\"B\",\"B\",\"B\",\"B\",\"B\",\"F\",\"G\",\"G\",\"D\",\"F\",\"F\",\"E\",\"F\",\"G\",\"G\",\"G\",null,\"G\",\"G\",\"E\",\"F\",\"D\",\"F\",\"G\",\"G\",\"C\",\"G\",\"G\",\"D\",\"D\",\"C\",\"C\",\"C\",null,\"C\",\"C\",\"C\",\"G\",\"G\",\"D\",\"B\",\"B\",\"B\",\"B\",\"B\",\"E\",\"G\",\"F\",\"G\",\"G\",\"G\",\"F\",\"G\",\"E\",\"F\",\"F\",\"F\",\"F\",\"E\",\"E\",\"F\",\"E\",\"G\",\"D\",\"G\",\"F\",\"G\",\"F\",\"F\",\"F\",\"G\",\"G\",\"G\",\"G\",\"F\",\"G\",\"G\",\"G\",\"D\",\"D\",\"F\",\"F\",\"F\",\"G\",\"F\",\"E\",\"F\",\"B\",\"B\",\"B\",\"B\",\"F\",\"G\",\"F\",\"B\",\"B\",\"G\",\"F\",\"F\",\"D\",\"D\",\"D\",\"A\",\"A\",\"G\",\"B\",\"G\",\"F\",\"A\",\"C\",\"C\",\"C\",\"F\",\"F\",\"C\",\"G\",null,\"F\",\"B\",\"B\",\"C\",null,\"E\",\"G\",\"A\",\"G\",\"G\",\"F\",\"F\",\"F\",\"F\",\"B\",null,\"G\",\"F\",\"G\",\"F\",\"D\",\"E\",\"F\",\"E\",\"F\",\"G\",\"G\",\"F\",null,\"F\",\"G\",\"G\",\"E\",\"E\",\"D\",\"D\",\"C\",\"C\",\"E\",\"G\",\"C\",\"B\",\"G\",\"C\",\"C\",\"G\",\"F\",\"F\",\"G\",\"G\",\"G\",\"E\",\"F\",\"G\",\"E\",\"E\",null,\"F\",\"F\",\"G\",\"G\",\"D\",\"G\",\"F\",\"F\",\"F\",\"G\",\"G\",\"G\",\"C\",\"C\",\"F\",\"B\",\"G\",\"G\",\"F\",\"E\",\"C\",\"G\",\"G\",\"G\",\"F\",\"G\",\"G\",\"E\",\"G\",\"F\",null,\"G\",\"F\",\"G\",\"G\",\"G\",\"G\",\"G\",\"A\",null,\"F\",\"F\",\"G\",\"F\",\"F\",\"E\",\"A\",\"A\",\"A\",\"A\",\"F\",\"G\",\"D\",\"F\",\"F\",\"F\",\"F\",\"G\",\"G\",\"B\",\"F\",\"F\",\"G\",\"G\",\"E\",\"G\",\"F\",null,\"G\",\"G\",\"F\",\"E\",null,\"G\",\"F\",\"F\",\"G\",\"G\",\"B\",\"G\",\"E\",\"F\",\"B\",\"B\",\"D\",\"D\",\"E\",\"F\",\"F\",\"D\",null,\"E\",\"F\",\"D\",\"F\",\"G\",\"F\",\"F\",\"F\",\"G\",\"G\",\"G\",\"E\",\"E\",null,\"G\",\"F\",\"E\",\"A\",\"F\",\"F\",\"D\",\"G\",\"F\",\"E\",\"G\",\"G\",\"F\",\"G\",\"G\",\"E\",\"G\",\"G\",\"G\",\"D\",\"E\",\"F\",\"G\",\"G\",\"G\",\"G\",\"G\",\"F\",\"G\",\"G\",\"F\",\"G\",\"F\",\"F\",\"E\",\"G\",\"E\",\"F\",\"E\",\"F\",\"C\",\"C\",\"C\",\"C\",\"G\",\"F\",\"B\",\"G\",\"F\",\"E\",\"G\",\"G\",\"G\",\"F\",\"C\",null,\"F\",\"G\",\"G\",\"E\",\"F\",\"F\",\"C\",\"B\",\"E\",\"G\",\"G\",\"G\",\"G\",\"G\",\"G\",\"E\",\"F\",\"F\",\"G\",\"E\",\"B\",\"F\",\"F\",\"G\",\"F\",\"F\",\"F\",\"C\",\"C\",\"F\",\"G\",\"G\",\"G\",null,\"F\",\"F\",\"F\",\"D\",\"D\",\"D\",\"D\",\"D\",\"D\",\"G\",\"C\",\"F\",\"F\",\"F\",\"E\",\"F\",\"G\",\"G\",\"F\",\"G\",\"G\",\"F\",\"F\",\"F\",\"G\",\"A\",\"G\",\"E\",\"F\",\"D\",\"F\",\"A\",\"A\",\"F\",\"F\",\"F\",\"D\",\"G\",\"G\",\"G\",\"G\",\"G\",\"G\",\"F\",\"F\",\"C\",\"E\",\"G\",\"G\",\"F\",\"G\",\"F\",\"D\",\"F\",\"F\",\"C\",null,\"E\",\"E\",\"G\",\"F\",\"F\",\"G\",\"G\",\"E\",\"D\",null,\"D\",\"C\",\"C\",\"G\",\"G\",\"A\",\"A\",\"G\",\"G\",\"F\",\"G\",\"D\",\"E\",\"G\",\"E\",\"D\",\"D\",\"A\",\"A\",\"A\",\"E\",\"G\",\"C\",\"C\",\"G\",\"G\",\"D\",\"E\",\"C\",\"E\",\"G\",\"F\",\"F\",\"F\",\"D\",\"F\",\"F\",\"G\",\"E\",\"G\",\"F\",\"F\",\"E\",\"F\",\"D\",\"D\",\"G\",\"C\",\"C\",\"C\",\"E\",\"E\",\"G\",\"F\",\"G\",\"G\",\"F\",\"C\",\"G\",\"G\",\"C\",\"F\",\"A\",\"D\",\"G\",\"B\",\"B\",\"B\",\"B\",\"B\",\"B\",\"B\",\"F\",\"G\",\"F\",\"G\",\"G\",\"G\",\"E\",\"G\",null,\"F\",\"G\",\"F\",\"E\",\"F\",\"F\",\"E\",\"G\",\"F\",\"G\",\"F\",\"C\",\"F\",\"G\",\"F\",\"G\",\"G\",\"A\",\"B\",\"B\",\"B\",\"G\",\"G\",\"B\",\"F\",\"F\",\"B\",\"B\",\"F\",\"G\",\"E\",\"G\",\"G\",\"G\",\"F\",\"F\",\"F\",\"F\",\"F\",\"F\",\"B\",\"B\",\"G\",\"F\",\"F\",\"F\",\"G\",\"G\",\"E\",\"E\",\"C\",\"C\",\"G\",\"G\",\"G\",\"G\",\"G\",\"G\",\"G\",\"F\",\"F\",\"G\",\"G\",\"G\",\"D\",\"F\",\"G\",\"F\",\"G\",\"C\",\"C\",\"E\",\"C\",\"C\",\"F\",\"D\",\"D\",\"F\",\"G\",\"F\",\"G\",\"F\",\"A\",\"A\",\"C\",\"A\",\"A\",\"F\",\"F\",\"G\",\"F\",\"F\",\"F\",\"D\",\"E\",null,\"F\",\"D\",\"F\",\"F\",\"F\",\"F\",\"B\",\"D\",\"F\",\"C\",\"F\",null,\"G\",\"G\",\"G\",\"G\",\"F\",\"F\",\"B\",\"D\",\"G\",null,\"G\",\"D\",\"G\",\"G\",\"G\",\"G\",\"G\",\"F\",\"F\",\"G\",\"F\",\"F\",\"E\",\"D\",\"F\",\"F\",\"E\",\"E\",\"G\",\"F\",\"F\",\"F\",\"G\",\"F\",\"F\",\"E\",\"F\",\"F\",\"G\",null,\"F\",\"E\",\"F\",\"B\",\"G\",\"F\",\"G\",\"G\",\"F\",\"F\",\"F\",\"F\",\"F\",\"F\",\"G\",\"B\",\"F\",\"F\",\"F\",\"F\",\"G\",\"G\",\"G\",\"G\",\"F\",\"C\",\"F\",\"B\",\"F\",\"F\",\"G\",\"F\",\"F\",\"G\",\"F\",\"F\",\"F\",\"G\",\"F\",\"B\",\"B\",\"B\",\"B\",\"E\",\"F\",\"D\",\"F\",\"D\",\"B\",\"E\",\"F\",\"G\",\"F\",\"G\",\"F\",\"F\",\"A\",\"A\",\"A\",\"A\",null,\"G\",\"G\",\"G\",\"F\",\"G\",\"E\",\"F\",\"E\",\"F\",\"F\",\"G\",\"F\",\"F\",\"E\",\"E\",\"D\",\"F\",\"F\",\"F\",\"C\",\"C\",\"A\",\"F\",\"F\",\"G\",\"A\",\"A\",\"G\",\"G\",\"F\",\"C\",\"C\",\"G\",\"C\",\"B\",\"G\",\"F\",\"G\",\"F\",\"F\",\"F\",\"E\",\"G\",\"F\",\"F\",\"G\",null,\"G\",\"E\",\"C\",\"C\",\"F\",\"G\",\"C\",\"B\",\"B\",\"E\",\"F\",\"F\",\"F\",\"E\",\"F\",\"G\",\"G\",\"F\",\"F\",\"F\",\"G\",\"F\",\"F\",\"C\",\"C\",\"F\",\"G\",\"F\",\"A\",\"F\",\"G\",\"C\",\"C\",\"C\",\"C\",\"C\",\"C\",\"D\",\"D\",\"D\",\"D\",\"G\",\"D\",\"D\",\"D\",\"D\",\"G\",\"G\",\"F\",\"G\",\"B\",\"G\",\"G\",\"F\",\"G\",\"F\",\"G\",\"G\",\"B\",\"F\",\"F\",\"E\",\"A\",\"A\",\"G\",\"F\",\"F\",\"F\",\"F\",\"G\",\"F\",\"G\",\"G\",\"G\",\"G\",\"G\",\"G\",\"D\",\"G\",\"G\",\"F\",\"D\",\"D\",\"D\",\"E\",\"G\",\"G\",\"F\",\"C\",\"G\",\"D\",\"F\",\"F\",\"E\",\"F\",\"D\",\"E\",\"G\",\"F\",\"C\",\"F\",\"F\",\"G\",\"G\",\"G\",\"G\",\"G\",\"G\",null,\"F\",\"E\",\"G\",\"G\",\"E\",\"G\",\"G\",\"E\",\"G\",\"G\",\"F\",\"E\",\"G\",\"G\",\"G\",\"C\",\"C\",\"C\",\"C\",\"F\",\"F\",\"G\",\"G\",\"F\",\"G\",\"G\",\"T\",\"G\",\"G\",\"G\",\"E\",\"G\",\"G\",\"F\",\"F\",\"B\",\"F\",\"F\",\"F\",\"C\",\"F\",\"F\",\"F\",\"F\",\"F\",\"F\",\"D\",\"F\",\"E\",\"F\",\"F\",\"E\",\"F\",\"G\",\"F\",\"E\",\"F\",\"F\",\"G\",\"G\",\"F\",\"G\",\"G\",\"G\",\"E\",\"F\",\"D\",\"G\",\"G\",\"G\",\"E\",\"F\",\"C\",\"F\",\"C\",\"C\",\"G\",null,\"F\",\"F\",\"F\",\"F\",\"D\",\"B\",\"G\",\"F\",\"F\",null,\"E\",\"C\",\"G\",\"G\",\"F\",\"F\",\"E\",\"E\",\"A\",\"A\",\"A\",\"D\",\"D\",\"F\",\"F\",\"C\",\"C\",null,\"B\",\"B\",\"G\",\"C\",\"C\",\"F\",\"C\",\"E\",\"F\",\"B\",\"D\",\"B\",\"G\",\"F\",\"F\",\"G\",\"F\",\"F\",\"B\",\"B\",\"G\",\"E\",\"E\",\"B\",\"E\",\"B\",\"B\",\"G\",\"F\",null,\"A\",\"G\",\"F\",\"F\",\"F\",\"G\",\"F\",\"F\",\"G\",\"G\",\"D\",\"B\",\"B\",\"C\",\"F\",\"F\",\"F\",\"F\",null,\"G\",\"G\",\"G\",\"E\",\"F\",\"F\",\"E\",\"F\",\"E\",\"G\",\"C\",\"C\",\"C\",\"F\",\"F\",\"G\",\"E\",\"F\",\"G\",\"G\",\"G\",\"C\",\"C\",\"C\",\"C\",\"C\",\"G\",\"G\",\"G\",\"F\",\"G\",\"D\",\"D\",\"G\",\"B\",\"F\",\"F\",\"D\",\"F\",\"D\",\"F\",\"F\",\"F\",\"F\",null,\"F\",\"E\",\"E\",\"E\",\"D\",\"F\",\"F\",\"B\",\"B\",\"B\",\"B\",\"G\",\"F\",\"G\",\"E\",\"F\",\"F\",\"F\",\"G\",\"E\",\"F\",\"F\",\"A\",\"A\",\"G\",\"F\",\"G\",\"F\",\"D\",\"G\",\"E\",\"F\",\"G\",\"G\",\"F\",\"C\",\"C\",\"C\",\"C\",\"C\",\"B\",\"F\",\"G\",\"D\",\"G\",\"B\",\"F\",\"G\",\"F\",\"F\",\"E\",\"F\",\"F\",\"G\",\"F\",\"F\",\"E\",\"E\",\"E\",\"F\",\"G\",\"G\",\"F\",\"F\",\"C\",\"B\",\"D\",\"F\",\"G\",\"G\",\"A\",\"B\",\"G\",\"F\",\"F\",\"E\",\"F\",null,\"A\",\"A\",\"A\",\"A\",\"E\",\"D\",\"C\",\"F\",\"G\",\"G\",\"G\",\"F\",\"B\",\"B\",\"B\",\"F\",\"F\",\"F\",\"F\",\"F\",\"B\",\"G\",\"F\",\"G\",\"B\",\"G\",\"G\",\"G\",\"F\",\"D\",\"C\",\"C\",\"F\",\"F\",\"F\",\"G\",\"F\",\"G\",\"G\",\"F\",\"G\",\"G\",\"G\",\"F\",\"D\",\"C\",\"C\",\"E\",\"G\",\"E\",\"E\",\"F\",\"F\",\"F\",\"F\",\"F\",\"F\",\"F\",\"G\",\"G\",\"E\",\"E\",\"E\",\"B\",\"F\",\"G\",\"E\",\"G\",\"G\",\"G\",\"G\",\"G\",\"E\",\"E\",\"F\",\"F\",\"G\",\"G\",\"F\",\"G\",\"G\",\"D\",\"F\",\"F\",\"F\",\"D\",\"F\",\"F\",\"G\",\"D\",\"D\",\"G\",\"C\",\"E\",\"F\",\"G\",\"G\",\"B\",\"B\",\"B\",\"B\",\"B\",\"G\",\"E\",\"C\",\"C\",\"F\",\"F\",\"A\",\"A\",\"G\",\"G\",\"B\",\"F\",\"F\",\"D\",\"E\",\"G\",\"G\",\"G\",\"G\",\"F\",\"F\",\"G\",\"G\",\"F\",\"F\",\"F\",\"F\",\"F\",\"G\",\"G\",\"G\",\"G\",\"G\",\"G\",\"G\",\"F\",\"C\",\"F\",\"C\",\"C\",\"D\",\"D\",\"E\",\"C\",\"A\",\"F\",\"E\",\"C\",\"F\",\"E\",\"G\",\"G\",\"G\",\"F\",\"F\",\"C\",\"F\",\"C\",\"C\",\"C\",\"C\",\"F\",\"F\",\"E\",\"G\",\"D\",\"D\",\"C\",\"D\",\"E\",\"G\",\"G\",\"B\",\"B\",\"G\",\"E\",\"B\",\"G\",\"F\",\"F\",\"G\",\"G\",\"G\",\"F\",\"D\",\"G\",\"F\",\"B\",\"B\",\"G\",\"G\",\"G\",\"G\",\"F\",\"G\",\"G\",\"F\",\"G\",\"F\",null,\"F\",\"F\",\"G\",\"G\",\"G\",\"F\",\"G\",\"F\",\"G\",\"F\",\"E\",\"F\",\"D\",\"F\",\"F\",\"F\",\"F\",\"F\",null,\"F\",\"B\",\"B\",\"B\",\"G\",\"G\",\"F\",\"T\",\"G\",\"C\",\"F\",\"G\",\"F\",\"G\",\"F\",\"G\",\"G\",\"G\",\"G\",\"C\",\"G\",\"F\",\"E\",\"F\",\"G\",\"F\",\"F\",\"F\",\"F\",\"E\",\"A\",\"F\",\"E\",\"G\",\"G\",null,\"T\",\"E\",\"F\",\"B\",\"B\",\"E\",\"D\",\"E\",\"A\",\"G\",\"F\",\"F\",\"E\",\"B\",\"B\",\"F\",\"C\",\"F\",\"C\",\"C\",\"C\",\"G\",\"F\",\"F\",\"G\",\"E\",\"B\",\"G\",\"F\",\"C\",\"E\",\"F\",\"E\",\"B\",\"G\",\"F\",\"C\",\"C\",\"F\",\"F\",\"G\",\"G\",\"G\",\"G\",\"C\",\"C\",\"B\",\"B\",\"G\",\"G\",\"G\",\"F\",\"G\",null,\"F\",\"F\",\"A\",\"F\",\"F\",\"F\",\"G\",\"E\",\"E\",\"E\",\"E\",null,\"F\",\"F\",\"F\",\"D\",\"E\",\"F\",\"G\",\"D\",\"G\",\"G\",\"E\",\"G\",\"D\",\"E\",\"G\",\"G\",\"G\",\"B\",\"B\",\"F\",\"G\",\"F\",\"F\",\"C\",\"C\",\"G\",\"D\",\"D\",\"G\",\"G\",\"A\",\"B\",null,\"D\",\"G\",\"E\",\"F\",\"D\",\"E\",\"G\",\"F\",\"G\",\"B\",\"B\",\"G\",\"G\",\"G\",\"D\",\"G\",\"D\",\"D\",\"D\",\"F\",\"F\",\"G\",\"G\",\"E\",\"E\",\"G\",\"G\",\"F\",\"F\",\"F\",\"B\",\"B\",\"G\",\"F\",\"G\",\"G\",\"G\",\"F\",\"G\",\"C\",\"G\",null,\"E\",\"F\",\"F\",\"F\",\"F\",\"F\",\"G\",\"G\",\"G\",\"D\",\"F\",\"E\",\"G\",\"F\",\"G\",\"F\",\"F\",\"G\",\"F\",\"F\",\"F\",\"G\",\"F\",\"D\",\"F\",\"B\",\"E\",\"F\",\"F\",\"E\",\"F\",\"B\",\"B\",\"F\",\"E\",\"D\",\"D\",\"F\",\"F\",\"F\",\"G\",\"G\",\"G\",\"G\",null,\"G\",\"F\",\"F\",\"F\",\"F\",\"G\",\"A\",\"A\",\"A\",\"G\",\"G\",\"F\",\"E\",\"E\",\"E\",\"F\",\"G\",\"G\",\"E\",\"D\",\"G\",\"G\",\"G\",\"E\",\"E\",\"F\",\"F\",\"G\",\"E\",\"G\",\"G\",\"G\",\"F\",\"C\",\"C\",\"G\",\"B\",\"F\",\"F\",\"F\",\"G\",\"F\",\"E\",\"D\",\"F\",\"D\",\"E\",\"G\",\"E\",\"G\",\"G\",\"E\",\"G\",\"F\",\"G\",\"C\",\"G\",\"E\",\"G\",\"G\",\"F\",\"F\",\"E\",\"C\",\"G\",\"G\",\"G\",\"G\",\"G\",\"G\",\"G\",\"G\",\"G\",\"F\",\"A\",\"C\",\"C\",\"C\",\"C\",\"G\",\"F\",\"B\",\"B\",\"B\",\"F\",\"F\",\"G\",\"G\",\"G\",\"G\",\"G\",null,\"F\",\"G\",\"B\",null,\"B\",\"B\",\"B\",\"F\",\"G\",\"G\",\"G\",\"F\",\"F\",\"F\",\"G\",\"F\",\"F\",\"G\",\"G\",\"G\",\"G\",\"D\",\"D\",\"D\",\"F\",\"G\",\"D\",\"E\",\"E\",\"B\",\"F\",\"F\",\"G\",\"B\",\"B\",\"B\",\"B\",\"B\",\"G\",\"G\",\"C\",\"C\",\"F\",\"F\",\"G\",\"E\",\"G\",\"F\",\"G\",\"F\",\"F\",\"D\",\"D\",\"D\",\"F\",\"B\",\"B\",\"B\",\"G\",\"G\",\"G\",\"G\",\"E\",\"C\",\"F\",\"G\",\"C\",\"C\",\"C\",\"C\",\"C\",\"C\",\"G\",\"G\",\"A\",\"F\",\"F\",\"F\",\"D\",\"E\",\"G\",\"G\",\"A\",\"G\",\"D\",\"F\",\"G\",\"F\",\"F\",\"G\",\"F\",\"G\",\"F\",\"F\",\"E\",\"G\",\"F\",\"G\",\"F\",\"F\",\"B\",\"B\",\"G\",\"G\",\"G\",\"G\",\"F\",\"G\",\"B\",\"G\",\"G\",\"E\",\"G\",\"G\",\"G\",\"G\",\"G\",\"C\",\"C\",\"G\",\"F\",\"G\",\"B\",\"B\",\"B\",\"G\",\"F\",\"F\",\"F\",\"D\",\"G\",\"F\",\"E\",\"E\",\"G\",\"E\",\"E\",\"G\",\"C\",\"C\",\"G\",\"F\",\"F\",\"C\",\"G\",\"G\",\"G\",\"G\",\"F\",\"B\",\"B\",\"B\",\"B\",\"G\",\"F\",\"F\",\"F\",\"B\",\"B\",\"B\",\"B\",\"G\",\"G\",\"F\",\"G\",\"B\",\"B\",\"G\",\"G\",\"F\",\"G\",\"F\",\"G\",\"G\",\"C\",\"G\",\"G\",\"F\",\"F\",\"G\",\"B\",\"G\",\"G\",\"F\",\"B\",\"B\",\"B\",\"B\",\"C\",\"C\",\"C\",\"G\",\"G\",\"G\",\"G\",\"B\",\"F\",\"F\",\"G\",\"F\",\"E\",\"E\",\"E\",\"F\",\"A\",\"D\",\"D\",\"F\",\"F\",\"D\",\"D\",\"F\",\"E\",\"C\",\"C\",\"C\",\"C\",\"F\",\"F\",\"D\",\"G\",\"G\",\"F\",\"G\",null,\"G\",\"B\",\"F\",\"F\",\"G\",\"F\",\"F\",\"G\",\"G\",\"G\",\"G\",\"G\",null,null,\"B\",\"F\",\"F\",\"F\",\"F\",\"G\",\"F\",\"F\",\"E\",\"F\",null,\"F\",\"A\",\"F\",\"E\",\"G\",\"F\",\"C\",\"C\",\"C\",\"F\",\"D\",\"G\",\"G\",\"G\",\"G\",\"B\",\"B\",null,\"F\",\"G\",\"D\",\"F\",\"D\",\"D\",\"F\",\"D\",\"E\",\"D\",\"G\",\"G\",\"G\",\"G\",\"F\",\"F\",\"F\",\"G\",\"G\",\"F\",\"F\",\"F\",null,\"F\",\"G\",\"F\",\"G\",\"D\",\"D\",\"E\",\"D\",\"E\",\"G\",\"B\",\"F\",\"G\",null,\"G\",\"F\",\"G\",\"G\",\"F\",\"D\",\"D\",\"D\",\"C\",\"C\",\"C\",\"C\",\"G\",\"F\",\"E\",\"F\",\"F\",\"G\",\"F\",\"G\",\"B\",\"B\",\"C\",\"C\",\"G\",\"E\",\"G\",\"F\",\"F\",\"F\",\"F\",\"E\",\"D\",\"B\",\"E\",\"G\",\"G\",\"G\",null,\"F\",\"F\",\"D\",\"D\",\"D\",\"D\",\"D\",\"C\",\"F\",\"G\",\"G\",\"G\",\"F\",\"F\",\"F\",\"G\",\"E\",\"G\",\"B\",\"B\",\"F\",\"G\",\"A\",\"C\",\"E\",\"G\",\"F\",\"E\",\"B\",\"C\",\"C\",\"B\",\"B\",\"F\",\"F\",\"F\",\"F\",\"F\",\"F\",\"F\",\"G\",\"G\",\"C\",\"C\",\"C\",\"C\",\"F\",\"E\",\"F\",\"F\",\"F\",\"F\",\"F\",\"F\",\"G\",\"G\",\"G\",\"G\",\"G\",\"G\",\"F\",\"F\",\"F\",\"C\",\"C\",\"C\",\"F\",\"D\",\"G\",\"G\",\"G\",\"G\",\"G\",null,\"F\",\"G\",\"G\",\"G\",\"G\",\"A\",\"A\",\"A\",\"A\",\"D\",\"G\",\"D\",\"D\",\"B\",\"G\",\"G\",\"G\",\"B\",\"G\",\"G\",\"G\",\"E\",\"G\",\"B\",\"B\",\"B\",\"B\",\"F\",\"B\",\"B\",\"F\",\"G\",null,\"D\",\"F\",\"G\",null,\"G\",\"F\",\"G\",\"G\",\"G\",\"G\",\"G\",\"E\",\"F\",\"B\",\"F\",\"E\",\"G\",\"B\",\"G\",\"F\",\"F\",\"F\",\"F\",\"F\",\"G\",\"F\",\"F\",\"F\",\"C\",\"B\",\"F\",\"F\",\"A\",\"F\",\"G\",\"G\",\"E\",\"D\",\"F\",\"F\",\"D\",\"D\",\"G\",\"G\",\"G\",\"C\",\"B\",\"B\",\"E\",\"G\",\"F\",\"F\",\"F\",\"G\",\"G\",\"F\",\"D\",\"F\",\"D\",\"F\",\"E\",\"E\",null,\"F\",null,\"F\",\"F\",\"G\",\"G\",\"G\",\"D\",\"G\",\"E\",\"F\",\"E\",\"E\",\"F\",\"F\",\"G\",\"C\",\"F\",\"G\",\"C\",\"C\",\"C\",\"C\",\"C\",\"C\",\"C\",\"C\",\"F\",\"F\",\"G\",\"F\",\"E\",\"F\",\"E\",\"E\",\"D\",\"F\",\"F\",\"D\",\"D\",\"F\",\"F\",\"F\",\"G\",\"G\",\"G\",\"F\",\"G\",\"G\",\"B\",\"B\",\"F\",\"F\",\"G\",\"E\",\"E\",\"F\",\"B\",\"B\",\"B\",\"G\",\"G\",\"G\",\"F\",\"E\",\"E\",\"E\",\"C\",\"G\",\"G\",\"E\",\"G\",\"G\",\"G\",\"G\",\"F\",\"G\",\"G\",\"G\",\"C\",\"F\",\"E\",\"G\",\"F\",\"F\",\"F\",\"G\",\"D\",\"D\",\"B\",\"F\",\"E\",\"G\",\"F\",\"G\",\"G\",\"E\",\"F\",\"C\",\"C\",\"E\",\"E\",\"F\",\"F\",\"E\",\"D\",\"G\",\"G\",\"G\",\"F\",\"F\",\"F\",\"F\",\"E\",\"D\",\"G\",\"G\",\"F\",\"G\",\"F\",\"F\",\"E\",\"C\",\"F\",\"G\",\"G\",\"F\",\"G\",\"F\",\"G\",\"F\",\"F\",\"G\",\"E\",\"G\",\"G\",\"F\",\"G\",\"G\",\"F\",\"G\",\"F\",\"G\",\"E\",\"F\",\"G\",null,\"E\",\"G\",null,\"G\",\"G\",\"F\",\"F\",\"F\",\"D\",\"F\",\"F\",\"B\",\"G\",\"F\",\"G\",\"G\",\"G\",\"G\",\"F\",\"G\",\"C\",\"G\",\"G\",\"F\",\"G\",\"F\",\"G\",\"G\",\"G\",\"F\",\"G\",\"G\",\"E\",\"F\",\"G\",\"G\",\"G\",null,\"G\",\"F\",\"G\",\"G\",\"G\",\"G\",\"F\",\"G\",\"F\",\"F\",null,\"G\",\"E\",\"B\",\"B\",\"E\",\"E\",\"F\",\"F\",\"E\",\"F\",\"F\",\"E\",\"B\",\"F\",\"F\",\"E\",\"B\",\"G\",\"G\",null,\"G\",\"G\",\"G\",\"C\",\"C\",\"G\",\"C\",\"E\",\"G\",\"G\",\"G\",\"G\",\"F\",\"G\",\"A\",\"A\",\"A\",\"E\",\"F\",\"F\",\"F\",\"D\",\"G\",\"G\",\"A\",\"A\",\"G\",\"F\",\"G\",\"F\",\"D\",\"F\",\"F\",\"G\",\"F\",\"G\",\"B\",\"B\",\"D\",\"F\",\"B\",\"B\",\"G\",\"C\",\"E\",\"G\",\"F\",\"F\",\"G\",\"E\",\"C\",\"D\",\"A\",\"D\",\"F\",\"F\",\"G\",\"F\",\"E\",\"G\",\"G\",\"F\",\"B\",\"G\",\"G\",\"G\",\"G\",\"B\",\"B\",\"F\",\"E\",\"G\",\"B\",\"B\",\"E\",\"G\",\"F\",\"G\",\"G\",\"B\",\"F\",\"F\",\"F\",\"F\",null,\"C\",\"G\",null,\"F\",\"F\",\"F\",\"G\",\"C\",\"E\",\"E\",\"F\",\"C\",\"C\",\"G\",\"F\",\"G\",\"F\",\"F\",\"G\",\"E\",\"F\",\"F\",\"G\",\"G\",\"B\",\"B\",null,\"F\",\"E\",\"D\",\"D\",\"B\",\"G\",\"F\",\"F\",\"F\",\"F\",\"F\",\"F\",\"D\",\"E\",\"F\",\"F\",\"F\",\"F\",\"F\",\"F\",\"D\",\"F\",\"F\",\"B\",\"B\",\"B\",\"G\",\"A\",\"A\",\"C\",\"C\",null,\"C\",\"C\",\"C\",\"A\",\"A\",\"A\",\"F\",\"F\",\"G\",\"G\",\"F\",\"G\",\"D\",\"F\",\"G\",\"F\",\"F\",\"G\",\"F\",\"D\",\"G\",\"G\",\"G\",\"F\",\"F\",\"B\",\"B\",\"D\",\"C\",\"C\",\"C\",\"G\",\"G\",\"E\",\"D\",\"B\",\"B\",\"F\",\"F\",\"F\",\"F\",\"F\",\"E\",\"F\",\"G\",\"E\",\"F\",\"E\",\"E\",\"F\",\"F\",\"F\",\"B\",\"B\",\"E\",\"B\",\"F\",\"C\",\"F\",\"D\",\"F\",\"G\",\"G\",\"B\",\"B\",\"B\",\"F\",\"F\",\"G\",\"B\",\"B\",\"B\",\"G\",\"F\",\"G\",\"G\",\"F\",\"G\",\"G\",\"G\",\"F\",\"F\",\"A\",\"A\",\"A\",\"F\",\"G\",\"D\",\"C\",\"C\",\"F\",\"G\",\"G\",\"F\",null,\"A\",\"F\",\"F\",\"G\",\"C\",\"E\",\"F\",\"G\",\"A\",\"F\",\"G\",\"D\",null,\"G\",\"B\",\"G\",\"E\",\"G\",\"F\",\"G\",\"F\",\"G\",\"G\",\"F\",\"E\",\"G\",\"F\",\"B\",\"E\",\"G\",\"F\",\"D\",\"F\",\"G\",\"E\",\"F\",\"F\",\"F\",\"F\",\"F\",\"F\",\"D\",\"G\",\"B\",\"A\",\"E\",\"C\",\"C\",null,\"C\",\"F\",\"C\",\"C\",\"C\",\"F\",\"F\",\"G\",\"F\",\"G\",\"E\",\"G\",\"B\",\"E\",\"G\",\"G\",\"F\",\"C\",\"C\",\"E\",\"B\",\"D\",\"F\",\"C\",\"C\",\"C\",\"F\",\"F\",\"B\",\"G\",\"F\",\"F\",\"G\",\"F\",\"F\",null,\"C\",\"C\",\"C\",\"C\",\"C\",\"F\",\"E\",\"F\",\"E\",\"F\",\"B\",\"B\",\"B\",\"F\",\"B\",\"F\",\"F\",\"F\",\"F\",\"G\",\"G\",\"E\",\"F\",\"G\",null,\"G\",\"E\",\"F\",\"F\",\"G\",\"G\",\"G\",\"F\",\"G\",\"G\",\"C\",\"G\",\"F\",\"C\",\"G\",\"G\",\"G\",\"F\",\"B\",\"B\",\"B\",\"E\",\"F\",\"D\",\"D\",\"C\",\"E\",\"F\",\"G\",\"G\",\"G\",\"G\",\"G\",\"F\",\"F\",\"B\",\"B\",\"B\",\"E\",\"F\",\"B\",\"B\",\"B\",\"B\",\"B\",null,\"F\",\"D\",\"C\",\"C\",\"C\",\"C\",\"F\",\"G\",\"D\",\"F\",\"F\",\"G\",\"F\",\"F\",\"B\",\"B\",\"G\",\"A\",\"A\",\"A\",\"A\",\"F\",\"B\",\"B\",\"F\",\"G\",\"F\",\"F\",\"E\",\"G\",\"G\",\"G\",\"A\",\"A\",\"F\",\"G\",\"D\",\"G\",\"G\",\"G\",\"G\",\"G\",\"D\",\"D\",\"F\",\"F\",\"G\",\"G\",\"D\",\"B\",\"G\",\"F\",\"F\",\"F\",\"G\",\"G\",\"G\",\"G\",\"G\",\"G\",\"G\",\"G\",\"G\",\"F\",\"G\",\"E\",\"C\",\"C\",\"E\",\"F\",\"E\",\"F\",\"E\",\"D\",\"D\",\"B\",\"B\",\"B\",\"E\",\"G\",\"G\",\"G\",\"F\",\"F\",\"G\",\"F\",\"F\",\"F\",\"G\",\"F\",\"C\",\"G\",\"B\",\"F\",\"F\",\"G\",\"F\",\"F\",\"G\",\"G\",\"B\",\"B\",\"F\",\"G\",\"G\",\"E\",\"E\",\"F\",\"F\",\"C\",\"G\",\"E\",\"C\",\"F\",\"G\",\"C\",\"B\",\"C\",\"G\",\"G\",\"F\",\"F\",\"B\",\"B\",\"C\",\"G\",\"G\",\"F\",\"F\",\"F\",\"F\",\"F\",\"F\",\"B\",\"B\",\"B\",\"F\",\"A\",\"E\",\"F\",\"F\",\"F\",\"F\",\"G\",\"C\",\"C\",\"C\",\"C\",\"C\",\"G\",\"G\",\"F\",\"C\",\"C\",\"G\",\"G\",\"C\",\"C\",\"G\",\"F\",\"C\",\"G\",\"G\",\"G\",\"B\",\"F\",\"F\",\"G\",\"E\",\"G\",\"C\",\"F\",\"B\",\"B\",null,\"B\",\"B\",\"B\",\"B\",\"C\",\"F\",\"C\",\"C\",\"C\",\"C\",\"C\",\"C\",\"G\",\"E\",\"G\",null,\"B\",\"G\",\"F\",\"C\",\"F\",\"F\",\"B\",\"B\",\"F\",\"F\",\"E\",\"G\",\"C\",null,\"E\",\"E\",\"B\",\"B\",\"F\",\"G\",\"G\",\"D\",\"D\",\"F\",\"F\",\"G\",\"G\",\"G\",\"F\",\"G\",\"G\",\"C\",\"C\",null,\"G\",\"G\",\"G\",\"G\",\"G\",\"G\",\"E\",\"G\",null,\"C\",\"C\",\"G\",\"F\",\"G\",\"C\",\"F\",\"C\",\"D\",\"F\",\"F\",\"D\",\"F\",\"G\",\"C\",\"B\",null,\"G\",\"B\",\"B\",\"F\",\"F\",\"F\",\"F\",\"F\",\"F\",\"D\",\"G\",\"G\",\"E\",\"F\",\"F\",\"E\",\"F\",\"G\",\"F\",\"G\",\"G\",\"E\",\"F\",\"G\",\"F\",\"F\",\"G\",\"C\",\"C\",\"C\",\"C\",\"C\",\"F\",\"F\",\"B\",\"C\",\"C\",\"C\",\"E\",\"F\",\"F\",\"G\",\"F\",\"F\",\"F\",\"E\",\"C\",\"C\",\"G\",\"D\",\"A\",\"A\",\"F\",\"F\",\"E\",\"F\",\"C\",\"C\",\"F\",\"F\",\"F\",\"F\",\"F\",\"E\",\"G\",\"F\",\"F\",\"F\",\"G\",\"F\",\"F\",\"F\",\"F\",\"G\",\"G\",\"A\",\"E\",\"E\",null,\"C\",\"C\",\"C\",\"C\",\"A\",\"F\",\"B\",\"B\",\"G\",\"F\",\"B\",\"G\",\"G\",\"E\",\"E\",\"F\",\"F\",null,\"E\",\"G\",\"F\",\"F\",\"F\",\"G\",\"F\",\"F\",\"G\",\"G\",\"G\",\"E\",null,\"C\",\"G\",\"F\",\"F\",\"D\",\"F\",\"F\",\"F\",\"F\",\"F\",\"G\",\"G\",\"G\",\"F\",\"F\",\"F\",\"E\",null,\"F\",\"F\",\"F\",\"F\",\"B\",\"B\",\"B\",\"D\",\"E\",\"E\",\"G\",\"F\",\"F\",\"G\",\"G\",\"F\",\"C\",\"F\",\"G\",\"G\",\"T\",\"G\",\"F\",\"E\",\"G\",\"F\",\"C\",\"F\",\"F\",\"F\",\"F\",\"F\",\"G\",\"G\",\"E\",\"B\",\"G\",\"E\",\"F\",\"F\",\"F\",\"C\",\"G\",\"G\",\"F\",\"B\",\"B\",\"G\",\"G\",\"G\",\"F\",\"F\",\"F\",\"G\",\"G\",\"F\",\"G\",\"E\",\"G\",\"F\",\"E\",\"F\",\"E\",\"F\",\"D\",\"F\",\"F\",\"G\",\"F\",\"B\",\"G\",\"G\",\"F\",\"F\",\"F\",\"F\",\"F\",\"F\",\"F\",\"F\",\"F\",\"F\",\"B\",\"B\",\"D\",\"F\",\"F\",\"F\",\"F\",\"F\",\"F\",\"G\",\"G\",\"F\",\"G\",\"F\",\"G\",\"G\",\"F\",\"A\",\"A\",\"A\",\"G\",\"G\",\"G\",\"F\",\"F\",\"G\",\"G\",\"G\",\"F\",\"G\",\"D\",\"E\",\"F\",\"B\",\"E\",\"G\",\"A\",null,\"G\",\"G\",\"G\",\"F\",\"F\",\"F\",\"G\",\"G\",\"G\",\"G\",\"F\",\"G\",\"G\",\"F\",\"G\",\"E\",\"B\",\"G\",\"F\",\"G\",\"F\",\"C\",\"G\",\"F\",\"G\",\"G\",\"B\",\"F\",\"B\",\"B\",\"B\",\"F\",\"F\",\"F\",\"F\",\"G\",\"F\",\"D\",\"F\",\"C\",\"F\",\"F\",\"G\",\"F\",\"F\",\"B\",\"G\",\"F\",\"E\",\"A\",\"E\",\"G\",\"G\",\"G\",\"G\",\"F\",\"F\",\"F\",\"F\",\"C\",\"C\",\"F\",\"G\",\"G\",null,\"F\",\"E\",\"F\",\"F\",\"G\",\"F\",\"F\",\"F\",\"F\",\"C\",\"C\",\"C\",\"C\",\"C\",\"C\",\"E\",\"G\",\"A\",\"E\",\"E\",\"F\",\"E\",\"F\",\"F\",\"G\",\"G\",\"F\",\"F\",\"G\",\"F\",\"G\",\"E\",\"E\",\"F\",\"F\",\"F\",\"B\",\"B\",\"G\",\"G\",\"G\",\"G\",\"E\",\"G\",\"F\",\"C\",\"F\",\"G\",\"G\",\"F\",\"E\",\"G\",null,\"G\",\"G\",\"G\",\"B\",\"B\",\"B\",\"C\",\"C\",\"C\",\"C\",\"C\",\"F\",\"F\",\"E\",\"F\",\"F\",\"F\",\"C\",\"G\",\"F\",\"F\",\"F\",\"G\",\"G\",\"G\",\"G\",\"G\",\"G\",\"F\",\"F\",\"G\",\"F\",\"F\",\"F\",\"G\",\"A\",\"G\",\"F\",\"F\",\"F\",\"F\",\"G\",\"G\",\"F\",\"F\",\"G\",\"F\",\"B\",\"E\",\"B\",\"B\",\"G\",\"F\",\"G\",\"D\",\"F\",\"F\",\"E\",\"E\",\"F\",\"D\",\"F\",\"F\",\"F\",\"F\",\"C\",\"C\",\"G\",\"E\",\"B\",\"C\",\"G\",\"B\",\"G\",\"G\",\"G\",\"E\",\"F\",\"E\",\"G\",\"G\",\"G\",\"F\",\"F\",\"C\",\"B\",\"B\",\"G\",\"G\",\"E\",\"F\",\"D\",\"F\",\"G\",\"F\",\"F\",\"G\",\"G\",\"G\",\"F\",\"G\",\"E\",\"F\",\"C\",\"C\",\"F\",\"F\",\"E\",\"F\",\"G\",\"G\",\"B\",\"B\",\"F\",\"D\",\"F\",\"F\",\"F\",\"F\",\"F\",\"E\",\"G\",\"G\",\"E\",\"F\",\"F\",\"G\",\"E\",\"G\",\"G\",\"G\",\"G\",\"F\",\"G\",\"F\",\"G\",\"F\",\"G\",\"G\",\"E\",\"F\",\"F\",\"F\",\"F\",\"B\",\"B\",null,\"B\",\"F\",\"D\",\"B\",\"C\",\"G\",\"G\",\"G\",\"F\",\"F\",\"A\",\"C\",\"F\",\"E\",\"F\",\"F\",\"F\",\"F\",\"F\",\"B\",\"F\",\"B\",\"G\",\"F\",\"F\",\"E\",\"F\",\"G\",\"G\",\"F\",\"F\",\"G\",\"C\",\"G\",\"G\",\"G\",\"G\",\"B\",\"B\",null,\"G\",\"G\",\"G\",\"G\",\"F\",\"F\",\"F\",\"B\",\"F\",\"B\",\"F\",\"C\",\"F\",\"F\",\"E\",\"E\",\"F\",\"F\",\"F\",\"F\",\"B\",\"F\",\"F\",\"G\",\"G\",\"G\",\"F\",\"G\",\"G\",\"E\",\"C\",\"C\",\"D\",\"E\",\"E\",\"C\",\"D\",\"C\",\"F\",\"B\",\"B\",\"D\",\"E\",\"F\",\"G\",\"E\",\"F\",\"F\",\"F\",\"E\",\"F\",\"E\",\"E\",\"C\",\"C\",\"C\",\"G\",\"E\",\"F\",\"C\",\"C\",\"C\",\"F\",\"F\",\"F\",\"A\",\"A\",\"D\",\"D\",\"G\",\"F\",\"F\",\"G\",\"G\",\"F\",\"E\",\"D\",\"D\",\"F\",\"D\",\"D\",\"D\",\"G\",\"F\",\"F\",\"F\",\"D\",\"D\",\"D\",\"B\",\"G\",\"G\",\"G\",\"G\",\"F\",\"F\",\"G\",\"F\",\"F\",\"E\",\"F\",\"F\",\"E\",\"F\",\"G\",\"D\",\"F\",\"E\",\"F\",\"E\",\"F\",\"F\",\"F\",\"F\",\"G\",\"E\",\"G\",\"F\",null,\"F\",\"G\",\"G\",\"F\",\"F\",\"B\",\"F\",\"F\",\"G\",\"F\",\"F\",\"G\",\"F\",\"C\",\"F\",\"E\",\"E\",\"F\",\"E\",\"C\",\"F\",\"F\",\"F\",\"F\",\"F\",\"B\",\"B\",\"B\",\"B\",\"B\",\"F\",\"B\",\"A\",\"G\",\"G\",\"F\",null,\"F\",\"G\",\"G\",\"F\",\"G\",null,\"F\",\"F\",\"G\",\"F\",\"B\",\"B\",\"B\",\"B\",\"G\",\"G\",\"F\",\"G\",\"F\",\"F\",\"G\",\"B\",\"B\",\"G\",\"D\",\"G\",\"F\",\"D\",\"E\",null,\"F\",\"G\",\"G\",\"E\",\"A\",\"B\",\"G\",\"G\",\"G\",\"G\",\"F\",\"E\",\"G\",\"F\",\"E\",\"F\",\"F\",\"G\",\"F\",\"F\",\"G\",\"G\",\"G\",\"G\",\"G\",\"F\",\"C\",\"E\",\"F\",\"F\",\"F\",\"G\",\"G\",\"G\",\"F\",\"F\",\"F\",\"F\",\"B\",\"E\",\"F\",\"C\",\"F\",\"G\",\"G\",\"G\",\"D\",\"G\",\"G\",\"F\",\"F\",\"F\",\"G\",\"E\",\"G\",\"G\",\"D\",\"A\",\"A\",\"A\",\"A\",\"C\",\"E\",\"B\",\"B\",\"G\",\"G\",\"F\",\"F\",\"F\",\"F\",\"F\",\"G\",\"G\",\"B\",\"G\",\"D\",\"G\",\"F\",\"G\",\"F\",\"F\",\"E\",\"F\",\"F\",\"F\",\"D\",\"G\",\"E\",\"G\",\"G\",null,\"F\",\"G\",\"B\",\"B\",\"E\",\"B\",\"B\",\"F\",\"G\",\"B\",\"B\",\"D\",\"D\",\"F\",\"G\",\"G\",\"F\",\"F\",\"G\",\"F\",\"G\",\"E\",\"E\",\"E\",\"E\",\"E\",\"G\",\"G\",\"G\",\"G\",\"F\",\"F\",\"G\",\"E\",\"B\",null,\"F\",\"F\",\"F\",\"F\",\"F\",\"F\",\"C\",\"C\",\"C\",\"C\",\"C\",\"G\",\"G\",\"F\",\"G\",\"F\",\"F\",\"E\",\"G\",\"G\",\"F\",\"A\",\"G\",\"G\",\"F\",\"B\",\"E\",\"G\",\"G\",\"G\",\"E\",\"G\",\"B\",\"B\",\"B\",\"B\",\"G\",null,\"D\",\"F\",\"F\",\"F\",\"E\",\"F\",\"G\",\"G\",\"F\",\"G\",\"G\",\"D\",\"G\",\"G\",\"G\",\"F\",\"G\",\"F\",\"C\",\"F\",\"F\",\"E\",\"G\",\"G\",\"G\",\"G\",\"G\",\"G\",\"F\",\"G\",\"G\",\"G\",\"G\",\"B\",\"B\",\"G\",\"E\",\"G\",\"F\",\"B\",\"G\",\"F\",\"F\",\"F\",\"G\",\"G\",\"F\",\"E\",\"F\",\"C\",\"C\",\"G\",\"G\",\"A\",\"A\",\"F\",\"G\",\"G\",\"F\",\"A\",\"E\",\"G\",\"G\",\"F\",\"F\",\"F\",\"F\",\"F\",\"F\",null,\"F\",\"F\",\"G\",\"B\",\"F\",\"F\",\"F\",\"C\",\"G\",\"B\",\"B\",\"B\",\"B\",\"G\",\"F\",\"C\",\"F\",\"F\",\"G\",\"G\",\"B\",\"B\",\"B\",\"F\",\"F\",\"F\",\"G\",\"F\",\"C\",\"G\",\"B\",\"E\",\"D\",\"F\",\"F\",\"F\",\"F\",\"D\",\"G\",\"F\",\"G\",\"F\",\"F\",\"F\",\"F\",\"G\",\"E\",\"A\",\"A\",\"G\",\"G\",\"G\",\"G\",\"G\",\"G\",\"G\",\"D\",\"D\",\"D\",\"D\",\"D\",\"D\",\"D\",\"G\",\"F\",\"G\",\"B\",\"F\",\"C\",\"G\",\"G\",\"G\",\"B\",\"E\",\"G\",\"G\",\"F\",null,\"F\",\"G\",\"B\",\"F\",\"C\",\"G\",\"C\",\"C\",\"G\",\"E\",\"E\",\"F\",\"E\",\"F\",\"E\",\"F\",\"F\",\"G\",\"B\",\"B\",\"E\",\"G\",\"E\",\"F\",\"F\",\"F\",\"G\",\"G\",\"F\",\"F\",\"E\",\"G\",\"F\",\"G\",\"E\",\"D\",\"F\",\"F\",\"F\",\"B\",\"F\",\"G\",\"F\",\"F\",\"F\",\"F\",\"G\",\"G\",\"G\",\"G\",\"G\",\"F\",\"E\",\"E\",\"F\",\"F\",\"F\",\"G\",\"G\",\"G\",\"G\",\"C\",\"G\",\"F\",\"F\",\"F\",\"F\",\"D\",\"E\",\"G\",\"G\",\"G\",\"F\",\"F\",\"G\",\"G\",\"G\",\"D\",\"E\",\"E\",\"A\",\"F\",\"G\",\"F\",\"G\",\"F\",\"F\",\"B\",\"B\",\"B\",\"B\",\"B\",\"B\",\"B\",\"B\",\"B\",\"B\",\"E\",\"B\",\"B\",\"B\",\"A\",\"F\",\"G\",\"E\",\"G\",\"E\",\"E\",\"G\",\"G\",\"G\",\"G\",\"E\",\"E\",\"D\",\"F\",\"E\",\"F\",\"F\",\"E\",\"E\",\"E\",\"F\",\"E\",\"B\",\"B\",\"B\",\"D\",\"D\",\"C\",\"C\",\"C\",\"F\",\"G\",\"G\",\"G\",\"G\",\"F\",\"G\",\"F\",\"G\",\"B\",\"F\",\"F\",\"F\",\"D\",\"E\",\"D\",\"B\",\"B\",\"B\",\"B\",\"C\",\"F\",\"F\",\"F\",\"F\",\"F\",\"D\",\"E\",\"F\",\"D\",\"G\",\"F\",\"F\",\"G\",\"C\",\"G\",\"E\",\"F\",\"G\",\"G\",\"G\",null,\"D\",\"G\",\"G\",\"F\",\"D\",\"D\",\"G\",\"F\",\"G\",\"F\",\"E\",\"B\",\"B\",\"E\",\"G\",\"F\",\"F\",\"F\",\"G\",\"G\",\"G\",\"G\",\"F\",\"G\",\"G\",\"F\",\"G\",\"F\",\"F\",\"B\",\"A\",\"A\",\"A\",null,\"A\",\"E\",\"G\",\"G\",\"G\",\"G\",\"G\",\"G\",\"G\",\"F\",\"G\",\"E\",\"G\",\"E\",\"F\",\"E\",\"E\",\"E\",\"E\",\"G\",\"C\",\"C\",\"C\",\"F\",\"G\",\"F\",\"G\",\"F\",\"F\",\"G\",\"B\",\"G\",null,\"G\",\"G\",\"F\",\"C\",\"C\",\"C\",\"F\",\"G\",\"F\",\"F\",\"E\",\"C\",\"E\",\"C\",\"C\",\"C\",\"G\",\"F\",\"D\",\"D\",\"G\",\"F\",\"B\",\"G\",\"G\",\"G\",\"G\",\"F\",\"A\",\"F\",\"F\",\"G\",\"F\",\"F\",\"G\",\"G\",\"C\",\"C\",\"C\",\"D\",\"F\",\"F\",\"F\",\"F\",\"G\",\"F\",\"F\",\"G\",\"E\",\"C\",\"F\",\"F\",\"C\",\"C\",\"E\",\"A\",\"A\",null,\"A\",\"A\",\"F\",\"E\",\"F\",\"B\",\"F\",\"E\",\"F\",\"C\",\"C\",\"F\",\"F\",\"G\",\"C\",\"E\",\"G\",\"F\",\"C\",\"F\",\"G\",\"F\",\"F\",\"G\",\"F\",\"G\",\"G\",\"G\",\"G\",\"E\",\"C\",\"C\",\"C\",\"C\",\"C\",\"C\",\"F\",null,\"F\",\"C\",\"B\",\"F\",\"F\",\"G\",\"F\",\"B\",\"B\",\"B\",\"F\",\"F\",\"E\",\"G\",\"F\",\"E\",\"E\",\"G\",\"G\",\"G\",\"G\",\"G\",\"E\",\"G\",\"B\",\"F\",\"G\",\"G\",\"G\",\"G\",\"G\",\"F\",\"G\",\"B\",\"G\",\"C\",\"G\",\"G\",\"E\",\"G\",\"A\",\"A\",\"A\",\"A\",\"F\",\"F\",\"E\",\"D\",\"B\",\"B\",\"B\",\"A\",\"D\",\"F\",\"F\",\"F\",\"E\",\"F\",\"D\",\"F\",\"B\",\"B\",\"F\",\"F\",\"E\",\"F\",\"F\",\"F\",\"E\",\"F\",\"G\",\"G\",\"F\",\"G\",\"F\",\"E\",\"B\",\"F\",\"F\",\"F\",\"F\",\"F\",\"F\",\"G\",\"G\",\"F\",\"G\",\"G\",\"G\",\"F\",\"F\",\"F\",\"F\",\"B\",\"B\",\"G\",\"F\",\"D\",\"B\",\"B\",\"F\",null,\"F\",\"F\",\"F\",\"F\",\"A\",\"D\",\"D\",\"F\",\"G\",\"G\",\"A\",\"G\",\"G\",\"F\",\"F\",\"F\",\"B\",\"B\",\"G\",\"G\",\"G\",\"F\",\"B\",\"G\",\"C\",\"F\",\"F\",\"F\",\"G\",\"G\",null,\"G\",\"G\",\"G\",\"C\",\"B\",\"B\",\"G\",\"G\",\"G\",\"G\",\"G\",\"G\",\"D\",\"D\",\"C\",\"E\",\"F\",\"G\",\"G\",\"E\",\"C\",\"C\",\"C\",\"E\",\"C\",\"C\",\"E\",\"G\",\"G\",\"G\",\"F\",\"F\",\"F\",\"G\",\"G\",\"F\",\"G\",\"G\",\"C\",\"G\",\"G\",\"G\",\"G\",\"E\",\"F\",\"G\",\"F\",\"F\",\"G\",\"C\",\"C\",\"D\",\"E\",\"G\",\"G\",\"F\",\"F\",\"G\",\"C\",\"F\",\"E\",\"D\",\"F\",\"F\",\"F\",\"F\",\"A\",\"A\",\"A\",\"G\",null,\"G\",\"G\",\"G\",\"E\",\"G\",\"G\",\"A\",\"E\",\"F\",\"F\",\"G\",\"F\",\"F\",\"G\",\"B\",\"B\",\"B\",\"B\",\"F\",\"F\",\"F\",\"G\",\"F\",\"G\",\"F\",\"F\",null,\"G\",\"G\",\"G\",\"G\",\"G\",\"G\",\"E\",\"F\",\"G\",\"G\",\"A\",\"A\",\"G\",\"G\",\"G\",\"G\",\"G\",\"G\",\"F\",null,\"G\",\"G\",null,\"B\",\"G\",\"G\",\"G\",\"F\",\"E\",\"A\",\"G\",\"F\",null,\"F\",\"E\",\"C\",null,\"F\",\"F\",\"F\",\"E\",\"F\",\"C\",\"C\",\"G\",\"F\",\"G\",\"G\",\"D\",\"D\",\"D\",\"G\",\"G\",\"F\",\"G\",\"G\",\"G\",\"G\",\"G\",\"G\",\"F\",\"G\",\"G\",\"G\",\"G\",\"G\",\"G\",\"G\",\"G\",\"F\",\"E\",\"F\",\"C\",\"C\",null,\"F\",\"G\",\"G\",\"G\",\"G\",\"D\",\"E\",\"F\",\"E\",\"G\",\"F\",\"F\",\"F\",\"F\",\"F\",\"F\",\"F\",\"E\",\"D\",\"E\",\"G\",\"B\",\"B\",\"F\",\"F\",\"D\",\"D\",\"E\",\"E\",\"G\",\"F\",\"F\",\"F\",\"F\",\"G\",\"F\",\"A\",\"G\",\"C\",\"C\",\"C\",\"C\",\"G\",\"G\",\"F\",\"E\",\"F\",\"G\",\"F\",\"F\",\"F\",\"D\",\"F\",\"G\",\"G\",\"A\",\"A\",\"A\",\"F\",\"B\",\"B\",\"F\",\"G\",\"F\",\"F\",\"F\",\"G\",\"G\",\"G\",\"G\",\"G\",\"E\",\"G\",\"E\",\"C\",\"G\",\"F\",\"C\",\"F\",\"G\",\"F\",\"G\",\"F\",\"D\",\"G\",\"F\",\"F\",\"F\",\"E\",\"F\",\"F\",\"B\",\"B\",\"F\",\"F\",\"G\",\"E\",\"F\",\"G\",\"F\",\"F\",\"G\",\"G\",\"F\",\"F\",\"A\",\"E\",\"F\",\"G\",\"A\",\"B\",\"B\",\"G\",\"F\",\"G\",\"G\",\"B\",\"B\",\"F\",\"F\",\"F\",\"F\",\"G\",\"G\",\"F\",\"C\",\"F\",\"F\",\"D\",\"C\",\"F\",\"F\",\"E\",\"E\",\"G\",\"F\",\"G\",\"F\",\"F\",\"C\",\"G\",\"F\",\"G\",\"G\",\"B\",\"G\",\"G\",\"F\",\"G\",\"F\",\"F\",\"C\",\"B\",\"B\",null,\"C\",\"C\",\"F\",\"G\",\"G\",\"C\",\"C\",\"G\",\"F\",\"G\",\"G\",\"F\",\"F\",\"G\",null,\"G\",\"G\",\"G\",\"E\",\"B\",\"F\",\"F\",\"G\",\"G\",\"G\",\"G\",\"F\",\"G\",\"B\",\"B\",\"B\",\"B\",\"C\",\"G\",\"G\",\"E\",\"F\",\"F\",\"F\",\"E\",\"F\",\"F\",\"E\",\"F\",\"E\",\"E\",\"E\",\"E\",\"E\",\"E\",\"F\",\"E\",\"D\",\"G\",\"F\",\"G\",\"C\",\"C\",\"C\",\"F\",\"B\",\"E\",\"G\",\"G\",\"F\",\"E\",\"G\",\"B\",\"B\",\"G\",\"A\",\"A\",\"A\",\"A\",\"A\",\"A\",\"G\",\"D\",\"F\",\"G\",\"G\",\"G\",\"F\",\"A\",\"G\",\"E\",\"E\",\"E\",\"C\",\"C\",\"C\",\"G\",\"G\",\"A\",\"A\",\"A\",\"G\",\"F\",\"C\",\"C\",\"C\",\"C\",\"D\",\"G\",\"G\",\"F\",\"F\",\"F\",\"F\",\"D\",\"E\",\"E\",\"F\",\"G\",\"C\",\"F\",\"F\",\"F\",\"D\",\"G\",\"G\",\"F\",\"E\",\"B\",\"B\",\"C\",\"F\",\"G\",\"G\",\"F\",\"F\",\"F\",\"F\",\"E\",\"F\",\"G\",\"F\",\"F\",\"F\",\"G\",\"G\",\"G\",\"F\",\"G\",\"G\",\"F\",\"G\",\"F\",\"F\",\"B\",\"B\",\"B\",\"B\",\"C\",\"C\",\"F\",\"G\",\"G\",\"F\",\"F\",\"F\",\"F\",\"F\",\"F\",\"F\",\"F\",\"G\",\"D\",\"F\",\"D\",\"G\",\"F\",\"C\",\"G\",\"B\",\"A\",\"E\",\"G\",\"F\",\"E\",\"E\",null,\"E\",\"E\",\"F\",\"E\",\"G\",\"G\",\"G\",\"G\",\"G\",\"G\",\"F\",\"F\",\"F\",\"F\",\"F\",\"G\",\"F\",\"F\",\"G\",\"A\",\"A\",\"A\",\"A\",\"G\",\"G\",\"G\",\"G\",\"F\",\"E\",\"G\",\"E\",\"F\",\"F\",\"E\",\"B\",\"B\",\"E\",\"D\",\"F\",\"G\",\"E\",\"E\",\"C\",\"E\",\"F\",\"B\",\"B\",\"B\",\"B\",\"G\",\"G\",\"G\",\"G\",\"F\",\"A\",\"A\",\"D\",\"D\",\"C\",\"C\",\"F\",\"F\",\"G\",\"A\",\"G\",\"F\",\"E\",\"F\",\"E\",\"G\",\"F\",\"G\",\"F\",\"D\",\"F\",\"B\",\"F\",\"F\",\"F\",\"C\",\"E\",\"F\",\"F\",null,\"A\",\"A\",\"G\",\"F\",\"D\",\"F\",\"F\",\"E\",\"F\",\"F\",\"E\",\"F\",\"G\",\"C\",\"G\",\"F\",\"C\",\"F\",\"E\",\"F\",\"F\",\"G\",\"E\",\"C\",\"C\",\"C\",\"C\",\"C\",\"C\",\"G\",\"G\",\"F\",\"E\",\"G\",\"G\",\"G\",\"E\",\"G\",\"C\",\"G\",\"F\",\"E\",\"G\",\"G\",\"F\",\"B\",\"C\",\"B\",\"F\",\"B\",\"B\",\"E\",\"B\",\"B\",\"D\",\"D\",\"E\",\"E\",\"B\",\"G\",\"G\",\"F\",\"F\",\"F\",\"C\",\"F\",\"F\",null,\"E\",\"C\",\"C\",\"C\",\"C\",\"C\",\"C\",\"G\",\"E\",\"G\",\"G\",\"G\",\"E\",\"E\",\"F\",\"F\",\"G\",\"F\",\"F\",\"F\",\"G\",\"G\",\"C\",\"C\",null,\"B\",\"B\",\"G\",\"G\",\"G\",\"B\",\"B\",\"F\",\"F\",\"D\",\"F\",\"F\",\"E\",\"D\",\"G\",\"F\",\"F\",\"G\",\"E\",\"E\",\"F\",\"G\",\"F\",\"F\",\"G\",\"C\",\"C\",\"G\",\"G\",\"E\",\"F\",\"F\",\"G\",\"G\",\"D\",\"D\",\"G\",\"A\",\"E\",\"G\",\"G\",\"F\",\"F\",\"G\",\"F\",\"F\",\"G\",\"D\",\"G\",\"F\",\"G\",\"F\",\"G\",\"D\",\"D\",\"G\",\"F\",\"G\",\"F\",\"D\",\"E\",\"F\",\"D\",\"F\",\"F\",\"G\",\"G\",\"G\",\"F\",\"F\",\"E\",\"G\",\"G\",\"G\",\"F\",\"G\",\"G\",\"F\",\"F\",\"G\",\"F\",\"G\",\"E\",\"C\",\"C\",\"F\",\"F\",\"F\",\"F\",\"F\",\"G\",\"F\",\"D\",\"F\",\"G\",\"F\",\"G\",\"E\",\"G\",\"C\",\"C\",\"C\",\"A\",\"A\",\"A\",\"A\",\"F\",\"F\",\"C\",\"C\",\"F\",\"F\",\"B\",\"F\",\"F\",\"F\",\"F\",\"F\",\"G\",\"B\",\"F\",\"F\",\"F\",\"B\",\"B\",\"F\",\"B\",\"B\",\"B\",\"B\",\"B\",\"G\",\"F\",\"G\",\"F\",\"F\",\"E\",\"E\",\"E\",\"F\",\"G\",\"A\",\"F\",\"E\",\"G\",\"G\",\"F\",\"E\",\"E\",\"E\",\"E\",null,\"D\",\"C\",\"G\",\"E\",\"F\",\"F\",\"F\",\"B\",\"G\",\"G\",\"G\",\"G\",\"F\",\"C\",\"C\",\"C\",\"F\",\"E\",\"E\",\"F\",null,\"G\",\"E\",\"E\",\"E\",\"G\",\"C\",\"C\",\"C\",\"C\",\"G\",\"F\",\"G\",\"F\",\"F\",\"F\",\"G\",\"C\",\"E\",\"E\",\"F\",\"F\",\"G\",\"G\",\"F\",\"F\",\"F\",\"F\",\"E\",\"F\",\"B\",\"C\",\"C\",\"C\",null,\"C\",\"C\",\"B\",\"G\",\"A\",\"E\",\"F\",\"F\",\"G\",\"B\",\"E\",\"G\",\"B\",null,\"F\",\"F\",\"F\",\"B\",\"F\",\"F\",\"E\",\"F\",\"F\",\"E\",\"D\",\"G\",\"E\",\"G\",\"E\",\"F\",\"F\",\"F\",\"G\",\"C\",\"C\",\"E\",\"G\",\"G\",\"G\",\"F\",\"F\",\"G\",\"E\",\"C\",\"F\",\"F\",\"G\",\"G\",\"A\",\"D\",\"D\",\"D\",\"D\",\"D\",\"D\",\"D\",\"G\",\"F\",\"G\",\"F\",\"E\",\"E\",\"F\",\"G\",\"E\",\"F\",\"F\",\"D\",\"F\",\"D\",\"C\",\"F\",\"F\",\"F\",\"F\",\"C\",\"F\",\"F\",\"F\",\"C\",\"D\",\"E\",\"E\",\"F\",\"F\",\"A\",\"D\",\"E\",\"E\",\"G\",\"G\",\"F\",\"F\",\"E\",\"G\",\"G\",\"D\",\"C\",\"C\",null,\"G\",\"G\",\"F\",\"E\",\"G\",\"C\",\"C\",\"G\",\"G\",\"D\",\"F\",\"F\",\"G\",\"F\",\"F\",\"E\",\"G\",\"F\",\"F\",\"C\",\"G\",\"G\",\"G\",\"G\",\"E\",\"G\",\"B\",\"B\",\"B\",\"B\",\"C\",\"C\",\"C\",\"F\",\"F\",\"E\",\"C\",\"C\",\"G\",\"F\",\"G\",\"F\",\"G\",\"F\",\"B\",\"F\",\"G\",\"F\",\"G\",\"G\",\"G\",\"F\",\"A\",null,\"G\",\"A\",\"E\",\"B\",\"G\",\"B\",\"B\",\"B\",\"E\",\"E\",null,\"G\",\"G\",\"G\",\"F\",\"F\",\"F\",\"G\",\"B\",\"B\",\"B\",\"C\",\"A\",\"G\",\"E\",\"G\",\"B\",\"F\",\"D\",\"G\",\"G\",\"F\",\"F\",\"F\",\"F\",\"C\",\"F\",\"G\",\"E\",\"G\",null,\"G\",\"G\",\"E\",\"E\",\"G\",\"D\",\"E\",\"F\",\"C\",\"F\",\"F\",\"F\",\"F\",\"F\",\"F\",\"C\",\"B\",\"B\",\"F\",\"F\",\"F\",\"F\",\"F\",\"E\",\"E\",\"E\",\"B\",\"F\",\"F\",\"F\",\"E\",\"F\",\"F\",\"F\",\"F\",\"B\",\"B\",\"F\",\"F\",\"G\",\"G\",\"G\",\"G\",\"C\",\"C\",\"F\",\"G\",\"B\",\"B\",\"G\",\"F\",\"F\",\"F\",\"A\",\"A\",\"F\",\"F\",\"E\",\"G\",\"E\",\"G\",\"E\",\"F\",\"F\",\"C\",\"F\",\"F\",\"B\",\"B\",\"B\",\"B\",\"G\",\"F\",\"E\",\"D\",\"G\",\"G\",\"B\",\"D\",\"D\",\"E\",\"F\",\"G\",\"G\",\"F\",\"B\",\"B\",\"B\",\"C\",\"C\",\"C\",\"C\",\"C\",\"G\",\"G\",\"F\",\"C\",\"F\",\"C\",\"C\",\"G\",\"E\",\"G\",\"F\",\"F\",\"F\",\"F\",\"F\",\"A\",\"A\",\"C\",\"F\",\"G\",\"F\",\"B\",\"G\",\"G\",\"C\",\"F\",\"E\",\"A\",\"F\",\"D\",\"F\",\"E\",\"D\",\"G\",\"G\",\"B\",\"B\",\"G\",\"F\",\"C\",\"C\",\"G\",\"C\",\"C\",\"C\",\"G\",\"G\",\"G\",\"G\",\"G\",\"F\",\"G\",\"B\",\"G\",\"B\",\"G\",\"G\",\"F\",\"B\",\"G\",\"F\",\"F\",\"D\",\"G\",\"G\",\"G\",\"G\",\"C\",\"G\",\"F\",\"C\",\"F\",\"G\",\"F\",\"G\",\"F\",\"C\",\"B\",\"B\",\"F\",\"E\",\"F\",\"B\",\"B\",\"F\",\"G\",\"F\",\"G\",\"G\",\"G\",\"F\",\"G\",\"F\",\"F\",\"G\",\"B\",\"D\",\"A\",\"B\",\"G\",\"F\",\"E\",\"G\",\"E\",\"F\",\"D\",\"B\",\"F\",\"E\",\"C\",\"C\",\"B\",\"E\",\"F\",\"F\",\"G\",\"E\",\"F\",\"F\",\"G\",\"B\",\"B\",null,\"F\",\"A\",\"A\",\"D\",\"D\",\"C\",\"F\",\"G\",\"B\",\"E\",\"B\",\"B\",\"G\",\"F\",\"G\",\"G\",\"F\",\"G\",\"F\",\"E\",\"G\",\"F\",\"G\",\"G\",\"D\",\"C\",\"D\",\"G\",\"F\",\"E\",\"F\",\"C\",\"C\",\"F\",\"F\",\"G\",\"F\",\"B\",null,\"F\",\"F\",\"F\",\"F\",\"F\",\"F\",\"F\",\"E\",\"G\",null,\"F\",\"G\",\"G\",\"G\",\"F\",\"G\",\"F\",\"F\",\"F\",\"F\",\"F\",\"F\",\"F\",\"G\",\"G\",\"G\",\"F\",\"G\",\"G\",\"G\",\"G\",\"G\",\"G\",\"F\",\"D\",\"B\",\"B\",\"G\",\"G\",\"B\",\"B\",\"G\",\"F\",\"G\",\"F\",\"E\",null,\"B\",\"G\",null,\"F\",\"G\",\"E\",\"F\",\"E\",\"F\",\"E\",\"F\",\"F\",\"G\",\"F\",\"F\",\"F\",\"G\",\"F\",\"F\",\"C\",\"C\",\"C\",\"C\",\"E\",\"B\",null,\"G\",\"G\",\"F\",\"G\",\"G\",\"G\",\"F\",\"F\",\"B\",\"G\",\"G\",\"G\",\"F\",\"G\",\"G\",\"G\",\"E\",\"G\",\"G\",\"E\",\"C\",\"F\",\"G\",null,\"G\",null,\"F\",\"E\",\"F\",\"C\",\"G\",\"G\",\"G\",\"F\",\"G\",\"G\",\"G\",\"G\",\"F\",null,\"G\",\"C\",\"C\",\"C\",\"F\",\"B\",\"F\",\"G\",\"G\",\"G\",\"G\",\"G\",\"F\",\"G\",\"F\",\"F\",\"F\",\"E\",\"B\",null,\"F\",\"F\",\"G\",\"G\",\"D\",\"D\",\"G\",\"F\",\"C\",\"B\",\"B\",\"D\",\"D\",\"F\",\"F\",\"F\",\"G\",\"G\",\"G\",\"E\",\"G\",\"F\",\"E\",\"G\",\"G\",\"G\",\"E\",\"F\",\"G\",\"G\",\"D\",\"C\",\"B\",\"B\",\"C\",\"C\",\"C\",\"G\",\"F\",\"G\",\"B\",\"B\",null,\"F\",\"F\",\"F\",\"F\",\"F\",\"F\",\"D\",\"B\",\"G\",\"G\",\"A\",\"A\",\"G\",null,\"F\",\"B\",\"G\",\"G\",\"F\",\"F\",\"F\",\"G\",\"F\",\"F\",\"G\",\"E\",\"C\",\"F\",\"E\",\"F\",\"G\",\"B\",\"B\",\"B\",\"E\",\"F\",\"F\",\"F\",\"G\",\"D\",\"D\",\"F\",\"B\",\"F\",\"G\",\"F\",\"G\",\"G\",\"D\",\"A\",\"A\",\"E\",\"E\",\"F\",\"F\",\"F\",\"F\",\"C\",\"C\",\"G\",\"A\",\"A\",\"A\",\"A\",\"G\",\"G\",\"G\",null,\"G\",\"G\",\"G\",\"F\",\"F\",\"E\",\"C\",\"C\",\"B\",\"B\",\"F\",\"G\",\"F\",\"F\",\"F\",null,\"E\",\"E\",\"F\",\"F\",\"F\",\"D\",\"F\",\"D\",\"D\",\"F\",\"C\",\"C\",\"G\",\"F\",\"F\",\"D\",\"G\",\"F\",\"F\",\"C\",\"F\",\"G\",\"B\",\"E\",\"F\",\"F\",\"F\",\"D\",\"D\",\"D\",\"C\",\"B\",\"B\",\"B\",\"B\",\"B\",\"F\",\"F\",\"F\",\"G\",\"F\",\"F\",\"F\",\"B\",\"B\",\"D\",\"B\",\"B\",\"B\",\"G\",\"F\",\"F\",\"F\",\"D\",\"G\",\"C\",\"C\",\"C\",\"G\",\"F\",\"F\",null,\"G\",\"F\",\"F\",\"E\",\"G\",\"G\",\"G\",\"F\",\"D\",\"C\",\"C\",\"C\",\"G\",\"G\",\"E\",\"G\",\"G\",\"F\",\"B\",\"B\",\"B\",\"B\",\"G\",null,\"G\",\"G\",\"G\",\"G\",\"E\",\"E\",\"E\",\"G\",\"G\",\"G\",\"G\",\"F\",\"G\",\"G\",\"G\",\"G\",\"F\",\"F\",\"F\",\"E\",\"G\",\"E\",\"G\",\"F\",\"F\",\"F\",\"F\",\"G\",\"G\",\"G\",\"G\",\"F\",\"C\",\"C\",\"A\",\"G\",\"G\",\"F\",\"G\",\"G\",\"G\",\"G\",\"C\",\"B\",\"G\",\"F\",\"F\",\"F\",\"G\",\"G\",\"C\",\"C\",\"C\",\"C\",\"C\",\"C\",\"C\",\"C\",\"E\",\"E\",\"G\",\"F\",\"G\",\"G\",\"D\",\"G\",\"F\",\"G\",\"D\",\"G\",\"F\",\"B\",\"G\",\"A\",\"F\",\"D\",\"F\",\"G\",null,\"F\",\"F\",\"F\",\"E\",\"G\",\"G\",\"G\",\"F\",\"F\",\"F\",\"F\",\"F\",\"F\",\"G\",\"F\",\"G\",\"G\",\"G\",\"D\",\"G\",\"G\",\"G\",\"F\",\"G\",\"G\",\"F\",\"G\",\"E\",\"G\",\"F\",\"G\",\"G\",\"G\",\"F\",\"G\",\"G\",\"E\",\"F\",\"B\",\"B\",\"F\",\"F\",\"F\",\"F\",\"F\",\"G\",\"F\",\"C\",\"C\",\"G\",\"G\",\"F\",\"F\",\"G\",\"E\",\"D\",\"F\",\"G\",\"G\",\"C\",\"E\",\"F\",\"F\",\"F\",\"C\",\"C\",\"G\",\"F\",\"F\",\"G\",\"G\",\"G\",\"A\",\"A\",\"E\",\"G\",\"D\",\"D\",\"F\",\"F\",\"F\",\"F\",\"F\",\"F\",\"F\",\"F\",\"G\",\"F\",null,\"C\",\"E\",\"G\",\"G\",\"G\",\"G\",\"F\",\"G\",\"C\",\"G\",\"E\",\"E\",\"F\",\"F\",\"F\",\"D\",\"D\",\"F\",\"E\",\"E\",\"E\",\"F\",\"D\",\"D\",\"D\",\"F\",\"F\",\"E\",\"B\",\"B\",\"G\",\"B\",\"B\",\"F\",\"A\",\"A\",\"G\",\"G\",null,\"G\",\"G\",\"G\",\"G\",\"F\",\"F\",\"E\",\"F\",\"F\",null,null,\"F\",\"E\",\"F\",\"F\",\"G\",\"E\",\"C\",\"G\",\"G\",\"G\",\"G\",\"G\",\"G\",\"G\",\"F\",\"G\",\"F\",\"G\",\"F\",\"F\",\"B\",\"D\",\"G\",\"B\",\"B\",\"C\",\"C\",\"G\",\"G\",\"G\",\"D\",\"F\",\"G\",\"F\",\"F\",\"G\",\"E\",\"B\",\"B\",\"F\",\"G\",\"E\",\"F\",\"F\",\"G\",\"G\",\"F\",\"B\",\"B\",\"G\",\"F\",null,\"F\",\"G\",\"E\",\"F\",\"F\",\"B\",\"C\",\"C\",\"F\",\"F\",\"C\",\"C\",\"C\",\"C\",\"G\",\"C\",\"F\",\"C\",\"C\",\"C\",\"C\",\"C\",\"C\",\"G\",\"F\",\"F\",\"F\",\"E\",\"F\",\"F\",\"G\",\"D\",\"G\",\"C\",\"E\",\"G\",\"F\",\"B\",\"B\",\"D\",\"F\",\"F\",\"G\",\"G\",\"B\",\"G\",\"D\",\"G\",\"C\",\"G\",\"F\",\"F\",\"G\",\"E\",\"C\",\"F\",\"D\",\"B\",\"B\",\"B\",\"F\",\"G\",\"F\",\"F\",\"F\",\"F\",\"G\",\"G\",\"F\",\"F\",\"F\",\"A\",\"F\",\"C\",\"B\",\"G\",\"F\",\"F\",\"E\",\"F\",\"F\",\"F\",\"G\",\"F\",\"D\",\"D\",\"E\",\"F\",\"F\",\"F\",\"F\",\"D\",\"E\",\"F\",\"E\",\"B\",\"B\",\"B\",\"B\",\"E\",\"F\",\"F\",\"G\",\"G\",\"G\",\"A\",\"G\",\"F\",\"A\",\"F\",\"G\",\"F\",\"D\",\"F\",\"F\",\"F\",\"F\",\"G\",\"C\",\"C\",\"F\",\"D\",\"E\",\"F\",\"E\",\"D\",\"D\",\"G\",\"E\",\"C\",\"C\",\"G\",\"G\",\"G\",null,\"G\",\"G\",\"G\",\"G\",null,\"F\",\"F\",\"C\",null,\"C\",\"C\",\"C\",\"G\",\"F\",\"E\",\"G\",\"E\",\"G\",\"F\",\"G\",\"G\",\"G\",\"E\",\"G\",\"F\",\"F\",\"F\",\"B\",\"B\",\"E\",\"F\",null,\"F\",\"G\",\"F\",\"F\",\"G\",\"E\",\"F\",\"G\",\"E\",\"F\",\"F\",\"F\",\"E\",\"G\",\"G\",\"G\",\"E\",\"D\",\"F\",\"F\",\"F\",\"F\",\"F\",\"F\",\"F\",\"F\",\"F\",\"C\",\"C\",\"C\",\"C\",\"G\",\"G\",\"F\",\"A\",\"A\",\"A\",\"F\",\"E\",\"F\",\"F\",\"F\",\"G\",null,\"G\",\"F\",\"F\",\"D\",\"E\",\"F\",\"G\",\"F\",\"G\",\"A\",\"G\",\"C\",\"F\",\"B\",\"F\",\"F\",\"F\",\"F\",\"F\",\"F\",\"G\",\"F\",\"F\",\"G\",\"G\",\"G\",\"G\",\"G\",\"F\",\"C\",\"F\",\"F\",\"F\",\"F\",\"D\",\"G\",\"F\",\"F\",\"F\",\"D\",\"F\",\"F\",\"A\",\"A\",\"A\",\"F\",\"B\",\"E\",\"E\",\"F\",\"F\",\"F\",\"G\",\"F\",\"F\",\"G\",\"G\",null,\"G\",\"E\",\"E\",\"F\",\"G\",\"G\",\"F\",\"F\",\"F\",\"A\",\"A\",\"A\",\"F\",\"E\",\"E\",\"F\",\"F\",\"D\",\"F\",\"F\",\"F\",\"G\",\"D\",\"G\",\"F\",\"F\",\"F\",\"G\",\"F\",\"F\",\"F\",\"F\",\"F\",null,\"F\",\"F\",\"F\",\"F\",\"G\",\"B\",null,\"D\",\"G\",\"E\",\"G\",\"G\",\"G\",\"F\",\"D\",\"D\",\"F\",\"G\",\"B\",\"G\",\"G\",\"E\",\"D\",\"F\",\"E\",\"G\",\"F\",\"G\",\"G\",\"F\",\"F\",\"F\",\"G\",\"F\",\"F\",\"G\",\"F\",\"D\",\"F\",\"F\",\"G\",\"F\",\"F\",\"E\",\"E\",\"G\",\"F\",\"B\",\"B\",\"B\",\"B\",\"B\",\"G\",\"G\",\"G\",\"G\",\"E\",\"A\",\"F\",\"F\",\"G\",\"C\",\"C\",\"C\",\"F\",\"F\",\"E\",\"F\",\"F\",\"G\",\"F\",\"G\",\"F\",\"G\",\"G\",\"F\",\"F\",\"D\",\"C\",\"E\",\"F\",\"E\",\"F\",\"G\",\"E\",\"D\",\"D\",\"G\",\"G\",\"G\",\"B\",\"F\",\"F\",\"F\",\"E\",\"C\",\"C\",\"C\",\"C\",\"C\",\"C\",\"E\",\"F\",\"F\",\"B\",\"B\",\"G\",\"G\",\"G\",\"G\",\"F\",\"G\",\"B\",\"E\",\"F\",\"F\",\"G\",\"F\",\"D\",\"G\",\"G\",\"G\",\"G\",\"G\",\"F\",\"F\",\"F\",\"F\",\"F\",\"G\",\"G\",\"G\",\"B\",\"G\",\"G\",\"G\",\"E\",\"F\",\"G\",\"E\",\"G\",\"C\",\"D\",\"G\",\"G\",\"E\",\"C\",\"F\",\"F\",\"E\",\"F\",\"F\",\"G\",\"E\",\"E\",\"F\",\"E\",\"C\",\"G\",\"G\",\"G\",\"D\",\"D\",\"F\",\"B\",\"B\",\"G\",\"F\",\"F\",\"G\",\"G\",\"G\",\"G\",\"F\",\"F\",\"F\",\"C\",\"G\",\"G\",\"G\",\"F\",\"G\",\"F\",\"F\",\"F\",\"F\",\"G\",\"E\",\"C\",\"C\",\"F\",\"G\",\"G\",\"F\",\"F\",\"D\",\"F\",\"E\",\"F\",\"E\",\"F\",\"E\",\"F\",\"D\",\"G\",\"G\",\"G\",\"G\",\"F\",\"G\",\"F\",\"G\",\"B\",\"B\",\"B\",\"B\",\"D\",\"F\",\"D\",\"F\",\"F\",\"G\",\"E\",\"D\",\"F\",\"F\",\"B\",\"B\",\"G\",\"F\",\"F\",\"G\",\"F\",\"F\",\"G\",\"G\",\"G\",\"G\",\"B\",\"B\",\"G\",\"E\",\"F\",\"E\",\"D\",\"E\",\"F\",\"G\",\"G\",\"D\",\"F\",\"G\",\"G\",\"E\",\"D\",\"D\",\"D\",\"D\",\"D\",\"G\",\"G\",\"F\",\"A\",\"G\",\"B\",\"F\",\"C\",\"C\",\"G\",\"C\",\"G\",\"F\",null,\"B\",\"F\",\"F\",\"D\",\"F\",\"F\",\"C\",\"B\",\"B\",null,\"B\",\"B\",\"F\",\"F\",\"F\",\"F\",\"A\",\"B\",\"G\",\"G\",\"G\",\"G\",\"G\",\"G\",\"E\",\"G\",\"F\",\"G\",\"E\",\"E\",\"F\",\"G\",\"F\",null,\"G\",\"F\",\"F\",\"G\",\"G\",\"E\",\"A\",\"A\",\"A\",\"G\",\"G\",\"G\",\"F\",\"F\",\"E\",\"F\",\"G\",\"C\",\"F\",\"G\",\"G\",\"G\",\"F\",\"E\",\"D\",\"B\",\"F\",\"F\",\"E\",\"G\",\"G\",\"F\",\"G\",\"E\",\"E\",\"E\",\"E\",\"G\",\"F\",\"G\",\"G\",\"F\",\"C\",\"C\",\"D\",\"F\",\"E\",\"G\",\"F\",\"F\",\"G\",\"B\",\"F\",\"F\",\"G\",\"G\",\"B\",\"B\",\"G\",\"F\",\"G\",\"B\",\"G\",\"G\",\"G\",\"G\",\"G\",\"G\",\"G\",\"B\",\"F\",\"F\",\"G\",\"G\",\"G\",\"E\",\"F\",\"F\",\"C\",\"C\",\"D\",\"E\",\"G\",\"F\",\"G\",\"B\",\"F\",\"F\",\"G\",\"G\",\"G\",\"G\",\"F\",\"F\",\"C\",\"G\",\"E\",\"F\",\"G\",\"F\",\"F\",\"F\",\"G\",\"E\",\"E\",\"F\",\"F\",\"C\",\"C\",\"C\",\"C\",\"C\",\"C\",\"C\",\"E\",\"G\",\"C\",\"F\",\"B\",\"B\",\"B\",\"G\",\"F\",\"G\",\"F\",\"E\",\"B\",\"G\",\"F\",\"G\",\"G\",\"F\",\"G\",\"F\",\"F\",\"F\",\"F\",\"G\",\"G\",\"G\",\"G\",\"G\",\"C\",\"F\",\"F\",\"E\",null,\"G\",\"F\",\"G\",\"E\",\"E\",\"F\",\"G\",\"G\",\"G\",\"F\",\"E\",\"F\",\"B\",\"B\",\"G\",\"G\",\"G\",\"F\",\"F\",\"G\",\"E\",\"E\",\"E\",\"G\",\"G\",\"G\",\"F\",\"G\",\"A\",\"A\",\"A\",\"A\",\"G\",\"G\",\"E\",\"E\"],\"type\":\"pie\",\"textinfo\":\"percent+label\",\"textposition\":\"outside\"}],                        {\"template\":{\"data\":{\"bar\":[{\"error_x\":{\"color\":\"#2a3f5f\"},\"error_y\":{\"color\":\"#2a3f5f\"},\"marker\":{\"line\":{\"color\":\"#E5ECF6\",\"width\":0.5},\"pattern\":{\"fillmode\":\"overlay\",\"size\":10,\"solidity\":0.2}},\"type\":\"bar\"}],\"barpolar\":[{\"marker\":{\"line\":{\"color\":\"#E5ECF6\",\"width\":0.5},\"pattern\":{\"fillmode\":\"overlay\",\"size\":10,\"solidity\":0.2}},\"type\":\"barpolar\"}],\"carpet\":[{\"aaxis\":{\"endlinecolor\":\"#2a3f5f\",\"gridcolor\":\"white\",\"linecolor\":\"white\",\"minorgridcolor\":\"white\",\"startlinecolor\":\"#2a3f5f\"},\"baxis\":{\"endlinecolor\":\"#2a3f5f\",\"gridcolor\":\"white\",\"linecolor\":\"white\",\"minorgridcolor\":\"white\",\"startlinecolor\":\"#2a3f5f\"},\"type\":\"carpet\"}],\"choropleth\":[{\"colorbar\":{\"outlinewidth\":0,\"ticks\":\"\"},\"type\":\"choropleth\"}],\"contour\":[{\"colorbar\":{\"outlinewidth\":0,\"ticks\":\"\"},\"colorscale\":[[0.0,\"#0d0887\"],[0.1111111111111111,\"#46039f\"],[0.2222222222222222,\"#7201a8\"],[0.3333333333333333,\"#9c179e\"],[0.4444444444444444,\"#bd3786\"],[0.5555555555555556,\"#d8576b\"],[0.6666666666666666,\"#ed7953\"],[0.7777777777777778,\"#fb9f3a\"],[0.8888888888888888,\"#fdca26\"],[1.0,\"#f0f921\"]],\"type\":\"contour\"}],\"contourcarpet\":[{\"colorbar\":{\"outlinewidth\":0,\"ticks\":\"\"},\"type\":\"contourcarpet\"}],\"heatmap\":[{\"colorbar\":{\"outlinewidth\":0,\"ticks\":\"\"},\"colorscale\":[[0.0,\"#0d0887\"],[0.1111111111111111,\"#46039f\"],[0.2222222222222222,\"#7201a8\"],[0.3333333333333333,\"#9c179e\"],[0.4444444444444444,\"#bd3786\"],[0.5555555555555556,\"#d8576b\"],[0.6666666666666666,\"#ed7953\"],[0.7777777777777778,\"#fb9f3a\"],[0.8888888888888888,\"#fdca26\"],[1.0,\"#f0f921\"]],\"type\":\"heatmap\"}],\"heatmapgl\":[{\"colorbar\":{\"outlinewidth\":0,\"ticks\":\"\"},\"colorscale\":[[0.0,\"#0d0887\"],[0.1111111111111111,\"#46039f\"],[0.2222222222222222,\"#7201a8\"],[0.3333333333333333,\"#9c179e\"],[0.4444444444444444,\"#bd3786\"],[0.5555555555555556,\"#d8576b\"],[0.6666666666666666,\"#ed7953\"],[0.7777777777777778,\"#fb9f3a\"],[0.8888888888888888,\"#fdca26\"],[1.0,\"#f0f921\"]],\"type\":\"heatmapgl\"}],\"histogram\":[{\"marker\":{\"pattern\":{\"fillmode\":\"overlay\",\"size\":10,\"solidity\":0.2}},\"type\":\"histogram\"}],\"histogram2d\":[{\"colorbar\":{\"outlinewidth\":0,\"ticks\":\"\"},\"colorscale\":[[0.0,\"#0d0887\"],[0.1111111111111111,\"#46039f\"],[0.2222222222222222,\"#7201a8\"],[0.3333333333333333,\"#9c179e\"],[0.4444444444444444,\"#bd3786\"],[0.5555555555555556,\"#d8576b\"],[0.6666666666666666,\"#ed7953\"],[0.7777777777777778,\"#fb9f3a\"],[0.8888888888888888,\"#fdca26\"],[1.0,\"#f0f921\"]],\"type\":\"histogram2d\"}],\"histogram2dcontour\":[{\"colorbar\":{\"outlinewidth\":0,\"ticks\":\"\"},\"colorscale\":[[0.0,\"#0d0887\"],[0.1111111111111111,\"#46039f\"],[0.2222222222222222,\"#7201a8\"],[0.3333333333333333,\"#9c179e\"],[0.4444444444444444,\"#bd3786\"],[0.5555555555555556,\"#d8576b\"],[0.6666666666666666,\"#ed7953\"],[0.7777777777777778,\"#fb9f3a\"],[0.8888888888888888,\"#fdca26\"],[1.0,\"#f0f921\"]],\"type\":\"histogram2dcontour\"}],\"mesh3d\":[{\"colorbar\":{\"outlinewidth\":0,\"ticks\":\"\"},\"type\":\"mesh3d\"}],\"parcoords\":[{\"line\":{\"colorbar\":{\"outlinewidth\":0,\"ticks\":\"\"}},\"type\":\"parcoords\"}],\"pie\":[{\"automargin\":true,\"type\":\"pie\"}],\"scatter\":[{\"marker\":{\"colorbar\":{\"outlinewidth\":0,\"ticks\":\"\"}},\"type\":\"scatter\"}],\"scatter3d\":[{\"line\":{\"colorbar\":{\"outlinewidth\":0,\"ticks\":\"\"}},\"marker\":{\"colorbar\":{\"outlinewidth\":0,\"ticks\":\"\"}},\"type\":\"scatter3d\"}],\"scattercarpet\":[{\"marker\":{\"colorbar\":{\"outlinewidth\":0,\"ticks\":\"\"}},\"type\":\"scattercarpet\"}],\"scattergeo\":[{\"marker\":{\"colorbar\":{\"outlinewidth\":0,\"ticks\":\"\"}},\"type\":\"scattergeo\"}],\"scattergl\":[{\"marker\":{\"colorbar\":{\"outlinewidth\":0,\"ticks\":\"\"}},\"type\":\"scattergl\"}],\"scattermapbox\":[{\"marker\":{\"colorbar\":{\"outlinewidth\":0,\"ticks\":\"\"}},\"type\":\"scattermapbox\"}],\"scatterpolar\":[{\"marker\":{\"colorbar\":{\"outlinewidth\":0,\"ticks\":\"\"}},\"type\":\"scatterpolar\"}],\"scatterpolargl\":[{\"marker\":{\"colorbar\":{\"outlinewidth\":0,\"ticks\":\"\"}},\"type\":\"scatterpolargl\"}],\"scatterternary\":[{\"marker\":{\"colorbar\":{\"outlinewidth\":0,\"ticks\":\"\"}},\"type\":\"scatterternary\"}],\"surface\":[{\"colorbar\":{\"outlinewidth\":0,\"ticks\":\"\"},\"colorscale\":[[0.0,\"#0d0887\"],[0.1111111111111111,\"#46039f\"],[0.2222222222222222,\"#7201a8\"],[0.3333333333333333,\"#9c179e\"],[0.4444444444444444,\"#bd3786\"],[0.5555555555555556,\"#d8576b\"],[0.6666666666666666,\"#ed7953\"],[0.7777777777777778,\"#fb9f3a\"],[0.8888888888888888,\"#fdca26\"],[1.0,\"#f0f921\"]],\"type\":\"surface\"}],\"table\":[{\"cells\":{\"fill\":{\"color\":\"#EBF0F8\"},\"line\":{\"color\":\"white\"}},\"header\":{\"fill\":{\"color\":\"#C8D4E3\"},\"line\":{\"color\":\"white\"}},\"type\":\"table\"}]},\"layout\":{\"annotationdefaults\":{\"arrowcolor\":\"#2a3f5f\",\"arrowhead\":0,\"arrowwidth\":1},\"autotypenumbers\":\"strict\",\"coloraxis\":{\"colorbar\":{\"outlinewidth\":0,\"ticks\":\"\"}},\"colorscale\":{\"diverging\":[[0,\"#8e0152\"],[0.1,\"#c51b7d\"],[0.2,\"#de77ae\"],[0.3,\"#f1b6da\"],[0.4,\"#fde0ef\"],[0.5,\"#f7f7f7\"],[0.6,\"#e6f5d0\"],[0.7,\"#b8e186\"],[0.8,\"#7fbc41\"],[0.9,\"#4d9221\"],[1,\"#276419\"]],\"sequential\":[[0.0,\"#0d0887\"],[0.1111111111111111,\"#46039f\"],[0.2222222222222222,\"#7201a8\"],[0.3333333333333333,\"#9c179e\"],[0.4444444444444444,\"#bd3786\"],[0.5555555555555556,\"#d8576b\"],[0.6666666666666666,\"#ed7953\"],[0.7777777777777778,\"#fb9f3a\"],[0.8888888888888888,\"#fdca26\"],[1.0,\"#f0f921\"]],\"sequentialminus\":[[0.0,\"#0d0887\"],[0.1111111111111111,\"#46039f\"],[0.2222222222222222,\"#7201a8\"],[0.3333333333333333,\"#9c179e\"],[0.4444444444444444,\"#bd3786\"],[0.5555555555555556,\"#d8576b\"],[0.6666666666666666,\"#ed7953\"],[0.7777777777777778,\"#fb9f3a\"],[0.8888888888888888,\"#fdca26\"],[1.0,\"#f0f921\"]]},\"colorway\":[\"#636efa\",\"#EF553B\",\"#00cc96\",\"#ab63fa\",\"#FFA15A\",\"#19d3f3\",\"#FF6692\",\"#B6E880\",\"#FF97FF\",\"#FECB52\"],\"font\":{\"color\":\"#2a3f5f\"},\"geo\":{\"bgcolor\":\"white\",\"lakecolor\":\"white\",\"landcolor\":\"#E5ECF6\",\"showlakes\":true,\"showland\":true,\"subunitcolor\":\"white\"},\"hoverlabel\":{\"align\":\"left\"},\"hovermode\":\"closest\",\"mapbox\":{\"style\":\"light\"},\"paper_bgcolor\":\"white\",\"plot_bgcolor\":\"#E5ECF6\",\"polar\":{\"angularaxis\":{\"gridcolor\":\"white\",\"linecolor\":\"white\",\"ticks\":\"\"},\"bgcolor\":\"#E5ECF6\",\"radialaxis\":{\"gridcolor\":\"white\",\"linecolor\":\"white\",\"ticks\":\"\"}},\"scene\":{\"xaxis\":{\"backgroundcolor\":\"#E5ECF6\",\"gridcolor\":\"white\",\"gridwidth\":2,\"linecolor\":\"white\",\"showbackground\":true,\"ticks\":\"\",\"zerolinecolor\":\"white\"},\"yaxis\":{\"backgroundcolor\":\"#E5ECF6\",\"gridcolor\":\"white\",\"gridwidth\":2,\"linecolor\":\"white\",\"showbackground\":true,\"ticks\":\"\",\"zerolinecolor\":\"white\"},\"zaxis\":{\"backgroundcolor\":\"#E5ECF6\",\"gridcolor\":\"white\",\"gridwidth\":2,\"linecolor\":\"white\",\"showbackground\":true,\"ticks\":\"\",\"zerolinecolor\":\"white\"}},\"shapedefaults\":{\"line\":{\"color\":\"#2a3f5f\"}},\"ternary\":{\"aaxis\":{\"gridcolor\":\"white\",\"linecolor\":\"white\",\"ticks\":\"\"},\"baxis\":{\"gridcolor\":\"white\",\"linecolor\":\"white\",\"ticks\":\"\"},\"bgcolor\":\"#E5ECF6\",\"caxis\":{\"gridcolor\":\"white\",\"linecolor\":\"white\",\"ticks\":\"\"}},\"title\":{\"x\":0.05},\"xaxis\":{\"automargin\":true,\"gridcolor\":\"white\",\"linecolor\":\"white\",\"ticks\":\"\",\"title\":{\"standoff\":15},\"zerolinecolor\":\"white\",\"zerolinewidth\":2},\"yaxis\":{\"automargin\":true,\"gridcolor\":\"white\",\"linecolor\":\"white\",\"ticks\":\"\",\"title\":{\"standoff\":15},\"zerolinecolor\":\"white\",\"zerolinewidth\":2}}},\"annotations\":[{\"font\":{\"size\":20},\"opacity\":0.4,\"showarrow\":false,\"text\":\"Deck\",\"x\":0.5,\"y\":0.5}],\"legend\":{\"orientation\":\"v\",\"traceorder\":\"reversed\"},\"hoverlabel\":{\"bgcolor\":\"white\"}},                        {\"responsive\": true}                    ).then(function(){\n",
       "                            \n",
       "var gd = document.getElementById('16303b09-75ca-45dd-b046-abf4f8ac407d');\n",
       "var x = new MutationObserver(function (mutations, observer) {{\n",
       "        var display = window.getComputedStyle(gd).display;\n",
       "        if (!display || display === 'none') {{\n",
       "            console.log([gd, 'removed!']);\n",
       "            Plotly.purge(gd);\n",
       "            observer.disconnect();\n",
       "        }}\n",
       "}});\n",
       "\n",
       "// Listen for the removal of the full notebook cells\n",
       "var notebookContainer = gd.closest('#notebook-container');\n",
       "if (notebookContainer) {{\n",
       "    x.observe(notebookContainer, {childList: true});\n",
       "}}\n",
       "\n",
       "// Listen for the clearing of the current output cell\n",
       "var outputEl = gd.closest('.output');\n",
       "if (outputEl) {{\n",
       "    x.observe(outputEl, {childList: true});\n",
       "}}\n",
       "\n",
       "                        })                };                });            </script>        </div>"
      ]
     },
     "metadata": {},
     "output_type": "display_data"
    }
   ],
   "source": [
    "cnt_donut(train_data, \"Deck\")"
   ]
  },
  {
   "cell_type": "code",
   "execution_count": 23,
   "id": "6d962884",
   "metadata": {
    "execution": {
     "iopub.execute_input": "2022-04-05T08:43:52.578368Z",
     "iopub.status.busy": "2022-04-05T08:43:52.577649Z",
     "iopub.status.idle": "2022-04-05T08:43:52.628582Z",
     "shell.execute_reply": "2022-04-05T08:43:52.629098Z",
     "shell.execute_reply.started": "2022-04-05T08:41:11.767937Z"
    },
    "papermill": {
     "duration": 0.152755,
     "end_time": "2022-04-05T08:43:52.629269",
     "exception": false,
     "start_time": "2022-04-05T08:43:52.476514",
     "status": "completed"
    },
    "tags": []
   },
   "outputs": [
    {
     "data": {
      "text/html": [
       "<div>                            <div id=\"9bf20788-842e-4b90-9548-b32133d011c8\" class=\"plotly-graph-div\" style=\"height:525px; width:100%;\"></div>            <script type=\"text/javascript\">                require([\"plotly\"], function(Plotly) {                    window.PLOTLYENV=window.PLOTLYENV || {};                                    if (document.getElementById(\"9bf20788-842e-4b90-9548-b32133d011c8\")) {                    Plotly.newPlot(                        \"9bf20788-842e-4b90-9548-b32133d011c8\",                        [{\"hole\":0.5,\"labels\":[\"P\",\"S\",\"S\",\"S\",\"S\",\"P\",\"S\",\"S\",\"S\",\"P\",\"P\",\"P\",\"P\",\"S\",\"P\",null,\"P\",\"P\",\"P\",\"P\",\"P\",\"S\",\"S\",\"S\",\"S\",\"S\",\"S\",\"P\",\"S\",\"S\",\"P\",\"P\",\"S\",\"P\",\"P\",\"P\",\"S\",\"P\",\"S\",\"S\",\"P\",\"P\",\"P\",\"P\",\"P\",\"P\",\"P\",\"P\",\"S\",\"S\",\"S\",\"S\",\"S\",\"S\",\"S\",\"S\",\"S\",\"S\",\"S\",\"S\",\"P\",\"S\",\"S\",\"S\",\"S\",\"S\",\"P\",\"P\",\"S\",\"P\",\"S\",\"S\",\"P\",\"S\",\"S\",\"P\",\"P\",\"P\",\"S\",\"S\",\"P\",\"S\",\"S\",\"S\",\"S\",\"P\",\"P\",\"P\",\"S\",\"P\",\"P\",\"P\",\"P\",null,\"S\",\"S\",\"S\",\"S\",\"P\",\"S\",\"S\",\"S\",\"S\",null,\"P\",\"P\",\"P\",\"S\",\"S\",\"P\",\"S\",\"P\",\"P\",\"P\",\"P\",\"P\",\"S\",\"P\",\"S\",\"S\",\"S\",\"S\",\"S\",\"S\",\"S\",\"P\",\"S\",\"P\",\"P\",\"S\",\"P\",\"P\",\"P\",\"S\",\"S\",\"S\",\"P\",\"S\",\"P\",\"P\",\"P\",\"P\",\"P\",\"S\",\"S\",\"P\",\"S\",\"S\",\"P\",\"S\",\"S\",\"P\",\"S\",\"P\",\"S\",\"S\",\"P\",\"P\",\"P\",\"P\",\"P\",\"S\",\"P\",\"S\",\"P\",\"S\",\"P\",\"P\",\"P\",\"P\",\"P\",\"P\",\"P\",\"P\",\"P\",\"P\",\"S\",\"P\",\"S\",\"S\",\"P\",\"P\",\"S\",\"S\",\"S\",\"P\",\"P\",\"P\",\"P\",\"P\",\"P\",\"P\",\"P\",\"S\",\"P\",\"P\",\"P\",\"P\",\"P\",\"P\",\"P\",\"P\",\"P\",\"S\",\"S\",\"S\",\"S\",\"S\",\"S\",\"S\",\"S\",\"S\",\"S\",\"S\",\"S\",\"P\",\"S\",\"S\",\"S\",\"S\",\"P\",\"P\",null,\"P\",\"P\",\"S\",\"S\",null,\"S\",\"P\",\"P\",\"P\",\"S\",\"S\",\"S\",\"P\",\"P\",\"P\",\"S\",\"S\",\"S\",\"S\",\"S\",\"P\",\"P\",\"S\",\"S\",\"S\",\"P\",\"S\",\"P\",null,\"P\",\"P\",\"S\",\"P\",\"P\",\"P\",\"P\",\"P\",null,\"P\",\"S\",\"S\",\"S\",\"S\",\"S\",\"S\",\"S\",\"S\",\"P\",\"P\",null,\"P\",\"S\",\"S\",\"P\",\"S\",\"S\",\"S\",null,\"P\",\"P\",\"P\",\"P\",\"P\",\"S\",\"S\",\"S\",\"S\",\"S\",\"S\",\"S\",\"P\",\"S\",null,\"S\",\"S\",\"S\",\"P\",\"P\",\"S\",\"P\",\"S\",\"S\",\"S\",\"S\",\"S\",\"P\",\"P\",\"S\",\"P\",\"S\",\"P\",null,\"P\",\"P\",null,\"P\",\"S\",\"S\",\"S\",\"S\",\"S\",\"S\",\"S\",\"P\",\"P\",\"S\",\"P\",\"P\",\"P\",\"P\",\"P\",\"S\",\"S\",\"S\",\"S\",\"S\",\"S\",\"S\",\"S\",\"S\",\"P\",null,\"P\",\"P\",\"P\",\"S\",\"S\",\"S\",\"S\",\"P\",\"P\",\"S\",\"P\",\"P\",\"P\",\"P\",\"P\",\"S\",\"S\",\"S\",\"S\",\"S\",\"S\",\"P\",\"P\",\"P\",\"P\",\"P\",\"P\",\"S\",\"S\",\"P\",\"P\",\"P\",\"S\",\"P\",\"P\",\"P\",\"P\",\"P\",\"P\",\"P\",\"P\",\"S\",\"S\",\"S\",\"S\",\"P\",\"S\",\"P\",\"P\",\"S\",\"S\",\"S\",\"S\",\"S\",\"S\",\"S\",\"P\",\"S\",\"P\",\"P\",\"P\",\"S\",\"S\",\"P\",\"S\",\"P\",\"P\",\"S\",\"S\",\"S\",null,\"S\",\"S\",\"S\",\"S\",\"S\",\"P\",\"P\",\"P\",\"S\",\"S\",\"S\",\"S\",\"S\",\"S\",\"S\",\"P\",\"P\",\"P\",\"P\",\"P\",null,\"S\",\"S\",\"P\",\"P\",\"S\",\"S\",\"P\",\"P\",\"P\",\"P\",\"P\",\"P\",\"S\",\"S\",\"S\",\"S\",\"S\",\"P\",\"S\",null,\"S\",\"S\",\"S\",\"P\",\"P\",null,\"S\",\"S\",\"S\",\"S\",\"S\",\"S\",\"S\",\"S\",\"S\",\"S\",\"S\",\"P\",\"S\",\"S\",\"P\",\"S\",\"S\",\"P\",\"S\",\"S\",\"S\",\"S\",\"P\",\"S\",null,\"S\",\"S\",\"P\",\"P\",\"P\",\"P\",\"P\",\"P\",\"P\",\"P\",\"P\",\"P\",\"P\",\"P\",\"P\",\"P\",\"S\",\"S\",\"P\",\"P\",\"S\",\"S\",\"S\",\"S\",\"S\",\"S\",\"S\",\"S\",\"P\",\"P\",\"P\",\"P\",\"S\",\"S\",\"S\",\"S\",\"S\",\"S\",\"P\",\"P\",\"P\",\"P\",\"P\",\"S\",\"S\",\"S\",\"S\",\"P\",\"S\",\"P\",\"P\",\"P\",\"P\",\"P\",\"P\",\"P\",\"S\",\"P\",\"P\",\"S\",\"P\",\"S\",\"S\",\"P\",\"S\",\"P\",\"S\",\"S\",\"S\",\"P\",\"P\",\"P\",\"P\",\"P\",\"P\",\"P\",\"P\",\"S\",\"P\",\"S\",\"S\",\"P\",\"P\",\"P\",\"S\",\"P\",\"P\",\"P\",\"P\",\"S\",\"P\",\"P\",\"P\",\"P\",\"P\",\"P\",\"P\",\"P\",\"P\",\"P\",\"S\",\"P\",\"S\",\"S\",\"S\",\"S\",\"P\",\"P\",\"S\",\"S\",\"S\",\"P\",\"P\",\"S\",\"S\",\"P\",\"P\",\"S\",\"S\",\"P\",\"P\",\"S\",\"P\",\"P\",\"S\",\"S\",\"S\",\"S\",\"S\",\"S\",\"P\",\"P\",\"P\",\"S\",\"S\",\"S\",\"S\",\"S\",\"S\",\"P\",\"P\",\"S\",\"S\",\"S\",\"S\",\"S\",\"P\",\"P\",\"S\",\"P\",\"P\",\"P\",\"P\",\"P\",\"P\",\"S\",\"S\",\"S\",\"S\",\"P\",\"P\",\"P\",\"S\",\"P\",\"P\",\"P\",\"P\",\"P\",\"P\",\"P\",\"S\",\"S\",\"S\",\"S\",\"S\",\"S\",\"S\",null,\"S\",\"S\",\"P\",\"S\",\"S\",\"S\",\"S\",\"S\",\"P\",\"P\",\"S\",\"S\",\"S\",null,\"P\",\"P\",\"P\",\"S\",\"P\",\"P\",\"P\",\"P\",\"P\",\"P\",\"P\",null,\"P\",\"P\",\"S\",\"P\",\"S\",\"S\",\"S\",null,\"P\",\"P\",\"P\",\"S\",\"P\",\"P\",\"P\",\"P\",\"S\",\"S\",\"S\",\"P\",\"P\",null,\"P\",\"S\",\"S\",\"S\",\"P\",\"P\",\"S\",\"S\",\"S\",\"S\",\"S\",\"P\",\"P\",\"S\",\"S\",\"S\",\"S\",\"S\",\"S\",\"S\",\"P\",\"S\",\"S\",\"S\",\"S\",\"S\",\"P\",\"P\",\"P\",\"S\",\"P\",\"S\",\"P\",\"P\",\"P\",\"P\",\"S\",\"S\",\"S\",\"S\",\"P\",\"P\",\"S\",\"S\",\"S\",\"S\",\"S\",\"S\",\"P\",\"S\",\"P\",\"S\",\"S\",\"S\",\"S\",\"S\",\"S\",\"S\",\"S\",\"S\",\"S\",\"P\",\"S\",\"S\",\"P\",\"S\",\"S\",\"S\",\"S\",\"S\",\"S\",null,\"S\",\"P\",null,\"S\",\"S\",\"P\",\"P\",null,\"P\",\"S\",\"S\",\"S\",\"P\",\"S\",\"S\",\"P\",\"P\",\"S\",\"S\",\"S\",\"P\",\"S\",\"S\",\"P\",\"S\",\"S\",\"S\",\"S\",\"S\",\"S\",\"S\",\"S\",\"P\",\"S\",\"P\",\"S\",\"S\",\"S\",\"P\",\"S\",null,\"S\",\"P\",\"S\",\"S\",\"P\",\"P\",\"P\",\"P\",\"S\",\"P\",\"P\",\"S\",\"P\",\"S\",\"P\",\"P\",\"S\",\"P\",\"P\",\"S\",\"P\",\"P\",\"S\",\"P\",\"S\",\"S\",\"P\",\"S\",\"P\",\"P\",\"S\",\"S\",\"S\",\"P\",\"P\",\"P\",\"S\",\"S\",\"S\",\"P\",\"P\",\"P\",\"P\",null,\"P\",\"P\",\"P\",\"S\",\"S\",\"S\",\"P\",\"P\",\"P\",\"P\",\"P\",\"P\",\"P\",\"P\",\"P\",\"S\",\"S\",\"P\",\"S\",\"S\",\"P\",\"S\",\"P\",\"P\",\"P\",\"S\",\"S\",\"P\",\"P\",\"P\",\"P\",\"P\",\"P\",\"S\",\"P\",\"S\",\"P\",\"P\",\"S\",\"S\",\"S\",\"S\",\"S\",\"S\",\"S\",\"S\",\"S\",\"P\",\"P\",\"S\",\"S\",\"P\",\"S\",\"S\",\"S\",\"S\",\"S\",null,\"S\",\"S\",\"S\",\"S\",\"S\",\"P\",\"S\",\"P\",\"P\",\"S\",\"S\",\"S\",\"S\",\"S\",\"S\",\"S\",\"S\",null,\"S\",\"S\",null,\"P\",\"P\",\"S\",\"P\",\"S\",\"S\",\"P\",\"S\",\"P\",null,\"P\",\"P\",\"P\",\"P\",\"P\",\"S\",\"P\",\"P\",\"P\",\"P\",\"P\",\"P\",\"S\",\"P\",\"P\",\"P\",\"P\",\"S\",\"S\",\"S\",null,\"P\",\"P\",\"P\",\"S\",\"P\",\"P\",\"P\",\"P\",\"S\",\"S\",\"S\",\"S\",\"P\",\"P\",\"P\",\"S\",\"S\",\"P\",\"P\",\"P\",\"S\",\"P\",\"S\",\"P\",\"S\",\"S\",\"P\",\"P\",\"P\",\"P\",\"S\",\"S\",\"S\",\"S\",\"S\",\"S\",\"P\",\"P\",\"P\",\"P\",\"P\",\"P\",\"S\",\"P\",\"P\",\"P\",\"P\",\"P\",null,\"S\",\"S\",\"P\",\"P\",\"P\",\"P\",\"P\",\"P\",\"S\",\"S\",\"S\",\"S\",\"S\",\"P\",\"S\",\"S\",\"S\",\"S\",\"S\",null,\"S\",\"P\",\"P\",\"P\",\"S\",\"S\",\"S\",\"S\",null,\"P\",null,\"S\",\"S\",\"S\",\"S\",\"S\",\"P\",\"S\",\"S\",\"S\",\"P\",\"P\",\"P\",\"P\",\"P\",null,\"P\",\"P\",\"P\",\"S\",\"S\",\"S\",\"S\",\"S\",\"S\",\"S\",\"P\",\"P\",\"P\",\"P\",\"P\",\"P\",\"S\",\"S\",\"S\",\"S\",\"S\",\"P\",\"P\",\"P\",\"P\",\"P\",\"P\",\"P\",\"P\",\"S\",\"S\",\"S\",\"P\",\"S\",\"P\",\"S\",\"S\",\"S\",\"P\",\"P\",\"P\",\"P\",\"S\",\"S\",\"S\",\"S\",\"S\",\"S\",\"S\",\"S\",\"P\",\"P\",\"S\",\"P\",\"S\",\"S\",\"P\",\"P\",null,\"P\",\"S\",\"P\",\"P\",\"P\",\"P\",\"S\",\"S\",\"S\",\"S\",\"S\",\"S\",\"S\",\"P\",\"P\",\"P\",\"S\",\"P\",\"P\",\"P\",\"S\",\"S\",\"P\",\"S\",\"P\",null,\"S\",\"P\",\"S\",\"P\",\"S\",\"S\",\"P\",\"S\",\"S\",\"P\",\"S\",\"S\",\"P\",\"S\",\"P\",\"P\",\"P\",\"P\",\"S\",\"S\",\"S\",\"S\",\"S\",\"S\",\"S\",\"P\",\"S\",\"P\",\"P\",\"S\",\"P\",\"S\",\"P\",\"P\",\"S\",\"P\",\"P\",\"P\",\"P\",\"S\",\"P\",\"S\",\"S\",\"P\",\"S\",\"P\",\"P\",\"P\",\"P\",\"S\",\"S\",\"P\",\"S\",\"S\",\"P\",\"S\",\"S\",\"S\",null,\"S\",\"S\",\"S\",\"P\",\"P\",\"P\",\"P\",\"P\",\"P\",\"S\",\"S\",\"P\",null,\"S\",\"S\",\"S\",\"P\",\"S\",\"P\",\"P\",\"P\",\"P\",\"S\",\"S\",\"P\",\"P\",\"P\",\"S\",\"S\",\"S\",\"S\",\"S\",\"S\",\"S\",\"S\",\"P\",\"S\",\"S\",\"S\",\"S\",\"P\",\"P\",\"S\",\"S\",\"S\",\"P\",\"S\",\"P\",\"S\",\"S\",\"S\",\"S\",\"S\",\"S\",\"P\",\"P\",\"S\",\"S\",\"S\",\"S\",\"P\",\"S\",\"S\",\"S\",\"S\",\"S\",\"S\",\"P\",\"P\",\"S\",\"P\",\"S\",\"S\",\"P\",\"P\",\"P\",\"P\",\"S\",\"S\",\"S\",\"S\",\"S\",\"S\",\"S\",\"S\",\"S\",\"S\",\"P\",\"P\",\"P\",\"S\",\"P\",\"P\",\"P\",\"P\",\"S\",\"S\",\"S\",\"S\",\"P\",\"S\",\"P\",\"P\",\"S\",\"S\",\"P\",\"S\",null,\"S\",\"P\",\"P\",\"S\",\"P\",\"S\",\"S\",\"P\",\"P\",\"P\",\"S\",\"S\",\"S\",\"S\",\"S\",\"S\",\"S\",\"S\",\"P\",\"P\",\"P\",\"P\",\"P\",\"P\",\"P\",\"P\",\"P\",\"S\",\"S\",\"S\",\"P\",\"P\",\"S\",\"P\",null,\"P\",\"P\",\"P\",\"S\",\"S\",\"S\",\"S\",\"P\",\"S\",\"S\",\"P\",\"S\",\"S\",\"S\",\"S\",\"P\",null,\"P\",\"P\",\"P\",\"P\",\"P\",\"S\",\"S\",\"S\",\"S\",\"S\",\"S\",\"S\",\"S\",\"P\",\"P\",\"S\",\"P\",\"S\",\"P\",\"S\",\"P\",\"P\",\"P\",\"P\",\"P\",\"P\",\"P\",\"P\",\"S\",\"P\",\"P\",\"P\",\"P\",\"S\",\"P\",\"S\",\"S\",\"S\",\"S\",\"S\",\"S\",\"S\",\"S\",\"P\",\"P\",\"P\",\"P\",\"S\",\"S\",\"S\",\"S\",\"P\",\"S\",\"S\",\"S\",\"S\",\"S\",\"S\",\"S\",\"S\",\"S\",\"S\",\"S\",\"P\",\"P\",\"P\",\"P\",\"P\",\"S\",\"S\",\"S\",\"S\",\"P\",\"S\",\"S\",\"P\",\"P\",\"P\",\"S\",\"S\",\"P\",\"P\",null,\"S\",\"P\",\"P\",\"S\",null,\"P\",\"S\",\"S\",\"P\",\"S\",\"P\",\"P\",\"S\",\"S\",\"P\",null,\"P\",\"P\",\"P\",\"P\",\"S\",\"P\",\"P\",\"P\",\"P\",\"S\",\"S\",\"P\",null,\"P\",\"P\",\"P\",\"P\",\"P\",\"S\",\"S\",\"S\",\"S\",\"S\",\"P\",\"P\",\"P\",\"P\",\"P\",\"P\",\"P\",\"S\",\"P\",\"P\",\"P\",\"P\",\"S\",\"P\",\"S\",\"P\",\"P\",null,\"P\",\"P\",\"P\",\"P\",\"P\",\"S\",\"S\",\"S\",\"P\",\"S\",\"S\",\"S\",\"P\",\"P\",\"P\",\"S\",\"S\",\"S\",\"S\",\"S\",\"S\",\"P\",\"P\",\"S\",\"P\",\"S\",\"S\",\"S\",\"P\",\"P\",null,\"P\",\"P\",\"P\",\"S\",\"P\",\"P\",\"P\",\"S\",null,\"S\",\"S\",\"P\",\"S\",\"S\",\"S\",\"S\",\"S\",\"S\",\"S\",\"S\",\"P\",\"S\",\"S\",\"S\",\"S\",\"S\",\"P\",\"P\",\"S\",\"S\",\"P\",\"S\",\"P\",\"P\",\"S\",\"P\",null,\"P\",\"P\",\"P\",\"S\",null,\"S\",\"P\",\"S\",\"S\",\"S\",\"P\",\"P\",\"S\",\"P\",\"S\",\"S\",\"S\",\"S\",\"S\",\"P\",\"S\",\"S\",null,\"S\",\"S\",\"S\",\"S\",\"P\",\"S\",\"P\",\"P\",\"P\",\"S\",\"S\",\"P\",\"P\",null,\"P\",\"P\",\"S\",\"S\",\"S\",\"P\",\"P\",\"P\",\"P\",\"P\",\"P\",\"P\",\"P\",\"P\",\"P\",\"S\",\"S\",\"S\",\"S\",\"P\",\"S\",\"S\",\"S\",\"P\",\"P\",\"P\",\"P\",\"S\",\"S\",\"S\",\"S\",\"S\",\"S\",\"P\",\"S\",\"S\",\"S\",\"S\",\"S\",\"S\",\"S\",\"S\",\"S\",\"S\",\"S\",\"S\",\"S\",\"P\",\"P\",\"S\",\"S\",\"S\",\"S\",\"P\",\"S\",null,\"S\",\"S\",\"S\",\"P\",\"S\",\"P\",\"S\",\"P\",\"S\",\"P\",\"S\",\"S\",\"S\",\"S\",\"S\",\"P\",\"P\",\"P\",\"S\",\"S\",\"P\",\"S\",\"P\",\"S\",\"S\",\"P\",\"P\",\"S\",\"S\",\"S\",\"P\",\"P\",\"P\",null,\"S\",\"S\",\"P\",\"P\",\"P\",\"P\",\"P\",\"P\",\"P\",\"S\",\"P\",\"S\",\"P\",\"P\",\"P\",\"S\",\"S\",\"S\",\"P\",\"S\",\"S\",\"P\",\"S\",\"S\",\"P\",\"S\",\"P\",\"P\",\"P\",\"S\",\"S\",\"P\",\"P\",\"S\",\"S\",\"P\",\"S\",\"S\",\"S\",\"S\",\"S\",\"S\",\"S\",\"P\",\"P\",\"S\",\"S\",\"S\",\"P\",\"P\",\"P\",\"P\",\"P\",\"P\",\"P\",\"S\",null,\"S\",\"S\",\"S\",\"S\",\"P\",\"P\",\"P\",\"S\",\"P\",null,\"P\",\"S\",\"S\",\"S\",\"S\",\"P\",\"P\",\"S\",\"P\",\"S\",\"S\",\"P\",\"P\",\"S\",\"P\",\"P\",\"P\",\"S\",\"S\",\"S\",\"P\",\"S\",\"P\",\"P\",\"S\",\"S\",\"S\",\"S\",\"S\",\"P\",\"S\",\"S\",\"S\",\"P\",\"P\",\"P\",\"S\",\"P\",\"P\",\"P\",\"S\",\"S\",\"P\",\"P\",\"S\",\"S\",\"S\",\"P\",\"P\",\"P\",\"P\",\"P\",\"P\",\"P\",\"P\",\"P\",\"P\",\"S\",\"P\",\"P\",\"S\",\"S\",\"S\",\"P\",\"S\",\"S\",\"S\",\"S\",\"S\",\"S\",\"S\",\"S\",\"P\",\"S\",\"S\",\"S\",\"S\",\"S\",\"P\",\"P\",null,\"P\",\"P\",\"S\",\"S\",\"S\",\"S\",\"P\",\"S\",\"S\",\"S\",\"S\",\"S\",\"P\",\"P\",\"S\",\"S\",\"S\",\"S\",\"P\",\"P\",\"P\",\"P\",\"S\",\"P\",\"P\",\"S\",\"S\",\"S\",\"S\",\"S\",\"S\",\"S\",\"S\",\"S\",\"P\",\"S\",\"P\",\"P\",\"S\",\"P\",\"S\",\"S\",\"P\",\"S\",\"S\",\"S\",\"S\",\"P\",\"P\",\"S\",\"P\",\"P\",\"P\",\"P\",\"P\",\"P\",\"P\",\"P\",\"P\",\"P\",\"P\",\"P\",\"P\",\"S\",\"P\",\"S\",\"S\",\"P\",\"S\",\"P\",\"P\",\"P\",\"S\",\"S\",\"S\",\"S\",\"S\",\"S\",\"P\",\"P\",\"P\",\"S\",\"P\",\"P\",\"P\",\"S\",\"S\",\"S\",\"S\",\"S\",\"P\",\"P\",\"P\",\"S\",\"S\",null,\"S\",\"S\",\"P\",\"S\",\"S\",\"S\",\"S\",\"S\",\"S\",\"S\",\"S\",null,\"S\",\"S\",\"P\",\"P\",\"P\",\"P\",\"S\",\"S\",\"S\",null,\"P\",\"S\",\"P\",\"P\",\"P\",\"S\",\"P\",\"S\",\"P\",\"P\",\"P\",\"P\",\"P\",\"S\",\"S\",\"P\",\"P\",\"P\",\"S\",\"P\",\"P\",\"P\",\"S\",\"S\",\"P\",\"P\",\"S\",\"S\",\"S\",null,\"P\",\"S\",\"S\",\"S\",\"P\",\"P\",\"P\",\"P\",\"S\",\"S\",\"S\",\"P\",\"S\",\"S\",\"P\",\"P\",\"P\",\"S\",\"S\",\"P\",\"P\",\"S\",\"P\",\"S\",\"P\",\"S\",\"S\",\"P\",\"S\",\"S\",\"S\",\"P\",\"P\",\"P\",\"S\",\"S\",\"P\",\"S\",\"P\",\"P\",\"P\",\"P\",\"P\",\"S\",\"P\",\"S\",\"P\",\"S\",\"S\",\"S\",\"S\",\"S\",\"S\",\"S\",\"S\",\"P\",\"S\",\"S\",\"S\",\"S\",null,\"S\",\"P\",\"S\",\"S\",\"P\",\"S\",\"S\",\"S\",\"S\",\"S\",\"P\",\"P\",\"P\",\"P\",\"P\",\"P\",\"P\",\"P\",\"P\",\"S\",\"S\",\"S\",\"S\",\"P\",\"P\",\"S\",\"S\",\"P\",\"S\",\"P\",\"P\",\"P\",\"S\",\"P\",\"P\",\"P\",\"S\",\"P\",\"P\",\"S\",\"P\",\"S\",\"P\",\"P\",\"P\",\"P\",null,\"P\",\"S\",\"P\",\"P\",\"P\",\"S\",\"P\",\"S\",\"S\",\"P\",\"P\",\"P\",\"P\",\"S\",\"P\",\"S\",\"S\",\"S\",\"P\",\"P\",\"P\",\"P\",\"S\",\"P\",\"P\",\"S\",\"S\",\"S\",\"P\",\"P\",\"S\",\"P\",\"P\",\"P\",\"P\",\"P\",\"P\",\"S\",\"S\",\"S\",\"S\",\"P\",\"P\",\"P\",\"P\",\"P\",\"P\",\"S\",\"P\",\"S\",\"P\",\"S\",\"S\",\"P\",\"P\",\"S\",\"S\",\"S\",\"P\",\"P\",\"S\",\"P\",\"S\",\"S\",\"P\",\"P\",\"P\",\"S\",\"S\",\"S\",\"P\",\"P\",\"P\",\"P\",\"P\",\"P\",\"P\",\"S\",\"S\",\"S\",\"S\",\"S\",\"S\",\"S\",\"P\",\"P\",\"P\",\"P\",\"S\",\"P\",\"P\",\"P\",\"P\",\"P\",\"P\",\"S\",\"S\",\"P\",\"S\",\"P\",\"P\",\"P\",\"S\",\"S\",\"S\",\"S\",\"S\",\"S\",null,\"S\",\"P\",\"S\",\"P\",\"P\",\"P\",\"P\",\"S\",\"S\",\"S\",\"P\",\"S\",\"P\",\"P\",\"S\",\"S\",\"S\",\"S\",\"S\",\"S\",\"P\",\"P\",\"P\",\"P\",\"P\",\"S\",\"P\",\"S\",\"P\",\"P\",\"P\",\"P\",\"S\",\"S\",\"S\",\"S\",\"P\",\"P\",\"P\",\"P\",\"S\",\"P\",\"P\",\"P\",\"S\",\"P\",\"P\",\"P\",\"S\",\"P\",\"P\",\"P\",\"P\",\"S\",\"S\",\"P\",\"P\",\"S\",\"P\",\"P\",\"P\",\"P\",\"S\",\"S\",\"S\",\"S\",\"S\",\"S\",\"S\",\"P\",\"S\",\"S\",\"P\",\"P\",\"P\",\"P\",\"P\",null,\"S\",\"S\",\"P\",\"P\",\"S\",\"P\",\"S\",\"S\",\"S\",null,\"S\",\"S\",\"S\",\"S\",\"P\",\"P\",\"P\",\"P\",\"P\",\"P\",\"P\",\"S\",\"S\",\"S\",\"P\",\"S\",\"S\",null,\"S\",\"S\",\"P\",\"P\",\"P\",\"S\",\"P\",\"P\",\"P\",\"P\",\"P\",\"P\",\"S\",\"S\",\"S\",\"P\",\"S\",\"S\",\"P\",\"P\",\"P\",\"P\",\"S\",\"P\",\"P\",\"S\",\"S\",\"P\",\"S\",null,\"P\",\"S\",\"P\",\"P\",\"P\",\"P\",\"P\",\"S\",\"S\",\"S\",\"S\",\"P\",\"P\",\"S\",\"P\",\"P\",\"P\",\"P\",null,\"P\",\"P\",\"P\",\"S\",\"P\",\"P\",\"S\",\"P\",\"P\",\"P\",\"S\",\"S\",\"P\",\"S\",\"S\",\"S\",\"P\",\"P\",\"P\",\"P\",\"P\",\"P\",\"P\",\"P\",\"P\",\"P\",\"P\",\"P\",\"P\",\"S\",\"S\",\"P\",\"P\",\"P\",\"S\",\"P\",\"P\",\"P\",\"P\",\"P\",\"P\",\"S\",\"S\",\"P\",null,\"P\",\"P\",\"P\",\"P\",\"S\",\"P\",\"P\",\"S\",\"S\",\"S\",\"S\",\"S\",\"P\",\"P\",\"P\",\"S\",\"S\",\"P\",\"P\",\"P\",\"P\",\"P\",\"P\",\"P\",\"P\",\"P\",\"P\",\"S\",\"P\",\"S\",\"S\",\"S\",\"S\",\"P\",\"S\",\"S\",\"S\",\"S\",\"S\",\"S\",\"P\",\"P\",\"S\",\"P\",\"P\",\"S\",\"S\",\"S\",\"S\",\"P\",\"S\",\"P\",\"S\",\"S\",\"P\",\"P\",\"S\",\"S\",\"S\",\"S\",\"S\",\"P\",\"P\",\"P\",\"S\",\"P\",\"S\",\"S\",\"S\",\"P\",\"S\",\"P\",\"P\",\"P\",\"P\",\"S\",\"P\",null,\"P\",\"P\",\"P\",\"P\",\"S\",\"S\",\"P\",\"S\",\"S\",\"P\",\"S\",\"S\",\"S\",\"S\",\"S\",\"S\",\"S\",\"S\",\"S\",\"S\",\"S\",\"P\",\"P\",\"S\",\"S\",\"P\",\"P\",\"P\",\"P\",\"S\",\"S\",\"S\",\"P\",\"P\",\"P\",\"P\",\"S\",\"S\",\"S\",\"S\",\"S\",\"S\",\"S\",\"P\",\"P\",\"S\",\"S\",\"S\",\"P\",\"P\",\"P\",\"S\",\"P\",\"P\",\"P\",\"S\",\"P\",\"S\",\"P\",\"P\",\"P\",\"S\",\"P\",\"P\",\"P\",\"P\",\"P\",\"S\",\"S\",\"S\",\"S\",\"S\",\"P\",\"S\",\"S\",\"S\",\"S\",\"S\",\"P\",\"S\",\"S\",\"S\",\"P\",\"P\",\"P\",\"P\",\"P\",\"P\",\"P\",\"P\",\"P\",\"P\",\"S\",\"S\",\"S\",\"P\",\"P\",\"P\",\"P\",\"P\",\"P\",\"P\",\"S\",\"P\",\"S\",\"S\",\"S\",\"P\",\"P\",\"P\",\"S\",\"S\",\"P\",\"P\",\"P\",\"S\",\"P\",\"P\",\"P\",\"P\",\"P\",\"S\",\"S\",\"S\",\"P\",\"P\",\"P\",\"P\",\"P\",\"P\",\"P\",\"P\",\"S\",\"S\",\"S\",\"S\",\"S\",\"P\",\"S\",\"S\",\"P\",\"P\",\"P\",\"P\",\"P\",\"S\",\"P\",\"P\",\"P\",\"S\",\"S\",\"P\",\"S\",\"P\",\"P\",\"S\",\"P\",\"S\",\"S\",\"S\",\"S\",\"S\",\"P\",\"S\",\"S\",\"S\",\"P\",\"P\",\"P\",\"S\",\"P\",\"P\",\"P\",\"S\",\"P\",\"P\",\"S\",\"S\",\"S\",\"S\",\"P\",\"P\",\"P\",\"S\",\"S\",\"P\",\"P\",\"S\",\"P\",\"P\",\"P\",\"S\",\"P\",\"P\",\"P\",\"P\",\"P\",\"P\",\"P\",\"S\",\"P\",null,\"P\",\"P\",\"P\",\"S\",\"S\",\"S\",\"S\",\"S\",\"P\",\"P\",\"P\",\"P\",\"S\",\"S\",\"S\",\"P\",\"P\",\"P\",null,\"P\",\"P\",\"P\",\"P\",\"S\",\"P\",\"S\",\"P\",\"S\",\"P\",\"P\",\"P\",\"S\",\"P\",\"S\",\"S\",\"S\",\"S\",\"P\",\"S\",\"P\",\"P\",\"P\",\"P\",\"S\",\"S\",\"P\",\"S\",\"P\",\"P\",\"S\",\"P\",\"P\",\"P\",\"P\",null,\"P\",\"P\",\"S\",\"P\",\"S\",\"P\",\"S\",\"S\",\"S\",\"S\",\"S\",\"S\",\"S\",\"P\",\"P\",\"P\",\"S\",\"P\",\"P\",\"P\",\"S\",\"S\",\"S\",\"S\",\"S\",\"P\",\"P\",\"S\",\"P\",\"S\",\"S\",\"P\",\"P\",\"S\",\"S\",\"S\",\"P\",\"P\",\"P\",\"P\",\"S\",\"S\",\"P\",\"P\",\"P\",\"P\",\"P\",\"P\",\"S\",\"S\",\"S\",\"S\",\"S\",null,\"P\",\"S\",\"S\",\"S\",\"S\",\"P\",\"S\",\"P\",\"P\",\"S\",\"P\",null,\"S\",\"P\",\"S\",\"S\",\"S\",\"P\",\"P\",\"S\",\"P\",\"P\",\"P\",\"S\",\"P\",\"P\",\"S\",\"P\",\"P\",\"S\",\"S\",\"P\",\"P\",\"P\",\"S\",\"S\",\"S\",\"P\",\"S\",\"S\",\"P\",\"P\",\"P\",\"S\",null,\"S\",\"P\",\"P\",\"S\",\"S\",\"S\",\"S\",\"S\",\"S\",\"P\",\"P\",\"P\",\"P\",\"P\",\"P\",\"S\",\"P\",\"P\",\"P\",\"P\",\"P\",\"P\",\"S\",\"S\",\"S\",\"S\",\"P\",\"P\",\"P\",\"P\",\"S\",\"S\",\"P\",\"S\",\"S\",\"S\",\"S\",\"P\",\"P\",\"S\",\"P\",null,\"S\",\"S\",\"S\",\"S\",\"P\",\"S\",\"S\",\"S\",\"S\",\"P\",\"P\",\"S\",\"S\",\"S\",\"S\",\"P\",\"P\",\"P\",\"P\",\"P\",\"S\",\"S\",\"P\",\"P\",\"P\",\"P\",\"P\",\"S\",\"P\",\"P\",\"S\",\"S\",\"S\",\"S\",\"S\",\"P\",\"P\",\"S\",\"P\",\"P\",\"S\",\"S\",\"S\",\"S\",null,\"S\",\"P\",\"P\",\"P\",\"P\",\"S\",\"P\",\"P\",\"P\",\"S\",\"P\",\"P\",\"S\",\"S\",\"S\",\"P\",\"P\",\"P\",\"S\",\"P\",\"S\",\"S\",\"S\",\"S\",\"P\",\"S\",\"S\",\"S\",\"S\",\"P\",\"S\",\"P\",\"S\",\"S\",\"S\",\"S\",\"S\",\"P\",\"S\",\"S\",\"P\",\"P\",\"P\",\"P\",\"P\",\"P\",\"S\",\"S\",\"S\",\"P\",\"S\",\"P\",\"P\",\"S\",\"P\",\"S\",\"S\",\"S\",\"P\",\"P\",\"S\",\"P\",\"S\",\"S\",\"P\",\"P\",\"P\",\"S\",\"S\",\"S\",\"P\",\"P\",\"P\",\"S\",\"P\",\"S\",\"S\",\"S\",\"S\",\"P\",\"P\",\"S\",\"S\",\"S\",\"S\",\"S\",\"S\",\"S\",\"P\",\"P\",\"S\",null,\"S\",\"P\",\"S\",null,\"S\",\"S\",\"S\",\"S\",\"P\",\"P\",\"P\",\"S\",\"P\",\"P\",\"S\",\"P\",\"P\",\"S\",\"S\",\"S\",\"S\",\"P\",\"P\",\"P\",\"P\",\"P\",\"P\",\"S\",\"P\",\"S\",\"S\",\"S\",\"P\",\"S\",\"S\",\"S\",\"S\",\"S\",\"P\",\"P\",\"P\",\"P\",\"S\",\"S\",\"P\",\"S\",\"S\",\"P\",\"P\",\"P\",\"S\",\"S\",\"S\",\"S\",\"P\",\"S\",\"S\",\"S\",\"P\",\"S\",\"S\",\"S\",\"S\",\"P\",\"S\",\"P\",\"S\",\"S\",\"S\",\"S\",\"S\",\"S\",\"S\",\"S\",\"P\",\"S\",\"S\",\"S\",\"S\",\"P\",\"P\",\"P\",\"P\",\"S\",\"S\",\"P\",\"P\",\"S\",\"P\",\"S\",\"P\",\"P\",\"P\",\"P\",\"P\",\"P\",\"S\",\"S\",\"S\",\"S\",\"P\",\"P\",\"S\",\"S\",\"S\",\"S\",\"P\",\"S\",\"P\",\"S\",\"S\",\"S\",\"P\",\"P\",\"S\",\"S\",\"S\",\"P\",\"P\",\"S\",\"P\",\"P\",\"P\",\"P\",\"P\",\"P\",\"P\",\"P\",\"S\",\"P\",\"S\",\"P\",\"P\",\"P\",\"P\",\"S\",\"S\",\"S\",\"P\",\"P\",\"S\",\"P\",\"P\",\"P\",\"P\",\"S\",\"S\",\"P\",\"P\",\"S\",\"S\",\"S\",\"S\",\"P\",\"S\",\"P\",\"S\",\"S\",\"S\",\"S\",\"S\",\"S\",\"S\",\"S\",\"S\",\"S\",\"S\",\"P\",\"P\",\"P\",\"S\",\"P\",\"S\",\"P\",\"P\",\"S\",\"S\",\"P\",\"P\",\"S\",\"P\",\"S\",\"S\",\"S\",\"P\",\"P\",\"P\",\"P\",\"S\",\"S\",\"S\",\"P\",\"P\",\"P\",\"P\",\"P\",\"S\",\"P\",\"P\",\"P\",\"S\",\"S\",\"S\",\"S\",\"S\",\"P\",\"P\",\"P\",\"P\",\"P\",\"P\",\"P\",\"S\",\"S\",\"S\",\"S\",\"S\",\"P\",\"P\",\"P\",\"P\",\"P\",\"P\",\"P\",null,\"P\",\"P\",\"S\",\"S\",\"P\",\"P\",\"P\",\"S\",\"P\",\"P\",\"P\",\"P\",null,null,\"S\",\"S\",\"P\",\"P\",\"S\",\"S\",\"P\",\"P\",\"P\",\"P\",null,\"S\",\"S\",\"P\",\"S\",\"P\",\"S\",\"P\",\"P\",\"P\",\"S\",\"S\",\"P\",\"S\",\"S\",\"S\",\"S\",\"S\",null,\"P\",\"S\",\"P\",\"P\",\"P\",\"P\",\"P\",\"P\",\"P\",\"P\",\"P\",\"P\",\"P\",\"S\",\"P\",\"P\",\"P\",\"S\",\"P\",\"S\",\"P\",\"P\",null,\"S\",\"P\",\"S\",\"P\",\"P\",\"P\",\"P\",\"P\",\"P\",\"P\",\"S\",\"P\",\"P\",null,\"S\",\"S\",\"P\",\"P\",\"P\",\"P\",\"P\",\"P\",\"P\",\"P\",\"P\",\"P\",\"S\",\"S\",\"S\",\"P\",\"P\",\"S\",\"S\",\"S\",\"P\",\"P\",\"P\",\"P\",\"P\",\"P\",\"S\",\"P\",\"P\",\"P\",\"P\",\"S\",\"P\",\"S\",\"S\",\"S\",\"P\",\"P\",null,\"P\",\"S\",\"P\",\"P\",\"P\",\"P\",\"P\",\"S\",\"S\",\"P\",\"S\",\"S\",\"S\",\"S\",\"S\",\"S\",\"S\",\"S\",\"S\",\"S\",\"S\",\"S\",\"S\",\"P\",\"S\",\"S\",\"S\",\"S\",\"P\",\"P\",\"P\",\"S\",\"S\",\"P\",\"S\",\"S\",\"S\",\"S\",\"P\",\"P\",\"P\",\"S\",\"P\",\"P\",\"P\",\"P\",\"P\",\"P\",\"P\",\"P\",\"S\",\"P\",\"P\",\"P\",\"S\",\"S\",\"P\",\"P\",\"P\",\"P\",\"S\",\"S\",\"S\",\"S\",\"S\",\"S\",\"S\",\"S\",\"P\",\"P\",\"P\",\"P\",\"P\",null,\"S\",\"S\",\"P\",\"S\",\"P\",\"S\",\"S\",\"S\",\"S\",\"S\",\"P\",\"S\",\"S\",\"S\",\"S\",\"S\",\"S\",\"P\",\"P\",\"P\",\"S\",\"S\",\"P\",\"P\",\"P\",\"P\",\"P\",\"P\",\"P\",\"P\",\"P\",\"P\",null,\"S\",\"P\",\"P\",null,\"P\",\"S\",\"S\",\"S\",\"S\",\"S\",\"P\",\"P\",\"S\",\"S\",\"S\",\"S\",\"P\",\"P\",\"P\",\"P\",\"S\",\"S\",\"S\",\"P\",\"P\",\"P\",\"S\",\"S\",\"S\",\"S\",\"S\",\"S\",\"S\",\"P\",\"P\",\"P\",\"S\",\"S\",\"S\",\"S\",\"S\",\"P\",\"S\",\"P\",\"S\",\"S\",\"P\",\"P\",\"S\",\"P\",\"P\",\"P\",\"P\",\"S\",\"S\",\"P\",\"P\",\"S\",\"P\",\"P\",\"P\",\"P\",null,\"P\",null,\"S\",\"S\",\"S\",\"S\",\"S\",\"S\",\"P\",\"S\",\"S\",\"P\",\"P\",\"P\",\"P\",\"P\",\"P\",\"P\",\"P\",\"S\",\"S\",\"S\",\"S\",\"S\",\"S\",\"S\",\"P\",\"P\",\"S\",\"P\",\"S\",\"P\",\"S\",\"S\",\"S\",\"S\",\"S\",\"S\",\"S\",\"S\",\"P\",\"P\",\"S\",\"S\",\"S\",\"S\",\"S\",\"S\",\"S\",\"S\",\"S\",\"P\",\"P\",\"S\",\"S\",\"P\",\"P\",\"S\",\"S\",\"S\",\"P\",\"S\",\"S\",\"S\",\"P\",\"P\",\"P\",\"S\",\"P\",\"S\",\"P\",\"P\",\"P\",\"P\",\"P\",\"P\",\"P\",\"S\",\"S\",\"S\",\"S\",\"S\",\"S\",\"S\",\"S\",\"S\",\"S\",\"S\",\"S\",\"P\",\"P\",\"S\",\"P\",\"P\",\"P\",\"P\",\"S\",\"P\",\"S\",\"S\",\"S\",\"S\",\"S\",\"P\",\"S\",\"S\",\"S\",\"S\",\"S\",\"S\",\"S\",\"S\",\"S\",\"P\",\"P\",\"P\",\"S\",\"S\",\"P\",\"P\",\"P\",\"P\",\"S\",\"S\",\"S\",\"S\",\"S\",\"P\",\"P\",\"P\",\"S\",\"S\",\"P\",\"P\",\"P\",\"S\",\"P\",\"P\",\"P\",\"P\",\"P\",\"S\",\"P\",\"P\",\"S\",\"S\",null,\"P\",\"P\",null,\"S\",\"P\",\"S\",\"S\",\"P\",\"P\",\"P\",\"S\",\"S\",\"P\",\"P\",\"P\",\"P\",\"P\",\"P\",\"P\",\"S\",\"P\",\"P\",\"S\",\"S\",\"S\",\"S\",\"S\",\"S\",\"S\",\"S\",\"S\",\"S\",\"P\",\"P\",\"P\",\"P\",\"P\",null,\"P\",\"P\",\"P\",\"P\",\"S\",\"S\",\"S\",\"S\",\"S\",\"S\",null,\"P\",\"P\",\"P\",\"P\",\"S\",\"S\",\"S\",\"S\",\"S\",\"S\",\"S\",\"P\",\"P\",\"P\",\"P\",\"P\",\"S\",\"P\",\"S\",null,\"S\",\"S\",\"S\",\"P\",\"P\",\"P\",\"S\",\"P\",\"P\",\"S\",\"S\",\"S\",\"S\",\"P\",\"S\",\"S\",\"S\",\"P\",\"S\",\"S\",\"S\",\"P\",\"P\",\"S\",\"S\",\"P\",\"S\",\"P\",\"S\",\"P\",\"S\",\"S\",\"S\",\"S\",\"S\",\"P\",\"S\",\"S\",\"S\",\"S\",\"P\",\"P\",\"S\",\"S\",\"P\",\"P\",\"S\",\"P\",\"P\",\"P\",\"S\",\"S\",\"S\",\"S\",\"S\",\"P\",\"P\",\"P\",\"P\",\"P\",\"P\",\"S\",\"P\",\"P\",\"P\",\"S\",\"S\",\"S\",\"S\",\"P\",\"P\",\"S\",\"P\",\"P\",\"S\",\"S\",\"S\",\"S\",\"P\",\"P\",\"P\",\"P\",\"P\",\"P\",null,\"S\",\"P\",null,\"S\",\"S\",\"P\",\"P\",\"S\",\"P\",\"P\",\"P\",\"S\",\"S\",\"P\",\"S\",\"P\",\"P\",\"S\",\"P\",\"S\",\"S\",\"S\",\"S\",\"P\",\"P\",\"P\",null,\"P\",\"P\",\"P\",\"P\",\"P\",\"P\",\"P\",\"P\",\"P\",\"P\",\"P\",\"P\",\"P\",\"P\",\"P\",\"P\",\"P\",\"P\",\"P\",\"P\",\"P\",\"P\",\"P\",\"S\",\"S\",\"S\",\"P\",\"S\",\"S\",\"P\",\"P\",null,\"P\",\"P\",\"P\",\"S\",\"S\",\"S\",\"S\",\"P\",\"P\",\"S\",\"P\",\"S\",\"S\",\"P\",\"S\",\"S\",\"S\",\"S\",\"S\",\"P\",\"P\",\"P\",\"P\",\"S\",\"P\",\"S\",\"S\",\"P\",\"S\",\"S\",\"P\",\"S\",\"S\",\"P\",\"P\",\"P\",\"P\",\"P\",\"P\",\"P\",\"P\",\"P\",\"P\",\"P\",\"P\",\"P\",\"S\",\"S\",\"P\",\"P\",\"P\",\"S\",\"S\",\"P\",\"S\",\"S\",\"P\",\"S\",\"P\",\"S\",\"S\",\"S\",\"P\",\"S\",\"S\",\"S\",\"P\",\"S\",\"P\",\"P\",\"P\",\"P\",\"P\",\"P\",\"P\",\"P\",\"P\",\"P\",\"P\",\"P\",\"P\",\"P\",\"P\",\"P\",\"P\",\"S\",\"S\",\"S\",\"P\",\"P\",\"S\",\"S\",\"P\",\"P\",null,\"P\",\"S\",\"P\",\"S\",\"S\",\"P\",\"P\",\"S\",\"S\",\"S\",\"S\",\"P\",null,\"S\",\"P\",\"S\",\"P\",\"P\",\"S\",\"S\",\"P\",\"P\",\"P\",\"S\",\"P\",\"P\",\"S\",\"P\",\"P\",\"P\",\"P\",\"S\",\"S\",\"P\",\"P\",\"S\",\"S\",\"S\",\"S\",\"S\",\"S\",\"S\",\"S\",\"P\",\"S\",\"S\",\"S\",\"S\",null,\"S\",\"S\",\"S\",\"S\",\"S\",\"S\",\"S\",\"S\",\"S\",\"P\",\"P\",\"P\",\"P\",\"P\",\"S\",\"S\",\"P\",\"S\",\"S\",\"P\",\"S\",\"P\",\"S\",\"P\",\"P\",\"P\",\"P\",\"S\",\"S\",\"P\",\"P\",\"P\",\"S\",\"P\",\"S\",null,\"S\",\"S\",\"S\",\"S\",\"S\",\"S\",\"S\",\"S\",\"S\",\"P\",\"S\",\"S\",\"S\",\"P\",\"S\",\"P\",\"P\",\"P\",\"P\",\"S\",\"P\",\"P\",\"P\",\"S\",null,\"P\",\"S\",\"S\",\"S\",\"S\",\"S\",\"P\",\"S\",\"S\",\"P\",\"S\",\"S\",\"P\",\"S\",\"S\",\"S\",\"S\",\"S\",\"P\",\"S\",\"S\",\"S\",\"S\",\"S\",\"S\",\"S\",\"S\",\"S\",\"P\",\"P\",\"P\",\"P\",\"S\",\"P\",\"P\",\"P\",\"P\",\"P\",\"S\",\"P\",\"S\",\"S\",\"S\",\"S\",\"S\",null,\"P\",\"S\",\"P\",\"P\",\"P\",\"P\",\"P\",\"S\",\"P\",\"P\",\"P\",\"P\",\"S\",\"P\",\"P\",\"P\",\"S\",\"S\",\"S\",\"S\",\"P\",\"P\",\"P\",\"P\",\"S\",\"P\",\"P\",\"S\",\"S\",\"S\",\"S\",\"S\",\"S\",\"S\",\"P\",\"S\",\"P\",\"S\",\"S\",\"S\",\"S\",\"S\",\"P\",\"P\",\"P\",\"P\",\"S\",\"P\",\"S\",\"P\",\"P\",\"S\",\"S\",\"P\",\"P\",\"S\",\"S\",\"S\",\"S\",\"S\",\"S\",\"S\",\"S\",\"S\",\"S\",\"P\",\"S\",\"S\",\"S\",\"P\",\"P\",\"P\",\"S\",\"S\",\"S\",\"S\",\"S\",\"S\",\"S\",\"S\",\"P\",\"P\",\"S\",\"S\",\"P\",\"P\",\"S\",\"P\",\"S\",\"P\",\"P\",\"S\",\"P\",\"S\",\"P\",\"P\",\"S\",\"P\",\"S\",\"S\",\"P\",\"P\",\"P\",\"P\",\"P\",\"S\",\"S\",\"S\",\"P\",\"P\",\"S\",\"P\",\"S\",\"S\",\"S\",\"S\",\"S\",\"S\",\"P\",\"P\",\"P\",\"P\",\"P\",\"P\",\"S\",\"S\",\"S\",\"S\",\"S\",\"P\",\"P\",\"S\",\"S\",\"S\",\"S\",\"S\",\"P\",\"P\",\"P\",\"S\",\"S\",\"S\",\"S\",\"S\",\"P\",\"P\",\"P\",\"P\",\"P\",\"S\",\"P\",\"P\",\"S\",\"S\",\"S\",\"P\",\"S\",\"S\",\"P\",\"S\",\"S\",\"P\",\"S\",\"S\",\"P\",\"S\",\"S\",\"S\",\"P\",\"P\",\"P\",\"S\",\"S\",\"S\",null,\"S\",\"S\",\"S\",\"S\",\"S\",\"S\",\"P\",\"S\",\"S\",\"S\",\"S\",\"S\",\"P\",\"S\",\"P\",null,\"P\",\"S\",\"S\",\"S\",\"P\",\"S\",\"S\",\"S\",\"S\",\"S\",\"P\",\"S\",\"S\",null,\"S\",\"P\",\"P\",\"P\",\"S\",\"S\",\"P\",\"S\",\"S\",\"S\",\"P\",\"P\",\"P\",\"P\",\"P\",\"P\",\"P\",\"P\",\"P\",null,\"S\",\"S\",\"S\",\"S\",\"S\",\"S\",\"S\",\"P\",null,\"S\",\"S\",\"P\",\"P\",\"P\",\"P\",\"P\",\"S\",\"P\",\"P\",\"P\",\"P\",\"S\",\"S\",\"S\",\"P\",null,\"S\",\"S\",\"S\",\"S\",\"S\",\"S\",\"S\",\"S\",\"P\",\"P\",\"P\",\"P\",\"S\",\"P\",\"P\",\"P\",\"P\",\"P\",\"S\",\"P\",\"P\",\"S\",\"S\",\"S\",\"S\",\"S\",\"P\",\"S\",\"S\",\"S\",\"S\",\"S\",\"S\",\"S\",\"P\",\"P\",\"P\",\"P\",\"P\",\"S\",\"S\",\"S\",\"P\",\"P\",\"P\",\"S\",\"P\",\"P\",\"S\",\"S\",\"S\",\"S\",\"P\",\"S\",\"S\",\"P\",\"S\",\"S\",\"S\",\"P\",\"S\",\"P\",\"P\",\"S\",\"S\",\"S\",\"S\",\"P\",\"S\",\"P\",\"P\",\"P\",\"P\",\"S\",\"S\",\"S\",\"S\",\"S\",null,\"S\",\"S\",\"S\",\"S\",\"P\",\"S\",\"P\",\"P\",\"S\",\"S\",\"S\",\"S\",\"S\",\"S\",\"S\",\"P\",\"S\",null,\"S\",\"S\",\"P\",\"P\",\"P\",\"P\",\"P\",\"S\",\"S\",\"S\",\"P\",\"P\",null,\"S\",\"S\",\"S\",\"P\",\"S\",\"P\",\"P\",\"P\",\"P\",\"P\",\"P\",\"S\",\"P\",\"P\",\"P\",\"P\",\"P\",null,\"S\",\"S\",\"S\",\"S\",\"S\",\"S\",\"S\",\"S\",\"P\",\"S\",\"S\",\"S\",\"P\",\"S\",\"S\",\"S\",\"P\",\"S\",\"P\",\"P\",\"S\",\"P\",\"S\",\"P\",\"P\",\"P\",\"S\",\"S\",\"S\",\"S\",\"S\",\"S\",\"P\",\"P\",\"S\",\"S\",\"P\",\"S\",\"S\",\"S\",\"P\",\"S\",\"S\",\"S\",\"S\",\"S\",\"S\",\"S\",\"S\",\"P\",\"P\",\"P\",\"S\",\"S\",\"S\",\"P\",\"P\",\"P\",\"P\",\"P\",\"S\",\"P\",\"P\",\"P\",\"P\",\"P\",\"P\",\"P\",\"P\",\"S\",\"P\",\"S\",\"S\",\"S\",\"S\",\"P\",\"S\",\"S\",\"S\",\"S\",\"S\",\"P\",\"P\",\"P\",\"P\",\"P\",\"S\",\"S\",\"S\",\"S\",\"P\",\"S\",\"S\",\"P\",\"S\",\"P\",\"S\",\"S\",\"P\",\"S\",\"S\",\"S\",\"P\",\"P\",\"P\",\"P\",\"S\",\"S\",\"S\",\"S\",\"S\",\"S\",\"S\",\"P\",\"S\",\"P\",\"P\",\"P\",\"P\",null,\"S\",\"S\",\"S\",\"S\",\"S\",\"P\",\"P\",\"P\",\"P\",\"P\",\"S\",\"S\",\"S\",\"P\",\"S\",\"P\",\"P\",\"P\",\"P\",\"P\",\"S\",\"P\",\"S\",\"S\",\"P\",\"P\",\"P\",\"P\",\"P\",\"P\",\"P\",\"S\",\"S\",\"P\",\"P\",\"P\",\"S\",\"P\",\"P\",\"S\",\"P\",\"S\",\"P\",\"S\",\"S\",\"P\",\"P\",\"P\",\"S\",\"S\",\"S\",\"S\",\"S\",\"P\",\"P\",\"S\",\"S\",\"S\",\"S\",\"S\",\"S\",\"P\",\"S\",\"S\",null,\"P\",\"S\",\"S\",\"S\",\"P\",\"S\",\"S\",\"S\",\"P\",\"P\",\"P\",\"P\",\"P\",\"S\",\"S\",\"S\",\"S\",\"S\",\"S\",\"S\",\"S\",\"P\",\"S\",\"S\",\"P\",\"P\",\"P\",\"S\",\"P\",\"S\",\"P\",\"P\",\"P\",\"S\",\"P\",\"S\",\"P\",\"P\",\"P\",\"P\",\"P\",\"P\",\"P\",\"P\",\"S\",\"P\",\"P\",\"P\",\"P\",\"P\",\"P\",\"S\",null,\"S\",\"P\",\"S\",\"P\",\"P\",\"P\",\"S\",\"S\",\"S\",\"S\",\"S\",\"S\",\"S\",\"P\",\"S\",\"P\",\"S\",\"S\",\"S\",\"S\",\"P\",\"P\",\"P\",\"S\",\"P\",\"P\",\"P\",\"P\",\"P\",\"P\",\"P\",\"P\",\"P\",\"S\",\"S\",\"P\",\"S\",\"P\",\"P\",\"P\",\"P\",\"P\",\"S\",\"S\",\"P\",\"P\",\"P\",\"S\",\"P\",\"S\",\"S\",\"S\",\"P\",\"P\",\"S\",\"S\",\"S\",\"P\",\"P\",\"S\",\"P\",\"S\",\"P\",\"S\",\"P\",\"P\",\"P\",\"P\",\"P\",\"S\",\"P\",\"P\",\"P\",\"P\",\"P\",\"P\",\"S\",\"P\",\"P\",\"P\",\"P\",\"P\",\"S\",\"S\",\"S\",\"P\",\"P\",\"P\",\"P\",\"P\",\"P\",\"S\",\"P\",\"P\",\"P\",\"S\",\"S\",\"S\",\"P\",\"P\",\"P\",\"S\",\"S\",\"P\",\"P\",\"S\",\"P\",\"S\",\"P\",\"P\",\"P\",\"P\",\"P\",\"S\",\"P\",\"P\",\"S\",\"S\",\"S\",\"S\",\"S\",\"S\",\"S\",\"S\",\"S\",\"P\",\"P\",\"P\",\"P\",\"S\",\"S\",\"S\",\"S\",\"S\",\"S\",\"P\",\"P\",\"P\",\"S\",\"P\",\"S\",\"P\",\"S\",\"S\",\"S\",\"S\",null,\"S\",\"S\",\"S\",\"P\",\"S\",\"P\",\"P\",\"S\",\"S\",\"P\",\"S\",\"S\",\"S\",\"S\",\"P\",\"P\",\"P\",\"P\",\"S\",\"P\",\"P\",\"S\",\"P\",\"S\",\"P\",\"S\",\"S\",\"S\",\"S\",\"P\",\"P\",\"P\",\"S\",\"P\",\"S\",\"S\",\"S\",\"P\",\"P\",null,\"P\",\"P\",\"P\",\"P\",\"S\",\"S\",\"P\",\"S\",\"S\",\"P\",\"P\",\"S\",\"P\",\"P\",\"P\",\"P\",\"P\",\"P\",\"S\",\"P\",\"P\",\"P\",\"P\",\"P\",\"S\",\"S\",\"S\",\"S\",\"S\",\"P\",\"P\",\"P\",\"P\",\"P\",\"P\",\"P\",\"P\",\"P\",\"S\",\"S\",\"S\",\"S\",\"S\",\"P\",\"P\",\"S\",\"P\",\"P\",\"P\",\"P\",\"P\",\"P\",\"P\",\"S\",\"S\",\"S\",\"S\",\"S\",\"S\",\"S\",\"S\",\"P\",\"S\",\"P\",\"P\",\"S\",\"S\",\"P\",\"P\",\"S\",\"P\",\"P\",\"S\",\"S\",\"S\",\"S\",\"P\",\"P\",\"P\",\"S\",\"S\",\"S\",\"P\",\"S\",\"P\",\"S\",\"P\",\"P\",\"S\",\"S\",\"P\",\"P\",\"P\",\"P\",\"P\",\"P\",\"P\",\"P\",\"P\",\"P\",\"P\",\"P\",\"S\",\"S\",\"S\",\"S\",\"P\",\"P\",\"P\",\"P\",\"S\",\"P\",\"P\",\"P\",\"P\",\"S\",\"P\",\"P\",null,\"P\",\"P\",\"S\",\"S\",\"S\",\"S\",\"P\",\"P\",\"P\",\"P\",\"P\",\"P\",\"P\",\"S\",\"S\",\"P\",\"P\",\"P\",\"S\",\"S\",\"P\",\"S\",\"P\",\"P\",\"P\",\"P\",\"P\",\"P\",\"P\",\"P\",\"S\",\"S\",\"P\",\"P\",\"S\",\"S\",null,\"P\",\"S\",\"S\",\"S\",\"S\",null,\"P\",\"S\",\"P\",\"P\",\"P\",\"P\",\"P\",\"P\",\"P\",\"P\",\"P\",\"S\",\"S\",\"S\",\"P\",\"S\",\"S\",\"S\",\"P\",\"S\",\"P\",\"S\",\"S\",null,\"S\",\"S\",\"P\",\"P\",\"S\",\"S\",\"S\",\"S\",\"S\",\"S\",\"P\",\"S\",\"S\",\"S\",\"S\",\"S\",\"S\",\"P\",\"S\",\"S\",\"S\",\"P\",\"P\",\"P\",\"P\",\"P\",\"P\",\"P\",\"P\",\"P\",\"P\",\"S\",\"S\",\"S\",\"S\",\"S\",\"P\",\"P\",\"P\",\"S\",\"P\",\"P\",\"P\",\"S\",\"S\",\"S\",\"P\",\"S\",\"P\",\"P\",\"P\",\"P\",\"S\",\"S\",\"P\",\"S\",\"S\",\"P\",\"P\",\"P\",\"P\",\"P\",\"P\",\"P\",\"P\",\"P\",\"S\",\"P\",\"P\",\"P\",\"P\",\"P\",\"P\",\"S\",\"S\",\"P\",\"S\",\"P\",\"P\",\"P\",\"P\",\"P\",\"S\",\"P\",\"P\",\"S\",\"P\",\"S\",\"S\",\"S\",\"S\",null,\"S\",\"S\",\"P\",\"P\",\"S\",\"S\",\"S\",\"P\",\"P\",\"S\",\"S\",\"S\",\"S\",\"S\",\"S\",\"S\",\"S\",\"S\",\"S\",\"S\",\"P\",\"P\",\"P\",\"P\",\"P\",\"P\",\"S\",\"P\",\"P\",\"P\",\"P\",\"P\",\"S\",\"S\",\"S\",null,\"S\",\"S\",\"S\",\"P\",\"S\",\"S\",\"P\",\"P\",\"P\",\"P\",\"P\",\"P\",\"S\",\"P\",\"P\",\"P\",\"P\",\"P\",\"P\",\"S\",\"S\",\"S\",\"P\",\"P\",\"S\",\"S\",\"P\",\"S\",\"S\",\"S\",\"P\",\"S\",\"S\",\"S\",\"S\",\"S\",\"P\",null,\"P\",\"P\",\"S\",\"P\",\"P\",\"S\",\"S\",\"P\",\"S\",\"S\",\"S\",\"S\",\"P\",\"P\",\"S\",\"S\",\"S\",\"S\",\"S\",\"S\",\"P\",\"S\",\"P\",\"P\",\"P\",\"P\",\"P\",\"P\",\"S\",\"P\",\"S\",\"P\",\"P\",\"S\",\"S\",\"S\",\"S\",\"P\",\"S\",\"P\",\"P\",\"P\",\"P\",\"P\",\"P\",\"P\",\"P\",\"P\",\"P\",\"S\",\"S\",\"S\",\"S\",\"P\",\"P\",\"S\",\"S\",\"S\",\"P\",\"P\",\"P\",\"P\",\"S\",\"P\",\"P\",\"P\",\"P\",\"P\",\"P\",null,\"P\",\"P\",\"S\",\"S\",\"S\",\"S\",\"S\",\"P\",\"S\",\"P\",\"P\",\"P\",\"P\",\"S\",\"P\",\"S\",\"S\",\"P\",\"P\",\"S\",\"P\",\"P\",\"P\",\"P\",\"P\",\"S\",\"P\",\"S\",\"S\",\"S\",\"P\",\"S\",\"P\",\"S\",\"S\",\"S\",\"P\",\"S\",\"P\",\"S\",\"P\",\"P\",\"P\",\"P\",\"P\",\"P\",\"P\",\"P\",\"P\",\"S\",\"S\",\"S\",\"S\",\"S\",\"S\",\"P\",\"S\",\"S\",\"S\",\"S\",\"S\",\"S\",\"S\",\"P\",\"S\",\"P\",\"S\",\"S\",\"P\",\"P\",\"S\",\"P\",\"P\",\"P\",\"S\",\"P\",\"S\",null,\"P\",\"S\",\"S\",\"S\",\"S\",\"P\",\"S\",\"S\",\"S\",\"P\",\"S\",\"S\",\"S\",\"P\",\"P\",\"S\",\"P\",\"P\",\"P\",\"P\",\"S\",\"S\",\"P\",\"S\",\"S\",\"S\",\"S\",\"P\",\"P\",\"P\",\"S\",\"S\",\"S\",\"S\",\"S\",\"P\",\"P\",\"P\",\"S\",\"S\",\"S\",\"P\",\"P\",\"S\",\"S\",\"S\",\"S\",\"S\",\"S\",\"S\",\"S\",\"P\",\"P\",\"P\",\"P\",\"P\",\"P\",\"P\",\"S\",\"P\",\"S\",\"S\",\"S\",\"P\",\"P\",\"P\",\"P\",\"S\",\"P\",\"S\",\"P\",\"S\",\"S\",\"S\",\"S\",\"S\",\"S\",\"P\",\"S\",\"S\",\"P\",\"P\",\"P\",\"P\",\"P\",\"S\",\"P\",\"S\",\"S\",\"S\",\"P\",\"P\",\"P\",\"P\",\"P\",\"P\",\"P\",\"P\",\"S\",\"S\",\"S\",\"P\",\"S\",\"P\",\"S\",\"S\",\"S\",\"S\",\"S\",\"S\",\"S\",\"S\",\"S\",\"S\",\"S\",\"S\",\"P\",\"S\",\"S\",\"S\",\"S\",\"S\",\"S\",\"P\",\"P\",\"P\",\"P\",\"S\",\"S\",\"S\",\"S\",\"S\",\"P\",\"P\",\"P\",\"P\",\"P\",\"P\",\"S\",\"S\",\"S\",\"S\",\"P\",\"S\",\"S\",\"P\",\"P\",\"S\",\"S\",\"S\",\"S\",\"S\",\"S\",\"S\",\"S\",\"S\",\"P\",\"P\",\"P\",\"P\",\"P\",\"P\",\"S\",\"P\",\"S\",\"S\",\"S\",\"S\",\"S\",\"P\",\"P\",\"S\",\"P\",null,\"P\",\"P\",\"P\",\"S\",\"P\",\"P\",\"P\",\"P\",\"S\",\"P\",\"S\",\"S\",\"S\",\"P\",\"P\",\"S\",\"S\",\"S\",\"P\",\"P\",\"P\",\"P\",\"P\",\"P\",\"P\",\"P\",\"P\",\"P\",\"P\",\"S\",\"P\",\"P\",\"P\",null,\"P\",\"S\",\"S\",\"S\",\"S\",\"S\",\"S\",\"S\",\"S\",\"S\",\"S\",\"S\",\"S\",\"P\",\"P\",\"P\",\"P\",\"P\",\"P\",\"P\",\"S\",\"S\",\"S\",\"S\",\"S\",\"S\",\"S\",\"P\",\"P\",\"P\",\"S\",\"S\",null,\"S\",\"P\",\"S\",\"P\",\"P\",\"P\",\"P\",\"P\",\"S\",\"P\",\"P\",\"P\",\"S\",\"S\",\"S\",\"S\",\"P\",\"S\",\"S\",\"S\",\"S\",\"S\",\"P\",\"S\",\"P\",\"S\",\"P\",\"P\",\"S\",\"S\",\"P\",\"P\",\"P\",\"S\",\"S\",\"S\",\"S\",\"S\",\"S\",\"P\",\"S\",\"S\",\"S\",\"S\",\"S\",\"P\",\"S\",\"P\",\"S\",\"S\",\"P\",\"S\",\"P\",\"P\",\"P\",\"P\",\"P\",null,\"P\",\"P\",\"P\",\"P\",\"S\",\"S\",\"P\",\"P\",\"S\",\"S\",\"S\",\"P\",\"P\",\"P\",\"P\",\"S\",\"P\",\"P\",\"P\",\"S\",\"S\",\"P\",\"S\",\"S\",\"S\",\"S\",\"S\",\"S\",\"S\",\"S\",\"S\",\"S\",\"S\",\"S\",\"S\",\"S\",\"S\",null,\"S\",\"S\",\"P\",\"S\",\"S\",\"S\",\"S\",\"S\",\"S\",\"S\",\"S\",\"S\",\"S\",\"S\",\"S\",\"S\",\"P\",\"S\",\"S\",\"S\",\"S\",\"P\",\"S\",\"S\",\"P\",\"P\",\"P\",\"P\",\"P\",\"P\",\"P\",\"P\",\"P\",\"P\",\"S\",\"P\",\"P\",\"S\",\"P\",\"P\",\"P\",\"P\",\"P\",\"P\",\"S\",\"S\",\"S\",\"S\",\"S\",\"S\",\"S\",\"P\",\"S\",\"S\",\"P\",\"P\",\"P\",\"P\",\"P\",\"P\",\"S\",\"S\",\"P\",\"S\",\"S\",\"P\",\"P\",\"S\",\"P\",\"S\",\"S\",\"P\",\"S\",\"S\",\"P\",\"S\",\"S\",\"P\",\"S\",\"S\",\"S\",\"S\",\"S\",\"S\",\"S\",\"S\",\"S\",\"P\",\"S\",\"S\",\"S\",\"P\",\"P\",\"S\",\"S\",\"P\",\"P\",\"P\",\"P\",\"P\",\"P\",null,\"P\",\"S\",\"P\",\"P\",\"P\",\"P\",\"P\",\"S\",\"P\",\"S\",\"S\",\"P\",\"S\",\"S\",\"S\",\"S\",\"S\",\"S\",\"S\",\"P\",\"S\",\"P\",\"S\",\"P\",\"P\",\"P\",\"P\",\"P\",\"P\",\"P\",null,\"P\",\"P\",\"P\",\"P\",\"S\",\"S\",\"P\",\"S\",\"S\",\"S\",\"S\",\"S\",\"S\",\"S\",\"S\",\"P\",\"S\",\"P\",\"P\",\"S\",\"P\",\"P\",\"P\",\"S\",\"S\",\"S\",\"S\",\"S\",\"S\",\"S\",\"S\",\"P\",\"P\",\"P\",\"P\",\"P\",\"P\",\"S\",\"S\",\"S\",\"S\",\"S\",\"S\",\"S\",\"S\",\"S\",\"P\",\"P\",\"P\",\"P\",\"P\",\"S\",\"S\",\"P\",\"P\",\"S\",\"S\",\"S\",\"S\",\"P\",\"P\",\"P\",\"P\",\"S\",\"P\",\"S\",\"S\",\"S\",\"S\",\"S\",null,\"P\",\"P\",\"P\",\"P\",\"P\",\"P\",\"P\",\"S\",\"S\",\"S\",\"S\",\"P\",\"S\",\"P\",\"P\",\"P\",\"P\",\"P\",\"P\",\"P\",\"S\",\"S\",\"P\",\"P\",\"P\",\"P\",null,\"P\",\"S\",\"S\",\"S\",\"S\",\"S\",\"S\",\"S\",\"P\",\"P\",\"S\",\"S\",\"P\",\"P\",\"P\",\"P\",\"P\",\"S\",\"S\",null,\"S\",\"S\",null,\"S\",\"P\",\"P\",\"P\",\"P\",\"P\",\"S\",\"S\",\"S\",null,\"P\",\"S\",\"P\",null,\"P\",\"P\",\"P\",\"P\",\"P\",\"P\",\"P\",\"P\",\"P\",\"P\",\"P\",\"P\",\"S\",\"S\",\"P\",\"S\",\"S\",\"S\",\"S\",\"S\",\"S\",\"S\",\"S\",\"S\",\"S\",\"S\",\"P\",\"P\",\"S\",\"S\",\"S\",\"P\",\"S\",\"S\",\"S\",\"P\",\"P\",null,\"P\",\"P\",\"P\",\"P\",\"P\",\"P\",\"P\",\"P\",\"S\",\"P\",\"S\",\"S\",\"S\",\"S\",\"P\",\"P\",\"P\",\"P\",\"P\",\"S\",\"S\",\"S\",\"S\",\"S\",\"P\",\"S\",\"S\",\"P\",\"S\",\"S\",\"S\",\"S\",\"S\",\"S\",\"S\",\"P\",\"S\",\"P\",\"P\",\"P\",\"P\",\"P\",\"S\",\"P\",\"P\",\"P\",\"S\",\"S\",\"P\",\"S\",\"S\",\"P\",\"P\",\"P\",\"P\",\"S\",\"S\",\"S\",\"S\",\"S\",\"S\",\"P\",\"S\",\"S\",\"S\",\"S\",\"S\",\"S\",\"P\",\"P\",\"S\",\"S\",\"S\",\"P\",\"S\",\"P\",\"P\",\"S\",\"S\",\"P\",\"P\",\"S\",\"S\",\"S\",\"P\",\"P\",\"P\",\"P\",\"P\",\"P\",\"S\",\"S\",\"S\",\"P\",\"S\",\"S\",\"S\",\"S\",\"P\",\"P\",\"P\",\"P\",\"S\",\"S\",\"S\",\"P\",\"S\",\"S\",\"P\",\"P\",\"S\",\"S\",\"S\",\"S\",\"S\",\"S\",\"P\",\"P\",\"S\",\"S\",\"P\",\"P\",\"P\",\"S\",\"S\",\"S\",\"P\",\"S\",\"P\",\"P\",\"S\",\"P\",\"P\",\"P\",\"P\",\"P\",\"S\",\"S\",\"P\",\"S\",\"S\",\"P\",\"P\",\"P\",\"P\",\"P\",\"P\",\"P\",\"P\",\"P\",\"S\",\"P\",\"S\",\"P\",null,\"P\",\"P\",\"S\",\"P\",\"P\",\"S\",\"S\",\"S\",\"S\",\"S\",\"S\",\"S\",\"S\",\"P\",null,\"S\",\"S\",\"S\",\"P\",\"P\",\"P\",\"P\",\"S\",\"S\",\"S\",\"P\",\"P\",\"S\",\"P\",\"P\",\"P\",\"P\",\"S\",\"S\",\"S\",\"P\",\"S\",\"S\",\"S\",\"S\",\"P\",\"P\",\"P\",\"P\",\"P\",\"P\",\"P\",\"P\",\"P\",\"P\",\"P\",\"P\",\"S\",\"P\",\"S\",\"P\",\"P\",\"P\",\"P\",\"P\",\"S\",\"P\",\"P\",\"P\",\"P\",\"P\",\"P\",\"P\",\"P\",\"S\",\"P\",\"P\",\"P\",\"P\",\"P\",\"P\",\"S\",\"P\",\"P\",\"P\",\"P\",\"P\",\"P\",\"S\",\"S\",\"S\",\"S\",\"S\",\"P\",\"P\",\"P\",\"P\",\"P\",\"S\",\"S\",\"S\",\"S\",\"P\",\"S\",\"S\",\"S\",\"S\",\"S\",\"S\",\"S\",\"S\",\"S\",\"P\",\"P\",\"P\",\"P\",\"P\",\"P\",\"P\",\"P\",\"S\",\"S\",\"S\",\"S\",\"P\",\"P\",\"S\",\"S\",\"P\",\"P\",\"S\",\"P\",\"P\",\"P\",\"S\",\"P\",\"P\",\"P\",\"P\",\"S\",\"P\",\"S\",\"S\",\"S\",\"P\",\"P\",\"P\",\"P\",\"P\",\"P\",\"P\",\"S\",\"P\",\"S\",\"S\",\"S\",\"S\",\"S\",\"S\",\"S\",\"S\",\"S\",\"S\",\"P\",\"P\",\"P\",\"P\",\"P\",\"P\",\"P\",\"P\",\"P\",\"P\",\"P\",\"S\",\"P\",\"P\",\"S\",\"P\",\"S\",\"P\",\"S\",\"S\",\"P\",\"S\",\"S\",null,\"S\",\"S\",\"P\",\"S\",\"P\",\"P\",\"P\",\"P\",\"P\",\"P\",\"S\",\"P\",\"P\",\"P\",\"S\",\"S\",\"S\",\"S\",\"S\",\"S\",\"S\",\"S\",\"S\",\"P\",\"P\",\"P\",\"P\",\"P\",\"S\",\"S\",\"P\",\"S\",\"P\",\"S\",\"S\",\"S\",\"S\",\"P\",\"P\",\"P\",\"P\",\"S\",\"P\",\"P\",\"S\",\"P\",\"P\",\"P\",\"P\",\"S\",\"S\",\"S\",\"S\",\"S\",\"P\",\"P\",\"S\",\"S\",\"S\",\"S\",\"P\",\"P\",\"S\",\"P\",\"S\",\"S\",\"S\",\"P\",\"P\",\"S\",\"S\",\"S\",\"S\",\"P\",\"S\",\"S\",\"S\",\"S\",\"S\",\"P\",\"S\",\"S\",\"S\",null,\"P\",\"P\",\"S\",\"S\",\"P\",\"P\",\"S\",\"S\",\"S\",\"P\",\"P\",\"P\",\"P\",\"S\",\"S\",\"S\",\"P\",\"S\",\"S\",\"S\",\"P\",\"S\",\"S\",\"S\",\"S\",\"S\",\"S\",\"S\",\"S\",\"S\",\"P\",\"P\",\"S\",\"S\",\"P\",\"P\",\"P\",\"S\",\"P\",\"S\",\"P\",\"P\",\"S\",\"P\",\"S\",\"S\",\"P\",\"S\",\"P\",\"S\",\"S\",\"S\",\"S\",\"S\",\"P\",\"P\",\"P\",\"P\",\"S\",\"S\",\"S\",\"S\",\"P\",\"P\",\"S\",\"P\",\"P\",null,\"S\",\"P\",\"P\",\"P\",\"P\",\"P\",\"P\",\"P\",\"S\",\"P\",\"S\",\"S\",\"P\",\"P\",\"S\",\"S\",\"P\",\"P\",\"P\",\"P\",\"S\",\"S\",\"P\",\"P\",null,\"P\",\"P\",\"P\",\"P\",\"P\",\"S\",\"S\",\"S\",\"P\",\"P\",\"P\",\"P\",\"P\",\"S\",\"S\",\"S\",\"S\",\"S\",\"P\",\"P\",\"S\",\"S\",\"S\",\"P\",\"S\",\"S\",\"P\",\"P\",\"P\",\"S\",\"P\",\"P\",\"S\",\"S\",\"S\",\"S\",\"S\",\"S\",\"P\",\"S\",\"S\",\"P\",\"P\",\"P\",\"P\",\"S\",\"P\",\"S\",\"P\",\"P\",\"S\",\"S\",\"P\",\"P\",\"P\",\"S\",\"P\",\"S\",\"S\",\"P\",\"S\",\"P\",\"S\",\"S\",\"S\",\"S\",\"S\",\"S\",\"P\",\"S\",\"S\",\"S\",\"S\",\"S\",\"S\",\"S\",\"S\",\"S\",\"S\",\"S\",\"S\",\"P\",\"S\",\"S\",\"S\",\"S\",\"P\",\"P\",\"P\",\"P\",\"P\",\"P\",\"S\",\"P\",\"P\",\"P\",\"P\",\"P\",\"P\",\"S\",\"S\",\"S\",\"P\",\"P\",\"P\",\"P\",\"S\",\"P\",\"P\",\"P\",\"P\",\"S\",\"S\",\"S\",\"S\",\"S\",\"S\",\"S\",\"P\",\"P\",\"P\",\"P\",\"S\",\"S\",\"S\",\"S\",\"P\",\"P\",\"P\",\"P\",\"P\",\"S\",\"S\",\"P\",\"P\",\"S\",\"S\",\"S\",\"S\",\"S\",\"P\",\"S\",\"P\",\"P\",\"S\",\"S\",\"S\",\"S\",\"S\",\"S\",\"S\",null,\"S\",\"S\",\"P\",\"S\",\"P\",\"S\",\"S\",\"S\",\"S\",\"P\",\"P\",\"P\",\"P\",\"P\",\"P\",\"P\",\"S\",\"P\",\"S\",\"P\",null,\"S\",\"P\",\"P\",\"P\",\"P\",\"P\",\"P\",\"P\",\"P\",\"S\",\"P\",\"S\",\"S\",\"S\",\"S\",\"S\",\"S\",\"P\",\"P\",\"S\",\"S\",\"P\",\"P\",\"P\",\"P\",\"S\",\"P\",\"P\",\"P\",\"S\",\"P\",\"P\",\"P\",null,\"P\",\"P\",\"P\",\"S\",\"P\",\"S\",\"P\",\"S\",\"S\",\"P\",\"P\",\"P\",\"P\",null,\"P\",\"S\",\"S\",\"S\",\"S\",\"S\",\"S\",\"S\",\"P\",\"P\",\"P\",\"P\",\"S\",\"P\",\"P\",\"P\",\"P\",\"S\",\"P\",\"S\",\"S\",\"P\",\"P\",\"P\",\"S\",\"P\",\"P\",\"S\",\"S\",\"P\",\"P\",\"P\",\"P\",\"S\",\"P\",\"P\",\"P\",\"P\",\"P\",\"P\",\"S\",\"P\",\"S\",\"P\",\"S\",\"P\",\"S\",\"S\",\"P\",\"S\",\"P\",\"S\",\"P\",\"P\",\"P\",\"P\",\"P\",\"P\",\"P\",\"S\",\"S\",\"P\",\"P\",\"P\",\"S\",\"S\",\"P\",\"S\",\"S\",\"S\",\"S\",\"S\",\"P\",\"P\",\"P\",\"S\",\"P\",\"S\",\"S\",\"P\",\"P\",\"S\",\"S\",\"S\",\"S\",null,\"P\",\"P\",\"P\",\"S\",\"S\",\"P\",\"P\",\"P\",\"P\",\"P\",\"P\",\"P\",\"P\",\"P\",\"P\",\"P\",\"P\",\"S\",\"S\",\"P\",\"S\",\"P\",\"P\",\"P\",\"P\",\"P\",\"S\",\"S\",\"S\",\"S\",\"S\",\"S\",\"S\",\"P\",\"S\",\"P\",\"S\",\"S\",\"P\",\"S\",\"P\",\"S\",\"S\",\"P\",\"S\",\"P\",\"P\",\"P\",\"S\",\"P\",\"P\",\"S\",\"P\",null,\"S\",\"S\",\"P\",\"P\",\"P\",\"S\",\"S\",\"S\",\"P\",\"S\",null,\"P\",\"S\",\"P\",\"P\",\"P\",\"P\",\"P\",\"S\",\"S\",\"S\",\"S\",\"P\",\"S\",\"S\",\"S\",\"S\",\"P\",\"S\",\"P\",\"P\",\"S\",\"P\",\"P\",\"P\",\"S\",\"S\",\"S\",\"P\",\"P\",null,\"P\",\"S\",\"P\",\"P\",\"S\",\"S\",\"P\",\"S\",\"S\",\"P\",\"P\",\"P\",\"P\",\"S\",\"S\",\"P\",\"S\",\"S\",\"P\",\"P\",\"P\",\"P\",\"P\",\"S\",\"S\",\"S\",\"S\",\"S\",\"S\",\"S\",\"P\",\"P\",\"S\",\"S\",\"P\",\"P\",\"P\",\"P\",\"P\",\"P\",\"S\",\"P\",\"P\",\"S\",\"S\",\"P\",\"S\",\"S\",\"S\",\"S\",\"S\",\"P\",\"S\",\"P\",\"P\",\"S\",\"P\",\"S\",\"S\",\"P\",\"P\",\"P\",\"S\",\"P\",\"P\",\"S\",\"P\",\"P\",\"P\",\"P\",\"P\",\"S\",\"P\",\"P\",\"P\",\"S\",\"P\",\"S\",\"P\",\"P\",\"S\",\"P\",\"S\",\"S\",\"P\",\"S\",\"S\",\"S\",\"S\",\"S\",\"S\",\"S\",\"P\",\"P\",\"P\",\"S\",\"S\",\"S\",\"S\",\"S\",\"S\",\"P\",\"S\",\"P\",\"P\",\"S\",\"S\",\"S\",\"P\",\"P\",\"P\",\"S\",\"S\",\"P\",\"P\",\"S\",\"P\",\"S\",\"S\",\"P\",\"S\",\"P\",\"P\",\"P\",\"P\",\"S\",\"P\",\"S\",\"S\",\"S\",\"P\",\"P\",\"P\",\"P\",\"P\",\"S\",\"S\",\"S\",\"S\",\"S\",\"S\",\"S\",\"S\",\"S\",\"S\",\"S\",\"S\",\"S\",\"S\",\"P\",\"P\",\"P\",\"P\",\"S\",\"S\",\"S\",\"S\",\"P\",\"P\",\"P\",\"P\",\"S\",\"S\",\"S\",\"P\",\"P\",\"P\",\"P\",\"P\",\"S\",\"P\",\"P\",\"P\",\"P\",\"P\",\"S\",\"S\",\"P\",\"P\",\"P\",\"P\",\"S\",\"S\",\"S\",\"P\",\"S\",\"P\",\"P\",\"P\",\"P\",\"S\",\"S\",\"P\",\"P\",\"P\",\"P\",\"S\",\"P\",\"P\",\"P\",\"S\",\"S\",\"S\",\"P\",\"P\",\"P\",\"S\",\"P\",\"S\",\"S\",\"S\",\"S\",\"P\",\"S\",\"S\",null,\"P\",\"S\",\"S\",\"P\",\"P\",\"P\",\"S\",\"P\",\"S\",\"P\",\"S\",\"S\",\"S\",\"P\",\"P\",\"S\",\"P\",\"S\",\"S\",\"P\",\"S\",\"S\",\"S\",\"P\",\"P\",\"P\",\"P\",\"P\",\"S\",\"S\",\"P\",\"S\",\"S\",\"S\",\"P\",\"S\",\"P\",\"S\",null,\"S\",\"S\",\"S\",\"S\",\"S\",\"S\",\"P\",\"P\",\"P\",null,\"P\",\"P\",\"P\",\"P\",\"P\",\"P\",\"S\",\"S\",\"S\",\"S\",\"P\",\"S\",\"S\",\"P\",\"P\",\"S\",\"P\",\"S\",\"S\",\"S\",\"S\",\"S\",\"S\",\"P\",\"S\",\"S\",\"S\",\"S\",\"S\",\"S\",\"S\",\"P\",\"S\",\"P\",\"P\",\"S\",null,\"S\",\"P\",null,\"S\",\"S\",\"S\",\"P\",\"P\",\"S\",\"S\",\"S\",\"S\",\"P\",\"P\",\"P\",\"S\",\"P\",\"S\",\"S\",\"S\",\"S\",\"S\",\"P\",\"S\",\"P\",null,\"P\",\"P\",\"P\",\"P\",\"P\",\"P\",\"P\",\"P\",\"S\",\"P\",\"P\",\"P\",\"S\",\"P\",\"P\",\"P\",\"P\",\"P\",\"P\",\"S\",\"P\",\"S\",\"S\",null,\"S\",null,\"P\",\"S\",\"S\",\"S\",\"S\",\"S\",\"S\",\"S\",\"P\",\"P\",\"P\",\"P\",\"P\",null,\"P\",\"S\",\"S\",\"S\",\"S\",\"S\",\"P\",\"S\",\"P\",\"P\",\"P\",\"P\",\"P\",\"P\",\"S\",\"S\",\"P\",\"P\",\"S\",null,\"S\",\"P\",\"P\",\"P\",\"S\",\"S\",\"S\",\"S\",\"P\",\"P\",\"P\",\"S\",\"S\",\"S\",\"P\",\"P\",\"S\",\"P\",\"P\",\"P\",\"P\",\"S\",\"S\",\"S\",\"P\",\"S\",\"S\",\"P\",\"P\",\"S\",\"S\",\"P\",\"P\",\"P\",\"S\",\"P\",\"P\",\"S\",\"P\",\"P\",\"P\",\"P\",null,\"P\",\"P\",\"P\",\"P\",\"P\",\"P\",\"P\",\"S\",\"S\",\"P\",\"S\",\"S\",\"P\",null,\"P\",\"P\",\"S\",\"S\",\"P\",\"S\",\"S\",\"S\",\"S\",\"S\",\"P\",\"P\",\"S\",\"S\",\"S\",\"S\",\"S\",\"S\",\"S\",\"S\",\"S\",\"S\",\"P\",\"P\",\"P\",\"P\",\"P\",\"S\",\"P\",\"S\",\"S\",\"S\",\"S\",\"S\",\"P\",\"P\",\"P\",\"S\",\"S\",\"S\",\"S\",\"S\",\"S\",\"S\",\"S\",\"P\",\"S\",\"S\",\"S\",\"S\",\"P\",\"P\",\"S\",null,\"S\",\"S\",\"S\",\"P\",\"S\",\"S\",\"P\",\"P\",\"P\",\"P\",\"P\",\"P\",\"S\",\"S\",\"S\",null,\"S\",\"S\",\"S\",\"P\",\"S\",\"S\",\"S\",\"S\",\"S\",\"S\",\"P\",\"P\",\"P\",\"P\",\"S\",\"P\",\"P\",\"P\",\"P\",\"P\",\"S\",\"P\",\"P\",\"P\",\"P\",\"P\",\"P\",\"S\",\"S\",\"S\",\"P\",\"S\",\"P\",\"P\",\"P\",\"P\",\"P\",\"P\",\"P\",\"S\",\"P\",\"S\",\"S\",\"S\",\"S\",\"P\",\"S\",\"S\",\"S\",\"P\",\"S\",\"S\",\"S\",\"P\",\"P\",\"S\",\"S\",\"S\",\"P\",\"P\",\"P\",null,\"P\",\"P\",\"P\",\"P\",\"S\",\"S\",\"S\",\"S\",\"P\",\"P\",\"P\",\"P\",\"P\",\"P\",\"P\",\"S\",\"S\",\"S\",\"P\",\"P\",\"P\",\"P\",\"P\",null,\"P\",\"P\",\"P\",\"P\",\"S\",\"S\",\"S\",\"S\",\"P\",\"P\",\"S\",\"S\",\"S\",\"S\",\"S\",\"S\",\"P\",\"P\",\"P\",\"P\",\"S\",\"P\",\"S\",\"S\",\"S\",\"S\",\"S\",\"S\",\"S\",\"S\",\"S\",\"P\",\"S\",\"S\",\"S\",\"S\",\"S\",\"S\",\"S\",\"S\",\"S\",\"S\",\"P\",\"S\",\"S\",\"S\",\"S\",\"P\",\"P\",\"P\",\"S\",\"S\",\"S\",\"S\",\"S\",\"S\",\"S\",\"S\",\"S\",\"S\",\"P\",\"P\",\"S\",\"P\",\"S\",\"S\",\"S\",\"P\",\"S\",\"P\",\"S\",\"P\",\"P\",\"S\",\"P\",\"P\",\"P\",\"S\",null,\"S\",\"S\",\"S\",\"P\",\"P\",\"S\",\"S\",\"S\",\"S\",\"S\",\"S\",\"S\",\"S\",\"S\",\"S\",\"S\",\"S\",\"P\",\"P\",\"P\",\"P\",\"S\",\"P\",\"P\",\"P\",\"P\",\"S\",\"P\",\"P\",\"S\",\"S\",\"S\",\"P\",\"S\",\"P\",\"P\",\"P\",\"P\",\"S\",\"S\",\"P\",\"S\",\"S\",\"S\",\"S\",\"P\",\"S\",\"P\",\"P\",\"P\",\"P\",\"P\",\"P\",\"S\",\"S\",\"P\",\"P\",\"P\",\"S\",\"S\",\"S\",\"S\",\"S\",\"S\",\"P\",\"P\",\"S\",\"S\",\"S\",\"P\",\"P\",\"P\",\"S\",\"S\",\"S\",\"S\",\"S\",\"S\",\"S\",\"P\",\"P\",\"P\",\"P\",\"P\",\"P\",\"P\",\"P\",\"P\",null,\"S\",\"S\",\"P\",\"P\",\"P\",\"P\",\"S\",\"P\",\"S\",\"P\",\"P\",\"S\",\"P\",\"P\",\"P\",\"S\",\"S\",\"S\",\"S\",\"S\",\"S\",\"P\",\"S\",\"S\",\"S\",\"S\",\"P\",\"P\",\"S\",\"S\",\"P\",\"S\",\"S\",\"P\",\"S\",\"S\",\"P\",\"P\",null,\"P\",\"P\",\"P\",\"P\",\"P\",\"S\",\"S\",\"S\",\"S\",null,null,\"S\",\"P\",\"S\",\"S\",\"P\",\"S\",\"P\",\"P\",\"P\",\"P\",\"P\",\"P\",\"P\",\"P\",\"P\",\"P\",\"P\",\"P\",\"S\",\"P\",\"P\",\"P\",\"P\",\"S\",\"S\",\"S\",\"S\",\"S\",\"S\",\"P\",\"S\",\"S\",\"P\",\"S\",\"P\",\"P\",\"S\",\"S\",\"S\",\"S\",\"S\",\"S\",\"S\",\"S\",\"P\",\"S\",\"S\",\"P\",\"P\",\"P\",\"P\",null,\"S\",\"S\",\"P\",\"P\",\"P\",\"P\",\"S\",\"S\",\"S\",\"S\",\"P\",\"P\",\"P\",\"P\",\"S\",\"P\",\"S\",\"S\",\"S\",\"S\",\"S\",\"S\",\"S\",\"S\",\"S\",\"S\",\"S\",\"P\",\"P\",\"P\",\"P\",\"P\",\"S\",\"P\",\"S\",\"P\",\"S\",\"S\",\"S\",\"S\",\"S\",\"P\",\"P\",\"P\",\"S\",\"S\",\"S\",\"S\",\"P\",\"P\",\"S\",\"P\",\"P\",\"P\",\"P\",\"P\",\"S\",\"P\",\"P\",\"P\",\"P\",\"P\",\"P\",\"P\",\"P\",\"P\",\"S\",\"S\",\"S\",\"P\",\"P\",\"S\",\"P\",\"S\",\"S\",\"S\",\"S\",\"S\",\"S\",\"S\",\"S\",\"S\",\"S\",\"S\",\"P\",\"P\",\"P\",\"S\",\"P\",\"P\",\"S\",\"S\",\"P\",\"P\",\"P\",\"P\",\"P\",\"S\",\"S\",\"P\",\"P\",\"P\",\"P\",\"S\",\"P\",\"P\",\"S\",\"S\",\"P\",\"S\",\"S\",\"S\",\"S\",\"S\",\"S\",\"S\",\"S\",\"S\",\"S\",\"S\",\"S\",\"S\",\"P\",\"P\",\"S\",\"P\",\"P\",\"S\",\"P\",\"P\",\"P\",\"S\",\"P\",\"P\",null,\"S\",\"P\",\"P\",\"P\",null,\"P\",\"P\",\"S\",null,\"S\",\"S\",\"S\",\"S\",\"S\",\"S\",\"S\",\"S\",\"P\",\"P\",\"P\",\"S\",\"P\",\"S\",\"S\",\"P\",\"P\",\"P\",\"S\",\"S\",\"S\",\"S\",null,\"S\",\"S\",\"P\",\"S\",\"S\",\"P\",\"S\",\"S\",\"P\",\"P\",\"P\",\"P\",\"P\",\"P\",\"P\",\"P\",\"S\",\"S\",\"S\",\"S\",\"S\",\"S\",\"P\",\"P\",\"S\",\"S\",\"P\",\"S\",\"S\",\"S\",\"S\",\"P\",\"S\",\"P\",\"S\",\"S\",\"S\",\"P\",\"S\",\"S\",\"P\",\"S\",\"S\",null,\"S\",\"S\",\"P\",\"P\",\"P\",\"S\",\"S\",\"S\",\"S\",\"P\",\"P\",\"P\",\"P\",\"P\",\"P\",\"P\",\"P\",\"P\",\"S\",\"P\",\"S\",\"S\",\"S\",\"P\",\"P\",\"P\",\"P\",\"P\",\"S\",\"S\",\"S\",\"P\",\"S\",\"S\",\"S\",\"P\",\"S\",\"S\",\"P\",\"P\",\"P\",\"S\",\"S\",\"S\",\"S\",\"S\",\"S\",\"P\",\"P\",\"P\",\"P\",\"P\",\"P\",\"P\",\"P\",\"P\",\"P\",null,\"P\",\"P\",\"P\",\"S\",\"S\",\"P\",\"P\",\"P\",\"P\",\"P\",\"P\",\"P\",\"P\",\"S\",\"P\",\"P\",\"S\",\"P\",\"P\",\"P\",\"P\",\"S\",\"S\",\"S\",\"S\",\"S\",\"S\",\"S\",\"S\",\"P\",\"S\",\"P\",\"P\",null,\"P\",\"P\",\"P\",\"P\",\"P\",\"S\",null,\"P\",\"S\",\"S\",\"S\",\"S\",\"S\",\"S\",\"P\",\"P\",\"P\",\"P\",\"P\",\"S\",\"S\",\"S\",\"P\",\"P\",\"P\",\"S\",\"S\",\"S\",\"S\",\"S\",\"S\",\"S\",\"S\",\"S\",\"S\",\"S\",\"S\",\"S\",\"P\",\"S\",\"S\",\"P\",\"P\",\"S\",\"P\",\"S\",\"P\",\"S\",\"S\",\"S\",\"S\",\"S\",\"P\",\"P\",\"P\",\"P\",\"P\",\"P\",\"S\",\"P\",\"S\",\"P\",\"P\",\"P\",\"P\",\"S\",\"S\",\"S\",\"S\",\"S\",\"S\",\"S\",\"P\",\"P\",\"P\",\"S\",\"P\",\"S\",\"S\",\"S\",\"P\",\"P\",\"P\",\"S\",\"S\",\"P\",\"P\",\"P\",\"S\",\"P\",\"P\",\"P\",\"P\",\"P\",\"P\",\"P\",\"S\",\"S\",\"S\",\"S\",\"S\",\"S\",\"S\",\"P\",\"P\",\"P\",\"S\",\"S\",\"S\",\"S\",\"P\",\"P\",\"P\",\"P\",\"P\",\"S\",\"P\",\"P\",\"S\",\"S\",\"S\",\"S\",\"P\",\"S\",\"P\",\"P\",\"P\",\"S\",\"S\",\"P\",\"S\",\"P\",\"S\",\"S\",\"S\",\"P\",\"P\",\"S\",\"S\",\"S\",\"P\",\"S\",\"P\",\"P\",\"P\",\"P\",\"S\",\"S\",\"S\",\"P\",\"S\",\"S\",\"S\",\"S\",\"P\",\"P\",\"P\",\"P\",\"S\",\"S\",\"S\",\"S\",\"S\",\"S\",\"S\",\"S\",\"P\",\"P\",\"P\",\"P\",\"P\",\"P\",\"P\",\"P\",\"P\",\"P\",\"P\",\"P\",\"P\",\"P\",\"P\",\"P\",\"S\",\"S\",\"S\",\"S\",\"S\",\"S\",\"P\",\"P\",\"S\",\"S\",\"P\",\"P\",\"S\",\"S\",\"P\",\"S\",\"S\",\"P\",\"P\",\"S\",\"S\",\"P\",\"S\",\"S\",\"S\",\"S\",\"S\",\"S\",\"S\",\"S\",\"P\",\"P\",\"P\",\"P\",\"P\",\"P\",\"P\",\"S\",\"S\",\"S\",\"S\",\"S\",\"S\",\"S\",\"P\",\"S\",\"P\",\"S\",\"S\",\"P\",\"P\",\"S\",\"P\",\"P\",\"P\",\"P\",\"P\",\"S\",\"P\",\"S\",\"S\",\"P\",\"P\",\"S\",\"S\",\"P\",\"P\",\"P\",\"P\",\"P\",\"S\",\"P\",\"P\",\"P\",\"P\",\"P\",\"P\",\"P\",\"P\",\"S\",\"S\",\"P\",\"P\",\"P\",\"S\",\"S\",\"P\",\"S\",\"S\",\"S\",null,\"P\",\"S\",\"P\",\"S\",\"S\",\"S\",\"S\",\"P\",\"P\",null,\"P\",\"P\",\"P\",\"S\",\"S\",\"S\",\"S\",\"S\",\"S\",\"S\",\"S\",\"S\",\"S\",\"S\",\"P\",\"S\",\"P\",\"P\",\"S\",\"S\",\"P\",\"P\",\"P\",null,\"P\",\"P\",\"P\",\"P\",\"P\",\"P\",\"P\",\"P\",\"P\",\"S\",\"S\",\"S\",\"P\",\"P\",\"S\",\"P\",\"P\",\"P\",\"S\",\"S\",\"S\",\"S\",\"P\",\"S\",\"P\",\"S\",\"P\",\"P\",\"P\",\"P\",\"P\",\"S\",\"S\",\"S\",\"P\",\"P\",\"S\",\"S\",\"P\",\"P\",\"P\",\"S\",\"P\",\"P\",\"P\",\"P\",\"S\",\"S\",\"P\",\"S\",\"P\",\"S\",\"P\",\"S\",\"P\",\"S\",\"S\",\"S\",\"S\",\"S\",\"P\",\"S\",\"S\",\"S\",\"S\",\"S\",\"S\",\"S\",\"S\",\"P\",\"P\",\"S\",\"P\",\"P\",\"S\",\"S\",\"S\",\"S\",\"S\",\"S\",\"P\",\"P\",\"S\",\"P\",\"S\",\"P\",\"S\",\"P\",\"P\",\"P\",\"P\",\"P\",\"S\",\"S\",\"P\",\"S\",\"P\",\"P\",\"S\",\"S\",\"S\",\"P\",\"S\",\"S\",\"S\",\"S\",\"S\",\"S\",\"S\",\"S\",\"P\",\"P\",\"P\",\"P\",\"P\",\"S\",\"P\",\"S\",\"P\",\"P\",\"P\",\"S\",\"S\",\"S\",\"P\",\"S\",\"S\",\"S\",\"S\",\"P\",\"P\",\"P\",\"P\",\"S\",\"S\",\"S\",\"S\",\"P\",\"P\",\"P\",\"P\",\"P\",\"S\",\"P\",\"P\",\"P\",null,\"P\",\"S\",\"S\",\"P\",\"P\",\"P\",\"S\",\"S\",\"S\",\"S\",\"P\",\"S\",\"P\",\"P\",\"S\",\"P\",\"S\",\"P\",\"P\",\"P\",\"S\",\"S\",\"S\",\"P\",\"S\",\"P\",\"P\",\"P\",\"P\",\"P\",\"P\",\"P\",\"S\",\"S\",\"S\",\"S\"],\"type\":\"pie\",\"textinfo\":\"percent+label\",\"textposition\":\"outside\"}],                        {\"template\":{\"data\":{\"bar\":[{\"error_x\":{\"color\":\"#2a3f5f\"},\"error_y\":{\"color\":\"#2a3f5f\"},\"marker\":{\"line\":{\"color\":\"#E5ECF6\",\"width\":0.5},\"pattern\":{\"fillmode\":\"overlay\",\"size\":10,\"solidity\":0.2}},\"type\":\"bar\"}],\"barpolar\":[{\"marker\":{\"line\":{\"color\":\"#E5ECF6\",\"width\":0.5},\"pattern\":{\"fillmode\":\"overlay\",\"size\":10,\"solidity\":0.2}},\"type\":\"barpolar\"}],\"carpet\":[{\"aaxis\":{\"endlinecolor\":\"#2a3f5f\",\"gridcolor\":\"white\",\"linecolor\":\"white\",\"minorgridcolor\":\"white\",\"startlinecolor\":\"#2a3f5f\"},\"baxis\":{\"endlinecolor\":\"#2a3f5f\",\"gridcolor\":\"white\",\"linecolor\":\"white\",\"minorgridcolor\":\"white\",\"startlinecolor\":\"#2a3f5f\"},\"type\":\"carpet\"}],\"choropleth\":[{\"colorbar\":{\"outlinewidth\":0,\"ticks\":\"\"},\"type\":\"choropleth\"}],\"contour\":[{\"colorbar\":{\"outlinewidth\":0,\"ticks\":\"\"},\"colorscale\":[[0.0,\"#0d0887\"],[0.1111111111111111,\"#46039f\"],[0.2222222222222222,\"#7201a8\"],[0.3333333333333333,\"#9c179e\"],[0.4444444444444444,\"#bd3786\"],[0.5555555555555556,\"#d8576b\"],[0.6666666666666666,\"#ed7953\"],[0.7777777777777778,\"#fb9f3a\"],[0.8888888888888888,\"#fdca26\"],[1.0,\"#f0f921\"]],\"type\":\"contour\"}],\"contourcarpet\":[{\"colorbar\":{\"outlinewidth\":0,\"ticks\":\"\"},\"type\":\"contourcarpet\"}],\"heatmap\":[{\"colorbar\":{\"outlinewidth\":0,\"ticks\":\"\"},\"colorscale\":[[0.0,\"#0d0887\"],[0.1111111111111111,\"#46039f\"],[0.2222222222222222,\"#7201a8\"],[0.3333333333333333,\"#9c179e\"],[0.4444444444444444,\"#bd3786\"],[0.5555555555555556,\"#d8576b\"],[0.6666666666666666,\"#ed7953\"],[0.7777777777777778,\"#fb9f3a\"],[0.8888888888888888,\"#fdca26\"],[1.0,\"#f0f921\"]],\"type\":\"heatmap\"}],\"heatmapgl\":[{\"colorbar\":{\"outlinewidth\":0,\"ticks\":\"\"},\"colorscale\":[[0.0,\"#0d0887\"],[0.1111111111111111,\"#46039f\"],[0.2222222222222222,\"#7201a8\"],[0.3333333333333333,\"#9c179e\"],[0.4444444444444444,\"#bd3786\"],[0.5555555555555556,\"#d8576b\"],[0.6666666666666666,\"#ed7953\"],[0.7777777777777778,\"#fb9f3a\"],[0.8888888888888888,\"#fdca26\"],[1.0,\"#f0f921\"]],\"type\":\"heatmapgl\"}],\"histogram\":[{\"marker\":{\"pattern\":{\"fillmode\":\"overlay\",\"size\":10,\"solidity\":0.2}},\"type\":\"histogram\"}],\"histogram2d\":[{\"colorbar\":{\"outlinewidth\":0,\"ticks\":\"\"},\"colorscale\":[[0.0,\"#0d0887\"],[0.1111111111111111,\"#46039f\"],[0.2222222222222222,\"#7201a8\"],[0.3333333333333333,\"#9c179e\"],[0.4444444444444444,\"#bd3786\"],[0.5555555555555556,\"#d8576b\"],[0.6666666666666666,\"#ed7953\"],[0.7777777777777778,\"#fb9f3a\"],[0.8888888888888888,\"#fdca26\"],[1.0,\"#f0f921\"]],\"type\":\"histogram2d\"}],\"histogram2dcontour\":[{\"colorbar\":{\"outlinewidth\":0,\"ticks\":\"\"},\"colorscale\":[[0.0,\"#0d0887\"],[0.1111111111111111,\"#46039f\"],[0.2222222222222222,\"#7201a8\"],[0.3333333333333333,\"#9c179e\"],[0.4444444444444444,\"#bd3786\"],[0.5555555555555556,\"#d8576b\"],[0.6666666666666666,\"#ed7953\"],[0.7777777777777778,\"#fb9f3a\"],[0.8888888888888888,\"#fdca26\"],[1.0,\"#f0f921\"]],\"type\":\"histogram2dcontour\"}],\"mesh3d\":[{\"colorbar\":{\"outlinewidth\":0,\"ticks\":\"\"},\"type\":\"mesh3d\"}],\"parcoords\":[{\"line\":{\"colorbar\":{\"outlinewidth\":0,\"ticks\":\"\"}},\"type\":\"parcoords\"}],\"pie\":[{\"automargin\":true,\"type\":\"pie\"}],\"scatter\":[{\"marker\":{\"colorbar\":{\"outlinewidth\":0,\"ticks\":\"\"}},\"type\":\"scatter\"}],\"scatter3d\":[{\"line\":{\"colorbar\":{\"outlinewidth\":0,\"ticks\":\"\"}},\"marker\":{\"colorbar\":{\"outlinewidth\":0,\"ticks\":\"\"}},\"type\":\"scatter3d\"}],\"scattercarpet\":[{\"marker\":{\"colorbar\":{\"outlinewidth\":0,\"ticks\":\"\"}},\"type\":\"scattercarpet\"}],\"scattergeo\":[{\"marker\":{\"colorbar\":{\"outlinewidth\":0,\"ticks\":\"\"}},\"type\":\"scattergeo\"}],\"scattergl\":[{\"marker\":{\"colorbar\":{\"outlinewidth\":0,\"ticks\":\"\"}},\"type\":\"scattergl\"}],\"scattermapbox\":[{\"marker\":{\"colorbar\":{\"outlinewidth\":0,\"ticks\":\"\"}},\"type\":\"scattermapbox\"}],\"scatterpolar\":[{\"marker\":{\"colorbar\":{\"outlinewidth\":0,\"ticks\":\"\"}},\"type\":\"scatterpolar\"}],\"scatterpolargl\":[{\"marker\":{\"colorbar\":{\"outlinewidth\":0,\"ticks\":\"\"}},\"type\":\"scatterpolargl\"}],\"scatterternary\":[{\"marker\":{\"colorbar\":{\"outlinewidth\":0,\"ticks\":\"\"}},\"type\":\"scatterternary\"}],\"surface\":[{\"colorbar\":{\"outlinewidth\":0,\"ticks\":\"\"},\"colorscale\":[[0.0,\"#0d0887\"],[0.1111111111111111,\"#46039f\"],[0.2222222222222222,\"#7201a8\"],[0.3333333333333333,\"#9c179e\"],[0.4444444444444444,\"#bd3786\"],[0.5555555555555556,\"#d8576b\"],[0.6666666666666666,\"#ed7953\"],[0.7777777777777778,\"#fb9f3a\"],[0.8888888888888888,\"#fdca26\"],[1.0,\"#f0f921\"]],\"type\":\"surface\"}],\"table\":[{\"cells\":{\"fill\":{\"color\":\"#EBF0F8\"},\"line\":{\"color\":\"white\"}},\"header\":{\"fill\":{\"color\":\"#C8D4E3\"},\"line\":{\"color\":\"white\"}},\"type\":\"table\"}]},\"layout\":{\"annotationdefaults\":{\"arrowcolor\":\"#2a3f5f\",\"arrowhead\":0,\"arrowwidth\":1},\"autotypenumbers\":\"strict\",\"coloraxis\":{\"colorbar\":{\"outlinewidth\":0,\"ticks\":\"\"}},\"colorscale\":{\"diverging\":[[0,\"#8e0152\"],[0.1,\"#c51b7d\"],[0.2,\"#de77ae\"],[0.3,\"#f1b6da\"],[0.4,\"#fde0ef\"],[0.5,\"#f7f7f7\"],[0.6,\"#e6f5d0\"],[0.7,\"#b8e186\"],[0.8,\"#7fbc41\"],[0.9,\"#4d9221\"],[1,\"#276419\"]],\"sequential\":[[0.0,\"#0d0887\"],[0.1111111111111111,\"#46039f\"],[0.2222222222222222,\"#7201a8\"],[0.3333333333333333,\"#9c179e\"],[0.4444444444444444,\"#bd3786\"],[0.5555555555555556,\"#d8576b\"],[0.6666666666666666,\"#ed7953\"],[0.7777777777777778,\"#fb9f3a\"],[0.8888888888888888,\"#fdca26\"],[1.0,\"#f0f921\"]],\"sequentialminus\":[[0.0,\"#0d0887\"],[0.1111111111111111,\"#46039f\"],[0.2222222222222222,\"#7201a8\"],[0.3333333333333333,\"#9c179e\"],[0.4444444444444444,\"#bd3786\"],[0.5555555555555556,\"#d8576b\"],[0.6666666666666666,\"#ed7953\"],[0.7777777777777778,\"#fb9f3a\"],[0.8888888888888888,\"#fdca26\"],[1.0,\"#f0f921\"]]},\"colorway\":[\"#636efa\",\"#EF553B\",\"#00cc96\",\"#ab63fa\",\"#FFA15A\",\"#19d3f3\",\"#FF6692\",\"#B6E880\",\"#FF97FF\",\"#FECB52\"],\"font\":{\"color\":\"#2a3f5f\"},\"geo\":{\"bgcolor\":\"white\",\"lakecolor\":\"white\",\"landcolor\":\"#E5ECF6\",\"showlakes\":true,\"showland\":true,\"subunitcolor\":\"white\"},\"hoverlabel\":{\"align\":\"left\"},\"hovermode\":\"closest\",\"mapbox\":{\"style\":\"light\"},\"paper_bgcolor\":\"white\",\"plot_bgcolor\":\"#E5ECF6\",\"polar\":{\"angularaxis\":{\"gridcolor\":\"white\",\"linecolor\":\"white\",\"ticks\":\"\"},\"bgcolor\":\"#E5ECF6\",\"radialaxis\":{\"gridcolor\":\"white\",\"linecolor\":\"white\",\"ticks\":\"\"}},\"scene\":{\"xaxis\":{\"backgroundcolor\":\"#E5ECF6\",\"gridcolor\":\"white\",\"gridwidth\":2,\"linecolor\":\"white\",\"showbackground\":true,\"ticks\":\"\",\"zerolinecolor\":\"white\"},\"yaxis\":{\"backgroundcolor\":\"#E5ECF6\",\"gridcolor\":\"white\",\"gridwidth\":2,\"linecolor\":\"white\",\"showbackground\":true,\"ticks\":\"\",\"zerolinecolor\":\"white\"},\"zaxis\":{\"backgroundcolor\":\"#E5ECF6\",\"gridcolor\":\"white\",\"gridwidth\":2,\"linecolor\":\"white\",\"showbackground\":true,\"ticks\":\"\",\"zerolinecolor\":\"white\"}},\"shapedefaults\":{\"line\":{\"color\":\"#2a3f5f\"}},\"ternary\":{\"aaxis\":{\"gridcolor\":\"white\",\"linecolor\":\"white\",\"ticks\":\"\"},\"baxis\":{\"gridcolor\":\"white\",\"linecolor\":\"white\",\"ticks\":\"\"},\"bgcolor\":\"#E5ECF6\",\"caxis\":{\"gridcolor\":\"white\",\"linecolor\":\"white\",\"ticks\":\"\"}},\"title\":{\"x\":0.05},\"xaxis\":{\"automargin\":true,\"gridcolor\":\"white\",\"linecolor\":\"white\",\"ticks\":\"\",\"title\":{\"standoff\":15},\"zerolinecolor\":\"white\",\"zerolinewidth\":2},\"yaxis\":{\"automargin\":true,\"gridcolor\":\"white\",\"linecolor\":\"white\",\"ticks\":\"\",\"title\":{\"standoff\":15},\"zerolinecolor\":\"white\",\"zerolinewidth\":2}}},\"annotations\":[{\"font\":{\"size\":20},\"opacity\":0.4,\"showarrow\":false,\"text\":\"Side\",\"x\":0.5,\"y\":0.5}],\"legend\":{\"orientation\":\"v\",\"traceorder\":\"reversed\"},\"hoverlabel\":{\"bgcolor\":\"white\"}},                        {\"responsive\": true}                    ).then(function(){\n",
       "                            \n",
       "var gd = document.getElementById('9bf20788-842e-4b90-9548-b32133d011c8');\n",
       "var x = new MutationObserver(function (mutations, observer) {{\n",
       "        var display = window.getComputedStyle(gd).display;\n",
       "        if (!display || display === 'none') {{\n",
       "            console.log([gd, 'removed!']);\n",
       "            Plotly.purge(gd);\n",
       "            observer.disconnect();\n",
       "        }}\n",
       "}});\n",
       "\n",
       "// Listen for the removal of the full notebook cells\n",
       "var notebookContainer = gd.closest('#notebook-container');\n",
       "if (notebookContainer) {{\n",
       "    x.observe(notebookContainer, {childList: true});\n",
       "}}\n",
       "\n",
       "// Listen for the clearing of the current output cell\n",
       "var outputEl = gd.closest('.output');\n",
       "if (outputEl) {{\n",
       "    x.observe(outputEl, {childList: true});\n",
       "}}\n",
       "\n",
       "                        })                };                });            </script>        </div>"
      ]
     },
     "metadata": {},
     "output_type": "display_data"
    }
   ],
   "source": [
    "cnt_donut(train_data, \"Side\")"
   ]
  },
  {
   "cell_type": "markdown",
   "id": "488d6016",
   "metadata": {
    "papermill": {
     "duration": 0.099257,
     "end_time": "2022-04-05T08:43:52.828292",
     "exception": false,
     "start_time": "2022-04-05T08:43:52.729035",
     "status": "completed"
    },
    "tags": []
   },
   "source": [
    "- 이번에는 Describe() 함수를 적용해본다. "
   ]
  },
  {
   "cell_type": "code",
   "execution_count": 24,
   "id": "3e16ab15",
   "metadata": {
    "execution": {
     "iopub.execute_input": "2022-04-05T08:43:53.032544Z",
     "iopub.status.busy": "2022-04-05T08:43:53.031539Z",
     "iopub.status.idle": "2022-04-05T08:43:53.063436Z",
     "shell.execute_reply": "2022-04-05T08:43:53.063916Z",
     "shell.execute_reply.started": "2022-04-05T08:41:11.823724Z"
    },
    "papermill": {
     "duration": 0.135986,
     "end_time": "2022-04-05T08:43:53.064095",
     "exception": false,
     "start_time": "2022-04-05T08:43:52.928109",
     "status": "completed"
    },
    "tags": []
   },
   "outputs": [
    {
     "data": {
      "text/html": [
       "<div>\n",
       "<style scoped>\n",
       "    .dataframe tbody tr th:only-of-type {\n",
       "        vertical-align: middle;\n",
       "    }\n",
       "\n",
       "    .dataframe tbody tr th {\n",
       "        vertical-align: top;\n",
       "    }\n",
       "\n",
       "    .dataframe thead th {\n",
       "        text-align: right;\n",
       "    }\n",
       "</style>\n",
       "<table border=\"1\" class=\"dataframe\">\n",
       "  <thead>\n",
       "    <tr style=\"text-align: right;\">\n",
       "      <th></th>\n",
       "      <th>Age</th>\n",
       "      <th>RoomService</th>\n",
       "      <th>FoodCourt</th>\n",
       "      <th>ShoppingMall</th>\n",
       "      <th>Spa</th>\n",
       "      <th>VRDeck</th>\n",
       "    </tr>\n",
       "  </thead>\n",
       "  <tbody>\n",
       "    <tr>\n",
       "      <th>count</th>\n",
       "      <td>8514.000000</td>\n",
       "      <td>8512.000000</td>\n",
       "      <td>8510.000000</td>\n",
       "      <td>8485.000000</td>\n",
       "      <td>8510.000000</td>\n",
       "      <td>8505.000000</td>\n",
       "    </tr>\n",
       "    <tr>\n",
       "      <th>mean</th>\n",
       "      <td>28.827930</td>\n",
       "      <td>224.687617</td>\n",
       "      <td>458.077203</td>\n",
       "      <td>173.729169</td>\n",
       "      <td>311.138778</td>\n",
       "      <td>304.854791</td>\n",
       "    </tr>\n",
       "    <tr>\n",
       "      <th>std</th>\n",
       "      <td>14.489021</td>\n",
       "      <td>666.717663</td>\n",
       "      <td>1611.489240</td>\n",
       "      <td>604.696458</td>\n",
       "      <td>1136.705535</td>\n",
       "      <td>1145.717189</td>\n",
       "    </tr>\n",
       "    <tr>\n",
       "      <th>min</th>\n",
       "      <td>0.000000</td>\n",
       "      <td>0.000000</td>\n",
       "      <td>0.000000</td>\n",
       "      <td>0.000000</td>\n",
       "      <td>0.000000</td>\n",
       "      <td>0.000000</td>\n",
       "    </tr>\n",
       "    <tr>\n",
       "      <th>25%</th>\n",
       "      <td>19.000000</td>\n",
       "      <td>0.000000</td>\n",
       "      <td>0.000000</td>\n",
       "      <td>0.000000</td>\n",
       "      <td>0.000000</td>\n",
       "      <td>0.000000</td>\n",
       "    </tr>\n",
       "    <tr>\n",
       "      <th>50%</th>\n",
       "      <td>27.000000</td>\n",
       "      <td>0.000000</td>\n",
       "      <td>0.000000</td>\n",
       "      <td>0.000000</td>\n",
       "      <td>0.000000</td>\n",
       "      <td>0.000000</td>\n",
       "    </tr>\n",
       "    <tr>\n",
       "      <th>75%</th>\n",
       "      <td>38.000000</td>\n",
       "      <td>47.000000</td>\n",
       "      <td>76.000000</td>\n",
       "      <td>27.000000</td>\n",
       "      <td>59.000000</td>\n",
       "      <td>46.000000</td>\n",
       "    </tr>\n",
       "    <tr>\n",
       "      <th>max</th>\n",
       "      <td>79.000000</td>\n",
       "      <td>14327.000000</td>\n",
       "      <td>29813.000000</td>\n",
       "      <td>23492.000000</td>\n",
       "      <td>22408.000000</td>\n",
       "      <td>24133.000000</td>\n",
       "    </tr>\n",
       "  </tbody>\n",
       "</table>\n",
       "</div>"
      ],
      "text/plain": [
       "               Age   RoomService     FoodCourt  ShoppingMall           Spa  \\\n",
       "count  8514.000000   8512.000000   8510.000000   8485.000000   8510.000000   \n",
       "mean     28.827930    224.687617    458.077203    173.729169    311.138778   \n",
       "std      14.489021    666.717663   1611.489240    604.696458   1136.705535   \n",
       "min       0.000000      0.000000      0.000000      0.000000      0.000000   \n",
       "25%      19.000000      0.000000      0.000000      0.000000      0.000000   \n",
       "50%      27.000000      0.000000      0.000000      0.000000      0.000000   \n",
       "75%      38.000000     47.000000     76.000000     27.000000     59.000000   \n",
       "max      79.000000  14327.000000  29813.000000  23492.000000  22408.000000   \n",
       "\n",
       "             VRDeck  \n",
       "count   8505.000000  \n",
       "mean     304.854791  \n",
       "std     1145.717189  \n",
       "min        0.000000  \n",
       "25%        0.000000  \n",
       "50%        0.000000  \n",
       "75%       46.000000  \n",
       "max    24133.000000  "
      ]
     },
     "execution_count": 24,
     "metadata": {},
     "output_type": "execute_result"
    }
   ],
   "source": [
    "train_data.describe()"
   ]
  },
  {
   "cell_type": "code",
   "execution_count": 25,
   "id": "2eba80d8",
   "metadata": {
    "execution": {
     "iopub.execute_input": "2022-04-05T08:43:53.268621Z",
     "iopub.status.busy": "2022-04-05T08:43:53.267647Z",
     "iopub.status.idle": "2022-04-05T08:43:53.275057Z",
     "shell.execute_reply": "2022-04-05T08:43:53.275622Z",
     "shell.execute_reply.started": "2022-04-05T08:41:11.858681Z"
    },
    "papermill": {
     "duration": 0.110557,
     "end_time": "2022-04-05T08:43:53.275784",
     "exception": false,
     "start_time": "2022-04-05T08:43:53.165227",
     "status": "completed"
    },
    "tags": []
   },
   "outputs": [
    {
     "data": {
      "text/plain": [
       "Index(['Age', 'RoomService', 'FoodCourt', 'ShoppingMall', 'Spa', 'VRDeck'], dtype='object')"
      ]
     },
     "execution_count": 25,
     "metadata": {},
     "output_type": "execute_result"
    }
   ],
   "source": [
    "numeric_features = train_data.select_dtypes(include=[np.number])\n",
    "numeric_features.columns"
   ]
  },
  {
   "cell_type": "code",
   "execution_count": 26,
   "id": "a79585a1",
   "metadata": {
    "execution": {
     "iopub.execute_input": "2022-04-05T08:43:53.480776Z",
     "iopub.status.busy": "2022-04-05T08:43:53.479803Z",
     "iopub.status.idle": "2022-04-05T08:43:54.570737Z",
     "shell.execute_reply": "2022-04-05T08:43:54.571251Z",
     "shell.execute_reply.started": "2022-04-05T08:41:11.869762Z"
    },
    "papermill": {
     "duration": 1.195302,
     "end_time": "2022-04-05T08:43:54.571420",
     "exception": false,
     "start_time": "2022-04-05T08:43:53.376118",
     "status": "completed"
    },
    "tags": []
   },
   "outputs": [
    {
     "data": {
      "image/png": "[encoded data removed]",
      "text/plain": [
       "<Figure size 1152x720 with 6 Axes>"
      ]
     },
     "metadata": {
      "needs_background": "light"
     },
     "output_type": "display_data"
    }
   ],
   "source": [
    "fig, ax = plt.subplots(2, 3, figsize=(16, 10)) # 그래프의 행과 열 지정 및, 이미지 사이즈 지정\n",
    "data = train_data.copy()\n",
    "# data[numeric_features.columns].columns[0:]\n",
    "for i, col in enumerate(data[numeric_features.columns].columns[0:]): # 좌표 평면 지정\n",
    "    # print(i, col)\n",
    "    if i <= 2:\n",
    "        sns.boxplot(x=data[\"Transported\"], y=data[col], ax=ax[0,i]) # 1행 좌표 평면\n",
    "    else: \n",
    "        sns.boxplot(x=data[\"Transported\"], y=data[col], ax=ax[1,i-4]) # 5행 좌표 평면\n",
    "fig.suptitle('My Box Plots')\n",
    "fig.tight_layout()\n",
    "fig.subplots_adjust(top=0.95)"
   ]
  },
  {
   "cell_type": "markdown",
   "id": "52c8d929",
   "metadata": {
    "papermill": {
     "duration": 0.104051,
     "end_time": "2022-04-05T08:43:54.777323",
     "exception": false,
     "start_time": "2022-04-05T08:43:54.673272",
     "status": "completed"
    },
    "tags": []
   },
   "source": [
    "- 위 시각화 결과물을 놓고 보면, RoomService, FoodCount, Spa, VRDeck, ShoppingMall은 수치가 아닌 것처럼 보임. "
   ]
  },
  {
   "cell_type": "code",
   "execution_count": 27,
   "id": "b9881e33",
   "metadata": {
    "execution": {
     "iopub.execute_input": "2022-04-05T08:43:54.987483Z",
     "iopub.status.busy": "2022-04-05T08:43:54.986494Z",
     "iopub.status.idle": "2022-04-05T08:43:54.997636Z",
     "shell.execute_reply": "2022-04-05T08:43:54.998148Z",
     "shell.execute_reply.started": "2022-04-05T08:41:12.907364Z"
    },
    "papermill": {
     "duration": 0.117784,
     "end_time": "2022-04-05T08:43:54.998322",
     "exception": false,
     "start_time": "2022-04-05T08:43:54.880538",
     "status": "completed"
    },
    "tags": []
   },
   "outputs": [
    {
     "data": {
      "text/plain": [
       "0.0       5577\n",
       "1.0        117\n",
       "2.0         79\n",
       "3.0         61\n",
       "4.0         47\n",
       "          ... \n",
       "1612.0       1\n",
       "2598.0       1\n",
       "632.0        1\n",
       "378.0        1\n",
       "745.0        1\n",
       "Name: RoomService, Length: 1273, dtype: int64"
      ]
     },
     "execution_count": 27,
     "metadata": {},
     "output_type": "execute_result"
    }
   ],
   "source": [
    "train_data['RoomService'].value_counts()"
   ]
  },
  {
   "cell_type": "code",
   "execution_count": 28,
   "id": "6109fd3d",
   "metadata": {
    "execution": {
     "iopub.execute_input": "2022-04-05T08:43:55.209018Z",
     "iopub.status.busy": "2022-04-05T08:43:55.208072Z",
     "iopub.status.idle": "2022-04-05T08:43:55.217264Z",
     "shell.execute_reply": "2022-04-05T08:43:55.216621Z",
     "shell.execute_reply.started": "2022-04-05T08:41:12.923754Z"
    },
    "papermill": {
     "duration": 0.115613,
     "end_time": "2022-04-05T08:43:55.217410",
     "exception": false,
     "start_time": "2022-04-05T08:43:55.101797",
     "status": "completed"
    },
    "tags": []
   },
   "outputs": [
    {
     "data": {
      "text/plain": [
       "0.0       5456\n",
       "1.0        116\n",
       "2.0         75\n",
       "3.0         53\n",
       "4.0         53\n",
       "          ... \n",
       "3846.0       1\n",
       "5193.0       1\n",
       "312.0        1\n",
       "827.0        1\n",
       "4688.0       1\n",
       "Name: FoodCourt, Length: 1507, dtype: int64"
      ]
     },
     "execution_count": 28,
     "metadata": {},
     "output_type": "execute_result"
    }
   ],
   "source": [
    "train_data['FoodCourt'].value_counts()"
   ]
  },
  {
   "cell_type": "code",
   "execution_count": 29,
   "id": "e880412c",
   "metadata": {
    "execution": {
     "iopub.execute_input": "2022-04-05T08:43:55.432642Z",
     "iopub.status.busy": "2022-04-05T08:43:55.429110Z",
     "iopub.status.idle": "2022-04-05T08:43:55.435726Z",
     "shell.execute_reply": "2022-04-05T08:43:55.436240Z",
     "shell.execute_reply.started": "2022-04-05T08:41:12.935551Z"
    },
    "papermill": {
     "duration": 0.115176,
     "end_time": "2022-04-05T08:43:55.436413",
     "exception": false,
     "start_time": "2022-04-05T08:43:55.321237",
     "status": "completed"
    },
    "tags": []
   },
   "outputs": [
    {
     "data": {
      "text/plain": [
       "0.0       5324\n",
       "1.0        146\n",
       "2.0        105\n",
       "5.0         53\n",
       "3.0         53\n",
       "          ... \n",
       "273.0        1\n",
       "2581.0       1\n",
       "2948.0       1\n",
       "3778.0       1\n",
       "1643.0       1\n",
       "Name: Spa, Length: 1327, dtype: int64"
      ]
     },
     "execution_count": 29,
     "metadata": {},
     "output_type": "execute_result"
    }
   ],
   "source": [
    "train_data['Spa'].value_counts()"
   ]
  },
  {
   "cell_type": "markdown",
   "id": "f315a640",
   "metadata": {
    "papermill": {
     "duration": 0.103152,
     "end_time": "2022-04-05T08:43:55.644073",
     "exception": false,
     "start_time": "2022-04-05T08:43:55.540921",
     "status": "completed"
    },
    "tags": []
   },
   "source": [
    "- 실제 컬럼명에서 말하는 것도 다음과 같음. \n",
    "    + RoomService, FoodCourt, ShoppingMall, Spa, VRDeck - Amount the passenger has billed at each of the Spaceship Titanic's many luxury amenities.\n",
    "- 즉, 위 데이터는 연속형 데이터라고 보기에는 비연속형 수치 데이터인 것을 확인함. "
   ]
  },
  {
   "cell_type": "markdown",
   "id": "943dd649",
   "metadata": {
    "papermill": {
     "duration": 0.103465,
     "end_time": "2022-04-05T08:43:55.852277",
     "exception": false,
     "start_time": "2022-04-05T08:43:55.748812",
     "status": "completed"
    },
    "tags": []
   },
   "source": [
    "# Step 3. 데이터 전처리\n",
    "- Feature Engineering\n",
    "- ML 모형을 돌리기 위해 표준화 등 / 원핫-인코딩\n",
    "- 파생변수 (도출 변수)\n",
    "    + 왜 이 변수를 만들었는지에 대한 여러분들의 설명 필요"
   ]
  },
  {
   "cell_type": "markdown",
   "id": "a999ad16",
   "metadata": {
    "papermill": {
     "duration": 0.105561,
     "end_time": "2022-04-05T08:43:56.060857",
     "exception": false,
     "start_time": "2022-04-05T08:43:55.955296",
     "status": "completed"
    },
    "tags": []
   },
   "source": [
    "## 불필요한 변수 제거 \n",
    "- 모형에 쓰지 않을 변수들을 제거한다. \n",
    "    + PassengerId, Name, Carbin, Num\n",
    "- Name은 모형을 개선할 때, 가족 유무 등 판단 시, 재활용할 가치는 있다.\n",
    "- Cabin은 값을 분리했기 때문에 제거한다.\n",
    "- 방 번호를 나타내는 값인 Num은 활용가치가 없어서 제거한다."
   ]
  },
  {
   "cell_type": "code",
   "execution_count": 30,
   "id": "f0d6bcd7",
   "metadata": {
    "execution": {
     "iopub.execute_input": "2022-04-05T08:43:56.276811Z",
     "iopub.status.busy": "2022-04-05T08:43:56.270293Z",
     "iopub.status.idle": "2022-04-05T08:43:56.284645Z",
     "shell.execute_reply": "2022-04-05T08:43:56.283980Z",
     "shell.execute_reply.started": "2022-04-05T08:41:12.952832Z"
    },
    "papermill": {
     "duration": 0.120802,
     "end_time": "2022-04-05T08:43:56.284787",
     "exception": false,
     "start_time": "2022-04-05T08:43:56.163985",
     "status": "completed"
    },
    "tags": []
   },
   "outputs": [
    {
     "data": {
      "text/plain": [
       "Gollux Reedall        2\n",
       "Elaney Webstephrey    2\n",
       "Grake Porki           2\n",
       "Sus Coolez            2\n",
       "Apix Wala             2\n",
       "                     ..\n",
       "Jamela Griffy         1\n",
       "Hardy Griffy          1\n",
       "Salley Mckinn         1\n",
       "Mall Frasp            1\n",
       "Propsh Hontichre      1\n",
       "Name: Name, Length: 8473, dtype: int64"
      ]
     },
     "execution_count": 30,
     "metadata": {},
     "output_type": "execute_result"
    }
   ],
   "source": [
    "train_data['Name'].value_counts()"
   ]
  },
  {
   "cell_type": "code",
   "execution_count": 31,
   "id": "538f105f",
   "metadata": {
    "execution": {
     "iopub.execute_input": "2022-04-05T08:43:56.501833Z",
     "iopub.status.busy": "2022-04-05T08:43:56.500831Z",
     "iopub.status.idle": "2022-04-05T08:43:56.508786Z",
     "shell.execute_reply": "2022-04-05T08:43:56.508136Z",
     "shell.execute_reply.started": "2022-04-05T08:41:12.971319Z"
    },
    "papermill": {
     "duration": 0.119996,
     "end_time": "2022-04-05T08:43:56.508960",
     "exception": false,
     "start_time": "2022-04-05T08:43:56.388964",
     "status": "completed"
    },
    "tags": []
   },
   "outputs": [
    {
     "data": {
      "text/plain": [
       "G/734/S     8\n",
       "G/109/P     7\n",
       "B/201/P     7\n",
       "G/1368/P    7\n",
       "G/981/S     7\n",
       "           ..\n",
       "G/556/P     1\n",
       "E/231/S     1\n",
       "G/545/S     1\n",
       "G/543/S     1\n",
       "F/947/P     1\n",
       "Name: Cabin, Length: 6560, dtype: int64"
      ]
     },
     "execution_count": 31,
     "metadata": {},
     "output_type": "execute_result"
    }
   ],
   "source": [
    "train_data['Cabin'].value_counts()"
   ]
  },
  {
   "cell_type": "code",
   "execution_count": 32,
   "id": "02881e46",
   "metadata": {
    "execution": {
     "iopub.execute_input": "2022-04-05T08:43:56.743198Z",
     "iopub.status.busy": "2022-04-05T08:43:56.742178Z",
     "iopub.status.idle": "2022-04-05T08:43:56.747951Z",
     "shell.execute_reply": "2022-04-05T08:43:56.748536Z",
     "shell.execute_reply.started": "2022-04-05T08:41:12.986265Z"
    },
    "papermill": {
     "duration": 0.135046,
     "end_time": "2022-04-05T08:43:56.748713",
     "exception": false,
     "start_time": "2022-04-05T08:43:56.613667",
     "status": "completed"
    },
    "tags": []
   },
   "outputs": [
    {
     "data": {
      "text/plain": [
       "82      28\n",
       "86      22\n",
       "19      22\n",
       "56      21\n",
       "176     21\n",
       "        ..\n",
       "1644     1\n",
       "1515     1\n",
       "1639     1\n",
       "1277     1\n",
       "1894     1\n",
       "Name: Num, Length: 1817, dtype: int64"
      ]
     },
     "execution_count": 32,
     "metadata": {},
     "output_type": "execute_result"
    }
   ],
   "source": [
    "train_data['Num'].value_counts()"
   ]
  },
  {
   "cell_type": "code",
   "execution_count": 33,
   "id": "03c2247b",
   "metadata": {
    "execution": {
     "iopub.execute_input": "2022-04-05T08:43:56.969789Z",
     "iopub.status.busy": "2022-04-05T08:43:56.969155Z",
     "iopub.status.idle": "2022-04-05T08:43:56.980320Z",
     "shell.execute_reply": "2022-04-05T08:43:56.981220Z",
     "shell.execute_reply.started": "2022-04-05T08:41:12.999606Z"
    },
    "papermill": {
     "duration": 0.119381,
     "end_time": "2022-04-05T08:43:56.981484",
     "exception": false,
     "start_time": "2022-04-05T08:43:56.862103",
     "status": "completed"
    },
    "tags": []
   },
   "outputs": [
    {
     "name": "stdout",
     "output_type": "stream",
     "text": [
      "Before: (8693, 17) (4277, 16)\n",
      "After: (8693, 13) (4277, 12)\n"
     ]
    }
   ],
   "source": [
    "remove_cols = ['PassengerId', 'Name', 'Cabin', 'Num']\n",
    "PassengerId = test_data['PassengerId']\n",
    "\n",
    "print(\"Before:\", train_data.shape, test_data.shape)\n",
    "train_data = train_data.drop(remove_cols, axis=1)\n",
    "test_data = test_data.drop(remove_cols, axis=1)\n",
    "\n",
    "print(\"After:\", train_data.shape, test_data.shape)"
   ]
  },
  {
   "cell_type": "markdown",
   "id": "dc89f51c",
   "metadata": {
    "papermill": {
     "duration": 0.104099,
     "end_time": "2022-04-05T08:43:57.191256",
     "exception": false,
     "start_time": "2022-04-05T08:43:57.087157",
     "status": "completed"
    },
    "tags": []
   },
   "source": [
    "## 결측치 \n",
    "- 결측치 데이터를 추가하도록 한다. 결측치를 추가하기 위해 SimpleImputer 클래스를 사용하였다. \n",
    "- train_data의 결측치 패턴을 파악한 후, train_data 및 test_data 결과에도 적용한다. \n",
    "    + 주의 : 반드시 이렇게 해야 한다. (Data Leakage 방지)"
   ]
  },
  {
   "cell_type": "code",
   "execution_count": 34,
   "id": "193126b3",
   "metadata": {
    "execution": {
     "iopub.execute_input": "2022-04-05T08:43:57.411201Z",
     "iopub.status.busy": "2022-04-05T08:43:57.410191Z",
     "iopub.status.idle": "2022-04-05T08:43:57.416949Z",
     "shell.execute_reply": "2022-04-05T08:43:57.417523Z",
     "shell.execute_reply.started": "2022-04-05T08:41:13.018881Z"
    },
    "papermill": {
     "duration": 0.121936,
     "end_time": "2022-04-05T08:43:57.417698",
     "exception": false,
     "start_time": "2022-04-05T08:43:57.295762",
     "status": "completed"
    },
    "tags": []
   },
   "outputs": [
    {
     "data": {
      "text/plain": [
       "HomePlanet      201\n",
       "CryoSleep       217\n",
       "Destination     182\n",
       "Age             179\n",
       "VIP             203\n",
       "RoomService     181\n",
       "FoodCourt       183\n",
       "ShoppingMall    208\n",
       "Spa             183\n",
       "VRDeck          188\n",
       "Transported       0\n",
       "Deck            199\n",
       "Side            199\n",
       "dtype: int64"
      ]
     },
     "execution_count": 34,
     "metadata": {},
     "output_type": "execute_result"
    }
   ],
   "source": [
    "train_data.isnull().sum()"
   ]
  },
  {
   "cell_type": "code",
   "execution_count": 35,
   "id": "45077709",
   "metadata": {
    "execution": {
     "iopub.execute_input": "2022-04-05T08:43:57.634490Z",
     "iopub.status.busy": "2022-04-05T08:43:57.633533Z",
     "iopub.status.idle": "2022-04-05T08:43:57.644058Z",
     "shell.execute_reply": "2022-04-05T08:43:57.644584Z",
     "shell.execute_reply.started": "2022-04-05T08:41:13.037216Z"
    },
    "papermill": {
     "duration": 0.120633,
     "end_time": "2022-04-05T08:43:57.644748",
     "exception": false,
     "start_time": "2022-04-05T08:43:57.524115",
     "status": "completed"
    },
    "tags": []
   },
   "outputs": [
    {
     "data": {
      "text/plain": [
       "HomePlanet       87\n",
       "CryoSleep        93\n",
       "Destination      92\n",
       "Age              91\n",
       "VIP              93\n",
       "RoomService      82\n",
       "FoodCourt       106\n",
       "ShoppingMall     98\n",
       "Spa             101\n",
       "VRDeck           80\n",
       "Deck            100\n",
       "Side            100\n",
       "dtype: int64"
      ]
     },
     "execution_count": 35,
     "metadata": {},
     "output_type": "execute_result"
    }
   ],
   "source": [
    "test_data.isnull().sum()"
   ]
  },
  {
   "cell_type": "markdown",
   "id": "aa7ea428",
   "metadata": {
    "papermill": {
     "duration": 0.105201,
     "end_time": "2022-04-05T08:43:57.855409",
     "exception": false,
     "start_time": "2022-04-05T08:43:57.750208",
     "status": "completed"
    },
    "tags": []
   },
   "source": [
    "- 결측치를 처리하기 위해 가장 쉬운 방법은 sklearn.impute 내에서의 SimpleImputer 클래스를 활용하는 것이다. \n",
    "    + https://scikit-learn.org/stable/modules/generated/sklearn.impute.SimpleImputer.html"
   ]
  },
  {
   "cell_type": "code",
   "execution_count": 36,
   "id": "186a9899",
   "metadata": {
    "execution": {
     "iopub.execute_input": "2022-04-05T08:43:58.071024Z",
     "iopub.status.busy": "2022-04-05T08:43:58.069937Z",
     "iopub.status.idle": "2022-04-05T08:43:58.390522Z",
     "shell.execute_reply": "2022-04-05T08:43:58.389842Z",
     "shell.execute_reply.started": "2022-04-05T08:41:13.053433Z"
    },
    "papermill": {
     "duration": 0.42934,
     "end_time": "2022-04-05T08:43:58.390678",
     "exception": false,
     "start_time": "2022-04-05T08:43:57.961338",
     "status": "completed"
    },
    "tags": []
   },
   "outputs": [
    {
     "name": "stdout",
     "output_type": "stream",
     "text": [
      "train_data:\n",
      " HomePlanet      201\n",
      "CryoSleep       217\n",
      "Destination     182\n",
      "Age               0\n",
      "VIP             203\n",
      "RoomService       0\n",
      "FoodCourt         0\n",
      "ShoppingMall      0\n",
      "Spa               0\n",
      "VRDeck            0\n",
      "Transported       0\n",
      "Deck            199\n",
      "Side            199\n",
      "dtype: int64\n",
      "---\n",
      "test_data:\n",
      " HomePlanet       87\n",
      "CryoSleep        93\n",
      "Destination      92\n",
      "Age               0\n",
      "VIP              93\n",
      "RoomService       0\n",
      "FoodCourt         0\n",
      "ShoppingMall      0\n",
      "Spa               0\n",
      "VRDeck            0\n",
      "Deck            100\n",
      "Side            100\n",
      "dtype: int64\n"
     ]
    }
   ],
   "source": [
    "from sklearn.impute import SimpleImputer\n",
    "\n",
    "imputer_cols = [\"Age\", \"FoodCourt\", \"ShoppingMall\", \"Spa\", \"VRDeck\" ,\"RoomService\"]\n",
    "STRATEGY = 'median'\n",
    "\n",
    "imputer = SimpleImputer(strategy=STRATEGY)\n",
    "imputer.fit(train_data[imputer_cols])\n",
    "train_data[imputer_cols] = imputer.transform(train_data[imputer_cols])\n",
    "test_data[imputer_cols] = imputer.transform(test_data[imputer_cols])\n",
    "\n",
    "print(\"train_data:\\n\", train_data.isnull().sum())\n",
    "print(\"---\")\n",
    "print(\"test_data:\\n\", test_data.isnull().sum())"
   ]
  },
  {
   "cell_type": "markdown",
   "id": "0efe4258",
   "metadata": {
    "papermill": {
     "duration": 0.107486,
     "end_time": "2022-04-05T08:43:58.605740",
     "exception": false,
     "start_time": "2022-04-05T08:43:58.498254",
     "status": "completed"
    },
    "tags": []
   },
   "source": [
    "- 이번에는 문자열 데이터를 추가한다. "
   ]
  },
  {
   "cell_type": "code",
   "execution_count": 37,
   "id": "ce10fd24",
   "metadata": {
    "execution": {
     "iopub.execute_input": "2022-04-05T08:43:58.828690Z",
     "iopub.status.busy": "2022-04-05T08:43:58.827986Z",
     "iopub.status.idle": "2022-04-05T08:43:58.865449Z",
     "shell.execute_reply": "2022-04-05T08:43:58.865973Z",
     "shell.execute_reply.started": "2022-04-05T08:41:13.095273Z"
    },
    "papermill": {
     "duration": 0.153707,
     "end_time": "2022-04-05T08:43:58.866169",
     "exception": false,
     "start_time": "2022-04-05T08:43:58.712462",
     "status": "completed"
    },
    "tags": []
   },
   "outputs": [
    {
     "name": "stdout",
     "output_type": "stream",
     "text": [
      "train_data:\n",
      " HomePlanet      0\n",
      "CryoSleep       0\n",
      "Destination     0\n",
      "Age             0\n",
      "VIP             0\n",
      "RoomService     0\n",
      "FoodCourt       0\n",
      "ShoppingMall    0\n",
      "Spa             0\n",
      "VRDeck          0\n",
      "Transported     0\n",
      "Deck            0\n",
      "Side            0\n",
      "dtype: int64\n",
      "---\n",
      "test_data:\n",
      " HomePlanet      0\n",
      "CryoSleep       0\n",
      "Destination     0\n",
      "Age             0\n",
      "VIP             0\n",
      "RoomService     0\n",
      "FoodCourt       0\n",
      "ShoppingMall    0\n",
      "Spa             0\n",
      "VRDeck          0\n",
      "Deck            0\n",
      "Side            0\n",
      "dtype: int64\n"
     ]
    }
   ],
   "source": [
    "imputer_cols = [\"HomePlanet\", \"CryoSleep\", \"Destination\", \"VIP\", \"Deck\", \"Side\"]\n",
    "STRATEGY = 'most_frequent'\n",
    "\n",
    "imputer = SimpleImputer(strategy=STRATEGY)\n",
    "imputer.fit(train_data[imputer_cols])\n",
    "train_data[imputer_cols] = imputer.transform(train_data[imputer_cols])\n",
    "test_data[imputer_cols] = imputer.transform(test_data[imputer_cols])\n",
    "\n",
    "print(\"train_data:\\n\", train_data.isnull().sum())\n",
    "print(\"---\")\n",
    "print(\"test_data:\\n\", test_data.isnull().sum())"
   ]
  },
  {
   "cell_type": "markdown",
   "id": "787cf8fd",
   "metadata": {
    "papermill": {
     "duration": 0.109547,
     "end_time": "2022-04-05T08:43:59.083650",
     "exception": false,
     "start_time": "2022-04-05T08:43:58.974103",
     "status": "completed"
    },
    "tags": []
   },
   "source": [
    "- 결측치가 사라진 것을 확인할 수 있다. "
   ]
  },
  {
   "cell_type": "markdown",
   "id": "e6678443",
   "metadata": {
    "papermill": {
     "duration": 0.106995,
     "end_time": "2022-04-05T08:43:59.299511",
     "exception": false,
     "start_time": "2022-04-05T08:43:59.192516",
     "status": "completed"
    },
    "tags": []
   },
   "source": [
    "## Categorical Feature Encoding\n",
    "- 머신러닝 알고리즘은 수식으로 구성이 되어 있기 때문에 문자열의 경우 인코딩으로 변환을 주어야 한다. \n",
    "- 크게 두가지 방법이 존재한다. \n",
    "    + Ordinal Encoding \n",
    "        - 점수 : 0.78770\n",
    "    + Onehot Encoding\n",
    "        - 점수 : 0.78840\n",
    "    + pd.get_dummies\n",
    "        - 점수 : 0.78840\n",
    "        \n",
    "- 크게 두가지 결론을 얻을 수 있었음\n",
    "    + 첫째, 본 데이터에서는 OneHotEncoding 방식이 Ordinal Encoding 보다 좋았음. \n",
    "    + 둘째, Onehot Encoding 방식과 pd.get_dummies 방식 차이는 없었음"
   ]
  },
  {
   "cell_type": "code",
   "execution_count": 38,
   "id": "7841a9e5",
   "metadata": {
    "execution": {
     "iopub.execute_input": "2022-04-05T08:43:59.520524Z",
     "iopub.status.busy": "2022-04-05T08:43:59.518022Z",
     "iopub.status.idle": "2022-04-05T08:43:59.524401Z",
     "shell.execute_reply": "2022-04-05T08:43:59.523915Z",
     "shell.execute_reply.started": "2022-04-05T08:41:13.139091Z"
    },
    "papermill": {
     "duration": 0.117298,
     "end_time": "2022-04-05T08:43:59.524552",
     "exception": false,
     "start_time": "2022-04-05T08:43:59.407254",
     "status": "completed"
    },
    "tags": []
   },
   "outputs": [
    {
     "data": {
      "text/plain": [
       "'\\nfrom sklearn.preprocessing import OrdinalEncoder\\n\\n# Target 데이터는 1과 0으로 바꿈\\ntrain_data[\\'Transported\\'] = train_data[\\'Transported\\'].map({True: 1, False: 0})\\ncategorical_cols = [\"HomePlanet\", \"CryoSleep\", \"Destination\", \"VIP\"]\\n\\nordinal_encoder = OrdinalEncoder()\\ntrain_data[categorical_cols] = ordinal_encoder.fit_transform(train_data[categorical_cols])\\ntest_data[categorical_cols] = ordinal_encoder.fit_transform(test_data[categorical_cols])\\n\\ntrain_data.info()\\n'"
      ]
     },
     "execution_count": 38,
     "metadata": {},
     "output_type": "execute_result"
    }
   ],
   "source": [
    "'''\n",
    "from sklearn.preprocessing import OrdinalEncoder\n",
    "\n",
    "# Target 데이터는 1과 0으로 바꿈\n",
    "train_data['Transported'] = train_data['Transported'].map({True: 1, False: 0})\n",
    "categorical_cols = [\"HomePlanet\", \"CryoSleep\", \"Destination\", \"VIP\"]\n",
    "\n",
    "ordinal_encoder = OrdinalEncoder()\n",
    "train_data[categorical_cols] = ordinal_encoder.fit_transform(train_data[categorical_cols])\n",
    "test_data[categorical_cols] = ordinal_encoder.fit_transform(test_data[categorical_cols])\n",
    "\n",
    "train_data.info()\n",
    "'''"
   ]
  },
  {
   "cell_type": "markdown",
   "id": "792ac832",
   "metadata": {
    "papermill": {
     "duration": 0.108727,
     "end_time": "2022-04-05T08:43:59.741346",
     "exception": false,
     "start_time": "2022-04-05T08:43:59.632619",
     "status": "completed"
    },
    "tags": []
   },
   "source": [
    "- 이번에는 Onehot Encoding을 적용해본다. 이 때, pd.get_dummies() 방식을 사용한다. "
   ]
  },
  {
   "cell_type": "code",
   "execution_count": 39,
   "id": "e71de430",
   "metadata": {
    "execution": {
     "iopub.execute_input": "2022-04-05T08:43:59.970236Z",
     "iopub.status.busy": "2022-04-05T08:43:59.969576Z",
     "iopub.status.idle": "2022-04-05T08:43:59.973257Z",
     "shell.execute_reply": "2022-04-05T08:43:59.972745Z",
     "shell.execute_reply.started": "2022-04-05T08:41:13.148548Z"
    },
    "papermill": {
     "duration": 0.116706,
     "end_time": "2022-04-05T08:43:59.973401",
     "exception": false,
     "start_time": "2022-04-05T08:43:59.856695",
     "status": "completed"
    },
    "tags": []
   },
   "outputs": [
    {
     "data": {
      "text/plain": [
       "'\\n# Target 데이터는 1과 0으로 바꿈\\ntrain_data[\\'Transported\\'] = train_data[\\'Transported\\'].map({True: 1, False: 0})\\ncategorical_cols = [\"HomePlanet\", \"CryoSleep\", \"Destination\", \"VIP\"]\\n\\ntrain_data = pd.get_dummies(train_data)\\ntest_data = pd.get_dummies(test_data)\\ntrain_data.info()\\n'"
      ]
     },
     "execution_count": 39,
     "metadata": {},
     "output_type": "execute_result"
    }
   ],
   "source": [
    "\n",
    "'''\n",
    "# Target 데이터는 1과 0으로 바꿈\n",
    "train_data['Transported'] = train_data['Transported'].map({True: 1, False: 0})\n",
    "categorical_cols = [\"HomePlanet\", \"CryoSleep\", \"Destination\", \"VIP\"]\n",
    "\n",
    "train_data = pd.get_dummies(train_data)\n",
    "test_data = pd.get_dummies(test_data)\n",
    "train_data.info()\n",
    "'''"
   ]
  },
  {
   "cell_type": "markdown",
   "id": "0d4ef9db",
   "metadata": {
    "papermill": {
     "duration": 0.107708,
     "end_time": "2022-04-05T08:44:00.189723",
     "exception": false,
     "start_time": "2022-04-05T08:44:00.082015",
     "status": "completed"
    },
    "tags": []
   },
   "source": [
    "- 이번에는 OneHoeEncoder 메서드를 사용해본다. "
   ]
  },
  {
   "cell_type": "code",
   "execution_count": 40,
   "id": "d0d60f92",
   "metadata": {
    "execution": {
     "iopub.execute_input": "2022-04-05T08:44:00.415455Z",
     "iopub.status.busy": "2022-04-05T08:44:00.414704Z",
     "iopub.status.idle": "2022-04-05T08:44:00.481188Z",
     "shell.execute_reply": "2022-04-05T08:44:00.479952Z",
     "shell.execute_reply.started": "2022-04-05T08:41:13.160827Z"
    },
    "papermill": {
     "duration": 0.182849,
     "end_time": "2022-04-05T08:44:00.481341",
     "exception": false,
     "start_time": "2022-04-05T08:44:00.298492",
     "status": "completed"
    },
    "tags": []
   },
   "outputs": [],
   "source": [
    "from sklearn.preprocessing import OneHotEncoder\n",
    "from sklearn.compose import make_column_transformer\n",
    "\n",
    "# Target 데이터는 1과 0으로 바꿈\n",
    "train_data['Transported'] = train_data['Transported'].map({True: 1, False: 0})\n",
    "categorical_cols = [\"HomePlanet\", \"CryoSleep\", \"Destination\", \"VIP\", \"Deck\", \"Side\"]\n",
    "\n",
    "transformer = make_column_transformer(\n",
    "    (OneHotEncoder(), categorical_cols),\n",
    "    remainder='passthrough')\n",
    "\n",
    "train_transformed = transformer.fit_transform(train_data[categorical_cols])\n",
    "train_transformed_df = pd.DataFrame(train_transformed, columns=transformer.get_feature_names_out())\n",
    "train_data = pd.concat([train_data, train_transformed_df], axis = 1)\n",
    "train_data = train_data.drop(categorical_cols, axis = 1)\n",
    "\n",
    "test_transformed = transformer.fit_transform(test_data[categorical_cols])\n",
    "test_transformed_df = pd.DataFrame(test_transformed, columns=transformer.get_feature_names_out())\n",
    "test_data = pd.concat([test_data, test_transformed_df], axis = 1)\n",
    "test_data = test_data.drop(categorical_cols, axis = 1)"
   ]
  },
  {
   "cell_type": "code",
   "execution_count": 41,
   "id": "56e8841f",
   "metadata": {
    "execution": {
     "iopub.execute_input": "2022-04-05T08:44:00.713921Z",
     "iopub.status.busy": "2022-04-05T08:44:00.713214Z",
     "iopub.status.idle": "2022-04-05T08:44:00.716336Z",
     "shell.execute_reply": "2022-04-05T08:44:00.716942Z",
     "shell.execute_reply.started": "2022-04-05T08:41:13.228681Z"
    },
    "papermill": {
     "duration": 0.125918,
     "end_time": "2022-04-05T08:44:00.717115",
     "exception": false,
     "start_time": "2022-04-05T08:44:00.591197",
     "status": "completed"
    },
    "tags": []
   },
   "outputs": [
    {
     "name": "stdout",
     "output_type": "stream",
     "text": [
      "<class 'pandas.core.frame.DataFrame'>\n",
      "RangeIndex: 8693 entries, 0 to 8692\n",
      "Data columns (total 27 columns):\n",
      " #   Column                                    Non-Null Count  Dtype  \n",
      "---  ------                                    --------------  -----  \n",
      " 0   Age                                       8693 non-null   float64\n",
      " 1   RoomService                               8693 non-null   float64\n",
      " 2   FoodCourt                                 8693 non-null   float64\n",
      " 3   ShoppingMall                              8693 non-null   float64\n",
      " 4   Spa                                       8693 non-null   float64\n",
      " 5   VRDeck                                    8693 non-null   float64\n",
      " 6   Transported                               8693 non-null   int64  \n",
      " 7   onehotencoder__HomePlanet_Earth           8693 non-null   float64\n",
      " 8   onehotencoder__HomePlanet_Europa          8693 non-null   float64\n",
      " 9   onehotencoder__HomePlanet_Mars            8693 non-null   float64\n",
      " 10  onehotencoder__CryoSleep_False            8693 non-null   float64\n",
      " 11  onehotencoder__CryoSleep_True             8693 non-null   float64\n",
      " 12  onehotencoder__Destination_55 Cancri e    8693 non-null   float64\n",
      " 13  onehotencoder__Destination_PSO J318.5-22  8693 non-null   float64\n",
      " 14  onehotencoder__Destination_TRAPPIST-1e    8693 non-null   float64\n",
      " 15  onehotencoder__VIP_False                  8693 non-null   float64\n",
      " 16  onehotencoder__VIP_True                   8693 non-null   float64\n",
      " 17  onehotencoder__Deck_A                     8693 non-null   float64\n",
      " 18  onehotencoder__Deck_B                     8693 non-null   float64\n",
      " 19  onehotencoder__Deck_C                     8693 non-null   float64\n",
      " 20  onehotencoder__Deck_D                     8693 non-null   float64\n",
      " 21  onehotencoder__Deck_E                     8693 non-null   float64\n",
      " 22  onehotencoder__Deck_F                     8693 non-null   float64\n",
      " 23  onehotencoder__Deck_G                     8693 non-null   float64\n",
      " 24  onehotencoder__Deck_T                     8693 non-null   float64\n",
      " 25  onehotencoder__Side_P                     8693 non-null   float64\n",
      " 26  onehotencoder__Side_S                     8693 non-null   float64\n",
      "dtypes: float64(26), int64(1)\n",
      "memory usage: 1.8 MB\n"
     ]
    }
   ],
   "source": [
    "train_data.info()"
   ]
  },
  {
   "cell_type": "code",
   "execution_count": 42,
   "id": "ec0f6676",
   "metadata": {
    "execution": {
     "iopub.execute_input": "2022-04-05T08:44:00.954743Z",
     "iopub.status.busy": "2022-04-05T08:44:00.954054Z",
     "iopub.status.idle": "2022-04-05T08:44:00.957962Z",
     "shell.execute_reply": "2022-04-05T08:44:00.957307Z",
     "shell.execute_reply.started": "2022-04-05T08:41:13.245951Z"
    },
    "papermill": {
     "duration": 0.128291,
     "end_time": "2022-04-05T08:44:00.958108",
     "exception": false,
     "start_time": "2022-04-05T08:44:00.829817",
     "status": "completed"
    },
    "tags": []
   },
   "outputs": [
    {
     "name": "stdout",
     "output_type": "stream",
     "text": [
      "<class 'pandas.core.frame.DataFrame'>\n",
      "RangeIndex: 4277 entries, 0 to 4276\n",
      "Data columns (total 26 columns):\n",
      " #   Column                                    Non-Null Count  Dtype  \n",
      "---  ------                                    --------------  -----  \n",
      " 0   Age                                       4277 non-null   float64\n",
      " 1   RoomService                               4277 non-null   float64\n",
      " 2   FoodCourt                                 4277 non-null   float64\n",
      " 3   ShoppingMall                              4277 non-null   float64\n",
      " 4   Spa                                       4277 non-null   float64\n",
      " 5   VRDeck                                    4277 non-null   float64\n",
      " 6   onehotencoder__HomePlanet_Earth           4277 non-null   float64\n",
      " 7   onehotencoder__HomePlanet_Europa          4277 non-null   float64\n",
      " 8   onehotencoder__HomePlanet_Mars            4277 non-null   float64\n",
      " 9   onehotencoder__CryoSleep_False            4277 non-null   float64\n",
      " 10  onehotencoder__CryoSleep_True             4277 non-null   float64\n",
      " 11  onehotencoder__Destination_55 Cancri e    4277 non-null   float64\n",
      " 12  onehotencoder__Destination_PSO J318.5-22  4277 non-null   float64\n",
      " 13  onehotencoder__Destination_TRAPPIST-1e    4277 non-null   float64\n",
      " 14  onehotencoder__VIP_False                  4277 non-null   float64\n",
      " 15  onehotencoder__VIP_True                   4277 non-null   float64\n",
      " 16  onehotencoder__Deck_A                     4277 non-null   float64\n",
      " 17  onehotencoder__Deck_B                     4277 non-null   float64\n",
      " 18  onehotencoder__Deck_C                     4277 non-null   float64\n",
      " 19  onehotencoder__Deck_D                     4277 non-null   float64\n",
      " 20  onehotencoder__Deck_E                     4277 non-null   float64\n",
      " 21  onehotencoder__Deck_F                     4277 non-null   float64\n",
      " 22  onehotencoder__Deck_G                     4277 non-null   float64\n",
      " 23  onehotencoder__Deck_T                     4277 non-null   float64\n",
      " 24  onehotencoder__Side_P                     4277 non-null   float64\n",
      " 25  onehotencoder__Side_S                     4277 non-null   float64\n",
      "dtypes: float64(26)\n",
      "memory usage: 868.9 KB\n"
     ]
    }
   ],
   "source": [
    "test_data.info()"
   ]
  },
  {
   "cell_type": "markdown",
   "id": "43f8786f",
   "metadata": {
    "papermill": {
     "duration": 0.110481,
     "end_time": "2022-04-05T08:44:01.179233",
     "exception": false,
     "start_time": "2022-04-05T08:44:01.068752",
     "status": "completed"
    },
    "tags": []
   },
   "source": [
    "# Step 4. 머신러닝 모형 개발\n",
    "- 모형에 대한 설명 필요\n",
    "- 모형을 1-2개 사용\n",
    "- 교차 검증\n",
    "- 하이퍼파라미터 튜닝"
   ]
  },
  {
   "cell_type": "markdown",
   "id": "8296356f",
   "metadata": {
    "papermill": {
     "duration": 0.114012,
     "end_time": "2022-04-05T08:44:01.403025",
     "exception": false,
     "start_time": "2022-04-05T08:44:01.289013",
     "status": "completed"
    },
    "tags": []
   },
   "source": [
    "- 독립변수와 종속변수를 구분해야 한다. "
   ]
  },
  {
   "cell_type": "code",
   "execution_count": 43,
   "id": "21606caa",
   "metadata": {
    "execution": {
     "iopub.execute_input": "2022-04-05T08:44:01.628349Z",
     "iopub.status.busy": "2022-04-05T08:44:01.627671Z",
     "iopub.status.idle": "2022-04-05T08:44:01.630114Z",
     "shell.execute_reply": "2022-04-05T08:44:01.629586Z",
     "shell.execute_reply.started": "2022-04-05T08:41:13.260751Z"
    },
    "papermill": {
     "duration": 0.118313,
     "end_time": "2022-04-05T08:44:01.630252",
     "exception": false,
     "start_time": "2022-04-05T08:44:01.511939",
     "status": "completed"
    },
    "tags": []
   },
   "outputs": [],
   "source": [
    "X_cols = test_data.columns\n",
    "X = train_data[X_cols].to_numpy()\n",
    "y = train_data['Transported'].to_numpy()"
   ]
  },
  {
   "cell_type": "markdown",
   "id": "e87a6aec",
   "metadata": {
    "papermill": {
     "duration": 0.108633,
     "end_time": "2022-04-05T08:44:01.848319",
     "exception": false,
     "start_time": "2022-04-05T08:44:01.739686",
     "status": "completed"
    },
    "tags": []
   },
   "source": [
    "- 이번에는 훈련데이터를 검증데이터를 분리한다. \n",
    "- 이때 교차검증은 3회만 실시한다. "
   ]
  },
  {
   "cell_type": "code",
   "execution_count": 44,
   "id": "98dda96c",
   "metadata": {
    "execution": {
     "iopub.execute_input": "2022-04-05T08:44:02.073871Z",
     "iopub.status.busy": "2022-04-05T08:44:02.073212Z",
     "iopub.status.idle": "2022-04-05T08:44:02.080165Z",
     "shell.execute_reply": "2022-04-05T08:44:02.079507Z",
     "shell.execute_reply.started": "2022-04-05T08:41:13.270363Z"
    },
    "papermill": {
     "duration": 0.122272,
     "end_time": "2022-04-05T08:44:02.080313",
     "exception": false,
     "start_time": "2022-04-05T08:44:01.958041",
     "status": "completed"
    },
    "tags": []
   },
   "outputs": [
    {
     "data": {
      "text/plain": [
       "((6085, 26), (2608, 26), (6085,), (2608,))"
      ]
     },
     "execution_count": 44,
     "metadata": {},
     "output_type": "execute_result"
    }
   ],
   "source": [
    "from sklearn.model_selection import train_test_split\n",
    "X_train, X_val, y_train, y_val = train_test_split(X, y, test_size=0.3, random_state=42)\n",
    "X_train.shape, X_val.shape, y_train.shape, y_val.shape"
   ]
  },
  {
   "cell_type": "markdown",
   "id": "5717e9fd",
   "metadata": {
    "papermill": {
     "duration": 0.109353,
     "end_time": "2022-04-05T08:44:02.299632",
     "exception": false,
     "start_time": "2022-04-05T08:44:02.190279",
     "status": "completed"
    },
    "tags": []
   },
   "source": [
    "- XGBoost 클래스를 부른 후 모형을 학습한다"
   ]
  },
  {
   "cell_type": "code",
   "execution_count": 45,
   "id": "add19eb9",
   "metadata": {
    "execution": {
     "iopub.execute_input": "2022-04-05T08:44:02.524232Z",
     "iopub.status.busy": "2022-04-05T08:44:02.523493Z",
     "iopub.status.idle": "2022-04-05T08:44:02.526227Z",
     "shell.execute_reply": "2022-04-05T08:44:02.526705Z",
     "shell.execute_reply.started": "2022-04-05T08:41:13.285717Z"
    },
    "papermill": {
     "duration": 0.117182,
     "end_time": "2022-04-05T08:44:02.526869",
     "exception": false,
     "start_time": "2022-04-05T08:44:02.409687",
     "status": "completed"
    },
    "tags": []
   },
   "outputs": [
    {
     "data": {
      "text/plain": [
       "'\\nfrom xgboost import XGBClassifier\\n\\nxgb = XGBClassifier(random_state = 42)\\nxgb\\n'"
      ]
     },
     "execution_count": 45,
     "metadata": {},
     "output_type": "execute_result"
    }
   ],
   "source": [
    "\"\"\"\n",
    "from xgboost import XGBClassifier\n",
    "\n",
    "xgb = XGBClassifier(random_state = 42)\n",
    "xgb\n",
    "\"\"\""
   ]
  },
  {
   "cell_type": "markdown",
   "id": "c0eb0ebc",
   "metadata": {
    "papermill": {
     "duration": 0.109476,
     "end_time": "2022-04-05T08:44:02.746086",
     "exception": false,
     "start_time": "2022-04-05T08:44:02.636610",
     "status": "completed"
    },
    "tags": []
   },
   "source": [
    "- 이번에는 LightGBM 클래스를 부른 후 모형을 학습한다. "
   ]
  },
  {
   "cell_type": "code",
   "execution_count": 46,
   "id": "e1ae0612",
   "metadata": {
    "execution": {
     "iopub.execute_input": "2022-04-05T08:44:02.971727Z",
     "iopub.status.busy": "2022-04-05T08:44:02.971105Z",
     "iopub.status.idle": "2022-04-05T08:44:02.975581Z",
     "shell.execute_reply": "2022-04-05T08:44:02.976066Z",
     "shell.execute_reply.started": "2022-04-05T08:41:13.295683Z"
    },
    "papermill": {
     "duration": 0.118749,
     "end_time": "2022-04-05T08:44:02.976245",
     "exception": false,
     "start_time": "2022-04-05T08:44:02.857496",
     "status": "completed"
    },
    "tags": []
   },
   "outputs": [
    {
     "data": {
      "text/plain": [
       "'\\nfrom lightgbm import LGBMClassifier\\n\\nlgb = LGBMClassifier(random_state=42)\\nlgb\\n'"
      ]
     },
     "execution_count": 46,
     "metadata": {},
     "output_type": "execute_result"
    }
   ],
   "source": [
    "\"\"\"\n",
    "from lightgbm import LGBMClassifier\n",
    "\n",
    "lgb = LGBMClassifier(random_state=42)\n",
    "lgb\n",
    "\"\"\""
   ]
  },
  {
   "cell_type": "markdown",
   "id": "637d9377",
   "metadata": {
    "papermill": {
     "duration": 0.110602,
     "end_time": "2022-04-05T08:44:03.197168",
     "exception": false,
     "start_time": "2022-04-05T08:44:03.086566",
     "status": "completed"
    },
    "tags": []
   },
   "source": [
    "# Model Selection \n",
    "- Ref. https://www.kaggle.com/code/samuelcortinhas/spaceship-titanic-a-complete-guide\n",
    "- 그리드 서치를 적용함. \n",
    "- 4차시도 : 0.79097 (미 적용 시 : 0.78840)\n",
    "    + 큰 차이는 일어나지 않음\n",
    "    + 그러나 코드는 많이 작성...;;;"
   ]
  },
  {
   "cell_type": "markdown",
   "id": "d7538e91",
   "metadata": {
    "papermill": {
     "duration": 0.109248,
     "end_time": "2022-04-05T08:44:03.415928",
     "exception": false,
     "start_time": "2022-04-05T08:44:03.306680",
     "status": "completed"
    },
    "tags": []
   },
   "source": [
    "## 모형 옵션 선택\n",
    "- 아래와 같은 모형을 정의한다. "
   ]
  },
  {
   "cell_type": "code",
   "execution_count": 47,
   "id": "a78ae9cc",
   "metadata": {
    "execution": {
     "iopub.execute_input": "2022-04-05T08:44:03.644467Z",
     "iopub.status.busy": "2022-04-05T08:44:03.643738Z",
     "iopub.status.idle": "2022-04-05T08:44:04.857464Z",
     "shell.execute_reply": "2022-04-05T08:44:04.856857Z",
     "shell.execute_reply.started": "2022-04-05T08:41:13.306521Z"
    },
    "papermill": {
     "duration": 1.331713,
     "end_time": "2022-04-05T08:44:04.857616",
     "exception": false,
     "start_time": "2022-04-05T08:44:03.525903",
     "status": "completed"
    },
    "tags": []
   },
   "outputs": [
    {
     "data": {
      "text/html": [
       "<style type='text/css'>\n",
       ".datatable table.frame { margin-bottom: 0; }\n",
       ".datatable table.frame thead { border-bottom: none; }\n",
       ".datatable table.frame tr.coltypes td {  color: #FFFFFF;  line-height: 6px;  padding: 0 0.5em;}\n",
       ".datatable .bool    { background: #DDDD99; }\n",
       ".datatable .object  { background: #565656; }\n",
       ".datatable .int     { background: #5D9E5D; }\n",
       ".datatable .float   { background: #4040CC; }\n",
       ".datatable .str     { background: #CC4040; }\n",
       ".datatable .time    { background: #40CC40; }\n",
       ".datatable .row_index {  background: var(--jp-border-color3);  border-right: 1px solid var(--jp-border-color0);  color: var(--jp-ui-font-color3);  font-size: 9px;}\n",
       ".datatable .frame tbody td { text-align: left; }\n",
       ".datatable .frame tr.coltypes .row_index {  background: var(--jp-border-color0);}\n",
       ".datatable th:nth-child(2) { padding-left: 12px; }\n",
       ".datatable .hellipsis {  color: var(--jp-cell-editor-border-color);}\n",
       ".datatable .vellipsis {  background: var(--jp-layout-color0);  color: var(--jp-cell-editor-border-color);}\n",
       ".datatable .na {  color: var(--jp-cell-editor-border-color);  font-size: 80%;}\n",
       ".datatable .sp {  opacity: 0.25;}\n",
       ".datatable .footer { font-size: 9px; }\n",
       ".datatable .frame_dimensions {  background: var(--jp-border-color3);  border-top: 1px solid var(--jp-border-color0);  color: var(--jp-ui-font-color3);  display: inline-block;  opacity: 0.6;  padding: 1px 10px 1px 5px;}\n",
       "</style>\n"
      ],
      "text/plain": [
       "<IPython.core.display.HTML object>"
      ]
     },
     "metadata": {},
     "output_type": "display_data"
    }
   ],
   "source": [
    "# Models\n",
    "from sklearn.linear_model import LogisticRegression\n",
    "from sklearn.neighbors import KNeighborsClassifier\n",
    "from sklearn.svm import SVC\n",
    "from sklearn.tree import DecisionTreeClassifier\n",
    "from sklearn.ensemble import RandomForestClassifier\n",
    "from xgboost import XGBClassifier\n",
    "from lightgbm import LGBMClassifier\n",
    "from catboost import CatBoostClassifier\n",
    "from sklearn.naive_bayes import GaussianNB\n",
    "\n",
    "# Classifiers\n",
    "classifiers = {\n",
    "    \"LogisticRegression\" : LogisticRegression(random_state=0),\n",
    "    \"KNN\" : KNeighborsClassifier(),\n",
    "    \"RandomForest\" : RandomForestClassifier(random_state=0),\n",
    "    \"LGBM\" : LGBMClassifier(random_state=0)\n",
    "}"
   ]
  },
  {
   "cell_type": "markdown",
   "id": "4c3d4f48",
   "metadata": {
    "papermill": {
     "duration": 0.113335,
     "end_time": "2022-04-05T08:44:05.081489",
     "exception": false,
     "start_time": "2022-04-05T08:44:04.968154",
     "status": "completed"
    },
    "tags": []
   },
   "source": [
    "- 그리드 서치를 위한 옵션을 선택한다. "
   ]
  },
  {
   "cell_type": "code",
   "execution_count": 48,
   "id": "af505998",
   "metadata": {
    "execution": {
     "iopub.execute_input": "2022-04-05T08:44:05.307242Z",
     "iopub.status.busy": "2022-04-05T08:44:05.306265Z",
     "iopub.status.idle": "2022-04-05T08:44:05.315024Z",
     "shell.execute_reply": "2022-04-05T08:44:05.315485Z",
     "shell.execute_reply.started": "2022-04-05T08:41:13.318654Z"
    },
    "papermill": {
     "duration": 0.12338,
     "end_time": "2022-04-05T08:44:05.315675",
     "exception": false,
     "start_time": "2022-04-05T08:44:05.192295",
     "status": "completed"
    },
    "tags": []
   },
   "outputs": [],
   "source": [
    "# Grids for grid search\n",
    "LR_grid = {'penalty': ['l1','l2'],\n",
    "           'C': [0.25, 0.5, 0.75, 1, 1.25, 1.5],\n",
    "           'max_iter': [50, 100, 150]}\n",
    "\n",
    "KNN_grid = {'n_neighbors': [3, 5, 7, 9],\n",
    "            'p': [1, 2]}\n",
    "\n",
    "RF_grid = {'n_estimators': [50, 100, 150, 200, 250, 300],\n",
    "        'max_depth': [4, 6, 8, 10, 12]}\n",
    "\n",
    "\n",
    "boosted_grid = {'n_estimators': [50, 100, 150, 200],\n",
    "        'max_depth': [4, 8, 12],\n",
    "        'learning_rate': [0.05, 0.1, 0.15]}\n",
    "\n",
    "# Dictionary of all grids\n",
    "grid = {\n",
    "    \"LogisticRegression\" : LR_grid,\n",
    "    \"KNN\" : KNN_grid,\n",
    "    \"RandomForest\" : RF_grid,\n",
    "    \"LGBM\" : boosted_grid\n",
    "}"
   ]
  },
  {
   "cell_type": "markdown",
   "id": "84b14160",
   "metadata": {
    "papermill": {
     "duration": 0.125176,
     "end_time": "2022-04-05T08:44:05.551344",
     "exception": false,
     "start_time": "2022-04-05T08:44:05.426168",
     "status": "completed"
    },
    "tags": []
   },
   "source": [
    "- 불러온 모형과 그리드 서치를 각각 개별적으로 정의하는 코드를 작성한다. \n",
    "- 해당 결과는 모두 데이터프레임에 담도록 한다. "
   ]
  },
  {
   "cell_type": "code",
   "execution_count": 49,
   "id": "44f0219f",
   "metadata": {
    "execution": {
     "iopub.execute_input": "2022-04-05T08:44:05.810912Z",
     "iopub.status.busy": "2022-04-05T08:44:05.809848Z",
     "iopub.status.idle": "2022-04-05T08:45:13.522631Z",
     "shell.execute_reply": "2022-04-05T08:45:13.523715Z",
     "shell.execute_reply.started": "2022-04-05T08:41:13.332493Z"
    },
    "papermill": {
     "duration": 67.85304,
     "end_time": "2022-04-05T08:45:13.524082",
     "exception": false,
     "start_time": "2022-04-05T08:44:05.671042",
     "status": "completed"
    },
    "tags": []
   },
   "outputs": [
    {
     "name": "stderr",
     "output_type": "stream",
     "text": [
      "/opt/conda/lib/python3.7/site-packages/sklearn/linear_model/_logistic.py:818: ConvergenceWarning: lbfgs failed to converge (status=1):\n",
      "STOP: TOTAL NO. of ITERATIONS REACHED LIMIT.\n",
      "\n",
      "Increase the number of iterations (max_iter) or scale the data as shown in:\n",
      "    https://scikit-learn.org/stable/modules/preprocessing.html\n",
      "Please also refer to the documentation for alternative solver options:\n",
      "    https://scikit-learn.org/stable/modules/linear_model.html#logistic-regression\n",
      "  extra_warning_msg=_LOGISTIC_SOLVER_CONVERGENCE_MSG,\n",
      "/opt/conda/lib/python3.7/site-packages/sklearn/linear_model/_logistic.py:818: ConvergenceWarning: lbfgs failed to converge (status=1):\n",
      "STOP: TOTAL NO. of ITERATIONS REACHED LIMIT.\n",
      "\n",
      "Increase the number of iterations (max_iter) or scale the data as shown in:\n",
      "    https://scikit-learn.org/stable/modules/preprocessing.html\n",
      "Please also refer to the documentation for alternative solver options:\n",
      "    https://scikit-learn.org/stable/modules/linear_model.html#logistic-regression\n",
      "  extra_warning_msg=_LOGISTIC_SOLVER_CONVERGENCE_MSG,\n",
      "/opt/conda/lib/python3.7/site-packages/sklearn/linear_model/_logistic.py:818: ConvergenceWarning: lbfgs failed to converge (status=1):\n",
      "STOP: TOTAL NO. of ITERATIONS REACHED LIMIT.\n",
      "\n",
      "Increase the number of iterations (max_iter) or scale the data as shown in:\n",
      "    https://scikit-learn.org/stable/modules/preprocessing.html\n",
      "Please also refer to the documentation for alternative solver options:\n",
      "    https://scikit-learn.org/stable/modules/linear_model.html#logistic-regression\n",
      "  extra_warning_msg=_LOGISTIC_SOLVER_CONVERGENCE_MSG,\n",
      "/opt/conda/lib/python3.7/site-packages/sklearn/linear_model/_logistic.py:818: ConvergenceWarning: lbfgs failed to converge (status=1):\n",
      "STOP: TOTAL NO. of ITERATIONS REACHED LIMIT.\n",
      "\n",
      "Increase the number of iterations (max_iter) or scale the data as shown in:\n",
      "    https://scikit-learn.org/stable/modules/preprocessing.html\n",
      "Please also refer to the documentation for alternative solver options:\n",
      "    https://scikit-learn.org/stable/modules/linear_model.html#logistic-regression\n",
      "  extra_warning_msg=_LOGISTIC_SOLVER_CONVERGENCE_MSG,\n",
      "/opt/conda/lib/python3.7/site-packages/sklearn/linear_model/_logistic.py:818: ConvergenceWarning: lbfgs failed to converge (status=1):\n",
      "STOP: TOTAL NO. of ITERATIONS REACHED LIMIT.\n",
      "\n",
      "Increase the number of iterations (max_iter) or scale the data as shown in:\n",
      "    https://scikit-learn.org/stable/modules/preprocessing.html\n",
      "Please also refer to the documentation for alternative solver options:\n",
      "    https://scikit-learn.org/stable/modules/linear_model.html#logistic-regression\n",
      "  extra_warning_msg=_LOGISTIC_SOLVER_CONVERGENCE_MSG,\n",
      "/opt/conda/lib/python3.7/site-packages/sklearn/linear_model/_logistic.py:818: ConvergenceWarning: lbfgs failed to converge (status=1):\n",
      "STOP: TOTAL NO. of ITERATIONS REACHED LIMIT.\n",
      "\n",
      "Increase the number of iterations (max_iter) or scale the data as shown in:\n",
      "    https://scikit-learn.org/stable/modules/preprocessing.html\n",
      "Please also refer to the documentation for alternative solver options:\n",
      "    https://scikit-learn.org/stable/modules/linear_model.html#logistic-regression\n",
      "  extra_warning_msg=_LOGISTIC_SOLVER_CONVERGENCE_MSG,\n",
      "/opt/conda/lib/python3.7/site-packages/sklearn/linear_model/_logistic.py:818: ConvergenceWarning: lbfgs failed to converge (status=1):\n",
      "STOP: TOTAL NO. of ITERATIONS REACHED LIMIT.\n",
      "\n",
      "Increase the number of iterations (max_iter) or scale the data as shown in:\n",
      "    https://scikit-learn.org/stable/modules/preprocessing.html\n",
      "Please also refer to the documentation for alternative solver options:\n",
      "    https://scikit-learn.org/stable/modules/linear_model.html#logistic-regression\n",
      "  extra_warning_msg=_LOGISTIC_SOLVER_CONVERGENCE_MSG,\n",
      "/opt/conda/lib/python3.7/site-packages/sklearn/linear_model/_logistic.py:818: ConvergenceWarning: lbfgs failed to converge (status=1):\n",
      "STOP: TOTAL NO. of ITERATIONS REACHED LIMIT.\n",
      "\n",
      "Increase the number of iterations (max_iter) or scale the data as shown in:\n",
      "    https://scikit-learn.org/stable/modules/preprocessing.html\n",
      "Please also refer to the documentation for alternative solver options:\n",
      "    https://scikit-learn.org/stable/modules/linear_model.html#logistic-regression\n",
      "  extra_warning_msg=_LOGISTIC_SOLVER_CONVERGENCE_MSG,\n",
      "/opt/conda/lib/python3.7/site-packages/sklearn/linear_model/_logistic.py:818: ConvergenceWarning: lbfgs failed to converge (status=1):\n",
      "STOP: TOTAL NO. of ITERATIONS REACHED LIMIT.\n",
      "\n",
      "Increase the number of iterations (max_iter) or scale the data as shown in:\n",
      "    https://scikit-learn.org/stable/modules/preprocessing.html\n",
      "Please also refer to the documentation for alternative solver options:\n",
      "    https://scikit-learn.org/stable/modules/linear_model.html#logistic-regression\n",
      "  extra_warning_msg=_LOGISTIC_SOLVER_CONVERGENCE_MSG,\n",
      "/opt/conda/lib/python3.7/site-packages/sklearn/linear_model/_logistic.py:818: ConvergenceWarning: lbfgs failed to converge (status=1):\n",
      "STOP: TOTAL NO. of ITERATIONS REACHED LIMIT.\n",
      "\n",
      "Increase the number of iterations (max_iter) or scale the data as shown in:\n",
      "    https://scikit-learn.org/stable/modules/preprocessing.html\n",
      "Please also refer to the documentation for alternative solver options:\n",
      "    https://scikit-learn.org/stable/modules/linear_model.html#logistic-regression\n",
      "  extra_warning_msg=_LOGISTIC_SOLVER_CONVERGENCE_MSG,\n",
      "/opt/conda/lib/python3.7/site-packages/sklearn/linear_model/_logistic.py:818: ConvergenceWarning: lbfgs failed to converge (status=1):\n",
      "STOP: TOTAL NO. of ITERATIONS REACHED LIMIT.\n",
      "\n",
      "Increase the number of iterations (max_iter) or scale the data as shown in:\n",
      "    https://scikit-learn.org/stable/modules/preprocessing.html\n",
      "Please also refer to the documentation for alternative solver options:\n",
      "    https://scikit-learn.org/stable/modules/linear_model.html#logistic-regression\n",
      "  extra_warning_msg=_LOGISTIC_SOLVER_CONVERGENCE_MSG,\n",
      "/opt/conda/lib/python3.7/site-packages/sklearn/linear_model/_logistic.py:818: ConvergenceWarning: lbfgs failed to converge (status=1):\n",
      "STOP: TOTAL NO. of ITERATIONS REACHED LIMIT.\n",
      "\n",
      "Increase the number of iterations (max_iter) or scale the data as shown in:\n",
      "    https://scikit-learn.org/stable/modules/preprocessing.html\n",
      "Please also refer to the documentation for alternative solver options:\n",
      "    https://scikit-learn.org/stable/modules/linear_model.html#logistic-regression\n",
      "  extra_warning_msg=_LOGISTIC_SOLVER_CONVERGENCE_MSG,\n",
      "/opt/conda/lib/python3.7/site-packages/sklearn/linear_model/_logistic.py:818: ConvergenceWarning: lbfgs failed to converge (status=1):\n",
      "STOP: TOTAL NO. of ITERATIONS REACHED LIMIT.\n",
      "\n",
      "Increase the number of iterations (max_iter) or scale the data as shown in:\n",
      "    https://scikit-learn.org/stable/modules/preprocessing.html\n",
      "Please also refer to the documentation for alternative solver options:\n",
      "    https://scikit-learn.org/stable/modules/linear_model.html#logistic-regression\n",
      "  extra_warning_msg=_LOGISTIC_SOLVER_CONVERGENCE_MSG,\n",
      "/opt/conda/lib/python3.7/site-packages/sklearn/linear_model/_logistic.py:818: ConvergenceWarning: lbfgs failed to converge (status=1):\n",
      "STOP: TOTAL NO. of ITERATIONS REACHED LIMIT.\n",
      "\n",
      "Increase the number of iterations (max_iter) or scale the data as shown in:\n",
      "    https://scikit-learn.org/stable/modules/preprocessing.html\n",
      "Please also refer to the documentation for alternative solver options:\n",
      "    https://scikit-learn.org/stable/modules/linear_model.html#logistic-regression\n",
      "  extra_warning_msg=_LOGISTIC_SOLVER_CONVERGENCE_MSG,\n",
      "/opt/conda/lib/python3.7/site-packages/sklearn/linear_model/_logistic.py:818: ConvergenceWarning: lbfgs failed to converge (status=1):\n",
      "STOP: TOTAL NO. of ITERATIONS REACHED LIMIT.\n",
      "\n",
      "Increase the number of iterations (max_iter) or scale the data as shown in:\n",
      "    https://scikit-learn.org/stable/modules/preprocessing.html\n",
      "Please also refer to the documentation for alternative solver options:\n",
      "    https://scikit-learn.org/stable/modules/linear_model.html#logistic-regression\n",
      "  extra_warning_msg=_LOGISTIC_SOLVER_CONVERGENCE_MSG,\n",
      "/opt/conda/lib/python3.7/site-packages/sklearn/linear_model/_logistic.py:818: ConvergenceWarning: lbfgs failed to converge (status=1):\n",
      "STOP: TOTAL NO. of ITERATIONS REACHED LIMIT.\n",
      "\n",
      "Increase the number of iterations (max_iter) or scale the data as shown in:\n",
      "    https://scikit-learn.org/stable/modules/preprocessing.html\n",
      "Please also refer to the documentation for alternative solver options:\n",
      "    https://scikit-learn.org/stable/modules/linear_model.html#logistic-regression\n",
      "  extra_warning_msg=_LOGISTIC_SOLVER_CONVERGENCE_MSG,\n",
      "/opt/conda/lib/python3.7/site-packages/sklearn/linear_model/_logistic.py:818: ConvergenceWarning: lbfgs failed to converge (status=1):\n",
      "STOP: TOTAL NO. of ITERATIONS REACHED LIMIT.\n",
      "\n",
      "Increase the number of iterations (max_iter) or scale the data as shown in:\n",
      "    https://scikit-learn.org/stable/modules/preprocessing.html\n",
      "Please also refer to the documentation for alternative solver options:\n",
      "    https://scikit-learn.org/stable/modules/linear_model.html#logistic-regression\n",
      "  extra_warning_msg=_LOGISTIC_SOLVER_CONVERGENCE_MSG,\n",
      "/opt/conda/lib/python3.7/site-packages/sklearn/linear_model/_logistic.py:818: ConvergenceWarning: lbfgs failed to converge (status=1):\n",
      "STOP: TOTAL NO. of ITERATIONS REACHED LIMIT.\n",
      "\n",
      "Increase the number of iterations (max_iter) or scale the data as shown in:\n",
      "    https://scikit-learn.org/stable/modules/preprocessing.html\n",
      "Please also refer to the documentation for alternative solver options:\n",
      "    https://scikit-learn.org/stable/modules/linear_model.html#logistic-regression\n",
      "  extra_warning_msg=_LOGISTIC_SOLVER_CONVERGENCE_MSG,\n",
      "/opt/conda/lib/python3.7/site-packages/sklearn/linear_model/_logistic.py:818: ConvergenceWarning: lbfgs failed to converge (status=1):\n",
      "STOP: TOTAL NO. of ITERATIONS REACHED LIMIT.\n",
      "\n",
      "Increase the number of iterations (max_iter) or scale the data as shown in:\n",
      "    https://scikit-learn.org/stable/modules/preprocessing.html\n",
      "Please also refer to the documentation for alternative solver options:\n",
      "    https://scikit-learn.org/stable/modules/linear_model.html#logistic-regression\n",
      "  extra_warning_msg=_LOGISTIC_SOLVER_CONVERGENCE_MSG,\n",
      "/opt/conda/lib/python3.7/site-packages/sklearn/linear_model/_logistic.py:818: ConvergenceWarning: lbfgs failed to converge (status=1):\n",
      "STOP: TOTAL NO. of ITERATIONS REACHED LIMIT.\n",
      "\n",
      "Increase the number of iterations (max_iter) or scale the data as shown in:\n",
      "    https://scikit-learn.org/stable/modules/preprocessing.html\n",
      "Please also refer to the documentation for alternative solver options:\n",
      "    https://scikit-learn.org/stable/modules/linear_model.html#logistic-regression\n",
      "  extra_warning_msg=_LOGISTIC_SOLVER_CONVERGENCE_MSG,\n",
      "/opt/conda/lib/python3.7/site-packages/sklearn/linear_model/_logistic.py:818: ConvergenceWarning: lbfgs failed to converge (status=1):\n",
      "STOP: TOTAL NO. of ITERATIONS REACHED LIMIT.\n",
      "\n",
      "Increase the number of iterations (max_iter) or scale the data as shown in:\n",
      "    https://scikit-learn.org/stable/modules/preprocessing.html\n",
      "Please also refer to the documentation for alternative solver options:\n",
      "    https://scikit-learn.org/stable/modules/linear_model.html#logistic-regression\n",
      "  extra_warning_msg=_LOGISTIC_SOLVER_CONVERGENCE_MSG,\n",
      "/opt/conda/lib/python3.7/site-packages/sklearn/linear_model/_logistic.py:818: ConvergenceWarning: lbfgs failed to converge (status=1):\n",
      "STOP: TOTAL NO. of ITERATIONS REACHED LIMIT.\n",
      "\n",
      "Increase the number of iterations (max_iter) or scale the data as shown in:\n",
      "    https://scikit-learn.org/stable/modules/preprocessing.html\n",
      "Please also refer to the documentation for alternative solver options:\n",
      "    https://scikit-learn.org/stable/modules/linear_model.html#logistic-regression\n",
      "  extra_warning_msg=_LOGISTIC_SOLVER_CONVERGENCE_MSG,\n",
      "/opt/conda/lib/python3.7/site-packages/sklearn/linear_model/_logistic.py:818: ConvergenceWarning: lbfgs failed to converge (status=1):\n",
      "STOP: TOTAL NO. of ITERATIONS REACHED LIMIT.\n",
      "\n",
      "Increase the number of iterations (max_iter) or scale the data as shown in:\n",
      "    https://scikit-learn.org/stable/modules/preprocessing.html\n",
      "Please also refer to the documentation for alternative solver options:\n",
      "    https://scikit-learn.org/stable/modules/linear_model.html#logistic-regression\n",
      "  extra_warning_msg=_LOGISTIC_SOLVER_CONVERGENCE_MSG,\n",
      "/opt/conda/lib/python3.7/site-packages/sklearn/linear_model/_logistic.py:818: ConvergenceWarning: lbfgs failed to converge (status=1):\n",
      "STOP: TOTAL NO. of ITERATIONS REACHED LIMIT.\n",
      "\n",
      "Increase the number of iterations (max_iter) or scale the data as shown in:\n",
      "    https://scikit-learn.org/stable/modules/preprocessing.html\n",
      "Please also refer to the documentation for alternative solver options:\n",
      "    https://scikit-learn.org/stable/modules/linear_model.html#logistic-regression\n",
      "  extra_warning_msg=_LOGISTIC_SOLVER_CONVERGENCE_MSG,\n",
      "/opt/conda/lib/python3.7/site-packages/sklearn/linear_model/_logistic.py:818: ConvergenceWarning: lbfgs failed to converge (status=1):\n",
      "STOP: TOTAL NO. of ITERATIONS REACHED LIMIT.\n",
      "\n",
      "Increase the number of iterations (max_iter) or scale the data as shown in:\n",
      "    https://scikit-learn.org/stable/modules/preprocessing.html\n",
      "Please also refer to the documentation for alternative solver options:\n",
      "    https://scikit-learn.org/stable/modules/linear_model.html#logistic-regression\n",
      "  extra_warning_msg=_LOGISTIC_SOLVER_CONVERGENCE_MSG,\n",
      "/opt/conda/lib/python3.7/site-packages/sklearn/linear_model/_logistic.py:818: ConvergenceWarning: lbfgs failed to converge (status=1):\n",
      "STOP: TOTAL NO. of ITERATIONS REACHED LIMIT.\n",
      "\n",
      "Increase the number of iterations (max_iter) or scale the data as shown in:\n",
      "    https://scikit-learn.org/stable/modules/preprocessing.html\n",
      "Please also refer to the documentation for alternative solver options:\n",
      "    https://scikit-learn.org/stable/modules/linear_model.html#logistic-regression\n",
      "  extra_warning_msg=_LOGISTIC_SOLVER_CONVERGENCE_MSG,\n",
      "/opt/conda/lib/python3.7/site-packages/sklearn/linear_model/_logistic.py:818: ConvergenceWarning: lbfgs failed to converge (status=1):\n",
      "STOP: TOTAL NO. of ITERATIONS REACHED LIMIT.\n",
      "\n",
      "Increase the number of iterations (max_iter) or scale the data as shown in:\n",
      "    https://scikit-learn.org/stable/modules/preprocessing.html\n",
      "Please also refer to the documentation for alternative solver options:\n",
      "    https://scikit-learn.org/stable/modules/linear_model.html#logistic-regression\n",
      "  extra_warning_msg=_LOGISTIC_SOLVER_CONVERGENCE_MSG,\n",
      "/opt/conda/lib/python3.7/site-packages/sklearn/linear_model/_logistic.py:818: ConvergenceWarning: lbfgs failed to converge (status=1):\n",
      "STOP: TOTAL NO. of ITERATIONS REACHED LIMIT.\n",
      "\n",
      "Increase the number of iterations (max_iter) or scale the data as shown in:\n",
      "    https://scikit-learn.org/stable/modules/preprocessing.html\n",
      "Please also refer to the documentation for alternative solver options:\n",
      "    https://scikit-learn.org/stable/modules/linear_model.html#logistic-regression\n",
      "  extra_warning_msg=_LOGISTIC_SOLVER_CONVERGENCE_MSG,\n",
      "/opt/conda/lib/python3.7/site-packages/sklearn/linear_model/_logistic.py:818: ConvergenceWarning: lbfgs failed to converge (status=1):\n",
      "STOP: TOTAL NO. of ITERATIONS REACHED LIMIT.\n",
      "\n",
      "Increase the number of iterations (max_iter) or scale the data as shown in:\n",
      "    https://scikit-learn.org/stable/modules/preprocessing.html\n",
      "Please also refer to the documentation for alternative solver options:\n",
      "    https://scikit-learn.org/stable/modules/linear_model.html#logistic-regression\n",
      "  extra_warning_msg=_LOGISTIC_SOLVER_CONVERGENCE_MSG,\n",
      "/opt/conda/lib/python3.7/site-packages/sklearn/linear_model/_logistic.py:818: ConvergenceWarning: lbfgs failed to converge (status=1):\n",
      "STOP: TOTAL NO. of ITERATIONS REACHED LIMIT.\n",
      "\n",
      "Increase the number of iterations (max_iter) or scale the data as shown in:\n",
      "    https://scikit-learn.org/stable/modules/preprocessing.html\n",
      "Please also refer to the documentation for alternative solver options:\n",
      "    https://scikit-learn.org/stable/modules/linear_model.html#logistic-regression\n",
      "  extra_warning_msg=_LOGISTIC_SOLVER_CONVERGENCE_MSG,\n",
      "/opt/conda/lib/python3.7/site-packages/sklearn/linear_model/_logistic.py:818: ConvergenceWarning: lbfgs failed to converge (status=1):\n",
      "STOP: TOTAL NO. of ITERATIONS REACHED LIMIT.\n",
      "\n",
      "Increase the number of iterations (max_iter) or scale the data as shown in:\n",
      "    https://scikit-learn.org/stable/modules/preprocessing.html\n",
      "Please also refer to the documentation for alternative solver options:\n",
      "    https://scikit-learn.org/stable/modules/linear_model.html#logistic-regression\n",
      "  extra_warning_msg=_LOGISTIC_SOLVER_CONVERGENCE_MSG,\n",
      "/opt/conda/lib/python3.7/site-packages/sklearn/linear_model/_logistic.py:818: ConvergenceWarning: lbfgs failed to converge (status=1):\n",
      "STOP: TOTAL NO. of ITERATIONS REACHED LIMIT.\n",
      "\n",
      "Increase the number of iterations (max_iter) or scale the data as shown in:\n",
      "    https://scikit-learn.org/stable/modules/preprocessing.html\n",
      "Please also refer to the documentation for alternative solver options:\n",
      "    https://scikit-learn.org/stable/modules/linear_model.html#logistic-regression\n",
      "  extra_warning_msg=_LOGISTIC_SOLVER_CONVERGENCE_MSG,\n",
      "/opt/conda/lib/python3.7/site-packages/sklearn/linear_model/_logistic.py:818: ConvergenceWarning: lbfgs failed to converge (status=1):\n",
      "STOP: TOTAL NO. of ITERATIONS REACHED LIMIT.\n",
      "\n",
      "Increase the number of iterations (max_iter) or scale the data as shown in:\n",
      "    https://scikit-learn.org/stable/modules/preprocessing.html\n",
      "Please also refer to the documentation for alternative solver options:\n",
      "    https://scikit-learn.org/stable/modules/linear_model.html#logistic-regression\n",
      "  extra_warning_msg=_LOGISTIC_SOLVER_CONVERGENCE_MSG,\n",
      "/opt/conda/lib/python3.7/site-packages/sklearn/linear_model/_logistic.py:818: ConvergenceWarning: lbfgs failed to converge (status=1):\n",
      "STOP: TOTAL NO. of ITERATIONS REACHED LIMIT.\n",
      "\n",
      "Increase the number of iterations (max_iter) or scale the data as shown in:\n",
      "    https://scikit-learn.org/stable/modules/preprocessing.html\n",
      "Please also refer to the documentation for alternative solver options:\n",
      "    https://scikit-learn.org/stable/modules/linear_model.html#logistic-regression\n",
      "  extra_warning_msg=_LOGISTIC_SOLVER_CONVERGENCE_MSG,\n",
      "/opt/conda/lib/python3.7/site-packages/sklearn/linear_model/_logistic.py:818: ConvergenceWarning: lbfgs failed to converge (status=1):\n",
      "STOP: TOTAL NO. of ITERATIONS REACHED LIMIT.\n",
      "\n",
      "Increase the number of iterations (max_iter) or scale the data as shown in:\n",
      "    https://scikit-learn.org/stable/modules/preprocessing.html\n",
      "Please also refer to the documentation for alternative solver options:\n",
      "    https://scikit-learn.org/stable/modules/linear_model.html#logistic-regression\n",
      "  extra_warning_msg=_LOGISTIC_SOLVER_CONVERGENCE_MSG,\n",
      "/opt/conda/lib/python3.7/site-packages/sklearn/linear_model/_logistic.py:818: ConvergenceWarning: lbfgs failed to converge (status=1):\n",
      "STOP: TOTAL NO. of ITERATIONS REACHED LIMIT.\n",
      "\n",
      "Increase the number of iterations (max_iter) or scale the data as shown in:\n",
      "    https://scikit-learn.org/stable/modules/preprocessing.html\n",
      "Please also refer to the documentation for alternative solver options:\n",
      "    https://scikit-learn.org/stable/modules/linear_model.html#logistic-regression\n",
      "  extra_warning_msg=_LOGISTIC_SOLVER_CONVERGENCE_MSG,\n",
      "/opt/conda/lib/python3.7/site-packages/sklearn/linear_model/_logistic.py:818: ConvergenceWarning: lbfgs failed to converge (status=1):\n",
      "STOP: TOTAL NO. of ITERATIONS REACHED LIMIT.\n",
      "\n",
      "Increase the number of iterations (max_iter) or scale the data as shown in:\n",
      "    https://scikit-learn.org/stable/modules/preprocessing.html\n",
      "Please also refer to the documentation for alternative solver options:\n",
      "    https://scikit-learn.org/stable/modules/linear_model.html#logistic-regression\n",
      "  extra_warning_msg=_LOGISTIC_SOLVER_CONVERGENCE_MSG,\n",
      "/opt/conda/lib/python3.7/site-packages/sklearn/linear_model/_logistic.py:818: ConvergenceWarning: lbfgs failed to converge (status=1):\n",
      "STOP: TOTAL NO. of ITERATIONS REACHED LIMIT.\n",
      "\n",
      "Increase the number of iterations (max_iter) or scale the data as shown in:\n",
      "    https://scikit-learn.org/stable/modules/preprocessing.html\n",
      "Please also refer to the documentation for alternative solver options:\n",
      "    https://scikit-learn.org/stable/modules/linear_model.html#logistic-regression\n",
      "  extra_warning_msg=_LOGISTIC_SOLVER_CONVERGENCE_MSG,\n",
      "/opt/conda/lib/python3.7/site-packages/sklearn/linear_model/_logistic.py:818: ConvergenceWarning: lbfgs failed to converge (status=1):\n",
      "STOP: TOTAL NO. of ITERATIONS REACHED LIMIT.\n",
      "\n",
      "Increase the number of iterations (max_iter) or scale the data as shown in:\n",
      "    https://scikit-learn.org/stable/modules/preprocessing.html\n",
      "Please also refer to the documentation for alternative solver options:\n",
      "    https://scikit-learn.org/stable/modules/linear_model.html#logistic-regression\n",
      "  extra_warning_msg=_LOGISTIC_SOLVER_CONVERGENCE_MSG,\n",
      "/opt/conda/lib/python3.7/site-packages/sklearn/linear_model/_logistic.py:818: ConvergenceWarning: lbfgs failed to converge (status=1):\n",
      "STOP: TOTAL NO. of ITERATIONS REACHED LIMIT.\n",
      "\n",
      "Increase the number of iterations (max_iter) or scale the data as shown in:\n",
      "    https://scikit-learn.org/stable/modules/preprocessing.html\n",
      "Please also refer to the documentation for alternative solver options:\n",
      "    https://scikit-learn.org/stable/modules/linear_model.html#logistic-regression\n",
      "  extra_warning_msg=_LOGISTIC_SOLVER_CONVERGENCE_MSG,\n",
      "/opt/conda/lib/python3.7/site-packages/sklearn/linear_model/_logistic.py:818: ConvergenceWarning: lbfgs failed to converge (status=1):\n",
      "STOP: TOTAL NO. of ITERATIONS REACHED LIMIT.\n",
      "\n",
      "Increase the number of iterations (max_iter) or scale the data as shown in:\n",
      "    https://scikit-learn.org/stable/modules/preprocessing.html\n",
      "Please also refer to the documentation for alternative solver options:\n",
      "    https://scikit-learn.org/stable/modules/linear_model.html#logistic-regression\n",
      "  extra_warning_msg=_LOGISTIC_SOLVER_CONVERGENCE_MSG,\n",
      "/opt/conda/lib/python3.7/site-packages/sklearn/linear_model/_logistic.py:818: ConvergenceWarning: lbfgs failed to converge (status=1):\n",
      "STOP: TOTAL NO. of ITERATIONS REACHED LIMIT.\n",
      "\n",
      "Increase the number of iterations (max_iter) or scale the data as shown in:\n",
      "    https://scikit-learn.org/stable/modules/preprocessing.html\n",
      "Please also refer to the documentation for alternative solver options:\n",
      "    https://scikit-learn.org/stable/modules/linear_model.html#logistic-regression\n",
      "  extra_warning_msg=_LOGISTIC_SOLVER_CONVERGENCE_MSG,\n",
      "/opt/conda/lib/python3.7/site-packages/sklearn/linear_model/_logistic.py:818: ConvergenceWarning: lbfgs failed to converge (status=1):\n",
      "STOP: TOTAL NO. of ITERATIONS REACHED LIMIT.\n",
      "\n",
      "Increase the number of iterations (max_iter) or scale the data as shown in:\n",
      "    https://scikit-learn.org/stable/modules/preprocessing.html\n",
      "Please also refer to the documentation for alternative solver options:\n",
      "    https://scikit-learn.org/stable/modules/linear_model.html#logistic-regression\n",
      "  extra_warning_msg=_LOGISTIC_SOLVER_CONVERGENCE_MSG,\n",
      "/opt/conda/lib/python3.7/site-packages/sklearn/linear_model/_logistic.py:818: ConvergenceWarning: lbfgs failed to converge (status=1):\n",
      "STOP: TOTAL NO. of ITERATIONS REACHED LIMIT.\n",
      "\n",
      "Increase the number of iterations (max_iter) or scale the data as shown in:\n",
      "    https://scikit-learn.org/stable/modules/preprocessing.html\n",
      "Please also refer to the documentation for alternative solver options:\n",
      "    https://scikit-learn.org/stable/modules/linear_model.html#logistic-regression\n",
      "  extra_warning_msg=_LOGISTIC_SOLVER_CONVERGENCE_MSG,\n",
      "/opt/conda/lib/python3.7/site-packages/sklearn/linear_model/_logistic.py:818: ConvergenceWarning: lbfgs failed to converge (status=1):\n",
      "STOP: TOTAL NO. of ITERATIONS REACHED LIMIT.\n",
      "\n",
      "Increase the number of iterations (max_iter) or scale the data as shown in:\n",
      "    https://scikit-learn.org/stable/modules/preprocessing.html\n",
      "Please also refer to the documentation for alternative solver options:\n",
      "    https://scikit-learn.org/stable/modules/linear_model.html#logistic-regression\n",
      "  extra_warning_msg=_LOGISTIC_SOLVER_CONVERGENCE_MSG,\n",
      "/opt/conda/lib/python3.7/site-packages/sklearn/linear_model/_logistic.py:818: ConvergenceWarning: lbfgs failed to converge (status=1):\n",
      "STOP: TOTAL NO. of ITERATIONS REACHED LIMIT.\n",
      "\n",
      "Increase the number of iterations (max_iter) or scale the data as shown in:\n",
      "    https://scikit-learn.org/stable/modules/preprocessing.html\n",
      "Please also refer to the documentation for alternative solver options:\n",
      "    https://scikit-learn.org/stable/modules/linear_model.html#logistic-regression\n",
      "  extra_warning_msg=_LOGISTIC_SOLVER_CONVERGENCE_MSG,\n",
      "/opt/conda/lib/python3.7/site-packages/sklearn/linear_model/_logistic.py:818: ConvergenceWarning: lbfgs failed to converge (status=1):\n",
      "STOP: TOTAL NO. of ITERATIONS REACHED LIMIT.\n",
      "\n",
      "Increase the number of iterations (max_iter) or scale the data as shown in:\n",
      "    https://scikit-learn.org/stable/modules/preprocessing.html\n",
      "Please also refer to the documentation for alternative solver options:\n",
      "    https://scikit-learn.org/stable/modules/linear_model.html#logistic-regression\n",
      "  extra_warning_msg=_LOGISTIC_SOLVER_CONVERGENCE_MSG,\n",
      "/opt/conda/lib/python3.7/site-packages/sklearn/linear_model/_logistic.py:818: ConvergenceWarning: lbfgs failed to converge (status=1):\n",
      "STOP: TOTAL NO. of ITERATIONS REACHED LIMIT.\n",
      "\n",
      "Increase the number of iterations (max_iter) or scale the data as shown in:\n",
      "    https://scikit-learn.org/stable/modules/preprocessing.html\n",
      "Please also refer to the documentation for alternative solver options:\n",
      "    https://scikit-learn.org/stable/modules/linear_model.html#logistic-regression\n",
      "  extra_warning_msg=_LOGISTIC_SOLVER_CONVERGENCE_MSG,\n",
      "/opt/conda/lib/python3.7/site-packages/sklearn/linear_model/_logistic.py:818: ConvergenceWarning: lbfgs failed to converge (status=1):\n",
      "STOP: TOTAL NO. of ITERATIONS REACHED LIMIT.\n",
      "\n",
      "Increase the number of iterations (max_iter) or scale the data as shown in:\n",
      "    https://scikit-learn.org/stable/modules/preprocessing.html\n",
      "Please also refer to the documentation for alternative solver options:\n",
      "    https://scikit-learn.org/stable/modules/linear_model.html#logistic-regression\n",
      "  extra_warning_msg=_LOGISTIC_SOLVER_CONVERGENCE_MSG,\n",
      "/opt/conda/lib/python3.7/site-packages/sklearn/linear_model/_logistic.py:818: ConvergenceWarning: lbfgs failed to converge (status=1):\n",
      "STOP: TOTAL NO. of ITERATIONS REACHED LIMIT.\n",
      "\n",
      "Increase the number of iterations (max_iter) or scale the data as shown in:\n",
      "    https://scikit-learn.org/stable/modules/preprocessing.html\n",
      "Please also refer to the documentation for alternative solver options:\n",
      "    https://scikit-learn.org/stable/modules/linear_model.html#logistic-regression\n",
      "  extra_warning_msg=_LOGISTIC_SOLVER_CONVERGENCE_MSG,\n",
      "/opt/conda/lib/python3.7/site-packages/sklearn/linear_model/_logistic.py:818: ConvergenceWarning: lbfgs failed to converge (status=1):\n",
      "STOP: TOTAL NO. of ITERATIONS REACHED LIMIT.\n",
      "\n",
      "Increase the number of iterations (max_iter) or scale the data as shown in:\n",
      "    https://scikit-learn.org/stable/modules/preprocessing.html\n",
      "Please also refer to the documentation for alternative solver options:\n",
      "    https://scikit-learn.org/stable/modules/linear_model.html#logistic-regression\n",
      "  extra_warning_msg=_LOGISTIC_SOLVER_CONVERGENCE_MSG,\n",
      "/opt/conda/lib/python3.7/site-packages/sklearn/linear_model/_logistic.py:818: ConvergenceWarning: lbfgs failed to converge (status=1):\n",
      "STOP: TOTAL NO. of ITERATIONS REACHED LIMIT.\n",
      "\n",
      "Increase the number of iterations (max_iter) or scale the data as shown in:\n",
      "    https://scikit-learn.org/stable/modules/preprocessing.html\n",
      "Please also refer to the documentation for alternative solver options:\n",
      "    https://scikit-learn.org/stable/modules/linear_model.html#logistic-regression\n",
      "  extra_warning_msg=_LOGISTIC_SOLVER_CONVERGENCE_MSG,\n",
      "/opt/conda/lib/python3.7/site-packages/sklearn/linear_model/_logistic.py:818: ConvergenceWarning: lbfgs failed to converge (status=1):\n",
      "STOP: TOTAL NO. of ITERATIONS REACHED LIMIT.\n",
      "\n",
      "Increase the number of iterations (max_iter) or scale the data as shown in:\n",
      "    https://scikit-learn.org/stable/modules/preprocessing.html\n",
      "Please also refer to the documentation for alternative solver options:\n",
      "    https://scikit-learn.org/stable/modules/linear_model.html#logistic-regression\n",
      "  extra_warning_msg=_LOGISTIC_SOLVER_CONVERGENCE_MSG,\n",
      "/opt/conda/lib/python3.7/site-packages/sklearn/linear_model/_logistic.py:818: ConvergenceWarning: lbfgs failed to converge (status=1):\n",
      "STOP: TOTAL NO. of ITERATIONS REACHED LIMIT.\n",
      "\n",
      "Increase the number of iterations (max_iter) or scale the data as shown in:\n",
      "    https://scikit-learn.org/stable/modules/preprocessing.html\n",
      "Please also refer to the documentation for alternative solver options:\n",
      "    https://scikit-learn.org/stable/modules/linear_model.html#logistic-regression\n",
      "  extra_warning_msg=_LOGISTIC_SOLVER_CONVERGENCE_MSG,\n",
      "/opt/conda/lib/python3.7/site-packages/sklearn/linear_model/_logistic.py:818: ConvergenceWarning: lbfgs failed to converge (status=1):\n",
      "STOP: TOTAL NO. of ITERATIONS REACHED LIMIT.\n",
      "\n",
      "Increase the number of iterations (max_iter) or scale the data as shown in:\n",
      "    https://scikit-learn.org/stable/modules/preprocessing.html\n",
      "Please also refer to the documentation for alternative solver options:\n",
      "    https://scikit-learn.org/stable/modules/linear_model.html#logistic-regression\n",
      "  extra_warning_msg=_LOGISTIC_SOLVER_CONVERGENCE_MSG,\n",
      "/opt/conda/lib/python3.7/site-packages/sklearn/linear_model/_logistic.py:818: ConvergenceWarning: lbfgs failed to converge (status=1):\n",
      "STOP: TOTAL NO. of ITERATIONS REACHED LIMIT.\n",
      "\n",
      "Increase the number of iterations (max_iter) or scale the data as shown in:\n",
      "    https://scikit-learn.org/stable/modules/preprocessing.html\n",
      "Please also refer to the documentation for alternative solver options:\n",
      "    https://scikit-learn.org/stable/modules/linear_model.html#logistic-regression\n",
      "  extra_warning_msg=_LOGISTIC_SOLVER_CONVERGENCE_MSG,\n",
      "/opt/conda/lib/python3.7/site-packages/sklearn/linear_model/_logistic.py:818: ConvergenceWarning: lbfgs failed to converge (status=1):\n",
      "STOP: TOTAL NO. of ITERATIONS REACHED LIMIT.\n",
      "\n",
      "Increase the number of iterations (max_iter) or scale the data as shown in:\n",
      "    https://scikit-learn.org/stable/modules/preprocessing.html\n",
      "Please also refer to the documentation for alternative solver options:\n",
      "    https://scikit-learn.org/stable/modules/linear_model.html#logistic-regression\n",
      "  extra_warning_msg=_LOGISTIC_SOLVER_CONVERGENCE_MSG,\n",
      "/opt/conda/lib/python3.7/site-packages/sklearn/linear_model/_logistic.py:818: ConvergenceWarning: lbfgs failed to converge (status=1):\n",
      "STOP: TOTAL NO. of ITERATIONS REACHED LIMIT.\n",
      "\n",
      "Increase the number of iterations (max_iter) or scale the data as shown in:\n",
      "    https://scikit-learn.org/stable/modules/preprocessing.html\n",
      "Please also refer to the documentation for alternative solver options:\n",
      "    https://scikit-learn.org/stable/modules/linear_model.html#logistic-regression\n",
      "  extra_warning_msg=_LOGISTIC_SOLVER_CONVERGENCE_MSG,\n",
      "/opt/conda/lib/python3.7/site-packages/sklearn/linear_model/_logistic.py:818: ConvergenceWarning: lbfgs failed to converge (status=1):\n",
      "STOP: TOTAL NO. of ITERATIONS REACHED LIMIT.\n",
      "\n",
      "Increase the number of iterations (max_iter) or scale the data as shown in:\n",
      "    https://scikit-learn.org/stable/modules/preprocessing.html\n",
      "Please also refer to the documentation for alternative solver options:\n",
      "    https://scikit-learn.org/stable/modules/linear_model.html#logistic-regression\n",
      "  extra_warning_msg=_LOGISTIC_SOLVER_CONVERGENCE_MSG,\n",
      "/opt/conda/lib/python3.7/site-packages/sklearn/linear_model/_logistic.py:818: ConvergenceWarning: lbfgs failed to converge (status=1):\n",
      "STOP: TOTAL NO. of ITERATIONS REACHED LIMIT.\n",
      "\n",
      "Increase the number of iterations (max_iter) or scale the data as shown in:\n",
      "    https://scikit-learn.org/stable/modules/preprocessing.html\n",
      "Please also refer to the documentation for alternative solver options:\n",
      "    https://scikit-learn.org/stable/modules/linear_model.html#logistic-regression\n",
      "  extra_warning_msg=_LOGISTIC_SOLVER_CONVERGENCE_MSG,\n",
      "/opt/conda/lib/python3.7/site-packages/sklearn/linear_model/_logistic.py:818: ConvergenceWarning: lbfgs failed to converge (status=1):\n",
      "STOP: TOTAL NO. of ITERATIONS REACHED LIMIT.\n",
      "\n",
      "Increase the number of iterations (max_iter) or scale the data as shown in:\n",
      "    https://scikit-learn.org/stable/modules/preprocessing.html\n",
      "Please also refer to the documentation for alternative solver options:\n",
      "    https://scikit-learn.org/stable/modules/linear_model.html#logistic-regression\n",
      "  extra_warning_msg=_LOGISTIC_SOLVER_CONVERGENCE_MSG,\n",
      "/opt/conda/lib/python3.7/site-packages/sklearn/linear_model/_logistic.py:818: ConvergenceWarning: lbfgs failed to converge (status=1):\n",
      "STOP: TOTAL NO. of ITERATIONS REACHED LIMIT.\n",
      "\n",
      "Increase the number of iterations (max_iter) or scale the data as shown in:\n",
      "    https://scikit-learn.org/stable/modules/preprocessing.html\n",
      "Please also refer to the documentation for alternative solver options:\n",
      "    https://scikit-learn.org/stable/modules/linear_model.html#logistic-regression\n",
      "  extra_warning_msg=_LOGISTIC_SOLVER_CONVERGENCE_MSG,\n",
      "/opt/conda/lib/python3.7/site-packages/sklearn/linear_model/_logistic.py:818: ConvergenceWarning: lbfgs failed to converge (status=1):\n",
      "STOP: TOTAL NO. of ITERATIONS REACHED LIMIT.\n",
      "\n",
      "Increase the number of iterations (max_iter) or scale the data as shown in:\n",
      "    https://scikit-learn.org/stable/modules/preprocessing.html\n",
      "Please also refer to the documentation for alternative solver options:\n",
      "    https://scikit-learn.org/stable/modules/linear_model.html#logistic-regression\n",
      "  extra_warning_msg=_LOGISTIC_SOLVER_CONVERGENCE_MSG,\n",
      "/opt/conda/lib/python3.7/site-packages/sklearn/linear_model/_logistic.py:818: ConvergenceWarning: lbfgs failed to converge (status=1):\n",
      "STOP: TOTAL NO. of ITERATIONS REACHED LIMIT.\n",
      "\n",
      "Increase the number of iterations (max_iter) or scale the data as shown in:\n",
      "    https://scikit-learn.org/stable/modules/preprocessing.html\n",
      "Please also refer to the documentation for alternative solver options:\n",
      "    https://scikit-learn.org/stable/modules/linear_model.html#logistic-regression\n",
      "  extra_warning_msg=_LOGISTIC_SOLVER_CONVERGENCE_MSG,\n",
      "/opt/conda/lib/python3.7/site-packages/sklearn/model_selection/_validation.py:372: FitFailedWarning:\n",
      "\n",
      "\n",
      "90 fits failed out of a total of 180.\n",
      "The score on these train-test partitions for these parameters will be set to nan.\n",
      "If these failures are not expected, you can try to debug them by setting error_score='raise'.\n",
      "\n",
      "Below are more details about the failures:\n",
      "--------------------------------------------------------------------------------\n",
      "90 fits failed with the following error:\n",
      "Traceback (most recent call last):\n",
      "  File \"/opt/conda/lib/python3.7/site-packages/sklearn/model_selection/_validation.py\", line 681, in _fit_and_score\n",
      "    estimator.fit(X_train, y_train, **fit_params)\n",
      "  File \"/opt/conda/lib/python3.7/site-packages/sklearn/linear_model/_logistic.py\", line 1461, in fit\n",
      "    solver = _check_solver(self.solver, self.penalty, self.dual)\n",
      "  File \"/opt/conda/lib/python3.7/site-packages/sklearn/linear_model/_logistic.py\", line 449, in _check_solver\n",
      "    % (solver, penalty)\n",
      "ValueError: Solver lbfgs supports only 'l2' or 'none' penalties, got l1 penalty.\n",
      "\n",
      "\n",
      "/opt/conda/lib/python3.7/site-packages/sklearn/model_selection/_search.py:972: UserWarning:\n",
      "\n",
      "One or more of the test scores are non-finite: [       nan 0.79720624        nan 0.78997535        nan 0.79260477\n",
      "        nan 0.79769926        nan 0.79013969        nan 0.79211175\n",
      "        nan 0.79769926        nan 0.79326212        nan 0.78997535\n",
      "        nan 0.79769926        nan 0.7906327         nan 0.78981101\n",
      "        nan 0.79753492        nan 0.79293344        nan 0.79112572\n",
      "        nan 0.79753492        nan 0.79046836        nan 0.79227609]\n",
      "\n",
      "/opt/conda/lib/python3.7/site-packages/sklearn/linear_model/_logistic.py:818: ConvergenceWarning:\n",
      "\n",
      "lbfgs failed to converge (status=1):\n",
      "STOP: TOTAL NO. of ITERATIONS REACHED LIMIT.\n",
      "\n",
      "Increase the number of iterations (max_iter) or scale the data as shown in:\n",
      "    https://scikit-learn.org/stable/modules/preprocessing.html\n",
      "Please also refer to the documentation for alternative solver options:\n",
      "    https://scikit-learn.org/stable/modules/linear_model.html#logistic-regression\n",
      "\n"
     ]
    },
    {
     "name": "stdout",
     "output_type": "stream",
     "text": [
      "Model: LogisticRegression\n",
      "Training time (mins): 0.07\n",
      "\n",
      "Model: KNN\n",
      "Training time (mins): 0.06\n",
      "\n",
      "Model: RandomForest\n",
      "Training time (mins): 0.76\n",
      "\n",
      "Model: LGBM\n",
      "Training time (mins): 0.23\n",
      "\n"
     ]
    }
   ],
   "source": [
    "# Sklearn\n",
    "from sklearn.model_selection import train_test_split, GridSearchCV, RandomizedSearchCV, StratifiedKFold\n",
    "\n",
    "import time\n",
    "\n",
    "i=0\n",
    "clf_best_params=classifiers.copy()\n",
    "valid_scores=pd.DataFrame({'Classifer':classifiers.keys(), 'Validation accuracy': np.zeros(len(classifiers)), 'Training time': np.zeros(len(classifiers))})\n",
    "for key, classifier in classifiers.items():\n",
    "    start = time.time()\n",
    "    clf = GridSearchCV(estimator=classifier, param_grid=grid[key], n_jobs=-1, cv=None)\n",
    "\n",
    "    # Train and score\n",
    "    clf.fit(X_train, y_train)\n",
    "    valid_scores.iloc[i,1]=clf.score(X_val, y_val)\n",
    "\n",
    "    # Save trained model\n",
    "    clf_best_params[key]=clf.best_params_\n",
    "    \n",
    "    # Print iteration and training time\n",
    "    stop = time.time()\n",
    "    valid_scores.iloc[i,2]=np.round((stop - start)/60, 2)\n",
    "    \n",
    "    print('Model:', key)\n",
    "    print('Training time (mins):', valid_scores.iloc[i,2])\n",
    "    print('')\n",
    "\n",
    "    i+=1"
   ]
  },
  {
   "cell_type": "markdown",
   "id": "e8415d4f",
   "metadata": {
    "papermill": {
     "duration": 0.137227,
     "end_time": "2022-04-05T08:45:13.778317",
     "exception": false,
     "start_time": "2022-04-05T08:45:13.641090",
     "status": "completed"
    },
    "tags": []
   },
   "source": [
    "- 4개의 모형에 대한 모형 개발 속도 및 정확도 평가지표를 확인한다. "
   ]
  },
  {
   "cell_type": "code",
   "execution_count": 50,
   "id": "7c31ed24",
   "metadata": {
    "execution": {
     "iopub.execute_input": "2022-04-05T08:45:14.016124Z",
     "iopub.status.busy": "2022-04-05T08:45:14.015426Z",
     "iopub.status.idle": "2022-04-05T08:45:14.023858Z",
     "shell.execute_reply": "2022-04-05T08:45:14.024404Z",
     "shell.execute_reply.started": "2022-04-05T08:42:20.501570Z"
    },
    "papermill": {
     "duration": 0.131078,
     "end_time": "2022-04-05T08:45:14.024571",
     "exception": false,
     "start_time": "2022-04-05T08:45:13.893493",
     "status": "completed"
    },
    "tags": []
   },
   "outputs": [
    {
     "data": {
      "text/html": [
       "<div>\n",
       "<style scoped>\n",
       "    .dataframe tbody tr th:only-of-type {\n",
       "        vertical-align: middle;\n",
       "    }\n",
       "\n",
       "    .dataframe tbody tr th {\n",
       "        vertical-align: top;\n",
       "    }\n",
       "\n",
       "    .dataframe thead th {\n",
       "        text-align: right;\n",
       "    }\n",
       "</style>\n",
       "<table border=\"1\" class=\"dataframe\">\n",
       "  <thead>\n",
       "    <tr style=\"text-align: right;\">\n",
       "      <th></th>\n",
       "      <th>Classifer</th>\n",
       "      <th>Validation accuracy</th>\n",
       "      <th>Training time</th>\n",
       "    </tr>\n",
       "  </thead>\n",
       "  <tbody>\n",
       "    <tr>\n",
       "      <th>0</th>\n",
       "      <td>LogisticRegression</td>\n",
       "      <td>0.779525</td>\n",
       "      <td>0.07</td>\n",
       "    </tr>\n",
       "    <tr>\n",
       "      <th>1</th>\n",
       "      <td>KNN</td>\n",
       "      <td>0.786810</td>\n",
       "      <td>0.06</td>\n",
       "    </tr>\n",
       "    <tr>\n",
       "      <th>2</th>\n",
       "      <td>RandomForest</td>\n",
       "      <td>0.793328</td>\n",
       "      <td>0.76</td>\n",
       "    </tr>\n",
       "    <tr>\n",
       "      <th>3</th>\n",
       "      <td>LGBM</td>\n",
       "      <td>0.788344</td>\n",
       "      <td>0.23</td>\n",
       "    </tr>\n",
       "  </tbody>\n",
       "</table>\n",
       "</div>"
      ],
      "text/plain": [
       "            Classifer  Validation accuracy  Training time\n",
       "0  LogisticRegression             0.779525           0.07\n",
       "1                 KNN             0.786810           0.06\n",
       "2        RandomForest             0.793328           0.76\n",
       "3                LGBM             0.788344           0.23"
      ]
     },
     "execution_count": 50,
     "metadata": {},
     "output_type": "execute_result"
    }
   ],
   "source": [
    "# Show results\n",
    "valid_scores"
   ]
  },
  {
   "cell_type": "markdown",
   "id": "6ba45381",
   "metadata": {
    "papermill": {
     "duration": 0.114559,
     "end_time": "2022-04-05T08:45:14.254141",
     "exception": false,
     "start_time": "2022-04-05T08:45:14.139582",
     "status": "completed"
    },
    "tags": []
   },
   "source": [
    "- 그리드 서치를 통해서 얻어낸 지표 중 가장 좋은 파라미터를 찾는다. "
   ]
  },
  {
   "cell_type": "code",
   "execution_count": 51,
   "id": "165c858a",
   "metadata": {
    "execution": {
     "iopub.execute_input": "2022-04-05T08:45:14.487186Z",
     "iopub.status.busy": "2022-04-05T08:45:14.486545Z",
     "iopub.status.idle": "2022-04-05T08:45:14.491667Z",
     "shell.execute_reply": "2022-04-05T08:45:14.492209Z",
     "shell.execute_reply.started": "2022-04-05T08:42:20.516465Z"
    },
    "papermill": {
     "duration": 0.123313,
     "end_time": "2022-04-05T08:45:14.492392",
     "exception": false,
     "start_time": "2022-04-05T08:45:14.369079",
     "status": "completed"
    },
    "tags": []
   },
   "outputs": [
    {
     "data": {
      "text/plain": [
       "{'LogisticRegression': {'C': 0.5, 'max_iter': 50, 'penalty': 'l2'},\n",
       " 'KNN': {'n_neighbors': 9, 'p': 2},\n",
       " 'RandomForest': {'max_depth': 10, 'n_estimators': 300},\n",
       " 'LGBM': {'learning_rate': 0.05, 'max_depth': 4, 'n_estimators': 150}}"
      ]
     },
     "execution_count": 51,
     "metadata": {},
     "output_type": "execute_result"
    }
   ],
   "source": [
    "clf_best_params"
   ]
  },
  {
   "cell_type": "markdown",
   "id": "c0298348",
   "metadata": {
    "papermill": {
     "duration": 0.117702,
     "end_time": "2022-04-05T08:45:14.725766",
     "exception": false,
     "start_time": "2022-04-05T08:45:14.608064",
     "status": "completed"
    },
    "tags": []
   },
   "source": [
    "- 가장 좋은 모형을 적용한다. "
   ]
  },
  {
   "cell_type": "code",
   "execution_count": 52,
   "id": "f2d645d9",
   "metadata": {
    "execution": {
     "iopub.execute_input": "2022-04-05T08:45:14.965526Z",
     "iopub.status.busy": "2022-04-05T08:45:14.964837Z",
     "iopub.status.idle": "2022-04-05T08:45:14.967848Z",
     "shell.execute_reply": "2022-04-05T08:45:14.967355Z",
     "shell.execute_reply.started": "2022-04-05T08:42:20.529876Z"
    },
    "papermill": {
     "duration": 0.125737,
     "end_time": "2022-04-05T08:45:14.968011",
     "exception": false,
     "start_time": "2022-04-05T08:45:14.842274",
     "status": "completed"
    },
    "tags": []
   },
   "outputs": [],
   "source": [
    "# Classifiers\n",
    "best_classifiers = {\n",
    "    \"RandomForest\" : RandomForestClassifier(**clf_best_params[\"RandomForest\"], random_state=0),\n",
    "    \"LGBM\" : LGBMClassifier(**clf_best_params[\"LGBM\"], random_state=0)\n",
    "}"
   ]
  },
  {
   "cell_type": "markdown",
   "id": "64a02564",
   "metadata": {
    "papermill": {
     "duration": 0.11588,
     "end_time": "2022-04-05T08:45:15.201146",
     "exception": false,
     "start_time": "2022-04-05T08:45:15.085266",
     "status": "completed"
    },
    "tags": []
   },
   "source": [
    "- 이번에는 10겹 교차검증을 실시한다. "
   ]
  },
  {
   "cell_type": "code",
   "execution_count": 53,
   "id": "4d26844a",
   "metadata": {
    "execution": {
     "iopub.execute_input": "2022-04-05T08:45:15.436755Z",
     "iopub.status.busy": "2022-04-05T08:45:15.436121Z",
     "iopub.status.idle": "2022-04-05T08:45:38.387636Z",
     "shell.execute_reply": "2022-04-05T08:45:38.388530Z",
     "shell.execute_reply.started": "2022-04-05T08:42:20.542934Z"
    },
    "papermill": {
     "duration": 23.071752,
     "end_time": "2022-04-05T08:45:38.388739",
     "exception": false,
     "start_time": "2022-04-05T08:45:15.316987",
     "status": "completed"
    },
    "tags": []
   },
   "outputs": [
    {
     "name": "stderr",
     "output_type": "stream",
     "text": [
      "/opt/conda/lib/python3.7/site-packages/sklearn/base.py:439: UserWarning:\n",
      "\n",
      "X has feature names, but RandomForestClassifier was fitted without feature names\n",
      "\n",
      "/opt/conda/lib/python3.7/site-packages/sklearn/base.py:439: UserWarning:\n",
      "\n",
      "X has feature names, but RandomForestClassifier was fitted without feature names\n",
      "\n",
      "/opt/conda/lib/python3.7/site-packages/sklearn/base.py:439: UserWarning:\n",
      "\n",
      "X has feature names, but RandomForestClassifier was fitted without feature names\n",
      "\n",
      "/opt/conda/lib/python3.7/site-packages/sklearn/base.py:439: UserWarning:\n",
      "\n",
      "X has feature names, but RandomForestClassifier was fitted without feature names\n",
      "\n",
      "/opt/conda/lib/python3.7/site-packages/sklearn/base.py:439: UserWarning:\n",
      "\n",
      "X has feature names, but RandomForestClassifier was fitted without feature names\n",
      "\n",
      "/opt/conda/lib/python3.7/site-packages/sklearn/base.py:439: UserWarning:\n",
      "\n",
      "X has feature names, but RandomForestClassifier was fitted without feature names\n",
      "\n",
      "/opt/conda/lib/python3.7/site-packages/sklearn/base.py:439: UserWarning:\n",
      "\n",
      "X has feature names, but RandomForestClassifier was fitted without feature names\n",
      "\n",
      "/opt/conda/lib/python3.7/site-packages/sklearn/base.py:439: UserWarning:\n",
      "\n",
      "X has feature names, but RandomForestClassifier was fitted without feature names\n",
      "\n",
      "/opt/conda/lib/python3.7/site-packages/sklearn/base.py:439: UserWarning:\n",
      "\n",
      "X has feature names, but RandomForestClassifier was fitted without feature names\n",
      "\n",
      "/opt/conda/lib/python3.7/site-packages/sklearn/base.py:439: UserWarning:\n",
      "\n",
      "X has feature names, but RandomForestClassifier was fitted without feature names\n",
      "\n"
     ]
    },
    {
     "name": "stdout",
     "output_type": "stream",
     "text": [
      "Model: RandomForest\n",
      "Average validation accuracy: 79.97\n",
      "Training time (mins): 0.36\n",
      "\n",
      "Model: LGBM\n",
      "Average validation accuracy: 80.32\n",
      "Training time (mins): 0.02\n",
      "\n"
     ]
    }
   ],
   "source": [
    "# Number of folds in cross validation\n",
    "FOLDS=10\n",
    "\n",
    "preds=np.zeros(len(test_data))\n",
    "for key, classifier in best_classifiers.items():\n",
    "    start = time.time()\n",
    "    \n",
    "    # 5-fold cross validation\n",
    "    cv = StratifiedKFold(n_splits=FOLDS, shuffle=True, random_state=0)\n",
    "    \n",
    "    score=0\n",
    "    for fold, (train_idx, val_idx) in enumerate(cv.split(X, y)):\n",
    "        # Get training and validation sets\n",
    "        X_train, X_valid = X[train_idx], X[val_idx]\n",
    "        y_train, y_valid = y[train_idx], y[val_idx]\n",
    "\n",
    "        # Train model\n",
    "        clf = classifier\n",
    "        clf.fit(X_train, y_train)\n",
    "\n",
    "        # Make predictions and measure accuracy\n",
    "        preds += clf.predict_proba(test_data)[:,1]\n",
    "        score += clf.score(X_valid, y_valid)\n",
    "\n",
    "    # Average accuracy    \n",
    "    score=score/FOLDS\n",
    "    \n",
    "    # Stop timer\n",
    "    stop = time.time()\n",
    "\n",
    "    # Print accuracy and time\n",
    "    print('Model:', key)\n",
    "    print('Average validation accuracy:', np.round(100*score,2))\n",
    "    print('Training time (mins):', np.round((stop - start)/60,2))\n",
    "    print('')\n",
    "    \n",
    "# Ensemble predictions\n",
    "preds=preds/(FOLDS*len(best_classifiers))"
   ]
  },
  {
   "cell_type": "markdown",
   "id": "41ddc674",
   "metadata": {
    "papermill": {
     "duration": 0.120377,
     "end_time": "2022-04-05T08:45:38.630954",
     "exception": false,
     "start_time": "2022-04-05T08:45:38.510577",
     "status": "completed"
    },
    "tags": []
   },
   "source": [
    "# Step 5. 모형 평가\n",
    "- 훈련데이터 쪼갠다. 훈련데이터 + 검증데이터 분리\n",
    "- 정확도 비교\n",
    "- 혼동행렬 (Confusion Matrix) 설명"
   ]
  },
  {
   "cell_type": "markdown",
   "id": "6bd22e5d",
   "metadata": {
    "papermill": {
     "duration": 0.119684,
     "end_time": "2022-04-05T08:45:38.872539",
     "exception": false,
     "start_time": "2022-04-05T08:45:38.752855",
     "status": "completed"
    },
    "tags": []
   },
   "source": [
    "- 먼저 cross_validate() 활용한다. "
   ]
  },
  {
   "cell_type": "code",
   "execution_count": 54,
   "id": "3b508f8b",
   "metadata": {
    "execution": {
     "iopub.execute_input": "2022-04-05T08:45:39.117490Z",
     "iopub.status.busy": "2022-04-05T08:45:39.116767Z",
     "iopub.status.idle": "2022-04-05T08:45:39.121577Z",
     "shell.execute_reply": "2022-04-05T08:45:39.122223Z",
     "shell.execute_reply.started": "2022-04-05T08:42:45.884517Z"
    },
    "papermill": {
     "duration": 0.130338,
     "end_time": "2022-04-05T08:45:39.122428",
     "exception": false,
     "start_time": "2022-04-05T08:45:38.992090",
     "status": "completed"
    },
    "tags": []
   },
   "outputs": [
    {
     "data": {
      "text/plain": [
       "'\\nfrom sklearn.model_selection import StratifiedKFold\\nfrom sklearn.model_selection import cross_validate\\n\\nsplitter = StratifiedKFold(n_splits = 5, shuffle = True, random_state=42)\\nscores_xgb = cross_validate(xgb, X_train, y_train, return_train_score = True, cv=splitter)\\nscores_lgb = cross_validate(lgb, X_train, y_train, return_train_score = True, cv=splitter)\\n\\nprint(\"xgb train Acc.\", np.mean(scores_xgb[\\'train_score\\']))\\nprint(\"xgb test Acc.\", np.mean(scores_xgb[\\'test_score\\']))\\nprint(\"lgb train Acc.\", np.mean(scores_lgb[\\'train_score\\']))\\nprint(\"lgb test Acc.\", np.mean(scores_lgb[\\'test_score\\']))\\n'"
      ]
     },
     "execution_count": 54,
     "metadata": {},
     "output_type": "execute_result"
    }
   ],
   "source": [
    "\"\"\"\n",
    "from sklearn.model_selection import StratifiedKFold\n",
    "from sklearn.model_selection import cross_validate\n",
    "\n",
    "splitter = StratifiedKFold(n_splits = 5, shuffle = True, random_state=42)\n",
    "scores_xgb = cross_validate(xgb, X_train, y_train, return_train_score = True, cv=splitter)\n",
    "scores_lgb = cross_validate(lgb, X_train, y_train, return_train_score = True, cv=splitter)\n",
    "\n",
    "print(\"xgb train Acc.\", np.mean(scores_xgb['train_score']))\n",
    "print(\"xgb test Acc.\", np.mean(scores_xgb['test_score']))\n",
    "print(\"lgb train Acc.\", np.mean(scores_lgb['train_score']))\n",
    "print(\"lgb test Acc.\", np.mean(scores_lgb['test_score']))\n",
    "\"\"\""
   ]
  },
  {
   "cell_type": "markdown",
   "id": "06277250",
   "metadata": {
    "papermill": {
     "duration": 0.119953,
     "end_time": "2022-04-05T08:45:39.364077",
     "exception": false,
     "start_time": "2022-04-05T08:45:39.244124",
     "status": "completed"
    },
    "tags": []
   },
   "source": [
    "- 이번에는 검증 데이터를 활용하여 정확도를 예상해본다. "
   ]
  },
  {
   "cell_type": "code",
   "execution_count": 55,
   "id": "a73ee48c",
   "metadata": {
    "execution": {
     "iopub.execute_input": "2022-04-05T08:45:39.608068Z",
     "iopub.status.busy": "2022-04-05T08:45:39.607392Z",
     "iopub.status.idle": "2022-04-05T08:45:39.611382Z",
     "shell.execute_reply": "2022-04-05T08:45:39.612038Z",
     "shell.execute_reply.started": "2022-04-05T08:42:45.895391Z"
    },
    "papermill": {
     "duration": 0.127546,
     "end_time": "2022-04-05T08:45:39.612201",
     "exception": false,
     "start_time": "2022-04-05T08:45:39.484655",
     "status": "completed"
    },
    "tags": []
   },
   "outputs": [
    {
     "data": {
      "text/plain": [
       "'\\nfrom sklearn.metrics import accuracy_score\\n\\nxgb.fit(X_train, y_train)\\ny_pred = xgb.predict(X_val)\\nprint(\"xgb Acc.\", accuracy_score(y_val, y_pred))\\n\\nlgb.fit(X_train, y_train)\\ny_pred = lgb.predict(X_val)\\nprint(\"lgb Acc.\", accuracy_score(y_val, y_pred))\\n'"
      ]
     },
     "execution_count": 55,
     "metadata": {},
     "output_type": "execute_result"
    }
   ],
   "source": [
    "\"\"\"\n",
    "from sklearn.metrics import accuracy_score\n",
    "\n",
    "xgb.fit(X_train, y_train)\n",
    "y_pred = xgb.predict(X_val)\n",
    "print(\"xgb Acc.\", accuracy_score(y_val, y_pred))\n",
    "\n",
    "lgb.fit(X_train, y_train)\n",
    "y_pred = lgb.predict(X_val)\n",
    "print(\"lgb Acc.\", accuracy_score(y_val, y_pred))\n",
    "\"\"\""
   ]
  },
  {
   "cell_type": "markdown",
   "id": "d05d96f3",
   "metadata": {
    "papermill": {
     "duration": 0.121059,
     "end_time": "2022-04-05T08:45:39.855084",
     "exception": false,
     "start_time": "2022-04-05T08:45:39.734025",
     "status": "completed"
    },
    "tags": []
   },
   "source": [
    "- LightGBM이 약간의 우세에 있음"
   ]
  },
  {
   "cell_type": "markdown",
   "id": "15e83882",
   "metadata": {
    "papermill": {
     "duration": 0.121401,
     "end_time": "2022-04-05T08:45:40.097544",
     "exception": false,
     "start_time": "2022-04-05T08:45:39.976143",
     "status": "completed"
    },
    "tags": []
   },
   "source": [
    "# Step 6. 제출\n",
    "- 제출 양식은 샘플 만들어드림"
   ]
  },
  {
   "cell_type": "code",
   "execution_count": 56,
   "id": "bd746cf5",
   "metadata": {
    "execution": {
     "iopub.execute_input": "2022-04-05T08:45:40.346831Z",
     "iopub.status.busy": "2022-04-05T08:45:40.346190Z",
     "iopub.status.idle": "2022-04-05T08:45:40.366854Z",
     "shell.execute_reply": "2022-04-05T08:45:40.367408Z",
     "shell.execute_reply.started": "2022-04-05T08:42:45.910940Z"
    },
    "papermill": {
     "duration": 0.147262,
     "end_time": "2022-04-05T08:45:40.367573",
     "exception": false,
     "start_time": "2022-04-05T08:45:40.220311",
     "status": "completed"
    },
    "tags": []
   },
   "outputs": [
    {
     "data": {
      "text/html": [
       "<div>\n",
       "<style scoped>\n",
       "    .dataframe tbody tr th:only-of-type {\n",
       "        vertical-align: middle;\n",
       "    }\n",
       "\n",
       "    .dataframe tbody tr th {\n",
       "        vertical-align: top;\n",
       "    }\n",
       "\n",
       "    .dataframe thead th {\n",
       "        text-align: right;\n",
       "    }\n",
       "</style>\n",
       "<table border=\"1\" class=\"dataframe\">\n",
       "  <thead>\n",
       "    <tr style=\"text-align: right;\">\n",
       "      <th></th>\n",
       "      <th>PassengerId</th>\n",
       "      <th>Transported</th>\n",
       "    </tr>\n",
       "  </thead>\n",
       "  <tbody>\n",
       "    <tr>\n",
       "      <th>0</th>\n",
       "      <td>0013_01</td>\n",
       "      <td>True</td>\n",
       "    </tr>\n",
       "    <tr>\n",
       "      <th>1</th>\n",
       "      <td>0018_01</td>\n",
       "      <td>False</td>\n",
       "    </tr>\n",
       "    <tr>\n",
       "      <th>2</th>\n",
       "      <td>0019_01</td>\n",
       "      <td>True</td>\n",
       "    </tr>\n",
       "    <tr>\n",
       "      <th>3</th>\n",
       "      <td>0021_01</td>\n",
       "      <td>True</td>\n",
       "    </tr>\n",
       "    <tr>\n",
       "      <th>4</th>\n",
       "      <td>0023_01</td>\n",
       "      <td>True</td>\n",
       "    </tr>\n",
       "  </tbody>\n",
       "</table>\n",
       "</div>"
      ],
      "text/plain": [
       "  PassengerId  Transported\n",
       "0     0013_01         True\n",
       "1     0018_01        False\n",
       "2     0019_01         True\n",
       "3     0021_01         True\n",
       "4     0023_01         True"
      ]
     },
     "execution_count": 56,
     "metadata": {},
     "output_type": "execute_result"
    }
   ],
   "source": [
    "\"\"\"\n",
    "test_preds = LGBM.predict(test_data.to_numpy())\n",
    "sample_submission['Transported'] = test_preds.astype(\"bool\")\n",
    "sample_submission.to_csv(\"submission.csv\",index=False)\n",
    "sample_submission.head()\n",
    "\"\"\"\n",
    "\n",
    "# Round predictions to nearest integer\n",
    "preds=np.round(preds).astype(bool)\n",
    "sample_submission['Transported'] = preds\n",
    "sample_submission.to_csv(\"submission.csv\",index=False)\n",
    "sample_submission.head()"
   ]
  }
 ],
 "metadata": {
  "kernelspec": {
   "display_name": "Python 3",
   "language": "python",
   "name": "python3"
  },
  "language_info": {
   "codemirror_mode": {
    "name": "ipython",
    "version": 3
   },
   "file_extension": ".py",
   "mimetype": "text/x-python",
   "name": "python",
   "nbconvert_exporter": "python",
   "pygments_lexer": "ipython3",
   "version": "3.7.12"
  },
  "papermill": {
   "default_parameters": {},
   "duration": 126.504771,
   "end_time": "2022-04-05T08:45:41.398711",
   "environment_variables": {},
   "exception": null,
   "input_path": "__notebook__.ipynb",
   "output_path": "__notebook__.ipynb",
   "parameters": {},
   "start_time": "2022-04-05T08:43:34.893940",
   "version": "2.3.3"
  }
 },
 "nbformat": 4,
 "nbformat_minor": 5
}
