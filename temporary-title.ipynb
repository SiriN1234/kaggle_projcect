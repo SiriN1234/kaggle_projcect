{
 "cells": [
  {
   "cell_type": "code",
   "execution_count": 1,
   "id": "b64f4013",
   "metadata": {
    "_cell_guid": "b1076dfc-b9ad-4769-8c92-a6c4dae69d19",
    "_uuid": "8f2839f25d086af736a60e9eeb907d3b93b6e0e5",
    "execution": {
     "iopub.execute_input": "2022-04-03T13:12:52.188654Z",
     "iopub.status.busy": "2022-04-03T13:12:52.184175Z",
     "iopub.status.idle": "2022-04-03T13:12:52.194649Z",
     "shell.execute_reply": "2022-04-03T13:12:52.193901Z",
     "shell.execute_reply.started": "2022-04-02T13:10:03.597196Z"
    },
    "papermill": {
     "duration": 0.09094,
     "end_time": "2022-04-03T13:12:52.194820",
     "exception": false,
     "start_time": "2022-04-03T13:12:52.103880",
     "status": "completed"
    },
    "tags": []
   },
   "outputs": [
    {
     "name": "stdout",
     "output_type": "stream",
     "text": [
      "/kaggle/input/spaceship-titanic/sample_submission.csv\n",
      "/kaggle/input/spaceship-titanic/train.csv\n",
      "/kaggle/input/spaceship-titanic/test.csv\n"
     ]
    }
   ],
   "source": [
    "# This Python 3 environment comes with many helpful analytics libraries installed\n",
    "# It is defined by the kaggle/python Docker image: https://github.com/kaggle/docker-python\n",
    "# For example, here's several helpful packages to load\n",
    "\n",
    "import numpy as np # linear algebra\n",
    "import pandas as pd # data processing, CSV file I/O (e.g. pd.read_csv)\n",
    "\n",
    "# Input data files are available in the read-only \"../input/\" directory\n",
    "# For example, running this (by clicking run or pressing Shift+Enter) will list all files under the input directory\n",
    "\n",
    "import os\n",
    "for dirname, _, filenames in os.walk('/kaggle/input'):\n",
    "    for filename in filenames:\n",
    "        print(os.path.join(dirname, filename))\n",
    "\n",
    "# You can write up to 20GB to the current directory (/kaggle/working/) that gets preserved as output when you create a version using \"Save & Run All\" \n",
    "# You can also write temporary files to /kaggle/temp/, but they won't be saved outside of the current session"
   ]
  },
  {
   "cell_type": "markdown",
   "id": "b21958cb",
   "metadata": {
    "papermill": {
     "duration": 0.055417,
     "end_time": "2022-04-03T13:12:52.308606",
     "exception": false,
     "start_time": "2022-04-03T13:12:52.253189",
     "status": "completed"
    },
    "tags": []
   },
   "source": [
    "# File and Data Field Descriptions\n",
    "\n",
    "- train.csv - Personal records for about two-thirds (~8700) of the passengers, to be used as training data.\n",
    "    - PassengerId - A unique Id for each passenger. Each Id takes the form gggg_pp where gggg indicates a group the passenger is travelling with and pp is their number within the group. People in a group are often family members, but not always.\n",
    "    - HomePlanet - The planet the passenger departed from, typically their planet of permanent residence.\n",
    "    - CryoSleep - Indicates whether the passenger elected to be put into suspended animation for the duration of the voyage. Passengers in cryosleep are confined to their cabins.\n",
    "    - Cabin - The cabin number where the passenger is staying. Takes the form deck/num/side, where side can be either P for Port or S for Starboard.\n",
    "    - Destination - The planet the passenger will be debarking to.\n",
    "    - Age - The age of the passenger.\n",
    "    - VIP - Whether the passenger has paid for special VIP service during the voyage.\n",
    "    - RoomService, FoodCourt, ShoppingMall, Spa, VRDeck - Amount the passenger has billed at each of the Spaceship Titanic's many luxury amenities.\n",
    "    - Name - The first and last names of the passenger.\n",
    "    - Transported - Whether the passenger was transported to another dimension. This is the target, the column you are trying to predict.\n",
    "- test.csv - Personal records for the remaining one-third (~4300) of the passengers, to be used as test data. Your task is to predict the value of Transported for the passengers in this set.\n",
    "- sample_submission.csv - A submission file in the correct format.\n",
    "    - PassengerId - Id for each passenger in the test set.\n",
    "    - Transported - The target. For each passenger, predict either True or False."
   ]
  },
  {
   "cell_type": "markdown",
   "id": "55d0426d",
   "metadata": {
    "papermill": {
     "duration": 0.055978,
     "end_time": "2022-04-03T13:12:52.420161",
     "exception": false,
     "start_time": "2022-04-03T13:12:52.364183",
     "status": "completed"
    },
    "tags": []
   },
   "source": [
    "# 파일 및 데이터 필드 설명\n",
    "- train.csv - 승객의 약 3분의 2(~8700)에 대한 개인 기록으로, 훈련 데이터로 사용됩니다.\n",
    "    - PassengerId - 각 승객의 고유 ID입니다. 각 ID는 ggg_pp 형식을 취하며, 여기서 ggg는 승객이 함께 여행하는 그룹을 나타내며, pp는 그룹 내 번호를 나타냅니다. 그룹의 사람들은 종종 가족 구성원이지만 항상 그렇지는 않다.\n",
    "    - HomePlanet - 승객이 출발한 행성으로, 일반적으로 영구 거주지 행성입니다.\n",
    "    - CryoSleep - 승객이 항해가 진행되는 동안 일시 정지 애니메이션으로 전환되도록 선택했는지 여부를 나타냅니다. 저온 수면 중인 승객들은 객실에 갇히게 된다.\n",
    "    - 객실 - 승객이 머물고 있는 객실 번호입니다. 갑판/번호/측면 형식을 취합니다. 여기서 측면은 좌현에 P 또는 우현에 S가 될 수 있습니다.\n",
    "    - 목적지 - 승객이 주차를 해제할 행성입니다.\n",
    "    - 연령 - 승객의 연령입니다.\n",
    "    - VIP - 승객이 여행 중 특별 VIP 서비스에 비용을 지불했는지 여부\n",
    "    - 룸 서비스, 푸드 코트, 쇼핑 몰, 스파, VRDeck - 승객이 우주선 타이타닉의 많은 고급 편의 시설 각각에서 청구한 금액입니다.\n",
    "    - 이름 - 승객의 이름과 성.\n",
    "    - 운송됨 - 승객이 다른 차원으로 운송되었는지 여부. 예측하려는 대상 열입니다.\n",
    "- test.csv - 테스트 데이터로 사용되는 나머지 승객의 1/3(~4300)에 대한 개인 기록. 작업은 이 세트의 승객에 대한 운송 값을 예측하는 것입니다.\n",
    "- sample_submission.csv - 올바른 형식의 송신 파일.\n",
    "    - PassengerId - 테스트 세트에 포함된 각 승객의 ID입니다.\n",
    "    - Transported - 타겟. 각 승객에 대해 참 또는 거짓을 예측합니다."
   ]
  },
  {
   "cell_type": "markdown",
   "id": "0849eb16",
   "metadata": {
    "papermill": {
     "duration": 0.055155,
     "end_time": "2022-04-03T13:12:52.530729",
     "exception": false,
     "start_time": "2022-04-03T13:12:52.475574",
     "status": "completed"
    },
    "tags": []
   },
   "source": [
    "## Imports\n",
    "\n",
    "### **Installing LazyPredict :**\n",
    "\n",
    "Check the offical Documentation of LazyPredict here : https://lazypredict.readthedocs.io"
   ]
  },
  {
   "cell_type": "code",
   "execution_count": 2,
   "id": "1f9d5bfa",
   "metadata": {
    "execution": {
     "iopub.execute_input": "2022-04-03T13:12:52.644764Z",
     "iopub.status.busy": "2022-04-03T13:12:52.644001Z",
     "iopub.status.idle": "2022-04-03T13:13:03.620807Z",
     "shell.execute_reply": "2022-04-03T13:13:03.620048Z",
     "shell.execute_reply.started": "2022-04-03T12:50:44.096836Z"
    },
    "papermill": {
     "duration": 11.035339,
     "end_time": "2022-04-03T13:13:03.620973",
     "exception": false,
     "start_time": "2022-04-03T13:12:52.585634",
     "status": "completed"
    },
    "tags": []
   },
   "outputs": [],
   "source": [
    "from IPython.display import clear_output\n",
    "!pip3 install -U pandas #Upgrading pandas\n",
    "\n",
    "clear_output()"
   ]
  },
  {
   "cell_type": "code",
   "execution_count": 3,
   "id": "db59e56d",
   "metadata": {
    "execution": {
     "iopub.execute_input": "2022-04-03T13:13:03.741667Z",
     "iopub.status.busy": "2022-04-03T13:13:03.740906Z",
     "iopub.status.idle": "2022-04-03T13:13:06.725807Z",
     "shell.execute_reply": "2022-04-03T13:13:06.724963Z",
     "shell.execute_reply.started": "2022-04-03T13:11:23.659581Z"
    },
    "papermill": {
     "duration": 3.049051,
     "end_time": "2022-04-03T13:13:06.725983",
     "exception": false,
     "start_time": "2022-04-03T13:13:03.676932",
     "status": "completed"
    },
    "tags": []
   },
   "outputs": [
    {
     "data": {
      "text/html": [
       "<style type='text/css'>\n",
       ".datatable table.frame { margin-bottom: 0; }\n",
       ".datatable table.frame thead { border-bottom: none; }\n",
       ".datatable table.frame tr.coltypes td {  color: #FFFFFF;  line-height: 6px;  padding: 0 0.5em;}\n",
       ".datatable .bool    { background: #DDDD99; }\n",
       ".datatable .object  { background: #565656; }\n",
       ".datatable .int     { background: #5D9E5D; }\n",
       ".datatable .float   { background: #4040CC; }\n",
       ".datatable .str     { background: #CC4040; }\n",
       ".datatable .time    { background: #40CC40; }\n",
       ".datatable .row_index {  background: var(--jp-border-color3);  border-right: 1px solid var(--jp-border-color0);  color: var(--jp-ui-font-color3);  font-size: 9px;}\n",
       ".datatable .frame tbody td { text-align: left; }\n",
       ".datatable .frame tr.coltypes .row_index {  background: var(--jp-border-color0);}\n",
       ".datatable th:nth-child(2) { padding-left: 12px; }\n",
       ".datatable .hellipsis {  color: var(--jp-cell-editor-border-color);}\n",
       ".datatable .vellipsis {  background: var(--jp-layout-color0);  color: var(--jp-cell-editor-border-color);}\n",
       ".datatable .na {  color: var(--jp-cell-editor-border-color);  font-size: 80%;}\n",
       ".datatable .sp {  opacity: 0.25;}\n",
       ".datatable .footer { font-size: 9px; }\n",
       ".datatable .frame_dimensions {  background: var(--jp-border-color3);  border-top: 1px solid var(--jp-border-color0);  color: var(--jp-ui-font-color3);  display: inline-block;  opacity: 0.6;  padding: 1px 10px 1px 5px;}\n",
       "</style>\n"
      ],
      "text/plain": [
       "<IPython.core.display.HTML object>"
      ]
     },
     "metadata": {},
     "output_type": "display_data"
    }
   ],
   "source": [
    "import numpy as np\n",
    "import pandas as pd\n",
    "import seaborn as sns\n",
    "import plotly.express as px\n",
    "import matplotlib.pyplot as plt\n",
    "import plotly.graph_objects as go\n",
    "from plotly.subplots import make_subplots\n",
    "\n",
    "\n",
    "\n",
    "from sklearn.impute import SimpleImputer\n",
    "from sklearn.metrics import accuracy_score\n",
    "from sklearn.preprocessing import LabelEncoder\n",
    "from sklearn.model_selection import StratifiedKFold, train_test_split\n",
    "from sklearn.tree import DecisionTreeClassifier\n",
    "from sklearn.preprocessing import StandardScaler\n",
    "from sklearn.linear_model import LogisticRegression\n",
    "\n",
    "\n",
    "\n",
    "from lightgbm import LGBMClassifier\n",
    "\n",
    "import time\n",
    "import warnings\n",
    "warnings.filterwarnings('ignore')"
   ]
  },
  {
   "cell_type": "markdown",
   "id": "795f9655",
   "metadata": {
    "papermill": {
     "duration": 0.055894,
     "end_time": "2022-04-03T13:13:06.837940",
     "exception": false,
     "start_time": "2022-04-03T13:13:06.782046",
     "status": "completed"
    },
    "tags": []
   },
   "source": [
    "# Data Loading and Preparation"
   ]
  },
  {
   "cell_type": "code",
   "execution_count": 4,
   "id": "34136896",
   "metadata": {
    "execution": {
     "iopub.execute_input": "2022-04-03T13:13:06.953783Z",
     "iopub.status.busy": "2022-04-03T13:13:06.952752Z",
     "iopub.status.idle": "2022-04-03T13:13:07.044521Z",
     "shell.execute_reply": "2022-04-03T13:13:07.045092Z",
     "shell.execute_reply.started": "2022-04-03T12:56:52.423499Z"
    },
    "papermill": {
     "duration": 0.151632,
     "end_time": "2022-04-03T13:13:07.045266",
     "exception": false,
     "start_time": "2022-04-03T13:13:06.893634",
     "status": "completed"
    },
    "tags": []
   },
   "outputs": [],
   "source": [
    "train = pd.read_csv(\"/kaggle/input/spaceship-titanic/train.csv\")\n",
    "test = pd.read_csv(\"/kaggle/input/spaceship-titanic/test.csv\")\n",
    "submission = pd.read_csv(\"/kaggle/input/spaceship-titanic/sample_submission.csv\")\n",
    "\n",
    "RANDOM_STATE = 15\n",
    "FOLDS = 5\n",
    "STRATEGY = 'median'"
   ]
  },
  {
   "cell_type": "markdown",
   "id": "1a27a8d1",
   "metadata": {
    "papermill": {
     "duration": 0.055992,
     "end_time": "2022-04-03T13:13:07.158155",
     "exception": false,
     "start_time": "2022-04-03T13:13:07.102163",
     "status": "completed"
    },
    "tags": []
   },
   "source": [
    "### Exploring Train Data :\n",
    "\n",
    "📌  Observations in Train Data:\n",
    "* There are total of 14 columns and 8693 rows in train data.\n",
    "* Train data contains 119378 observation with 2324 missing values.\n",
    "* All 12 feature columns have missing values in them with CryoSleep having highest missing values (217)\n",
    "* Transported is the target variable which is only available in the train dataset."
   ]
  },
  {
   "cell_type": "markdown",
   "id": "a4e735be",
   "metadata": {
    "papermill": {
     "duration": 0.056119,
     "end_time": "2022-04-03T13:13:07.269847",
     "exception": false,
     "start_time": "2022-04-03T13:13:07.213728",
     "status": "completed"
    },
    "tags": []
   },
   "source": [
    "### 훈련 데이터 탐색:\n",
    "\n",
    "📌 훈련 데이터의 관측치:\n",
    "* 훈련 데이터에는 총 14개의 열과 8693개의 행이 있습니다.\n",
    "* 훈련 데이터에는 2324개의 결측값이 있는 119378 관측치가 포함되어 있습니다.\n",
    "* 모든 12개의 피쳐 열에 결측값이 있으며, CryoSleep은 결측값이 가장 높습니다(217).\n",
    "* Transported는 열차 데이터 집합에서만 사용할 수 있는 대상 변수입니다."
   ]
  },
  {
   "cell_type": "markdown",
   "id": "6031a7cb",
   "metadata": {
    "papermill": {
     "duration": 0.055214,
     "end_time": "2022-04-03T13:13:07.381931",
     "exception": false,
     "start_time": "2022-04-03T13:13:07.326717",
     "status": "completed"
    },
    "tags": []
   },
   "source": [
    "#### Quick view of Train Data:\n",
    "\n",
    "Below are the first 5 rows of train dataset:"
   ]
  },
  {
   "cell_type": "code",
   "execution_count": 5,
   "id": "f785bef1",
   "metadata": {
    "execution": {
     "iopub.execute_input": "2022-04-03T13:13:07.496880Z",
     "iopub.status.busy": "2022-04-03T13:13:07.495891Z",
     "iopub.status.idle": "2022-04-03T13:13:07.523710Z",
     "shell.execute_reply": "2022-04-03T13:13:07.524246Z",
     "shell.execute_reply.started": "2022-04-03T12:56:55.556720Z"
    },
    "papermill": {
     "duration": 0.08701,
     "end_time": "2022-04-03T13:13:07.524431",
     "exception": false,
     "start_time": "2022-04-03T13:13:07.437421",
     "status": "completed"
    },
    "tags": []
   },
   "outputs": [
    {
     "data": {
      "text/html": [
       "<div>\n",
       "<style scoped>\n",
       "    .dataframe tbody tr th:only-of-type {\n",
       "        vertical-align: middle;\n",
       "    }\n",
       "\n",
       "    .dataframe tbody tr th {\n",
       "        vertical-align: top;\n",
       "    }\n",
       "\n",
       "    .dataframe thead th {\n",
       "        text-align: right;\n",
       "    }\n",
       "</style>\n",
       "<table border=\"1\" class=\"dataframe\">\n",
       "  <thead>\n",
       "    <tr style=\"text-align: right;\">\n",
       "      <th></th>\n",
       "      <th>PassengerId</th>\n",
       "      <th>HomePlanet</th>\n",
       "      <th>CryoSleep</th>\n",
       "      <th>Cabin</th>\n",
       "      <th>Destination</th>\n",
       "      <th>Age</th>\n",
       "      <th>VIP</th>\n",
       "      <th>RoomService</th>\n",
       "      <th>FoodCourt</th>\n",
       "      <th>ShoppingMall</th>\n",
       "      <th>Spa</th>\n",
       "      <th>VRDeck</th>\n",
       "      <th>Name</th>\n",
       "      <th>Transported</th>\n",
       "    </tr>\n",
       "  </thead>\n",
       "  <tbody>\n",
       "    <tr>\n",
       "      <th>0</th>\n",
       "      <td>0001_01</td>\n",
       "      <td>Europa</td>\n",
       "      <td>False</td>\n",
       "      <td>B/0/P</td>\n",
       "      <td>TRAPPIST-1e</td>\n",
       "      <td>39.0</td>\n",
       "      <td>False</td>\n",
       "      <td>0.0</td>\n",
       "      <td>0.0</td>\n",
       "      <td>0.0</td>\n",
       "      <td>0.0</td>\n",
       "      <td>0.0</td>\n",
       "      <td>Maham Ofracculy</td>\n",
       "      <td>False</td>\n",
       "    </tr>\n",
       "    <tr>\n",
       "      <th>1</th>\n",
       "      <td>0002_01</td>\n",
       "      <td>Earth</td>\n",
       "      <td>False</td>\n",
       "      <td>F/0/S</td>\n",
       "      <td>TRAPPIST-1e</td>\n",
       "      <td>24.0</td>\n",
       "      <td>False</td>\n",
       "      <td>109.0</td>\n",
       "      <td>9.0</td>\n",
       "      <td>25.0</td>\n",
       "      <td>549.0</td>\n",
       "      <td>44.0</td>\n",
       "      <td>Juanna Vines</td>\n",
       "      <td>True</td>\n",
       "    </tr>\n",
       "    <tr>\n",
       "      <th>2</th>\n",
       "      <td>0003_01</td>\n",
       "      <td>Europa</td>\n",
       "      <td>False</td>\n",
       "      <td>A/0/S</td>\n",
       "      <td>TRAPPIST-1e</td>\n",
       "      <td>58.0</td>\n",
       "      <td>True</td>\n",
       "      <td>43.0</td>\n",
       "      <td>3576.0</td>\n",
       "      <td>0.0</td>\n",
       "      <td>6715.0</td>\n",
       "      <td>49.0</td>\n",
       "      <td>Altark Susent</td>\n",
       "      <td>False</td>\n",
       "    </tr>\n",
       "    <tr>\n",
       "      <th>3</th>\n",
       "      <td>0003_02</td>\n",
       "      <td>Europa</td>\n",
       "      <td>False</td>\n",
       "      <td>A/0/S</td>\n",
       "      <td>TRAPPIST-1e</td>\n",
       "      <td>33.0</td>\n",
       "      <td>False</td>\n",
       "      <td>0.0</td>\n",
       "      <td>1283.0</td>\n",
       "      <td>371.0</td>\n",
       "      <td>3329.0</td>\n",
       "      <td>193.0</td>\n",
       "      <td>Solam Susent</td>\n",
       "      <td>False</td>\n",
       "    </tr>\n",
       "    <tr>\n",
       "      <th>4</th>\n",
       "      <td>0004_01</td>\n",
       "      <td>Earth</td>\n",
       "      <td>False</td>\n",
       "      <td>F/1/S</td>\n",
       "      <td>TRAPPIST-1e</td>\n",
       "      <td>16.0</td>\n",
       "      <td>False</td>\n",
       "      <td>303.0</td>\n",
       "      <td>70.0</td>\n",
       "      <td>151.0</td>\n",
       "      <td>565.0</td>\n",
       "      <td>2.0</td>\n",
       "      <td>Willy Santantines</td>\n",
       "      <td>True</td>\n",
       "    </tr>\n",
       "  </tbody>\n",
       "</table>\n",
       "</div>"
      ],
      "text/plain": [
       "  PassengerId HomePlanet CryoSleep  Cabin  Destination   Age    VIP  \\\n",
       "0     0001_01     Europa     False  B/0/P  TRAPPIST-1e  39.0  False   \n",
       "1     0002_01      Earth     False  F/0/S  TRAPPIST-1e  24.0  False   \n",
       "2     0003_01     Europa     False  A/0/S  TRAPPIST-1e  58.0   True   \n",
       "3     0003_02     Europa     False  A/0/S  TRAPPIST-1e  33.0  False   \n",
       "4     0004_01      Earth     False  F/1/S  TRAPPIST-1e  16.0  False   \n",
       "\n",
       "   RoomService  FoodCourt  ShoppingMall     Spa  VRDeck               Name  \\\n",
       "0          0.0        0.0           0.0     0.0     0.0    Maham Ofracculy   \n",
       "1        109.0        9.0          25.0   549.0    44.0       Juanna Vines   \n",
       "2         43.0     3576.0           0.0  6715.0    49.0      Altark Susent   \n",
       "3          0.0     1283.0         371.0  3329.0   193.0       Solam Susent   \n",
       "4        303.0       70.0         151.0   565.0     2.0  Willy Santantines   \n",
       "\n",
       "   Transported  \n",
       "0        False  \n",
       "1         True  \n",
       "2        False  \n",
       "3        False  \n",
       "4         True  "
      ]
     },
     "execution_count": 5,
     "metadata": {},
     "output_type": "execute_result"
    }
   ],
   "source": [
    "train.head()"
   ]
  },
  {
   "cell_type": "code",
   "execution_count": 6,
   "id": "f37c6d7d",
   "metadata": {
    "execution": {
     "iopub.execute_input": "2022-04-03T13:13:07.641711Z",
     "iopub.status.busy": "2022-04-03T13:13:07.640718Z",
     "iopub.status.idle": "2022-04-03T13:13:07.667450Z",
     "shell.execute_reply": "2022-04-03T13:13:07.668430Z",
     "shell.execute_reply.started": "2022-04-03T12:56:57.209206Z"
    },
    "papermill": {
     "duration": 0.087175,
     "end_time": "2022-04-03T13:13:07.668683",
     "exception": false,
     "start_time": "2022-04-03T13:13:07.581508",
     "status": "completed"
    },
    "tags": []
   },
   "outputs": [
    {
     "name": "stdout",
     "output_type": "stream",
     "text": [
      "\u001b[94mNumber of rows in train data: 8693\n",
      "\u001b[94mNumber of columns in train data: 14\n",
      "\u001b[94mNumber of vlues in train data: 119378\n",
      "\u001b[94mNumber missing values in train data: 2324\n"
     ]
    }
   ],
   "source": [
    "print(f'\\033[94mNumber of rows in train data: {train.shape[0]}')\n",
    "print(f'\\033[94mNumber of columns in train data: {train.shape[1]}')\n",
    "print(f'\\033[94mNumber of vlues in train data: {train.count().sum()}')\n",
    "print(f'\\033[94mNumber missing values in train data: {sum(train.isna().sum())}')"
   ]
  },
  {
   "cell_type": "markdown",
   "id": "8b3496c8",
   "metadata": {
    "papermill": {
     "duration": 0.058042,
     "end_time": "2022-04-03T13:13:07.785630",
     "exception": false,
     "start_time": "2022-04-03T13:13:07.727588",
     "status": "completed"
    },
    "tags": []
   },
   "source": [
    "#### Column Wise missing values:"
   ]
  },
  {
   "cell_type": "code",
   "execution_count": 7,
   "id": "f56cab57",
   "metadata": {
    "execution": {
     "iopub.execute_input": "2022-04-03T13:13:07.914862Z",
     "iopub.status.busy": "2022-04-03T13:13:07.913852Z",
     "iopub.status.idle": "2022-04-03T13:13:07.920062Z",
     "shell.execute_reply": "2022-04-03T13:13:07.921305Z",
     "shell.execute_reply.started": "2022-04-03T12:57:00.311711Z"
    },
    "papermill": {
     "duration": 0.077182,
     "end_time": "2022-04-03T13:13:07.921556",
     "exception": false,
     "start_time": "2022-04-03T13:13:07.844374",
     "status": "completed"
    },
    "tags": []
   },
   "outputs": [
    {
     "name": "stdout",
     "output_type": "stream",
     "text": [
      "\u001b[94m\n",
      "CryoSleep       217\n",
      "ShoppingMall    208\n",
      "VIP             203\n",
      "HomePlanet      201\n",
      "Name            200\n",
      "Cabin           199\n",
      "VRDeck          188\n",
      "FoodCourt       183\n",
      "Spa             183\n",
      "Destination     182\n",
      "RoomService     181\n",
      "Age             179\n",
      "PassengerId       0\n",
      "Transported       0\n",
      "dtype: int64\n"
     ]
    }
   ],
   "source": [
    "print(f'\\033[94m')\n",
    "print(train.isna().sum().sort_values(ascending = False))"
   ]
  },
  {
   "cell_type": "markdown",
   "id": "019d9075",
   "metadata": {
    "papermill": {
     "duration": 0.058631,
     "end_time": "2022-04-03T13:13:08.038407",
     "exception": false,
     "start_time": "2022-04-03T13:13:07.979776",
     "status": "completed"
    },
    "tags": []
   },
   "source": []
  },
  {
   "cell_type": "markdown",
   "id": "c2e9a80f",
   "metadata": {
    "papermill": {
     "duration": 0.057382,
     "end_time": "2022-04-03T13:13:08.154682",
     "exception": false,
     "start_time": "2022-04-03T13:13:08.097300",
     "status": "completed"
    },
    "tags": []
   },
   "source": [
    "- 결측치 / 변수타입 확인"
   ]
  },
  {
   "cell_type": "code",
   "execution_count": 8,
   "id": "8f169fb9",
   "metadata": {
    "execution": {
     "iopub.execute_input": "2022-04-03T13:13:08.282076Z",
     "iopub.status.busy": "2022-04-03T13:13:08.281044Z",
     "iopub.status.idle": "2022-04-03T13:13:08.302597Z",
     "shell.execute_reply": "2022-04-03T13:13:08.303630Z",
     "shell.execute_reply.started": "2022-04-03T12:57:04.286846Z"
    },
    "papermill": {
     "duration": 0.091863,
     "end_time": "2022-04-03T13:13:08.303955",
     "exception": false,
     "start_time": "2022-04-03T13:13:08.212092",
     "status": "completed"
    },
    "tags": []
   },
   "outputs": [
    {
     "name": "stdout",
     "output_type": "stream",
     "text": [
      "<class 'pandas.core.frame.DataFrame'>\n",
      "RangeIndex: 8693 entries, 0 to 8692\n",
      "Data columns (total 14 columns):\n",
      " #   Column        Non-Null Count  Dtype  \n",
      "---  ------        --------------  -----  \n",
      " 0   PassengerId   8693 non-null   object \n",
      " 1   HomePlanet    8492 non-null   object \n",
      " 2   CryoSleep     8476 non-null   object \n",
      " 3   Cabin         8494 non-null   object \n",
      " 4   Destination   8511 non-null   object \n",
      " 5   Age           8514 non-null   float64\n",
      " 6   VIP           8490 non-null   object \n",
      " 7   RoomService   8512 non-null   float64\n",
      " 8   FoodCourt     8510 non-null   float64\n",
      " 9   ShoppingMall  8485 non-null   float64\n",
      " 10  Spa           8510 non-null   float64\n",
      " 11  VRDeck        8505 non-null   float64\n",
      " 12  Name          8493 non-null   object \n",
      " 13  Transported   8693 non-null   bool   \n",
      "dtypes: bool(1), float64(6), object(7)\n",
      "memory usage: 891.5+ KB\n"
     ]
    }
   ],
   "source": [
    "train.info()"
   ]
  },
  {
   "cell_type": "markdown",
   "id": "d8b727a9",
   "metadata": {
    "papermill": {
     "duration": 0.057215,
     "end_time": "2022-04-03T13:13:08.420729",
     "exception": false,
     "start_time": "2022-04-03T13:13:08.363514",
     "status": "completed"
    },
    "tags": []
   },
   "source": [
    "#### Basic statistics of training data:\n",
    "\n",
    "Below is the basic statistics for each variables which contain information on count, mean, standard deviation, minimum, 1st quartile, median, 3rd quartile and maximum."
   ]
  },
  {
   "cell_type": "code",
   "execution_count": 9,
   "id": "8890a6e9",
   "metadata": {
    "execution": {
     "iopub.execute_input": "2022-04-03T13:13:08.542224Z",
     "iopub.status.busy": "2022-04-03T13:13:08.540033Z",
     "iopub.status.idle": "2022-04-03T13:13:08.571240Z",
     "shell.execute_reply": "2022-04-03T13:13:08.571771Z",
     "shell.execute_reply.started": "2022-04-03T12:57:07.228891Z"
    },
    "papermill": {
     "duration": 0.0937,
     "end_time": "2022-04-03T13:13:08.571945",
     "exception": false,
     "start_time": "2022-04-03T13:13:08.478245",
     "status": "completed"
    },
    "tags": []
   },
   "outputs": [
    {
     "data": {
      "text/html": [
       "<div>\n",
       "<style scoped>\n",
       "    .dataframe tbody tr th:only-of-type {\n",
       "        vertical-align: middle;\n",
       "    }\n",
       "\n",
       "    .dataframe tbody tr th {\n",
       "        vertical-align: top;\n",
       "    }\n",
       "\n",
       "    .dataframe thead th {\n",
       "        text-align: right;\n",
       "    }\n",
       "</style>\n",
       "<table border=\"1\" class=\"dataframe\">\n",
       "  <thead>\n",
       "    <tr style=\"text-align: right;\">\n",
       "      <th></th>\n",
       "      <th>Age</th>\n",
       "      <th>RoomService</th>\n",
       "      <th>FoodCourt</th>\n",
       "      <th>ShoppingMall</th>\n",
       "      <th>Spa</th>\n",
       "      <th>VRDeck</th>\n",
       "    </tr>\n",
       "  </thead>\n",
       "  <tbody>\n",
       "    <tr>\n",
       "      <th>count</th>\n",
       "      <td>8514.000000</td>\n",
       "      <td>8512.000000</td>\n",
       "      <td>8510.000000</td>\n",
       "      <td>8485.000000</td>\n",
       "      <td>8510.000000</td>\n",
       "      <td>8505.000000</td>\n",
       "    </tr>\n",
       "    <tr>\n",
       "      <th>mean</th>\n",
       "      <td>28.827930</td>\n",
       "      <td>224.687617</td>\n",
       "      <td>458.077203</td>\n",
       "      <td>173.729169</td>\n",
       "      <td>311.138778</td>\n",
       "      <td>304.854791</td>\n",
       "    </tr>\n",
       "    <tr>\n",
       "      <th>std</th>\n",
       "      <td>14.489021</td>\n",
       "      <td>666.717663</td>\n",
       "      <td>1611.489240</td>\n",
       "      <td>604.696458</td>\n",
       "      <td>1136.705535</td>\n",
       "      <td>1145.717189</td>\n",
       "    </tr>\n",
       "    <tr>\n",
       "      <th>min</th>\n",
       "      <td>0.000000</td>\n",
       "      <td>0.000000</td>\n",
       "      <td>0.000000</td>\n",
       "      <td>0.000000</td>\n",
       "      <td>0.000000</td>\n",
       "      <td>0.000000</td>\n",
       "    </tr>\n",
       "    <tr>\n",
       "      <th>25%</th>\n",
       "      <td>19.000000</td>\n",
       "      <td>0.000000</td>\n",
       "      <td>0.000000</td>\n",
       "      <td>0.000000</td>\n",
       "      <td>0.000000</td>\n",
       "      <td>0.000000</td>\n",
       "    </tr>\n",
       "    <tr>\n",
       "      <th>50%</th>\n",
       "      <td>27.000000</td>\n",
       "      <td>0.000000</td>\n",
       "      <td>0.000000</td>\n",
       "      <td>0.000000</td>\n",
       "      <td>0.000000</td>\n",
       "      <td>0.000000</td>\n",
       "    </tr>\n",
       "    <tr>\n",
       "      <th>75%</th>\n",
       "      <td>38.000000</td>\n",
       "      <td>47.000000</td>\n",
       "      <td>76.000000</td>\n",
       "      <td>27.000000</td>\n",
       "      <td>59.000000</td>\n",
       "      <td>46.000000</td>\n",
       "    </tr>\n",
       "    <tr>\n",
       "      <th>max</th>\n",
       "      <td>79.000000</td>\n",
       "      <td>14327.000000</td>\n",
       "      <td>29813.000000</td>\n",
       "      <td>23492.000000</td>\n",
       "      <td>22408.000000</td>\n",
       "      <td>24133.000000</td>\n",
       "    </tr>\n",
       "  </tbody>\n",
       "</table>\n",
       "</div>"
      ],
      "text/plain": [
       "               Age   RoomService     FoodCourt  ShoppingMall           Spa  \\\n",
       "count  8514.000000   8512.000000   8510.000000   8485.000000   8510.000000   \n",
       "mean     28.827930    224.687617    458.077203    173.729169    311.138778   \n",
       "std      14.489021    666.717663   1611.489240    604.696458   1136.705535   \n",
       "min       0.000000      0.000000      0.000000      0.000000      0.000000   \n",
       "25%      19.000000      0.000000      0.000000      0.000000      0.000000   \n",
       "50%      27.000000      0.000000      0.000000      0.000000      0.000000   \n",
       "75%      38.000000     47.000000     76.000000     27.000000     59.000000   \n",
       "max      79.000000  14327.000000  29813.000000  23492.000000  22408.000000   \n",
       "\n",
       "             VRDeck  \n",
       "count   8505.000000  \n",
       "mean     304.854791  \n",
       "std     1145.717189  \n",
       "min        0.000000  \n",
       "25%        0.000000  \n",
       "50%        0.000000  \n",
       "75%       46.000000  \n",
       "max    24133.000000  "
      ]
     },
     "execution_count": 9,
     "metadata": {},
     "output_type": "execute_result"
    }
   ],
   "source": [
    "train.describe()"
   ]
  },
  {
   "cell_type": "markdown",
   "id": "5b36bfe7",
   "metadata": {
    "papermill": {
     "duration": 0.059508,
     "end_time": "2022-04-03T13:13:08.689872",
     "exception": false,
     "start_time": "2022-04-03T13:13:08.630364",
     "status": "completed"
    },
    "tags": []
   },
   "source": [
    "- 스케일이 달라서 표준화가 필요함"
   ]
  },
  {
   "cell_type": "code",
   "execution_count": 10,
   "id": "d00083a8",
   "metadata": {
    "execution": {
     "iopub.execute_input": "2022-04-03T13:13:08.811811Z",
     "iopub.status.busy": "2022-04-03T13:13:08.810812Z",
     "iopub.status.idle": "2022-04-03T13:13:08.818218Z",
     "shell.execute_reply": "2022-04-03T13:13:08.818784Z",
     "shell.execute_reply.started": "2022-04-03T13:04:28.112331Z"
    },
    "papermill": {
     "duration": 0.06993,
     "end_time": "2022-04-03T13:13:08.818955",
     "exception": false,
     "start_time": "2022-04-03T13:13:08.749025",
     "status": "completed"
    },
    "tags": []
   },
   "outputs": [
    {
     "name": "stdout",
     "output_type": "stream",
     "text": [
      "(8693, 6) (8693,)\n"
     ]
    }
   ],
   "source": [
    "space_input = train[['Age', 'RoomService', 'FoodCourt', 'ShoppingMall', 'Spa', 'VRDeck']].to_numpy()\n",
    "space_target = train['Transported'].to_numpy()\n",
    "\n",
    "print(space_input.shape, space_target.shape)"
   ]
  },
  {
   "cell_type": "markdown",
   "id": "aa733caa",
   "metadata": {
    "papermill": {
     "duration": 0.058794,
     "end_time": "2022-04-03T13:13:08.938583",
     "exception": false,
     "start_time": "2022-04-03T13:13:08.879789",
     "status": "completed"
    },
    "tags": []
   },
   "source": [
    "- 검증세트 만들기"
   ]
  },
  {
   "cell_type": "code",
   "execution_count": 11,
   "id": "167108be",
   "metadata": {
    "execution": {
     "iopub.execute_input": "2022-04-03T13:13:09.060808Z",
     "iopub.status.busy": "2022-04-03T13:13:09.059806Z",
     "iopub.status.idle": "2022-04-03T13:13:09.068202Z",
     "shell.execute_reply": "2022-04-03T13:13:09.067681Z",
     "shell.execute_reply.started": "2022-04-03T13:08:17.255682Z"
    },
    "papermill": {
     "duration": 0.070908,
     "end_time": "2022-04-03T13:13:09.068351",
     "exception": false,
     "start_time": "2022-04-03T13:13:08.997443",
     "status": "completed"
    },
    "tags": []
   },
   "outputs": [
    {
     "name": "stdout",
     "output_type": "stream",
     "text": [
      "(6954, 6) (1739, 6) (8693, 6)\n"
     ]
    }
   ],
   "source": [
    "sub_input, val_input, sub_target, val_target = train_test_split(\n",
    "    space_input, space_target, test_size = 0.2, random_state = 42\n",
    ")\n",
    "\n",
    "print(sub_input.shape, val_input.shape, space_input.shape)"
   ]
  },
  {
   "cell_type": "code",
   "execution_count": 12,
   "id": "b3f629e4",
   "metadata": {
    "execution": {
     "iopub.execute_input": "2022-04-03T13:13:09.191967Z",
     "iopub.status.busy": "2022-04-03T13:13:09.191187Z",
     "iopub.status.idle": "2022-04-03T13:13:09.197288Z",
     "shell.execute_reply": "2022-04-03T13:13:09.196775Z",
     "shell.execute_reply.started": "2022-04-03T13:10:34.746741Z"
    },
    "papermill": {
     "duration": 0.069887,
     "end_time": "2022-04-03T13:13:09.197455",
     "exception": false,
     "start_time": "2022-04-03T13:13:09.127568",
     "status": "completed"
    },
    "tags": []
   },
   "outputs": [],
   "source": [
    "ss = StandardScaler()\n",
    "ss.fit(sub_input)\n",
    "train_scaled = ss.transform(sub_input)\n",
    "test_scaled = ss.transform(val_input)"
   ]
  },
  {
   "cell_type": "markdown",
   "id": "613571c8",
   "metadata": {
    "papermill": {
     "duration": 0.058957,
     "end_time": "2022-04-03T13:13:09.315612",
     "exception": false,
     "start_time": "2022-04-03T13:13:09.256655",
     "status": "completed"
    },
    "tags": []
   },
   "source": [
    "### Exploring Test Data\n",
    "\n",
    "📌  Observations in Test Data:\n",
    "* There are total of 13 columns and 4277 rows in test data.\n",
    "* Train data contains 54484 observation with 1117 missing values.\n",
    "* All 12 feature columns have missing values in them with FoodCourt having highest missing values (106)"
   ]
  },
  {
   "cell_type": "markdown",
   "id": "1b7a25e9",
   "metadata": {
    "papermill": {
     "duration": 0.058757,
     "end_time": "2022-04-03T13:13:09.433221",
     "exception": false,
     "start_time": "2022-04-03T13:13:09.374464",
     "status": "completed"
    },
    "tags": []
   },
   "source": [
    "### 테스트 데이터 탐색\n",
    "\n",
    "📌 테스트 데이터의 관측치:\n",
    "* 테스트 데이터에는 총 13개의 열과 4277개의 행이 있습니다.\n",
    "* 훈련 데이터에는 결측값이 1117개인 54484개의 관측치가 포함되어 있습니다.\n",
    "* 모든 12개 피쳐 열에 결측값이 있으며 FoodCourt의 결측값이 가장 높습니다(106)."
   ]
  },
  {
   "cell_type": "markdown",
   "id": "480d0cfe",
   "metadata": {
    "papermill": {
     "duration": 0.059709,
     "end_time": "2022-04-03T13:13:09.552363",
     "exception": false,
     "start_time": "2022-04-03T13:13:09.492654",
     "status": "completed"
    },
    "tags": []
   },
   "source": [
    "#### Quick view of Test Data"
   ]
  },
  {
   "cell_type": "code",
   "execution_count": 13,
   "id": "aa409b9c",
   "metadata": {
    "execution": {
     "iopub.execute_input": "2022-04-03T13:13:09.677636Z",
     "iopub.status.busy": "2022-04-03T13:13:09.676952Z",
     "iopub.status.idle": "2022-04-03T13:13:09.691815Z",
     "shell.execute_reply": "2022-04-03T13:13:09.692338Z",
     "shell.execute_reply.started": "2022-04-01T07:59:38.068193Z"
    },
    "papermill": {
     "duration": 0.080362,
     "end_time": "2022-04-03T13:13:09.692546",
     "exception": false,
     "start_time": "2022-04-03T13:13:09.612184",
     "status": "completed"
    },
    "tags": []
   },
   "outputs": [
    {
     "data": {
      "text/html": [
       "<div>\n",
       "<style scoped>\n",
       "    .dataframe tbody tr th:only-of-type {\n",
       "        vertical-align: middle;\n",
       "    }\n",
       "\n",
       "    .dataframe tbody tr th {\n",
       "        vertical-align: top;\n",
       "    }\n",
       "\n",
       "    .dataframe thead th {\n",
       "        text-align: right;\n",
       "    }\n",
       "</style>\n",
       "<table border=\"1\" class=\"dataframe\">\n",
       "  <thead>\n",
       "    <tr style=\"text-align: right;\">\n",
       "      <th></th>\n",
       "      <th>PassengerId</th>\n",
       "      <th>HomePlanet</th>\n",
       "      <th>CryoSleep</th>\n",
       "      <th>Cabin</th>\n",
       "      <th>Destination</th>\n",
       "      <th>Age</th>\n",
       "      <th>VIP</th>\n",
       "      <th>RoomService</th>\n",
       "      <th>FoodCourt</th>\n",
       "      <th>ShoppingMall</th>\n",
       "      <th>Spa</th>\n",
       "      <th>VRDeck</th>\n",
       "      <th>Name</th>\n",
       "    </tr>\n",
       "  </thead>\n",
       "  <tbody>\n",
       "    <tr>\n",
       "      <th>0</th>\n",
       "      <td>0013_01</td>\n",
       "      <td>Earth</td>\n",
       "      <td>True</td>\n",
       "      <td>G/3/S</td>\n",
       "      <td>TRAPPIST-1e</td>\n",
       "      <td>27.0</td>\n",
       "      <td>False</td>\n",
       "      <td>0.0</td>\n",
       "      <td>0.0</td>\n",
       "      <td>0.0</td>\n",
       "      <td>0.0</td>\n",
       "      <td>0.0</td>\n",
       "      <td>Nelly Carsoning</td>\n",
       "    </tr>\n",
       "    <tr>\n",
       "      <th>1</th>\n",
       "      <td>0018_01</td>\n",
       "      <td>Earth</td>\n",
       "      <td>False</td>\n",
       "      <td>F/4/S</td>\n",
       "      <td>TRAPPIST-1e</td>\n",
       "      <td>19.0</td>\n",
       "      <td>False</td>\n",
       "      <td>0.0</td>\n",
       "      <td>9.0</td>\n",
       "      <td>0.0</td>\n",
       "      <td>2823.0</td>\n",
       "      <td>0.0</td>\n",
       "      <td>Lerome Peckers</td>\n",
       "    </tr>\n",
       "    <tr>\n",
       "      <th>2</th>\n",
       "      <td>0019_01</td>\n",
       "      <td>Europa</td>\n",
       "      <td>True</td>\n",
       "      <td>C/0/S</td>\n",
       "      <td>55 Cancri e</td>\n",
       "      <td>31.0</td>\n",
       "      <td>False</td>\n",
       "      <td>0.0</td>\n",
       "      <td>0.0</td>\n",
       "      <td>0.0</td>\n",
       "      <td>0.0</td>\n",
       "      <td>0.0</td>\n",
       "      <td>Sabih Unhearfus</td>\n",
       "    </tr>\n",
       "    <tr>\n",
       "      <th>3</th>\n",
       "      <td>0021_01</td>\n",
       "      <td>Europa</td>\n",
       "      <td>False</td>\n",
       "      <td>C/1/S</td>\n",
       "      <td>TRAPPIST-1e</td>\n",
       "      <td>38.0</td>\n",
       "      <td>False</td>\n",
       "      <td>0.0</td>\n",
       "      <td>6652.0</td>\n",
       "      <td>0.0</td>\n",
       "      <td>181.0</td>\n",
       "      <td>585.0</td>\n",
       "      <td>Meratz Caltilter</td>\n",
       "    </tr>\n",
       "    <tr>\n",
       "      <th>4</th>\n",
       "      <td>0023_01</td>\n",
       "      <td>Earth</td>\n",
       "      <td>False</td>\n",
       "      <td>F/5/S</td>\n",
       "      <td>TRAPPIST-1e</td>\n",
       "      <td>20.0</td>\n",
       "      <td>False</td>\n",
       "      <td>10.0</td>\n",
       "      <td>0.0</td>\n",
       "      <td>635.0</td>\n",
       "      <td>0.0</td>\n",
       "      <td>0.0</td>\n",
       "      <td>Brence Harperez</td>\n",
       "    </tr>\n",
       "  </tbody>\n",
       "</table>\n",
       "</div>"
      ],
      "text/plain": [
       "  PassengerId HomePlanet CryoSleep  Cabin  Destination   Age    VIP  \\\n",
       "0     0013_01      Earth      True  G/3/S  TRAPPIST-1e  27.0  False   \n",
       "1     0018_01      Earth     False  F/4/S  TRAPPIST-1e  19.0  False   \n",
       "2     0019_01     Europa      True  C/0/S  55 Cancri e  31.0  False   \n",
       "3     0021_01     Europa     False  C/1/S  TRAPPIST-1e  38.0  False   \n",
       "4     0023_01      Earth     False  F/5/S  TRAPPIST-1e  20.0  False   \n",
       "\n",
       "   RoomService  FoodCourt  ShoppingMall     Spa  VRDeck              Name  \n",
       "0          0.0        0.0           0.0     0.0     0.0   Nelly Carsoning  \n",
       "1          0.0        9.0           0.0  2823.0     0.0    Lerome Peckers  \n",
       "2          0.0        0.0           0.0     0.0     0.0   Sabih Unhearfus  \n",
       "3          0.0     6652.0           0.0   181.0   585.0  Meratz Caltilter  \n",
       "4         10.0        0.0         635.0     0.0     0.0   Brence Harperez  "
      ]
     },
     "execution_count": 13,
     "metadata": {},
     "output_type": "execute_result"
    }
   ],
   "source": [
    "test.head()"
   ]
  },
  {
   "cell_type": "code",
   "execution_count": 14,
   "id": "84b9b466",
   "metadata": {
    "execution": {
     "iopub.execute_input": "2022-04-03T13:13:09.817774Z",
     "iopub.status.busy": "2022-04-03T13:13:09.817094Z",
     "iopub.status.idle": "2022-04-03T13:13:09.833230Z",
     "shell.execute_reply": "2022-04-03T13:13:09.833983Z",
     "shell.execute_reply.started": "2022-04-01T07:59:38.092569Z"
    },
    "papermill": {
     "duration": 0.080988,
     "end_time": "2022-04-03T13:13:09.834158",
     "exception": false,
     "start_time": "2022-04-03T13:13:09.753170",
     "status": "completed"
    },
    "tags": []
   },
   "outputs": [
    {
     "name": "stdout",
     "output_type": "stream",
     "text": [
      "\u001b[94mNumber of rows in test data: 4277\n",
      "\u001b[94mNumber of columns in test data: 13\n",
      "\u001b[94mNumber of values in train data: 54484\n",
      "\u001b[94mNo of rows with missing values  in test data: 1117\n"
     ]
    }
   ],
   "source": [
    "print(f'\\033[94mNumber of rows in test data: {test.shape[0]}')\n",
    "print(f'\\033[94mNumber of columns in test data: {test.shape[1]}')\n",
    "print(f'\\033[94mNumber of values in train data: {test.count().sum()}')\n",
    "print(f'\\033[94mNo of rows with missing values  in test data: {sum(test.isna().sum())}')"
   ]
  },
  {
   "cell_type": "markdown",
   "id": "f8a1a38b",
   "metadata": {
    "papermill": {
     "duration": 0.059711,
     "end_time": "2022-04-03T13:13:09.955425",
     "exception": false,
     "start_time": "2022-04-03T13:13:09.895714",
     "status": "completed"
    },
    "tags": []
   },
   "source": [
    "#### Column Wise missing values"
   ]
  },
  {
   "cell_type": "code",
   "execution_count": 15,
   "id": "abe93aa9",
   "metadata": {
    "execution": {
     "iopub.execute_input": "2022-04-03T13:13:10.086783Z",
     "iopub.status.busy": "2022-04-03T13:13:10.085739Z",
     "iopub.status.idle": "2022-04-03T13:13:10.095058Z",
     "shell.execute_reply": "2022-04-03T13:13:10.095967Z",
     "shell.execute_reply.started": "2022-04-01T07:59:38.114542Z"
    },
    "papermill": {
     "duration": 0.079117,
     "end_time": "2022-04-03T13:13:10.096214",
     "exception": false,
     "start_time": "2022-04-03T13:13:10.017097",
     "status": "completed"
    },
    "tags": []
   },
   "outputs": [
    {
     "name": "stdout",
     "output_type": "stream",
     "text": [
      "\u001b[94m\n",
      "FoodCourt       106\n",
      "Spa             101\n",
      "Cabin           100\n",
      "ShoppingMall     98\n",
      "Name             94\n",
      "CryoSleep        93\n",
      "VIP              93\n",
      "Destination      92\n",
      "Age              91\n",
      "HomePlanet       87\n",
      "RoomService      82\n",
      "VRDeck           80\n",
      "PassengerId       0\n",
      "dtype: int64\n"
     ]
    }
   ],
   "source": [
    "print(f'\\033[94m')\n",
    "print((test.isna().sum().sort_values(ascending = False)))"
   ]
  },
  {
   "cell_type": "markdown",
   "id": "880e75b3",
   "metadata": {
    "papermill": {
     "duration": 0.060945,
     "end_time": "2022-04-03T13:13:10.219308",
     "exception": false,
     "start_time": "2022-04-03T13:13:10.158363",
     "status": "completed"
    },
    "tags": []
   },
   "source": [
    "#### Basic statistics of test data \n",
    "\n",
    "Below is the basic statistics for each variables which contain information on count, mean, standard deviation, minimum, 1st quartile, median, 3rd quartile and maximum."
   ]
  },
  {
   "cell_type": "code",
   "execution_count": 16,
   "id": "98f83d15",
   "metadata": {
    "execution": {
     "iopub.execute_input": "2022-04-03T13:13:10.343923Z",
     "iopub.status.busy": "2022-04-03T13:13:10.343152Z",
     "iopub.status.idle": "2022-04-03T13:13:10.368607Z",
     "shell.execute_reply": "2022-04-03T13:13:10.369113Z",
     "shell.execute_reply.started": "2022-04-01T07:59:38.128314Z"
    },
    "papermill": {
     "duration": 0.089291,
     "end_time": "2022-04-03T13:13:10.369282",
     "exception": false,
     "start_time": "2022-04-03T13:13:10.279991",
     "status": "completed"
    },
    "tags": []
   },
   "outputs": [
    {
     "data": {
      "text/html": [
       "<div>\n",
       "<style scoped>\n",
       "    .dataframe tbody tr th:only-of-type {\n",
       "        vertical-align: middle;\n",
       "    }\n",
       "\n",
       "    .dataframe tbody tr th {\n",
       "        vertical-align: top;\n",
       "    }\n",
       "\n",
       "    .dataframe thead th {\n",
       "        text-align: right;\n",
       "    }\n",
       "</style>\n",
       "<table border=\"1\" class=\"dataframe\">\n",
       "  <thead>\n",
       "    <tr style=\"text-align: right;\">\n",
       "      <th></th>\n",
       "      <th>Age</th>\n",
       "      <th>RoomService</th>\n",
       "      <th>FoodCourt</th>\n",
       "      <th>ShoppingMall</th>\n",
       "      <th>Spa</th>\n",
       "      <th>VRDeck</th>\n",
       "    </tr>\n",
       "  </thead>\n",
       "  <tbody>\n",
       "    <tr>\n",
       "      <th>count</th>\n",
       "      <td>4186.000000</td>\n",
       "      <td>4195.000000</td>\n",
       "      <td>4171.000000</td>\n",
       "      <td>4179.000000</td>\n",
       "      <td>4176.000000</td>\n",
       "      <td>4197.000000</td>\n",
       "    </tr>\n",
       "    <tr>\n",
       "      <th>mean</th>\n",
       "      <td>28.658146</td>\n",
       "      <td>219.266269</td>\n",
       "      <td>439.484296</td>\n",
       "      <td>177.295525</td>\n",
       "      <td>303.052443</td>\n",
       "      <td>310.710031</td>\n",
       "    </tr>\n",
       "    <tr>\n",
       "      <th>std</th>\n",
       "      <td>14.179072</td>\n",
       "      <td>607.011289</td>\n",
       "      <td>1527.663045</td>\n",
       "      <td>560.821123</td>\n",
       "      <td>1117.186015</td>\n",
       "      <td>1246.994742</td>\n",
       "    </tr>\n",
       "    <tr>\n",
       "      <th>min</th>\n",
       "      <td>0.000000</td>\n",
       "      <td>0.000000</td>\n",
       "      <td>0.000000</td>\n",
       "      <td>0.000000</td>\n",
       "      <td>0.000000</td>\n",
       "      <td>0.000000</td>\n",
       "    </tr>\n",
       "    <tr>\n",
       "      <th>25%</th>\n",
       "      <td>19.000000</td>\n",
       "      <td>0.000000</td>\n",
       "      <td>0.000000</td>\n",
       "      <td>0.000000</td>\n",
       "      <td>0.000000</td>\n",
       "      <td>0.000000</td>\n",
       "    </tr>\n",
       "    <tr>\n",
       "      <th>50%</th>\n",
       "      <td>26.000000</td>\n",
       "      <td>0.000000</td>\n",
       "      <td>0.000000</td>\n",
       "      <td>0.000000</td>\n",
       "      <td>0.000000</td>\n",
       "      <td>0.000000</td>\n",
       "    </tr>\n",
       "    <tr>\n",
       "      <th>75%</th>\n",
       "      <td>37.000000</td>\n",
       "      <td>53.000000</td>\n",
       "      <td>78.000000</td>\n",
       "      <td>33.000000</td>\n",
       "      <td>50.000000</td>\n",
       "      <td>36.000000</td>\n",
       "    </tr>\n",
       "    <tr>\n",
       "      <th>max</th>\n",
       "      <td>79.000000</td>\n",
       "      <td>11567.000000</td>\n",
       "      <td>25273.000000</td>\n",
       "      <td>8292.000000</td>\n",
       "      <td>19844.000000</td>\n",
       "      <td>22272.000000</td>\n",
       "    </tr>\n",
       "  </tbody>\n",
       "</table>\n",
       "</div>"
      ],
      "text/plain": [
       "               Age   RoomService     FoodCourt  ShoppingMall           Spa  \\\n",
       "count  4186.000000   4195.000000   4171.000000   4179.000000   4176.000000   \n",
       "mean     28.658146    219.266269    439.484296    177.295525    303.052443   \n",
       "std      14.179072    607.011289   1527.663045    560.821123   1117.186015   \n",
       "min       0.000000      0.000000      0.000000      0.000000      0.000000   \n",
       "25%      19.000000      0.000000      0.000000      0.000000      0.000000   \n",
       "50%      26.000000      0.000000      0.000000      0.000000      0.000000   \n",
       "75%      37.000000     53.000000     78.000000     33.000000     50.000000   \n",
       "max      79.000000  11567.000000  25273.000000   8292.000000  19844.000000   \n",
       "\n",
       "             VRDeck  \n",
       "count   4197.000000  \n",
       "mean     310.710031  \n",
       "std     1246.994742  \n",
       "min        0.000000  \n",
       "25%        0.000000  \n",
       "50%        0.000000  \n",
       "75%       36.000000  \n",
       "max    22272.000000  "
      ]
     },
     "execution_count": 16,
     "metadata": {},
     "output_type": "execute_result"
    }
   ],
   "source": [
    "test.describe()"
   ]
  },
  {
   "cell_type": "markdown",
   "id": "408388c2",
   "metadata": {
    "papermill": {
     "duration": 0.060891,
     "end_time": "2022-04-03T13:13:10.492171",
     "exception": false,
     "start_time": "2022-04-03T13:13:10.431280",
     "status": "completed"
    },
    "tags": []
   },
   "source": [
    "### Submission File\n",
    "\n",
    "#### Quick view of submission File"
   ]
  },
  {
   "cell_type": "code",
   "execution_count": 17,
   "id": "cb21aa8b",
   "metadata": {
    "execution": {
     "iopub.execute_input": "2022-04-03T13:13:10.618486Z",
     "iopub.status.busy": "2022-04-03T13:13:10.617835Z",
     "iopub.status.idle": "2022-04-03T13:13:10.626271Z",
     "shell.execute_reply": "2022-04-03T13:13:10.626813Z",
     "shell.execute_reply.started": "2022-04-01T07:59:38.163605Z"
    },
    "papermill": {
     "duration": 0.073053,
     "end_time": "2022-04-03T13:13:10.626987",
     "exception": false,
     "start_time": "2022-04-03T13:13:10.553934",
     "status": "completed"
    },
    "tags": []
   },
   "outputs": [
    {
     "data": {
      "text/html": [
       "<div>\n",
       "<style scoped>\n",
       "    .dataframe tbody tr th:only-of-type {\n",
       "        vertical-align: middle;\n",
       "    }\n",
       "\n",
       "    .dataframe tbody tr th {\n",
       "        vertical-align: top;\n",
       "    }\n",
       "\n",
       "    .dataframe thead th {\n",
       "        text-align: right;\n",
       "    }\n",
       "</style>\n",
       "<table border=\"1\" class=\"dataframe\">\n",
       "  <thead>\n",
       "    <tr style=\"text-align: right;\">\n",
       "      <th></th>\n",
       "      <th>PassengerId</th>\n",
       "      <th>Transported</th>\n",
       "    </tr>\n",
       "  </thead>\n",
       "  <tbody>\n",
       "    <tr>\n",
       "      <th>0</th>\n",
       "      <td>0013_01</td>\n",
       "      <td>False</td>\n",
       "    </tr>\n",
       "    <tr>\n",
       "      <th>1</th>\n",
       "      <td>0018_01</td>\n",
       "      <td>False</td>\n",
       "    </tr>\n",
       "    <tr>\n",
       "      <th>2</th>\n",
       "      <td>0019_01</td>\n",
       "      <td>False</td>\n",
       "    </tr>\n",
       "    <tr>\n",
       "      <th>3</th>\n",
       "      <td>0021_01</td>\n",
       "      <td>False</td>\n",
       "    </tr>\n",
       "    <tr>\n",
       "      <th>4</th>\n",
       "      <td>0023_01</td>\n",
       "      <td>False</td>\n",
       "    </tr>\n",
       "  </tbody>\n",
       "</table>\n",
       "</div>"
      ],
      "text/plain": [
       "  PassengerId  Transported\n",
       "0     0013_01        False\n",
       "1     0018_01        False\n",
       "2     0019_01        False\n",
       "3     0021_01        False\n",
       "4     0023_01        False"
      ]
     },
     "execution_count": 17,
     "metadata": {},
     "output_type": "execute_result"
    }
   ],
   "source": [
    "submission.head()"
   ]
  },
  {
   "cell_type": "markdown",
   "id": "5f6581f7",
   "metadata": {
    "papermill": {
     "duration": 0.061157,
     "end_time": "2022-04-03T13:13:10.750052",
     "exception": false,
     "start_time": "2022-04-03T13:13:10.688895",
     "status": "completed"
    },
    "tags": []
   },
   "source": [
    "# EDA"
   ]
  },
  {
   "cell_type": "markdown",
   "id": "30d4b768",
   "metadata": {
    "papermill": {
     "duration": 0.061549,
     "end_time": "2022-04-03T13:13:10.873953",
     "exception": false,
     "start_time": "2022-04-03T13:13:10.812404",
     "status": "completed"
    },
    "tags": []
   },
   "source": [
    "### Overview of Data"
   ]
  },
  {
   "cell_type": "code",
   "execution_count": 18,
   "id": "d10794a9",
   "metadata": {
    "execution": {
     "iopub.execute_input": "2022-04-03T13:13:11.003323Z",
     "iopub.status.busy": "2022-04-03T13:13:11.002646Z",
     "iopub.status.idle": "2022-04-03T13:13:11.011189Z",
     "shell.execute_reply": "2022-04-03T13:13:11.011746Z",
     "shell.execute_reply.started": "2022-04-01T07:59:38.174708Z"
    },
    "papermill": {
     "duration": 0.076073,
     "end_time": "2022-04-03T13:13:11.011926",
     "exception": false,
     "start_time": "2022-04-03T13:13:10.935853",
     "status": "completed"
    },
    "tags": []
   },
   "outputs": [],
   "source": [
    "train.drop(['PassengerId'] , axis = 1 , inplace = True)\n",
    "test.drop(['PassengerId'] , axis = 1 , inplace = True)\n",
    "TARGET = 'Transported'\n",
    "FEATURES = [col for col in train.columns if col not in ['id', TARGET]]\n",
    "RANDOM_STATE = 15"
   ]
  },
  {
   "cell_type": "code",
   "execution_count": 19,
   "id": "1115afc1",
   "metadata": {
    "execution": {
     "iopub.execute_input": "2022-04-03T13:13:11.141729Z",
     "iopub.status.busy": "2022-04-03T13:13:11.141008Z",
     "iopub.status.idle": "2022-04-03T13:13:11.253687Z",
     "shell.execute_reply": "2022-04-03T13:13:11.253086Z",
     "shell.execute_reply.started": "2022-04-01T07:59:38.194097Z"
    },
    "papermill": {
     "duration": 0.177512,
     "end_time": "2022-04-03T13:13:11.253838",
     "exception": false,
     "start_time": "2022-04-03T13:13:11.076326",
     "status": "completed"
    },
    "tags": []
   },
   "outputs": [
    {
     "data": {
      "text/html": [
       "<style type=\"text/css\">\n",
       "#T_ff482_row0_col0, #T_ff482_row2_col0 {\n",
       "  background-color: #0b6cae;\n",
       "  color: #f1f1f1;\n",
       "}\n",
       "#T_ff482_row0_col1 {\n",
       "  background-color: #084081;\n",
       "  color: #f1f1f1;\n",
       "  width: 10em;\n",
       "  height: 80%;\n",
       "  background: linear-gradient(90deg,green 100.0%, transparent 100.0%);\n",
       "}\n",
       "#T_ff482_row0_col2, #T_ff482_row0_col6, #T_ff482_row5_col0, #T_ff482_row5_col4, #T_ff482_row5_col5 {\n",
       "  background-color: #084081;\n",
       "  color: #f1f1f1;\n",
       "}\n",
       "#T_ff482_row0_col3, #T_ff482_row0_col4, #T_ff482_row0_col5, #T_ff482_row1_col3, #T_ff482_row1_col4, #T_ff482_row1_col5, #T_ff482_row2_col3, #T_ff482_row2_col4, #T_ff482_row2_col5, #T_ff482_row3_col3, #T_ff482_row3_col4, #T_ff482_row3_col5, #T_ff482_row4_col0, #T_ff482_row4_col3, #T_ff482_row4_col4, #T_ff482_row4_col5, #T_ff482_row4_col6, #T_ff482_row5_col2, #T_ff482_row5_col3 {\n",
       "  background-color: #f7fcf0;\n",
       "  color: #000000;\n",
       "}\n",
       "#T_ff482_row0_col7 {\n",
       "  background-color: #084081;\n",
       "  color: #f1f1f1;\n",
       "  width: 10em;\n",
       "  height: 80%;\n",
       "  background: linear-gradient(90deg,#BB0000 100.0%, transparent 100.0%);\n",
       "}\n",
       "#T_ff482_row1_col0 {\n",
       "  background-color: #3c9fc8;\n",
       "  color: #f1f1f1;\n",
       "}\n",
       "#T_ff482_row1_col1 {\n",
       "  background-color: #49add0;\n",
       "  color: #f1f1f1;\n",
       "  width: 10em;\n",
       "  height: 80%;\n",
       "  background: linear-gradient(90deg,green 64.3%, transparent 64.3%);\n",
       "}\n",
       "#T_ff482_row1_col2 {\n",
       "  background-color: #3699c5;\n",
       "  color: #f1f1f1;\n",
       "}\n",
       "#T_ff482_row1_col6 {\n",
       "  background-color: #a3dbb7;\n",
       "  color: #000000;\n",
       "}\n",
       "#T_ff482_row1_col7 {\n",
       "  background-color: #1a7ab5;\n",
       "  color: #f1f1f1;\n",
       "  width: 10em;\n",
       "  height: 80%;\n",
       "  background: linear-gradient(90deg,#BB0000 80.9%, transparent 80.9%);\n",
       "}\n",
       "#T_ff482_row2_col1 {\n",
       "  background-color: #45a8cd;\n",
       "  color: #f1f1f1;\n",
       "  width: 10em;\n",
       "  height: 80%;\n",
       "  background: linear-gradient(90deg,green 65.8%, transparent 65.8%);\n",
       "}\n",
       "#T_ff482_row2_col2 {\n",
       "  background-color: #389bc6;\n",
       "  color: #f1f1f1;\n",
       "}\n",
       "#T_ff482_row2_col6 {\n",
       "  background-color: #46aace;\n",
       "  color: #f1f1f1;\n",
       "}\n",
       "#T_ff482_row2_col7 {\n",
       "  background-color: #2a8bbe;\n",
       "  color: #f1f1f1;\n",
       "  width: 10em;\n",
       "  height: 80%;\n",
       "  background: linear-gradient(90deg,#BB0000 75.1%, transparent 75.1%);\n",
       "}\n",
       "#T_ff482_row3_col0 {\n",
       "  background-color: #085598;\n",
       "  color: #f1f1f1;\n",
       "}\n",
       "#T_ff482_row3_col1 {\n",
       "  background-color: #8bd2bf;\n",
       "  color: #000000;\n",
       "  width: 10em;\n",
       "  height: 80%;\n",
       "  background: linear-gradient(90deg,green 45.6%, transparent 45.6%);\n",
       "}\n",
       "#T_ff482_row3_col2, #T_ff482_row3_col6 {\n",
       "  background-color: #9cd9b9;\n",
       "  color: #000000;\n",
       "}\n",
       "#T_ff482_row3_col7 {\n",
       "  background-color: #83cfc1;\n",
       "  color: #000000;\n",
       "  width: 10em;\n",
       "  height: 80%;\n",
       "  background: linear-gradient(90deg,#BB0000 47.9%, transparent 47.9%);\n",
       "}\n",
       "#T_ff482_row4_col1 {\n",
       "  background-color: #b3e1ba;\n",
       "  color: #000000;\n",
       "  width: 10em;\n",
       "  height: 80%;\n",
       "  background: linear-gradient(90deg,green 33.8%, transparent 33.8%);\n",
       "}\n",
       "#T_ff482_row4_col2 {\n",
       "  background-color: #aadeb6;\n",
       "  color: #000000;\n",
       "}\n",
       "#T_ff482_row4_col7 {\n",
       "  background-color: #2081b8;\n",
       "  color: #f1f1f1;\n",
       "  width: 10em;\n",
       "  height: 80%;\n",
       "  background: linear-gradient(90deg,#BB0000 78.7%, transparent 78.7%);\n",
       "}\n",
       "#T_ff482_row5_col1, #T_ff482_row5_col7 {\n",
       "  background-color: #f7fcf0;\n",
       "  color: #000000;\n",
       "  width: 10em;\n",
       "  height: 80%;\n",
       "}\n",
       "#T_ff482_row5_col6 {\n",
       "  background-color: #d0edca;\n",
       "  color: #000000;\n",
       "}\n",
       "</style>\n",
       "<table id=\"T_ff482_\">\n",
       "  <thead>\n",
       "    <tr>\n",
       "      <th class=\"blank level0\" >&nbsp;</th>\n",
       "      <th class=\"col_heading level0 col0\" >count</th>\n",
       "      <th class=\"col_heading level0 col1\" >mean</th>\n",
       "      <th class=\"col_heading level0 col2\" >std</th>\n",
       "      <th class=\"col_heading level0 col3\" >min</th>\n",
       "      <th class=\"col_heading level0 col4\" >25%</th>\n",
       "      <th class=\"col_heading level0 col5\" >50%</th>\n",
       "      <th class=\"col_heading level0 col6\" >75%</th>\n",
       "      <th class=\"col_heading level0 col7\" >max</th>\n",
       "    </tr>\n",
       "  </thead>\n",
       "  <tbody>\n",
       "    <tr>\n",
       "      <th id=\"T_ff482_level0_row0\" class=\"row_heading level0 row0\" >FoodCourt</th>\n",
       "      <td id=\"T_ff482_row0_col0\" class=\"data row0 col0\" >8510.000000</td>\n",
       "      <td id=\"T_ff482_row0_col1\" class=\"data row0 col1\" >458.077203</td>\n",
       "      <td id=\"T_ff482_row0_col2\" class=\"data row0 col2\" >1611.489240</td>\n",
       "      <td id=\"T_ff482_row0_col3\" class=\"data row0 col3\" >0.000000</td>\n",
       "      <td id=\"T_ff482_row0_col4\" class=\"data row0 col4\" >0.000000</td>\n",
       "      <td id=\"T_ff482_row0_col5\" class=\"data row0 col5\" >0.000000</td>\n",
       "      <td id=\"T_ff482_row0_col6\" class=\"data row0 col6\" >76.000000</td>\n",
       "      <td id=\"T_ff482_row0_col7\" class=\"data row0 col7\" >29813.000000</td>\n",
       "    </tr>\n",
       "    <tr>\n",
       "      <th id=\"T_ff482_level0_row1\" class=\"row_heading level0 row1\" >VRDeck</th>\n",
       "      <td id=\"T_ff482_row1_col0\" class=\"data row1 col0\" >8505.000000</td>\n",
       "      <td id=\"T_ff482_row1_col1\" class=\"data row1 col1\" >304.854791</td>\n",
       "      <td id=\"T_ff482_row1_col2\" class=\"data row1 col2\" >1145.717189</td>\n",
       "      <td id=\"T_ff482_row1_col3\" class=\"data row1 col3\" >0.000000</td>\n",
       "      <td id=\"T_ff482_row1_col4\" class=\"data row1 col4\" >0.000000</td>\n",
       "      <td id=\"T_ff482_row1_col5\" class=\"data row1 col5\" >0.000000</td>\n",
       "      <td id=\"T_ff482_row1_col6\" class=\"data row1 col6\" >46.000000</td>\n",
       "      <td id=\"T_ff482_row1_col7\" class=\"data row1 col7\" >24133.000000</td>\n",
       "    </tr>\n",
       "    <tr>\n",
       "      <th id=\"T_ff482_level0_row2\" class=\"row_heading level0 row2\" >Spa</th>\n",
       "      <td id=\"T_ff482_row2_col0\" class=\"data row2 col0\" >8510.000000</td>\n",
       "      <td id=\"T_ff482_row2_col1\" class=\"data row2 col1\" >311.138778</td>\n",
       "      <td id=\"T_ff482_row2_col2\" class=\"data row2 col2\" >1136.705535</td>\n",
       "      <td id=\"T_ff482_row2_col3\" class=\"data row2 col3\" >0.000000</td>\n",
       "      <td id=\"T_ff482_row2_col4\" class=\"data row2 col4\" >0.000000</td>\n",
       "      <td id=\"T_ff482_row2_col5\" class=\"data row2 col5\" >0.000000</td>\n",
       "      <td id=\"T_ff482_row2_col6\" class=\"data row2 col6\" >59.000000</td>\n",
       "      <td id=\"T_ff482_row2_col7\" class=\"data row2 col7\" >22408.000000</td>\n",
       "    </tr>\n",
       "    <tr>\n",
       "      <th id=\"T_ff482_level0_row3\" class=\"row_heading level0 row3\" >RoomService</th>\n",
       "      <td id=\"T_ff482_row3_col0\" class=\"data row3 col0\" >8512.000000</td>\n",
       "      <td id=\"T_ff482_row3_col1\" class=\"data row3 col1\" >224.687617</td>\n",
       "      <td id=\"T_ff482_row3_col2\" class=\"data row3 col2\" >666.717663</td>\n",
       "      <td id=\"T_ff482_row3_col3\" class=\"data row3 col3\" >0.000000</td>\n",
       "      <td id=\"T_ff482_row3_col4\" class=\"data row3 col4\" >0.000000</td>\n",
       "      <td id=\"T_ff482_row3_col5\" class=\"data row3 col5\" >0.000000</td>\n",
       "      <td id=\"T_ff482_row3_col6\" class=\"data row3 col6\" >47.000000</td>\n",
       "      <td id=\"T_ff482_row3_col7\" class=\"data row3 col7\" >14327.000000</td>\n",
       "    </tr>\n",
       "    <tr>\n",
       "      <th id=\"T_ff482_level0_row4\" class=\"row_heading level0 row4\" >ShoppingMall</th>\n",
       "      <td id=\"T_ff482_row4_col0\" class=\"data row4 col0\" >8485.000000</td>\n",
       "      <td id=\"T_ff482_row4_col1\" class=\"data row4 col1\" >173.729169</td>\n",
       "      <td id=\"T_ff482_row4_col2\" class=\"data row4 col2\" >604.696458</td>\n",
       "      <td id=\"T_ff482_row4_col3\" class=\"data row4 col3\" >0.000000</td>\n",
       "      <td id=\"T_ff482_row4_col4\" class=\"data row4 col4\" >0.000000</td>\n",
       "      <td id=\"T_ff482_row4_col5\" class=\"data row4 col5\" >0.000000</td>\n",
       "      <td id=\"T_ff482_row4_col6\" class=\"data row4 col6\" >27.000000</td>\n",
       "      <td id=\"T_ff482_row4_col7\" class=\"data row4 col7\" >23492.000000</td>\n",
       "    </tr>\n",
       "    <tr>\n",
       "      <th id=\"T_ff482_level0_row5\" class=\"row_heading level0 row5\" >Age</th>\n",
       "      <td id=\"T_ff482_row5_col0\" class=\"data row5 col0\" >8514.000000</td>\n",
       "      <td id=\"T_ff482_row5_col1\" class=\"data row5 col1\" >28.827930</td>\n",
       "      <td id=\"T_ff482_row5_col2\" class=\"data row5 col2\" >14.489021</td>\n",
       "      <td id=\"T_ff482_row5_col3\" class=\"data row5 col3\" >0.000000</td>\n",
       "      <td id=\"T_ff482_row5_col4\" class=\"data row5 col4\" >19.000000</td>\n",
       "      <td id=\"T_ff482_row5_col5\" class=\"data row5 col5\" >27.000000</td>\n",
       "      <td id=\"T_ff482_row5_col6\" class=\"data row5 col6\" >38.000000</td>\n",
       "      <td id=\"T_ff482_row5_col7\" class=\"data row5 col7\" >79.000000</td>\n",
       "    </tr>\n",
       "  </tbody>\n",
       "</table>\n"
      ],
      "text/plain": [
       "<pandas.io.formats.style.Styler at 0x7f5415c54a10>"
      ]
     },
     "execution_count": 19,
     "metadata": {},
     "output_type": "execute_result"
    }
   ],
   "source": [
    "train.iloc[:, :-1].describe().T.sort_values(by = 'std', ascending = False)\\\n",
    "                    .style.background_gradient(cmap = 'GnBu')\\\n",
    "                    .bar(subset = [\"max\"], color = '#BB0000')\\\n",
    "                    .bar(subset = [\"mean\",], color = 'green')"
   ]
  },
  {
   "cell_type": "markdown",
   "id": "4f0b3a80",
   "metadata": {
    "papermill": {
     "duration": 0.063511,
     "end_time": "2022-04-03T13:13:11.380126",
     "exception": false,
     "start_time": "2022-04-03T13:13:11.316615",
     "status": "completed"
    },
    "tags": []
   },
   "source": [
    "### Null Value Distribution"
   ]
  },
  {
   "cell_type": "markdown",
   "id": "bc82fc6c",
   "metadata": {
    "papermill": {
     "duration": 0.062193,
     "end_time": "2022-04-03T13:13:11.505117",
     "exception": false,
     "start_time": "2022-04-03T13:13:11.442924",
     "status": "completed"
    },
    "tags": []
   },
   "source": [
    "📌  Observations in Null Value Distribution :\n",
    "* The maximum of missing value in an row is 3 and the lowest is no missing value\n",
    "* Interestingly, the missing value distribution (row basis) is quite the same between train and test dataset.\n",
    "* There are around 76% of the observations (row basis) that has no missing values.\n",
    "* Rest 24% of the observations (row basis) that have 1 to 3 missing values"
   ]
  },
  {
   "cell_type": "markdown",
   "id": "6e49168f",
   "metadata": {
    "papermill": {
     "duration": 0.061931,
     "end_time": "2022-04-03T13:13:11.629797",
     "exception": false,
     "start_time": "2022-04-03T13:13:11.567866",
     "status": "completed"
    },
    "tags": []
   },
   "source": [
    "📌 Null 값 분포에서의 관측치:\n",
    "* 행의 결측값 최대값은 3이고 가장 낮은 값은 결측값이 없습니다.\n",
    "* 흥미롭게도, 결측값 분포 (행 기준)는 열차와 테스트 데이터 집합 간에 거의 동일합니다.\n",
    "* 결측값이 없는 관측치(행 기준)의 약 76%가 있습니다.\n",
    "* 결측값이 1 ~ 3개인 관측치의 나머지 24%(행 기준)"
   ]
  },
  {
   "cell_type": "markdown",
   "id": "b35c9bb9",
   "metadata": {
    "papermill": {
     "duration": 0.0621,
     "end_time": "2022-04-03T13:13:11.754195",
     "exception": false,
     "start_time": "2022-04-03T13:13:11.692095",
     "status": "completed"
    },
    "tags": []
   },
   "source": [
    "#### Column wise Null Value Distribution"
   ]
  },
  {
   "cell_type": "code",
   "execution_count": 20,
   "id": "6789c06a",
   "metadata": {
    "execution": {
     "iopub.execute_input": "2022-04-03T13:13:11.895559Z",
     "iopub.status.busy": "2022-04-03T13:13:11.888757Z",
     "iopub.status.idle": "2022-04-03T13:13:12.204795Z",
     "shell.execute_reply": "2022-04-03T13:13:12.204114Z",
     "shell.execute_reply.started": "2022-04-01T07:59:38.322985Z"
    },
    "papermill": {
     "duration": 0.387894,
     "end_time": "2022-04-03T13:13:12.204938",
     "exception": false,
     "start_time": "2022-04-03T13:13:11.817044",
     "status": "completed"
    },
    "tags": []
   },
   "outputs": [
    {
     "data": {
      "text/html": [
       "        <script type=\"text/javascript\">\n",
       "        window.PlotlyConfig = {MathJaxConfig: 'local'};\n",
       "        if (window.MathJax) {MathJax.Hub.Config({SVG: {font: \"STIX-Web\"}});}\n",
       "        if (typeof require !== 'undefined') {\n",
       "        require.undef(\"plotly\");\n",
       "        requirejs.config({\n",
       "            paths: {\n",
       "                'plotly': ['https://cdn.plot.ly/plotly-2.9.0.min']\n",
       "            }\n",
       "        });\n",
       "        require(['plotly'], function(Plotly) {\n",
       "            window._Plotly = Plotly;\n",
       "        });\n",
       "        }\n",
       "        </script>\n",
       "        "
      ]
     },
     "metadata": {},
     "output_type": "display_data"
    },
    {
     "data": {
      "text/html": [
       "<div>                            <div id=\"47dd7c1c-44aa-461c-b2fa-ab3b6554f49d\" class=\"plotly-graph-div\" style=\"height:525px; width:100%;\"></div>            <script type=\"text/javascript\">                require([\"plotly\"], function(Plotly) {                    window.PLOTLYENV=window.PLOTLYENV || {};                                    if (document.getElementById(\"47dd7c1c-44aa-461c-b2fa-ab3b6554f49d\")) {                    Plotly.newPlot(                        \"47dd7c1c-44aa-461c-b2fa-ab3b6554f49d\",                        [{\"marker\":{\"color\":[0,1,2,3,4,5,6,7,8,9,10,11],\"coloraxis\":\"coloraxis\",\"line\":{\"color\":\"rgb(0, 0, 0)\",\"width\":2}},\"orientation\":\"h\",\"x\":[217,208,203,201,200,199,188,183,183,182,181,179],\"y\":[\"CryoSleep\",\"ShoppingMall\",\"VIP\",\"HomePlanet\",\"Name\",\"Cabin\",\"VRDeck\",\"FoodCourt\",\"Spa\",\"Destination\",\"RoomService\",\"Age\"],\"type\":\"bar\",\"xaxis\":\"x\",\"yaxis\":\"y\"},{\"marker\":{\"color\":[0,1,2,3,4,5,6,7,8,9,10,11],\"coloraxis\":\"coloraxis\",\"line\":{\"color\":\"rgb(0, 0, 0)\",\"width\":2}},\"orientation\":\"h\",\"x\":[106,101,100,98,94,93,93,92,91,87,82,80],\"y\":[\"FoodCourt\",\"Spa\",\"Cabin\",\"ShoppingMall\",\"Name\",\"CryoSleep\",\"VIP\",\"Destination\",\"Age\",\"HomePlanet\",\"RoomService\",\"VRDeck\"],\"type\":\"bar\",\"xaxis\":\"x2\",\"yaxis\":\"y2\"}],                        {\"template\":{\"data\":{\"bar\":[{\"error_x\":{\"color\":\"#2a3f5f\"},\"error_y\":{\"color\":\"#2a3f5f\"},\"marker\":{\"line\":{\"color\":\"#E5ECF6\",\"width\":0.5},\"pattern\":{\"fillmode\":\"overlay\",\"size\":10,\"solidity\":0.2}},\"type\":\"bar\"}],\"barpolar\":[{\"marker\":{\"line\":{\"color\":\"#E5ECF6\",\"width\":0.5},\"pattern\":{\"fillmode\":\"overlay\",\"size\":10,\"solidity\":0.2}},\"type\":\"barpolar\"}],\"carpet\":[{\"aaxis\":{\"endlinecolor\":\"#2a3f5f\",\"gridcolor\":\"white\",\"linecolor\":\"white\",\"minorgridcolor\":\"white\",\"startlinecolor\":\"#2a3f5f\"},\"baxis\":{\"endlinecolor\":\"#2a3f5f\",\"gridcolor\":\"white\",\"linecolor\":\"white\",\"minorgridcolor\":\"white\",\"startlinecolor\":\"#2a3f5f\"},\"type\":\"carpet\"}],\"choropleth\":[{\"colorbar\":{\"outlinewidth\":0,\"ticks\":\"\"},\"type\":\"choropleth\"}],\"contour\":[{\"colorbar\":{\"outlinewidth\":0,\"ticks\":\"\"},\"colorscale\":[[0.0,\"#0d0887\"],[0.1111111111111111,\"#46039f\"],[0.2222222222222222,\"#7201a8\"],[0.3333333333333333,\"#9c179e\"],[0.4444444444444444,\"#bd3786\"],[0.5555555555555556,\"#d8576b\"],[0.6666666666666666,\"#ed7953\"],[0.7777777777777778,\"#fb9f3a\"],[0.8888888888888888,\"#fdca26\"],[1.0,\"#f0f921\"]],\"type\":\"contour\"}],\"contourcarpet\":[{\"colorbar\":{\"outlinewidth\":0,\"ticks\":\"\"},\"type\":\"contourcarpet\"}],\"heatmap\":[{\"colorbar\":{\"outlinewidth\":0,\"ticks\":\"\"},\"colorscale\":[[0.0,\"#0d0887\"],[0.1111111111111111,\"#46039f\"],[0.2222222222222222,\"#7201a8\"],[0.3333333333333333,\"#9c179e\"],[0.4444444444444444,\"#bd3786\"],[0.5555555555555556,\"#d8576b\"],[0.6666666666666666,\"#ed7953\"],[0.7777777777777778,\"#fb9f3a\"],[0.8888888888888888,\"#fdca26\"],[1.0,\"#f0f921\"]],\"type\":\"heatmap\"}],\"heatmapgl\":[{\"colorbar\":{\"outlinewidth\":0,\"ticks\":\"\"},\"colorscale\":[[0.0,\"#0d0887\"],[0.1111111111111111,\"#46039f\"],[0.2222222222222222,\"#7201a8\"],[0.3333333333333333,\"#9c179e\"],[0.4444444444444444,\"#bd3786\"],[0.5555555555555556,\"#d8576b\"],[0.6666666666666666,\"#ed7953\"],[0.7777777777777778,\"#fb9f3a\"],[0.8888888888888888,\"#fdca26\"],[1.0,\"#f0f921\"]],\"type\":\"heatmapgl\"}],\"histogram\":[{\"marker\":{\"pattern\":{\"fillmode\":\"overlay\",\"size\":10,\"solidity\":0.2}},\"type\":\"histogram\"}],\"histogram2d\":[{\"colorbar\":{\"outlinewidth\":0,\"ticks\":\"\"},\"colorscale\":[[0.0,\"#0d0887\"],[0.1111111111111111,\"#46039f\"],[0.2222222222222222,\"#7201a8\"],[0.3333333333333333,\"#9c179e\"],[0.4444444444444444,\"#bd3786\"],[0.5555555555555556,\"#d8576b\"],[0.6666666666666666,\"#ed7953\"],[0.7777777777777778,\"#fb9f3a\"],[0.8888888888888888,\"#fdca26\"],[1.0,\"#f0f921\"]],\"type\":\"histogram2d\"}],\"histogram2dcontour\":[{\"colorbar\":{\"outlinewidth\":0,\"ticks\":\"\"},\"colorscale\":[[0.0,\"#0d0887\"],[0.1111111111111111,\"#46039f\"],[0.2222222222222222,\"#7201a8\"],[0.3333333333333333,\"#9c179e\"],[0.4444444444444444,\"#bd3786\"],[0.5555555555555556,\"#d8576b\"],[0.6666666666666666,\"#ed7953\"],[0.7777777777777778,\"#fb9f3a\"],[0.8888888888888888,\"#fdca26\"],[1.0,\"#f0f921\"]],\"type\":\"histogram2dcontour\"}],\"mesh3d\":[{\"colorbar\":{\"outlinewidth\":0,\"ticks\":\"\"},\"type\":\"mesh3d\"}],\"parcoords\":[{\"line\":{\"colorbar\":{\"outlinewidth\":0,\"ticks\":\"\"}},\"type\":\"parcoords\"}],\"pie\":[{\"automargin\":true,\"type\":\"pie\"}],\"scatter\":[{\"marker\":{\"colorbar\":{\"outlinewidth\":0,\"ticks\":\"\"}},\"type\":\"scatter\"}],\"scatter3d\":[{\"line\":{\"colorbar\":{\"outlinewidth\":0,\"ticks\":\"\"}},\"marker\":{\"colorbar\":{\"outlinewidth\":0,\"ticks\":\"\"}},\"type\":\"scatter3d\"}],\"scattercarpet\":[{\"marker\":{\"colorbar\":{\"outlinewidth\":0,\"ticks\":\"\"}},\"type\":\"scattercarpet\"}],\"scattergeo\":[{\"marker\":{\"colorbar\":{\"outlinewidth\":0,\"ticks\":\"\"}},\"type\":\"scattergeo\"}],\"scattergl\":[{\"marker\":{\"colorbar\":{\"outlinewidth\":0,\"ticks\":\"\"}},\"type\":\"scattergl\"}],\"scattermapbox\":[{\"marker\":{\"colorbar\":{\"outlinewidth\":0,\"ticks\":\"\"}},\"type\":\"scattermapbox\"}],\"scatterpolar\":[{\"marker\":{\"colorbar\":{\"outlinewidth\":0,\"ticks\":\"\"}},\"type\":\"scatterpolar\"}],\"scatterpolargl\":[{\"marker\":{\"colorbar\":{\"outlinewidth\":0,\"ticks\":\"\"}},\"type\":\"scatterpolargl\"}],\"scatterternary\":[{\"marker\":{\"colorbar\":{\"outlinewidth\":0,\"ticks\":\"\"}},\"type\":\"scatterternary\"}],\"surface\":[{\"colorbar\":{\"outlinewidth\":0,\"ticks\":\"\"},\"colorscale\":[[0.0,\"#0d0887\"],[0.1111111111111111,\"#46039f\"],[0.2222222222222222,\"#7201a8\"],[0.3333333333333333,\"#9c179e\"],[0.4444444444444444,\"#bd3786\"],[0.5555555555555556,\"#d8576b\"],[0.6666666666666666,\"#ed7953\"],[0.7777777777777778,\"#fb9f3a\"],[0.8888888888888888,\"#fdca26\"],[1.0,\"#f0f921\"]],\"type\":\"surface\"}],\"table\":[{\"cells\":{\"fill\":{\"color\":\"#EBF0F8\"},\"line\":{\"color\":\"white\"}},\"header\":{\"fill\":{\"color\":\"#C8D4E3\"},\"line\":{\"color\":\"white\"}},\"type\":\"table\"}]},\"layout\":{\"annotationdefaults\":{\"arrowcolor\":\"#2a3f5f\",\"arrowhead\":0,\"arrowwidth\":1},\"autotypenumbers\":\"strict\",\"coloraxis\":{\"colorbar\":{\"outlinewidth\":0,\"ticks\":\"\"}},\"colorscale\":{\"diverging\":[[0,\"#8e0152\"],[0.1,\"#c51b7d\"],[0.2,\"#de77ae\"],[0.3,\"#f1b6da\"],[0.4,\"#fde0ef\"],[0.5,\"#f7f7f7\"],[0.6,\"#e6f5d0\"],[0.7,\"#b8e186\"],[0.8,\"#7fbc41\"],[0.9,\"#4d9221\"],[1,\"#276419\"]],\"sequential\":[[0.0,\"#0d0887\"],[0.1111111111111111,\"#46039f\"],[0.2222222222222222,\"#7201a8\"],[0.3333333333333333,\"#9c179e\"],[0.4444444444444444,\"#bd3786\"],[0.5555555555555556,\"#d8576b\"],[0.6666666666666666,\"#ed7953\"],[0.7777777777777778,\"#fb9f3a\"],[0.8888888888888888,\"#fdca26\"],[1.0,\"#f0f921\"]],\"sequentialminus\":[[0.0,\"#0d0887\"],[0.1111111111111111,\"#46039f\"],[0.2222222222222222,\"#7201a8\"],[0.3333333333333333,\"#9c179e\"],[0.4444444444444444,\"#bd3786\"],[0.5555555555555556,\"#d8576b\"],[0.6666666666666666,\"#ed7953\"],[0.7777777777777778,\"#fb9f3a\"],[0.8888888888888888,\"#fdca26\"],[1.0,\"#f0f921\"]]},\"colorway\":[\"#636efa\",\"#EF553B\",\"#00cc96\",\"#ab63fa\",\"#FFA15A\",\"#19d3f3\",\"#FF6692\",\"#B6E880\",\"#FF97FF\",\"#FECB52\"],\"font\":{\"color\":\"#2a3f5f\"},\"geo\":{\"bgcolor\":\"white\",\"lakecolor\":\"white\",\"landcolor\":\"#E5ECF6\",\"showlakes\":true,\"showland\":true,\"subunitcolor\":\"white\"},\"hoverlabel\":{\"align\":\"left\"},\"hovermode\":\"closest\",\"mapbox\":{\"style\":\"light\"},\"paper_bgcolor\":\"white\",\"plot_bgcolor\":\"#E5ECF6\",\"polar\":{\"angularaxis\":{\"gridcolor\":\"white\",\"linecolor\":\"white\",\"ticks\":\"\"},\"bgcolor\":\"#E5ECF6\",\"radialaxis\":{\"gridcolor\":\"white\",\"linecolor\":\"white\",\"ticks\":\"\"}},\"scene\":{\"xaxis\":{\"backgroundcolor\":\"#E5ECF6\",\"gridcolor\":\"white\",\"gridwidth\":2,\"linecolor\":\"white\",\"showbackground\":true,\"ticks\":\"\",\"zerolinecolor\":\"white\"},\"yaxis\":{\"backgroundcolor\":\"#E5ECF6\",\"gridcolor\":\"white\",\"gridwidth\":2,\"linecolor\":\"white\",\"showbackground\":true,\"ticks\":\"\",\"zerolinecolor\":\"white\"},\"zaxis\":{\"backgroundcolor\":\"#E5ECF6\",\"gridcolor\":\"white\",\"gridwidth\":2,\"linecolor\":\"white\",\"showbackground\":true,\"ticks\":\"\",\"zerolinecolor\":\"white\"}},\"shapedefaults\":{\"line\":{\"color\":\"#2a3f5f\"}},\"ternary\":{\"aaxis\":{\"gridcolor\":\"white\",\"linecolor\":\"white\",\"ticks\":\"\"},\"baxis\":{\"gridcolor\":\"white\",\"linecolor\":\"white\",\"ticks\":\"\"},\"bgcolor\":\"#E5ECF6\",\"caxis\":{\"gridcolor\":\"white\",\"linecolor\":\"white\",\"ticks\":\"\"}},\"title\":{\"x\":0.05},\"xaxis\":{\"automargin\":true,\"gridcolor\":\"white\",\"linecolor\":\"white\",\"ticks\":\"\",\"title\":{\"standoff\":15},\"zerolinecolor\":\"white\",\"zerolinewidth\":2},\"yaxis\":{\"automargin\":true,\"gridcolor\":\"white\",\"linecolor\":\"white\",\"ticks\":\"\",\"title\":{\"standoff\":15},\"zerolinecolor\":\"white\",\"zerolinewidth\":2}}},\"xaxis\":{\"anchor\":\"y\",\"domain\":[0.0,0.45]},\"yaxis\":{\"anchor\":\"x\",\"domain\":[0.0,1.0]},\"xaxis2\":{\"anchor\":\"y2\",\"domain\":[0.55,1.0]},\"yaxis2\":{\"anchor\":\"x2\",\"domain\":[0.0,1.0]},\"annotations\":[{\"font\":{\"size\":16},\"showarrow\":false,\"text\":\"Train Data\",\"x\":0.225,\"xanchor\":\"center\",\"xref\":\"paper\",\"y\":1.0,\"yanchor\":\"bottom\",\"yref\":\"paper\"},{\"font\":{\"size\":16},\"showarrow\":false,\"text\":\"Test Data\",\"x\":0.775,\"xanchor\":\"center\",\"xref\":\"paper\",\"y\":1.0,\"yanchor\":\"bottom\",\"yref\":\"paper\"},{\"font\":{\"size\":16},\"showarrow\":false,\"text\":\"Missing Values\",\"x\":0.5,\"xanchor\":\"center\",\"xref\":\"paper\",\"y\":0,\"yanchor\":\"top\",\"yref\":\"paper\",\"yshift\":-30}],\"title\":{\"text\":\"Column wise Null Value Distribution\",\"x\":0.5},\"showlegend\":false},                        {\"responsive\": true}                    ).then(function(){\n",
       "                            \n",
       "var gd = document.getElementById('47dd7c1c-44aa-461c-b2fa-ab3b6554f49d');\n",
       "var x = new MutationObserver(function (mutations, observer) {{\n",
       "        var display = window.getComputedStyle(gd).display;\n",
       "        if (!display || display === 'none') {{\n",
       "            console.log([gd, 'removed!']);\n",
       "            Plotly.purge(gd);\n",
       "            observer.disconnect();\n",
       "        }}\n",
       "}});\n",
       "\n",
       "// Listen for the removal of the full notebook cells\n",
       "var notebookContainer = gd.closest('#notebook-container');\n",
       "if (notebookContainer) {{\n",
       "    x.observe(notebookContainer, {childList: true});\n",
       "}}\n",
       "\n",
       "// Listen for the clearing of the current output cell\n",
       "var outputEl = gd.closest('.output');\n",
       "if (outputEl) {{\n",
       "    x.observe(outputEl, {childList: true});\n",
       "}}\n",
       "\n",
       "                        })                };                });            </script>        </div>"
      ]
     },
     "metadata": {},
     "output_type": "display_data"
    }
   ],
   "source": [
    "test_null = pd.DataFrame(test.isna().sum())\n",
    "test_null = test_null.sort_values(by = 0, ascending = False)\n",
    "train_null = pd.DataFrame(train.isna().sum())\n",
    "train_null = train_null.sort_values(by = 0, ascending = False)[:-1]\n",
    "\n",
    "fig = make_subplots(rows = 1,\n",
    "                    cols = 2,\n",
    "                    column_titles = [\"Train Data\", \"Test Data\"],\n",
    "                    x_title = \"Missing Values\")\n",
    "# 참고 : https://plotly.com/python/subplots/\n",
    "\n",
    "fig.add_trace(go.Bar(x = train_null[0],\n",
    "                     y = train_null.index,\n",
    "                     orientation = \"h\",\n",
    "                     marker = dict(color = [n for n in range(12)],\n",
    "                                   line_color = 'rgb(0, 0, 0)',\n",
    "                                   line_width = 2,\n",
    "                                   coloraxis = \"coloraxis\")),\n",
    "              1, 1)\n",
    "# 참고 : https://plotly.com/python/creating-and-updating-figures/\n",
    "\n",
    "fig.add_trace(go.Bar(x = test_null[0],\n",
    "                     y = test_null.index,\n",
    "                     orientation = \"h\",\n",
    "                     marker = dict(color = [n for n in range(12)],\n",
    "                                   line_color = 'rgb(0, 0, 0)',\n",
    "                                   line_width = 2,\n",
    "                                   coloraxis = \"coloraxis\")),\n",
    "              1, 2)\n",
    "\n",
    "fig.update_layout(showlegend = False, title_text = \"Column wise Null Value Distribution\", title_x = 0.5)\n",
    "# showlegend는 범례, title_text는 타이틀 텍스트, title_x는 타이틀의 x좌표\n",
    "# 참고 : https://plotly.com/python/reference/layout/"
   ]
  },
  {
   "cell_type": "markdown",
   "id": "c5da53cc",
   "metadata": {
    "papermill": {
     "duration": 0.065787,
     "end_time": "2022-04-03T13:13:12.335433",
     "exception": false,
     "start_time": "2022-04-03T13:13:12.269646",
     "status": "completed"
    },
    "tags": []
   },
   "source": [
    "#### Row wise Null Value Distribution"
   ]
  },
  {
   "cell_type": "code",
   "execution_count": 21,
   "id": "0220d9d9",
   "metadata": {
    "execution": {
     "iopub.execute_input": "2022-04-03T13:13:12.486138Z",
     "iopub.status.busy": "2022-04-03T13:13:12.485073Z",
     "iopub.status.idle": "2022-04-03T13:13:12.536626Z",
     "shell.execute_reply": "2022-04-03T13:13:12.536061Z",
     "shell.execute_reply.started": "2022-04-01T07:59:38.656383Z"
    },
    "papermill": {
     "duration": 0.134497,
     "end_time": "2022-04-03T13:13:12.536780",
     "exception": false,
     "start_time": "2022-04-03T13:13:12.402283",
     "status": "completed"
    },
    "tags": []
   },
   "outputs": [
    {
     "data": {
      "text/html": [
       "<div>                            <div id=\"6915c01d-c14c-49fc-aeb8-1cb7a91bbec3\" class=\"plotly-graph-div\" style=\"height:525px; width:100%;\"></div>            <script type=\"text/javascript\">                require([\"plotly\"], function(Plotly) {                    window.PLOTLYENV=window.PLOTLYENV || {};                                    if (document.getElementById(\"6915c01d-c14c-49fc-aeb8-1cb7a91bbec3\")) {                    Plotly.newPlot(                        \"6915c01d-c14c-49fc-aeb8-1cb7a91bbec3\",                        [{\"marker\":{\"color\":[0,1,2,3],\"coloraxis\":\"coloraxis\",\"line\":{\"color\":\"rgb(0, 0, 0)\",\"width\":3}},\"x\":[0,1,2,3],\"y\":[75.99217761417232,21.477050500402623,2.3352122397331185,0.19555964569193604],\"type\":\"bar\",\"xaxis\":\"x\",\"yaxis\":\"y\"},{\"marker\":{\"color\":[0,1,2,3],\"coloraxis\":\"coloraxis\",\"line\":{\"color\":\"rgb(0, 0, 0)\",\"width\":3}},\"x\":[0,1,2,3],\"y\":[76.71264905307459,20.55178863689502,2.6420388122515783,0.09352349777881692],\"type\":\"bar\",\"xaxis\":\"x2\",\"yaxis\":\"y2\"}],                        {\"template\":{\"data\":{\"bar\":[{\"error_x\":{\"color\":\"#2a3f5f\"},\"error_y\":{\"color\":\"#2a3f5f\"},\"marker\":{\"line\":{\"color\":\"#E5ECF6\",\"width\":0.5},\"pattern\":{\"fillmode\":\"overlay\",\"size\":10,\"solidity\":0.2}},\"type\":\"bar\"}],\"barpolar\":[{\"marker\":{\"line\":{\"color\":\"#E5ECF6\",\"width\":0.5},\"pattern\":{\"fillmode\":\"overlay\",\"size\":10,\"solidity\":0.2}},\"type\":\"barpolar\"}],\"carpet\":[{\"aaxis\":{\"endlinecolor\":\"#2a3f5f\",\"gridcolor\":\"white\",\"linecolor\":\"white\",\"minorgridcolor\":\"white\",\"startlinecolor\":\"#2a3f5f\"},\"baxis\":{\"endlinecolor\":\"#2a3f5f\",\"gridcolor\":\"white\",\"linecolor\":\"white\",\"minorgridcolor\":\"white\",\"startlinecolor\":\"#2a3f5f\"},\"type\":\"carpet\"}],\"choropleth\":[{\"colorbar\":{\"outlinewidth\":0,\"ticks\":\"\"},\"type\":\"choropleth\"}],\"contour\":[{\"colorbar\":{\"outlinewidth\":0,\"ticks\":\"\"},\"colorscale\":[[0.0,\"#0d0887\"],[0.1111111111111111,\"#46039f\"],[0.2222222222222222,\"#7201a8\"],[0.3333333333333333,\"#9c179e\"],[0.4444444444444444,\"#bd3786\"],[0.5555555555555556,\"#d8576b\"],[0.6666666666666666,\"#ed7953\"],[0.7777777777777778,\"#fb9f3a\"],[0.8888888888888888,\"#fdca26\"],[1.0,\"#f0f921\"]],\"type\":\"contour\"}],\"contourcarpet\":[{\"colorbar\":{\"outlinewidth\":0,\"ticks\":\"\"},\"type\":\"contourcarpet\"}],\"heatmap\":[{\"colorbar\":{\"outlinewidth\":0,\"ticks\":\"\"},\"colorscale\":[[0.0,\"#0d0887\"],[0.1111111111111111,\"#46039f\"],[0.2222222222222222,\"#7201a8\"],[0.3333333333333333,\"#9c179e\"],[0.4444444444444444,\"#bd3786\"],[0.5555555555555556,\"#d8576b\"],[0.6666666666666666,\"#ed7953\"],[0.7777777777777778,\"#fb9f3a\"],[0.8888888888888888,\"#fdca26\"],[1.0,\"#f0f921\"]],\"type\":\"heatmap\"}],\"heatmapgl\":[{\"colorbar\":{\"outlinewidth\":0,\"ticks\":\"\"},\"colorscale\":[[0.0,\"#0d0887\"],[0.1111111111111111,\"#46039f\"],[0.2222222222222222,\"#7201a8\"],[0.3333333333333333,\"#9c179e\"],[0.4444444444444444,\"#bd3786\"],[0.5555555555555556,\"#d8576b\"],[0.6666666666666666,\"#ed7953\"],[0.7777777777777778,\"#fb9f3a\"],[0.8888888888888888,\"#fdca26\"],[1.0,\"#f0f921\"]],\"type\":\"heatmapgl\"}],\"histogram\":[{\"marker\":{\"pattern\":{\"fillmode\":\"overlay\",\"size\":10,\"solidity\":0.2}},\"type\":\"histogram\"}],\"histogram2d\":[{\"colorbar\":{\"outlinewidth\":0,\"ticks\":\"\"},\"colorscale\":[[0.0,\"#0d0887\"],[0.1111111111111111,\"#46039f\"],[0.2222222222222222,\"#7201a8\"],[0.3333333333333333,\"#9c179e\"],[0.4444444444444444,\"#bd3786\"],[0.5555555555555556,\"#d8576b\"],[0.6666666666666666,\"#ed7953\"],[0.7777777777777778,\"#fb9f3a\"],[0.8888888888888888,\"#fdca26\"],[1.0,\"#f0f921\"]],\"type\":\"histogram2d\"}],\"histogram2dcontour\":[{\"colorbar\":{\"outlinewidth\":0,\"ticks\":\"\"},\"colorscale\":[[0.0,\"#0d0887\"],[0.1111111111111111,\"#46039f\"],[0.2222222222222222,\"#7201a8\"],[0.3333333333333333,\"#9c179e\"],[0.4444444444444444,\"#bd3786\"],[0.5555555555555556,\"#d8576b\"],[0.6666666666666666,\"#ed7953\"],[0.7777777777777778,\"#fb9f3a\"],[0.8888888888888888,\"#fdca26\"],[1.0,\"#f0f921\"]],\"type\":\"histogram2dcontour\"}],\"mesh3d\":[{\"colorbar\":{\"outlinewidth\":0,\"ticks\":\"\"},\"type\":\"mesh3d\"}],\"parcoords\":[{\"line\":{\"colorbar\":{\"outlinewidth\":0,\"ticks\":\"\"}},\"type\":\"parcoords\"}],\"pie\":[{\"automargin\":true,\"type\":\"pie\"}],\"scatter\":[{\"marker\":{\"colorbar\":{\"outlinewidth\":0,\"ticks\":\"\"}},\"type\":\"scatter\"}],\"scatter3d\":[{\"line\":{\"colorbar\":{\"outlinewidth\":0,\"ticks\":\"\"}},\"marker\":{\"colorbar\":{\"outlinewidth\":0,\"ticks\":\"\"}},\"type\":\"scatter3d\"}],\"scattercarpet\":[{\"marker\":{\"colorbar\":{\"outlinewidth\":0,\"ticks\":\"\"}},\"type\":\"scattercarpet\"}],\"scattergeo\":[{\"marker\":{\"colorbar\":{\"outlinewidth\":0,\"ticks\":\"\"}},\"type\":\"scattergeo\"}],\"scattergl\":[{\"marker\":{\"colorbar\":{\"outlinewidth\":0,\"ticks\":\"\"}},\"type\":\"scattergl\"}],\"scattermapbox\":[{\"marker\":{\"colorbar\":{\"outlinewidth\":0,\"ticks\":\"\"}},\"type\":\"scattermapbox\"}],\"scatterpolar\":[{\"marker\":{\"colorbar\":{\"outlinewidth\":0,\"ticks\":\"\"}},\"type\":\"scatterpolar\"}],\"scatterpolargl\":[{\"marker\":{\"colorbar\":{\"outlinewidth\":0,\"ticks\":\"\"}},\"type\":\"scatterpolargl\"}],\"scatterternary\":[{\"marker\":{\"colorbar\":{\"outlinewidth\":0,\"ticks\":\"\"}},\"type\":\"scatterternary\"}],\"surface\":[{\"colorbar\":{\"outlinewidth\":0,\"ticks\":\"\"},\"colorscale\":[[0.0,\"#0d0887\"],[0.1111111111111111,\"#46039f\"],[0.2222222222222222,\"#7201a8\"],[0.3333333333333333,\"#9c179e\"],[0.4444444444444444,\"#bd3786\"],[0.5555555555555556,\"#d8576b\"],[0.6666666666666666,\"#ed7953\"],[0.7777777777777778,\"#fb9f3a\"],[0.8888888888888888,\"#fdca26\"],[1.0,\"#f0f921\"]],\"type\":\"surface\"}],\"table\":[{\"cells\":{\"fill\":{\"color\":\"#EBF0F8\"},\"line\":{\"color\":\"white\"}},\"header\":{\"fill\":{\"color\":\"#C8D4E3\"},\"line\":{\"color\":\"white\"}},\"type\":\"table\"}]},\"layout\":{\"annotationdefaults\":{\"arrowcolor\":\"#2a3f5f\",\"arrowhead\":0,\"arrowwidth\":1},\"autotypenumbers\":\"strict\",\"coloraxis\":{\"colorbar\":{\"outlinewidth\":0,\"ticks\":\"\"}},\"colorscale\":{\"diverging\":[[0,\"#8e0152\"],[0.1,\"#c51b7d\"],[0.2,\"#de77ae\"],[0.3,\"#f1b6da\"],[0.4,\"#fde0ef\"],[0.5,\"#f7f7f7\"],[0.6,\"#e6f5d0\"],[0.7,\"#b8e186\"],[0.8,\"#7fbc41\"],[0.9,\"#4d9221\"],[1,\"#276419\"]],\"sequential\":[[0.0,\"#0d0887\"],[0.1111111111111111,\"#46039f\"],[0.2222222222222222,\"#7201a8\"],[0.3333333333333333,\"#9c179e\"],[0.4444444444444444,\"#bd3786\"],[0.5555555555555556,\"#d8576b\"],[0.6666666666666666,\"#ed7953\"],[0.7777777777777778,\"#fb9f3a\"],[0.8888888888888888,\"#fdca26\"],[1.0,\"#f0f921\"]],\"sequentialminus\":[[0.0,\"#0d0887\"],[0.1111111111111111,\"#46039f\"],[0.2222222222222222,\"#7201a8\"],[0.3333333333333333,\"#9c179e\"],[0.4444444444444444,\"#bd3786\"],[0.5555555555555556,\"#d8576b\"],[0.6666666666666666,\"#ed7953\"],[0.7777777777777778,\"#fb9f3a\"],[0.8888888888888888,\"#fdca26\"],[1.0,\"#f0f921\"]]},\"colorway\":[\"#636efa\",\"#EF553B\",\"#00cc96\",\"#ab63fa\",\"#FFA15A\",\"#19d3f3\",\"#FF6692\",\"#B6E880\",\"#FF97FF\",\"#FECB52\"],\"font\":{\"color\":\"#2a3f5f\"},\"geo\":{\"bgcolor\":\"white\",\"lakecolor\":\"white\",\"landcolor\":\"#E5ECF6\",\"showlakes\":true,\"showland\":true,\"subunitcolor\":\"white\"},\"hoverlabel\":{\"align\":\"left\"},\"hovermode\":\"closest\",\"mapbox\":{\"style\":\"light\"},\"paper_bgcolor\":\"white\",\"plot_bgcolor\":\"#E5ECF6\",\"polar\":{\"angularaxis\":{\"gridcolor\":\"white\",\"linecolor\":\"white\",\"ticks\":\"\"},\"bgcolor\":\"#E5ECF6\",\"radialaxis\":{\"gridcolor\":\"white\",\"linecolor\":\"white\",\"ticks\":\"\"}},\"scene\":{\"xaxis\":{\"backgroundcolor\":\"#E5ECF6\",\"gridcolor\":\"white\",\"gridwidth\":2,\"linecolor\":\"white\",\"showbackground\":true,\"ticks\":\"\",\"zerolinecolor\":\"white\"},\"yaxis\":{\"backgroundcolor\":\"#E5ECF6\",\"gridcolor\":\"white\",\"gridwidth\":2,\"linecolor\":\"white\",\"showbackground\":true,\"ticks\":\"\",\"zerolinecolor\":\"white\"},\"zaxis\":{\"backgroundcolor\":\"#E5ECF6\",\"gridcolor\":\"white\",\"gridwidth\":2,\"linecolor\":\"white\",\"showbackground\":true,\"ticks\":\"\",\"zerolinecolor\":\"white\"}},\"shapedefaults\":{\"line\":{\"color\":\"#2a3f5f\"}},\"ternary\":{\"aaxis\":{\"gridcolor\":\"white\",\"linecolor\":\"white\",\"ticks\":\"\"},\"baxis\":{\"gridcolor\":\"white\",\"linecolor\":\"white\",\"ticks\":\"\"},\"bgcolor\":\"#E5ECF6\",\"caxis\":{\"gridcolor\":\"white\",\"linecolor\":\"white\",\"ticks\":\"\"}},\"title\":{\"x\":0.05},\"xaxis\":{\"automargin\":true,\"gridcolor\":\"white\",\"linecolor\":\"white\",\"ticks\":\"\",\"title\":{\"standoff\":15},\"zerolinecolor\":\"white\",\"zerolinewidth\":2},\"yaxis\":{\"automargin\":true,\"gridcolor\":\"white\",\"linecolor\":\"white\",\"ticks\":\"\",\"title\":{\"standoff\":15},\"zerolinecolor\":\"white\",\"zerolinewidth\":2}}},\"xaxis\":{\"anchor\":\"y\",\"domain\":[0.0,0.45]},\"yaxis\":{\"anchor\":\"x\",\"domain\":[0.0,1.0]},\"xaxis2\":{\"anchor\":\"y2\",\"domain\":[0.55,1.0]},\"yaxis2\":{\"anchor\":\"x2\",\"domain\":[0.0,1.0]},\"annotations\":[{\"font\":{\"size\":16},\"showarrow\":false,\"text\":\"train Data\",\"x\":0.225,\"xanchor\":\"center\",\"xref\":\"paper\",\"y\":1.0,\"yanchor\":\"bottom\",\"yref\":\"paper\"},{\"font\":{\"size\":16},\"showarrow\":false,\"text\":\"Test Data\",\"x\":0.775,\"xanchor\":\"center\",\"xref\":\"paper\",\"y\":1.0,\"yanchor\":\"bottom\",\"yref\":\"paper\"},{\"font\":{\"size\":16},\"showarrow\":false,\"text\":\"Missing Values\",\"x\":0.5,\"xanchor\":\"center\",\"xref\":\"paper\",\"y\":0,\"yanchor\":\"top\",\"yref\":\"paper\",\"yshift\":-30}],\"title\":{\"text\":\"Row wise Null Value Distribution\",\"x\":0.5},\"showlegend\":false},                        {\"responsive\": true}                    ).then(function(){\n",
       "                            \n",
       "var gd = document.getElementById('6915c01d-c14c-49fc-aeb8-1cb7a91bbec3');\n",
       "var x = new MutationObserver(function (mutations, observer) {{\n",
       "        var display = window.getComputedStyle(gd).display;\n",
       "        if (!display || display === 'none') {{\n",
       "            console.log([gd, 'removed!']);\n",
       "            Plotly.purge(gd);\n",
       "            observer.disconnect();\n",
       "        }}\n",
       "}});\n",
       "\n",
       "// Listen for the removal of the full notebook cells\n",
       "var notebookContainer = gd.closest('#notebook-container');\n",
       "if (notebookContainer) {{\n",
       "    x.observe(notebookContainer, {childList: true});\n",
       "}}\n",
       "\n",
       "// Listen for the clearing of the current output cell\n",
       "var outputEl = gd.closest('.output');\n",
       "if (outputEl) {{\n",
       "    x.observe(outputEl, {childList: true});\n",
       "}}\n",
       "\n",
       "                        })                };                });            </script>        </div>"
      ]
     },
     "metadata": {},
     "output_type": "display_data"
    }
   ],
   "source": [
    "missing_train_row = train.isna().sum(axis = 1)\n",
    "missing_train_row = pd.DataFrame(missing_train_row.value_counts()/train.shape[0]).reset_index()\n",
    "missing_test_row = test.isna().sum(axis = 1)\n",
    "missing_test_row = pd.DataFrame(missing_test_row.value_counts()/test.shape[0]).reset_index()\n",
    "missing_train_row.columns = ['no', 'count']\n",
    "missing_test_row.columns = ['no', 'count']\n",
    "missing_train_row[\"count\"] = missing_train_row[\"count\"] * 100\n",
    "missing_test_row[\"count\"] = missing_test_row[\"count\"] * 100\n",
    "\n",
    "fig = make_subplots(rows = 1,\n",
    "                    cols = 2,\n",
    "                    column_titles = [\"train Data\", \"Test Data\"],\n",
    "                    x_title = \"Missing Values\")\n",
    "\n",
    "fig.add_trace(go.Bar(x = missing_train_row[\"no\"],\n",
    "                     y = missing_train_row[\"count\"],\n",
    "                     marker = dict(color = [n for n in range(4)],\n",
    "                                   line_color = 'rgb(0, 0, 0)',\n",
    "                                   line_width = 3,\n",
    "                                   coloraxis = \"coloraxis\")),\n",
    "              1, 1)\n",
    "\n",
    "fig.add_trace(go.Bar(x = missing_test_row[\"no\"],\n",
    "                     y = missing_test_row[\"count\"],\n",
    "                     marker = dict(color = [n for n in range(4)],\n",
    "                                   line_color = 'rgb(0, 0, 0)',\n",
    "                                   line_width = 3,\n",
    "                                   coloraxis = \"coloraxis\")),\n",
    "              1, 2)\n",
    "\n",
    "fig.update_layout(showlegend = False, title_text = \"Row wise Null Value Distribution\", title_x = 0.5)"
   ]
  },
  {
   "cell_type": "markdown",
   "id": "6483f4e0",
   "metadata": {
    "papermill": {
     "duration": 0.064362,
     "end_time": "2022-04-03T13:13:12.666907",
     "exception": false,
     "start_time": "2022-04-03T13:13:12.602545",
     "status": "completed"
    },
    "tags": []
   },
   "source": [
    "#### Dealing with missing value (reference)\n",
    "\n",
    "Some references on how to deal with missing value:\n",
    "\n",
    "- Missing Values by Alexis Cook\n",
    "- Data Cleaning Challenge: Handling missing values by Rachael Tatman\n",
    "- A Guide to Handling Missing values in Python by Parul Pandey\n",
    "\n",
    "Some models that have capability to handle missing value by default are:\n",
    "\n",
    "- XGBoost: https://xgboost.readthedocs.io/en/latest/faq.html\n",
    "- LightGBM: https://lightgbm.readthedocs.io/en/latest/Advanced-Topics.html\n",
    "- Catboost: https://catboost.ai/docs/concepts/algorithm-missing-values-processing.html"
   ]
  },
  {
   "cell_type": "markdown",
   "id": "14695feb",
   "metadata": {
    "papermill": {
     "duration": 0.064613,
     "end_time": "2022-04-03T13:13:12.798369",
     "exception": false,
     "start_time": "2022-04-03T13:13:12.733756",
     "status": "completed"
    },
    "tags": []
   },
   "source": [
    "### Continuos and Categorical Data Distribution\n",
    "\n",
    "📌  Observations in Null Value Distribution :\n",
    "* Out of 12 features 6 features are continous, 2 features are text data and 4 features are categorical.\n",
    "* HomePlanet and Destination have 3 differnt unique values.\n",
    "* CryoSleep and VIP are bool features"
   ]
  },
  {
   "cell_type": "markdown",
   "id": "6a05b7f1",
   "metadata": {
    "papermill": {
     "duration": 0.065344,
     "end_time": "2022-04-03T13:13:12.928840",
     "exception": false,
     "start_time": "2022-04-03T13:13:12.863496",
     "status": "completed"
    },
    "tags": []
   },
   "source": [
    "📌 Null 값 분포에서의 관측치:\n",
    "* 12가지 특징 중 6가지 특징이 연속적이며, 2가지 특징이 텍스트 데이터이며, 4가지 특징이 범주형입니다.\n",
    "* HomePlanet 및 Destination에는 3개의 다른 고유 값이 있습니다.\n",
    "* CryoSleep과 VIP는 부울 기능"
   ]
  },
  {
   "cell_type": "code",
   "execution_count": 22,
   "id": "bca47754",
   "metadata": {
    "execution": {
     "iopub.execute_input": "2022-04-03T13:13:13.076908Z",
     "iopub.status.busy": "2022-04-03T13:13:13.076175Z",
     "iopub.status.idle": "2022-04-03T13:13:13.149095Z",
     "shell.execute_reply": "2022-04-03T13:13:13.148337Z",
     "shell.execute_reply.started": "2022-04-01T07:59:38.728305Z"
    },
    "papermill": {
     "duration": 0.154531,
     "end_time": "2022-04-03T13:13:13.149240",
     "exception": false,
     "start_time": "2022-04-03T13:13:12.994709",
     "status": "completed"
    },
    "tags": []
   },
   "outputs": [
    {
     "name": "stdout",
     "output_type": "stream",
     "text": [
      "\u001b[94mTotal number of features : 12\n",
      "\u001b[94mNumber of categorical features: 4\n",
      "\u001b[94mNumber of continuos features: 6\n",
      "\u001b[94mNumber of text features: 2\n"
     ]
    },
    {
     "data": {
      "text/html": [
       "<div>                            <div id=\"bf225c4a-41cc-4923-8a8d-91f453059757\" class=\"plotly-graph-div\" style=\"height:525px; width:100%;\"></div>            <script type=\"text/javascript\">                require([\"plotly\"], function(Plotly) {                    window.PLOTLYENV=window.PLOTLYENV || {};                                    if (document.getElementById(\"bf225c4a-41cc-4923-8a8d-91f453059757\")) {                    Plotly.newPlot(                        \"bf225c4a-41cc-4923-8a8d-91f453059757\",                        [{\"labels\":[\"Categorical\",\"Continous\",\"Text\"],\"marker\":{\"colors\":[\"#DE3163\",\"#58D68D\"],\"line\":{\"color\":\"#000000\",\"width\":2}},\"pull\":[0.1,0,0],\"values\":[4,6,2],\"type\":\"pie\"}],                        {\"template\":{\"data\":{\"bar\":[{\"error_x\":{\"color\":\"#2a3f5f\"},\"error_y\":{\"color\":\"#2a3f5f\"},\"marker\":{\"line\":{\"color\":\"#E5ECF6\",\"width\":0.5},\"pattern\":{\"fillmode\":\"overlay\",\"size\":10,\"solidity\":0.2}},\"type\":\"bar\"}],\"barpolar\":[{\"marker\":{\"line\":{\"color\":\"#E5ECF6\",\"width\":0.5},\"pattern\":{\"fillmode\":\"overlay\",\"size\":10,\"solidity\":0.2}},\"type\":\"barpolar\"}],\"carpet\":[{\"aaxis\":{\"endlinecolor\":\"#2a3f5f\",\"gridcolor\":\"white\",\"linecolor\":\"white\",\"minorgridcolor\":\"white\",\"startlinecolor\":\"#2a3f5f\"},\"baxis\":{\"endlinecolor\":\"#2a3f5f\",\"gridcolor\":\"white\",\"linecolor\":\"white\",\"minorgridcolor\":\"white\",\"startlinecolor\":\"#2a3f5f\"},\"type\":\"carpet\"}],\"choropleth\":[{\"colorbar\":{\"outlinewidth\":0,\"ticks\":\"\"},\"type\":\"choropleth\"}],\"contour\":[{\"colorbar\":{\"outlinewidth\":0,\"ticks\":\"\"},\"colorscale\":[[0.0,\"#0d0887\"],[0.1111111111111111,\"#46039f\"],[0.2222222222222222,\"#7201a8\"],[0.3333333333333333,\"#9c179e\"],[0.4444444444444444,\"#bd3786\"],[0.5555555555555556,\"#d8576b\"],[0.6666666666666666,\"#ed7953\"],[0.7777777777777778,\"#fb9f3a\"],[0.8888888888888888,\"#fdca26\"],[1.0,\"#f0f921\"]],\"type\":\"contour\"}],\"contourcarpet\":[{\"colorbar\":{\"outlinewidth\":0,\"ticks\":\"\"},\"type\":\"contourcarpet\"}],\"heatmap\":[{\"colorbar\":{\"outlinewidth\":0,\"ticks\":\"\"},\"colorscale\":[[0.0,\"#0d0887\"],[0.1111111111111111,\"#46039f\"],[0.2222222222222222,\"#7201a8\"],[0.3333333333333333,\"#9c179e\"],[0.4444444444444444,\"#bd3786\"],[0.5555555555555556,\"#d8576b\"],[0.6666666666666666,\"#ed7953\"],[0.7777777777777778,\"#fb9f3a\"],[0.8888888888888888,\"#fdca26\"],[1.0,\"#f0f921\"]],\"type\":\"heatmap\"}],\"heatmapgl\":[{\"colorbar\":{\"outlinewidth\":0,\"ticks\":\"\"},\"colorscale\":[[0.0,\"#0d0887\"],[0.1111111111111111,\"#46039f\"],[0.2222222222222222,\"#7201a8\"],[0.3333333333333333,\"#9c179e\"],[0.4444444444444444,\"#bd3786\"],[0.5555555555555556,\"#d8576b\"],[0.6666666666666666,\"#ed7953\"],[0.7777777777777778,\"#fb9f3a\"],[0.8888888888888888,\"#fdca26\"],[1.0,\"#f0f921\"]],\"type\":\"heatmapgl\"}],\"histogram\":[{\"marker\":{\"pattern\":{\"fillmode\":\"overlay\",\"size\":10,\"solidity\":0.2}},\"type\":\"histogram\"}],\"histogram2d\":[{\"colorbar\":{\"outlinewidth\":0,\"ticks\":\"\"},\"colorscale\":[[0.0,\"#0d0887\"],[0.1111111111111111,\"#46039f\"],[0.2222222222222222,\"#7201a8\"],[0.3333333333333333,\"#9c179e\"],[0.4444444444444444,\"#bd3786\"],[0.5555555555555556,\"#d8576b\"],[0.6666666666666666,\"#ed7953\"],[0.7777777777777778,\"#fb9f3a\"],[0.8888888888888888,\"#fdca26\"],[1.0,\"#f0f921\"]],\"type\":\"histogram2d\"}],\"histogram2dcontour\":[{\"colorbar\":{\"outlinewidth\":0,\"ticks\":\"\"},\"colorscale\":[[0.0,\"#0d0887\"],[0.1111111111111111,\"#46039f\"],[0.2222222222222222,\"#7201a8\"],[0.3333333333333333,\"#9c179e\"],[0.4444444444444444,\"#bd3786\"],[0.5555555555555556,\"#d8576b\"],[0.6666666666666666,\"#ed7953\"],[0.7777777777777778,\"#fb9f3a\"],[0.8888888888888888,\"#fdca26\"],[1.0,\"#f0f921\"]],\"type\":\"histogram2dcontour\"}],\"mesh3d\":[{\"colorbar\":{\"outlinewidth\":0,\"ticks\":\"\"},\"type\":\"mesh3d\"}],\"parcoords\":[{\"line\":{\"colorbar\":{\"outlinewidth\":0,\"ticks\":\"\"}},\"type\":\"parcoords\"}],\"pie\":[{\"automargin\":true,\"type\":\"pie\"}],\"scatter\":[{\"marker\":{\"colorbar\":{\"outlinewidth\":0,\"ticks\":\"\"}},\"type\":\"scatter\"}],\"scatter3d\":[{\"line\":{\"colorbar\":{\"outlinewidth\":0,\"ticks\":\"\"}},\"marker\":{\"colorbar\":{\"outlinewidth\":0,\"ticks\":\"\"}},\"type\":\"scatter3d\"}],\"scattercarpet\":[{\"marker\":{\"colorbar\":{\"outlinewidth\":0,\"ticks\":\"\"}},\"type\":\"scattercarpet\"}],\"scattergeo\":[{\"marker\":{\"colorbar\":{\"outlinewidth\":0,\"ticks\":\"\"}},\"type\":\"scattergeo\"}],\"scattergl\":[{\"marker\":{\"colorbar\":{\"outlinewidth\":0,\"ticks\":\"\"}},\"type\":\"scattergl\"}],\"scattermapbox\":[{\"marker\":{\"colorbar\":{\"outlinewidth\":0,\"ticks\":\"\"}},\"type\":\"scattermapbox\"}],\"scatterpolar\":[{\"marker\":{\"colorbar\":{\"outlinewidth\":0,\"ticks\":\"\"}},\"type\":\"scatterpolar\"}],\"scatterpolargl\":[{\"marker\":{\"colorbar\":{\"outlinewidth\":0,\"ticks\":\"\"}},\"type\":\"scatterpolargl\"}],\"scatterternary\":[{\"marker\":{\"colorbar\":{\"outlinewidth\":0,\"ticks\":\"\"}},\"type\":\"scatterternary\"}],\"surface\":[{\"colorbar\":{\"outlinewidth\":0,\"ticks\":\"\"},\"colorscale\":[[0.0,\"#0d0887\"],[0.1111111111111111,\"#46039f\"],[0.2222222222222222,\"#7201a8\"],[0.3333333333333333,\"#9c179e\"],[0.4444444444444444,\"#bd3786\"],[0.5555555555555556,\"#d8576b\"],[0.6666666666666666,\"#ed7953\"],[0.7777777777777778,\"#fb9f3a\"],[0.8888888888888888,\"#fdca26\"],[1.0,\"#f0f921\"]],\"type\":\"surface\"}],\"table\":[{\"cells\":{\"fill\":{\"color\":\"#EBF0F8\"},\"line\":{\"color\":\"white\"}},\"header\":{\"fill\":{\"color\":\"#C8D4E3\"},\"line\":{\"color\":\"white\"}},\"type\":\"table\"}]},\"layout\":{\"annotationdefaults\":{\"arrowcolor\":\"#2a3f5f\",\"arrowhead\":0,\"arrowwidth\":1},\"autotypenumbers\":\"strict\",\"coloraxis\":{\"colorbar\":{\"outlinewidth\":0,\"ticks\":\"\"}},\"colorscale\":{\"diverging\":[[0,\"#8e0152\"],[0.1,\"#c51b7d\"],[0.2,\"#de77ae\"],[0.3,\"#f1b6da\"],[0.4,\"#fde0ef\"],[0.5,\"#f7f7f7\"],[0.6,\"#e6f5d0\"],[0.7,\"#b8e186\"],[0.8,\"#7fbc41\"],[0.9,\"#4d9221\"],[1,\"#276419\"]],\"sequential\":[[0.0,\"#0d0887\"],[0.1111111111111111,\"#46039f\"],[0.2222222222222222,\"#7201a8\"],[0.3333333333333333,\"#9c179e\"],[0.4444444444444444,\"#bd3786\"],[0.5555555555555556,\"#d8576b\"],[0.6666666666666666,\"#ed7953\"],[0.7777777777777778,\"#fb9f3a\"],[0.8888888888888888,\"#fdca26\"],[1.0,\"#f0f921\"]],\"sequentialminus\":[[0.0,\"#0d0887\"],[0.1111111111111111,\"#46039f\"],[0.2222222222222222,\"#7201a8\"],[0.3333333333333333,\"#9c179e\"],[0.4444444444444444,\"#bd3786\"],[0.5555555555555556,\"#d8576b\"],[0.6666666666666666,\"#ed7953\"],[0.7777777777777778,\"#fb9f3a\"],[0.8888888888888888,\"#fdca26\"],[1.0,\"#f0f921\"]]},\"colorway\":[\"#636efa\",\"#EF553B\",\"#00cc96\",\"#ab63fa\",\"#FFA15A\",\"#19d3f3\",\"#FF6692\",\"#B6E880\",\"#FF97FF\",\"#FECB52\"],\"font\":{\"color\":\"#2a3f5f\"},\"geo\":{\"bgcolor\":\"white\",\"lakecolor\":\"white\",\"landcolor\":\"#E5ECF6\",\"showlakes\":true,\"showland\":true,\"subunitcolor\":\"white\"},\"hoverlabel\":{\"align\":\"left\"},\"hovermode\":\"closest\",\"mapbox\":{\"style\":\"light\"},\"paper_bgcolor\":\"white\",\"plot_bgcolor\":\"#E5ECF6\",\"polar\":{\"angularaxis\":{\"gridcolor\":\"white\",\"linecolor\":\"white\",\"ticks\":\"\"},\"bgcolor\":\"#E5ECF6\",\"radialaxis\":{\"gridcolor\":\"white\",\"linecolor\":\"white\",\"ticks\":\"\"}},\"scene\":{\"xaxis\":{\"backgroundcolor\":\"#E5ECF6\",\"gridcolor\":\"white\",\"gridwidth\":2,\"linecolor\":\"white\",\"showbackground\":true,\"ticks\":\"\",\"zerolinecolor\":\"white\"},\"yaxis\":{\"backgroundcolor\":\"#E5ECF6\",\"gridcolor\":\"white\",\"gridwidth\":2,\"linecolor\":\"white\",\"showbackground\":true,\"ticks\":\"\",\"zerolinecolor\":\"white\"},\"zaxis\":{\"backgroundcolor\":\"#E5ECF6\",\"gridcolor\":\"white\",\"gridwidth\":2,\"linecolor\":\"white\",\"showbackground\":true,\"ticks\":\"\",\"zerolinecolor\":\"white\"}},\"shapedefaults\":{\"line\":{\"color\":\"#2a3f5f\"}},\"ternary\":{\"aaxis\":{\"gridcolor\":\"white\",\"linecolor\":\"white\",\"ticks\":\"\"},\"baxis\":{\"gridcolor\":\"white\",\"linecolor\":\"white\",\"ticks\":\"\"},\"bgcolor\":\"#E5ECF6\",\"caxis\":{\"gridcolor\":\"white\",\"linecolor\":\"white\",\"ticks\":\"\"}},\"title\":{\"x\":0.05},\"xaxis\":{\"automargin\":true,\"gridcolor\":\"white\",\"linecolor\":\"white\",\"ticks\":\"\",\"title\":{\"standoff\":15},\"zerolinecolor\":\"white\",\"zerolinewidth\":2},\"yaxis\":{\"automargin\":true,\"gridcolor\":\"white\",\"linecolor\":\"white\",\"ticks\":\"\",\"title\":{\"standoff\":15},\"zerolinecolor\":\"white\",\"zerolinewidth\":2}}}},                        {\"responsive\": true}                    ).then(function(){\n",
       "                            \n",
       "var gd = document.getElementById('bf225c4a-41cc-4923-8a8d-91f453059757');\n",
       "var x = new MutationObserver(function (mutations, observer) {{\n",
       "        var display = window.getComputedStyle(gd).display;\n",
       "        if (!display || display === 'none') {{\n",
       "            console.log([gd, 'removed!']);\n",
       "            Plotly.purge(gd);\n",
       "            observer.disconnect();\n",
       "        }}\n",
       "}});\n",
       "\n",
       "// Listen for the removal of the full notebook cells\n",
       "var notebookContainer = gd.closest('#notebook-container');\n",
       "if (notebookContainer) {{\n",
       "    x.observe(notebookContainer, {childList: true});\n",
       "}}\n",
       "\n",
       "// Listen for the clearing of the current output cell\n",
       "var outputEl = gd.closest('.output');\n",
       "if (outputEl) {{\n",
       "    x.observe(outputEl, {childList: true});\n",
       "}}\n",
       "\n",
       "                        })                };                });            </script>        </div>"
      ]
     },
     "metadata": {},
     "output_type": "display_data"
    }
   ],
   "source": [
    "df = pd.concat([train[FEATURES], test[FEATURES]], axis = 0)\n",
    "text_features = [\"Cabin\", \"Name\"]\n",
    "cat_features = [col for col in FEATURES if df[col].nunique() < 25 and col not in text_features]\n",
    "cont_features = [col for col in FEATURES if df[col].nunique() >= 25 and col not in text_features]\n",
    "\n",
    "del df\n",
    "\n",
    "print(f'\\033[94mTotal number of features : {len(FEATURES)}')\n",
    "print(f'\\033[94mNumber of categorical features: {len(cat_features)}')\n",
    "print(f'\\033[94mNumber of continuos features: {len(cont_features)}')\n",
    "print(f'\\033[94mNumber of text features: {len(text_features)}')\n",
    "\n",
    "labels = ['Categorical', 'Continous', 'Text']\n",
    "values = [len(cat_features), len(cont_features), len(text_features)]\n",
    "colors = ['#DE3163', '#58D68D']\n",
    "\n",
    "fig = go.Figure(data = [go.Pie(\n",
    "    labels = labels,\n",
    "    values = values, pull = [0.1, 0, 0],\n",
    "    marker = dict(colors = colors,\n",
    "                  line = dict(color = '#000000',\n",
    "                              width = 2)))])\n",
    "\n",
    "fig.show()"
   ]
  },
  {
   "cell_type": "markdown",
   "id": "11a5b1c3",
   "metadata": {
    "papermill": {
     "duration": 0.065481,
     "end_time": "2022-04-03T13:13:13.281993",
     "exception": false,
     "start_time": "2022-04-03T13:13:13.216512",
     "status": "completed"
    },
    "tags": []
   },
   "source": [
    "### Feature Distribution of Continous Features\n",
    "\n",
    "#### Distribution of Age"
   ]
  },
  {
   "cell_type": "code",
   "execution_count": 23,
   "id": "7f7a22fa",
   "metadata": {
    "execution": {
     "iopub.execute_input": "2022-04-03T13:13:13.424375Z",
     "iopub.status.busy": "2022-04-03T13:13:13.423689Z",
     "iopub.status.idle": "2022-04-03T13:13:14.400733Z",
     "shell.execute_reply": "2022-04-03T13:13:14.401229Z",
     "shell.execute_reply.started": "2022-04-01T07:59:38.814045Z"
    },
    "papermill": {
     "duration": 1.053389,
     "end_time": "2022-04-03T13:13:14.401415",
     "exception": false,
     "start_time": "2022-04-03T13:13:13.348026",
     "status": "completed"
    },
    "tags": []
   },
   "outputs": [
    {
     "data": {
      "text/html": [
       "<div>                            <div id=\"1cfdf0a0-b987-44e2-912b-6828d015dfa1\" class=\"plotly-graph-div\" style=\"height:525px; width:100%;\"></div>            <script type=\"text/javascript\">                require([\"plotly\"], function(Plotly) {                    window.PLOTLYENV=window.PLOTLYENV || {};                                    if (document.getElementById(\"1cfdf0a0-b987-44e2-912b-6828d015dfa1\")) {                    Plotly.newPlot(                        \"1cfdf0a0-b987-44e2-912b-6828d015dfa1\",                        [{\"alignmentgroup\":\"True\",\"bingroup\":\"x\",\"hovertemplate\":\"type=Train<br>Age=%{x}<br>count=%{y}<extra></extra>\",\"legendgroup\":\"Train\",\"marker\":{\"color\":\"#58D68D\",\"pattern\":{\"shape\":\"\"}},\"name\":\"Train\",\"nbinsx\":100,\"offsetgroup\":\"Train\",\"orientation\":\"v\",\"showlegend\":true,\"x\":[39.0,24.0,58.0,33.0,16.0,44.0,26.0,28.0,35.0,14.0,34.0,45.0,32.0,48.0,28.0,31.0,27.0,24.0,45.0,0.0,14.0,1.0,49.0,29.0,10.0,1.0,7.0,21.0,62.0,15.0,34.0,43.0,32.0,47.0,2.0,20.0,28.0,23.0,15.0,20.0,30.0,17.0,45.0,55.0,4.0,21.0,21.0,19.0,35.0,56.0,null,25.0,2.0,38.0,27.0,36.0,22.0,62.0,15.0,33.0,62.0,0.0,18.0,21.0,null,42.0,19.0,17.0,14.0,37.0,42.0,27.0,28.0,38.0,13.0,42.0,2.0,8.0,24.0,40.0,43.0,45.0,35.0,26.0,27.0,19.0,0.0,3.0,54.0,26.0,26.0,23.0,2.0,31.0,18.0,24.0,9.0,6.0,27.0,21.0,23.0,31.0,0.0,32.0,40.0,42.0,28.0,29.0,48.0,64.0,27.0,26.0,33.0,39.0,13.0,24.0,29.0,18.0,67.0,35.0,61.0,45.0,22.0,19.0,36.0,19.0,47.0,13.0,34.0,35.0,24.0,26.0,31.0,20.0,56.0,50.0,42.0,null,38.0,41.0,22.0,26.0,17.0,57.0,17.0,35.0,13.0,27.0,31.0,24.0,19.0,32.0,58.0,21.0,38.0,38.0,19.0,0.0,3.0,20.0,24.0,37.0,25.0,56.0,49.0,11.0,1.0,8.0,39.0,2.0,23.0,0.0,39.0,25.0,36.0,52.0,18.0,15.0,35.0,47.0,45.0,null,51.0,29.0,null,19.0,24.0,29.0,11.0,17.0,13.0,35.0,21.0,21.0,38.0,19.0,2.0,0.0,13.0,25.0,16.0,1.0,15.0,21.0,23.0,33.0,21.0,41.0,16.0,42.0,20.0,24.0,16.0,21.0,32.0,58.0,24.0,30.0,27.0,32.0,43.0,42.0,37.0,35.0,33.0,18.0,21.0,43.0,14.0,46.0,33.0,21.0,33.0,47.0,54.0,30.0,29.0,21.0,24.0,21.0,60.0,22.0,26.0,26.0,28.0,39.0,13.0,47.0,63.0,null,50.0,35.0,45.0,19.0,21.0,29.0,22.0,14.0,42.0,57.0,39.0,28.0,19.0,19.0,26.0,17.0,43.0,9.0,40.0,50.0,24.0,57.0,16.0,23.0,23.0,28.0,23.0,23.0,18.0,18.0,67.0,60.0,null,49.0,0.0,26.0,35.0,24.0,20.0,18.0,21.0,59.0,13.0,43.0,29.0,19.0,2.0,32.0,33.0,25.0,29.0,29.0,44.0,2.0,19.0,0.0,18.0,38.0,5.0,31.0,30.0,15.0,27.0,22.0,36.0,14.0,23.0,18.0,36.0,41.0,50.0,32.0,26.0,15.0,33.0,null,26.0,61.0,24.0,30.0,24.0,24.0,41.0,20.0,22.0,63.0,18.0,21.0,79.0,56.0,13.0,33.0,32.0,31.0,26.0,18.0,38.0,23.0,28.0,34.0,0.0,14.0,23.0,49.0,14.0,18.0,27.0,48.0,31.0,61.0,18.0,45.0,22.0,30.0,30.0,32.0,43.0,17.0,23.0,20.0,39.0,35.0,31.0,21.0,16.0,60.0,18.0,42.0,68.0,22.0,59.0,null,37.0,3.0,31.0,31.0,29.0,20.0,46.0,29.0,43.0,17.0,27.0,47.0,45.0,17.0,10.0,56.0,39.0,40.0,40.0,34.0,32.0,35.0,32.0,26.0,25.0,26.0,22.0,22.0,24.0,32.0,11.0,22.0,19.0,34.0,74.0,28.0,42.0,43.0,55.0,19.0,6.0,7.0,28.0,15.0,24.0,31.0,22.0,1.0,50.0,34.0,14.0,19.0,null,36.0,34.0,25.0,36.0,16.0,30.0,37.0,15.0,36.0,27.0,27.0,12.0,22.0,27.0,13.0,27.0,28.0,21.0,39.0,28.0,14.0,27.0,46.0,27.0,21.0,21.0,42.0,22.0,10.0,43.0,42.0,18.0,54.0,24.0,64.0,18.0,53.0,23.0,39.0,59.0,32.0,55.0,21.0,50.0,55.0,null,35.0,null,55.0,23.0,42.0,35.0,47.0,null,34.0,46.0,26.0,1.0,null,33.0,34.0,49.0,22.0,28.0,null,36.0,30.0,49.0,38.0,31.0,17.0,26.0,23.0,24.0,23.0,24.0,32.0,43.0,23.0,42.0,29.0,40.0,37.0,61.0,33.0,19.0,21.0,4.0,12.0,44.0,22.0,33.0,32.0,28.0,28.0,31.0,13.0,14.0,33.0,null,23.0,36.0,22.0,19.0,42.0,30.0,16.0,55.0,55.0,19.0,null,18.0,21.0,65.0,55.0,50.0,49.0,22.0,33.0,3.0,0.0,33.0,48.0,5.0,23.0,53.0,18.0,20.0,23.0,48.0,19.0,null,9.0,24.0,46.0,23.0,21.0,19.0,0.0,4.0,26.0,9.0,24.0,24.0,25.0,21.0,21.0,37.0,44.0,43.0,7.0,33.0,24.0,31.0,27.0,34.0,58.0,7.0,3.0,21.0,21.0,39.0,43.0,22.0,44.0,38.0,32.0,55.0,31.0,39.0,35.0,37.0,13.0,21.0,20.0,20.0,63.0,36.0,29.0,36.0,79.0,30.0,30.0,19.0,33.0,20.0,38.0,7.0,58.0,33.0,3.0,39.0,37.0,32.0,28.0,38.0,21.0,18.0,15.0,44.0,44.0,36.0,28.0,15.0,45.0,26.0,46.0,25.0,46.0,15.0,37.0,20.0,45.0,7.0,5.0,38.0,30.0,null,0.0,20.0,41.0,18.0,29.0,19.0,34.0,36.0,54.0,19.0,21.0,23.0,35.0,34.0,22.0,24.0,18.0,24.0,33.0,24.0,18.0,19.0,43.0,44.0,25.0,25.0,23.0,23.0,20.0,2.0,26.0,38.0,1.0,12.0,2.0,25.0,1.0,0.0,54.0,21.0,19.0,24.0,20.0,23.0,29.0,14.0,19.0,23.0,62.0,23.0,65.0,47.0,67.0,14.0,41.0,14.0,19.0,22.0,34.0,65.0,42.0,22.0,54.0,34.0,27.0,67.0,33.0,30.0,22.0,35.0,23.0,49.0,36.0,31.0,54.0,0.0,null,54.0,10.0,0.0,7.0,25.0,37.0,15.0,26.0,7.0,30.0,19.0,30.0,21.0,21.0,59.0,28.0,32.0,19.0,7.0,16.0,31.0,30.0,26.0,20.0,24.0,39.0,19.0,27.0,34.0,28.0,29.0,38.0,null,1.0,36.0,31.0,1.0,31.0,10.0,null,42.0,0.0,41.0,0.0,0.0,59.0,13.0,24.0,20.0,71.0,23.0,15.0,18.0,19.0,4.0,42.0,51.0,13.0,27.0,42.0,41.0,21.0,31.0,36.0,31.0,14.0,32.0,32.0,27.0,57.0,13.0,30.0,14.0,27.0,32.0,54.0,23.0,38.0,32.0,24.0,36.0,11.0,6.0,36.0,22.0,null,37.0,55.0,null,20.0,16.0,19.0,38.0,35.0,33.0,37.0,46.0,41.0,13.0,31.0,52.0,48.0,27.0,16.0,32.0,25.0,26.0,44.0,32.0,18.0,23.0,44.0,29.0,19.0,41.0,28.0,19.0,32.0,74.0,31.0,38.0,20.0,24.0,26.0,44.0,33.0,31.0,null,22.0,33.0,34.0,11.0,41.0,30.0,30.0,25.0,31.0,38.0,15.0,19.0,29.0,30.0,29.0,36.0,24.0,30.0,0.0,15.0,38.0,13.0,18.0,16.0,8.0,19.0,26.0,15.0,38.0,45.0,48.0,17.0,28.0,41.0,19.0,14.0,21.0,48.0,19.0,29.0,20.0,44.0,19.0,64.0,21.0,32.0,20.0,24.0,44.0,57.0,51.0,34.0,45.0,24.0,23.0,30.0,20.0,22.0,null,71.0,18.0,16.0,28.0,36.0,6.0,26.0,27.0,49.0,29.0,46.0,35.0,17.0,37.0,24.0,47.0,26.0,46.0,27.0,56.0,18.0,15.0,3.0,42.0,1.0,56.0,20.0,21.0,5.0,12.0,39.0,60.0,31.0,58.0,19.0,29.0,19.0,44.0,20.0,18.0,36.0,25.0,15.0,18.0,0.0,54.0,0.0,20.0,21.0,8.0,46.0,31.0,3.0,30.0,23.0,14.0,25.0,61.0,31.0,13.0,24.0,47.0,15.0,46.0,49.0,37.0,44.0,16.0,58.0,20.0,36.0,31.0,21.0,22.0,27.0,58.0,38.0,30.0,20.0,19.0,57.0,26.0,38.0,15.0,null,35.0,38.0,35.0,14.0,27.0,25.0,37.0,25.0,41.0,50.0,33.0,27.0,23.0,18.0,31.0,54.0,0.0,11.0,4.0,19.0,7.0,20.0,33.0,26.0,35.0,23.0,60.0,34.0,null,42.0,22.0,18.0,5.0,18.0,29.0,39.0,17.0,58.0,5.0,23.0,26.0,40.0,20.0,38.0,31.0,34.0,9.0,36.0,26.0,18.0,55.0,28.0,18.0,28.0,23.0,20.0,22.0,27.0,13.0,32.0,53.0,34.0,42.0,19.0,54.0,12.0,35.0,55.0,26.0,49.0,22.0,null,30.0,39.0,14.0,29.0,34.0,8.0,7.0,3.0,0.0,10.0,16.0,41.0,18.0,25.0,32.0,26.0,26.0,18.0,27.0,26.0,28.0,19.0,31.0,35.0,46.0,37.0,29.0,17.0,30.0,28.0,16.0,40.0,23.0,24.0,36.0,34.0,59.0,20.0,15.0,19.0,64.0,24.0,23.0,30.0,0.0,8.0,1.0,48.0,12.0,30.0,10.0,11.0,58.0,52.0,36.0,32.0,16.0,25.0,28.0,32.0,28.0,16.0,50.0,20.0,23.0,45.0,23.0,53.0,8.0,6.0,3.0,13.0,60.0,1.0,40.0,51.0,31.0,28.0,20.0,14.0,23.0,4.0,20.0,75.0,24.0,18.0,21.0,59.0,27.0,38.0,41.0,36.0,29.0,22.0,23.0,32.0,21.0,26.0,61.0,30.0,40.0,37.0,41.0,32.0,30.0,27.0,22.0,54.0,27.0,52.0,15.0,27.0,30.0,19.0,22.0,43.0,25.0,51.0,34.0,21.0,21.0,23.0,38.0,30.0,31.0,44.0,14.0,18.0,19.0,null,36.0,10.0,1.0,4.0,21.0,24.0,8.0,18.0,33.0,31.0,43.0,20.0,28.0,30.0,28.0,19.0,22.0,27.0,22.0,2.0,4.0,10.0,9.0,37.0,2.0,44.0,11.0,22.0,40.0,30.0,37.0,26.0,19.0,57.0,1.0,17.0,26.0,21.0,28.0,36.0,25.0,40.0,23.0,2.0,10.0,43.0,0.0,24.0,42.0,30.0,19.0,26.0,47.0,28.0,24.0,29.0,32.0,44.0,17.0,35.0,23.0,34.0,25.0,67.0,22.0,null,27.0,14.0,42.0,19.0,22.0,31.0,10.0,39.0,41.0,0.0,22.0,21.0,40.0,25.0,23.0,33.0,20.0,40.0,27.0,21.0,25.0,2.0,19.0,41.0,43.0,19.0,22.0,16.0,42.0,20.0,35.0,53.0,17.0,6.0,22.0,41.0,19.0,39.0,23.0,31.0,38.0,1.0,13.0,21.0,44.0,36.0,19.0,7.0,39.0,28.0,28.0,14.0,18.0,23.0,33.0,18.0,47.0,42.0,17.0,21.0,17.0,26.0,23.0,15.0,18.0,65.0,33.0,27.0,41.0,42.0,null,37.0,17.0,24.0,39.0,59.0,32.0,29.0,8.0,28.0,35.0,24.0,1.0,4.0,28.0,46.0,67.0,44.0,14.0,23.0,51.0,20.0,0.0,0.0,23.0,24.0,41.0,30.0,27.0,13.0,16.0,30.0,8.0,59.0,43.0,30.0,46.0,39.0,21.0,70.0,34.0,33.0,44.0,16.0,63.0,37.0,29.0,29.0,22.0,26.0,76.0,61.0,46.0,19.0,13.0,null,30.0,23.0,63.0,21.0,32.0,33.0,39.0,49.0,27.0,16.0,38.0,42.0,19.0,26.0,32.0,56.0,0.0,38.0,30.0,21.0,11.0,3.0,17.0,35.0,17.0,0.0,46.0,63.0,35.0,61.0,19.0,43.0,14.0,78.0,21.0,32.0,31.0,40.0,13.0,36.0,31.0,18.0,40.0,28.0,41.0,35.0,14.0,20.0,23.0,22.0,25.0,18.0,25.0,30.0,46.0,27.0,53.0,21.0,32.0,32.0,33.0,26.0,47.0,13.0,34.0,21.0,20.0,21.0,51.0,18.0,26.0,53.0,30.0,37.0,45.0,62.0,38.0,24.0,18.0,23.0,16.0,37.0,22.0,18.0,25.0,26.0,25.0,55.0,28.0,23.0,22.0,26.0,13.0,18.0,38.0,28.0,57.0,0.0,18.0,25.0,35.0,37.0,33.0,35.0,47.0,23.0,null,27.0,23.0,31.0,19.0,53.0,37.0,18.0,42.0,7.0,7.0,24.0,20.0,24.0,42.0,49.0,47.0,16.0,26.0,24.0,38.0,0.0,37.0,39.0,25.0,25.0,35.0,0.0,46.0,4.0,19.0,29.0,19.0,47.0,1.0,4.0,37.0,61.0,32.0,4.0,16.0,25.0,22.0,41.0,25.0,19.0,21.0,14.0,18.0,34.0,33.0,14.0,28.0,43.0,3.0,0.0,47.0,28.0,40.0,17.0,21.0,null,41.0,20.0,56.0,57.0,48.0,37.0,20.0,36.0,38.0,22.0,31.0,0.0,21.0,49.0,44.0,null,29.0,16.0,20.0,26.0,19.0,34.0,38.0,51.0,7.0,3.0,26.0,27.0,7.0,19.0,28.0,27.0,31.0,26.0,43.0,23.0,14.0,47.0,17.0,64.0,13.0,18.0,29.0,70.0,23.0,23.0,35.0,17.0,26.0,15.0,19.0,20.0,51.0,17.0,27.0,43.0,5.0,17.0,40.0,38.0,20.0,13.0,15.0,15.0,59.0,24.0,null,52.0,38.0,26.0,17.0,17.0,20.0,15.0,30.0,22.0,18.0,22.0,20.0,22.0,34.0,28.0,50.0,19.0,21.0,0.0,4.0,59.0,15.0,24.0,26.0,67.0,55.0,50.0,23.0,21.0,15.0,41.0,59.0,18.0,21.0,14.0,50.0,32.0,46.0,null,58.0,15.0,35.0,30.0,30.0,43.0,21.0,15.0,37.0,28.0,28.0,40.0,42.0,21.0,31.0,51.0,73.0,26.0,33.0,39.0,19.0,12.0,10.0,0.0,0.0,1.0,33.0,23.0,5.0,24.0,26.0,30.0,33.0,56.0,25.0,null,25.0,18.0,60.0,41.0,16.0,17.0,26.0,31.0,67.0,16.0,24.0,19.0,48.0,30.0,22.0,28.0,23.0,29.0,22.0,48.0,26.0,23.0,55.0,46.0,38.0,2.0,3.0,20.0,65.0,null,25.0,54.0,25.0,14.0,53.0,0.0,39.0,22.0,31.0,24.0,35.0,35.0,32.0,61.0,58.0,26.0,4.0,1.0,8.0,7.0,25.0,6.0,29.0,64.0,31.0,25.0,30.0,0.0,29.0,37.0,49.0,36.0,20.0,20.0,18.0,17.0,48.0,26.0,35.0,30.0,22.0,5.0,43.0,52.0,50.0,29.0,19.0,39.0,38.0,21.0,25.0,42.0,36.0,19.0,42.0,40.0,14.0,50.0,18.0,46.0,null,15.0,22.0,0.0,52.0,38.0,46.0,23.0,63.0,24.0,50.0,20.0,55.0,21.0,56.0,45.0,18.0,47.0,36.0,57.0,13.0,27.0,20.0,47.0,15.0,34.0,21.0,51.0,23.0,58.0,37.0,44.0,25.0,15.0,40.0,29.0,36.0,21.0,35.0,24.0,2.0,0.0,43.0,63.0,30.0,38.0,27.0,54.0,39.0,41.0,22.0,23.0,34.0,26.0,39.0,15.0,64.0,25.0,35.0,19.0,26.0,3.0,29.0,44.0,27.0,17.0,37.0,19.0,44.0,22.0,22.0,21.0,31.0,17.0,30.0,15.0,42.0,55.0,28.0,33.0,19.0,24.0,4.0,2.0,30.0,31.0,17.0,40.0,33.0,46.0,30.0,17.0,19.0,22.0,20.0,36.0,0.0,17.0,null,15.0,20.0,19.0,24.0,43.0,26.0,42.0,21.0,50.0,25.0,64.0,50.0,24.0,27.0,42.0,30.0,20.0,31.0,26.0,39.0,null,32.0,25.0,6.0,3.0,11.0,52.0,14.0,68.0,18.0,55.0,22.0,34.0,17.0,38.0,13.0,19.0,30.0,27.0,17.0,45.0,28.0,23.0,24.0,23.0,29.0,46.0,17.0,20.0,24.0,40.0,null,38.0,65.0,19.0,54.0,38.0,40.0,21.0,22.0,33.0,18.0,43.0,13.0,26.0,22.0,21.0,25.0,29.0,49.0,29.0,45.0,45.0,30.0,29.0,26.0,16.0,20.0,33.0,18.0,24.0,29.0,40.0,27.0,35.0,31.0,26.0,49.0,23.0,23.0,14.0,21.0,18.0,null,19.0,22.0,17.0,13.0,26.0,null,16.0,20.0,20.0,23.0,61.0,27.0,3.0,4.0,13.0,19.0,18.0,66.0,39.0,21.0,7.0,56.0,15.0,null,13.0,18.0,38.0,45.0,21.0,19.0,49.0,21.0,18.0,43.0,27.0,0.0,27.0,21.0,20.0,35.0,20.0,24.0,41.0,23.0,27.0,58.0,53.0,30.0,24.0,31.0,46.0,20.0,20.0,30.0,24.0,34.0,20.0,48.0,25.0,43.0,27.0,47.0,26.0,37.0,42.0,61.0,29.0,32.0,51.0,43.0,25.0,31.0,13.0,20.0,29.0,16.0,15.0,50.0,41.0,43.0,32.0,36.0,18.0,47.0,29.0,null,14.0,25.0,63.0,22.0,32.0,31.0,24.0,39.0,20.0,20.0,19.0,20.0,31.0,17.0,24.0,27.0,28.0,41.0,25.0,26.0,27.0,22.0,62.0,58.0,37.0,54.0,26.0,44.0,34.0,47.0,27.0,22.0,46.0,29.0,43.0,42.0,39.0,30.0,43.0,19.0,26.0,46.0,3.0,21.0,1.0,22.0,27.0,28.0,36.0,19.0,18.0,47.0,18.0,6.0,20.0,18.0,37.0,22.0,37.0,6.0,36.0,46.0,75.0,37.0,22.0,33.0,35.0,19.0,34.0,23.0,37.0,24.0,54.0,52.0,60.0,1.0,null,22.0,27.0,48.0,47.0,25.0,49.0,33.0,67.0,5.0,60.0,56.0,59.0,44.0,33.0,28.0,29.0,13.0,34.0,45.0,39.0,18.0,57.0,null,25.0,22.0,32.0,29.0,21.0,16.0,45.0,44.0,27.0,26.0,46.0,24.0,15.0,53.0,28.0,11.0,7.0,0.0,15.0,31.0,9.0,44.0,35.0,30.0,13.0,45.0,4.0,21.0,20.0,24.0,3.0,29.0,28.0,44.0,50.0,35.0,19.0,22.0,30.0,36.0,20.0,22.0,22.0,32.0,35.0,41.0,57.0,3.0,11.0,4.0,17.0,30.0,11.0,23.0,58.0,22.0,24.0,20.0,37.0,49.0,46.0,30.0,36.0,21.0,25.0,42.0,13.0,25.0,29.0,17.0,36.0,44.0,18.0,22.0,22.0,43.0,29.0,24.0,18.0,42.0,43.0,32.0,15.0,22.0,20.0,34.0,70.0,18.0,26.0,17.0,13.0,19.0,32.0,33.0,21.0,23.0,24.0,17.0,34.0,31.0,43.0,43.0,33.0,28.0,27.0,7.0,16.0,42.0,27.0,19.0,42.0,13.0,16.0,21.0,28.0,69.0,15.0,48.0,42.0,42.0,23.0,26.0,45.0,30.0,36.0,null,35.0,21.0,50.0,52.0,21.0,41.0,35.0,26.0,17.0,69.0,27.0,25.0,27.0,25.0,36.0,14.0,27.0,22.0,24.0,null,4.0,19.0,19.0,38.0,39.0,23.0,57.0,18.0,43.0,28.0,33.0,37.0,28.0,28.0,18.0,29.0,29.0,28.0,24.0,59.0,43.0,20.0,23.0,27.0,38.0,38.0,48.0,25.0,25.0,24.0,69.0,20.0,18.0,28.0,23.0,24.0,44.0,29.0,6.0,42.0,78.0,36.0,37.0,41.0,18.0,62.0,0.0,55.0,16.0,32.0,19.0,7.0,4.0,30.0,24.0,34.0,30.0,3.0,32.0,55.0,0.0,51.0,0.0,21.0,2.0,19.0,24.0,20.0,42.0,17.0,32.0,28.0,21.0,56.0,28.0,42.0,18.0,24.0,20.0,22.0,22.0,21.0,28.0,26.0,50.0,26.0,30.0,29.0,8.0,45.0,35.0,18.0,23.0,29.0,18.0,28.0,34.0,0.0,4.0,28.0,8.0,20.0,20.0,25.0,31.0,37.0,21.0,24.0,34.0,0.0,25.0,43.0,null,45.0,63.0,17.0,35.0,12.0,null,17.0,32.0,23.0,17.0,34.0,15.0,14.0,22.0,19.0,40.0,25.0,51.0,22.0,50.0,26.0,39.0,18.0,22.0,26.0,19.0,16.0,24.0,34.0,55.0,42.0,14.0,28.0,26.0,33.0,24.0,23.0,16.0,36.0,44.0,22.0,30.0,20.0,21.0,14.0,27.0,19.0,21.0,null,13.0,71.0,28.0,18.0,23.0,34.0,20.0,17.0,21.0,33.0,34.0,51.0,21.0,null,31.0,36.0,39.0,26.0,51.0,24.0,27.0,31.0,24.0,57.0,36.0,55.0,null,18.0,27.0,50.0,24.0,20.0,24.0,18.0,44.0,27.0,58.0,29.0,23.0,3.0,0.0,33.0,12.0,44.0,20.0,59.0,18.0,72.0,23.0,11.0,1.0,25.0,25.0,24.0,54.0,17.0,48.0,40.0,2.0,32.0,15.0,52.0,16.0,16.0,16.0,6.0,10.0,27.0,45.0,26.0,29.0,38.0,19.0,43.0,15.0,31.0,52.0,49.0,29.0,18.0,41.0,9.0,null,58.0,39.0,13.0,36.0,23.0,24.0,33.0,18.0,2.0,0.0,36.0,15.0,31.0,42.0,27.0,36.0,0.0,3.0,22.0,56.0,23.0,25.0,29.0,17.0,13.0,35.0,53.0,24.0,38.0,21.0,29.0,46.0,58.0,53.0,21.0,27.0,31.0,23.0,41.0,29.0,54.0,43.0,36.0,48.0,34.0,42.0,17.0,22.0,37.0,38.0,21.0,23.0,27.0,23.0,19.0,28.0,33.0,24.0,0.0,41.0,19.0,44.0,43.0,14.0,18.0,25.0,0.0,4.0,24.0,38.0,44.0,57.0,3.0,5.0,3.0,18.0,8.0,21.0,35.0,47.0,28.0,49.0,23.0,19.0,34.0,40.0,26.0,23.0,22.0,51.0,44.0,50.0,28.0,13.0,21.0,20.0,14.0,38.0,29.0,36.0,16.0,40.0,null,18.0,17.0,32.0,27.0,34.0,53.0,36.0,41.0,51.0,61.0,59.0,17.0,27.0,57.0,39.0,55.0,42.0,36.0,42.0,32.0,6.0,15.0,28.0,37.0,44.0,71.0,44.0,36.0,18.0,3.0,12.0,0.0,29.0,9.0,27.0,24.0,38.0,28.0,26.0,16.0,24.0,33.0,24.0,29.0,25.0,0.0,13.0,7.0,32.0,34.0,49.0,43.0,0.0,6.0,23.0,43.0,23.0,43.0,41.0,54.0,51.0,44.0,48.0,45.0,20.0,33.0,21.0,68.0,23.0,16.0,35.0,22.0,51.0,2.0,29.0,0.0,39.0,55.0,22.0,20.0,25.0,18.0,28.0,26.0,28.0,54.0,56.0,25.0,26.0,14.0,21.0,43.0,37.0,null,38.0,14.0,20.0,33.0,33.0,13.0,37.0,15.0,33.0,24.0,49.0,24.0,24.0,26.0,40.0,31.0,47.0,19.0,38.0,33.0,45.0,1.0,32.0,70.0,19.0,55.0,48.0,66.0,13.0,40.0,35.0,32.0,51.0,37.0,31.0,37.0,38.0,19.0,33.0,19.0,31.0,43.0,22.0,24.0,21.0,14.0,30.0,22.0,11.0,4.0,0.0,30.0,21.0,40.0,57.0,35.0,32.0,32.0,30.0,69.0,21.0,17.0,16.0,25.0,25.0,52.0,13.0,37.0,13.0,45.0,55.0,22.0,39.0,35.0,19.0,7.0,19.0,21.0,37.0,35.0,22.0,62.0,41.0,16.0,26.0,36.0,null,22.0,40.0,50.0,57.0,15.0,23.0,60.0,73.0,35.0,28.0,27.0,14.0,26.0,22.0,22.0,71.0,25.0,27.0,1.0,52.0,0.0,30.0,52.0,12.0,22.0,24.0,22.0,15.0,21.0,56.0,50.0,20.0,32.0,28.0,74.0,25.0,31.0,6.0,17.0,12.0,47.0,46.0,31.0,36.0,15.0,38.0,48.0,21.0,4.0,31.0,31.0,62.0,29.0,30.0,26.0,43.0,32.0,24.0,49.0,21.0,18.0,18.0,14.0,21.0,25.0,56.0,0.0,55.0,14.0,13.0,43.0,39.0,null,24.0,26.0,22.0,26.0,19.0,38.0,38.0,77.0,28.0,22.0,20.0,18.0,10.0,34.0,43.0,31.0,40.0,25.0,68.0,20.0,27.0,1.0,60.0,28.0,11.0,0.0,9.0,38.0,18.0,40.0,21.0,24.0,26.0,47.0,46.0,55.0,50.0,10.0,17.0,20.0,37.0,24.0,43.0,0.0,24.0,22.0,14.0,3.0,22.0,23.0,56.0,36.0,58.0,1.0,39.0,33.0,19.0,null,33.0,17.0,28.0,21.0,45.0,62.0,43.0,27.0,1.0,31.0,18.0,21.0,7.0,22.0,26.0,30.0,17.0,null,10.0,25.0,21.0,53.0,21.0,28.0,20.0,54.0,9.0,20.0,19.0,32.0,22.0,35.0,26.0,51.0,8.0,40.0,2.0,19.0,32.0,16.0,64.0,35.0,33.0,9.0,21.0,28.0,28.0,31.0,32.0,43.0,60.0,43.0,43.0,19.0,21.0,38.0,17.0,29.0,2.0,22.0,18.0,16.0,52.0,52.0,14.0,25.0,34.0,20.0,28.0,null,20.0,44.0,64.0,27.0,24.0,38.0,47.0,8.0,1.0,0.0,20.0,41.0,35.0,31.0,14.0,25.0,26.0,26.0,30.0,49.0,19.0,15.0,27.0,39.0,32.0,11.0,44.0,36.0,56.0,42.0,40.0,53.0,31.0,14.0,31.0,42.0,32.0,34.0,55.0,42.0,40.0,48.0,37.0,17.0,60.0,19.0,30.0,32.0,28.0,26.0,24.0,47.0,32.0,73.0,17.0,47.0,null,13.0,22.0,61.0,19.0,45.0,18.0,32.0,52.0,25.0,9.0,18.0,26.0,20.0,6.0,5.0,40.0,20.0,18.0,42.0,14.0,33.0,23.0,35.0,53.0,56.0,35.0,18.0,25.0,20.0,44.0,26.0,23.0,39.0,25.0,42.0,20.0,4.0,64.0,0.0,19.0,6.0,23.0,22.0,18.0,21.0,37.0,24.0,38.0,11.0,6.0,49.0,55.0,15.0,19.0,16.0,48.0,25.0,23.0,27.0,39.0,28.0,72.0,47.0,65.0,40.0,18.0,27.0,21.0,37.0,31.0,33.0,53.0,27.0,74.0,null,23.0,74.0,23.0,26.0,0.0,0.0,24.0,28.0,17.0,26.0,39.0,17.0,15.0,37.0,38.0,33.0,16.0,41.0,7.0,20.0,44.0,42.0,29.0,22.0,21.0,21.0,21.0,13.0,16.0,36.0,36.0,26.0,28.0,14.0,29.0,19.0,51.0,64.0,41.0,null,16.0,20.0,31.0,38.0,59.0,18.0,33.0,33.0,49.0,4.0,0.0,0.0,24.0,52.0,50.0,31.0,25.0,62.0,49.0,24.0,33.0,20.0,46.0,26.0,52.0,28.0,39.0,29.0,19.0,15.0,33.0,47.0,34.0,26.0,15.0,null,27.0,38.0,21.0,1.0,38.0,0.0,32.0,27.0,48.0,22.0,28.0,19.0,37.0,46.0,26.0,16.0,0.0,0.0,26.0,13.0,23.0,70.0,21.0,40.0,18.0,23.0,15.0,28.0,45.0,18.0,23.0,36.0,25.0,28.0,29.0,31.0,14.0,31.0,39.0,17.0,56.0,36.0,21.0,48.0,53.0,5.0,21.0,50.0,18.0,28.0,28.0,18.0,37.0,19.0,27.0,37.0,43.0,17.0,21.0,55.0,14.0,24.0,26.0,19.0,20.0,14.0,19.0,15.0,25.0,24.0,22.0,26.0,23.0,20.0,53.0,55.0,22.0,35.0,40.0,22.0,22.0,21.0,64.0,40.0,8.0,25.0,19.0,24.0,11.0,31.0,46.0,31.0,17.0,16.0,57.0,28.0,27.0,28.0,26.0,17.0,36.0,24.0,18.0,20.0,10.0,null,23.0,36.0,27.0,54.0,38.0,29.0,37.0,36.0,18.0,28.0,61.0,19.0,29.0,37.0,29.0,38.0,41.0,23.0,48.0,0.0,46.0,36.0,42.0,null,16.0,43.0,40.0,22.0,39.0,37.0,28.0,29.0,14.0,15.0,17.0,4.0,24.0,null,22.0,38.0,30.0,29.0,26.0,41.0,50.0,34.0,24.0,24.0,45.0,35.0,23.0,23.0,21.0,19.0,24.0,2.0,0.0,20.0,35.0,34.0,26.0,26.0,32.0,25.0,30.0,57.0,23.0,32.0,27.0,20.0,21.0,19.0,16.0,18.0,18.0,22.0,null,35.0,8.0,5.0,40.0,31.0,9.0,56.0,39.0,18.0,45.0,33.0,2.0,1.0,2.0,16.0,18.0,28.0,45.0,24.0,35.0,16.0,40.0,5.0,29.0,31.0,27.0,34.0,15.0,43.0,30.0,61.0,48.0,17.0,19.0,29.0,2.0,24.0,19.0,34.0,19.0,39.0,26.0,53.0,18.0,null,45.0,32.0,18.0,48.0,24.0,52.0,55.0,43.0,24.0,8.0,18.0,38.0,18.0,23.0,26.0,21.0,45.0,24.0,44.0,20.0,47.0,16.0,28.0,8.0,20.0,22.0,42.0,23.0,30.0,18.0,35.0,42.0,46.0,29.0,35.0,48.0,24.0,38.0,51.0,77.0,22.0,38.0,42.0,55.0,7.0,null,25.0,15.0,13.0,23.0,null,33.0,26.0,67.0,27.0,33.0,18.0,36.0,18.0,51.0,54.0,33.0,18.0,57.0,23.0,24.0,20.0,32.0,21.0,null,41.0,27.0,49.0,18.0,34.0,73.0,40.0,63.0,21.0,21.0,23.0,31.0,41.0,15.0,36.0,24.0,27.0,24.0,19.0,25.0,39.0,15.0,31.0,25.0,57.0,null,18.0,33.0,23.0,34.0,38.0,21.0,31.0,13.0,54.0,13.0,18.0,null,43.0,56.0,63.0,9.0,9.0,0.0,16.0,42.0,9.0,22.0,47.0,30.0,29.0,null,22.0,19.0,31.0,17.0,38.0,13.0,36.0,0.0,21.0,18.0,36.0,27.0,5.0,18.0,25.0,14.0,23.0,2.0,1.0,7.0,6.0,56.0,4.0,65.0,36.0,25.0,41.0,20.0,18.0,15.0,23.0,29.0,33.0,14.0,55.0,30.0,21.0,26.0,33.0,18.0,9.0,0.0,19.0,18.0,38.0,42.0,28.0,37.0,29.0,42.0,18.0,34.0,34.0,18.0,24.0,24.0,56.0,2.0,12.0,37.0,60.0,55.0,20.0,28.0,28.0,37.0,18.0,14.0,29.0,51.0,45.0,45.0,41.0,21.0,28.0,0.0,46.0,41.0,13.0,55.0,20.0,21.0,49.0,27.0,0.0,22.0,17.0,23.0,44.0,29.0,19.0,3.0,29.0,19.0,22.0,33.0,null,50.0,54.0,43.0,17.0,26.0,44.0,51.0,29.0,4.0,40.0,27.0,8.0,3.0,11.0,24.0,25.0,28.0,25.0,27.0,25.0,0.0,58.0,3.0,4.0,2.0,34.0,5.0,3.0,46.0,22.0,8.0,17.0,4.0,12.0,40.0,16.0,41.0,8.0,14.0,2.0,59.0,45.0,52.0,33.0,51.0,38.0,14.0,42.0,28.0,34.0,21.0,30.0,null,26.0,23.0,20.0,59.0,37.0,32.0,37.0,27.0,42.0,29.0,2.0,10.0,0.0,21.0,8.0,null,27.0,13.0,49.0,38.0,21.0,22.0,14.0,24.0,24.0,34.0,1.0,null,26.0,null,32.0,2.0,10.0,49.0,14.0,29.0,25.0,36.0,22.0,21.0,36.0,54.0,30.0,0.0,1.0,42.0,47.0,25.0,18.0,22.0,27.0,24.0,null,22.0,60.0,38.0,23.0,21.0,55.0,20.0,50.0,22.0,21.0,26.0,36.0,46.0,26.0,24.0,14.0,46.0,15.0,30.0,null,38.0,48.0,31.0,41.0,43.0,23.0,48.0,47.0,19.0,25.0,28.0,16.0,45.0,31.0,19.0,21.0,null,22.0,23.0,54.0,0.0,4.0,23.0,19.0,34.0,18.0,40.0,58.0,39.0,23.0,11.0,43.0,29.0,36.0,13.0,54.0,45.0,33.0,46.0,15.0,35.0,23.0,15.0,27.0,15.0,27.0,16.0,37.0,45.0,58.0,null,38.0,28.0,47.0,41.0,28.0,23.0,24.0,58.0,36.0,24.0,56.0,15.0,19.0,27.0,47.0,37.0,39.0,20.0,20.0,38.0,46.0,13.0,24.0,32.0,null,44.0,19.0,30.0,23.0,4.0,0.0,17.0,44.0,31.0,41.0,33.0,43.0,43.0,36.0,19.0,24.0,17.0,23.0,17.0,18.0,34.0,13.0,66.0,27.0,19.0,55.0,40.0,23.0,7.0,12.0,37.0,22.0,25.0,46.0,37.0,50.0,28.0,26.0,28.0,23.0,23.0,34.0,65.0,20.0,29.0,30.0,3.0,40.0,32.0,31.0,13.0,29.0,28.0,19.0,24.0,22.0,13.0,21.0,24.0,47.0,27.0,18.0,36.0,68.0,31.0,28.0,36.0,17.0,13.0,30.0,58.0,43.0,20.0,29.0,15.0,30.0,33.0,25.0,62.0,41.0,27.0,18.0,27.0,19.0,37.0,24.0,29.0,44.0,19.0,39.0,63.0,39.0,41.0,27.0,56.0,22.0,26.0,24.0,18.0,13.0,32.0,30.0,25.0,55.0,19.0,24.0,32.0,24.0,32.0,36.0,28.0,52.0,29.0,23.0,32.0,35.0,41.0,16.0,33.0,6.0,15.0,38.0,56.0,4.0,21.0,22.0,37.0,6.0,22.0,26.0,22.0,20.0,null,24.0,25.0,48.0,24.0,3.0,24.0,25.0,1.0,20.0,22.0,28.0,17.0,28.0,47.0,34.0,29.0,14.0,36.0,40.0,49.0,51.0,41.0,44.0,47.0,22.0,13.0,18.0,28.0,22.0,50.0,47.0,55.0,21.0,39.0,21.0,37.0,31.0,23.0,28.0,23.0,20.0,28.0,40.0,54.0,18.0,27.0,43.0,25.0,13.0,15.0,37.0,32.0,19.0,21.0,27.0,39.0,22.0,25.0,34.0,54.0,42.0,36.0,43.0,23.0,57.0,54.0,51.0,32.0,33.0,8.0,44.0,27.0,48.0,13.0,5.0,18.0,23.0,23.0,35.0,25.0,32.0,0.0,5.0,16.0,18.0,29.0,55.0,41.0,38.0,27.0,55.0,75.0,50.0,23.0,37.0,33.0,45.0,47.0,13.0,29.0,19.0,30.0,39.0,31.0,29.0,16.0,18.0,38.0,50.0,21.0,22.0,20.0,36.0,23.0,31.0,39.0,50.0,40.0,28.0,38.0,37.0,59.0,41.0,33.0,54.0,40.0,43.0,26.0,65.0,22.0,28.0,35.0,30.0,28.0,23.0,24.0,16.0,18.0,20.0,29.0,29.0,21.0,2.0,43.0,28.0,31.0,23.0,26.0,43.0,28.0,24.0,27.0,13.0,27.0,2.0,24.0,2.0,50.0,27.0,26.0,31.0,28.0,4.0,9.0,0.0,35.0,3.0,25.0,63.0,34.0,35.0,26.0,39.0,34.0,36.0,46.0,26.0,28.0,20.0,35.0,11.0,14.0,4.0,11.0,31.0,15.0,39.0,7.0,24.0,22.0,26.0,53.0,40.0,19.0,54.0,21.0,25.0,48.0,41.0,13.0,57.0,25.0,48.0,34.0,16.0,0.0,15.0,37.0,37.0,49.0,18.0,25.0,null,43.0,20.0,54.0,30.0,37.0,30.0,20.0,20.0,24.0,44.0,0.0,15.0,19.0,20.0,20.0,34.0,17.0,20.0,42.0,28.0,43.0,55.0,21.0,17.0,54.0,25.0,null,45.0,31.0,19.0,30.0,24.0,null,42.0,29.0,37.0,64.0,24.0,23.0,22.0,23.0,21.0,37.0,17.0,35.0,33.0,37.0,32.0,31.0,null,34.0,9.0,25.0,29.0,1.0,30.0,64.0,31.0,27.0,null,25.0,28.0,32.0,36.0,26.0,36.0,37.0,45.0,22.0,24.0,23.0,31.0,37.0,28.0,23.0,14.0,40.0,42.0,53.0,46.0,28.0,25.0,34.0,58.0,31.0,24.0,52.0,25.0,17.0,27.0,29.0,45.0,28.0,25.0,57.0,68.0,26.0,52.0,36.0,41.0,14.0,16.0,24.0,62.0,26.0,45.0,41.0,36.0,13.0,48.0,null,22.0,39.0,45.0,42.0,33.0,27.0,47.0,20.0,32.0,54.0,23.0,9.0,17.0,26.0,38.0,24.0,30.0,2.0,4.0,9.0,30.0,5.0,2.0,32.0,53.0,46.0,2.0,1.0,11.0,3.0,33.0,3.0,38.0,21.0,41.0,64.0,27.0,41.0,19.0,42.0,30.0,38.0,63.0,17.0,2.0,19.0,37.0,50.0,38.0,28.0,35.0,27.0,15.0,29.0,65.0,27.0,0.0,21.0,19.0,39.0,60.0,30.0,30.0,40.0,26.0,38.0,22.0,null,65.0,61.0,20.0,24.0,16.0,35.0,21.0,23.0,17.0,24.0,27.0,26.0,26.0,20.0,28.0,37.0,23.0,49.0,50.0,4.0,32.0,44.0,20.0,30.0,29.0,22.0,35.0,0.0,6.0,38.0,34.0,34.0,null,53.0,28.0,31.0,56.0,36.0,30.0,32.0,44.0,54.0,24.0,44.0,25.0,35.0,29.0,22.0,22.0,22.0,18.0,22.0,52.0,0.0,1.0,34.0,6.0,22.0,31.0,31.0,20.0,25.0,23.0,53.0,32.0,27.0,48.0,37.0,21.0,29.0,46.0,19.0,22.0,54.0,43.0,18.0,36.0,20.0,63.0,50.0,13.0,43.0,16.0,31.0,0.0,10.0,10.0,55.0,18.0,7.0,1.0,44.0,27.0,20.0,49.0,22.0,21.0,26.0,65.0,20.0,0.0,16.0,22.0,0.0,21.0,30.0,14.0,45.0,22.0,21.0,37.0,29.0,29.0,21.0,52.0,36.0,59.0,21.0,25.0,23.0,36.0,38.0,0.0,19.0,30.0,23.0,55.0,44.0,30.0,39.0,19.0,24.0,37.0,24.0,17.0,17.0,14.0,13.0,35.0,32.0,18.0,21.0,25.0,36.0,20.0,22.0,27.0,null,38.0,23.0,21.0,18.0,20.0,28.0,57.0,10.0,23.0,22.0,24.0,52.0,31.0,15.0,40.0,18.0,28.0,40.0,32.0,35.0,52.0,34.0,46.0,23.0,44.0,59.0,42.0,18.0,29.0,15.0,19.0,49.0,19.0,36.0,59.0,24.0,4.0,20.0,24.0,31.0,23.0,3.0,22.0,20.0,0.0,13.0,47.0,51.0,22.0,3.0,4.0,16.0,24.0,1.0,31.0,34.0,20.0,19.0,19.0,35.0,3.0,36.0,20.0,null,58.0,56.0,27.0,25.0,39.0,43.0,42.0,24.0,19.0,32.0,32.0,61.0,64.0,21.0,26.0,35.0,43.0,3.0,56.0,45.0,25.0,12.0,2.0,46.0,32.0,20.0,24.0,28.0,12.0,11.0,16.0,29.0,24.0,22.0,21.0,38.0,35.0,79.0,22.0,42.0,34.0,52.0,43.0,30.0,35.0,18.0,27.0,46.0,15.0,44.0,20.0,35.0,19.0,47.0,26.0,24.0,23.0,26.0,5.0,35.0,18.0,32.0,13.0,15.0,18.0,41.0,36.0,33.0,41.0,47.0,32.0,36.0,13.0,34.0,24.0,16.0,12.0,24.0,35.0,26.0,39.0,18.0,23.0,29.0,38.0,31.0,49.0,17.0,23.0,15.0,11.0,30.0,42.0,21.0,41.0,14.0,27.0,29.0,25.0,54.0,46.0,18.0,22.0,29.0,26.0,36.0,19.0,56.0,20.0,10.0,14.0,27.0,35.0,13.0,21.0,22.0,29.0,32.0,20.0,44.0,22.0,39.0,19.0,0.0,0.0,12.0,7.0,32.0,11.0,18.0,49.0,61.0,7.0,25.0,51.0,56.0,31.0,16.0,29.0,17.0,47.0,25.0,28.0,32.0,56.0,25.0,13.0,41.0,28.0,25.0,11.0,20.0,24.0,41.0,29.0,59.0,31.0,16.0,65.0,21.0,27.0,37.0,42.0,36.0,24.0,null,19.0,26.0,19.0,26.0,35.0,24.0,9.0,40.0,23.0,4.0,20.0,21.0,4.0,19.0,18.0,26.0,13.0,16.0,14.0,40.0,34.0,21.0,29.0,40.0,16.0,37.0,41.0,16.0,39.0,30.0,40.0,63.0,32.0,47.0,23.0,23.0,19.0,44.0,29.0,21.0,23.0,26.0,47.0,20.0,48.0,4.0,25.0,0.0,29.0,21.0,20.0,34.0,9.0,12.0,13.0,27.0,34.0,18.0,16.0,43.0,0.0,20.0,45.0,35.0,21.0,14.0,46.0,22.0,2.0,3.0,28.0,60.0,48.0,18.0,31.0,26.0,41.0,26.0,29.0,24.0,25.0,0.0,30.0,18.0,32.0,28.0,21.0,25.0,47.0,null,8.0,24.0,30.0,24.0,13.0,16.0,23.0,16.0,29.0,46.0,13.0,22.0,29.0,46.0,24.0,33.0,38.0,57.0,null,38.0,28.0,25.0,22.0,33.0,35.0,24.0,31.0,16.0,28.0,8.0,20.0,26.0,43.0,70.0,17.0,14.0,21.0,37.0,15.0,20.0,36.0,14.0,21.0,28.0,20.0,26.0,25.0,29.0,39.0,18.0,37.0,28.0,18.0,30.0,35.0,26.0,0.0,42.0,36.0,31.0,27.0,25.0,32.0,14.0,16.0,51.0,21.0,31.0,9.0,7.0,3.0,2.0,7.0,18.0,33.0,23.0,13.0,32.0,27.0,23.0,25.0,18.0,23.0,31.0,32.0,22.0,38.0,21.0,28.0,38.0,20.0,23.0,48.0,15.0,30.0,40.0,36.0,20.0,17.0,38.0,38.0,14.0,null,21.0,18.0,26.0,35.0,46.0,13.0,39.0,49.0,28.0,27.0,21.0,29.0,27.0,38.0,18.0,35.0,37.0,60.0,31.0,4.0,34.0,46.0,18.0,38.0,29.0,13.0,26.0,30.0,42.0,36.0,23.0,34.0,26.0,31.0,48.0,10.0,27.0,32.0,24.0,20.0,48.0,35.0,14.0,28.0,null,42.0,8.0,30.0,44.0,40.0,38.0,22.0,32.0,16.0,33.0,38.0,23.0,16.0,16.0,11.0,22.0,43.0,20.0,22.0,0.0,30.0,18.0,0.0,41.0,39.0,37.0,26.0,49.0,28.0,13.0,64.0,24.0,18.0,18.0,25.0,19.0,33.0,null,50.0,30.0,44.0,52.0,7.0,30.0,27.0,24.0,13.0,61.0,32.0,17.0,36.0,16.0,21.0,24.0,28.0,null,13.0,39.0,24.0,38.0,20.0,21.0,27.0,49.0,6.0,41.0,33.0,6.0,35.0,46.0,31.0,32.0,31.0,20.0,57.0,37.0,21.0,43.0,49.0,17.0,29.0,36.0,37.0,17.0,45.0,20.0,24.0,28.0,15.0,53.0,51.0,14.0,1.0,26.0,20.0,23.0,22.0,22.0,13.0,28.0,40.0,21.0,35.0,22.0,37.0,21.0,50.0,27.0,20.0,15.0,25.0,31.0,null,18.0,2.0,27.0,0.0,22.0,null,56.0,28.0,42.0,20.0,27.0,29.0,36.0,23.0,64.0,19.0,1.0,49.0,0.0,18.0,39.0,37.0,44.0,43.0,33.0,20.0,0.0,4.0,20.0,50.0,47.0,17.0,26.0,21.0,20.0,26.0,null,34.0,11.0,0.0,28.0,33.0,22.0,28.0,11.0,60.0,43.0,27.0,37.0,23.0,57.0,29.0,28.0,42.0,43.0,26.0,72.0,49.0,29.0,18.0,26.0,19.0,18.0,14.0,44.0,34.0,18.0,36.0,27.0,35.0,52.0,22.0,34.0,37.0,22.0,26.0,14.0,53.0,17.0,30.0,65.0,19.0,36.0,3.0,6.0,4.0,21.0,8.0,35.0,18.0,34.0,45.0,31.0,14.0,23.0,61.0,54.0,28.0,46.0,32.0,49.0,20.0,25.0,19.0,28.0,68.0,16.0,19.0,49.0,15.0,26.0,22.0,23.0,31.0,27.0,28.0,20.0,43.0,22.0,27.0,35.0,37.0,24.0,18.0,15.0,28.0,24.0,39.0,35.0,52.0,48.0,27.0,50.0,24.0,26.0,24.0,15.0,42.0,51.0,43.0,31.0,14.0,31.0,33.0,21.0,13.0,29.0,22.0,22.0,18.0,35.0,20.0,18.0,66.0,33.0,48.0,38.0,62.0,19.0,44.0,25.0,15.0,20.0,34.0,23.0,45.0,39.0,33.0,14.0,26.0,47.0,null,28.0,22.0,17.0,16.0,9.0,15.0,33.0,61.0,19.0,61.0,42.0,4.0,12.0,0.0,19.0,null,29.0,59.0,20.0,70.0,3.0,37.0,58.0,44.0,24.0,20.0,24.0,27.0,28.0,24.0,29.0,25.0,20.0,34.0,28.0,null,23.0,39.0,35.0,18.0,20.0,42.0,32.0,50.0,23.0,19.0,29.0,35.0,18.0,24.0,23.0,51.0,42.0,19.0,23.0,19.0,22.0,25.0,31.0,23.0,22.0,55.0,40.0,24.0,25.0,42.0,33.0,54.0,22.0,22.0,19.0,47.0,23.0,61.0,21.0,46.0,36.0,15.0,33.0,35.0,21.0,21.0,43.0,34.0,47.0,27.0,46.0,46.0,40.0,59.0,45.0,19.0,32.0,39.0,40.0,44.0,26.0,22.0,2.0,18.0,53.0,22.0,46.0,28.0,31.0,36.0,46.0,0.0,3.0,12.0,2.0,41.0,11.0,41.0,17.0,21.0,21.0,27.0,54.0,15.0,39.0,31.0,28.0,21.0,29.0,45.0,44.0,12.0,18.0,20.0,43.0,46.0,53.0,21.0,23.0,9.0,19.0,52.0,31.0,62.0,27.0,23.0,28.0,27.0,58.0,24.0,27.0,33.0,28.0,39.0,27.0,36.0,64.0,41.0,null,27.0,null,22.0,23.0,40.0,2.0,0.0,27.0,0.0,17.0,45.0,62.0,14.0,24.0,51.0,49.0,52.0,35.0,22.0,17.0,47.0,25.0,11.0,17.0,41.0,55.0,29.0,19.0,23.0,32.0,27.0,25.0,24.0,30.0,50.0,51.0,27.0,35.0,48.0,27.0,19.0,18.0,25.0,41.0,62.0,30.0,6.0,15.0,34.0,34.0,23.0,51.0,63.0,42.0,19.0,5.0,2.0,15.0,36.0,32.0,19.0,26.0,33.0,38.0,22.0,32.0,30.0,51.0,29.0,16.0,32.0,24.0,23.0,46.0,49.0,17.0,35.0,43.0,20.0,24.0,28.0,19.0,39.0,34.0,29.0,14.0,null,30.0,null,32.0,7.0,34.0,47.0,19.0,52.0,19.0,18.0,32.0,21.0,22.0,13.0,25.0,33.0,27.0,21.0,17.0,15.0,58.0,29.0,34.0,28.0,29.0,25.0,23.0,22.0,38.0,38.0,0.0,null,0.0,37.0,2.0,40.0,47.0,34.0,43.0,21.0,43.0,33.0,28.0,57.0,null,46.0,19.0,27.0,2.0,0.0,25.0,47.0,38.0,24.0,24.0,25.0,29.0,44.0,20.0,23.0,26.0,20.0,27.0,23.0,33.0,30.0,32.0,19.0,41.0,50.0,36.0,21.0,45.0,26.0,44.0,24.0,15.0,58.0,13.0,19.0,25.0,24.0,20.0,34.0,13.0,null,39.0,0.0,10.0,9.0,34.0,11.0,0.0,24.0,16.0,42.0,41.0,36.0,27.0,32.0,11.0,26.0,28.0,25.0,5.0,null,13.0,30.0,15.0,0.0,49.0,52.0,15.0,40.0,0.0,32.0,15.0,26.0,31.0,8.0,18.0,3.0,44.0,15.0,27.0,22.0,2.0,32.0,16.0,34.0,32.0,28.0,27.0,35.0,25.0,24.0,61.0,28.0,29.0,41.0,20.0,18.0,28.0,18.0,33.0,35.0,68.0,19.0,33.0,55.0,15.0,23.0,23.0,15.0,49.0,33.0,26.0,26.0,18.0,17.0,39.0,8.0,46.0,32.0,19.0,36.0,28.0,39.0,16.0,7.0,1.0,30.0,44.0,28.0,29.0,41.0,13.0,18.0,27.0,26.0,24.0,26.0,27.0,58.0,54.0,18.0,13.0,13.0,28.0,57.0,32.0,32.0,21.0,34.0,33.0,36.0,50.0,28.0,56.0,42.0,39.0,13.0,28.0,55.0,36.0,null,37.0,50.0,27.0,23.0,16.0,33.0,46.0,26.0,24.0,26.0,2.0,33.0,32.0,3.0,2.0,6.0,null,0.0,4.0,58.0,22.0,51.0,37.0,17.0,21.0,null,null,31.0,43.0,null,15.0,18.0,33.0,31.0,41.0,22.0,40.0,49.0,14.0,22.0,22.0,25.0,42.0,16.0,12.0,18.0,33.0,14.0,36.0,23.0,24.0,4.0,null,18.0,21.0,27.0,34.0,28.0,35.0,16.0,36.0,30.0,4.0,19.0,3.0,51.0,null,45.0,18.0,23.0,15.0,34.0,47.0,27.0,26.0,25.0,34.0,27.0,39.0,31.0,4.0,19.0,59.0,19.0,25.0,28.0,37.0,43.0,18.0,36.0,14.0,42.0,29.0,23.0,16.0,8.0,20.0,50.0,38.0,39.0,33.0,30.0,40.0,22.0,52.0,26.0,19.0,33.0,33.0,20.0,28.0,10.0,23.0,28.0,23.0,54.0,57.0,24.0,37.0,59.0,53.0,22.0,18.0,17.0,25.0,18.0,20.0,24.0,33.0,34.0,24.0,37.0,23.0,32.0,13.0,23.0,23.0,27.0,47.0,38.0,28.0,21.0,null,64.0,43.0,21.0,36.0,22.0,24.0,21.0,57.0,46.0,42.0,16.0,40.0,3.0,8.0,3.0,35.0,12.0,null,47.0,19.0,46.0,28.0,5.0,7.0,3.0,1.0,7.0,60.0,34.0,28.0,64.0,13.0,15.0,65.0,53.0,58.0,19.0,null,16.0,48.0,33.0,31.0,44.0,40.0,34.0,21.0,20.0,9.0,33.0,2.0,53.0,0.0,38.0,21.0,31.0,7.0,12.0,0.0,17.0,55.0,2.0,32.0,16.0,0.0,29.0,25.0,39.0,42.0,0.0,14.0,29.0,54.0,35.0,null,18.0,14.0,53.0,48.0,21.0,44.0,25.0,0.0,27.0,40.0,44.0,36.0,3.0,9.0,1.0,17.0,47.0,null,33.0,16.0,30.0,18.0,26.0,19.0,28.0,35.0,40.0,26.0,45.0,18.0,54.0,13.0,26.0,16.0,37.0,17.0,16.0,18.0,21.0,24.0,22.0,41.0,15.0,36.0,23.0,31.0,19.0,23.0,47.0,40.0,34.0,2.0,8.0,0.0,18.0,11.0,18.0,19.0,2.0,25.0,0.0,27.0,34.0,19.0,22.0,22.0,52.0,30.0,65.0,31.0,51.0,21.0,27.0,31.0,28.0,29.0,23.0,11.0,23.0,34.0,20.0,20.0,16.0,18.0,20.0,20.0,27.0,55.0,53.0,37.0,55.0,24.0,24.0,49.0,17.0,39.0,5.0,10.0,1.0,16.0,51.0,5.0,19.0,0.0,20.0,0.0,1.0,38.0,40.0,18.0,36.0,23.0,42.0,37.0,24.0,12.0,2.0,28.0,44.0,26.0,36.0,28.0,14.0,14.0,28.0,27.0,21.0,24.0,18.0,24.0,8.0,36.0,32.0,19.0,12.0,21.0,13.0,20.0,35.0,23.0,17.0,29.0,27.0,22.0,26.0,1.0,7.0,78.0,24.0,26.0,50.0,16.0,57.0,29.0,27.0,42.0,28.0,18.0,38.0,32.0,21.0,6.0,27.0,32.0,23.0,29.0,22.0,31.0,0.0,2.0,null,28.0,20.0,28.0,42.0,32.0,19.0,20.0,20.0,21.0,32.0,16.0,21.0,12.0,21.0,31.0,18.0,35.0,44.0,13.0,21.0,37.0,null,34.0,21.0,38.0,31.0,61.0,20.0,39.0,29.0,68.0,38.0,31.0,41.0,29.0,25.0,27.0,21.0,30.0,40.0,59.0,35.0,41.0,36.0,58.0,27.0,24.0,50.0,22.0,26.0,16.0,56.0,25.0,13.0,53.0,21.0,18.0,38.0,20.0,24.0,56.0,47.0,21.0,null,26.0,34.0,35.0,35.0,49.0,24.0,62.0,25.0,42.0,25.0,21.0,17.0,41.0,50.0,20.0,15.0,29.0,20.0,35.0,22.0,43.0,54.0,15.0,38.0,44.0,34.0,15.0,24.0,29.0,19.0,27.0,26.0,46.0,64.0,17.0,45.0,27.0,29.0,18.0,26.0,39.0,59.0,20.0,17.0,47.0,29.0,16.0,48.0,39.0,28.0,12.0,24.0,30.0,34.0,37.0,47.0,0.0,23.0,0.0,20.0,35.0,18.0,17.0,18.0,53.0,35.0,48.0,68.0,27.0,28.0,37.0,35.0,31.0,14.0,1.0,4.0,30.0,11.0,45.0,29.0,32.0,15.0,25.0,25.0,60.0,24.0,35.0,36.0,22.0,32.0,57.0,30.0,46.0,28.0,26.0,55.0,66.0,20.0,31.0,13.0,50.0,21.0,25.0,46.0,0.0,2.0,36.0,19.0,35.0,41.0,22.0,25.0,24.0,37.0,5.0,null,41.0,44.0,23.0,28.0,27.0,40.0,27.0,17.0,32.0,29.0,29.0,41.0,48.0,27.0,14.0,32.0,47.0,14.0,37.0,33.0,33.0,44.0,37.0,18.0,33.0,21.0,38.0,16.0,58.0,41.0,28.0,28.0,31.0,27.0,7.0,25.0,34.0,21.0,29.0,23.0,31.0,50.0,25.0,25.0,23.0,46.0,0.0,53.0,25.0,30.0,18.0,20.0,54.0,20.0,32.0,31.0,55.0,16.0,0.0,3.0,33.0,45.0,6.0,33.0,14.0,24.0,47.0,37.0,14.0,44.0,11.0,15.0,39.0,15.0,60.0,49.0,23.0,9.0,0.0,17.0,42.0,16.0,0.0,26.0,56.0,26.0,41.0,27.0,31.0,40.0,40.0,15.0,50.0,42.0,50.0,39.0,27.0,20.0,30.0,16.0,36.0,68.0,22.0,36.0,3.0,28.0,32.0,10.0,0.0,9.0,37.0,31.0,31.0,43.0,15.0,58.0,30.0,24.0,49.0,73.0,14.0,50.0,12.0,2.0,49.0,32.0,null,33.0,23.0,23.0,43.0,36.0,26.0,29.0,21.0,30.0,23.0,13.0,22.0,25.0,52.0,22.0,31.0,23.0,35.0,26.0,14.0,39.0,8.0,29.0,15.0,48.0,9.0,25.0,13.0,25.0,27.0,32.0,20.0,40.0,18.0,21.0,38.0,62.0,23.0,48.0,27.0,32.0,53.0,26.0,46.0,32.0,40.0,27.0,28.0,29.0,37.0,0.0,12.0,25.0,null,3.0,9.0,27.0,59.0,24.0,16.0,16.0,46.0,25.0,39.0,15.0,16.0,35.0,43.0,7.0,29.0,60.0,49.0,50.0,40.0,49.0,18.0,29.0,56.0,29.0,29.0,22.0,24.0,23.0,28.0,19.0,32.0,37.0,26.0,43.0,25.0,11.0,4.0,32.0,15.0,17.0,37.0,20.0,47.0,16.0,8.0,22.0,39.0,57.0,29.0,null,70.0,13.0,49.0,25.0,19.0,15.0,37.0,null,28.0,22.0,26.0,25.0,19.0,20.0,35.0,37.0,37.0,13.0,20.0,65.0,29.0,0.0,4.0,19.0,17.0,28.0,28.0,21.0,45.0,21.0,20.0,38.0,24.0,22.0,44.0,41.0,21.0,26.0,54.0,19.0,32.0,null,26.0,28.0,21.0,38.0,43.0,12.0,25.0,27.0,22.0,20.0,24.0,34.0,42.0,24.0,28.0,29.0,31.0,29.0,14.0,16.0,16.0,27.0,null,23.0,16.0,30.0,24.0,36.0,25.0,29.0,21.0,26.0,30.0,31.0,20.0,null,33.0,35.0,46.0,63.0,37.0,23.0,5.0,16.0,20.0,49.0,3.0,41.0,null,14.0,26.0,51.0,36.0,16.0,18.0,48.0,24.0,19.0,21.0,24.0,21.0,13.0,39.0,27.0,23.0,43.0,19.0,30.0,52.0,35.0,16.0,21.0,45.0,22.0,null,0.0,63.0,56.0,40.0,1.0,24.0,36.0,13.0,13.0,37.0,44.0,32.0,57.0,26.0,62.0,2.0,1.0,24.0,1.0,63.0,20.0,15.0,32.0,24.0,32.0,36.0,13.0,29.0,27.0,30.0,27.0,14.0,32.0,33.0,35.0,21.0,57.0,42.0,20.0,18.0,49.0,23.0,24.0,24.0,23.0,24.0,26.0,28.0,17.0,20.0,22.0,23.0,22.0,29.0,null,31.0,37.0,44.0,34.0,23.0,18.0,18.0,23.0,18.0,22.0,10.0,null,31.0,48.0,51.0,25.0,32.0,8.0,49.0,28.0,3.0,null,31.0,11.0,27.0,33.0,32.0,20.0,33.0,65.0,18.0,19.0,33.0,null,31.0,37.0,19.0,18.0,47.0,26.0,25.0,38.0,53.0,38.0,28.0,46.0,18.0,14.0,32.0,44.0,28.0,2.0,28.0,27.0,29.0,14.0,14.0,17.0,35.0,36.0,51.0,54.0,37.0,37.0,24.0,null,38.0,28.0,0.0,16.0,25.0,22.0,24.0,37.0,21.0,53.0,0.0,2.0,64.0,24.0,40.0,32.0,54.0,30.0,37.0,20.0,22.0,57.0,34.0,51.0,47.0,22.0,36.0,16.0,60.0,39.0,18.0,30.0,45.0,30.0,21.0,0.0,51.0,22.0,26.0,10.0,21.0,14.0,null,43.0,22.0,22.0,23.0,25.0,35.0,30.0,37.0,21.0,36.0,13.0,22.0,36.0,17.0,38.0,34.0,20.0,17.0,36.0,52.0,32.0,35.0,null,36.0,36.0,21.0,33.0,40.0,24.0,35.0,29.0,33.0,51.0,10.0,41.0,26.0,39.0,14.0,28.0,18.0,41.0,33.0,26.0,31.0,63.0,30.0,27.0,47.0,37.0,14.0,27.0,61.0,39.0,22.0,30.0,26.0,25.0,42.0,33.0,60.0,16.0,50.0,22.0,15.0,27.0,58.0,48.0,36.0,60.0,46.0,58.0,40.0,3.0,23.0,21.0,29.0,23.0,41.0,20.0,24.0,21.0,55.0,21.0,42.0,40.0,30.0,26.0,43.0,20.0,19.0,40.0,17.0,62.0,32.0,37.0,40.0,25.0,17.0,46.0,38.0,43.0,28.0,31.0,35.0,19.0,24.0,20.0,16.0,45.0,19.0,23.0,19.0,32.0,41.0,30.0,41.0,7.0,39.0,47.0,21.0,29.0,19.0,50.0,28.0,38.0,24.0,31.0,38.0,26.0,28.0,45.0,47.0,60.0,42.0,43.0,17.0,17.0,20.0,18.0,24.0,25.0,20.0,23.0,48.0,26.0,36.0,27.0,41.0,21.0,71.0,64.0,33.0,24.0,35.0,13.0,11.0,null,43.0,36.0,22.0,56.0,34.0,46.0,43.0,25.0,26.0,14.0,63.0,29.0,45.0,15.0,19.0,53.0,45.0,41.0,68.0,5.0,27.0,20.0,54.0,18.0,45.0,26.0,37.0,30.0,51.0,3.0,3.0,19.0,19.0,6.0,4.0,23.0,37.0,18.0,29.0,25.0,52.0,24.0,0.0,25.0,26.0,32.0,58.0,44.0,41.0,24.0,41.0,23.0,27.0,61.0,18.0,18.0,null,15.0,12.0,40.0,19.0,18.0,48.0,37.0,35.0,29.0,54.0,null,22.0,18.0,26.0,19.0,22.0,17.0,18.0,39.0,37.0,17.0,25.0,9.0,15.0,19.0,18.0,50.0,14.0,19.0,33.0,23.0,39.0,14.0,14.0,45.0,22.0,36.0,19.0,59.0,31.0,31.0,39.0,28.0,19.0,29.0,0.0,15.0,18.0,49.0,36.0,40.0,56.0,67.0,44.0,17.0,27.0,23.0,28.0,54.0,26.0,40.0,39.0,40.0,20.0,18.0,17.0,35.0,31.0,40.0,50.0,21.0,29.0,63.0,19.0,36.0,48.0,33.0,28.0,39.0,27.0,58.0,44.0,23.0,21.0,53.0,14.0,17.0,25.0,44.0,24.0,24.0,24.0,0.0,7.0,3.0,18.0,4.0,40.0,16.0,25.0,10.0,40.0,19.0,15.0,24.0,21.0,29.0,37.0,49.0,42.0,54.0,33.0,27.0,53.0,28.0,24.0,20.0,0.0,24.0,28.0,42.0,32.0,36.0,40.0,30.0,34.0,37.0,41.0,25.0,39.0,0.0,54.0,16.0,0.0,13.0,46.0,23.0,18.0,27.0,24.0,27.0,24.0,25.0,30.0,19.0,18.0,49.0,64.0,26.0,53.0,27.0,27.0,25.0,33.0,27.0,20.0,39.0,27.0,19.0,22.0,3.0,24.0,41.0,18.0,63.0,19.0,39.0,null,41.0,44.0,39.0,29.0,37.0,41.0,18.0,null,55.0,21.0,28.0,43.0,32.0,23.0,5.0,14.0,24.0,22.0,14.0,20.0,17.0,20.0,22.0,15.0,67.0,28.0,57.0,21.0,34.0,17.0,33.0,33.0,28.0,18.0,28.0,13.0,38.0,39.0,18.0,43.0,32.0,29.0,45.0,25.0,64.0,18.0,44.0,15.0,21.0,33.0,3.0,19.0,37.0,24.0,26.0,26.0,26.0,22.0,26.0,27.0,27.0,37.0,22.0,24.0,23.0,18.0,28.0,4.0,23.0,2.0,46.0,0.0,16.0,19.0,34.0,34.0,24.0,28.0,44.0,35.0,20.0,18.0,43.0,48.0,46.0,75.0,24.0,34.0,29.0,46.0,22.0,42.0,46.0,15.0,42.0,31.0,9.0,34.0,21.0,16.0,40.0,23.0,6.0,17.0,37.0,30.0,32.0,41.0,43.0,17.0,37.0,18.0,1.0,38.0,25.0,6.0,1.0,7.0,24.0,19.0,26.0,49.0,18.0,25.0,46.0,33.0,10.0,38.0,23.0,26.0,16.0,29.0,35.0,58.0,17.0,16.0,2.0,13.0,18.0,29.0,21.0,43.0,69.0,40.0,1.0,36.0,60.0,17.0,49.0,23.0,39.0,53.0,26.0,31.0,48.0,26.0,25.0,25.0,30.0,null,23.0,24.0,47.0,37.0,24.0,21.0,42.0,39.0,28.0,32.0,31.0,13.0,41.0,21.0,null,9.0,36.0,30.0,27.0,40.0,41.0,16.0,36.0,15.0,39.0,21.0,24.0,28.0,47.0,55.0,null,22.0,26.0,62.0,53.0,29.0,21.0,18.0,34.0,19.0,14.0,21.0,55.0,18.0,33.0,35.0,31.0,27.0,null,13.0,24.0,22.0,32.0,18.0,53.0,4.0,24.0,23.0,1.0,18.0,21.0,40.0,49.0,25.0,21.0,40.0,47.0,25.0,36.0,39.0,26.0,0.0,14.0,7.0,50.0,22.0,17.0,35.0,22.0,26.0,24.0,59.0,24.0,17.0,28.0,38.0,2.0,36.0,32.0,15.0,54.0,18.0,22.0,23.0,14.0,26.0,73.0,29.0,29.0,12.0,27.0,31.0,26.0,35.0,25.0,40.0,18.0,52.0,35.0,51.0,35.0,14.0,null,26.0,21.0,45.0,29.0,39.0,37.0,22.0,22.0,30.0,1.0,0.0,9.0,18.0,29.0,52.0,27.0,54.0,28.0,65.0,26.0,29.0,20.0,39.0,37.0,20.0,40.0,0.0,33.0,23.0,32.0,20.0,60.0,53.0,26.0,35.0,19.0,43.0,29.0,20.0,19.0,21.0,39.0,12.0,20.0,18.0,31.0,35.0,44.0,62.0,23.0,23.0,19.0,29.0,31.0,33.0,41.0,60.0,41.0,69.0,44.0,18.0,26.0,30.0,34.0,18.0,49.0,71.0,19.0,23.0,31.0,40.0,28.0,17.0,24.0,54.0,21.0,2.0,20.0,20.0,36.0,25.0,58.0,37.0,26.0,45.0,44.0,24.0,13.0,4.0,24.0,27.0,39.0,23.0,4.0,0.0,22.0,27.0,22.0,26.0,60.0,18.0,20.0,25.0,24.0,38.0,18.0,45.0,13.0,28.0,5.0,20.0,2.0,42.0,0.0,18.0,26.0,3.0,49.0,19.0,19.0,15.0,53.0,0.0,39.0,45.0,10.0,1.0,9.0,40.0,26.0,18.0,47.0,31.0,null,23.0,32.0,32.0,21.0,null,22.0,18.0,28.0,38.0,46.0,44.0,38.0,28.0,31.0,18.0,18.0,4.0,0.0,0.0,23.0,35.0,43.0,18.0,18.0,18.0,49.0,19.0,22.0,4.0,0.0,null,39.0,36.0,53.0,23.0,24.0,25.0,30.0,20.0,40.0,18.0,57.0,47.0,26.0,29.0,32.0,30.0,18.0,49.0,33.0,18.0,29.0,34.0,43.0,18.0,31.0,15.0,3.0,37.0,1.0,27.0,15.0,33.0,65.0,19.0,30.0,37.0,15.0,19.0,20.0,19.0,21.0,20.0,18.0,27.0,23.0,25.0,72.0,35.0,29.0,11.0,7.0,null,28.0,41.0,null,19.0,8.0,4.0,38.0,21.0,18.0,10.0,29.0,25.0,40.0,19.0,38.0,19.0,0.0,4.0,29.0,46.0,32.0,26.0,23.0,32.0,31.0,34.0,45.0,61.0,21.0,null,15.0,14.0,18.0,39.0,62.0,40.0,21.0,12.0,27.0,28.0,0.0,17.0,23.0,6.0,29.0,41.0,27.0,34.0,36.0,30.0,30.0,29.0,21.0,21.0,18.0,11.0,65.0,25.0,0.0,24.0,19.0,23.0,45.0,52.0,55.0,24.0,31.0,18.0,22.0,39.0,19.0,33.0,14.0,30.0,30.0,21.0,45.0,17.0,39.0,22.0,37.0,48.0,33.0,37.0,27.0,29.0,38.0,16.0,18.0,null,47.0,15.0,13.0,19.0,17.0,31.0,19.0,25.0,26.0,25.0,2.0,7.0,2.0,19.0,1.0,4.0,49.0,61.0,57.0,52.0,22.0,37.0,15.0,28.0,40.0,13.0,24.0,25.0,25.0,43.0,46.0,3.0,3.0,3.0,8.0,57.0,11.0,20.0,27.0,20.0,14.0,24.0,21.0,33.0,32.0,22.0,15.0,41.0,31.0,35.0,48.0,15.0,37.0,21.0,34.0,19.0,52.0,15.0,24.0,45.0,13.0,18.0,19.0,20.0,20.0,27.0,22.0,17.0,23.0,29.0,24.0,26.0,36.0,25.0,36.0,32.0,16.0,32.0,48.0,25.0,46.0,32.0,50.0,31.0,27.0,52.0,34.0,40.0,36.0,19.0,33.0,23.0,57.0,24.0,19.0,54.0,28.0,26.0,43.0,39.0,21.0,24.0,35.0,61.0,21.0,14.0,38.0,23.0,31.0,66.0,56.0,21.0,49.0,21.0,27.0,23.0,27.0,49.0,38.0,60.0,47.0,29.0,19.0,32.0,22.0,35.0,28.0,22.0,42.0,37.0,31.0,33.0,48.0,31.0,18.0,44.0,22.0,18.0,48.0,2.0,0.0,43.0,51.0,48.0,51.0,20.0,41.0,27.0,56.0,26.0,21.0,null,23.0,28.0,40.0,39.0,16.0,20.0,24.0,45.0,33.0,19.0,15.0,18.0,21.0,37.0,53.0,19.0,17.0,58.0,18.0,25.0,39.0,40.0,27.0,3.0,18.0,18.0,29.0,22.0,34.0,19.0,26.0,33.0,34.0,18.0,40.0,53.0,8.0,54.0,29.0,56.0,21.0,25.0,33.0,22.0,50.0,24.0,25.0,59.0,26.0,19.0,37.0,22.0,44.0,25.0,23.0,6.0,39.0,26.0,14.0,3.0,21.0,24.0,18.0,37.0,21.0,67.0,28.0,13.0,26.0,33.0,18.0,24.0,26.0,21.0,27.0,15.0,24.0,31.0,10.0,23.0,50.0,13.0,43.0,20.0,21.0,18.0,16.0,47.0,35.0,15.0,46.0,6.0,26.0,49.0,28.0,37.0,17.0,38.0,18.0,55.0,28.0,25.0,17.0,22.0,4.0,3.0,21.0,24.0,50.0,3.0,19.0,22.0,20.0,18.0,27.0,29.0,23.0,48.0,32.0,55.0,49.0,15.0,50.0,35.0,29.0,38.0,29.0,39.0,49.0,39.0,19.0,19.0,14.0,40.0,40.0,20.0,6.0,41.0,37.0,31.0,8.0,55.0,16.0,29.0,40.0,27.0,21.0,25.0,44.0,34.0,1.0,1.0,42.0,18.0,21.0,24.0,null,18.0,27.0,13.0,10.0,8.0,40.0,35.0,13.0,19.0,44.0,36.0,29.0,28.0,36.0,24.0,14.0,50.0,20.0,38.0,33.0,54.0,20.0,23.0,65.0,51.0,36.0,38.0,28.0,32.0,55.0,23.0,38.0,18.0,32.0,44.0,62.0,66.0,20.0,19.0,null,25.0,20.0,18.0,20.0,14.0,49.0,49.0,19.0,53.0,31.0,18.0,24.0,35.0,27.0,38.0,23.0,22.0,38.0,28.0,25.0,45.0,22.0,30.0,25.0,24.0,44.0,6.0,0.0,14.0,37.0,15.0,0.0,17.0,58.0,15.0,53.0,29.0,24.0,40.0,21.0,30.0,20.0,20.0,18.0,36.0,20.0,4.0,59.0,20.0,4.0,23.0,25.0,20.0,22.0,6.0,14.0,0.0,4.0,37.0,14.0,34.0,3.0,18.0,27.0,19.0,37.0,29.0,37.0,32.0,22.0,38.0,24.0,63.0,23.0,41.0,20.0,48.0,44.0,15.0,29.0,64.0,19.0,28.0,44.0,13.0,45.0,25.0,19.0,29.0,21.0,13.0,25.0,46.0,37.0,19.0,29.0,21.0,13.0,15.0,42.0,null,26.0,19.0,18.0,50.0,28.0,24.0,31.0,19.0,20.0,23.0,19.0,27.0,16.0,76.0,41.0,24.0,12.0,28.0,36.0,20.0,7.0,21.0,33.0,32.0,34.0,38.0,null,28.0,25.0,24.0,18.0,24.0,30.0,38.0,39.0,31.0,33.0,15.0,23.0,24.0,44.0,22.0,28.0,34.0,8.0,26.0,29.0,58.0,4.0,1.0,17.0,27.0,24.0,16.0,28.0,23.0,33.0,24.0,6.0,19.0,31.0,19.0,18.0,35.0,32.0,19.0,24.0,33.0,20.0,27.0,26.0,28.0,19.0,24.0,52.0,23.0,23.0,25.0,22.0,35.0,24.0,24.0,26.0,37.0,14.0,36.0,0.0,17.0,18.0,43.0,21.0,34.0,57.0,18.0,73.0,31.0,25.0,20.0,24.0,null,21.0,22.0,39.0,26.0,32.0,1.0,7.0,4.0,21.0,12.0,28.0,0.0,18.0,52.0,18.0,51.0,21.0,28.0,34.0,13.0,35.0,27.0,35.0,51.0,53.0,29.0,41.0,47.0,22.0,19.0,22.0,25.0,null,17.0,0.0,5.0,30.0,17.0,53.0,9.0,17.0,16.0,29.0,29.0,46.0,27.0,39.0,15.0,30.0,41.0,47.0,32.0,15.0,23.0,20.0,33.0,18.0,31.0,25.0,19.0,32.0,45.0,43.0,21.0,48.0,0.0,29.0,41.0,23.0,48.0,18.0,30.0,26.0,18.0,27.0,58.0,22.0,17.0,28.0,27.0,51.0,37.0,14.0,43.0,27.0,60.0,33.0,39.0,21.0,21.0,28.0,30.0,42.0,25.0,25.0,25.0,54.0,41.0,36.0,33.0,36.0,55.0,16.0,28.0,26.0,42.0,30.0,31.0,22.0,26.0,25.0,44.0,29.0,22.0,23.0,30.0,23.0,13.0,53.0,0.0,27.0,27.0,10.0,2.0,5.0,24.0,32.0,22.0,22.0,44.0,55.0,22.0,8.0,15.0,1.0,9.0,48.0,16.0,27.0,3.0,25.0,70.0,30.0,57.0,42.0,14.0,43.0,34.0,21.0,32.0,21.0,25.0,25.0,38.0,36.0,44.0,37.0,47.0,38.0,28.0,38.0,53.0,26.0,13.0,64.0,16.0,13.0,55.0,26.0,23.0,55.0,50.0,26.0,36.0,33.0,21.0,41.0,33.0,23.0,31.0,28.0,13.0,null,35.0,25.0,19.0,56.0,18.0,22.0,34.0,11.0,37.0,22.0,45.0,19.0,39.0,28.0,36.0,1.0,10.0,12.0,31.0,12.0,3.0,30.0,41.0,19.0,38.0,36.0,0.0,20.0,23.0,35.0,36.0,41.0,38.0,33.0,54.0,33.0,54.0,32.0,24.0,53.0,26.0,31.0,18.0,39.0,37.0,35.0,34.0,28.0,43.0,2.0,24.0,18.0,21.0,24.0,35.0,53.0,32.0,44.0,33.0,40.0,31.0,23.0,44.0,41.0,31.0,30.0,33.0,30.0,26.0,22.0,37.0,15.0,52.0,35.0,40.0,60.0,24.0,31.0,43.0,9.0,51.0,25.0,20.0,22.0,21.0,50.0,24.0,45.0,22.0,7.0,11.0,1.0,0.0,8.0,36.0,2.0,0.0,22.0,41.0,49.0,30.0,37.0,14.0,30.0,62.0,13.0,32.0,33.0,38.0,29.0,25.0,26.0,19.0,16.0,61.0,28.0,13.0,44.0,22.0,30.0,21.0,20.0,31.0,33.0,26.0,21.0,23.0,0.0,32.0,30.0,41.0,18.0,26.0,32.0,44.0],\"xaxis\":\"x\",\"yaxis\":\"y\",\"type\":\"histogram\"},{\"alignmentgroup\":\"True\",\"hovertemplate\":\"type=Train<br>Age=%{x}<extra></extra>\",\"legendgroup\":\"Train\",\"marker\":{\"color\":\"#58D68D\"},\"name\":\"Train\",\"notched\":true,\"offsetgroup\":\"Train\",\"showlegend\":false,\"x\":[39.0,24.0,58.0,33.0,16.0,44.0,26.0,28.0,35.0,14.0,34.0,45.0,32.0,48.0,28.0,31.0,27.0,24.0,45.0,0.0,14.0,1.0,49.0,29.0,10.0,1.0,7.0,21.0,62.0,15.0,34.0,43.0,32.0,47.0,2.0,20.0,28.0,23.0,15.0,20.0,30.0,17.0,45.0,55.0,4.0,21.0,21.0,19.0,35.0,56.0,null,25.0,2.0,38.0,27.0,36.0,22.0,62.0,15.0,33.0,62.0,0.0,18.0,21.0,null,42.0,19.0,17.0,14.0,37.0,42.0,27.0,28.0,38.0,13.0,42.0,2.0,8.0,24.0,40.0,43.0,45.0,35.0,26.0,27.0,19.0,0.0,3.0,54.0,26.0,26.0,23.0,2.0,31.0,18.0,24.0,9.0,6.0,27.0,21.0,23.0,31.0,0.0,32.0,40.0,42.0,28.0,29.0,48.0,64.0,27.0,26.0,33.0,39.0,13.0,24.0,29.0,18.0,67.0,35.0,61.0,45.0,22.0,19.0,36.0,19.0,47.0,13.0,34.0,35.0,24.0,26.0,31.0,20.0,56.0,50.0,42.0,null,38.0,41.0,22.0,26.0,17.0,57.0,17.0,35.0,13.0,27.0,31.0,24.0,19.0,32.0,58.0,21.0,38.0,38.0,19.0,0.0,3.0,20.0,24.0,37.0,25.0,56.0,49.0,11.0,1.0,8.0,39.0,2.0,23.0,0.0,39.0,25.0,36.0,52.0,18.0,15.0,35.0,47.0,45.0,null,51.0,29.0,null,19.0,24.0,29.0,11.0,17.0,13.0,35.0,21.0,21.0,38.0,19.0,2.0,0.0,13.0,25.0,16.0,1.0,15.0,21.0,23.0,33.0,21.0,41.0,16.0,42.0,20.0,24.0,16.0,21.0,32.0,58.0,24.0,30.0,27.0,32.0,43.0,42.0,37.0,35.0,33.0,18.0,21.0,43.0,14.0,46.0,33.0,21.0,33.0,47.0,54.0,30.0,29.0,21.0,24.0,21.0,60.0,22.0,26.0,26.0,28.0,39.0,13.0,47.0,63.0,null,50.0,35.0,45.0,19.0,21.0,29.0,22.0,14.0,42.0,57.0,39.0,28.0,19.0,19.0,26.0,17.0,43.0,9.0,40.0,50.0,24.0,57.0,16.0,23.0,23.0,28.0,23.0,23.0,18.0,18.0,67.0,60.0,null,49.0,0.0,26.0,35.0,24.0,20.0,18.0,21.0,59.0,13.0,43.0,29.0,19.0,2.0,32.0,33.0,25.0,29.0,29.0,44.0,2.0,19.0,0.0,18.0,38.0,5.0,31.0,30.0,15.0,27.0,22.0,36.0,14.0,23.0,18.0,36.0,41.0,50.0,32.0,26.0,15.0,33.0,null,26.0,61.0,24.0,30.0,24.0,24.0,41.0,20.0,22.0,63.0,18.0,21.0,79.0,56.0,13.0,33.0,32.0,31.0,26.0,18.0,38.0,23.0,28.0,34.0,0.0,14.0,23.0,49.0,14.0,18.0,27.0,48.0,31.0,61.0,18.0,45.0,22.0,30.0,30.0,32.0,43.0,17.0,23.0,20.0,39.0,35.0,31.0,21.0,16.0,60.0,18.0,42.0,68.0,22.0,59.0,null,37.0,3.0,31.0,31.0,29.0,20.0,46.0,29.0,43.0,17.0,27.0,47.0,45.0,17.0,10.0,56.0,39.0,40.0,40.0,34.0,32.0,35.0,32.0,26.0,25.0,26.0,22.0,22.0,24.0,32.0,11.0,22.0,19.0,34.0,74.0,28.0,42.0,43.0,55.0,19.0,6.0,7.0,28.0,15.0,24.0,31.0,22.0,1.0,50.0,34.0,14.0,19.0,null,36.0,34.0,25.0,36.0,16.0,30.0,37.0,15.0,36.0,27.0,27.0,12.0,22.0,27.0,13.0,27.0,28.0,21.0,39.0,28.0,14.0,27.0,46.0,27.0,21.0,21.0,42.0,22.0,10.0,43.0,42.0,18.0,54.0,24.0,64.0,18.0,53.0,23.0,39.0,59.0,32.0,55.0,21.0,50.0,55.0,null,35.0,null,55.0,23.0,42.0,35.0,47.0,null,34.0,46.0,26.0,1.0,null,33.0,34.0,49.0,22.0,28.0,null,36.0,30.0,49.0,38.0,31.0,17.0,26.0,23.0,24.0,23.0,24.0,32.0,43.0,23.0,42.0,29.0,40.0,37.0,61.0,33.0,19.0,21.0,4.0,12.0,44.0,22.0,33.0,32.0,28.0,28.0,31.0,13.0,14.0,33.0,null,23.0,36.0,22.0,19.0,42.0,30.0,16.0,55.0,55.0,19.0,null,18.0,21.0,65.0,55.0,50.0,49.0,22.0,33.0,3.0,0.0,33.0,48.0,5.0,23.0,53.0,18.0,20.0,23.0,48.0,19.0,null,9.0,24.0,46.0,23.0,21.0,19.0,0.0,4.0,26.0,9.0,24.0,24.0,25.0,21.0,21.0,37.0,44.0,43.0,7.0,33.0,24.0,31.0,27.0,34.0,58.0,7.0,3.0,21.0,21.0,39.0,43.0,22.0,44.0,38.0,32.0,55.0,31.0,39.0,35.0,37.0,13.0,21.0,20.0,20.0,63.0,36.0,29.0,36.0,79.0,30.0,30.0,19.0,33.0,20.0,38.0,7.0,58.0,33.0,3.0,39.0,37.0,32.0,28.0,38.0,21.0,18.0,15.0,44.0,44.0,36.0,28.0,15.0,45.0,26.0,46.0,25.0,46.0,15.0,37.0,20.0,45.0,7.0,5.0,38.0,30.0,null,0.0,20.0,41.0,18.0,29.0,19.0,34.0,36.0,54.0,19.0,21.0,23.0,35.0,34.0,22.0,24.0,18.0,24.0,33.0,24.0,18.0,19.0,43.0,44.0,25.0,25.0,23.0,23.0,20.0,2.0,26.0,38.0,1.0,12.0,2.0,25.0,1.0,0.0,54.0,21.0,19.0,24.0,20.0,23.0,29.0,14.0,19.0,23.0,62.0,23.0,65.0,47.0,67.0,14.0,41.0,14.0,19.0,22.0,34.0,65.0,42.0,22.0,54.0,34.0,27.0,67.0,33.0,30.0,22.0,35.0,23.0,49.0,36.0,31.0,54.0,0.0,null,54.0,10.0,0.0,7.0,25.0,37.0,15.0,26.0,7.0,30.0,19.0,30.0,21.0,21.0,59.0,28.0,32.0,19.0,7.0,16.0,31.0,30.0,26.0,20.0,24.0,39.0,19.0,27.0,34.0,28.0,29.0,38.0,null,1.0,36.0,31.0,1.0,31.0,10.0,null,42.0,0.0,41.0,0.0,0.0,59.0,13.0,24.0,20.0,71.0,23.0,15.0,18.0,19.0,4.0,42.0,51.0,13.0,27.0,42.0,41.0,21.0,31.0,36.0,31.0,14.0,32.0,32.0,27.0,57.0,13.0,30.0,14.0,27.0,32.0,54.0,23.0,38.0,32.0,24.0,36.0,11.0,6.0,36.0,22.0,null,37.0,55.0,null,20.0,16.0,19.0,38.0,35.0,33.0,37.0,46.0,41.0,13.0,31.0,52.0,48.0,27.0,16.0,32.0,25.0,26.0,44.0,32.0,18.0,23.0,44.0,29.0,19.0,41.0,28.0,19.0,32.0,74.0,31.0,38.0,20.0,24.0,26.0,44.0,33.0,31.0,null,22.0,33.0,34.0,11.0,41.0,30.0,30.0,25.0,31.0,38.0,15.0,19.0,29.0,30.0,29.0,36.0,24.0,30.0,0.0,15.0,38.0,13.0,18.0,16.0,8.0,19.0,26.0,15.0,38.0,45.0,48.0,17.0,28.0,41.0,19.0,14.0,21.0,48.0,19.0,29.0,20.0,44.0,19.0,64.0,21.0,32.0,20.0,24.0,44.0,57.0,51.0,34.0,45.0,24.0,23.0,30.0,20.0,22.0,null,71.0,18.0,16.0,28.0,36.0,6.0,26.0,27.0,49.0,29.0,46.0,35.0,17.0,37.0,24.0,47.0,26.0,46.0,27.0,56.0,18.0,15.0,3.0,42.0,1.0,56.0,20.0,21.0,5.0,12.0,39.0,60.0,31.0,58.0,19.0,29.0,19.0,44.0,20.0,18.0,36.0,25.0,15.0,18.0,0.0,54.0,0.0,20.0,21.0,8.0,46.0,31.0,3.0,30.0,23.0,14.0,25.0,61.0,31.0,13.0,24.0,47.0,15.0,46.0,49.0,37.0,44.0,16.0,58.0,20.0,36.0,31.0,21.0,22.0,27.0,58.0,38.0,30.0,20.0,19.0,57.0,26.0,38.0,15.0,null,35.0,38.0,35.0,14.0,27.0,25.0,37.0,25.0,41.0,50.0,33.0,27.0,23.0,18.0,31.0,54.0,0.0,11.0,4.0,19.0,7.0,20.0,33.0,26.0,35.0,23.0,60.0,34.0,null,42.0,22.0,18.0,5.0,18.0,29.0,39.0,17.0,58.0,5.0,23.0,26.0,40.0,20.0,38.0,31.0,34.0,9.0,36.0,26.0,18.0,55.0,28.0,18.0,28.0,23.0,20.0,22.0,27.0,13.0,32.0,53.0,34.0,42.0,19.0,54.0,12.0,35.0,55.0,26.0,49.0,22.0,null,30.0,39.0,14.0,29.0,34.0,8.0,7.0,3.0,0.0,10.0,16.0,41.0,18.0,25.0,32.0,26.0,26.0,18.0,27.0,26.0,28.0,19.0,31.0,35.0,46.0,37.0,29.0,17.0,30.0,28.0,16.0,40.0,23.0,24.0,36.0,34.0,59.0,20.0,15.0,19.0,64.0,24.0,23.0,30.0,0.0,8.0,1.0,48.0,12.0,30.0,10.0,11.0,58.0,52.0,36.0,32.0,16.0,25.0,28.0,32.0,28.0,16.0,50.0,20.0,23.0,45.0,23.0,53.0,8.0,6.0,3.0,13.0,60.0,1.0,40.0,51.0,31.0,28.0,20.0,14.0,23.0,4.0,20.0,75.0,24.0,18.0,21.0,59.0,27.0,38.0,41.0,36.0,29.0,22.0,23.0,32.0,21.0,26.0,61.0,30.0,40.0,37.0,41.0,32.0,30.0,27.0,22.0,54.0,27.0,52.0,15.0,27.0,30.0,19.0,22.0,43.0,25.0,51.0,34.0,21.0,21.0,23.0,38.0,30.0,31.0,44.0,14.0,18.0,19.0,null,36.0,10.0,1.0,4.0,21.0,24.0,8.0,18.0,33.0,31.0,43.0,20.0,28.0,30.0,28.0,19.0,22.0,27.0,22.0,2.0,4.0,10.0,9.0,37.0,2.0,44.0,11.0,22.0,40.0,30.0,37.0,26.0,19.0,57.0,1.0,17.0,26.0,21.0,28.0,36.0,25.0,40.0,23.0,2.0,10.0,43.0,0.0,24.0,42.0,30.0,19.0,26.0,47.0,28.0,24.0,29.0,32.0,44.0,17.0,35.0,23.0,34.0,25.0,67.0,22.0,null,27.0,14.0,42.0,19.0,22.0,31.0,10.0,39.0,41.0,0.0,22.0,21.0,40.0,25.0,23.0,33.0,20.0,40.0,27.0,21.0,25.0,2.0,19.0,41.0,43.0,19.0,22.0,16.0,42.0,20.0,35.0,53.0,17.0,6.0,22.0,41.0,19.0,39.0,23.0,31.0,38.0,1.0,13.0,21.0,44.0,36.0,19.0,7.0,39.0,28.0,28.0,14.0,18.0,23.0,33.0,18.0,47.0,42.0,17.0,21.0,17.0,26.0,23.0,15.0,18.0,65.0,33.0,27.0,41.0,42.0,null,37.0,17.0,24.0,39.0,59.0,32.0,29.0,8.0,28.0,35.0,24.0,1.0,4.0,28.0,46.0,67.0,44.0,14.0,23.0,51.0,20.0,0.0,0.0,23.0,24.0,41.0,30.0,27.0,13.0,16.0,30.0,8.0,59.0,43.0,30.0,46.0,39.0,21.0,70.0,34.0,33.0,44.0,16.0,63.0,37.0,29.0,29.0,22.0,26.0,76.0,61.0,46.0,19.0,13.0,null,30.0,23.0,63.0,21.0,32.0,33.0,39.0,49.0,27.0,16.0,38.0,42.0,19.0,26.0,32.0,56.0,0.0,38.0,30.0,21.0,11.0,3.0,17.0,35.0,17.0,0.0,46.0,63.0,35.0,61.0,19.0,43.0,14.0,78.0,21.0,32.0,31.0,40.0,13.0,36.0,31.0,18.0,40.0,28.0,41.0,35.0,14.0,20.0,23.0,22.0,25.0,18.0,25.0,30.0,46.0,27.0,53.0,21.0,32.0,32.0,33.0,26.0,47.0,13.0,34.0,21.0,20.0,21.0,51.0,18.0,26.0,53.0,30.0,37.0,45.0,62.0,38.0,24.0,18.0,23.0,16.0,37.0,22.0,18.0,25.0,26.0,25.0,55.0,28.0,23.0,22.0,26.0,13.0,18.0,38.0,28.0,57.0,0.0,18.0,25.0,35.0,37.0,33.0,35.0,47.0,23.0,null,27.0,23.0,31.0,19.0,53.0,37.0,18.0,42.0,7.0,7.0,24.0,20.0,24.0,42.0,49.0,47.0,16.0,26.0,24.0,38.0,0.0,37.0,39.0,25.0,25.0,35.0,0.0,46.0,4.0,19.0,29.0,19.0,47.0,1.0,4.0,37.0,61.0,32.0,4.0,16.0,25.0,22.0,41.0,25.0,19.0,21.0,14.0,18.0,34.0,33.0,14.0,28.0,43.0,3.0,0.0,47.0,28.0,40.0,17.0,21.0,null,41.0,20.0,56.0,57.0,48.0,37.0,20.0,36.0,38.0,22.0,31.0,0.0,21.0,49.0,44.0,null,29.0,16.0,20.0,26.0,19.0,34.0,38.0,51.0,7.0,3.0,26.0,27.0,7.0,19.0,28.0,27.0,31.0,26.0,43.0,23.0,14.0,47.0,17.0,64.0,13.0,18.0,29.0,70.0,23.0,23.0,35.0,17.0,26.0,15.0,19.0,20.0,51.0,17.0,27.0,43.0,5.0,17.0,40.0,38.0,20.0,13.0,15.0,15.0,59.0,24.0,null,52.0,38.0,26.0,17.0,17.0,20.0,15.0,30.0,22.0,18.0,22.0,20.0,22.0,34.0,28.0,50.0,19.0,21.0,0.0,4.0,59.0,15.0,24.0,26.0,67.0,55.0,50.0,23.0,21.0,15.0,41.0,59.0,18.0,21.0,14.0,50.0,32.0,46.0,null,58.0,15.0,35.0,30.0,30.0,43.0,21.0,15.0,37.0,28.0,28.0,40.0,42.0,21.0,31.0,51.0,73.0,26.0,33.0,39.0,19.0,12.0,10.0,0.0,0.0,1.0,33.0,23.0,5.0,24.0,26.0,30.0,33.0,56.0,25.0,null,25.0,18.0,60.0,41.0,16.0,17.0,26.0,31.0,67.0,16.0,24.0,19.0,48.0,30.0,22.0,28.0,23.0,29.0,22.0,48.0,26.0,23.0,55.0,46.0,38.0,2.0,3.0,20.0,65.0,null,25.0,54.0,25.0,14.0,53.0,0.0,39.0,22.0,31.0,24.0,35.0,35.0,32.0,61.0,58.0,26.0,4.0,1.0,8.0,7.0,25.0,6.0,29.0,64.0,31.0,25.0,30.0,0.0,29.0,37.0,49.0,36.0,20.0,20.0,18.0,17.0,48.0,26.0,35.0,30.0,22.0,5.0,43.0,52.0,50.0,29.0,19.0,39.0,38.0,21.0,25.0,42.0,36.0,19.0,42.0,40.0,14.0,50.0,18.0,46.0,null,15.0,22.0,0.0,52.0,38.0,46.0,23.0,63.0,24.0,50.0,20.0,55.0,21.0,56.0,45.0,18.0,47.0,36.0,57.0,13.0,27.0,20.0,47.0,15.0,34.0,21.0,51.0,23.0,58.0,37.0,44.0,25.0,15.0,40.0,29.0,36.0,21.0,35.0,24.0,2.0,0.0,43.0,63.0,30.0,38.0,27.0,54.0,39.0,41.0,22.0,23.0,34.0,26.0,39.0,15.0,64.0,25.0,35.0,19.0,26.0,3.0,29.0,44.0,27.0,17.0,37.0,19.0,44.0,22.0,22.0,21.0,31.0,17.0,30.0,15.0,42.0,55.0,28.0,33.0,19.0,24.0,4.0,2.0,30.0,31.0,17.0,40.0,33.0,46.0,30.0,17.0,19.0,22.0,20.0,36.0,0.0,17.0,null,15.0,20.0,19.0,24.0,43.0,26.0,42.0,21.0,50.0,25.0,64.0,50.0,24.0,27.0,42.0,30.0,20.0,31.0,26.0,39.0,null,32.0,25.0,6.0,3.0,11.0,52.0,14.0,68.0,18.0,55.0,22.0,34.0,17.0,38.0,13.0,19.0,30.0,27.0,17.0,45.0,28.0,23.0,24.0,23.0,29.0,46.0,17.0,20.0,24.0,40.0,null,38.0,65.0,19.0,54.0,38.0,40.0,21.0,22.0,33.0,18.0,43.0,13.0,26.0,22.0,21.0,25.0,29.0,49.0,29.0,45.0,45.0,30.0,29.0,26.0,16.0,20.0,33.0,18.0,24.0,29.0,40.0,27.0,35.0,31.0,26.0,49.0,23.0,23.0,14.0,21.0,18.0,null,19.0,22.0,17.0,13.0,26.0,null,16.0,20.0,20.0,23.0,61.0,27.0,3.0,4.0,13.0,19.0,18.0,66.0,39.0,21.0,7.0,56.0,15.0,null,13.0,18.0,38.0,45.0,21.0,19.0,49.0,21.0,18.0,43.0,27.0,0.0,27.0,21.0,20.0,35.0,20.0,24.0,41.0,23.0,27.0,58.0,53.0,30.0,24.0,31.0,46.0,20.0,20.0,30.0,24.0,34.0,20.0,48.0,25.0,43.0,27.0,47.0,26.0,37.0,42.0,61.0,29.0,32.0,51.0,43.0,25.0,31.0,13.0,20.0,29.0,16.0,15.0,50.0,41.0,43.0,32.0,36.0,18.0,47.0,29.0,null,14.0,25.0,63.0,22.0,32.0,31.0,24.0,39.0,20.0,20.0,19.0,20.0,31.0,17.0,24.0,27.0,28.0,41.0,25.0,26.0,27.0,22.0,62.0,58.0,37.0,54.0,26.0,44.0,34.0,47.0,27.0,22.0,46.0,29.0,43.0,42.0,39.0,30.0,43.0,19.0,26.0,46.0,3.0,21.0,1.0,22.0,27.0,28.0,36.0,19.0,18.0,47.0,18.0,6.0,20.0,18.0,37.0,22.0,37.0,6.0,36.0,46.0,75.0,37.0,22.0,33.0,35.0,19.0,34.0,23.0,37.0,24.0,54.0,52.0,60.0,1.0,null,22.0,27.0,48.0,47.0,25.0,49.0,33.0,67.0,5.0,60.0,56.0,59.0,44.0,33.0,28.0,29.0,13.0,34.0,45.0,39.0,18.0,57.0,null,25.0,22.0,32.0,29.0,21.0,16.0,45.0,44.0,27.0,26.0,46.0,24.0,15.0,53.0,28.0,11.0,7.0,0.0,15.0,31.0,9.0,44.0,35.0,30.0,13.0,45.0,4.0,21.0,20.0,24.0,3.0,29.0,28.0,44.0,50.0,35.0,19.0,22.0,30.0,36.0,20.0,22.0,22.0,32.0,35.0,41.0,57.0,3.0,11.0,4.0,17.0,30.0,11.0,23.0,58.0,22.0,24.0,20.0,37.0,49.0,46.0,30.0,36.0,21.0,25.0,42.0,13.0,25.0,29.0,17.0,36.0,44.0,18.0,22.0,22.0,43.0,29.0,24.0,18.0,42.0,43.0,32.0,15.0,22.0,20.0,34.0,70.0,18.0,26.0,17.0,13.0,19.0,32.0,33.0,21.0,23.0,24.0,17.0,34.0,31.0,43.0,43.0,33.0,28.0,27.0,7.0,16.0,42.0,27.0,19.0,42.0,13.0,16.0,21.0,28.0,69.0,15.0,48.0,42.0,42.0,23.0,26.0,45.0,30.0,36.0,null,35.0,21.0,50.0,52.0,21.0,41.0,35.0,26.0,17.0,69.0,27.0,25.0,27.0,25.0,36.0,14.0,27.0,22.0,24.0,null,4.0,19.0,19.0,38.0,39.0,23.0,57.0,18.0,43.0,28.0,33.0,37.0,28.0,28.0,18.0,29.0,29.0,28.0,24.0,59.0,43.0,20.0,23.0,27.0,38.0,38.0,48.0,25.0,25.0,24.0,69.0,20.0,18.0,28.0,23.0,24.0,44.0,29.0,6.0,42.0,78.0,36.0,37.0,41.0,18.0,62.0,0.0,55.0,16.0,32.0,19.0,7.0,4.0,30.0,24.0,34.0,30.0,3.0,32.0,55.0,0.0,51.0,0.0,21.0,2.0,19.0,24.0,20.0,42.0,17.0,32.0,28.0,21.0,56.0,28.0,42.0,18.0,24.0,20.0,22.0,22.0,21.0,28.0,26.0,50.0,26.0,30.0,29.0,8.0,45.0,35.0,18.0,23.0,29.0,18.0,28.0,34.0,0.0,4.0,28.0,8.0,20.0,20.0,25.0,31.0,37.0,21.0,24.0,34.0,0.0,25.0,43.0,null,45.0,63.0,17.0,35.0,12.0,null,17.0,32.0,23.0,17.0,34.0,15.0,14.0,22.0,19.0,40.0,25.0,51.0,22.0,50.0,26.0,39.0,18.0,22.0,26.0,19.0,16.0,24.0,34.0,55.0,42.0,14.0,28.0,26.0,33.0,24.0,23.0,16.0,36.0,44.0,22.0,30.0,20.0,21.0,14.0,27.0,19.0,21.0,null,13.0,71.0,28.0,18.0,23.0,34.0,20.0,17.0,21.0,33.0,34.0,51.0,21.0,null,31.0,36.0,39.0,26.0,51.0,24.0,27.0,31.0,24.0,57.0,36.0,55.0,null,18.0,27.0,50.0,24.0,20.0,24.0,18.0,44.0,27.0,58.0,29.0,23.0,3.0,0.0,33.0,12.0,44.0,20.0,59.0,18.0,72.0,23.0,11.0,1.0,25.0,25.0,24.0,54.0,17.0,48.0,40.0,2.0,32.0,15.0,52.0,16.0,16.0,16.0,6.0,10.0,27.0,45.0,26.0,29.0,38.0,19.0,43.0,15.0,31.0,52.0,49.0,29.0,18.0,41.0,9.0,null,58.0,39.0,13.0,36.0,23.0,24.0,33.0,18.0,2.0,0.0,36.0,15.0,31.0,42.0,27.0,36.0,0.0,3.0,22.0,56.0,23.0,25.0,29.0,17.0,13.0,35.0,53.0,24.0,38.0,21.0,29.0,46.0,58.0,53.0,21.0,27.0,31.0,23.0,41.0,29.0,54.0,43.0,36.0,48.0,34.0,42.0,17.0,22.0,37.0,38.0,21.0,23.0,27.0,23.0,19.0,28.0,33.0,24.0,0.0,41.0,19.0,44.0,43.0,14.0,18.0,25.0,0.0,4.0,24.0,38.0,44.0,57.0,3.0,5.0,3.0,18.0,8.0,21.0,35.0,47.0,28.0,49.0,23.0,19.0,34.0,40.0,26.0,23.0,22.0,51.0,44.0,50.0,28.0,13.0,21.0,20.0,14.0,38.0,29.0,36.0,16.0,40.0,null,18.0,17.0,32.0,27.0,34.0,53.0,36.0,41.0,51.0,61.0,59.0,17.0,27.0,57.0,39.0,55.0,42.0,36.0,42.0,32.0,6.0,15.0,28.0,37.0,44.0,71.0,44.0,36.0,18.0,3.0,12.0,0.0,29.0,9.0,27.0,24.0,38.0,28.0,26.0,16.0,24.0,33.0,24.0,29.0,25.0,0.0,13.0,7.0,32.0,34.0,49.0,43.0,0.0,6.0,23.0,43.0,23.0,43.0,41.0,54.0,51.0,44.0,48.0,45.0,20.0,33.0,21.0,68.0,23.0,16.0,35.0,22.0,51.0,2.0,29.0,0.0,39.0,55.0,22.0,20.0,25.0,18.0,28.0,26.0,28.0,54.0,56.0,25.0,26.0,14.0,21.0,43.0,37.0,null,38.0,14.0,20.0,33.0,33.0,13.0,37.0,15.0,33.0,24.0,49.0,24.0,24.0,26.0,40.0,31.0,47.0,19.0,38.0,33.0,45.0,1.0,32.0,70.0,19.0,55.0,48.0,66.0,13.0,40.0,35.0,32.0,51.0,37.0,31.0,37.0,38.0,19.0,33.0,19.0,31.0,43.0,22.0,24.0,21.0,14.0,30.0,22.0,11.0,4.0,0.0,30.0,21.0,40.0,57.0,35.0,32.0,32.0,30.0,69.0,21.0,17.0,16.0,25.0,25.0,52.0,13.0,37.0,13.0,45.0,55.0,22.0,39.0,35.0,19.0,7.0,19.0,21.0,37.0,35.0,22.0,62.0,41.0,16.0,26.0,36.0,null,22.0,40.0,50.0,57.0,15.0,23.0,60.0,73.0,35.0,28.0,27.0,14.0,26.0,22.0,22.0,71.0,25.0,27.0,1.0,52.0,0.0,30.0,52.0,12.0,22.0,24.0,22.0,15.0,21.0,56.0,50.0,20.0,32.0,28.0,74.0,25.0,31.0,6.0,17.0,12.0,47.0,46.0,31.0,36.0,15.0,38.0,48.0,21.0,4.0,31.0,31.0,62.0,29.0,30.0,26.0,43.0,32.0,24.0,49.0,21.0,18.0,18.0,14.0,21.0,25.0,56.0,0.0,55.0,14.0,13.0,43.0,39.0,null,24.0,26.0,22.0,26.0,19.0,38.0,38.0,77.0,28.0,22.0,20.0,18.0,10.0,34.0,43.0,31.0,40.0,25.0,68.0,20.0,27.0,1.0,60.0,28.0,11.0,0.0,9.0,38.0,18.0,40.0,21.0,24.0,26.0,47.0,46.0,55.0,50.0,10.0,17.0,20.0,37.0,24.0,43.0,0.0,24.0,22.0,14.0,3.0,22.0,23.0,56.0,36.0,58.0,1.0,39.0,33.0,19.0,null,33.0,17.0,28.0,21.0,45.0,62.0,43.0,27.0,1.0,31.0,18.0,21.0,7.0,22.0,26.0,30.0,17.0,null,10.0,25.0,21.0,53.0,21.0,28.0,20.0,54.0,9.0,20.0,19.0,32.0,22.0,35.0,26.0,51.0,8.0,40.0,2.0,19.0,32.0,16.0,64.0,35.0,33.0,9.0,21.0,28.0,28.0,31.0,32.0,43.0,60.0,43.0,43.0,19.0,21.0,38.0,17.0,29.0,2.0,22.0,18.0,16.0,52.0,52.0,14.0,25.0,34.0,20.0,28.0,null,20.0,44.0,64.0,27.0,24.0,38.0,47.0,8.0,1.0,0.0,20.0,41.0,35.0,31.0,14.0,25.0,26.0,26.0,30.0,49.0,19.0,15.0,27.0,39.0,32.0,11.0,44.0,36.0,56.0,42.0,40.0,53.0,31.0,14.0,31.0,42.0,32.0,34.0,55.0,42.0,40.0,48.0,37.0,17.0,60.0,19.0,30.0,32.0,28.0,26.0,24.0,47.0,32.0,73.0,17.0,47.0,null,13.0,22.0,61.0,19.0,45.0,18.0,32.0,52.0,25.0,9.0,18.0,26.0,20.0,6.0,5.0,40.0,20.0,18.0,42.0,14.0,33.0,23.0,35.0,53.0,56.0,35.0,18.0,25.0,20.0,44.0,26.0,23.0,39.0,25.0,42.0,20.0,4.0,64.0,0.0,19.0,6.0,23.0,22.0,18.0,21.0,37.0,24.0,38.0,11.0,6.0,49.0,55.0,15.0,19.0,16.0,48.0,25.0,23.0,27.0,39.0,28.0,72.0,47.0,65.0,40.0,18.0,27.0,21.0,37.0,31.0,33.0,53.0,27.0,74.0,null,23.0,74.0,23.0,26.0,0.0,0.0,24.0,28.0,17.0,26.0,39.0,17.0,15.0,37.0,38.0,33.0,16.0,41.0,7.0,20.0,44.0,42.0,29.0,22.0,21.0,21.0,21.0,13.0,16.0,36.0,36.0,26.0,28.0,14.0,29.0,19.0,51.0,64.0,41.0,null,16.0,20.0,31.0,38.0,59.0,18.0,33.0,33.0,49.0,4.0,0.0,0.0,24.0,52.0,50.0,31.0,25.0,62.0,49.0,24.0,33.0,20.0,46.0,26.0,52.0,28.0,39.0,29.0,19.0,15.0,33.0,47.0,34.0,26.0,15.0,null,27.0,38.0,21.0,1.0,38.0,0.0,32.0,27.0,48.0,22.0,28.0,19.0,37.0,46.0,26.0,16.0,0.0,0.0,26.0,13.0,23.0,70.0,21.0,40.0,18.0,23.0,15.0,28.0,45.0,18.0,23.0,36.0,25.0,28.0,29.0,31.0,14.0,31.0,39.0,17.0,56.0,36.0,21.0,48.0,53.0,5.0,21.0,50.0,18.0,28.0,28.0,18.0,37.0,19.0,27.0,37.0,43.0,17.0,21.0,55.0,14.0,24.0,26.0,19.0,20.0,14.0,19.0,15.0,25.0,24.0,22.0,26.0,23.0,20.0,53.0,55.0,22.0,35.0,40.0,22.0,22.0,21.0,64.0,40.0,8.0,25.0,19.0,24.0,11.0,31.0,46.0,31.0,17.0,16.0,57.0,28.0,27.0,28.0,26.0,17.0,36.0,24.0,18.0,20.0,10.0,null,23.0,36.0,27.0,54.0,38.0,29.0,37.0,36.0,18.0,28.0,61.0,19.0,29.0,37.0,29.0,38.0,41.0,23.0,48.0,0.0,46.0,36.0,42.0,null,16.0,43.0,40.0,22.0,39.0,37.0,28.0,29.0,14.0,15.0,17.0,4.0,24.0,null,22.0,38.0,30.0,29.0,26.0,41.0,50.0,34.0,24.0,24.0,45.0,35.0,23.0,23.0,21.0,19.0,24.0,2.0,0.0,20.0,35.0,34.0,26.0,26.0,32.0,25.0,30.0,57.0,23.0,32.0,27.0,20.0,21.0,19.0,16.0,18.0,18.0,22.0,null,35.0,8.0,5.0,40.0,31.0,9.0,56.0,39.0,18.0,45.0,33.0,2.0,1.0,2.0,16.0,18.0,28.0,45.0,24.0,35.0,16.0,40.0,5.0,29.0,31.0,27.0,34.0,15.0,43.0,30.0,61.0,48.0,17.0,19.0,29.0,2.0,24.0,19.0,34.0,19.0,39.0,26.0,53.0,18.0,null,45.0,32.0,18.0,48.0,24.0,52.0,55.0,43.0,24.0,8.0,18.0,38.0,18.0,23.0,26.0,21.0,45.0,24.0,44.0,20.0,47.0,16.0,28.0,8.0,20.0,22.0,42.0,23.0,30.0,18.0,35.0,42.0,46.0,29.0,35.0,48.0,24.0,38.0,51.0,77.0,22.0,38.0,42.0,55.0,7.0,null,25.0,15.0,13.0,23.0,null,33.0,26.0,67.0,27.0,33.0,18.0,36.0,18.0,51.0,54.0,33.0,18.0,57.0,23.0,24.0,20.0,32.0,21.0,null,41.0,27.0,49.0,18.0,34.0,73.0,40.0,63.0,21.0,21.0,23.0,31.0,41.0,15.0,36.0,24.0,27.0,24.0,19.0,25.0,39.0,15.0,31.0,25.0,57.0,null,18.0,33.0,23.0,34.0,38.0,21.0,31.0,13.0,54.0,13.0,18.0,null,43.0,56.0,63.0,9.0,9.0,0.0,16.0,42.0,9.0,22.0,47.0,30.0,29.0,null,22.0,19.0,31.0,17.0,38.0,13.0,36.0,0.0,21.0,18.0,36.0,27.0,5.0,18.0,25.0,14.0,23.0,2.0,1.0,7.0,6.0,56.0,4.0,65.0,36.0,25.0,41.0,20.0,18.0,15.0,23.0,29.0,33.0,14.0,55.0,30.0,21.0,26.0,33.0,18.0,9.0,0.0,19.0,18.0,38.0,42.0,28.0,37.0,29.0,42.0,18.0,34.0,34.0,18.0,24.0,24.0,56.0,2.0,12.0,37.0,60.0,55.0,20.0,28.0,28.0,37.0,18.0,14.0,29.0,51.0,45.0,45.0,41.0,21.0,28.0,0.0,46.0,41.0,13.0,55.0,20.0,21.0,49.0,27.0,0.0,22.0,17.0,23.0,44.0,29.0,19.0,3.0,29.0,19.0,22.0,33.0,null,50.0,54.0,43.0,17.0,26.0,44.0,51.0,29.0,4.0,40.0,27.0,8.0,3.0,11.0,24.0,25.0,28.0,25.0,27.0,25.0,0.0,58.0,3.0,4.0,2.0,34.0,5.0,3.0,46.0,22.0,8.0,17.0,4.0,12.0,40.0,16.0,41.0,8.0,14.0,2.0,59.0,45.0,52.0,33.0,51.0,38.0,14.0,42.0,28.0,34.0,21.0,30.0,null,26.0,23.0,20.0,59.0,37.0,32.0,37.0,27.0,42.0,29.0,2.0,10.0,0.0,21.0,8.0,null,27.0,13.0,49.0,38.0,21.0,22.0,14.0,24.0,24.0,34.0,1.0,null,26.0,null,32.0,2.0,10.0,49.0,14.0,29.0,25.0,36.0,22.0,21.0,36.0,54.0,30.0,0.0,1.0,42.0,47.0,25.0,18.0,22.0,27.0,24.0,null,22.0,60.0,38.0,23.0,21.0,55.0,20.0,50.0,22.0,21.0,26.0,36.0,46.0,26.0,24.0,14.0,46.0,15.0,30.0,null,38.0,48.0,31.0,41.0,43.0,23.0,48.0,47.0,19.0,25.0,28.0,16.0,45.0,31.0,19.0,21.0,null,22.0,23.0,54.0,0.0,4.0,23.0,19.0,34.0,18.0,40.0,58.0,39.0,23.0,11.0,43.0,29.0,36.0,13.0,54.0,45.0,33.0,46.0,15.0,35.0,23.0,15.0,27.0,15.0,27.0,16.0,37.0,45.0,58.0,null,38.0,28.0,47.0,41.0,28.0,23.0,24.0,58.0,36.0,24.0,56.0,15.0,19.0,27.0,47.0,37.0,39.0,20.0,20.0,38.0,46.0,13.0,24.0,32.0,null,44.0,19.0,30.0,23.0,4.0,0.0,17.0,44.0,31.0,41.0,33.0,43.0,43.0,36.0,19.0,24.0,17.0,23.0,17.0,18.0,34.0,13.0,66.0,27.0,19.0,55.0,40.0,23.0,7.0,12.0,37.0,22.0,25.0,46.0,37.0,50.0,28.0,26.0,28.0,23.0,23.0,34.0,65.0,20.0,29.0,30.0,3.0,40.0,32.0,31.0,13.0,29.0,28.0,19.0,24.0,22.0,13.0,21.0,24.0,47.0,27.0,18.0,36.0,68.0,31.0,28.0,36.0,17.0,13.0,30.0,58.0,43.0,20.0,29.0,15.0,30.0,33.0,25.0,62.0,41.0,27.0,18.0,27.0,19.0,37.0,24.0,29.0,44.0,19.0,39.0,63.0,39.0,41.0,27.0,56.0,22.0,26.0,24.0,18.0,13.0,32.0,30.0,25.0,55.0,19.0,24.0,32.0,24.0,32.0,36.0,28.0,52.0,29.0,23.0,32.0,35.0,41.0,16.0,33.0,6.0,15.0,38.0,56.0,4.0,21.0,22.0,37.0,6.0,22.0,26.0,22.0,20.0,null,24.0,25.0,48.0,24.0,3.0,24.0,25.0,1.0,20.0,22.0,28.0,17.0,28.0,47.0,34.0,29.0,14.0,36.0,40.0,49.0,51.0,41.0,44.0,47.0,22.0,13.0,18.0,28.0,22.0,50.0,47.0,55.0,21.0,39.0,21.0,37.0,31.0,23.0,28.0,23.0,20.0,28.0,40.0,54.0,18.0,27.0,43.0,25.0,13.0,15.0,37.0,32.0,19.0,21.0,27.0,39.0,22.0,25.0,34.0,54.0,42.0,36.0,43.0,23.0,57.0,54.0,51.0,32.0,33.0,8.0,44.0,27.0,48.0,13.0,5.0,18.0,23.0,23.0,35.0,25.0,32.0,0.0,5.0,16.0,18.0,29.0,55.0,41.0,38.0,27.0,55.0,75.0,50.0,23.0,37.0,33.0,45.0,47.0,13.0,29.0,19.0,30.0,39.0,31.0,29.0,16.0,18.0,38.0,50.0,21.0,22.0,20.0,36.0,23.0,31.0,39.0,50.0,40.0,28.0,38.0,37.0,59.0,41.0,33.0,54.0,40.0,43.0,26.0,65.0,22.0,28.0,35.0,30.0,28.0,23.0,24.0,16.0,18.0,20.0,29.0,29.0,21.0,2.0,43.0,28.0,31.0,23.0,26.0,43.0,28.0,24.0,27.0,13.0,27.0,2.0,24.0,2.0,50.0,27.0,26.0,31.0,28.0,4.0,9.0,0.0,35.0,3.0,25.0,63.0,34.0,35.0,26.0,39.0,34.0,36.0,46.0,26.0,28.0,20.0,35.0,11.0,14.0,4.0,11.0,31.0,15.0,39.0,7.0,24.0,22.0,26.0,53.0,40.0,19.0,54.0,21.0,25.0,48.0,41.0,13.0,57.0,25.0,48.0,34.0,16.0,0.0,15.0,37.0,37.0,49.0,18.0,25.0,null,43.0,20.0,54.0,30.0,37.0,30.0,20.0,20.0,24.0,44.0,0.0,15.0,19.0,20.0,20.0,34.0,17.0,20.0,42.0,28.0,43.0,55.0,21.0,17.0,54.0,25.0,null,45.0,31.0,19.0,30.0,24.0,null,42.0,29.0,37.0,64.0,24.0,23.0,22.0,23.0,21.0,37.0,17.0,35.0,33.0,37.0,32.0,31.0,null,34.0,9.0,25.0,29.0,1.0,30.0,64.0,31.0,27.0,null,25.0,28.0,32.0,36.0,26.0,36.0,37.0,45.0,22.0,24.0,23.0,31.0,37.0,28.0,23.0,14.0,40.0,42.0,53.0,46.0,28.0,25.0,34.0,58.0,31.0,24.0,52.0,25.0,17.0,27.0,29.0,45.0,28.0,25.0,57.0,68.0,26.0,52.0,36.0,41.0,14.0,16.0,24.0,62.0,26.0,45.0,41.0,36.0,13.0,48.0,null,22.0,39.0,45.0,42.0,33.0,27.0,47.0,20.0,32.0,54.0,23.0,9.0,17.0,26.0,38.0,24.0,30.0,2.0,4.0,9.0,30.0,5.0,2.0,32.0,53.0,46.0,2.0,1.0,11.0,3.0,33.0,3.0,38.0,21.0,41.0,64.0,27.0,41.0,19.0,42.0,30.0,38.0,63.0,17.0,2.0,19.0,37.0,50.0,38.0,28.0,35.0,27.0,15.0,29.0,65.0,27.0,0.0,21.0,19.0,39.0,60.0,30.0,30.0,40.0,26.0,38.0,22.0,null,65.0,61.0,20.0,24.0,16.0,35.0,21.0,23.0,17.0,24.0,27.0,26.0,26.0,20.0,28.0,37.0,23.0,49.0,50.0,4.0,32.0,44.0,20.0,30.0,29.0,22.0,35.0,0.0,6.0,38.0,34.0,34.0,null,53.0,28.0,31.0,56.0,36.0,30.0,32.0,44.0,54.0,24.0,44.0,25.0,35.0,29.0,22.0,22.0,22.0,18.0,22.0,52.0,0.0,1.0,34.0,6.0,22.0,31.0,31.0,20.0,25.0,23.0,53.0,32.0,27.0,48.0,37.0,21.0,29.0,46.0,19.0,22.0,54.0,43.0,18.0,36.0,20.0,63.0,50.0,13.0,43.0,16.0,31.0,0.0,10.0,10.0,55.0,18.0,7.0,1.0,44.0,27.0,20.0,49.0,22.0,21.0,26.0,65.0,20.0,0.0,16.0,22.0,0.0,21.0,30.0,14.0,45.0,22.0,21.0,37.0,29.0,29.0,21.0,52.0,36.0,59.0,21.0,25.0,23.0,36.0,38.0,0.0,19.0,30.0,23.0,55.0,44.0,30.0,39.0,19.0,24.0,37.0,24.0,17.0,17.0,14.0,13.0,35.0,32.0,18.0,21.0,25.0,36.0,20.0,22.0,27.0,null,38.0,23.0,21.0,18.0,20.0,28.0,57.0,10.0,23.0,22.0,24.0,52.0,31.0,15.0,40.0,18.0,28.0,40.0,32.0,35.0,52.0,34.0,46.0,23.0,44.0,59.0,42.0,18.0,29.0,15.0,19.0,49.0,19.0,36.0,59.0,24.0,4.0,20.0,24.0,31.0,23.0,3.0,22.0,20.0,0.0,13.0,47.0,51.0,22.0,3.0,4.0,16.0,24.0,1.0,31.0,34.0,20.0,19.0,19.0,35.0,3.0,36.0,20.0,null,58.0,56.0,27.0,25.0,39.0,43.0,42.0,24.0,19.0,32.0,32.0,61.0,64.0,21.0,26.0,35.0,43.0,3.0,56.0,45.0,25.0,12.0,2.0,46.0,32.0,20.0,24.0,28.0,12.0,11.0,16.0,29.0,24.0,22.0,21.0,38.0,35.0,79.0,22.0,42.0,34.0,52.0,43.0,30.0,35.0,18.0,27.0,46.0,15.0,44.0,20.0,35.0,19.0,47.0,26.0,24.0,23.0,26.0,5.0,35.0,18.0,32.0,13.0,15.0,18.0,41.0,36.0,33.0,41.0,47.0,32.0,36.0,13.0,34.0,24.0,16.0,12.0,24.0,35.0,26.0,39.0,18.0,23.0,29.0,38.0,31.0,49.0,17.0,23.0,15.0,11.0,30.0,42.0,21.0,41.0,14.0,27.0,29.0,25.0,54.0,46.0,18.0,22.0,29.0,26.0,36.0,19.0,56.0,20.0,10.0,14.0,27.0,35.0,13.0,21.0,22.0,29.0,32.0,20.0,44.0,22.0,39.0,19.0,0.0,0.0,12.0,7.0,32.0,11.0,18.0,49.0,61.0,7.0,25.0,51.0,56.0,31.0,16.0,29.0,17.0,47.0,25.0,28.0,32.0,56.0,25.0,13.0,41.0,28.0,25.0,11.0,20.0,24.0,41.0,29.0,59.0,31.0,16.0,65.0,21.0,27.0,37.0,42.0,36.0,24.0,null,19.0,26.0,19.0,26.0,35.0,24.0,9.0,40.0,23.0,4.0,20.0,21.0,4.0,19.0,18.0,26.0,13.0,16.0,14.0,40.0,34.0,21.0,29.0,40.0,16.0,37.0,41.0,16.0,39.0,30.0,40.0,63.0,32.0,47.0,23.0,23.0,19.0,44.0,29.0,21.0,23.0,26.0,47.0,20.0,48.0,4.0,25.0,0.0,29.0,21.0,20.0,34.0,9.0,12.0,13.0,27.0,34.0,18.0,16.0,43.0,0.0,20.0,45.0,35.0,21.0,14.0,46.0,22.0,2.0,3.0,28.0,60.0,48.0,18.0,31.0,26.0,41.0,26.0,29.0,24.0,25.0,0.0,30.0,18.0,32.0,28.0,21.0,25.0,47.0,null,8.0,24.0,30.0,24.0,13.0,16.0,23.0,16.0,29.0,46.0,13.0,22.0,29.0,46.0,24.0,33.0,38.0,57.0,null,38.0,28.0,25.0,22.0,33.0,35.0,24.0,31.0,16.0,28.0,8.0,20.0,26.0,43.0,70.0,17.0,14.0,21.0,37.0,15.0,20.0,36.0,14.0,21.0,28.0,20.0,26.0,25.0,29.0,39.0,18.0,37.0,28.0,18.0,30.0,35.0,26.0,0.0,42.0,36.0,31.0,27.0,25.0,32.0,14.0,16.0,51.0,21.0,31.0,9.0,7.0,3.0,2.0,7.0,18.0,33.0,23.0,13.0,32.0,27.0,23.0,25.0,18.0,23.0,31.0,32.0,22.0,38.0,21.0,28.0,38.0,20.0,23.0,48.0,15.0,30.0,40.0,36.0,20.0,17.0,38.0,38.0,14.0,null,21.0,18.0,26.0,35.0,46.0,13.0,39.0,49.0,28.0,27.0,21.0,29.0,27.0,38.0,18.0,35.0,37.0,60.0,31.0,4.0,34.0,46.0,18.0,38.0,29.0,13.0,26.0,30.0,42.0,36.0,23.0,34.0,26.0,31.0,48.0,10.0,27.0,32.0,24.0,20.0,48.0,35.0,14.0,28.0,null,42.0,8.0,30.0,44.0,40.0,38.0,22.0,32.0,16.0,33.0,38.0,23.0,16.0,16.0,11.0,22.0,43.0,20.0,22.0,0.0,30.0,18.0,0.0,41.0,39.0,37.0,26.0,49.0,28.0,13.0,64.0,24.0,18.0,18.0,25.0,19.0,33.0,null,50.0,30.0,44.0,52.0,7.0,30.0,27.0,24.0,13.0,61.0,32.0,17.0,36.0,16.0,21.0,24.0,28.0,null,13.0,39.0,24.0,38.0,20.0,21.0,27.0,49.0,6.0,41.0,33.0,6.0,35.0,46.0,31.0,32.0,31.0,20.0,57.0,37.0,21.0,43.0,49.0,17.0,29.0,36.0,37.0,17.0,45.0,20.0,24.0,28.0,15.0,53.0,51.0,14.0,1.0,26.0,20.0,23.0,22.0,22.0,13.0,28.0,40.0,21.0,35.0,22.0,37.0,21.0,50.0,27.0,20.0,15.0,25.0,31.0,null,18.0,2.0,27.0,0.0,22.0,null,56.0,28.0,42.0,20.0,27.0,29.0,36.0,23.0,64.0,19.0,1.0,49.0,0.0,18.0,39.0,37.0,44.0,43.0,33.0,20.0,0.0,4.0,20.0,50.0,47.0,17.0,26.0,21.0,20.0,26.0,null,34.0,11.0,0.0,28.0,33.0,22.0,28.0,11.0,60.0,43.0,27.0,37.0,23.0,57.0,29.0,28.0,42.0,43.0,26.0,72.0,49.0,29.0,18.0,26.0,19.0,18.0,14.0,44.0,34.0,18.0,36.0,27.0,35.0,52.0,22.0,34.0,37.0,22.0,26.0,14.0,53.0,17.0,30.0,65.0,19.0,36.0,3.0,6.0,4.0,21.0,8.0,35.0,18.0,34.0,45.0,31.0,14.0,23.0,61.0,54.0,28.0,46.0,32.0,49.0,20.0,25.0,19.0,28.0,68.0,16.0,19.0,49.0,15.0,26.0,22.0,23.0,31.0,27.0,28.0,20.0,43.0,22.0,27.0,35.0,37.0,24.0,18.0,15.0,28.0,24.0,39.0,35.0,52.0,48.0,27.0,50.0,24.0,26.0,24.0,15.0,42.0,51.0,43.0,31.0,14.0,31.0,33.0,21.0,13.0,29.0,22.0,22.0,18.0,35.0,20.0,18.0,66.0,33.0,48.0,38.0,62.0,19.0,44.0,25.0,15.0,20.0,34.0,23.0,45.0,39.0,33.0,14.0,26.0,47.0,null,28.0,22.0,17.0,16.0,9.0,15.0,33.0,61.0,19.0,61.0,42.0,4.0,12.0,0.0,19.0,null,29.0,59.0,20.0,70.0,3.0,37.0,58.0,44.0,24.0,20.0,24.0,27.0,28.0,24.0,29.0,25.0,20.0,34.0,28.0,null,23.0,39.0,35.0,18.0,20.0,42.0,32.0,50.0,23.0,19.0,29.0,35.0,18.0,24.0,23.0,51.0,42.0,19.0,23.0,19.0,22.0,25.0,31.0,23.0,22.0,55.0,40.0,24.0,25.0,42.0,33.0,54.0,22.0,22.0,19.0,47.0,23.0,61.0,21.0,46.0,36.0,15.0,33.0,35.0,21.0,21.0,43.0,34.0,47.0,27.0,46.0,46.0,40.0,59.0,45.0,19.0,32.0,39.0,40.0,44.0,26.0,22.0,2.0,18.0,53.0,22.0,46.0,28.0,31.0,36.0,46.0,0.0,3.0,12.0,2.0,41.0,11.0,41.0,17.0,21.0,21.0,27.0,54.0,15.0,39.0,31.0,28.0,21.0,29.0,45.0,44.0,12.0,18.0,20.0,43.0,46.0,53.0,21.0,23.0,9.0,19.0,52.0,31.0,62.0,27.0,23.0,28.0,27.0,58.0,24.0,27.0,33.0,28.0,39.0,27.0,36.0,64.0,41.0,null,27.0,null,22.0,23.0,40.0,2.0,0.0,27.0,0.0,17.0,45.0,62.0,14.0,24.0,51.0,49.0,52.0,35.0,22.0,17.0,47.0,25.0,11.0,17.0,41.0,55.0,29.0,19.0,23.0,32.0,27.0,25.0,24.0,30.0,50.0,51.0,27.0,35.0,48.0,27.0,19.0,18.0,25.0,41.0,62.0,30.0,6.0,15.0,34.0,34.0,23.0,51.0,63.0,42.0,19.0,5.0,2.0,15.0,36.0,32.0,19.0,26.0,33.0,38.0,22.0,32.0,30.0,51.0,29.0,16.0,32.0,24.0,23.0,46.0,49.0,17.0,35.0,43.0,20.0,24.0,28.0,19.0,39.0,34.0,29.0,14.0,null,30.0,null,32.0,7.0,34.0,47.0,19.0,52.0,19.0,18.0,32.0,21.0,22.0,13.0,25.0,33.0,27.0,21.0,17.0,15.0,58.0,29.0,34.0,28.0,29.0,25.0,23.0,22.0,38.0,38.0,0.0,null,0.0,37.0,2.0,40.0,47.0,34.0,43.0,21.0,43.0,33.0,28.0,57.0,null,46.0,19.0,27.0,2.0,0.0,25.0,47.0,38.0,24.0,24.0,25.0,29.0,44.0,20.0,23.0,26.0,20.0,27.0,23.0,33.0,30.0,32.0,19.0,41.0,50.0,36.0,21.0,45.0,26.0,44.0,24.0,15.0,58.0,13.0,19.0,25.0,24.0,20.0,34.0,13.0,null,39.0,0.0,10.0,9.0,34.0,11.0,0.0,24.0,16.0,42.0,41.0,36.0,27.0,32.0,11.0,26.0,28.0,25.0,5.0,null,13.0,30.0,15.0,0.0,49.0,52.0,15.0,40.0,0.0,32.0,15.0,26.0,31.0,8.0,18.0,3.0,44.0,15.0,27.0,22.0,2.0,32.0,16.0,34.0,32.0,28.0,27.0,35.0,25.0,24.0,61.0,28.0,29.0,41.0,20.0,18.0,28.0,18.0,33.0,35.0,68.0,19.0,33.0,55.0,15.0,23.0,23.0,15.0,49.0,33.0,26.0,26.0,18.0,17.0,39.0,8.0,46.0,32.0,19.0,36.0,28.0,39.0,16.0,7.0,1.0,30.0,44.0,28.0,29.0,41.0,13.0,18.0,27.0,26.0,24.0,26.0,27.0,58.0,54.0,18.0,13.0,13.0,28.0,57.0,32.0,32.0,21.0,34.0,33.0,36.0,50.0,28.0,56.0,42.0,39.0,13.0,28.0,55.0,36.0,null,37.0,50.0,27.0,23.0,16.0,33.0,46.0,26.0,24.0,26.0,2.0,33.0,32.0,3.0,2.0,6.0,null,0.0,4.0,58.0,22.0,51.0,37.0,17.0,21.0,null,null,31.0,43.0,null,15.0,18.0,33.0,31.0,41.0,22.0,40.0,49.0,14.0,22.0,22.0,25.0,42.0,16.0,12.0,18.0,33.0,14.0,36.0,23.0,24.0,4.0,null,18.0,21.0,27.0,34.0,28.0,35.0,16.0,36.0,30.0,4.0,19.0,3.0,51.0,null,45.0,18.0,23.0,15.0,34.0,47.0,27.0,26.0,25.0,34.0,27.0,39.0,31.0,4.0,19.0,59.0,19.0,25.0,28.0,37.0,43.0,18.0,36.0,14.0,42.0,29.0,23.0,16.0,8.0,20.0,50.0,38.0,39.0,33.0,30.0,40.0,22.0,52.0,26.0,19.0,33.0,33.0,20.0,28.0,10.0,23.0,28.0,23.0,54.0,57.0,24.0,37.0,59.0,53.0,22.0,18.0,17.0,25.0,18.0,20.0,24.0,33.0,34.0,24.0,37.0,23.0,32.0,13.0,23.0,23.0,27.0,47.0,38.0,28.0,21.0,null,64.0,43.0,21.0,36.0,22.0,24.0,21.0,57.0,46.0,42.0,16.0,40.0,3.0,8.0,3.0,35.0,12.0,null,47.0,19.0,46.0,28.0,5.0,7.0,3.0,1.0,7.0,60.0,34.0,28.0,64.0,13.0,15.0,65.0,53.0,58.0,19.0,null,16.0,48.0,33.0,31.0,44.0,40.0,34.0,21.0,20.0,9.0,33.0,2.0,53.0,0.0,38.0,21.0,31.0,7.0,12.0,0.0,17.0,55.0,2.0,32.0,16.0,0.0,29.0,25.0,39.0,42.0,0.0,14.0,29.0,54.0,35.0,null,18.0,14.0,53.0,48.0,21.0,44.0,25.0,0.0,27.0,40.0,44.0,36.0,3.0,9.0,1.0,17.0,47.0,null,33.0,16.0,30.0,18.0,26.0,19.0,28.0,35.0,40.0,26.0,45.0,18.0,54.0,13.0,26.0,16.0,37.0,17.0,16.0,18.0,21.0,24.0,22.0,41.0,15.0,36.0,23.0,31.0,19.0,23.0,47.0,40.0,34.0,2.0,8.0,0.0,18.0,11.0,18.0,19.0,2.0,25.0,0.0,27.0,34.0,19.0,22.0,22.0,52.0,30.0,65.0,31.0,51.0,21.0,27.0,31.0,28.0,29.0,23.0,11.0,23.0,34.0,20.0,20.0,16.0,18.0,20.0,20.0,27.0,55.0,53.0,37.0,55.0,24.0,24.0,49.0,17.0,39.0,5.0,10.0,1.0,16.0,51.0,5.0,19.0,0.0,20.0,0.0,1.0,38.0,40.0,18.0,36.0,23.0,42.0,37.0,24.0,12.0,2.0,28.0,44.0,26.0,36.0,28.0,14.0,14.0,28.0,27.0,21.0,24.0,18.0,24.0,8.0,36.0,32.0,19.0,12.0,21.0,13.0,20.0,35.0,23.0,17.0,29.0,27.0,22.0,26.0,1.0,7.0,78.0,24.0,26.0,50.0,16.0,57.0,29.0,27.0,42.0,28.0,18.0,38.0,32.0,21.0,6.0,27.0,32.0,23.0,29.0,22.0,31.0,0.0,2.0,null,28.0,20.0,28.0,42.0,32.0,19.0,20.0,20.0,21.0,32.0,16.0,21.0,12.0,21.0,31.0,18.0,35.0,44.0,13.0,21.0,37.0,null,34.0,21.0,38.0,31.0,61.0,20.0,39.0,29.0,68.0,38.0,31.0,41.0,29.0,25.0,27.0,21.0,30.0,40.0,59.0,35.0,41.0,36.0,58.0,27.0,24.0,50.0,22.0,26.0,16.0,56.0,25.0,13.0,53.0,21.0,18.0,38.0,20.0,24.0,56.0,47.0,21.0,null,26.0,34.0,35.0,35.0,49.0,24.0,62.0,25.0,42.0,25.0,21.0,17.0,41.0,50.0,20.0,15.0,29.0,20.0,35.0,22.0,43.0,54.0,15.0,38.0,44.0,34.0,15.0,24.0,29.0,19.0,27.0,26.0,46.0,64.0,17.0,45.0,27.0,29.0,18.0,26.0,39.0,59.0,20.0,17.0,47.0,29.0,16.0,48.0,39.0,28.0,12.0,24.0,30.0,34.0,37.0,47.0,0.0,23.0,0.0,20.0,35.0,18.0,17.0,18.0,53.0,35.0,48.0,68.0,27.0,28.0,37.0,35.0,31.0,14.0,1.0,4.0,30.0,11.0,45.0,29.0,32.0,15.0,25.0,25.0,60.0,24.0,35.0,36.0,22.0,32.0,57.0,30.0,46.0,28.0,26.0,55.0,66.0,20.0,31.0,13.0,50.0,21.0,25.0,46.0,0.0,2.0,36.0,19.0,35.0,41.0,22.0,25.0,24.0,37.0,5.0,null,41.0,44.0,23.0,28.0,27.0,40.0,27.0,17.0,32.0,29.0,29.0,41.0,48.0,27.0,14.0,32.0,47.0,14.0,37.0,33.0,33.0,44.0,37.0,18.0,33.0,21.0,38.0,16.0,58.0,41.0,28.0,28.0,31.0,27.0,7.0,25.0,34.0,21.0,29.0,23.0,31.0,50.0,25.0,25.0,23.0,46.0,0.0,53.0,25.0,30.0,18.0,20.0,54.0,20.0,32.0,31.0,55.0,16.0,0.0,3.0,33.0,45.0,6.0,33.0,14.0,24.0,47.0,37.0,14.0,44.0,11.0,15.0,39.0,15.0,60.0,49.0,23.0,9.0,0.0,17.0,42.0,16.0,0.0,26.0,56.0,26.0,41.0,27.0,31.0,40.0,40.0,15.0,50.0,42.0,50.0,39.0,27.0,20.0,30.0,16.0,36.0,68.0,22.0,36.0,3.0,28.0,32.0,10.0,0.0,9.0,37.0,31.0,31.0,43.0,15.0,58.0,30.0,24.0,49.0,73.0,14.0,50.0,12.0,2.0,49.0,32.0,null,33.0,23.0,23.0,43.0,36.0,26.0,29.0,21.0,30.0,23.0,13.0,22.0,25.0,52.0,22.0,31.0,23.0,35.0,26.0,14.0,39.0,8.0,29.0,15.0,48.0,9.0,25.0,13.0,25.0,27.0,32.0,20.0,40.0,18.0,21.0,38.0,62.0,23.0,48.0,27.0,32.0,53.0,26.0,46.0,32.0,40.0,27.0,28.0,29.0,37.0,0.0,12.0,25.0,null,3.0,9.0,27.0,59.0,24.0,16.0,16.0,46.0,25.0,39.0,15.0,16.0,35.0,43.0,7.0,29.0,60.0,49.0,50.0,40.0,49.0,18.0,29.0,56.0,29.0,29.0,22.0,24.0,23.0,28.0,19.0,32.0,37.0,26.0,43.0,25.0,11.0,4.0,32.0,15.0,17.0,37.0,20.0,47.0,16.0,8.0,22.0,39.0,57.0,29.0,null,70.0,13.0,49.0,25.0,19.0,15.0,37.0,null,28.0,22.0,26.0,25.0,19.0,20.0,35.0,37.0,37.0,13.0,20.0,65.0,29.0,0.0,4.0,19.0,17.0,28.0,28.0,21.0,45.0,21.0,20.0,38.0,24.0,22.0,44.0,41.0,21.0,26.0,54.0,19.0,32.0,null,26.0,28.0,21.0,38.0,43.0,12.0,25.0,27.0,22.0,20.0,24.0,34.0,42.0,24.0,28.0,29.0,31.0,29.0,14.0,16.0,16.0,27.0,null,23.0,16.0,30.0,24.0,36.0,25.0,29.0,21.0,26.0,30.0,31.0,20.0,null,33.0,35.0,46.0,63.0,37.0,23.0,5.0,16.0,20.0,49.0,3.0,41.0,null,14.0,26.0,51.0,36.0,16.0,18.0,48.0,24.0,19.0,21.0,24.0,21.0,13.0,39.0,27.0,23.0,43.0,19.0,30.0,52.0,35.0,16.0,21.0,45.0,22.0,null,0.0,63.0,56.0,40.0,1.0,24.0,36.0,13.0,13.0,37.0,44.0,32.0,57.0,26.0,62.0,2.0,1.0,24.0,1.0,63.0,20.0,15.0,32.0,24.0,32.0,36.0,13.0,29.0,27.0,30.0,27.0,14.0,32.0,33.0,35.0,21.0,57.0,42.0,20.0,18.0,49.0,23.0,24.0,24.0,23.0,24.0,26.0,28.0,17.0,20.0,22.0,23.0,22.0,29.0,null,31.0,37.0,44.0,34.0,23.0,18.0,18.0,23.0,18.0,22.0,10.0,null,31.0,48.0,51.0,25.0,32.0,8.0,49.0,28.0,3.0,null,31.0,11.0,27.0,33.0,32.0,20.0,33.0,65.0,18.0,19.0,33.0,null,31.0,37.0,19.0,18.0,47.0,26.0,25.0,38.0,53.0,38.0,28.0,46.0,18.0,14.0,32.0,44.0,28.0,2.0,28.0,27.0,29.0,14.0,14.0,17.0,35.0,36.0,51.0,54.0,37.0,37.0,24.0,null,38.0,28.0,0.0,16.0,25.0,22.0,24.0,37.0,21.0,53.0,0.0,2.0,64.0,24.0,40.0,32.0,54.0,30.0,37.0,20.0,22.0,57.0,34.0,51.0,47.0,22.0,36.0,16.0,60.0,39.0,18.0,30.0,45.0,30.0,21.0,0.0,51.0,22.0,26.0,10.0,21.0,14.0,null,43.0,22.0,22.0,23.0,25.0,35.0,30.0,37.0,21.0,36.0,13.0,22.0,36.0,17.0,38.0,34.0,20.0,17.0,36.0,52.0,32.0,35.0,null,36.0,36.0,21.0,33.0,40.0,24.0,35.0,29.0,33.0,51.0,10.0,41.0,26.0,39.0,14.0,28.0,18.0,41.0,33.0,26.0,31.0,63.0,30.0,27.0,47.0,37.0,14.0,27.0,61.0,39.0,22.0,30.0,26.0,25.0,42.0,33.0,60.0,16.0,50.0,22.0,15.0,27.0,58.0,48.0,36.0,60.0,46.0,58.0,40.0,3.0,23.0,21.0,29.0,23.0,41.0,20.0,24.0,21.0,55.0,21.0,42.0,40.0,30.0,26.0,43.0,20.0,19.0,40.0,17.0,62.0,32.0,37.0,40.0,25.0,17.0,46.0,38.0,43.0,28.0,31.0,35.0,19.0,24.0,20.0,16.0,45.0,19.0,23.0,19.0,32.0,41.0,30.0,41.0,7.0,39.0,47.0,21.0,29.0,19.0,50.0,28.0,38.0,24.0,31.0,38.0,26.0,28.0,45.0,47.0,60.0,42.0,43.0,17.0,17.0,20.0,18.0,24.0,25.0,20.0,23.0,48.0,26.0,36.0,27.0,41.0,21.0,71.0,64.0,33.0,24.0,35.0,13.0,11.0,null,43.0,36.0,22.0,56.0,34.0,46.0,43.0,25.0,26.0,14.0,63.0,29.0,45.0,15.0,19.0,53.0,45.0,41.0,68.0,5.0,27.0,20.0,54.0,18.0,45.0,26.0,37.0,30.0,51.0,3.0,3.0,19.0,19.0,6.0,4.0,23.0,37.0,18.0,29.0,25.0,52.0,24.0,0.0,25.0,26.0,32.0,58.0,44.0,41.0,24.0,41.0,23.0,27.0,61.0,18.0,18.0,null,15.0,12.0,40.0,19.0,18.0,48.0,37.0,35.0,29.0,54.0,null,22.0,18.0,26.0,19.0,22.0,17.0,18.0,39.0,37.0,17.0,25.0,9.0,15.0,19.0,18.0,50.0,14.0,19.0,33.0,23.0,39.0,14.0,14.0,45.0,22.0,36.0,19.0,59.0,31.0,31.0,39.0,28.0,19.0,29.0,0.0,15.0,18.0,49.0,36.0,40.0,56.0,67.0,44.0,17.0,27.0,23.0,28.0,54.0,26.0,40.0,39.0,40.0,20.0,18.0,17.0,35.0,31.0,40.0,50.0,21.0,29.0,63.0,19.0,36.0,48.0,33.0,28.0,39.0,27.0,58.0,44.0,23.0,21.0,53.0,14.0,17.0,25.0,44.0,24.0,24.0,24.0,0.0,7.0,3.0,18.0,4.0,40.0,16.0,25.0,10.0,40.0,19.0,15.0,24.0,21.0,29.0,37.0,49.0,42.0,54.0,33.0,27.0,53.0,28.0,24.0,20.0,0.0,24.0,28.0,42.0,32.0,36.0,40.0,30.0,34.0,37.0,41.0,25.0,39.0,0.0,54.0,16.0,0.0,13.0,46.0,23.0,18.0,27.0,24.0,27.0,24.0,25.0,30.0,19.0,18.0,49.0,64.0,26.0,53.0,27.0,27.0,25.0,33.0,27.0,20.0,39.0,27.0,19.0,22.0,3.0,24.0,41.0,18.0,63.0,19.0,39.0,null,41.0,44.0,39.0,29.0,37.0,41.0,18.0,null,55.0,21.0,28.0,43.0,32.0,23.0,5.0,14.0,24.0,22.0,14.0,20.0,17.0,20.0,22.0,15.0,67.0,28.0,57.0,21.0,34.0,17.0,33.0,33.0,28.0,18.0,28.0,13.0,38.0,39.0,18.0,43.0,32.0,29.0,45.0,25.0,64.0,18.0,44.0,15.0,21.0,33.0,3.0,19.0,37.0,24.0,26.0,26.0,26.0,22.0,26.0,27.0,27.0,37.0,22.0,24.0,23.0,18.0,28.0,4.0,23.0,2.0,46.0,0.0,16.0,19.0,34.0,34.0,24.0,28.0,44.0,35.0,20.0,18.0,43.0,48.0,46.0,75.0,24.0,34.0,29.0,46.0,22.0,42.0,46.0,15.0,42.0,31.0,9.0,34.0,21.0,16.0,40.0,23.0,6.0,17.0,37.0,30.0,32.0,41.0,43.0,17.0,37.0,18.0,1.0,38.0,25.0,6.0,1.0,7.0,24.0,19.0,26.0,49.0,18.0,25.0,46.0,33.0,10.0,38.0,23.0,26.0,16.0,29.0,35.0,58.0,17.0,16.0,2.0,13.0,18.0,29.0,21.0,43.0,69.0,40.0,1.0,36.0,60.0,17.0,49.0,23.0,39.0,53.0,26.0,31.0,48.0,26.0,25.0,25.0,30.0,null,23.0,24.0,47.0,37.0,24.0,21.0,42.0,39.0,28.0,32.0,31.0,13.0,41.0,21.0,null,9.0,36.0,30.0,27.0,40.0,41.0,16.0,36.0,15.0,39.0,21.0,24.0,28.0,47.0,55.0,null,22.0,26.0,62.0,53.0,29.0,21.0,18.0,34.0,19.0,14.0,21.0,55.0,18.0,33.0,35.0,31.0,27.0,null,13.0,24.0,22.0,32.0,18.0,53.0,4.0,24.0,23.0,1.0,18.0,21.0,40.0,49.0,25.0,21.0,40.0,47.0,25.0,36.0,39.0,26.0,0.0,14.0,7.0,50.0,22.0,17.0,35.0,22.0,26.0,24.0,59.0,24.0,17.0,28.0,38.0,2.0,36.0,32.0,15.0,54.0,18.0,22.0,23.0,14.0,26.0,73.0,29.0,29.0,12.0,27.0,31.0,26.0,35.0,25.0,40.0,18.0,52.0,35.0,51.0,35.0,14.0,null,26.0,21.0,45.0,29.0,39.0,37.0,22.0,22.0,30.0,1.0,0.0,9.0,18.0,29.0,52.0,27.0,54.0,28.0,65.0,26.0,29.0,20.0,39.0,37.0,20.0,40.0,0.0,33.0,23.0,32.0,20.0,60.0,53.0,26.0,35.0,19.0,43.0,29.0,20.0,19.0,21.0,39.0,12.0,20.0,18.0,31.0,35.0,44.0,62.0,23.0,23.0,19.0,29.0,31.0,33.0,41.0,60.0,41.0,69.0,44.0,18.0,26.0,30.0,34.0,18.0,49.0,71.0,19.0,23.0,31.0,40.0,28.0,17.0,24.0,54.0,21.0,2.0,20.0,20.0,36.0,25.0,58.0,37.0,26.0,45.0,44.0,24.0,13.0,4.0,24.0,27.0,39.0,23.0,4.0,0.0,22.0,27.0,22.0,26.0,60.0,18.0,20.0,25.0,24.0,38.0,18.0,45.0,13.0,28.0,5.0,20.0,2.0,42.0,0.0,18.0,26.0,3.0,49.0,19.0,19.0,15.0,53.0,0.0,39.0,45.0,10.0,1.0,9.0,40.0,26.0,18.0,47.0,31.0,null,23.0,32.0,32.0,21.0,null,22.0,18.0,28.0,38.0,46.0,44.0,38.0,28.0,31.0,18.0,18.0,4.0,0.0,0.0,23.0,35.0,43.0,18.0,18.0,18.0,49.0,19.0,22.0,4.0,0.0,null,39.0,36.0,53.0,23.0,24.0,25.0,30.0,20.0,40.0,18.0,57.0,47.0,26.0,29.0,32.0,30.0,18.0,49.0,33.0,18.0,29.0,34.0,43.0,18.0,31.0,15.0,3.0,37.0,1.0,27.0,15.0,33.0,65.0,19.0,30.0,37.0,15.0,19.0,20.0,19.0,21.0,20.0,18.0,27.0,23.0,25.0,72.0,35.0,29.0,11.0,7.0,null,28.0,41.0,null,19.0,8.0,4.0,38.0,21.0,18.0,10.0,29.0,25.0,40.0,19.0,38.0,19.0,0.0,4.0,29.0,46.0,32.0,26.0,23.0,32.0,31.0,34.0,45.0,61.0,21.0,null,15.0,14.0,18.0,39.0,62.0,40.0,21.0,12.0,27.0,28.0,0.0,17.0,23.0,6.0,29.0,41.0,27.0,34.0,36.0,30.0,30.0,29.0,21.0,21.0,18.0,11.0,65.0,25.0,0.0,24.0,19.0,23.0,45.0,52.0,55.0,24.0,31.0,18.0,22.0,39.0,19.0,33.0,14.0,30.0,30.0,21.0,45.0,17.0,39.0,22.0,37.0,48.0,33.0,37.0,27.0,29.0,38.0,16.0,18.0,null,47.0,15.0,13.0,19.0,17.0,31.0,19.0,25.0,26.0,25.0,2.0,7.0,2.0,19.0,1.0,4.0,49.0,61.0,57.0,52.0,22.0,37.0,15.0,28.0,40.0,13.0,24.0,25.0,25.0,43.0,46.0,3.0,3.0,3.0,8.0,57.0,11.0,20.0,27.0,20.0,14.0,24.0,21.0,33.0,32.0,22.0,15.0,41.0,31.0,35.0,48.0,15.0,37.0,21.0,34.0,19.0,52.0,15.0,24.0,45.0,13.0,18.0,19.0,20.0,20.0,27.0,22.0,17.0,23.0,29.0,24.0,26.0,36.0,25.0,36.0,32.0,16.0,32.0,48.0,25.0,46.0,32.0,50.0,31.0,27.0,52.0,34.0,40.0,36.0,19.0,33.0,23.0,57.0,24.0,19.0,54.0,28.0,26.0,43.0,39.0,21.0,24.0,35.0,61.0,21.0,14.0,38.0,23.0,31.0,66.0,56.0,21.0,49.0,21.0,27.0,23.0,27.0,49.0,38.0,60.0,47.0,29.0,19.0,32.0,22.0,35.0,28.0,22.0,42.0,37.0,31.0,33.0,48.0,31.0,18.0,44.0,22.0,18.0,48.0,2.0,0.0,43.0,51.0,48.0,51.0,20.0,41.0,27.0,56.0,26.0,21.0,null,23.0,28.0,40.0,39.0,16.0,20.0,24.0,45.0,33.0,19.0,15.0,18.0,21.0,37.0,53.0,19.0,17.0,58.0,18.0,25.0,39.0,40.0,27.0,3.0,18.0,18.0,29.0,22.0,34.0,19.0,26.0,33.0,34.0,18.0,40.0,53.0,8.0,54.0,29.0,56.0,21.0,25.0,33.0,22.0,50.0,24.0,25.0,59.0,26.0,19.0,37.0,22.0,44.0,25.0,23.0,6.0,39.0,26.0,14.0,3.0,21.0,24.0,18.0,37.0,21.0,67.0,28.0,13.0,26.0,33.0,18.0,24.0,26.0,21.0,27.0,15.0,24.0,31.0,10.0,23.0,50.0,13.0,43.0,20.0,21.0,18.0,16.0,47.0,35.0,15.0,46.0,6.0,26.0,49.0,28.0,37.0,17.0,38.0,18.0,55.0,28.0,25.0,17.0,22.0,4.0,3.0,21.0,24.0,50.0,3.0,19.0,22.0,20.0,18.0,27.0,29.0,23.0,48.0,32.0,55.0,49.0,15.0,50.0,35.0,29.0,38.0,29.0,39.0,49.0,39.0,19.0,19.0,14.0,40.0,40.0,20.0,6.0,41.0,37.0,31.0,8.0,55.0,16.0,29.0,40.0,27.0,21.0,25.0,44.0,34.0,1.0,1.0,42.0,18.0,21.0,24.0,null,18.0,27.0,13.0,10.0,8.0,40.0,35.0,13.0,19.0,44.0,36.0,29.0,28.0,36.0,24.0,14.0,50.0,20.0,38.0,33.0,54.0,20.0,23.0,65.0,51.0,36.0,38.0,28.0,32.0,55.0,23.0,38.0,18.0,32.0,44.0,62.0,66.0,20.0,19.0,null,25.0,20.0,18.0,20.0,14.0,49.0,49.0,19.0,53.0,31.0,18.0,24.0,35.0,27.0,38.0,23.0,22.0,38.0,28.0,25.0,45.0,22.0,30.0,25.0,24.0,44.0,6.0,0.0,14.0,37.0,15.0,0.0,17.0,58.0,15.0,53.0,29.0,24.0,40.0,21.0,30.0,20.0,20.0,18.0,36.0,20.0,4.0,59.0,20.0,4.0,23.0,25.0,20.0,22.0,6.0,14.0,0.0,4.0,37.0,14.0,34.0,3.0,18.0,27.0,19.0,37.0,29.0,37.0,32.0,22.0,38.0,24.0,63.0,23.0,41.0,20.0,48.0,44.0,15.0,29.0,64.0,19.0,28.0,44.0,13.0,45.0,25.0,19.0,29.0,21.0,13.0,25.0,46.0,37.0,19.0,29.0,21.0,13.0,15.0,42.0,null,26.0,19.0,18.0,50.0,28.0,24.0,31.0,19.0,20.0,23.0,19.0,27.0,16.0,76.0,41.0,24.0,12.0,28.0,36.0,20.0,7.0,21.0,33.0,32.0,34.0,38.0,null,28.0,25.0,24.0,18.0,24.0,30.0,38.0,39.0,31.0,33.0,15.0,23.0,24.0,44.0,22.0,28.0,34.0,8.0,26.0,29.0,58.0,4.0,1.0,17.0,27.0,24.0,16.0,28.0,23.0,33.0,24.0,6.0,19.0,31.0,19.0,18.0,35.0,32.0,19.0,24.0,33.0,20.0,27.0,26.0,28.0,19.0,24.0,52.0,23.0,23.0,25.0,22.0,35.0,24.0,24.0,26.0,37.0,14.0,36.0,0.0,17.0,18.0,43.0,21.0,34.0,57.0,18.0,73.0,31.0,25.0,20.0,24.0,null,21.0,22.0,39.0,26.0,32.0,1.0,7.0,4.0,21.0,12.0,28.0,0.0,18.0,52.0,18.0,51.0,21.0,28.0,34.0,13.0,35.0,27.0,35.0,51.0,53.0,29.0,41.0,47.0,22.0,19.0,22.0,25.0,null,17.0,0.0,5.0,30.0,17.0,53.0,9.0,17.0,16.0,29.0,29.0,46.0,27.0,39.0,15.0,30.0,41.0,47.0,32.0,15.0,23.0,20.0,33.0,18.0,31.0,25.0,19.0,32.0,45.0,43.0,21.0,48.0,0.0,29.0,41.0,23.0,48.0,18.0,30.0,26.0,18.0,27.0,58.0,22.0,17.0,28.0,27.0,51.0,37.0,14.0,43.0,27.0,60.0,33.0,39.0,21.0,21.0,28.0,30.0,42.0,25.0,25.0,25.0,54.0,41.0,36.0,33.0,36.0,55.0,16.0,28.0,26.0,42.0,30.0,31.0,22.0,26.0,25.0,44.0,29.0,22.0,23.0,30.0,23.0,13.0,53.0,0.0,27.0,27.0,10.0,2.0,5.0,24.0,32.0,22.0,22.0,44.0,55.0,22.0,8.0,15.0,1.0,9.0,48.0,16.0,27.0,3.0,25.0,70.0,30.0,57.0,42.0,14.0,43.0,34.0,21.0,32.0,21.0,25.0,25.0,38.0,36.0,44.0,37.0,47.0,38.0,28.0,38.0,53.0,26.0,13.0,64.0,16.0,13.0,55.0,26.0,23.0,55.0,50.0,26.0,36.0,33.0,21.0,41.0,33.0,23.0,31.0,28.0,13.0,null,35.0,25.0,19.0,56.0,18.0,22.0,34.0,11.0,37.0,22.0,45.0,19.0,39.0,28.0,36.0,1.0,10.0,12.0,31.0,12.0,3.0,30.0,41.0,19.0,38.0,36.0,0.0,20.0,23.0,35.0,36.0,41.0,38.0,33.0,54.0,33.0,54.0,32.0,24.0,53.0,26.0,31.0,18.0,39.0,37.0,35.0,34.0,28.0,43.0,2.0,24.0,18.0,21.0,24.0,35.0,53.0,32.0,44.0,33.0,40.0,31.0,23.0,44.0,41.0,31.0,30.0,33.0,30.0,26.0,22.0,37.0,15.0,52.0,35.0,40.0,60.0,24.0,31.0,43.0,9.0,51.0,25.0,20.0,22.0,21.0,50.0,24.0,45.0,22.0,7.0,11.0,1.0,0.0,8.0,36.0,2.0,0.0,22.0,41.0,49.0,30.0,37.0,14.0,30.0,62.0,13.0,32.0,33.0,38.0,29.0,25.0,26.0,19.0,16.0,61.0,28.0,13.0,44.0,22.0,30.0,21.0,20.0,31.0,33.0,26.0,21.0,23.0,0.0,32.0,30.0,41.0,18.0,26.0,32.0,44.0],\"xaxis\":\"x2\",\"yaxis\":\"y2\",\"type\":\"box\"},{\"alignmentgroup\":\"True\",\"bingroup\":\"x\",\"hovertemplate\":\"type=Test<br>Age=%{x}<br>count=%{y}<extra></extra>\",\"legendgroup\":\"Test\",\"marker\":{\"color\":\"#DE3163\",\"pattern\":{\"shape\":\"\"}},\"name\":\"Test\",\"nbinsx\":100,\"offsetgroup\":\"Test\",\"orientation\":\"v\",\"showlegend\":true,\"x\":[27.0,19.0,31.0,38.0,20.0,31.0,21.0,20.0,23.0,24.0,19.0,45.0,44.0,46.0,21.0,27.0,20.0,44.0,29.0,40.0,30.0,14.0,31.0,27.0,66.0,24.0,19.0,36.0,21.0,18.0,26.0,19.0,48.0,23.0,24.0,19.0,24.0,27.0,6.0,33.0,23.0,30.0,null,1.0,20.0,17.0,34.0,24.0,29.0,20.0,5.0,22.0,16.0,7.0,36.0,26.0,40.0,29.0,2.0,23.0,0.0,30.0,56.0,36.0,56.0,19.0,39.0,38.0,null,35.0,26.0,31.0,38.0,27.0,30.0,22.0,29.0,0.0,8.0,3.0,27.0,9.0,29.0,18.0,22.0,24.0,25.0,36.0,14.0,24.0,26.0,29.0,40.0,36.0,46.0,42.0,23.0,19.0,25.0,22.0,35.0,39.0,42.0,35.0,29.0,20.0,25.0,36.0,39.0,23.0,19.0,50.0,41.0,19.0,20.0,19.0,38.0,32.0,44.0,18.0,49.0,23.0,31.0,55.0,60.0,20.0,34.0,14.0,26.0,19.0,25.0,42.0,18.0,50.0,26.0,47.0,35.0,58.0,20.0,28.0,12.0,20.0,22.0,31.0,24.0,17.0,null,18.0,48.0,38.0,33.0,20.0,22.0,52.0,15.0,25.0,14.0,null,16.0,48.0,36.0,19.0,43.0,32.0,54.0,33.0,21.0,33.0,28.0,23.0,26.0,41.0,2.0,21.0,70.0,20.0,31.0,8.0,5.0,45.0,37.0,24.0,55.0,18.0,36.0,59.0,61.0,46.0,29.0,18.0,20.0,28.0,26.0,32.0,18.0,50.0,47.0,15.0,35.0,49.0,32.0,63.0,54.0,21.0,38.0,50.0,32.0,33.0,30.0,28.0,22.0,null,37.0,59.0,31.0,25.0,38.0,37.0,44.0,28.0,45.0,53.0,21.0,33.0,18.0,37.0,34.0,46.0,18.0,19.0,4.0,0.0,12.0,7.0,34.0,10.0,0.0,14.0,27.0,21.0,37.0,29.0,17.0,17.0,35.0,34.0,17.0,39.0,56.0,35.0,17.0,29.0,15.0,37.0,36.0,36.0,18.0,61.0,45.0,21.0,65.0,27.0,13.0,32.0,17.0,44.0,21.0,16.0,41.0,40.0,16.0,17.0,40.0,37.0,53.0,42.0,31.0,18.0,51.0,20.0,19.0,22.0,41.0,28.0,0.0,42.0,20.0,25.0,22.0,25.0,45.0,19.0,16.0,18.0,38.0,27.0,36.0,21.0,1.0,25.0,3.0,7.0,0.0,32.0,5.0,79.0,19.0,30.0,13.0,53.0,40.0,32.0,31.0,63.0,18.0,21.0,14.0,41.0,40.0,58.0,22.0,13.0,16.0,13.0,15.0,42.0,24.0,19.0,null,29.0,15.0,38.0,49.0,20.0,null,19.0,46.0,21.0,29.0,null,44.0,19.0,29.0,25.0,41.0,19.0,33.0,25.0,44.0,21.0,32.0,33.0,32.0,19.0,21.0,23.0,31.0,22.0,74.0,53.0,40.0,23.0,36.0,18.0,29.0,48.0,34.0,34.0,27.0,44.0,0.0,1.0,18.0,23.0,26.0,46.0,41.0,25.0,50.0,28.0,17.0,29.0,19.0,34.0,28.0,47.0,28.0,38.0,22.0,18.0,21.0,40.0,67.0,39.0,19.0,28.0,29.0,22.0,23.0,41.0,25.0,43.0,54.0,14.0,69.0,24.0,37.0,28.0,59.0,20.0,23.0,59.0,20.0,36.0,43.0,9.0,32.0,24.0,14.0,45.0,23.0,59.0,28.0,61.0,52.0,5.0,51.0,26.0,44.0,46.0,32.0,17.0,21.0,52.0,52.0,14.0,21.0,42.0,28.0,26.0,7.0,14.0,3.0,26.0,54.0,55.0,16.0,38.0,48.0,13.0,20.0,18.0,45.0,5.0,42.0,50.0,21.0,22.0,23.0,22.0,21.0,24.0,24.0,42.0,19.0,32.0,35.0,19.0,55.0,35.0,63.0,66.0,45.0,20.0,21.0,51.0,13.0,24.0,28.0,52.0,32.0,23.0,37.0,35.0,46.0,33.0,34.0,51.0,null,27.0,22.0,33.0,31.0,16.0,6.0,18.0,30.0,24.0,57.0,24.0,23.0,40.0,21.0,17.0,25.0,34.0,18.0,8.0,14.0,16.0,22.0,21.0,23.0,26.0,18.0,72.0,18.0,24.0,36.0,13.0,19.0,28.0,2.0,5.0,25.0,45.0,59.0,6.0,36.0,40.0,36.0,31.0,19.0,13.0,31.0,22.0,52.0,22.0,34.0,23.0,14.0,30.0,75.0,28.0,61.0,25.0,21.0,null,28.0,41.0,25.0,28.0,0.0,19.0,22.0,2.0,35.0,42.0,46.0,26.0,19.0,11.0,11.0,17.0,23.0,37.0,18.0,48.0,18.0,18.0,32.0,26.0,26.0,55.0,19.0,65.0,28.0,24.0,52.0,67.0,34.0,23.0,26.0,28.0,9.0,1.0,1.0,58.0,59.0,54.0,8.0,28.0,19.0,23.0,47.0,17.0,33.0,43.0,28.0,32.0,13.0,18.0,16.0,6.0,27.0,29.0,32.0,23.0,33.0,51.0,41.0,20.0,0.0,13.0,13.0,13.0,24.0,null,32.0,24.0,27.0,24.0,34.0,26.0,22.0,10.0,28.0,5.0,null,29.0,17.0,18.0,35.0,42.0,35.0,42.0,33.0,20.0,2.0,2.0,43.0,10.0,26.0,42.0,24.0,32.0,23.0,null,15.0,15.0,null,15.0,13.0,33.0,47.0,27.0,18.0,10.0,40.0,28.0,23.0,23.0,41.0,20.0,29.0,17.0,21.0,25.0,25.0,28.0,24.0,56.0,36.0,20.0,50.0,29.0,34.0,40.0,20.0,36.0,25.0,25.0,17.0,42.0,47.0,23.0,null,39.0,43.0,23.0,46.0,31.0,37.0,48.0,28.0,38.0,31.0,35.0,28.0,29.0,19.0,null,44.0,59.0,23.0,48.0,49.0,15.0,30.0,20.0,20.0,6.0,1.0,1.0,2.0,8.0,29.0,43.0,73.0,48.0,24.0,20.0,17.0,42.0,22.0,54.0,41.0,0.0,20.0,54.0,73.0,17.0,21.0,60.0,50.0,17.0,18.0,25.0,57.0,46.0,71.0,21.0,38.0,23.0,24.0,25.0,35.0,21.0,22.0,60.0,29.0,49.0,27.0,23.0,23.0,33.0,35.0,27.0,44.0,18.0,31.0,21.0,27.0,36.0,33.0,30.0,29.0,32.0,31.0,27.0,25.0,38.0,47.0,24.0,46.0,16.0,30.0,0.0,60.0,50.0,37.0,27.0,29.0,null,22.0,null,null,14.0,null,20.0,19.0,14.0,69.0,26.0,25.0,36.0,34.0,4.0,1.0,24.0,21.0,25.0,44.0,22.0,64.0,32.0,42.0,29.0,4.0,17.0,21.0,52.0,29.0,35.0,23.0,27.0,8.0,20.0,16.0,35.0,44.0,19.0,2.0,30.0,28.0,44.0,20.0,22.0,14.0,20.0,45.0,19.0,42.0,23.0,43.0,20.0,11.0,20.0,21.0,17.0,32.0,24.0,4.0,4.0,36.0,27.0,46.0,24.0,3.0,21.0,42.0,26.0,38.0,36.0,28.0,62.0,22.0,18.0,12.0,32.0,11.0,47.0,48.0,38.0,19.0,22.0,21.0,37.0,28.0,15.0,57.0,22.0,22.0,29.0,0.0,44.0,22.0,25.0,64.0,21.0,35.0,15.0,48.0,22.0,42.0,13.0,35.0,27.0,21.0,22.0,33.0,25.0,37.0,36.0,47.0,34.0,29.0,39.0,27.0,35.0,0.0,33.0,24.0,19.0,33.0,19.0,16.0,47.0,40.0,19.0,27.0,31.0,24.0,31.0,41.0,16.0,27.0,11.0,28.0,51.0,1.0,56.0,null,57.0,13.0,32.0,28.0,12.0,35.0,33.0,14.0,26.0,25.0,27.0,23.0,45.0,50.0,24.0,54.0,19.0,19.0,28.0,28.0,39.0,20.0,30.0,35.0,36.0,33.0,30.0,25.0,45.0,23.0,51.0,31.0,55.0,24.0,57.0,24.0,44.0,0.0,15.0,49.0,24.0,47.0,26.0,null,4.0,30.0,23.0,23.0,4.0,3.0,42.0,22.0,21.0,28.0,35.0,20.0,22.0,30.0,0.0,22.0,15.0,4.0,19.0,29.0,17.0,21.0,20.0,24.0,6.0,9.0,21.0,46.0,20.0,27.0,23.0,28.0,53.0,41.0,32.0,27.0,31.0,20.0,19.0,55.0,35.0,70.0,22.0,46.0,16.0,14.0,13.0,44.0,15.0,32.0,26.0,42.0,44.0,15.0,35.0,35.0,24.0,19.0,37.0,31.0,39.0,35.0,26.0,26.0,0.0,8.0,44.0,20.0,56.0,31.0,16.0,29.0,22.0,39.0,25.0,43.0,37.0,24.0,53.0,19.0,24.0,31.0,27.0,57.0,26.0,15.0,19.0,27.0,23.0,6.0,15.0,2.0,21.0,0.0,18.0,46.0,43.0,45.0,40.0,44.0,27.0,55.0,24.0,27.0,33.0,35.0,33.0,34.0,37.0,46.0,45.0,14.0,null,56.0,24.0,19.0,51.0,24.0,23.0,21.0,6.0,11.0,4.0,0.0,7.0,24.0,32.0,43.0,24.0,49.0,21.0,29.0,25.0,27.0,14.0,67.0,17.0,44.0,52.0,14.0,17.0,19.0,36.0,19.0,25.0,39.0,32.0,75.0,37.0,25.0,33.0,25.0,24.0,22.0,22.0,36.0,4.0,61.0,0.0,15.0,42.0,27.0,5.0,32.0,38.0,21.0,23.0,34.0,28.0,23.0,14.0,60.0,78.0,6.0,17.0,41.0,40.0,47.0,23.0,41.0,60.0,46.0,19.0,18.0,0.0,28.0,30.0,9.0,0.0,4.0,22.0,32.0,7.0,19.0,34.0,24.0,17.0,31.0,42.0,14.0,27.0,21.0,24.0,34.0,35.0,43.0,25.0,19.0,25.0,22.0,23.0,42.0,40.0,71.0,18.0,34.0,4.0,18.0,22.0,38.0,33.0,27.0,18.0,34.0,66.0,47.0,35.0,23.0,36.0,36.0,35.0,15.0,39.0,48.0,47.0,21.0,31.0,13.0,32.0,22.0,40.0,15.0,33.0,28.0,17.0,20.0,42.0,18.0,27.0,32.0,19.0,9.0,36.0,21.0,40.0,42.0,40.0,22.0,15.0,38.0,15.0,24.0,22.0,24.0,25.0,22.0,57.0,25.0,21.0,41.0,27.0,18.0,61.0,9.0,1.0,27.0,20.0,2.0,0.0,25.0,22.0,32.0,28.0,43.0,28.0,32.0,54.0,27.0,30.0,25.0,39.0,14.0,8.0,22.0,27.0,43.0,16.0,40.0,48.0,25.0,29.0,60.0,22.0,37.0,35.0,23.0,24.0,15.0,18.0,14.0,39.0,12.0,43.0,45.0,24.0,52.0,18.0,38.0,null,28.0,19.0,45.0,27.0,15.0,22.0,23.0,32.0,15.0,30.0,60.0,50.0,45.0,24.0,22.0,20.0,19.0,40.0,14.0,18.0,20.0,35.0,24.0,30.0,44.0,42.0,3.0,19.0,69.0,50.0,15.0,18.0,25.0,15.0,62.0,19.0,29.0,28.0,25.0,22.0,35.0,61.0,26.0,19.0,2.0,0.0,26.0,6.0,23.0,50.0,18.0,7.0,3.0,3.0,37.0,25.0,22.0,20.0,32.0,34.0,47.0,23.0,22.0,35.0,18.0,36.0,32.0,29.0,19.0,45.0,null,14.0,22.0,31.0,25.0,15.0,28.0,34.0,28.0,45.0,44.0,22.0,48.0,25.0,24.0,20.0,46.0,40.0,26.0,56.0,37.0,35.0,15.0,21.0,24.0,30.0,34.0,16.0,55.0,27.0,44.0,17.0,17.0,36.0,18.0,14.0,21.0,26.0,null,21.0,25.0,27.0,25.0,43.0,35.0,21.0,23.0,17.0,21.0,21.0,39.0,22.0,40.0,25.0,6.0,1.0,1.0,20.0,17.0,22.0,18.0,49.0,27.0,40.0,22.0,55.0,45.0,33.0,42.0,27.0,16.0,23.0,31.0,62.0,43.0,57.0,23.0,20.0,21.0,27.0,31.0,31.0,24.0,27.0,28.0,44.0,19.0,14.0,65.0,73.0,null,25.0,null,34.0,63.0,53.0,18.0,40.0,28.0,45.0,32.0,19.0,65.0,20.0,18.0,18.0,58.0,25.0,13.0,null,22.0,22.0,10.0,14.0,44.0,10.0,37.0,37.0,44.0,42.0,18.0,34.0,15.0,36.0,27.0,33.0,27.0,22.0,19.0,18.0,31.0,41.0,48.0,23.0,29.0,38.0,21.0,20.0,27.0,33.0,24.0,23.0,22.0,13.0,24.0,32.0,17.0,28.0,46.0,18.0,24.0,20.0,17.0,44.0,34.0,19.0,28.0,null,57.0,34.0,18.0,28.0,6.0,53.0,6.0,33.0,43.0,44.0,28.0,37.0,55.0,40.0,38.0,24.0,53.0,61.0,17.0,20.0,22.0,27.0,19.0,23.0,33.0,26.0,33.0,39.0,47.0,33.0,40.0,19.0,26.0,24.0,15.0,2.0,33.0,14.0,22.0,45.0,58.0,13.0,36.0,35.0,23.0,27.0,24.0,43.0,67.0,29.0,28.0,18.0,35.0,22.0,19.0,47.0,16.0,41.0,26.0,37.0,26.0,21.0,45.0,28.0,26.0,35.0,60.0,7.0,15.0,26.0,38.0,24.0,77.0,22.0,22.0,20.0,47.0,25.0,9.0,19.0,44.0,41.0,53.0,27.0,20.0,23.0,20.0,null,51.0,22.0,36.0,18.0,19.0,17.0,29.0,18.0,22.0,43.0,24.0,25.0,20.0,23.0,32.0,51.0,22.0,22.0,30.0,23.0,61.0,24.0,19.0,27.0,29.0,55.0,26.0,58.0,60.0,13.0,39.0,35.0,21.0,37.0,31.0,20.0,27.0,40.0,null,36.0,19.0,22.0,15.0,18.0,25.0,62.0,53.0,null,19.0,21.0,20.0,56.0,64.0,null,36.0,51.0,16.0,21.0,50.0,0.0,34.0,3.0,11.0,5.0,47.0,1.0,0.0,23.0,27.0,46.0,34.0,2.0,11.0,1.0,13.0,41.0,11.0,52.0,15.0,58.0,23.0,34.0,9.0,25.0,38.0,42.0,40.0,18.0,42.0,40.0,28.0,56.0,22.0,39.0,35.0,36.0,34.0,22.0,21.0,16.0,35.0,19.0,36.0,32.0,69.0,44.0,34.0,35.0,25.0,3.0,12.0,3.0,13.0,26.0,2.0,25.0,19.0,33.0,41.0,55.0,30.0,35.0,7.0,38.0,51.0,18.0,44.0,18.0,13.0,49.0,8.0,22.0,32.0,null,56.0,18.0,27.0,46.0,18.0,30.0,35.0,48.0,33.0,0.0,11.0,0.0,14.0,9.0,37.0,30.0,21.0,32.0,4.0,19.0,25.0,34.0,19.0,18.0,23.0,53.0,13.0,20.0,34.0,18.0,0.0,35.0,0.0,62.0,15.0,28.0,5.0,22.0,14.0,43.0,24.0,65.0,44.0,50.0,15.0,18.0,41.0,21.0,16.0,21.0,29.0,19.0,18.0,25.0,45.0,32.0,33.0,null,24.0,29.0,24.0,22.0,18.0,16.0,17.0,18.0,25.0,46.0,36.0,62.0,48.0,16.0,27.0,52.0,25.0,13.0,35.0,20.0,42.0,50.0,66.0,31.0,37.0,72.0,30.0,29.0,21.0,33.0,28.0,41.0,44.0,45.0,61.0,21.0,25.0,38.0,68.0,0.0,21.0,55.0,60.0,19.0,17.0,16.0,29.0,29.0,0.0,15.0,27.0,24.0,14.0,17.0,37.0,23.0,17.0,33.0,30.0,20.0,null,25.0,19.0,31.0,23.0,29.0,20.0,26.0,26.0,51.0,null,17.0,22.0,31.0,2.0,0.0,3.0,28.0,21.0,15.0,18.0,52.0,49.0,42.0,28.0,31.0,19.0,41.0,31.0,13.0,35.0,29.0,0.0,19.0,null,19.0,26.0,47.0,29.0,46.0,18.0,33.0,20.0,37.0,35.0,25.0,22.0,47.0,31.0,27.0,47.0,46.0,47.0,40.0,39.0,39.0,35.0,43.0,38.0,31.0,20.0,44.0,25.0,25.0,20.0,33.0,58.0,23.0,35.0,13.0,21.0,20.0,15.0,48.0,58.0,25.0,43.0,53.0,13.0,8.0,53.0,22.0,31.0,28.0,22.0,27.0,29.0,42.0,42.0,33.0,32.0,42.0,22.0,18.0,46.0,20.0,21.0,26.0,51.0,53.0,29.0,25.0,69.0,26.0,38.0,37.0,14.0,36.0,42.0,25.0,35.0,26.0,12.0,48.0,13.0,21.0,26.0,32.0,25.0,51.0,15.0,14.0,41.0,13.0,39.0,19.0,17.0,41.0,43.0,18.0,22.0,29.0,22.0,62.0,29.0,26.0,8.0,26.0,38.0,49.0,18.0,18.0,35.0,34.0,11.0,null,22.0,18.0,36.0,17.0,25.0,29.0,25.0,34.0,16.0,28.0,29.0,38.0,39.0,48.0,23.0,16.0,21.0,21.0,4.0,27.0,18.0,22.0,28.0,22.0,39.0,29.0,42.0,0.0,52.0,26.0,19.0,23.0,36.0,26.0,62.0,28.0,25.0,0.0,24.0,49.0,21.0,29.0,19.0,32.0,20.0,48.0,27.0,49.0,20.0,25.0,null,73.0,23.0,23.0,26.0,48.0,null,54.0,56.0,30.0,24.0,23.0,57.0,null,14.0,51.0,16.0,29.0,43.0,16.0,38.0,40.0,44.0,25.0,20.0,19.0,47.0,21.0,15.0,26.0,50.0,19.0,null,18.0,0.0,34.0,25.0,8.0,0.0,6.0,27.0,32.0,63.0,36.0,33.0,28.0,43.0,23.0,22.0,56.0,25.0,28.0,44.0,20.0,17.0,18.0,15.0,23.0,27.0,10.0,10.0,0.0,16.0,48.0,7.0,50.0,5.0,50.0,35.0,23.0,28.0,20.0,47.0,26.0,17.0,43.0,37.0,25.0,26.0,23.0,46.0,23.0,26.0,27.0,18.0,63.0,2.0,0.0,0.0,37.0,18.0,33.0,31.0,34.0,18.0,20.0,37.0,30.0,7.0,32.0,68.0,0.0,23.0,38.0,26.0,29.0,43.0,38.0,25.0,18.0,23.0,26.0,45.0,25.0,16.0,25.0,11.0,22.0,38.0,25.0,17.0,20.0,24.0,37.0,32.0,32.0,20.0,50.0,33.0,47.0,49.0,20.0,26.0,24.0,11.0,47.0,22.0,35.0,25.0,33.0,20.0,16.0,29.0,16.0,43.0,33.0,16.0,22.0,18.0,36.0,17.0,34.0,1.0,24.0,20.0,56.0,26.0,35.0,3.0,23.0,19.0,0.0,30.0,50.0,15.0,19.0,null,35.0,45.0,0.0,74.0,24.0,39.0,18.0,39.0,33.0,21.0,35.0,66.0,14.0,20.0,18.0,36.0,27.0,51.0,18.0,46.0,67.0,24.0,35.0,14.0,22.0,20.0,23.0,23.0,21.0,36.0,19.0,22.0,58.0,14.0,18.0,40.0,24.0,26.0,16.0,null,21.0,17.0,23.0,22.0,20.0,38.0,37.0,31.0,27.0,31.0,21.0,36.0,20.0,36.0,40.0,25.0,32.0,25.0,49.0,28.0,58.0,null,22.0,61.0,28.0,24.0,40.0,null,15.0,29.0,18.0,28.0,24.0,18.0,21.0,25.0,16.0,49.0,28.0,22.0,11.0,26.0,17.0,26.0,0.0,null,4.0,19.0,5.0,35.0,25.0,26.0,34.0,21.0,26.0,32.0,40.0,13.0,29.0,11.0,25.0,31.0,51.0,20.0,32.0,22.0,38.0,26.0,42.0,57.0,38.0,23.0,32.0,15.0,41.0,19.0,26.0,null,20.0,19.0,30.0,58.0,17.0,null,19.0,20.0,54.0,21.0,44.0,11.0,2.0,20.0,50.0,27.0,28.0,33.0,23.0,22.0,44.0,45.0,20.0,26.0,18.0,21.0,26.0,55.0,24.0,27.0,18.0,20.0,31.0,37.0,37.0,57.0,39.0,20.0,18.0,29.0,31.0,27.0,43.0,null,32.0,19.0,50.0,19.0,44.0,49.0,30.0,41.0,34.0,30.0,22.0,29.0,32.0,40.0,50.0,31.0,1.0,30.0,null,41.0,34.0,14.0,13.0,16.0,25.0,17.0,41.0,28.0,3.0,18.0,20.0,32.0,59.0,52.0,47.0,56.0,24.0,13.0,15.0,40.0,30.0,25.0,10.0,28.0,36.0,12.0,26.0,33.0,42.0,31.0,20.0,24.0,37.0,19.0,13.0,23.0,44.0,36.0,79.0,1.0,12.0,8.0,45.0,10.0,3.0,37.0,43.0,38.0,33.0,25.0,42.0,35.0,35.0,30.0,33.0,30.0,23.0,13.0,32.0,17.0,37.0,49.0,53.0,27.0,26.0,50.0,17.0,22.0,8.0,42.0,30.0,4.0,27.0,15.0,38.0,51.0,26.0,34.0,45.0,18.0,21.0,23.0,24.0,20.0,32.0,22.0,13.0,42.0,19.0,24.0,45.0,35.0,16.0,16.0,43.0,31.0,null,22.0,48.0,20.0,35.0,23.0,28.0,19.0,45.0,16.0,3.0,60.0,33.0,25.0,37.0,51.0,29.0,39.0,29.0,27.0,38.0,13.0,33.0,45.0,0.0,18.0,0.0,38.0,0.0,21.0,56.0,38.0,35.0,34.0,15.0,22.0,28.0,18.0,47.0,23.0,44.0,18.0,21.0,65.0,18.0,27.0,16.0,17.0,19.0,33.0,20.0,10.0,6.0,0.0,0.0,4.0,null,27.0,54.0,24.0,47.0,16.0,59.0,31.0,28.0,23.0,19.0,18.0,28.0,13.0,33.0,28.0,17.0,36.0,29.0,18.0,37.0,36.0,44.0,21.0,20.0,45.0,28.0,20.0,18.0,null,19.0,27.0,26.0,29.0,18.0,12.0,0.0,2.0,16.0,17.0,20.0,30.0,20.0,31.0,13.0,23.0,19.0,18.0,50.0,43.0,52.0,24.0,46.0,25.0,53.0,17.0,29.0,26.0,35.0,51.0,20.0,19.0,59.0,23.0,22.0,21.0,25.0,23.0,15.0,20.0,22.0,20.0,35.0,41.0,18.0,40.0,25.0,31.0,47.0,29.0,null,18.0,19.0,50.0,26.0,29.0,14.0,14.0,0.0,34.0,23.0,24.0,39.0,22.0,23.0,26.0,28.0,42.0,37.0,45.0,21.0,42.0,20.0,61.0,0.0,3.0,18.0,44.0,50.0,18.0,0.0,58.0,50.0,43.0,21.0,30.0,20.0,24.0,24.0,37.0,21.0,48.0,33.0,21.0,21.0,13.0,5.0,24.0,37.0,23.0,35.0,24.0,20.0,0.0,64.0,31.0,6.0,3.0,10.0,19.0,19.0,46.0,25.0,27.0,23.0,20.0,24.0,50.0,44.0,28.0,25.0,14.0,21.0,16.0,25.0,41.0,20.0,24.0,31.0,23.0,54.0,26.0,49.0,0.0,17.0,22.0,11.0,28.0,17.0,47.0,29.0,46.0,66.0,0.0,5.0,1.0,42.0,5.0,null,41.0,30.0,26.0,16.0,22.0,20.0,44.0,36.0,6.0,13.0,22.0,69.0,40.0,46.0,34.0,39.0,37.0,13.0,20.0,28.0,54.0,9.0,61.0,18.0,null,24.0,24.0,0.0,30.0,null,26.0,26.0,3.0,30.0,51.0,36.0,18.0,27.0,36.0,39.0,17.0,24.0,14.0,25.0,35.0,17.0,45.0,35.0,19.0,null,33.0,22.0,32.0,25.0,26.0,21.0,49.0,26.0,20.0,28.0,35.0,66.0,47.0,25.0,23.0,19.0,8.0,42.0,33.0,29.0,63.0,24.0,62.0,null,52.0,23.0,47.0,50.0,32.0,33.0,26.0,20.0,28.0,38.0,42.0,0.0,23.0,39.0,25.0,17.0,15.0,31.0,49.0,41.0,37.0,27.0,13.0,42.0,21.0,29.0,0.0,19.0,36.0,31.0,16.0,42.0,16.0,23.0,42.0,34.0,38.0,21.0,25.0,30.0,40.0,31.0,20.0,37.0,26.0,22.0,21.0,33.0,40.0,11.0,27.0,22.0,40.0,61.0,28.0,24.0,43.0,22.0,14.0,56.0,35.0,62.0,44.0,32.0,26.0,22.0,56.0,29.0,21.0,34.0,35.0,18.0,23.0,18.0,24.0,19.0,62.0,52.0,37.0,21.0,48.0,43.0,18.0,33.0,33.0,29.0,66.0,41.0,17.0,8.0,20.0,25.0,47.0,40.0,26.0,19.0,35.0,0.0,12.0,37.0,38.0,34.0,30.0,22.0,23.0,59.0,19.0,16.0,22.0,30.0,26.0,18.0,29.0,32.0,33.0,20.0,55.0,41.0,22.0,61.0,20.0,57.0,17.0,60.0,20.0,20.0,40.0,28.0,17.0,18.0,46.0,29.0,25.0,59.0,17.0,65.0,32.0,35.0,18.0,23.0,27.0,0.0,26.0,38.0,35.0,32.0,9.0,11.0,13.0,2.0,12.0,27.0,14.0,37.0,6.0,36.0,27.0,20.0,24.0,21.0,50.0,18.0,34.0,22.0,63.0,39.0,26.0,27.0,17.0,39.0,26.0,30.0,26.0,34.0,24.0,21.0,25.0,64.0,40.0,null,23.0,46.0,22.0,0.0,8.0,35.0,22.0,29.0,25.0,24.0,26.0,20.0,40.0,28.0,22.0,23.0,26.0,19.0,35.0,41.0,37.0,44.0,34.0,39.0,27.0,32.0,13.0,10.0,28.0,25.0,null,27.0,29.0,6.0,2.0,6.0,24.0,31.0,35.0,13.0,64.0,18.0,32.0,21.0,13.0,43.0,39.0,26.0,21.0,18.0,27.0,null,27.0,29.0,20.0,26.0,null,34.0,15.0,24.0,26.0,14.0,24.0,31.0,21.0,28.0,19.0,50.0,15.0,34.0,35.0,34.0,36.0,27.0,30.0,34.0,45.0,21.0,56.0,21.0,28.0,38.0,34.0,33.0,34.0,19.0,19.0,17.0,20.0,22.0,35.0,50.0,19.0,23.0,38.0,20.0,31.0,28.0,36.0,27.0,66.0,14.0,29.0,34.0,13.0,47.0,26.0,50.0,38.0,59.0,43.0,30.0,33.0,33.0,42.0,17.0,18.0,34.0,46.0,35.0,40.0,26.0,43.0,41.0,31.0,23.0,25.0,37.0,14.0,3.0,18.0,35.0,19.0,39.0,48.0,27.0,3.0,28.0,34.0,31.0,60.0,45.0,48.0,21.0,24.0,16.0,19.0,26.0,22.0,33.0,44.0,27.0,23.0,43.0,14.0,41.0,20.0,0.0,2.0,22.0,29.0,35.0,20.0,16.0,38.0,35.0,19.0,25.0,32.0,24.0,20.0,27.0,18.0,31.0,47.0,58.0,37.0,35.0,38.0,32.0,35.0,27.0,61.0,72.0,30.0,14.0,28.0,20.0,41.0,29.0,32.0,33.0,27.0,21.0,21.0,18.0,3.0,0.0,41.0,57.0,50.0,54.0,49.0,19.0,51.0,null,5.0,13.0,0.0,8.0,27.0,13.0,47.0,6.0,59.0,20.0,35.0,22.0,16.0,18.0,26.0,19.0,23.0,21.0,32.0,25.0,50.0,27.0,44.0,47.0,58.0,27.0,52.0,21.0,25.0,31.0,28.0,42.0,49.0,3.0,5.0,null,57.0,29.0,29.0,21.0,25.0,26.0,33.0,43.0,26.0,13.0,30.0,8.0,null,23.0,22.0,36.0,35.0,26.0,15.0,18.0,41.0,41.0,22.0,null,0.0,16.0,27.0,13.0,1.0,32.0,35.0,40.0,17.0,49.0,21.0,9.0,27.0,59.0,25.0,21.0,15.0,28.0,42.0,22.0,21.0,48.0,24.0,47.0,13.0,32.0,29.0,35.0,24.0,52.0,21.0,36.0,19.0,39.0,59.0,45.0,25.0,64.0,24.0,36.0,26.0,31.0,18.0,21.0,34.0,32.0,19.0,18.0,39.0,null,19.0,16.0,24.0,2.0,10.0,2.0,21.0,5.0,29.0,41.0,32.0,23.0,23.0,40.0,45.0,30.0,56.0,13.0,19.0,46.0,0.0,60.0,39.0,20.0,64.0,34.0,30.0,62.0,29.0,33.0,31.0,51.0,23.0,18.0,47.0,58.0,46.0,44.0,19.0,43.0,21.0,29.0,13.0,16.0,25.0,19.0,29.0,35.0,56.0,20.0,38.0,18.0,26.0,0.0,2.0,36.0,25.0,2.0,0.0,18.0,60.0,26.0,36.0,22.0,21.0,37.0,65.0,44.0,31.0,31.0,21.0,47.0,19.0,33.0,25.0,16.0,44.0,9.0,15.0,34.0,24.0,39.0,27.0,34.0,24.0,43.0,41.0,26.0,27.0,39.0,34.0,33.0,16.0,6.0,13.0,50.0,24.0,18.0,24.0,16.0,22.0,13.0,29.0,30.0,25.0,23.0,28.0,37.0,21.0,54.0,21.0,36.0,21.0,21.0,23.0,40.0,18.0,25.0,24.0,37.0,25.0,24.0,3.0,2.0,22.0,24.0,17.0,53.0,23.0,29.0,21.0,22.0,2.0,null,20.0,14.0,26.0,23.0,21.0,20.0,19.0,29.0,58.0,13.0,32.0,23.0,38.0,47.0,38.0,47.0,20.0,32.0,42.0,34.0,60.0,30.0,11.0,45.0,39.0,19.0,18.0,34.0,null,30.0,48.0,38.0,33.0,47.0,29.0,8.0,47.0,26.0,13.0,18.0,27.0,27.0,30.0,25.0,26.0,20.0,52.0,3.0,6.0,0.0,22.0,1.0,44.0,18.0,20.0,29.0,28.0,39.0,11.0,2.0,15.0,32.0,15.0,1.0,20.0,25.0,32.0,32.0,18.0,49.0,2.0,13.0,28.0,56.0,27.0,34.0,28.0,31.0,24.0,8.0,20.0,63.0,0.0,13.0,1.0,13.0,2.0,18.0,30.0,35.0,28.0,28.0,48.0,34.0,16.0,24.0,53.0,24.0,32.0,15.0,24.0,35.0,42.0,18.0,15.0,37.0,35.0,34.0,21.0,14.0,16.0,23.0,53.0,18.0,16.0,34.0,13.0,25.0,43.0,39.0,19.0,21.0,20.0,16.0,9.0,18.0,23.0,36.0,30.0,46.0,22.0,1.0,21.0,24.0,51.0,26.0,35.0,22.0,30.0,28.0,33.0,56.0,32.0,39.0,25.0,25.0,34.0,null,18.0,18.0,23.0,21.0,47.0,18.0,43.0,18.0,25.0,30.0,21.0,24.0,20.0,30.0,58.0,36.0,27.0,33.0,55.0,24.0,17.0,19.0,25.0,22.0,16.0,36.0,40.0,21.0,24.0,26.0,30.0,27.0,24.0,23.0,55.0,47.0,31.0,40.0,19.0,18.0,48.0,15.0,47.0,21.0,18.0,20.0,20.0,19.0,22.0,16.0,26.0,27.0,17.0,24.0,55.0,7.0,null,29.0,31.0,44.0,26.0,3.0,21.0,0.0,40.0,25.0,2.0,28.0,14.0,30.0,21.0,30.0,39.0,43.0,22.0,18.0,35.0,21.0,23.0,15.0,37.0,58.0,null,21.0,0.0,15.0,38.0,26.0,47.0,26.0,56.0,18.0,21.0,18.0,44.0,39.0,54.0,23.0,26.0,22.0,25.0,49.0,46.0,17.0,23.0,18.0,23.0,38.0,32.0,18.0,24.0,37.0,41.0,31.0,28.0,40.0,48.0,41.0,36.0,11.0,19.0,20.0,29.0,26.0,24.0,null,28.0,13.0,null,19.0,32.0,23.0,18.0,25.0,19.0,24.0,29.0,43.0,3.0,4.0,2.0,24.0,27.0,37.0,44.0,21.0,27.0,49.0,27.0,63.0,28.0,33.0,21.0,24.0,26.0,27.0,21.0,56.0,31.0,47.0,24.0,18.0,42.0,31.0,22.0,24.0,20.0,51.0,19.0,17.0,23.0,14.0,18.0,42.0,39.0,37.0,27.0,26.0,49.0,32.0,34.0,13.0,21.0,55.0,61.0,24.0,25.0,0.0,38.0,30.0,15.0,21.0,56.0,51.0,26.0,50.0,22.0,25.0,37.0,17.0,38.0,33.0,24.0,21.0,37.0,49.0,42.0,33.0,25.0,27.0,1.0,20.0,20.0,51.0,33.0,45.0,25.0,21.0,22.0,27.0,33.0,24.0,38.0,18.0,63.0,26.0,29.0,24.0,51.0,25.0,41.0,20.0,22.0,15.0,null,19.0,28.0,18.0,31.0,26.0,9.0,42.0,32.0,22.0,51.0,31.0,44.0,36.0,29.0,36.0,9.0,16.0,18.0,51.0,30.0,44.0,22.0,39.0,18.0,34.0,25.0,25.0,16.0,41.0,28.0,15.0,49.0,43.0,28.0,18.0,14.0,40.0,28.0,34.0,22.0,41.0,19.0,33.0,19.0,24.0,3.0,19.0,19.0,45.0,29.0,54.0,1.0,18.0,24.0,18.0,19.0,22.0,48.0,39.0,40.0,34.0,0.0,25.0,3.0,24.0,39.0,55.0,24.0,null,27.0,19.0,27.0,24.0,31.0,52.0,null,58.0,16.0,36.0,23.0,25.0,21.0,22.0,20.0,56.0,4.0,36.0,47.0,24.0,30.0,21.0,52.0,18.0,53.0,62.0,9.0,2.0,null,23.0,28.0,59.0,23.0,20.0,24.0,48.0,25.0,37.0,40.0,17.0,17.0,21.0,50.0,38.0,39.0,0.0,32.0,39.0,13.0,18.0,31.0,5.0,47.0,43.0,27.0,27.0,31.0,26.0,22.0,25.0,20.0,23.0,19.0,27.0,8.0,66.0,17.0,41.0,14.0,53.0,13.0,19.0,19.0,14.0,18.0,25.0,16.0,6.0,22.0,3.0,19.0,23.0,26.0,23.0,25.0,20.0,29.0,26.0,19.0,28.0,21.0,25.0,27.0,54.0,9.0,24.0,22.0,42.0,35.0,6.0,39.0,24.0,21.0,48.0,24.0,25.0,29.0,52.0,43.0,20.0,19.0,20.0,48.0,29.0,46.0,18.0,36.0,22.0,7.0,38.0,44.0,24.0,42.0,35.0,33.0,22.0,35.0,21.0,19.0,34.0,52.0,18.0,null,32.0,36.0,55.0,65.0,29.0,18.0,0.0,35.0,37.0,13.0,15.0,33.0,null,40.0,36.0,33.0,4.0,20.0,23.0,24.0,18.0,25.0,26.0,52.0,47.0,24.0,3.0,9.0,2.0,19.0,12.0,21.0,20.0,63.0,15.0,25.0,13.0,45.0,17.0,18.0,40.0,40.0,65.0,45.0,34.0,37.0,13.0,16.0,16.0,13.0,19.0,54.0,13.0,40.0,25.0,36.0,58.0,2.0,32.0,32.0,null,54.0,21.0,46.0,43.0,18.0,26.0,15.0,39.0,41.0,39.0,19.0,13.0,43.0,33.0,39.0,1.0,5.0,23.0,41.0,39.0,26.0,25.0,35.0,3.0,1.0,13.0,41.0,36.0,27.0,40.0,59.0,25.0,22.0,32.0,22.0,55.0,22.0,33.0,57.0,26.0,28.0,23.0,62.0,45.0,23.0,0.0,21.0,0.0,23.0,25.0,32.0,46.0,28.0,39.0,18.0,22.0,23.0,22.0,73.0,17.0,20.0,15.0,55.0,42.0,39.0,8.0,38.0,17.0,13.0,28.0,22.0,64.0,30.0,28.0,null,39.0,31.0,24.0,0.0,42.0,0.0,43.0,40.0,23.0,54.0,18.0,20.0,24.0,18.0,18.0,47.0,25.0,28.0,8.0,59.0,51.0,38.0,26.0,65.0,36.0,null,14.0,9.0,20.0,19.0,20.0,34.0,27.0,22.0,15.0,28.0,28.0,19.0,33.0,29.0,48.0,31.0,29.0,24.0,19.0,33.0,29.0,38.0,19.0,44.0,20.0,53.0,27.0,23.0,41.0,28.0,18.0,18.0,52.0,28.0,15.0,null,15.0,16.0,17.0,48.0,26.0,34.0,25.0,29.0,36.0,62.0,29.0,19.0,null,14.0,40.0,30.0,41.0,31.0,17.0,25.0,27.0,47.0,32.0,18.0,33.0,19.0,13.0,40.0,32.0,42.0,22.0,24.0,17.0,21.0,24.0,41.0,13.0,10.0,3.0,16.0,26.0,14.0,0.0,32.0,15.0,35.0,20.0,21.0,32.0,29.0,3.0,20.0,43.0,43.0,40.0,34.0,42.0,null,null,43.0],\"xaxis\":\"x\",\"yaxis\":\"y\",\"type\":\"histogram\"},{\"alignmentgroup\":\"True\",\"hovertemplate\":\"type=Test<br>Age=%{x}<extra></extra>\",\"legendgroup\":\"Test\",\"marker\":{\"color\":\"#DE3163\"},\"name\":\"Test\",\"notched\":true,\"offsetgroup\":\"Test\",\"showlegend\":false,\"x\":[27.0,19.0,31.0,38.0,20.0,31.0,21.0,20.0,23.0,24.0,19.0,45.0,44.0,46.0,21.0,27.0,20.0,44.0,29.0,40.0,30.0,14.0,31.0,27.0,66.0,24.0,19.0,36.0,21.0,18.0,26.0,19.0,48.0,23.0,24.0,19.0,24.0,27.0,6.0,33.0,23.0,30.0,null,1.0,20.0,17.0,34.0,24.0,29.0,20.0,5.0,22.0,16.0,7.0,36.0,26.0,40.0,29.0,2.0,23.0,0.0,30.0,56.0,36.0,56.0,19.0,39.0,38.0,null,35.0,26.0,31.0,38.0,27.0,30.0,22.0,29.0,0.0,8.0,3.0,27.0,9.0,29.0,18.0,22.0,24.0,25.0,36.0,14.0,24.0,26.0,29.0,40.0,36.0,46.0,42.0,23.0,19.0,25.0,22.0,35.0,39.0,42.0,35.0,29.0,20.0,25.0,36.0,39.0,23.0,19.0,50.0,41.0,19.0,20.0,19.0,38.0,32.0,44.0,18.0,49.0,23.0,31.0,55.0,60.0,20.0,34.0,14.0,26.0,19.0,25.0,42.0,18.0,50.0,26.0,47.0,35.0,58.0,20.0,28.0,12.0,20.0,22.0,31.0,24.0,17.0,null,18.0,48.0,38.0,33.0,20.0,22.0,52.0,15.0,25.0,14.0,null,16.0,48.0,36.0,19.0,43.0,32.0,54.0,33.0,21.0,33.0,28.0,23.0,26.0,41.0,2.0,21.0,70.0,20.0,31.0,8.0,5.0,45.0,37.0,24.0,55.0,18.0,36.0,59.0,61.0,46.0,29.0,18.0,20.0,28.0,26.0,32.0,18.0,50.0,47.0,15.0,35.0,49.0,32.0,63.0,54.0,21.0,38.0,50.0,32.0,33.0,30.0,28.0,22.0,null,37.0,59.0,31.0,25.0,38.0,37.0,44.0,28.0,45.0,53.0,21.0,33.0,18.0,37.0,34.0,46.0,18.0,19.0,4.0,0.0,12.0,7.0,34.0,10.0,0.0,14.0,27.0,21.0,37.0,29.0,17.0,17.0,35.0,34.0,17.0,39.0,56.0,35.0,17.0,29.0,15.0,37.0,36.0,36.0,18.0,61.0,45.0,21.0,65.0,27.0,13.0,32.0,17.0,44.0,21.0,16.0,41.0,40.0,16.0,17.0,40.0,37.0,53.0,42.0,31.0,18.0,51.0,20.0,19.0,22.0,41.0,28.0,0.0,42.0,20.0,25.0,22.0,25.0,45.0,19.0,16.0,18.0,38.0,27.0,36.0,21.0,1.0,25.0,3.0,7.0,0.0,32.0,5.0,79.0,19.0,30.0,13.0,53.0,40.0,32.0,31.0,63.0,18.0,21.0,14.0,41.0,40.0,58.0,22.0,13.0,16.0,13.0,15.0,42.0,24.0,19.0,null,29.0,15.0,38.0,49.0,20.0,null,19.0,46.0,21.0,29.0,null,44.0,19.0,29.0,25.0,41.0,19.0,33.0,25.0,44.0,21.0,32.0,33.0,32.0,19.0,21.0,23.0,31.0,22.0,74.0,53.0,40.0,23.0,36.0,18.0,29.0,48.0,34.0,34.0,27.0,44.0,0.0,1.0,18.0,23.0,26.0,46.0,41.0,25.0,50.0,28.0,17.0,29.0,19.0,34.0,28.0,47.0,28.0,38.0,22.0,18.0,21.0,40.0,67.0,39.0,19.0,28.0,29.0,22.0,23.0,41.0,25.0,43.0,54.0,14.0,69.0,24.0,37.0,28.0,59.0,20.0,23.0,59.0,20.0,36.0,43.0,9.0,32.0,24.0,14.0,45.0,23.0,59.0,28.0,61.0,52.0,5.0,51.0,26.0,44.0,46.0,32.0,17.0,21.0,52.0,52.0,14.0,21.0,42.0,28.0,26.0,7.0,14.0,3.0,26.0,54.0,55.0,16.0,38.0,48.0,13.0,20.0,18.0,45.0,5.0,42.0,50.0,21.0,22.0,23.0,22.0,21.0,24.0,24.0,42.0,19.0,32.0,35.0,19.0,55.0,35.0,63.0,66.0,45.0,20.0,21.0,51.0,13.0,24.0,28.0,52.0,32.0,23.0,37.0,35.0,46.0,33.0,34.0,51.0,null,27.0,22.0,33.0,31.0,16.0,6.0,18.0,30.0,24.0,57.0,24.0,23.0,40.0,21.0,17.0,25.0,34.0,18.0,8.0,14.0,16.0,22.0,21.0,23.0,26.0,18.0,72.0,18.0,24.0,36.0,13.0,19.0,28.0,2.0,5.0,25.0,45.0,59.0,6.0,36.0,40.0,36.0,31.0,19.0,13.0,31.0,22.0,52.0,22.0,34.0,23.0,14.0,30.0,75.0,28.0,61.0,25.0,21.0,null,28.0,41.0,25.0,28.0,0.0,19.0,22.0,2.0,35.0,42.0,46.0,26.0,19.0,11.0,11.0,17.0,23.0,37.0,18.0,48.0,18.0,18.0,32.0,26.0,26.0,55.0,19.0,65.0,28.0,24.0,52.0,67.0,34.0,23.0,26.0,28.0,9.0,1.0,1.0,58.0,59.0,54.0,8.0,28.0,19.0,23.0,47.0,17.0,33.0,43.0,28.0,32.0,13.0,18.0,16.0,6.0,27.0,29.0,32.0,23.0,33.0,51.0,41.0,20.0,0.0,13.0,13.0,13.0,24.0,null,32.0,24.0,27.0,24.0,34.0,26.0,22.0,10.0,28.0,5.0,null,29.0,17.0,18.0,35.0,42.0,35.0,42.0,33.0,20.0,2.0,2.0,43.0,10.0,26.0,42.0,24.0,32.0,23.0,null,15.0,15.0,null,15.0,13.0,33.0,47.0,27.0,18.0,10.0,40.0,28.0,23.0,23.0,41.0,20.0,29.0,17.0,21.0,25.0,25.0,28.0,24.0,56.0,36.0,20.0,50.0,29.0,34.0,40.0,20.0,36.0,25.0,25.0,17.0,42.0,47.0,23.0,null,39.0,43.0,23.0,46.0,31.0,37.0,48.0,28.0,38.0,31.0,35.0,28.0,29.0,19.0,null,44.0,59.0,23.0,48.0,49.0,15.0,30.0,20.0,20.0,6.0,1.0,1.0,2.0,8.0,29.0,43.0,73.0,48.0,24.0,20.0,17.0,42.0,22.0,54.0,41.0,0.0,20.0,54.0,73.0,17.0,21.0,60.0,50.0,17.0,18.0,25.0,57.0,46.0,71.0,21.0,38.0,23.0,24.0,25.0,35.0,21.0,22.0,60.0,29.0,49.0,27.0,23.0,23.0,33.0,35.0,27.0,44.0,18.0,31.0,21.0,27.0,36.0,33.0,30.0,29.0,32.0,31.0,27.0,25.0,38.0,47.0,24.0,46.0,16.0,30.0,0.0,60.0,50.0,37.0,27.0,29.0,null,22.0,null,null,14.0,null,20.0,19.0,14.0,69.0,26.0,25.0,36.0,34.0,4.0,1.0,24.0,21.0,25.0,44.0,22.0,64.0,32.0,42.0,29.0,4.0,17.0,21.0,52.0,29.0,35.0,23.0,27.0,8.0,20.0,16.0,35.0,44.0,19.0,2.0,30.0,28.0,44.0,20.0,22.0,14.0,20.0,45.0,19.0,42.0,23.0,43.0,20.0,11.0,20.0,21.0,17.0,32.0,24.0,4.0,4.0,36.0,27.0,46.0,24.0,3.0,21.0,42.0,26.0,38.0,36.0,28.0,62.0,22.0,18.0,12.0,32.0,11.0,47.0,48.0,38.0,19.0,22.0,21.0,37.0,28.0,15.0,57.0,22.0,22.0,29.0,0.0,44.0,22.0,25.0,64.0,21.0,35.0,15.0,48.0,22.0,42.0,13.0,35.0,27.0,21.0,22.0,33.0,25.0,37.0,36.0,47.0,34.0,29.0,39.0,27.0,35.0,0.0,33.0,24.0,19.0,33.0,19.0,16.0,47.0,40.0,19.0,27.0,31.0,24.0,31.0,41.0,16.0,27.0,11.0,28.0,51.0,1.0,56.0,null,57.0,13.0,32.0,28.0,12.0,35.0,33.0,14.0,26.0,25.0,27.0,23.0,45.0,50.0,24.0,54.0,19.0,19.0,28.0,28.0,39.0,20.0,30.0,35.0,36.0,33.0,30.0,25.0,45.0,23.0,51.0,31.0,55.0,24.0,57.0,24.0,44.0,0.0,15.0,49.0,24.0,47.0,26.0,null,4.0,30.0,23.0,23.0,4.0,3.0,42.0,22.0,21.0,28.0,35.0,20.0,22.0,30.0,0.0,22.0,15.0,4.0,19.0,29.0,17.0,21.0,20.0,24.0,6.0,9.0,21.0,46.0,20.0,27.0,23.0,28.0,53.0,41.0,32.0,27.0,31.0,20.0,19.0,55.0,35.0,70.0,22.0,46.0,16.0,14.0,13.0,44.0,15.0,32.0,26.0,42.0,44.0,15.0,35.0,35.0,24.0,19.0,37.0,31.0,39.0,35.0,26.0,26.0,0.0,8.0,44.0,20.0,56.0,31.0,16.0,29.0,22.0,39.0,25.0,43.0,37.0,24.0,53.0,19.0,24.0,31.0,27.0,57.0,26.0,15.0,19.0,27.0,23.0,6.0,15.0,2.0,21.0,0.0,18.0,46.0,43.0,45.0,40.0,44.0,27.0,55.0,24.0,27.0,33.0,35.0,33.0,34.0,37.0,46.0,45.0,14.0,null,56.0,24.0,19.0,51.0,24.0,23.0,21.0,6.0,11.0,4.0,0.0,7.0,24.0,32.0,43.0,24.0,49.0,21.0,29.0,25.0,27.0,14.0,67.0,17.0,44.0,52.0,14.0,17.0,19.0,36.0,19.0,25.0,39.0,32.0,75.0,37.0,25.0,33.0,25.0,24.0,22.0,22.0,36.0,4.0,61.0,0.0,15.0,42.0,27.0,5.0,32.0,38.0,21.0,23.0,34.0,28.0,23.0,14.0,60.0,78.0,6.0,17.0,41.0,40.0,47.0,23.0,41.0,60.0,46.0,19.0,18.0,0.0,28.0,30.0,9.0,0.0,4.0,22.0,32.0,7.0,19.0,34.0,24.0,17.0,31.0,42.0,14.0,27.0,21.0,24.0,34.0,35.0,43.0,25.0,19.0,25.0,22.0,23.0,42.0,40.0,71.0,18.0,34.0,4.0,18.0,22.0,38.0,33.0,27.0,18.0,34.0,66.0,47.0,35.0,23.0,36.0,36.0,35.0,15.0,39.0,48.0,47.0,21.0,31.0,13.0,32.0,22.0,40.0,15.0,33.0,28.0,17.0,20.0,42.0,18.0,27.0,32.0,19.0,9.0,36.0,21.0,40.0,42.0,40.0,22.0,15.0,38.0,15.0,24.0,22.0,24.0,25.0,22.0,57.0,25.0,21.0,41.0,27.0,18.0,61.0,9.0,1.0,27.0,20.0,2.0,0.0,25.0,22.0,32.0,28.0,43.0,28.0,32.0,54.0,27.0,30.0,25.0,39.0,14.0,8.0,22.0,27.0,43.0,16.0,40.0,48.0,25.0,29.0,60.0,22.0,37.0,35.0,23.0,24.0,15.0,18.0,14.0,39.0,12.0,43.0,45.0,24.0,52.0,18.0,38.0,null,28.0,19.0,45.0,27.0,15.0,22.0,23.0,32.0,15.0,30.0,60.0,50.0,45.0,24.0,22.0,20.0,19.0,40.0,14.0,18.0,20.0,35.0,24.0,30.0,44.0,42.0,3.0,19.0,69.0,50.0,15.0,18.0,25.0,15.0,62.0,19.0,29.0,28.0,25.0,22.0,35.0,61.0,26.0,19.0,2.0,0.0,26.0,6.0,23.0,50.0,18.0,7.0,3.0,3.0,37.0,25.0,22.0,20.0,32.0,34.0,47.0,23.0,22.0,35.0,18.0,36.0,32.0,29.0,19.0,45.0,null,14.0,22.0,31.0,25.0,15.0,28.0,34.0,28.0,45.0,44.0,22.0,48.0,25.0,24.0,20.0,46.0,40.0,26.0,56.0,37.0,35.0,15.0,21.0,24.0,30.0,34.0,16.0,55.0,27.0,44.0,17.0,17.0,36.0,18.0,14.0,21.0,26.0,null,21.0,25.0,27.0,25.0,43.0,35.0,21.0,23.0,17.0,21.0,21.0,39.0,22.0,40.0,25.0,6.0,1.0,1.0,20.0,17.0,22.0,18.0,49.0,27.0,40.0,22.0,55.0,45.0,33.0,42.0,27.0,16.0,23.0,31.0,62.0,43.0,57.0,23.0,20.0,21.0,27.0,31.0,31.0,24.0,27.0,28.0,44.0,19.0,14.0,65.0,73.0,null,25.0,null,34.0,63.0,53.0,18.0,40.0,28.0,45.0,32.0,19.0,65.0,20.0,18.0,18.0,58.0,25.0,13.0,null,22.0,22.0,10.0,14.0,44.0,10.0,37.0,37.0,44.0,42.0,18.0,34.0,15.0,36.0,27.0,33.0,27.0,22.0,19.0,18.0,31.0,41.0,48.0,23.0,29.0,38.0,21.0,20.0,27.0,33.0,24.0,23.0,22.0,13.0,24.0,32.0,17.0,28.0,46.0,18.0,24.0,20.0,17.0,44.0,34.0,19.0,28.0,null,57.0,34.0,18.0,28.0,6.0,53.0,6.0,33.0,43.0,44.0,28.0,37.0,55.0,40.0,38.0,24.0,53.0,61.0,17.0,20.0,22.0,27.0,19.0,23.0,33.0,26.0,33.0,39.0,47.0,33.0,40.0,19.0,26.0,24.0,15.0,2.0,33.0,14.0,22.0,45.0,58.0,13.0,36.0,35.0,23.0,27.0,24.0,43.0,67.0,29.0,28.0,18.0,35.0,22.0,19.0,47.0,16.0,41.0,26.0,37.0,26.0,21.0,45.0,28.0,26.0,35.0,60.0,7.0,15.0,26.0,38.0,24.0,77.0,22.0,22.0,20.0,47.0,25.0,9.0,19.0,44.0,41.0,53.0,27.0,20.0,23.0,20.0,null,51.0,22.0,36.0,18.0,19.0,17.0,29.0,18.0,22.0,43.0,24.0,25.0,20.0,23.0,32.0,51.0,22.0,22.0,30.0,23.0,61.0,24.0,19.0,27.0,29.0,55.0,26.0,58.0,60.0,13.0,39.0,35.0,21.0,37.0,31.0,20.0,27.0,40.0,null,36.0,19.0,22.0,15.0,18.0,25.0,62.0,53.0,null,19.0,21.0,20.0,56.0,64.0,null,36.0,51.0,16.0,21.0,50.0,0.0,34.0,3.0,11.0,5.0,47.0,1.0,0.0,23.0,27.0,46.0,34.0,2.0,11.0,1.0,13.0,41.0,11.0,52.0,15.0,58.0,23.0,34.0,9.0,25.0,38.0,42.0,40.0,18.0,42.0,40.0,28.0,56.0,22.0,39.0,35.0,36.0,34.0,22.0,21.0,16.0,35.0,19.0,36.0,32.0,69.0,44.0,34.0,35.0,25.0,3.0,12.0,3.0,13.0,26.0,2.0,25.0,19.0,33.0,41.0,55.0,30.0,35.0,7.0,38.0,51.0,18.0,44.0,18.0,13.0,49.0,8.0,22.0,32.0,null,56.0,18.0,27.0,46.0,18.0,30.0,35.0,48.0,33.0,0.0,11.0,0.0,14.0,9.0,37.0,30.0,21.0,32.0,4.0,19.0,25.0,34.0,19.0,18.0,23.0,53.0,13.0,20.0,34.0,18.0,0.0,35.0,0.0,62.0,15.0,28.0,5.0,22.0,14.0,43.0,24.0,65.0,44.0,50.0,15.0,18.0,41.0,21.0,16.0,21.0,29.0,19.0,18.0,25.0,45.0,32.0,33.0,null,24.0,29.0,24.0,22.0,18.0,16.0,17.0,18.0,25.0,46.0,36.0,62.0,48.0,16.0,27.0,52.0,25.0,13.0,35.0,20.0,42.0,50.0,66.0,31.0,37.0,72.0,30.0,29.0,21.0,33.0,28.0,41.0,44.0,45.0,61.0,21.0,25.0,38.0,68.0,0.0,21.0,55.0,60.0,19.0,17.0,16.0,29.0,29.0,0.0,15.0,27.0,24.0,14.0,17.0,37.0,23.0,17.0,33.0,30.0,20.0,null,25.0,19.0,31.0,23.0,29.0,20.0,26.0,26.0,51.0,null,17.0,22.0,31.0,2.0,0.0,3.0,28.0,21.0,15.0,18.0,52.0,49.0,42.0,28.0,31.0,19.0,41.0,31.0,13.0,35.0,29.0,0.0,19.0,null,19.0,26.0,47.0,29.0,46.0,18.0,33.0,20.0,37.0,35.0,25.0,22.0,47.0,31.0,27.0,47.0,46.0,47.0,40.0,39.0,39.0,35.0,43.0,38.0,31.0,20.0,44.0,25.0,25.0,20.0,33.0,58.0,23.0,35.0,13.0,21.0,20.0,15.0,48.0,58.0,25.0,43.0,53.0,13.0,8.0,53.0,22.0,31.0,28.0,22.0,27.0,29.0,42.0,42.0,33.0,32.0,42.0,22.0,18.0,46.0,20.0,21.0,26.0,51.0,53.0,29.0,25.0,69.0,26.0,38.0,37.0,14.0,36.0,42.0,25.0,35.0,26.0,12.0,48.0,13.0,21.0,26.0,32.0,25.0,51.0,15.0,14.0,41.0,13.0,39.0,19.0,17.0,41.0,43.0,18.0,22.0,29.0,22.0,62.0,29.0,26.0,8.0,26.0,38.0,49.0,18.0,18.0,35.0,34.0,11.0,null,22.0,18.0,36.0,17.0,25.0,29.0,25.0,34.0,16.0,28.0,29.0,38.0,39.0,48.0,23.0,16.0,21.0,21.0,4.0,27.0,18.0,22.0,28.0,22.0,39.0,29.0,42.0,0.0,52.0,26.0,19.0,23.0,36.0,26.0,62.0,28.0,25.0,0.0,24.0,49.0,21.0,29.0,19.0,32.0,20.0,48.0,27.0,49.0,20.0,25.0,null,73.0,23.0,23.0,26.0,48.0,null,54.0,56.0,30.0,24.0,23.0,57.0,null,14.0,51.0,16.0,29.0,43.0,16.0,38.0,40.0,44.0,25.0,20.0,19.0,47.0,21.0,15.0,26.0,50.0,19.0,null,18.0,0.0,34.0,25.0,8.0,0.0,6.0,27.0,32.0,63.0,36.0,33.0,28.0,43.0,23.0,22.0,56.0,25.0,28.0,44.0,20.0,17.0,18.0,15.0,23.0,27.0,10.0,10.0,0.0,16.0,48.0,7.0,50.0,5.0,50.0,35.0,23.0,28.0,20.0,47.0,26.0,17.0,43.0,37.0,25.0,26.0,23.0,46.0,23.0,26.0,27.0,18.0,63.0,2.0,0.0,0.0,37.0,18.0,33.0,31.0,34.0,18.0,20.0,37.0,30.0,7.0,32.0,68.0,0.0,23.0,38.0,26.0,29.0,43.0,38.0,25.0,18.0,23.0,26.0,45.0,25.0,16.0,25.0,11.0,22.0,38.0,25.0,17.0,20.0,24.0,37.0,32.0,32.0,20.0,50.0,33.0,47.0,49.0,20.0,26.0,24.0,11.0,47.0,22.0,35.0,25.0,33.0,20.0,16.0,29.0,16.0,43.0,33.0,16.0,22.0,18.0,36.0,17.0,34.0,1.0,24.0,20.0,56.0,26.0,35.0,3.0,23.0,19.0,0.0,30.0,50.0,15.0,19.0,null,35.0,45.0,0.0,74.0,24.0,39.0,18.0,39.0,33.0,21.0,35.0,66.0,14.0,20.0,18.0,36.0,27.0,51.0,18.0,46.0,67.0,24.0,35.0,14.0,22.0,20.0,23.0,23.0,21.0,36.0,19.0,22.0,58.0,14.0,18.0,40.0,24.0,26.0,16.0,null,21.0,17.0,23.0,22.0,20.0,38.0,37.0,31.0,27.0,31.0,21.0,36.0,20.0,36.0,40.0,25.0,32.0,25.0,49.0,28.0,58.0,null,22.0,61.0,28.0,24.0,40.0,null,15.0,29.0,18.0,28.0,24.0,18.0,21.0,25.0,16.0,49.0,28.0,22.0,11.0,26.0,17.0,26.0,0.0,null,4.0,19.0,5.0,35.0,25.0,26.0,34.0,21.0,26.0,32.0,40.0,13.0,29.0,11.0,25.0,31.0,51.0,20.0,32.0,22.0,38.0,26.0,42.0,57.0,38.0,23.0,32.0,15.0,41.0,19.0,26.0,null,20.0,19.0,30.0,58.0,17.0,null,19.0,20.0,54.0,21.0,44.0,11.0,2.0,20.0,50.0,27.0,28.0,33.0,23.0,22.0,44.0,45.0,20.0,26.0,18.0,21.0,26.0,55.0,24.0,27.0,18.0,20.0,31.0,37.0,37.0,57.0,39.0,20.0,18.0,29.0,31.0,27.0,43.0,null,32.0,19.0,50.0,19.0,44.0,49.0,30.0,41.0,34.0,30.0,22.0,29.0,32.0,40.0,50.0,31.0,1.0,30.0,null,41.0,34.0,14.0,13.0,16.0,25.0,17.0,41.0,28.0,3.0,18.0,20.0,32.0,59.0,52.0,47.0,56.0,24.0,13.0,15.0,40.0,30.0,25.0,10.0,28.0,36.0,12.0,26.0,33.0,42.0,31.0,20.0,24.0,37.0,19.0,13.0,23.0,44.0,36.0,79.0,1.0,12.0,8.0,45.0,10.0,3.0,37.0,43.0,38.0,33.0,25.0,42.0,35.0,35.0,30.0,33.0,30.0,23.0,13.0,32.0,17.0,37.0,49.0,53.0,27.0,26.0,50.0,17.0,22.0,8.0,42.0,30.0,4.0,27.0,15.0,38.0,51.0,26.0,34.0,45.0,18.0,21.0,23.0,24.0,20.0,32.0,22.0,13.0,42.0,19.0,24.0,45.0,35.0,16.0,16.0,43.0,31.0,null,22.0,48.0,20.0,35.0,23.0,28.0,19.0,45.0,16.0,3.0,60.0,33.0,25.0,37.0,51.0,29.0,39.0,29.0,27.0,38.0,13.0,33.0,45.0,0.0,18.0,0.0,38.0,0.0,21.0,56.0,38.0,35.0,34.0,15.0,22.0,28.0,18.0,47.0,23.0,44.0,18.0,21.0,65.0,18.0,27.0,16.0,17.0,19.0,33.0,20.0,10.0,6.0,0.0,0.0,4.0,null,27.0,54.0,24.0,47.0,16.0,59.0,31.0,28.0,23.0,19.0,18.0,28.0,13.0,33.0,28.0,17.0,36.0,29.0,18.0,37.0,36.0,44.0,21.0,20.0,45.0,28.0,20.0,18.0,null,19.0,27.0,26.0,29.0,18.0,12.0,0.0,2.0,16.0,17.0,20.0,30.0,20.0,31.0,13.0,23.0,19.0,18.0,50.0,43.0,52.0,24.0,46.0,25.0,53.0,17.0,29.0,26.0,35.0,51.0,20.0,19.0,59.0,23.0,22.0,21.0,25.0,23.0,15.0,20.0,22.0,20.0,35.0,41.0,18.0,40.0,25.0,31.0,47.0,29.0,null,18.0,19.0,50.0,26.0,29.0,14.0,14.0,0.0,34.0,23.0,24.0,39.0,22.0,23.0,26.0,28.0,42.0,37.0,45.0,21.0,42.0,20.0,61.0,0.0,3.0,18.0,44.0,50.0,18.0,0.0,58.0,50.0,43.0,21.0,30.0,20.0,24.0,24.0,37.0,21.0,48.0,33.0,21.0,21.0,13.0,5.0,24.0,37.0,23.0,35.0,24.0,20.0,0.0,64.0,31.0,6.0,3.0,10.0,19.0,19.0,46.0,25.0,27.0,23.0,20.0,24.0,50.0,44.0,28.0,25.0,14.0,21.0,16.0,25.0,41.0,20.0,24.0,31.0,23.0,54.0,26.0,49.0,0.0,17.0,22.0,11.0,28.0,17.0,47.0,29.0,46.0,66.0,0.0,5.0,1.0,42.0,5.0,null,41.0,30.0,26.0,16.0,22.0,20.0,44.0,36.0,6.0,13.0,22.0,69.0,40.0,46.0,34.0,39.0,37.0,13.0,20.0,28.0,54.0,9.0,61.0,18.0,null,24.0,24.0,0.0,30.0,null,26.0,26.0,3.0,30.0,51.0,36.0,18.0,27.0,36.0,39.0,17.0,24.0,14.0,25.0,35.0,17.0,45.0,35.0,19.0,null,33.0,22.0,32.0,25.0,26.0,21.0,49.0,26.0,20.0,28.0,35.0,66.0,47.0,25.0,23.0,19.0,8.0,42.0,33.0,29.0,63.0,24.0,62.0,null,52.0,23.0,47.0,50.0,32.0,33.0,26.0,20.0,28.0,38.0,42.0,0.0,23.0,39.0,25.0,17.0,15.0,31.0,49.0,41.0,37.0,27.0,13.0,42.0,21.0,29.0,0.0,19.0,36.0,31.0,16.0,42.0,16.0,23.0,42.0,34.0,38.0,21.0,25.0,30.0,40.0,31.0,20.0,37.0,26.0,22.0,21.0,33.0,40.0,11.0,27.0,22.0,40.0,61.0,28.0,24.0,43.0,22.0,14.0,56.0,35.0,62.0,44.0,32.0,26.0,22.0,56.0,29.0,21.0,34.0,35.0,18.0,23.0,18.0,24.0,19.0,62.0,52.0,37.0,21.0,48.0,43.0,18.0,33.0,33.0,29.0,66.0,41.0,17.0,8.0,20.0,25.0,47.0,40.0,26.0,19.0,35.0,0.0,12.0,37.0,38.0,34.0,30.0,22.0,23.0,59.0,19.0,16.0,22.0,30.0,26.0,18.0,29.0,32.0,33.0,20.0,55.0,41.0,22.0,61.0,20.0,57.0,17.0,60.0,20.0,20.0,40.0,28.0,17.0,18.0,46.0,29.0,25.0,59.0,17.0,65.0,32.0,35.0,18.0,23.0,27.0,0.0,26.0,38.0,35.0,32.0,9.0,11.0,13.0,2.0,12.0,27.0,14.0,37.0,6.0,36.0,27.0,20.0,24.0,21.0,50.0,18.0,34.0,22.0,63.0,39.0,26.0,27.0,17.0,39.0,26.0,30.0,26.0,34.0,24.0,21.0,25.0,64.0,40.0,null,23.0,46.0,22.0,0.0,8.0,35.0,22.0,29.0,25.0,24.0,26.0,20.0,40.0,28.0,22.0,23.0,26.0,19.0,35.0,41.0,37.0,44.0,34.0,39.0,27.0,32.0,13.0,10.0,28.0,25.0,null,27.0,29.0,6.0,2.0,6.0,24.0,31.0,35.0,13.0,64.0,18.0,32.0,21.0,13.0,43.0,39.0,26.0,21.0,18.0,27.0,null,27.0,29.0,20.0,26.0,null,34.0,15.0,24.0,26.0,14.0,24.0,31.0,21.0,28.0,19.0,50.0,15.0,34.0,35.0,34.0,36.0,27.0,30.0,34.0,45.0,21.0,56.0,21.0,28.0,38.0,34.0,33.0,34.0,19.0,19.0,17.0,20.0,22.0,35.0,50.0,19.0,23.0,38.0,20.0,31.0,28.0,36.0,27.0,66.0,14.0,29.0,34.0,13.0,47.0,26.0,50.0,38.0,59.0,43.0,30.0,33.0,33.0,42.0,17.0,18.0,34.0,46.0,35.0,40.0,26.0,43.0,41.0,31.0,23.0,25.0,37.0,14.0,3.0,18.0,35.0,19.0,39.0,48.0,27.0,3.0,28.0,34.0,31.0,60.0,45.0,48.0,21.0,24.0,16.0,19.0,26.0,22.0,33.0,44.0,27.0,23.0,43.0,14.0,41.0,20.0,0.0,2.0,22.0,29.0,35.0,20.0,16.0,38.0,35.0,19.0,25.0,32.0,24.0,20.0,27.0,18.0,31.0,47.0,58.0,37.0,35.0,38.0,32.0,35.0,27.0,61.0,72.0,30.0,14.0,28.0,20.0,41.0,29.0,32.0,33.0,27.0,21.0,21.0,18.0,3.0,0.0,41.0,57.0,50.0,54.0,49.0,19.0,51.0,null,5.0,13.0,0.0,8.0,27.0,13.0,47.0,6.0,59.0,20.0,35.0,22.0,16.0,18.0,26.0,19.0,23.0,21.0,32.0,25.0,50.0,27.0,44.0,47.0,58.0,27.0,52.0,21.0,25.0,31.0,28.0,42.0,49.0,3.0,5.0,null,57.0,29.0,29.0,21.0,25.0,26.0,33.0,43.0,26.0,13.0,30.0,8.0,null,23.0,22.0,36.0,35.0,26.0,15.0,18.0,41.0,41.0,22.0,null,0.0,16.0,27.0,13.0,1.0,32.0,35.0,40.0,17.0,49.0,21.0,9.0,27.0,59.0,25.0,21.0,15.0,28.0,42.0,22.0,21.0,48.0,24.0,47.0,13.0,32.0,29.0,35.0,24.0,52.0,21.0,36.0,19.0,39.0,59.0,45.0,25.0,64.0,24.0,36.0,26.0,31.0,18.0,21.0,34.0,32.0,19.0,18.0,39.0,null,19.0,16.0,24.0,2.0,10.0,2.0,21.0,5.0,29.0,41.0,32.0,23.0,23.0,40.0,45.0,30.0,56.0,13.0,19.0,46.0,0.0,60.0,39.0,20.0,64.0,34.0,30.0,62.0,29.0,33.0,31.0,51.0,23.0,18.0,47.0,58.0,46.0,44.0,19.0,43.0,21.0,29.0,13.0,16.0,25.0,19.0,29.0,35.0,56.0,20.0,38.0,18.0,26.0,0.0,2.0,36.0,25.0,2.0,0.0,18.0,60.0,26.0,36.0,22.0,21.0,37.0,65.0,44.0,31.0,31.0,21.0,47.0,19.0,33.0,25.0,16.0,44.0,9.0,15.0,34.0,24.0,39.0,27.0,34.0,24.0,43.0,41.0,26.0,27.0,39.0,34.0,33.0,16.0,6.0,13.0,50.0,24.0,18.0,24.0,16.0,22.0,13.0,29.0,30.0,25.0,23.0,28.0,37.0,21.0,54.0,21.0,36.0,21.0,21.0,23.0,40.0,18.0,25.0,24.0,37.0,25.0,24.0,3.0,2.0,22.0,24.0,17.0,53.0,23.0,29.0,21.0,22.0,2.0,null,20.0,14.0,26.0,23.0,21.0,20.0,19.0,29.0,58.0,13.0,32.0,23.0,38.0,47.0,38.0,47.0,20.0,32.0,42.0,34.0,60.0,30.0,11.0,45.0,39.0,19.0,18.0,34.0,null,30.0,48.0,38.0,33.0,47.0,29.0,8.0,47.0,26.0,13.0,18.0,27.0,27.0,30.0,25.0,26.0,20.0,52.0,3.0,6.0,0.0,22.0,1.0,44.0,18.0,20.0,29.0,28.0,39.0,11.0,2.0,15.0,32.0,15.0,1.0,20.0,25.0,32.0,32.0,18.0,49.0,2.0,13.0,28.0,56.0,27.0,34.0,28.0,31.0,24.0,8.0,20.0,63.0,0.0,13.0,1.0,13.0,2.0,18.0,30.0,35.0,28.0,28.0,48.0,34.0,16.0,24.0,53.0,24.0,32.0,15.0,24.0,35.0,42.0,18.0,15.0,37.0,35.0,34.0,21.0,14.0,16.0,23.0,53.0,18.0,16.0,34.0,13.0,25.0,43.0,39.0,19.0,21.0,20.0,16.0,9.0,18.0,23.0,36.0,30.0,46.0,22.0,1.0,21.0,24.0,51.0,26.0,35.0,22.0,30.0,28.0,33.0,56.0,32.0,39.0,25.0,25.0,34.0,null,18.0,18.0,23.0,21.0,47.0,18.0,43.0,18.0,25.0,30.0,21.0,24.0,20.0,30.0,58.0,36.0,27.0,33.0,55.0,24.0,17.0,19.0,25.0,22.0,16.0,36.0,40.0,21.0,24.0,26.0,30.0,27.0,24.0,23.0,55.0,47.0,31.0,40.0,19.0,18.0,48.0,15.0,47.0,21.0,18.0,20.0,20.0,19.0,22.0,16.0,26.0,27.0,17.0,24.0,55.0,7.0,null,29.0,31.0,44.0,26.0,3.0,21.0,0.0,40.0,25.0,2.0,28.0,14.0,30.0,21.0,30.0,39.0,43.0,22.0,18.0,35.0,21.0,23.0,15.0,37.0,58.0,null,21.0,0.0,15.0,38.0,26.0,47.0,26.0,56.0,18.0,21.0,18.0,44.0,39.0,54.0,23.0,26.0,22.0,25.0,49.0,46.0,17.0,23.0,18.0,23.0,38.0,32.0,18.0,24.0,37.0,41.0,31.0,28.0,40.0,48.0,41.0,36.0,11.0,19.0,20.0,29.0,26.0,24.0,null,28.0,13.0,null,19.0,32.0,23.0,18.0,25.0,19.0,24.0,29.0,43.0,3.0,4.0,2.0,24.0,27.0,37.0,44.0,21.0,27.0,49.0,27.0,63.0,28.0,33.0,21.0,24.0,26.0,27.0,21.0,56.0,31.0,47.0,24.0,18.0,42.0,31.0,22.0,24.0,20.0,51.0,19.0,17.0,23.0,14.0,18.0,42.0,39.0,37.0,27.0,26.0,49.0,32.0,34.0,13.0,21.0,55.0,61.0,24.0,25.0,0.0,38.0,30.0,15.0,21.0,56.0,51.0,26.0,50.0,22.0,25.0,37.0,17.0,38.0,33.0,24.0,21.0,37.0,49.0,42.0,33.0,25.0,27.0,1.0,20.0,20.0,51.0,33.0,45.0,25.0,21.0,22.0,27.0,33.0,24.0,38.0,18.0,63.0,26.0,29.0,24.0,51.0,25.0,41.0,20.0,22.0,15.0,null,19.0,28.0,18.0,31.0,26.0,9.0,42.0,32.0,22.0,51.0,31.0,44.0,36.0,29.0,36.0,9.0,16.0,18.0,51.0,30.0,44.0,22.0,39.0,18.0,34.0,25.0,25.0,16.0,41.0,28.0,15.0,49.0,43.0,28.0,18.0,14.0,40.0,28.0,34.0,22.0,41.0,19.0,33.0,19.0,24.0,3.0,19.0,19.0,45.0,29.0,54.0,1.0,18.0,24.0,18.0,19.0,22.0,48.0,39.0,40.0,34.0,0.0,25.0,3.0,24.0,39.0,55.0,24.0,null,27.0,19.0,27.0,24.0,31.0,52.0,null,58.0,16.0,36.0,23.0,25.0,21.0,22.0,20.0,56.0,4.0,36.0,47.0,24.0,30.0,21.0,52.0,18.0,53.0,62.0,9.0,2.0,null,23.0,28.0,59.0,23.0,20.0,24.0,48.0,25.0,37.0,40.0,17.0,17.0,21.0,50.0,38.0,39.0,0.0,32.0,39.0,13.0,18.0,31.0,5.0,47.0,43.0,27.0,27.0,31.0,26.0,22.0,25.0,20.0,23.0,19.0,27.0,8.0,66.0,17.0,41.0,14.0,53.0,13.0,19.0,19.0,14.0,18.0,25.0,16.0,6.0,22.0,3.0,19.0,23.0,26.0,23.0,25.0,20.0,29.0,26.0,19.0,28.0,21.0,25.0,27.0,54.0,9.0,24.0,22.0,42.0,35.0,6.0,39.0,24.0,21.0,48.0,24.0,25.0,29.0,52.0,43.0,20.0,19.0,20.0,48.0,29.0,46.0,18.0,36.0,22.0,7.0,38.0,44.0,24.0,42.0,35.0,33.0,22.0,35.0,21.0,19.0,34.0,52.0,18.0,null,32.0,36.0,55.0,65.0,29.0,18.0,0.0,35.0,37.0,13.0,15.0,33.0,null,40.0,36.0,33.0,4.0,20.0,23.0,24.0,18.0,25.0,26.0,52.0,47.0,24.0,3.0,9.0,2.0,19.0,12.0,21.0,20.0,63.0,15.0,25.0,13.0,45.0,17.0,18.0,40.0,40.0,65.0,45.0,34.0,37.0,13.0,16.0,16.0,13.0,19.0,54.0,13.0,40.0,25.0,36.0,58.0,2.0,32.0,32.0,null,54.0,21.0,46.0,43.0,18.0,26.0,15.0,39.0,41.0,39.0,19.0,13.0,43.0,33.0,39.0,1.0,5.0,23.0,41.0,39.0,26.0,25.0,35.0,3.0,1.0,13.0,41.0,36.0,27.0,40.0,59.0,25.0,22.0,32.0,22.0,55.0,22.0,33.0,57.0,26.0,28.0,23.0,62.0,45.0,23.0,0.0,21.0,0.0,23.0,25.0,32.0,46.0,28.0,39.0,18.0,22.0,23.0,22.0,73.0,17.0,20.0,15.0,55.0,42.0,39.0,8.0,38.0,17.0,13.0,28.0,22.0,64.0,30.0,28.0,null,39.0,31.0,24.0,0.0,42.0,0.0,43.0,40.0,23.0,54.0,18.0,20.0,24.0,18.0,18.0,47.0,25.0,28.0,8.0,59.0,51.0,38.0,26.0,65.0,36.0,null,14.0,9.0,20.0,19.0,20.0,34.0,27.0,22.0,15.0,28.0,28.0,19.0,33.0,29.0,48.0,31.0,29.0,24.0,19.0,33.0,29.0,38.0,19.0,44.0,20.0,53.0,27.0,23.0,41.0,28.0,18.0,18.0,52.0,28.0,15.0,null,15.0,16.0,17.0,48.0,26.0,34.0,25.0,29.0,36.0,62.0,29.0,19.0,null,14.0,40.0,30.0,41.0,31.0,17.0,25.0,27.0,47.0,32.0,18.0,33.0,19.0,13.0,40.0,32.0,42.0,22.0,24.0,17.0,21.0,24.0,41.0,13.0,10.0,3.0,16.0,26.0,14.0,0.0,32.0,15.0,35.0,20.0,21.0,32.0,29.0,3.0,20.0,43.0,43.0,40.0,34.0,42.0,null,null,43.0],\"xaxis\":\"x2\",\"yaxis\":\"y2\",\"type\":\"box\"}],                        {\"template\":{\"data\":{\"barpolar\":[{\"marker\":{\"line\":{\"color\":\"white\",\"width\":0.5},\"pattern\":{\"fillmode\":\"overlay\",\"size\":10,\"solidity\":0.2}},\"type\":\"barpolar\"}],\"bar\":[{\"error_x\":{\"color\":\"#2a3f5f\"},\"error_y\":{\"color\":\"#2a3f5f\"},\"marker\":{\"line\":{\"color\":\"white\",\"width\":0.5},\"pattern\":{\"fillmode\":\"overlay\",\"size\":10,\"solidity\":0.2}},\"type\":\"bar\"}],\"carpet\":[{\"aaxis\":{\"endlinecolor\":\"#2a3f5f\",\"gridcolor\":\"#C8D4E3\",\"linecolor\":\"#C8D4E3\",\"minorgridcolor\":\"#C8D4E3\",\"startlinecolor\":\"#2a3f5f\"},\"baxis\":{\"endlinecolor\":\"#2a3f5f\",\"gridcolor\":\"#C8D4E3\",\"linecolor\":\"#C8D4E3\",\"minorgridcolor\":\"#C8D4E3\",\"startlinecolor\":\"#2a3f5f\"},\"type\":\"carpet\"}],\"choropleth\":[{\"colorbar\":{\"outlinewidth\":0,\"ticks\":\"\"},\"type\":\"choropleth\"}],\"contourcarpet\":[{\"colorbar\":{\"outlinewidth\":0,\"ticks\":\"\"},\"type\":\"contourcarpet\"}],\"contour\":[{\"colorbar\":{\"outlinewidth\":0,\"ticks\":\"\"},\"colorscale\":[[0.0,\"#0d0887\"],[0.1111111111111111,\"#46039f\"],[0.2222222222222222,\"#7201a8\"],[0.3333333333333333,\"#9c179e\"],[0.4444444444444444,\"#bd3786\"],[0.5555555555555556,\"#d8576b\"],[0.6666666666666666,\"#ed7953\"],[0.7777777777777778,\"#fb9f3a\"],[0.8888888888888888,\"#fdca26\"],[1.0,\"#f0f921\"]],\"type\":\"contour\"}],\"heatmapgl\":[{\"colorbar\":{\"outlinewidth\":0,\"ticks\":\"\"},\"colorscale\":[[0.0,\"#0d0887\"],[0.1111111111111111,\"#46039f\"],[0.2222222222222222,\"#7201a8\"],[0.3333333333333333,\"#9c179e\"],[0.4444444444444444,\"#bd3786\"],[0.5555555555555556,\"#d8576b\"],[0.6666666666666666,\"#ed7953\"],[0.7777777777777778,\"#fb9f3a\"],[0.8888888888888888,\"#fdca26\"],[1.0,\"#f0f921\"]],\"type\":\"heatmapgl\"}],\"heatmap\":[{\"colorbar\":{\"outlinewidth\":0,\"ticks\":\"\"},\"colorscale\":[[0.0,\"#0d0887\"],[0.1111111111111111,\"#46039f\"],[0.2222222222222222,\"#7201a8\"],[0.3333333333333333,\"#9c179e\"],[0.4444444444444444,\"#bd3786\"],[0.5555555555555556,\"#d8576b\"],[0.6666666666666666,\"#ed7953\"],[0.7777777777777778,\"#fb9f3a\"],[0.8888888888888888,\"#fdca26\"],[1.0,\"#f0f921\"]],\"type\":\"heatmap\"}],\"histogram2dcontour\":[{\"colorbar\":{\"outlinewidth\":0,\"ticks\":\"\"},\"colorscale\":[[0.0,\"#0d0887\"],[0.1111111111111111,\"#46039f\"],[0.2222222222222222,\"#7201a8\"],[0.3333333333333333,\"#9c179e\"],[0.4444444444444444,\"#bd3786\"],[0.5555555555555556,\"#d8576b\"],[0.6666666666666666,\"#ed7953\"],[0.7777777777777778,\"#fb9f3a\"],[0.8888888888888888,\"#fdca26\"],[1.0,\"#f0f921\"]],\"type\":\"histogram2dcontour\"}],\"histogram2d\":[{\"colorbar\":{\"outlinewidth\":0,\"ticks\":\"\"},\"colorscale\":[[0.0,\"#0d0887\"],[0.1111111111111111,\"#46039f\"],[0.2222222222222222,\"#7201a8\"],[0.3333333333333333,\"#9c179e\"],[0.4444444444444444,\"#bd3786\"],[0.5555555555555556,\"#d8576b\"],[0.6666666666666666,\"#ed7953\"],[0.7777777777777778,\"#fb9f3a\"],[0.8888888888888888,\"#fdca26\"],[1.0,\"#f0f921\"]],\"type\":\"histogram2d\"}],\"histogram\":[{\"marker\":{\"pattern\":{\"fillmode\":\"overlay\",\"size\":10,\"solidity\":0.2}},\"type\":\"histogram\"}],\"mesh3d\":[{\"colorbar\":{\"outlinewidth\":0,\"ticks\":\"\"},\"type\":\"mesh3d\"}],\"parcoords\":[{\"line\":{\"colorbar\":{\"outlinewidth\":0,\"ticks\":\"\"}},\"type\":\"parcoords\"}],\"pie\":[{\"automargin\":true,\"type\":\"pie\"}],\"scatter3d\":[{\"line\":{\"colorbar\":{\"outlinewidth\":0,\"ticks\":\"\"}},\"marker\":{\"colorbar\":{\"outlinewidth\":0,\"ticks\":\"\"}},\"type\":\"scatter3d\"}],\"scattercarpet\":[{\"marker\":{\"colorbar\":{\"outlinewidth\":0,\"ticks\":\"\"}},\"type\":\"scattercarpet\"}],\"scattergeo\":[{\"marker\":{\"colorbar\":{\"outlinewidth\":0,\"ticks\":\"\"}},\"type\":\"scattergeo\"}],\"scattergl\":[{\"marker\":{\"colorbar\":{\"outlinewidth\":0,\"ticks\":\"\"}},\"type\":\"scattergl\"}],\"scattermapbox\":[{\"marker\":{\"colorbar\":{\"outlinewidth\":0,\"ticks\":\"\"}},\"type\":\"scattermapbox\"}],\"scatterpolargl\":[{\"marker\":{\"colorbar\":{\"outlinewidth\":0,\"ticks\":\"\"}},\"type\":\"scatterpolargl\"}],\"scatterpolar\":[{\"marker\":{\"colorbar\":{\"outlinewidth\":0,\"ticks\":\"\"}},\"type\":\"scatterpolar\"}],\"scatter\":[{\"marker\":{\"colorbar\":{\"outlinewidth\":0,\"ticks\":\"\"}},\"type\":\"scatter\"}],\"scatterternary\":[{\"marker\":{\"colorbar\":{\"outlinewidth\":0,\"ticks\":\"\"}},\"type\":\"scatterternary\"}],\"surface\":[{\"colorbar\":{\"outlinewidth\":0,\"ticks\":\"\"},\"colorscale\":[[0.0,\"#0d0887\"],[0.1111111111111111,\"#46039f\"],[0.2222222222222222,\"#7201a8\"],[0.3333333333333333,\"#9c179e\"],[0.4444444444444444,\"#bd3786\"],[0.5555555555555556,\"#d8576b\"],[0.6666666666666666,\"#ed7953\"],[0.7777777777777778,\"#fb9f3a\"],[0.8888888888888888,\"#fdca26\"],[1.0,\"#f0f921\"]],\"type\":\"surface\"}],\"table\":[{\"cells\":{\"fill\":{\"color\":\"#EBF0F8\"},\"line\":{\"color\":\"white\"}},\"header\":{\"fill\":{\"color\":\"#C8D4E3\"},\"line\":{\"color\":\"white\"}},\"type\":\"table\"}]},\"layout\":{\"annotationdefaults\":{\"arrowcolor\":\"#2a3f5f\",\"arrowhead\":0,\"arrowwidth\":1},\"autotypenumbers\":\"strict\",\"coloraxis\":{\"colorbar\":{\"outlinewidth\":0,\"ticks\":\"\"}},\"colorscale\":{\"diverging\":[[0,\"#8e0152\"],[0.1,\"#c51b7d\"],[0.2,\"#de77ae\"],[0.3,\"#f1b6da\"],[0.4,\"#fde0ef\"],[0.5,\"#f7f7f7\"],[0.6,\"#e6f5d0\"],[0.7,\"#b8e186\"],[0.8,\"#7fbc41\"],[0.9,\"#4d9221\"],[1,\"#276419\"]],\"sequential\":[[0.0,\"#0d0887\"],[0.1111111111111111,\"#46039f\"],[0.2222222222222222,\"#7201a8\"],[0.3333333333333333,\"#9c179e\"],[0.4444444444444444,\"#bd3786\"],[0.5555555555555556,\"#d8576b\"],[0.6666666666666666,\"#ed7953\"],[0.7777777777777778,\"#fb9f3a\"],[0.8888888888888888,\"#fdca26\"],[1.0,\"#f0f921\"]],\"sequentialminus\":[[0.0,\"#0d0887\"],[0.1111111111111111,\"#46039f\"],[0.2222222222222222,\"#7201a8\"],[0.3333333333333333,\"#9c179e\"],[0.4444444444444444,\"#bd3786\"],[0.5555555555555556,\"#d8576b\"],[0.6666666666666666,\"#ed7953\"],[0.7777777777777778,\"#fb9f3a\"],[0.8888888888888888,\"#fdca26\"],[1.0,\"#f0f921\"]]},\"colorway\":[\"#636efa\",\"#EF553B\",\"#00cc96\",\"#ab63fa\",\"#FFA15A\",\"#19d3f3\",\"#FF6692\",\"#B6E880\",\"#FF97FF\",\"#FECB52\"],\"font\":{\"color\":\"#2a3f5f\"},\"geo\":{\"bgcolor\":\"white\",\"lakecolor\":\"white\",\"landcolor\":\"white\",\"showlakes\":true,\"showland\":true,\"subunitcolor\":\"#C8D4E3\"},\"hoverlabel\":{\"align\":\"left\"},\"hovermode\":\"closest\",\"mapbox\":{\"style\":\"light\"},\"paper_bgcolor\":\"white\",\"plot_bgcolor\":\"white\",\"polar\":{\"angularaxis\":{\"gridcolor\":\"#EBF0F8\",\"linecolor\":\"#EBF0F8\",\"ticks\":\"\"},\"bgcolor\":\"white\",\"radialaxis\":{\"gridcolor\":\"#EBF0F8\",\"linecolor\":\"#EBF0F8\",\"ticks\":\"\"}},\"scene\":{\"xaxis\":{\"backgroundcolor\":\"white\",\"gridcolor\":\"#DFE8F3\",\"gridwidth\":2,\"linecolor\":\"#EBF0F8\",\"showbackground\":true,\"ticks\":\"\",\"zerolinecolor\":\"#EBF0F8\"},\"yaxis\":{\"backgroundcolor\":\"white\",\"gridcolor\":\"#DFE8F3\",\"gridwidth\":2,\"linecolor\":\"#EBF0F8\",\"showbackground\":true,\"ticks\":\"\",\"zerolinecolor\":\"#EBF0F8\"},\"zaxis\":{\"backgroundcolor\":\"white\",\"gridcolor\":\"#DFE8F3\",\"gridwidth\":2,\"linecolor\":\"#EBF0F8\",\"showbackground\":true,\"ticks\":\"\",\"zerolinecolor\":\"#EBF0F8\"}},\"shapedefaults\":{\"line\":{\"color\":\"#2a3f5f\"}},\"ternary\":{\"aaxis\":{\"gridcolor\":\"#DFE8F3\",\"linecolor\":\"#A2B1C6\",\"ticks\":\"\"},\"baxis\":{\"gridcolor\":\"#DFE8F3\",\"linecolor\":\"#A2B1C6\",\"ticks\":\"\"},\"bgcolor\":\"white\",\"caxis\":{\"gridcolor\":\"#DFE8F3\",\"linecolor\":\"#A2B1C6\",\"ticks\":\"\"}},\"title\":{\"x\":0.05},\"xaxis\":{\"automargin\":true,\"gridcolor\":\"#EBF0F8\",\"linecolor\":\"#EBF0F8\",\"ticks\":\"\",\"title\":{\"standoff\":15},\"zerolinecolor\":\"#EBF0F8\",\"zerolinewidth\":2},\"yaxis\":{\"automargin\":true,\"gridcolor\":\"#EBF0F8\",\"linecolor\":\"#EBF0F8\",\"ticks\":\"\",\"title\":{\"standoff\":15},\"zerolinecolor\":\"#EBF0F8\",\"zerolinewidth\":2}}},\"xaxis\":{\"anchor\":\"y\",\"domain\":[0.0,1.0],\"title\":{\"text\":\"Age\"}},\"yaxis\":{\"anchor\":\"x\",\"domain\":[0.0,0.7326],\"title\":{\"text\":\"count\"}},\"xaxis2\":{\"anchor\":\"y2\",\"domain\":[0.0,1.0],\"matches\":\"x\",\"showticklabels\":false,\"showgrid\":true},\"yaxis2\":{\"anchor\":\"x2\",\"domain\":[0.7426,1.0],\"matches\":\"y2\",\"showticklabels\":false,\"showline\":false,\"ticks\":\"\",\"showgrid\":false},\"legend\":{\"title\":{\"text\":\"type\"},\"tracegroupgap\":0},\"margin\":{\"t\":60},\"barmode\":\"relative\",\"title\":{\"text\":\"Distribution of Age\",\"x\":0.5}},                        {\"responsive\": true}                    ).then(function(){\n",
       "                            \n",
       "var gd = document.getElementById('1cfdf0a0-b987-44e2-912b-6828d015dfa1');\n",
       "var x = new MutationObserver(function (mutations, observer) {{\n",
       "        var display = window.getComputedStyle(gd).display;\n",
       "        if (!display || display === 'none') {{\n",
       "            console.log([gd, 'removed!']);\n",
       "            Plotly.purge(gd);\n",
       "            observer.disconnect();\n",
       "        }}\n",
       "}});\n",
       "\n",
       "// Listen for the removal of the full notebook cells\n",
       "var notebookContainer = gd.closest('#notebook-container');\n",
       "if (notebookContainer) {{\n",
       "    x.observe(notebookContainer, {childList: true});\n",
       "}}\n",
       "\n",
       "// Listen for the clearing of the current output cell\n",
       "var outputEl = gd.closest('.output');\n",
       "if (outputEl) {{\n",
       "    x.observe(outputEl, {childList: true});\n",
       "}}\n",
       "\n",
       "                        })                };                });            </script>        </div>"
      ]
     },
     "metadata": {},
     "output_type": "display_data"
    }
   ],
   "source": [
    "train_age = train.copy()\n",
    "test_age = test.copy()\n",
    "train_age[\"type\"] = \"Train\"\n",
    "test_age[\"type\"] = \"Test\"\n",
    "ageDf = pd.concat([train_age, test_age])\n",
    "fig = px.histogram(data_frame = ageDf,\n",
    "                   x = \"Age\",\n",
    "                   color = \"type\",\n",
    "                   color_discrete_sequence = ['#58D68D', '#DE3163'],\n",
    "                   marginal = \"box\",\n",
    "                   nbins = 100,\n",
    "                   template = \"plotly_white\")\n",
    "\n",
    "fig.update_layout(title = \"Distribution of Age\", title_x = 0.5)\n",
    "fig.show()"
   ]
  },
  {
   "cell_type": "markdown",
   "id": "3386a883",
   "metadata": {
    "papermill": {
     "duration": 0.079522,
     "end_time": "2022-04-03T13:13:14.554667",
     "exception": false,
     "start_time": "2022-04-03T13:13:14.475145",
     "status": "completed"
    },
    "tags": []
   },
   "source": [
    "### Feature Distribution of Categorical Features"
   ]
  },
  {
   "cell_type": "code",
   "execution_count": 24,
   "id": "3927f83a",
   "metadata": {
    "execution": {
     "iopub.execute_input": "2022-04-03T13:13:14.723501Z",
     "iopub.status.busy": "2022-04-03T13:13:14.722459Z",
     "iopub.status.idle": "2022-04-03T13:13:15.399780Z",
     "shell.execute_reply": "2022-04-03T13:13:15.399192Z",
     "shell.execute_reply.started": "2022-04-01T07:59:39.773969Z"
    },
    "papermill": {
     "duration": 0.7679,
     "end_time": "2022-04-03T13:13:15.399928",
     "exception": false,
     "start_time": "2022-04-03T13:13:14.632028",
     "status": "completed"
    },
    "tags": []
   },
   "outputs": [
    {
     "data": {
      "image/png": "[encoded data removed]",
      "text/plain": [
       "<Figure size 1296x720 with 4 Axes>"
      ]
     },
     "metadata": {
      "needs_background": "light"
     },
     "output_type": "display_data"
    }
   ],
   "source": [
    "if (len(cat_features) == 0) :\n",
    "    print(\"No Categorical features\")\n",
    "else :\n",
    "    ncols = 2\n",
    "    nrows = 2\n",
    "    \n",
    "    fig, axes = plt.subplots(nrows, ncols, figsize = (18, 10))\n",
    "    for r in range(nrows) :\n",
    "        for c in range(ncols) :\n",
    "            col = cat_features[r * ncols * c]\n",
    "            sns.countplot(train[col], ax = axes[r, c], palette = \"viridis\", label = 'Train data')\n",
    "            sns.countplot(test[col], ax = axes[r, c], palette = \"magma\", label = 'Test data')\n",
    "            axes[r, c].legend()\n",
    "            axes[r, c].set_ylabel('')\n",
    "            axes[r, c].set_xlabel(col, fontsize = 20)\n",
    "            axes[r, c].tick_params(labelsize = 10, width = 0.5)\n",
    "            axes[r, c].xaxis.offsetText.set_fontsize(4)\n",
    "            axes[r, c].yaxis.offsetText.set_fontsize(4)\n",
    "    \n",
    "    plt.show()"
   ]
  },
  {
   "cell_type": "markdown",
   "id": "bc09526d",
   "metadata": {
    "papermill": {
     "duration": 0.072526,
     "end_time": "2022-04-03T13:13:15.544685",
     "exception": false,
     "start_time": "2022-04-03T13:13:15.472159",
     "status": "completed"
    },
    "tags": []
   },
   "source": [
    "### Target Distribution\n",
    "\n",
    "📌  Observations in Null Value Distribution :\n",
    "* There are two target values - 0 and 1.\n",
    "* Both the target values are almost equally distributed."
   ]
  },
  {
   "cell_type": "markdown",
   "id": "2f3ff6ef",
   "metadata": {
    "papermill": {
     "duration": 0.07235,
     "end_time": "2022-04-03T13:13:15.691225",
     "exception": false,
     "start_time": "2022-04-03T13:13:15.618875",
     "status": "completed"
    },
    "tags": []
   },
   "source": [
    "📌 Null 값 분포에서의 관측치:\n",
    "* 목표값에는 0과 1의 두 가지가 있습니다.\n",
    "* 두 목표값은 거의 균등하게 분포되어 있습니다."
   ]
  },
  {
   "cell_type": "code",
   "execution_count": 25,
   "id": "f742d792",
   "metadata": {
    "execution": {
     "iopub.execute_input": "2022-04-03T13:13:15.859591Z",
     "iopub.status.busy": "2022-04-03T13:13:15.845410Z",
     "iopub.status.idle": "2022-04-03T13:13:15.949706Z",
     "shell.execute_reply": "2022-04-03T13:13:15.950160Z",
     "shell.execute_reply.started": "2022-04-01T07:59:40.457534Z"
    },
    "papermill": {
     "duration": 0.186257,
     "end_time": "2022-04-03T13:13:15.950330",
     "exception": false,
     "start_time": "2022-04-03T13:13:15.764073",
     "status": "completed"
    },
    "tags": []
   },
   "outputs": [
    {
     "name": "stdout",
     "output_type": "stream",
     "text": [
      "\u001b[94mPercentage of Transported = 0: 50.36 %\n",
      "\u001b[94mPercentage of Transported = 1: 49.64 %\n"
     ]
    },
    {
     "data": {
      "text/html": [
       "<div>                            <div id=\"661a81f3-547a-4e22-bac6-0d2a1868877a\" class=\"plotly-graph-div\" style=\"height:525px; width:100%;\"></div>            <script type=\"text/javascript\">                require([\"plotly\"], function(Plotly) {                    window.PLOTLYENV=window.PLOTLYENV || {};                                    if (document.getElementById(\"661a81f3-547a-4e22-bac6-0d2a1868877a\")) {                    Plotly.newPlot(                        \"661a81f3-547a-4e22-bac6-0d2a1868877a\",                        [{\"alignmentgroup\":\"True\",\"hovertemplate\":\"Transported=%{x}<br>count=%{y}<extra></extra>\",\"legendgroup\":\"\",\"marker\":{\"color\":[\"#58D68D\",\"#DE3163\"],\"pattern\":{\"shape\":\"\"},\"line\":{\"color\":\"rgb(0,0,0)\",\"width\":2}},\"name\":\"\",\"offsetgroup\":\"\",\"orientation\":\"v\",\"showlegend\":false,\"textposition\":\"auto\",\"x\":[true,false],\"xaxis\":\"x\",\"y\":[4378,4315],\"yaxis\":\"y\",\"type\":\"bar\"}],                        {\"template\":{\"data\":{\"barpolar\":[{\"marker\":{\"line\":{\"color\":\"white\",\"width\":0.5},\"pattern\":{\"fillmode\":\"overlay\",\"size\":10,\"solidity\":0.2}},\"type\":\"barpolar\"}],\"bar\":[{\"error_x\":{\"color\":\"#2a3f5f\"},\"error_y\":{\"color\":\"#2a3f5f\"},\"marker\":{\"line\":{\"color\":\"white\",\"width\":0.5},\"pattern\":{\"fillmode\":\"overlay\",\"size\":10,\"solidity\":0.2}},\"type\":\"bar\"}],\"carpet\":[{\"aaxis\":{\"endlinecolor\":\"#2a3f5f\",\"gridcolor\":\"#C8D4E3\",\"linecolor\":\"#C8D4E3\",\"minorgridcolor\":\"#C8D4E3\",\"startlinecolor\":\"#2a3f5f\"},\"baxis\":{\"endlinecolor\":\"#2a3f5f\",\"gridcolor\":\"#C8D4E3\",\"linecolor\":\"#C8D4E3\",\"minorgridcolor\":\"#C8D4E3\",\"startlinecolor\":\"#2a3f5f\"},\"type\":\"carpet\"}],\"choropleth\":[{\"colorbar\":{\"outlinewidth\":0,\"ticks\":\"\"},\"type\":\"choropleth\"}],\"contourcarpet\":[{\"colorbar\":{\"outlinewidth\":0,\"ticks\":\"\"},\"type\":\"contourcarpet\"}],\"contour\":[{\"colorbar\":{\"outlinewidth\":0,\"ticks\":\"\"},\"colorscale\":[[0.0,\"#0d0887\"],[0.1111111111111111,\"#46039f\"],[0.2222222222222222,\"#7201a8\"],[0.3333333333333333,\"#9c179e\"],[0.4444444444444444,\"#bd3786\"],[0.5555555555555556,\"#d8576b\"],[0.6666666666666666,\"#ed7953\"],[0.7777777777777778,\"#fb9f3a\"],[0.8888888888888888,\"#fdca26\"],[1.0,\"#f0f921\"]],\"type\":\"contour\"}],\"heatmapgl\":[{\"colorbar\":{\"outlinewidth\":0,\"ticks\":\"\"},\"colorscale\":[[0.0,\"#0d0887\"],[0.1111111111111111,\"#46039f\"],[0.2222222222222222,\"#7201a8\"],[0.3333333333333333,\"#9c179e\"],[0.4444444444444444,\"#bd3786\"],[0.5555555555555556,\"#d8576b\"],[0.6666666666666666,\"#ed7953\"],[0.7777777777777778,\"#fb9f3a\"],[0.8888888888888888,\"#fdca26\"],[1.0,\"#f0f921\"]],\"type\":\"heatmapgl\"}],\"heatmap\":[{\"colorbar\":{\"outlinewidth\":0,\"ticks\":\"\"},\"colorscale\":[[0.0,\"#0d0887\"],[0.1111111111111111,\"#46039f\"],[0.2222222222222222,\"#7201a8\"],[0.3333333333333333,\"#9c179e\"],[0.4444444444444444,\"#bd3786\"],[0.5555555555555556,\"#d8576b\"],[0.6666666666666666,\"#ed7953\"],[0.7777777777777778,\"#fb9f3a\"],[0.8888888888888888,\"#fdca26\"],[1.0,\"#f0f921\"]],\"type\":\"heatmap\"}],\"histogram2dcontour\":[{\"colorbar\":{\"outlinewidth\":0,\"ticks\":\"\"},\"colorscale\":[[0.0,\"#0d0887\"],[0.1111111111111111,\"#46039f\"],[0.2222222222222222,\"#7201a8\"],[0.3333333333333333,\"#9c179e\"],[0.4444444444444444,\"#bd3786\"],[0.5555555555555556,\"#d8576b\"],[0.6666666666666666,\"#ed7953\"],[0.7777777777777778,\"#fb9f3a\"],[0.8888888888888888,\"#fdca26\"],[1.0,\"#f0f921\"]],\"type\":\"histogram2dcontour\"}],\"histogram2d\":[{\"colorbar\":{\"outlinewidth\":0,\"ticks\":\"\"},\"colorscale\":[[0.0,\"#0d0887\"],[0.1111111111111111,\"#46039f\"],[0.2222222222222222,\"#7201a8\"],[0.3333333333333333,\"#9c179e\"],[0.4444444444444444,\"#bd3786\"],[0.5555555555555556,\"#d8576b\"],[0.6666666666666666,\"#ed7953\"],[0.7777777777777778,\"#fb9f3a\"],[0.8888888888888888,\"#fdca26\"],[1.0,\"#f0f921\"]],\"type\":\"histogram2d\"}],\"histogram\":[{\"marker\":{\"pattern\":{\"fillmode\":\"overlay\",\"size\":10,\"solidity\":0.2}},\"type\":\"histogram\"}],\"mesh3d\":[{\"colorbar\":{\"outlinewidth\":0,\"ticks\":\"\"},\"type\":\"mesh3d\"}],\"parcoords\":[{\"line\":{\"colorbar\":{\"outlinewidth\":0,\"ticks\":\"\"}},\"type\":\"parcoords\"}],\"pie\":[{\"automargin\":true,\"type\":\"pie\"}],\"scatter3d\":[{\"line\":{\"colorbar\":{\"outlinewidth\":0,\"ticks\":\"\"}},\"marker\":{\"colorbar\":{\"outlinewidth\":0,\"ticks\":\"\"}},\"type\":\"scatter3d\"}],\"scattercarpet\":[{\"marker\":{\"colorbar\":{\"outlinewidth\":0,\"ticks\":\"\"}},\"type\":\"scattercarpet\"}],\"scattergeo\":[{\"marker\":{\"colorbar\":{\"outlinewidth\":0,\"ticks\":\"\"}},\"type\":\"scattergeo\"}],\"scattergl\":[{\"marker\":{\"colorbar\":{\"outlinewidth\":0,\"ticks\":\"\"}},\"type\":\"scattergl\"}],\"scattermapbox\":[{\"marker\":{\"colorbar\":{\"outlinewidth\":0,\"ticks\":\"\"}},\"type\":\"scattermapbox\"}],\"scatterpolargl\":[{\"marker\":{\"colorbar\":{\"outlinewidth\":0,\"ticks\":\"\"}},\"type\":\"scatterpolargl\"}],\"scatterpolar\":[{\"marker\":{\"colorbar\":{\"outlinewidth\":0,\"ticks\":\"\"}},\"type\":\"scatterpolar\"}],\"scatter\":[{\"marker\":{\"colorbar\":{\"outlinewidth\":0,\"ticks\":\"\"}},\"type\":\"scatter\"}],\"scatterternary\":[{\"marker\":{\"colorbar\":{\"outlinewidth\":0,\"ticks\":\"\"}},\"type\":\"scatterternary\"}],\"surface\":[{\"colorbar\":{\"outlinewidth\":0,\"ticks\":\"\"},\"colorscale\":[[0.0,\"#0d0887\"],[0.1111111111111111,\"#46039f\"],[0.2222222222222222,\"#7201a8\"],[0.3333333333333333,\"#9c179e\"],[0.4444444444444444,\"#bd3786\"],[0.5555555555555556,\"#d8576b\"],[0.6666666666666666,\"#ed7953\"],[0.7777777777777778,\"#fb9f3a\"],[0.8888888888888888,\"#fdca26\"],[1.0,\"#f0f921\"]],\"type\":\"surface\"}],\"table\":[{\"cells\":{\"fill\":{\"color\":\"#EBF0F8\"},\"line\":{\"color\":\"white\"}},\"header\":{\"fill\":{\"color\":\"#C8D4E3\"},\"line\":{\"color\":\"white\"}},\"type\":\"table\"}]},\"layout\":{\"annotationdefaults\":{\"arrowcolor\":\"#2a3f5f\",\"arrowhead\":0,\"arrowwidth\":1},\"autotypenumbers\":\"strict\",\"coloraxis\":{\"colorbar\":{\"outlinewidth\":0,\"ticks\":\"\"}},\"colorscale\":{\"diverging\":[[0,\"#8e0152\"],[0.1,\"#c51b7d\"],[0.2,\"#de77ae\"],[0.3,\"#f1b6da\"],[0.4,\"#fde0ef\"],[0.5,\"#f7f7f7\"],[0.6,\"#e6f5d0\"],[0.7,\"#b8e186\"],[0.8,\"#7fbc41\"],[0.9,\"#4d9221\"],[1,\"#276419\"]],\"sequential\":[[0.0,\"#0d0887\"],[0.1111111111111111,\"#46039f\"],[0.2222222222222222,\"#7201a8\"],[0.3333333333333333,\"#9c179e\"],[0.4444444444444444,\"#bd3786\"],[0.5555555555555556,\"#d8576b\"],[0.6666666666666666,\"#ed7953\"],[0.7777777777777778,\"#fb9f3a\"],[0.8888888888888888,\"#fdca26\"],[1.0,\"#f0f921\"]],\"sequentialminus\":[[0.0,\"#0d0887\"],[0.1111111111111111,\"#46039f\"],[0.2222222222222222,\"#7201a8\"],[0.3333333333333333,\"#9c179e\"],[0.4444444444444444,\"#bd3786\"],[0.5555555555555556,\"#d8576b\"],[0.6666666666666666,\"#ed7953\"],[0.7777777777777778,\"#fb9f3a\"],[0.8888888888888888,\"#fdca26\"],[1.0,\"#f0f921\"]]},\"colorway\":[\"#636efa\",\"#EF553B\",\"#00cc96\",\"#ab63fa\",\"#FFA15A\",\"#19d3f3\",\"#FF6692\",\"#B6E880\",\"#FF97FF\",\"#FECB52\"],\"font\":{\"color\":\"#2a3f5f\"},\"geo\":{\"bgcolor\":\"white\",\"lakecolor\":\"white\",\"landcolor\":\"white\",\"showlakes\":true,\"showland\":true,\"subunitcolor\":\"#C8D4E3\"},\"hoverlabel\":{\"align\":\"left\"},\"hovermode\":\"closest\",\"mapbox\":{\"style\":\"light\"},\"paper_bgcolor\":\"white\",\"plot_bgcolor\":\"white\",\"polar\":{\"angularaxis\":{\"gridcolor\":\"#EBF0F8\",\"linecolor\":\"#EBF0F8\",\"ticks\":\"\"},\"bgcolor\":\"white\",\"radialaxis\":{\"gridcolor\":\"#EBF0F8\",\"linecolor\":\"#EBF0F8\",\"ticks\":\"\"}},\"scene\":{\"xaxis\":{\"backgroundcolor\":\"white\",\"gridcolor\":\"#DFE8F3\",\"gridwidth\":2,\"linecolor\":\"#EBF0F8\",\"showbackground\":true,\"ticks\":\"\",\"zerolinecolor\":\"#EBF0F8\"},\"yaxis\":{\"backgroundcolor\":\"white\",\"gridcolor\":\"#DFE8F3\",\"gridwidth\":2,\"linecolor\":\"#EBF0F8\",\"showbackground\":true,\"ticks\":\"\",\"zerolinecolor\":\"#EBF0F8\"},\"zaxis\":{\"backgroundcolor\":\"white\",\"gridcolor\":\"#DFE8F3\",\"gridwidth\":2,\"linecolor\":\"#EBF0F8\",\"showbackground\":true,\"ticks\":\"\",\"zerolinecolor\":\"#EBF0F8\"}},\"shapedefaults\":{\"line\":{\"color\":\"#2a3f5f\"}},\"ternary\":{\"aaxis\":{\"gridcolor\":\"#DFE8F3\",\"linecolor\":\"#A2B1C6\",\"ticks\":\"\"},\"baxis\":{\"gridcolor\":\"#DFE8F3\",\"linecolor\":\"#A2B1C6\",\"ticks\":\"\"},\"bgcolor\":\"white\",\"caxis\":{\"gridcolor\":\"#DFE8F3\",\"linecolor\":\"#A2B1C6\",\"ticks\":\"\"}},\"title\":{\"x\":0.05},\"xaxis\":{\"automargin\":true,\"gridcolor\":\"#EBF0F8\",\"linecolor\":\"#EBF0F8\",\"ticks\":\"\",\"title\":{\"standoff\":15},\"zerolinecolor\":\"#EBF0F8\",\"zerolinewidth\":2},\"yaxis\":{\"automargin\":true,\"gridcolor\":\"#EBF0F8\",\"linecolor\":\"#EBF0F8\",\"ticks\":\"\",\"title\":{\"standoff\":15},\"zerolinecolor\":\"#EBF0F8\",\"zerolinewidth\":2}}},\"xaxis\":{\"anchor\":\"y\",\"domain\":[0.0,1.0],\"title\":{\"text\":\"Transported\"}},\"yaxis\":{\"anchor\":\"x\",\"domain\":[0.0,1.0],\"title\":{\"text\":\"count\"}},\"legend\":{\"tracegroupgap\":0},\"margin\":{\"t\":60},\"barmode\":\"relative\",\"title\":{\"text\":\"Target Distribution\",\"x\":0.5}},                        {\"responsive\": true}                    ).then(function(){\n",
       "                            \n",
       "var gd = document.getElementById('661a81f3-547a-4e22-bac6-0d2a1868877a');\n",
       "var x = new MutationObserver(function (mutations, observer) {{\n",
       "        var display = window.getComputedStyle(gd).display;\n",
       "        if (!display || display === 'none') {{\n",
       "            console.log([gd, 'removed!']);\n",
       "            Plotly.purge(gd);\n",
       "            observer.disconnect();\n",
       "        }}\n",
       "}});\n",
       "\n",
       "// Listen for the removal of the full notebook cells\n",
       "var notebookContainer = gd.closest('#notebook-container');\n",
       "if (notebookContainer) {{\n",
       "    x.observe(notebookContainer, {childList: true});\n",
       "}}\n",
       "\n",
       "// Listen for the clearing of the current output cell\n",
       "var outputEl = gd.closest('.output');\n",
       "if (outputEl) {{\n",
       "    x.observe(outputEl, {childList: true});\n",
       "}}\n",
       "\n",
       "                        })                };                });            </script>        </div>"
      ]
     },
     "metadata": {},
     "output_type": "display_data"
    }
   ],
   "source": [
    "target_df = pd.DataFrame(train[TARGET].value_counts()).reset_index()\n",
    "target_df.columns = [TARGET, 'count']\n",
    "fig = px.bar(data_frame = target_df,\n",
    "             x = TARGET,\n",
    "             y = 'count')\n",
    "\n",
    "fig.update_traces(marker_color = ['#58D68D', '#DE3163'],\n",
    "                  marker_line_color = 'rgb(0, 0, 0)',\n",
    "                  marker_line_width = 2)\n",
    "\n",
    "fig.update_traces(marker_color = ['#58D68D', '#DE3163'], \n",
    "                  marker_line_color = 'rgb(0,0,0)',\n",
    "                  marker_line_width = 2)\n",
    "fig.update_layout(title = \"Target Distribution\",\n",
    "                  template = \"plotly_white\",\n",
    "                  title_x = 0.5)\n",
    "print(\"\\033[94mPercentage of Transported = 0: {:.2f} %\".format(target_df[\"count\"][0] * 100 / train.shape[0]))\n",
    "print(\"\\033[94mPercentage of Transported = 1: {:.2f} %\".format(target_df[\"count\"][1] * 100 / train.shape[0]))\n",
    "fig.show()"
   ]
  },
  {
   "cell_type": "markdown",
   "id": "d32b383b",
   "metadata": {
    "papermill": {
     "duration": 0.073232,
     "end_time": "2022-04-03T13:13:16.097120",
     "exception": false,
     "start_time": "2022-04-03T13:13:16.023888",
     "status": "completed"
    },
    "tags": []
   },
   "source": [
    "### Correlation matrix"
   ]
  },
  {
   "cell_type": "code",
   "execution_count": 26,
   "id": "0a59e7d9",
   "metadata": {
    "execution": {
     "iopub.execute_input": "2022-04-03T13:13:16.251718Z",
     "iopub.status.busy": "2022-04-03T13:13:16.250734Z",
     "iopub.status.idle": "2022-04-03T13:13:16.315639Z",
     "shell.execute_reply": "2022-04-03T13:13:16.315058Z",
     "shell.execute_reply.started": "2022-04-01T07:59:40.569182Z"
    },
    "papermill": {
     "duration": 0.144462,
     "end_time": "2022-04-03T13:13:16.315798",
     "exception": false,
     "start_time": "2022-04-03T13:13:16.171336",
     "status": "completed"
    },
    "tags": []
   },
   "outputs": [
    {
     "data": {
      "text/html": [
       "<div>                            <div id=\"9fa7fe7a-cfaf-4573-8da9-d4cc8e7cd16b\" class=\"plotly-graph-div\" style=\"height:525px; width:100%;\"></div>            <script type=\"text/javascript\">                require([\"plotly\"], function(Plotly) {                    window.PLOTLYENV=window.PLOTLYENV || {};                                    if (document.getElementById(\"9fa7fe7a-cfaf-4573-8da9-d4cc8e7cd16b\")) {                    Plotly.newPlot(                        \"9fa7fe7a-cfaf-4573-8da9-d4cc8e7cd16b\",                        [{\"coloraxis\":\"coloraxis\",\"name\":\"0\",\"texttemplate\":\"%{z}\",\"x\":[\"Age\",\"RoomService\",\"FoodCourt\",\"ShoppingMall\",\"Spa\",\"VRDeck\",\"Transported\"],\"y\":[\"Age\",\"RoomService\",\"FoodCourt\",\"ShoppingMall\",\"Spa\",\"VRDeck\",\"Transported\"],\"z\":[[1.0,0.06872304411557698,0.1304209544320568,0.033132616182053966,0.12397032353133916,0.10100728890306833,-0.07502558362232603],[0.06872304411557698,1.0,-0.015888939359238876,0.05448032028344189,0.010079520358470088,-0.019581492428894107,-0.24461142158527635],[0.1304209544320568,-0.015888939359238876,1.0,-0.014227745561335022,0.22189053354751054,0.22799541000479612,0.04656639376472198],[0.033132616182053966,0.05448032028344189,-0.014227745561335022,1.0,0.013878590426088801,-0.007321714557183197,0.010140890024277142],[0.12397032353133916,0.010079520358470088,0.22189053354751054,0.013878590426088801,1.0,0.15382122542139506,-0.22113134924572775],[0.10100728890306833,-0.019581492428894107,0.22799541000479612,-0.007321714557183197,0.15382122542139506,1.0,-0.20707538958428962],[-0.07502558362232603,-0.24461142158527635,0.04656639376472198,0.010140890024277142,-0.22113134924572775,-0.20707538958428962,1.0]],\"type\":\"heatmap\",\"xaxis\":\"x\",\"yaxis\":\"y\",\"hovertemplate\":\"x: %{x}<br>y: %{y}<br>color: %{z}<extra></extra>\"}],                        {\"template\":{\"data\":{\"bar\":[{\"error_x\":{\"color\":\"#2a3f5f\"},\"error_y\":{\"color\":\"#2a3f5f\"},\"marker\":{\"line\":{\"color\":\"#E5ECF6\",\"width\":0.5},\"pattern\":{\"fillmode\":\"overlay\",\"size\":10,\"solidity\":0.2}},\"type\":\"bar\"}],\"barpolar\":[{\"marker\":{\"line\":{\"color\":\"#E5ECF6\",\"width\":0.5},\"pattern\":{\"fillmode\":\"overlay\",\"size\":10,\"solidity\":0.2}},\"type\":\"barpolar\"}],\"carpet\":[{\"aaxis\":{\"endlinecolor\":\"#2a3f5f\",\"gridcolor\":\"white\",\"linecolor\":\"white\",\"minorgridcolor\":\"white\",\"startlinecolor\":\"#2a3f5f\"},\"baxis\":{\"endlinecolor\":\"#2a3f5f\",\"gridcolor\":\"white\",\"linecolor\":\"white\",\"minorgridcolor\":\"white\",\"startlinecolor\":\"#2a3f5f\"},\"type\":\"carpet\"}],\"choropleth\":[{\"colorbar\":{\"outlinewidth\":0,\"ticks\":\"\"},\"type\":\"choropleth\"}],\"contour\":[{\"colorbar\":{\"outlinewidth\":0,\"ticks\":\"\"},\"colorscale\":[[0.0,\"#0d0887\"],[0.1111111111111111,\"#46039f\"],[0.2222222222222222,\"#7201a8\"],[0.3333333333333333,\"#9c179e\"],[0.4444444444444444,\"#bd3786\"],[0.5555555555555556,\"#d8576b\"],[0.6666666666666666,\"#ed7953\"],[0.7777777777777778,\"#fb9f3a\"],[0.8888888888888888,\"#fdca26\"],[1.0,\"#f0f921\"]],\"type\":\"contour\"}],\"contourcarpet\":[{\"colorbar\":{\"outlinewidth\":0,\"ticks\":\"\"},\"type\":\"contourcarpet\"}],\"heatmap\":[{\"colorbar\":{\"outlinewidth\":0,\"ticks\":\"\"},\"colorscale\":[[0.0,\"#0d0887\"],[0.1111111111111111,\"#46039f\"],[0.2222222222222222,\"#7201a8\"],[0.3333333333333333,\"#9c179e\"],[0.4444444444444444,\"#bd3786\"],[0.5555555555555556,\"#d8576b\"],[0.6666666666666666,\"#ed7953\"],[0.7777777777777778,\"#fb9f3a\"],[0.8888888888888888,\"#fdca26\"],[1.0,\"#f0f921\"]],\"type\":\"heatmap\"}],\"heatmapgl\":[{\"colorbar\":{\"outlinewidth\":0,\"ticks\":\"\"},\"colorscale\":[[0.0,\"#0d0887\"],[0.1111111111111111,\"#46039f\"],[0.2222222222222222,\"#7201a8\"],[0.3333333333333333,\"#9c179e\"],[0.4444444444444444,\"#bd3786\"],[0.5555555555555556,\"#d8576b\"],[0.6666666666666666,\"#ed7953\"],[0.7777777777777778,\"#fb9f3a\"],[0.8888888888888888,\"#fdca26\"],[1.0,\"#f0f921\"]],\"type\":\"heatmapgl\"}],\"histogram\":[{\"marker\":{\"pattern\":{\"fillmode\":\"overlay\",\"size\":10,\"solidity\":0.2}},\"type\":\"histogram\"}],\"histogram2d\":[{\"colorbar\":{\"outlinewidth\":0,\"ticks\":\"\"},\"colorscale\":[[0.0,\"#0d0887\"],[0.1111111111111111,\"#46039f\"],[0.2222222222222222,\"#7201a8\"],[0.3333333333333333,\"#9c179e\"],[0.4444444444444444,\"#bd3786\"],[0.5555555555555556,\"#d8576b\"],[0.6666666666666666,\"#ed7953\"],[0.7777777777777778,\"#fb9f3a\"],[0.8888888888888888,\"#fdca26\"],[1.0,\"#f0f921\"]],\"type\":\"histogram2d\"}],\"histogram2dcontour\":[{\"colorbar\":{\"outlinewidth\":0,\"ticks\":\"\"},\"colorscale\":[[0.0,\"#0d0887\"],[0.1111111111111111,\"#46039f\"],[0.2222222222222222,\"#7201a8\"],[0.3333333333333333,\"#9c179e\"],[0.4444444444444444,\"#bd3786\"],[0.5555555555555556,\"#d8576b\"],[0.6666666666666666,\"#ed7953\"],[0.7777777777777778,\"#fb9f3a\"],[0.8888888888888888,\"#fdca26\"],[1.0,\"#f0f921\"]],\"type\":\"histogram2dcontour\"}],\"mesh3d\":[{\"colorbar\":{\"outlinewidth\":0,\"ticks\":\"\"},\"type\":\"mesh3d\"}],\"parcoords\":[{\"line\":{\"colorbar\":{\"outlinewidth\":0,\"ticks\":\"\"}},\"type\":\"parcoords\"}],\"pie\":[{\"automargin\":true,\"type\":\"pie\"}],\"scatter\":[{\"marker\":{\"colorbar\":{\"outlinewidth\":0,\"ticks\":\"\"}},\"type\":\"scatter\"}],\"scatter3d\":[{\"line\":{\"colorbar\":{\"outlinewidth\":0,\"ticks\":\"\"}},\"marker\":{\"colorbar\":{\"outlinewidth\":0,\"ticks\":\"\"}},\"type\":\"scatter3d\"}],\"scattercarpet\":[{\"marker\":{\"colorbar\":{\"outlinewidth\":0,\"ticks\":\"\"}},\"type\":\"scattercarpet\"}],\"scattergeo\":[{\"marker\":{\"colorbar\":{\"outlinewidth\":0,\"ticks\":\"\"}},\"type\":\"scattergeo\"}],\"scattergl\":[{\"marker\":{\"colorbar\":{\"outlinewidth\":0,\"ticks\":\"\"}},\"type\":\"scattergl\"}],\"scattermapbox\":[{\"marker\":{\"colorbar\":{\"outlinewidth\":0,\"ticks\":\"\"}},\"type\":\"scattermapbox\"}],\"scatterpolar\":[{\"marker\":{\"colorbar\":{\"outlinewidth\":0,\"ticks\":\"\"}},\"type\":\"scatterpolar\"}],\"scatterpolargl\":[{\"marker\":{\"colorbar\":{\"outlinewidth\":0,\"ticks\":\"\"}},\"type\":\"scatterpolargl\"}],\"scatterternary\":[{\"marker\":{\"colorbar\":{\"outlinewidth\":0,\"ticks\":\"\"}},\"type\":\"scatterternary\"}],\"surface\":[{\"colorbar\":{\"outlinewidth\":0,\"ticks\":\"\"},\"colorscale\":[[0.0,\"#0d0887\"],[0.1111111111111111,\"#46039f\"],[0.2222222222222222,\"#7201a8\"],[0.3333333333333333,\"#9c179e\"],[0.4444444444444444,\"#bd3786\"],[0.5555555555555556,\"#d8576b\"],[0.6666666666666666,\"#ed7953\"],[0.7777777777777778,\"#fb9f3a\"],[0.8888888888888888,\"#fdca26\"],[1.0,\"#f0f921\"]],\"type\":\"surface\"}],\"table\":[{\"cells\":{\"fill\":{\"color\":\"#EBF0F8\"},\"line\":{\"color\":\"white\"}},\"header\":{\"fill\":{\"color\":\"#C8D4E3\"},\"line\":{\"color\":\"white\"}},\"type\":\"table\"}]},\"layout\":{\"annotationdefaults\":{\"arrowcolor\":\"#2a3f5f\",\"arrowhead\":0,\"arrowwidth\":1},\"autotypenumbers\":\"strict\",\"coloraxis\":{\"colorbar\":{\"outlinewidth\":0,\"ticks\":\"\"}},\"colorscale\":{\"diverging\":[[0,\"#8e0152\"],[0.1,\"#c51b7d\"],[0.2,\"#de77ae\"],[0.3,\"#f1b6da\"],[0.4,\"#fde0ef\"],[0.5,\"#f7f7f7\"],[0.6,\"#e6f5d0\"],[0.7,\"#b8e186\"],[0.8,\"#7fbc41\"],[0.9,\"#4d9221\"],[1,\"#276419\"]],\"sequential\":[[0.0,\"#0d0887\"],[0.1111111111111111,\"#46039f\"],[0.2222222222222222,\"#7201a8\"],[0.3333333333333333,\"#9c179e\"],[0.4444444444444444,\"#bd3786\"],[0.5555555555555556,\"#d8576b\"],[0.6666666666666666,\"#ed7953\"],[0.7777777777777778,\"#fb9f3a\"],[0.8888888888888888,\"#fdca26\"],[1.0,\"#f0f921\"]],\"sequentialminus\":[[0.0,\"#0d0887\"],[0.1111111111111111,\"#46039f\"],[0.2222222222222222,\"#7201a8\"],[0.3333333333333333,\"#9c179e\"],[0.4444444444444444,\"#bd3786\"],[0.5555555555555556,\"#d8576b\"],[0.6666666666666666,\"#ed7953\"],[0.7777777777777778,\"#fb9f3a\"],[0.8888888888888888,\"#fdca26\"],[1.0,\"#f0f921\"]]},\"colorway\":[\"#636efa\",\"#EF553B\",\"#00cc96\",\"#ab63fa\",\"#FFA15A\",\"#19d3f3\",\"#FF6692\",\"#B6E880\",\"#FF97FF\",\"#FECB52\"],\"font\":{\"color\":\"#2a3f5f\"},\"geo\":{\"bgcolor\":\"white\",\"lakecolor\":\"white\",\"landcolor\":\"#E5ECF6\",\"showlakes\":true,\"showland\":true,\"subunitcolor\":\"white\"},\"hoverlabel\":{\"align\":\"left\"},\"hovermode\":\"closest\",\"mapbox\":{\"style\":\"light\"},\"paper_bgcolor\":\"white\",\"plot_bgcolor\":\"#E5ECF6\",\"polar\":{\"angularaxis\":{\"gridcolor\":\"white\",\"linecolor\":\"white\",\"ticks\":\"\"},\"bgcolor\":\"#E5ECF6\",\"radialaxis\":{\"gridcolor\":\"white\",\"linecolor\":\"white\",\"ticks\":\"\"}},\"scene\":{\"xaxis\":{\"backgroundcolor\":\"#E5ECF6\",\"gridcolor\":\"white\",\"gridwidth\":2,\"linecolor\":\"white\",\"showbackground\":true,\"ticks\":\"\",\"zerolinecolor\":\"white\"},\"yaxis\":{\"backgroundcolor\":\"#E5ECF6\",\"gridcolor\":\"white\",\"gridwidth\":2,\"linecolor\":\"white\",\"showbackground\":true,\"ticks\":\"\",\"zerolinecolor\":\"white\"},\"zaxis\":{\"backgroundcolor\":\"#E5ECF6\",\"gridcolor\":\"white\",\"gridwidth\":2,\"linecolor\":\"white\",\"showbackground\":true,\"ticks\":\"\",\"zerolinecolor\":\"white\"}},\"shapedefaults\":{\"line\":{\"color\":\"#2a3f5f\"}},\"ternary\":{\"aaxis\":{\"gridcolor\":\"white\",\"linecolor\":\"white\",\"ticks\":\"\"},\"baxis\":{\"gridcolor\":\"white\",\"linecolor\":\"white\",\"ticks\":\"\"},\"bgcolor\":\"#E5ECF6\",\"caxis\":{\"gridcolor\":\"white\",\"linecolor\":\"white\",\"ticks\":\"\"}},\"title\":{\"x\":0.05},\"xaxis\":{\"automargin\":true,\"gridcolor\":\"white\",\"linecolor\":\"white\",\"ticks\":\"\",\"title\":{\"standoff\":15},\"zerolinecolor\":\"white\",\"zerolinewidth\":2},\"yaxis\":{\"automargin\":true,\"gridcolor\":\"white\",\"linecolor\":\"white\",\"ticks\":\"\",\"title\":{\"standoff\":15},\"zerolinecolor\":\"white\",\"zerolinewidth\":2}}},\"xaxis\":{\"anchor\":\"y\",\"domain\":[0.0,1.0]},\"yaxis\":{\"anchor\":\"x\",\"domain\":[0.0,1.0],\"autorange\":\"reversed\"},\"coloraxis\":{\"colorscale\":[[0.0,\"#440154\"],[0.1111111111111111,\"#482878\"],[0.2222222222222222,\"#3e4989\"],[0.3333333333333333,\"#31688e\"],[0.4444444444444444,\"#26828e\"],[0.5555555555555556,\"#1f9e89\"],[0.6666666666666666,\"#35b779\"],[0.7777777777777778,\"#6ece58\"],[0.8888888888888888,\"#b5de2b\"],[1.0,\"#fde725\"]]},\"margin\":{\"t\":60}},                        {\"responsive\": true}                    ).then(function(){\n",
       "                            \n",
       "var gd = document.getElementById('9fa7fe7a-cfaf-4573-8da9-d4cc8e7cd16b');\n",
       "var x = new MutationObserver(function (mutations, observer) {{\n",
       "        var display = window.getComputedStyle(gd).display;\n",
       "        if (!display || display === 'none') {{\n",
       "            console.log([gd, 'removed!']);\n",
       "            Plotly.purge(gd);\n",
       "            observer.disconnect();\n",
       "        }}\n",
       "}});\n",
       "\n",
       "// Listen for the removal of the full notebook cells\n",
       "var notebookContainer = gd.closest('#notebook-container');\n",
       "if (notebookContainer) {{\n",
       "    x.observe(notebookContainer, {childList: true});\n",
       "}}\n",
       "\n",
       "// Listen for the clearing of the current output cell\n",
       "var outputEl = gd.closest('.output');\n",
       "if (outputEl) {{\n",
       "    x.observe(outputEl, {childList: true});\n",
       "}}\n",
       "\n",
       "                        })                };                });            </script>        </div>"
      ]
     },
     "metadata": {},
     "output_type": "display_data"
    }
   ],
   "source": [
    "fig = px.imshow(train.corr(), text_auto = True, aspect = \"auto\", color_continuous_scale = \"viridis\")\n",
    "\n",
    "fig.show()"
   ]
  },
  {
   "cell_type": "markdown",
   "id": "4fe8150c",
   "metadata": {
    "papermill": {
     "duration": 0.07384,
     "end_time": "2022-04-03T13:13:16.464939",
     "exception": false,
     "start_time": "2022-04-03T13:13:16.391099",
     "status": "completed"
    },
    "tags": []
   },
   "source": [
    "# Data Pre-Processing\n",
    "\n",
    "#### Imputing Missing Values"
   ]
  },
  {
   "cell_type": "code",
   "execution_count": 27,
   "id": "2b696e98",
   "metadata": {
    "execution": {
     "iopub.execute_input": "2022-04-03T13:13:16.625537Z",
     "iopub.status.busy": "2022-04-03T13:13:16.624380Z",
     "iopub.status.idle": "2022-04-03T13:13:16.641121Z",
     "shell.execute_reply": "2022-04-03T13:13:16.641624Z",
     "shell.execute_reply.started": "2022-04-01T07:59:40.640341Z"
    },
    "papermill": {
     "duration": 0.101845,
     "end_time": "2022-04-03T13:13:16.641809",
     "exception": false,
     "start_time": "2022-04-03T13:13:16.539964",
     "status": "completed"
    },
    "tags": []
   },
   "outputs": [],
   "source": [
    "imputer_cols = [\"Age\", \"FoodCourt\", \"ShoppingMall\", \"Spa\", \"VRDeck\", \"RoomService\"]\n",
    "imputer = SimpleImputer(strategy = STRATEGY)\n",
    "imputer.fit(train[imputer_cols])\n",
    "train[imputer_cols] = imputer.transform(train[imputer_cols])\n",
    "test[imputer_cols] = imputer.transform(test[imputer_cols])\n",
    "train[\"HomePlanet\"].fillna('Z', inplace = True)\n",
    "test[\"HomePlanet\"].fillna('Z', inplace = True)"
   ]
  },
  {
   "cell_type": "markdown",
   "id": "536333df",
   "metadata": {
    "papermill": {
     "duration": 0.075834,
     "end_time": "2022-04-03T13:13:16.793307",
     "exception": false,
     "start_time": "2022-04-03T13:13:16.717473",
     "status": "completed"
    },
    "tags": []
   },
   "source": [
    "#### Encoding Categorical Features"
   ]
  },
  {
   "cell_type": "code",
   "execution_count": 28,
   "id": "5e6a3791",
   "metadata": {
    "execution": {
     "iopub.execute_input": "2022-04-03T13:13:16.959514Z",
     "iopub.status.busy": "2022-04-03T13:13:16.957135Z",
     "iopub.status.idle": "2022-04-03T13:13:17.014723Z",
     "shell.execute_reply": "2022-04-03T13:13:17.014159Z",
     "shell.execute_reply.started": "2022-04-01T07:59:40.665927Z"
    },
    "papermill": {
     "duration": 0.147079,
     "end_time": "2022-04-03T13:13:17.014871",
     "exception": false,
     "start_time": "2022-04-03T13:13:16.867792",
     "status": "completed"
    },
    "tags": []
   },
   "outputs": [],
   "source": [
    "label_cols = [\"HomePlanet\", \"CryoSleep\", \"Cabin\", \"Destination\", \"VIP\"]\n",
    "\n",
    "def label_encoder(train, test, columns) :\n",
    "    for col in columns :\n",
    "        train[col] = train[col].astype(str)\n",
    "        test[col] = test[col].astype(str)\n",
    "        train[col] = LabelEncoder().fit_transform(train[col])\n",
    "        test[col] = LabelEncoder().fit_transform(test[col])\n",
    "        \n",
    "    return train, test\n",
    "\n",
    "train, test = label_encoder(train, test, label_cols)"
   ]
  },
  {
   "cell_type": "code",
   "execution_count": 29,
   "id": "f7446167",
   "metadata": {
    "execution": {
     "iopub.execute_input": "2022-04-03T13:13:17.172431Z",
     "iopub.status.busy": "2022-04-03T13:13:17.171724Z",
     "iopub.status.idle": "2022-04-03T13:13:17.183840Z",
     "shell.execute_reply": "2022-04-03T13:13:17.184425Z",
     "shell.execute_reply.started": "2022-04-01T07:59:40.737595Z"
    },
    "papermill": {
     "duration": 0.090432,
     "end_time": "2022-04-03T13:13:17.184608",
     "exception": false,
     "start_time": "2022-04-03T13:13:17.094176",
     "status": "completed"
    },
    "tags": []
   },
   "outputs": [],
   "source": [
    "train.drop([\"Name\", \"Cabin\"], axis = 1, inplace = True)\n",
    "test.drop([\"Name\", \"Cabin\"], axis = 1, inplace = True)\n",
    "X = train.drop(TARGET, axis = 1)\n",
    "Y = train[TARGET]\n",
    "X_train, X_test, Y_train, Y_test = train_test_split(X, X, random_state = 15, test_size = 0.33)"
   ]
  },
  {
   "cell_type": "markdown",
   "id": "1a3e53d5",
   "metadata": {
    "papermill": {
     "duration": 0.074781,
     "end_time": "2022-04-03T13:13:17.335023",
     "exception": false,
     "start_time": "2022-04-03T13:13:17.260242",
     "status": "completed"
    },
    "tags": []
   },
   "source": [
    "# Step 1. 라이브러리 및 데이터 불러오기\n",
    "\n",
    "- 라이브러리 버전 확인"
   ]
  },
  {
   "cell_type": "markdown",
   "id": "f2fbc986",
   "metadata": {
    "papermill": {
     "duration": 0.073587,
     "end_time": "2022-04-03T13:13:17.482659",
     "exception": false,
     "start_time": "2022-04-03T13:13:17.409072",
     "status": "completed"
    },
    "tags": []
   },
   "source": [
    "# Step 2. 탐색적 자료 분석(EDA)\n",
    "\n",
    "- 데이터 시각화\n",
    "- 산점도, 막대 그래프 등\n",
    "- 그래프 해석해서 설명을 달아야 함\n",
    "- 약간의 데이터 전처리"
   ]
  },
  {
   "cell_type": "markdown",
   "id": "8ae95166",
   "metadata": {
    "papermill": {
     "duration": 0.074112,
     "end_time": "2022-04-03T13:13:17.631267",
     "exception": false,
     "start_time": "2022-04-03T13:13:17.557155",
     "status": "completed"
    },
    "tags": []
   },
   "source": [
    "# Step 3. 데이터 전처리\n",
    "\n",
    "- Feature Engineering\n",
    "- ML 모형을 돌리기 위해 표준화, 원핫-인코딩 등등등...\n",
    "- 파생변수 (도출 변수) 생성\n",
    "    + 왜 이 변수를 만들었는지에 대한 설명이 필요"
   ]
  },
  {
   "cell_type": "markdown",
   "id": "ce67a23e",
   "metadata": {
    "papermill": {
     "duration": 0.074162,
     "end_time": "2022-04-03T13:13:17.779463",
     "exception": false,
     "start_time": "2022-04-03T13:13:17.705301",
     "status": "completed"
    },
    "tags": []
   },
   "source": [
    "# Step 4. 머신러닝 모형 개발\n",
    "\n",
    "- 모형에 대한 설명 필요\n",
    "- 모형을 1-2개 정도만 사용\n",
    "- 교차 검증\n",
    "- 하이퍼파라미터 튜닝"
   ]
  },
  {
   "cell_type": "markdown",
   "id": "f867ac65",
   "metadata": {
    "papermill": {
     "duration": 0.076886,
     "end_time": "2022-04-03T13:13:17.932357",
     "exception": false,
     "start_time": "2022-04-03T13:13:17.855471",
     "status": "completed"
    },
    "tags": []
   },
   "source": [
    "# Step 5. 모형 평가\n",
    "- 훈련데이터를 꼬개서 훈련데이터와 검증데이터로 분류\n",
    "- 정확도 비교\n",
    "- 혼동행렬( Confusion Matrix) 설명"
   ]
  },
  {
   "cell_type": "markdown",
   "id": "1a60b1f0",
   "metadata": {
    "papermill": {
     "duration": 0.076452,
     "end_time": "2022-04-03T13:13:18.087107",
     "exception": false,
     "start_time": "2022-04-03T13:13:18.010655",
     "status": "completed"
    },
    "tags": []
   },
   "source": [
    "# Step 6. 제출\n",
    "\n",
    "- 제출 양식은 샘플에 맞춰서"
   ]
  },
  {
   "cell_type": "markdown",
   "id": "e51cb856",
   "metadata": {
    "papermill": {
     "duration": 0.073746,
     "end_time": "2022-04-03T13:13:18.237008",
     "exception": false,
     "start_time": "2022-04-03T13:13:18.163262",
     "status": "completed"
    },
    "tags": []
   },
   "source": [
    "# Reference (참고)\n",
    "\n",
    "- 다른 사람들의 code 설명을 보고 따라서 침\n",
    "- 노트북 표절 방지 위해, 참조한 코드는 반드시 링크 걸어둘 것\n",
    "- 저자 이름, 글 제목, 링크 주소"
   ]
  },
  {
   "cell_type": "markdown",
   "id": "995aa3d7",
   "metadata": {
    "papermill": {
     "duration": 0.07369,
     "end_time": "2022-04-03T13:13:18.385274",
     "exception": false,
     "start_time": "2022-04-03T13:13:18.311584",
     "status": "completed"
    },
    "tags": []
   },
   "source": [
    "# 마감일\n",
    "\n",
    "- 4월 12일 17시 40분\n",
    "- 제출 형태\n",
    "    + 개인 DM으로 Leaderboard 랭킹 사진 캡처\n",
    "    + 고용노동부 보고 양식"
   ]
  }
 ],
 "metadata": {
  "kernelspec": {
   "display_name": "Python 3",
   "language": "python",
   "name": "python3"
  },
  "language_info": {
   "codemirror_mode": {
    "name": "ipython",
    "version": 3
   },
   "file_extension": ".py",
   "mimetype": "text/x-python",
   "name": "python",
   "nbconvert_exporter": "python",
   "pygments_lexer": "ipython3",
   "version": "3.7.12"
  },
  "papermill": {
   "default_parameters": {},
   "duration": 37.219118,
   "end_time": "2022-04-03T13:13:19.369834",
   "environment_variables": {},
   "exception": null,
   "input_path": "__notebook__.ipynb",
   "output_path": "__notebook__.ipynb",
   "parameters": {},
   "start_time": "2022-04-03T13:12:42.150716",
   "version": "2.3.3"
  }
 },
 "nbformat": 4,
 "nbformat_minor": 5
}
