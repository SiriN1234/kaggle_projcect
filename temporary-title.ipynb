{
 "cells": [
  {
   "cell_type": "code",
   "execution_count": 1,
   "id": "148871be",
   "metadata": {
    "_cell_guid": "b1076dfc-b9ad-4769-8c92-a6c4dae69d19",
    "_uuid": "8f2839f25d086af736a60e9eeb907d3b93b6e0e5",
    "execution": {
     "iopub.execute_input": "2022-04-01T03:37:10.841399Z",
     "iopub.status.busy": "2022-04-01T03:37:10.839743Z",
     "iopub.status.idle": "2022-04-01T03:37:10.853669Z",
     "shell.execute_reply": "2022-04-01T03:37:10.852795Z",
     "shell.execute_reply.started": "2022-04-01T01:14:50.298310Z"
    },
    "papermill": {
     "duration": 0.041865,
     "end_time": "2022-04-01T03:37:10.853881",
     "exception": false,
     "start_time": "2022-04-01T03:37:10.812016",
     "status": "completed"
    },
    "tags": []
   },
   "outputs": [
    {
     "name": "stdout",
     "output_type": "stream",
     "text": [
      "/kaggle/input/spaceship-titanic/sample_submission.csv\n",
      "/kaggle/input/spaceship-titanic/train.csv\n",
      "/kaggle/input/spaceship-titanic/test.csv\n"
     ]
    }
   ],
   "source": [
    "# This Python 3 environment comes with many helpful analytics libraries installed\n",
    "# It is defined by the kaggle/python Docker image: https://github.com/kaggle/docker-python\n",
    "# For example, here's several helpful packages to load\n",
    "\n",
    "import numpy as np # linear algebra\n",
    "import pandas as pd # data processing, CSV file I/O (e.g. pd.read_csv)\n",
    "\n",
    "# Input data files are available in the read-only \"../input/\" directory\n",
    "# For example, running this (by clicking run or pressing Shift+Enter) will list all files under the input directory\n",
    "\n",
    "import os\n",
    "for dirname, _, filenames in os.walk('/kaggle/input'):\n",
    "    for filename in filenames:\n",
    "        print(os.path.join(dirname, filename))\n",
    "\n",
    "# You can write up to 20GB to the current directory (/kaggle/working/) that gets preserved as output when you create a version using \"Save & Run All\" \n",
    "# You can also write temporary files to /kaggle/temp/, but they won't be saved outside of the current session"
   ]
  },
  {
   "cell_type": "markdown",
   "id": "50257af5",
   "metadata": {
    "papermill": {
     "duration": 0.020573,
     "end_time": "2022-04-01T03:37:10.897070",
     "exception": false,
     "start_time": "2022-04-01T03:37:10.876497",
     "status": "completed"
    },
    "tags": []
   },
   "source": [
    "# File and Data Field Descriptions\n",
    "\n",
    "- train.csv - Personal records for about two-thirds (~8700) of the passengers, to be used as training data.\n",
    "    - PassengerId - A unique Id for each passenger. Each Id takes the form gggg_pp where gggg indicates a group the passenger is travelling with and pp is their number within the group. People in a group are often family members, but not always.\n",
    "    - HomePlanet - The planet the passenger departed from, typically their planet of permanent residence.\n",
    "    - CryoSleep - Indicates whether the passenger elected to be put into suspended animation for the duration of the voyage. Passengers in cryosleep are confined to their cabins.\n",
    "    - Cabin - The cabin number where the passenger is staying. Takes the form deck/num/side, where side can be either P for Port or S for Starboard.\n",
    "    - Destination - The planet the passenger will be debarking to.\n",
    "    - Age - The age of the passenger.\n",
    "    - VIP - Whether the passenger has paid for special VIP service during the voyage.\n",
    "    - RoomService, FoodCourt, ShoppingMall, Spa, VRDeck - Amount the passenger has billed at each of the Spaceship Titanic's many luxury amenities.\n",
    "    - Name - The first and last names of the passenger.\n",
    "    - Transported - Whether the passenger was transported to another dimension. This is the target, the column you are trying to predict.\n",
    "- test.csv - Personal records for the remaining one-third (~4300) of the passengers, to be used as test data. Your task is to predict the value of Transported for the passengers in this set.\n",
    "- sample_submission.csv - A submission file in the correct format.\n",
    "    - PassengerId - Id for each passenger in the test set.\n",
    "    - Transported - The target. For each passenger, predict either True or False."
   ]
  },
  {
   "cell_type": "markdown",
   "id": "6a2a0b7c",
   "metadata": {
    "papermill": {
     "duration": 0.020645,
     "end_time": "2022-04-01T03:37:10.938783",
     "exception": false,
     "start_time": "2022-04-01T03:37:10.918138",
     "status": "completed"
    },
    "tags": []
   },
   "source": [
    "# 파일 및 데이터 필드 설명\n",
    "- train.csv - 승객의 약 3분의 2(~8700)에 대한 개인 기록으로, 훈련 데이터로 사용됩니다.\n",
    "    - PassengerId - 각 승객의 고유 ID입니다. 각 ID는 ggg_pp 형식을 취하며, 여기서 ggg는 승객이 함께 여행하는 그룹을 나타내며, pp는 그룹 내 번호를 나타냅니다. 그룹의 사람들은 종종 가족 구성원이지만 항상 그렇지는 않다.\n",
    "    - HomePlanet - 승객이 출발한 행성으로, 일반적으로 영구 거주지 행성입니다.\n",
    "    - CryoSleep - 승객이 항해가 진행되는 동안 일시 정지 애니메이션으로 전환되도록 선택했는지 여부를 나타냅니다. 저온 수면 중인 승객들은 객실에 갇히게 된다.\n",
    "    - 객실 - 승객이 머물고 있는 객실 번호입니다. 갑판/번호/측면 형식을 취합니다. 여기서 측면은 좌현에 P 또는 우현에 S가 될 수 있습니다.\n",
    "    - 목적지 - 승객이 주차를 해제할 행성입니다.\n",
    "    - 연령 - 승객의 연령입니다.\n",
    "    - VIP - 승객이 여행 중 특별 VIP 서비스에 비용을 지불했는지 여부\n",
    "    - 룸 서비스, 푸드 코트, 쇼핑 몰, 스파, VRDeck - 승객이 우주선 타이타닉의 많은 고급 편의 시설 각각에서 청구한 금액입니다.\n",
    "    - 이름 - 승객의 이름과 성.\n",
    "    - 운송됨 - 승객이 다른 차원으로 운송되었는지 여부. 예측하려는 대상 열입니다.\n",
    "- test.csv - 테스트 데이터로 사용되는 나머지 승객의 1/3(~4300)에 대한 개인 기록. 작업은 이 세트의 승객에 대한 운송 값을 예측하는 것입니다.\n",
    "- sample_submission.csv - 올바른 형식의 송신 파일.\n",
    "    - PassengerId - 테스트 세트에 포함된 각 승객의 ID입니다.\n",
    "    - Transported - 타겟. 각 승객에 대해 참 또는 거짓을 예측합니다."
   ]
  },
  {
   "cell_type": "markdown",
   "id": "fc194e0d",
   "metadata": {
    "papermill": {
     "duration": 0.020578,
     "end_time": "2022-04-01T03:37:10.980365",
     "exception": false,
     "start_time": "2022-04-01T03:37:10.959787",
     "status": "completed"
    },
    "tags": []
   },
   "source": [
    "## Imports\n",
    "\n",
    "### **Installing LazyPredict :**\n",
    "\n",
    "Check the offical Documentation of LazyPredict here : https://lazypredict.readthedocs.io"
   ]
  },
  {
   "cell_type": "code",
   "execution_count": 2,
   "id": "05b409d5",
   "metadata": {
    "execution": {
     "iopub.execute_input": "2022-04-01T03:37:11.024913Z",
     "iopub.status.busy": "2022-04-01T03:37:11.024324Z",
     "iopub.status.idle": "2022-04-01T03:38:20.381614Z",
     "shell.execute_reply": "2022-04-01T03:38:20.381004Z",
     "shell.execute_reply.started": "2022-04-01T03:07:27.830454Z"
    },
    "papermill": {
     "duration": 69.38072,
     "end_time": "2022-04-01T03:38:20.381762",
     "exception": false,
     "start_time": "2022-04-01T03:37:11.001042",
     "status": "completed"
    },
    "tags": []
   },
   "outputs": [],
   "source": [
    "from IPython.display import clear_output\n",
    "!pip3 install -U lazypredict\n",
    "!pip3 install -U pandas #Upgrading pandas\n",
    "\n",
    "clear_output()"
   ]
  },
  {
   "cell_type": "code",
   "execution_count": 3,
   "id": "c54a99a6",
   "metadata": {
    "execution": {
     "iopub.execute_input": "2022-04-01T03:38:20.430829Z",
     "iopub.status.busy": "2022-04-01T03:38:20.430216Z",
     "iopub.status.idle": "2022-04-01T03:38:22.630417Z",
     "shell.execute_reply": "2022-04-01T03:38:22.629842Z",
     "shell.execute_reply.started": "2022-04-01T03:11:53.819884Z"
    },
    "papermill": {
     "duration": 2.227137,
     "end_time": "2022-04-01T03:38:22.630564",
     "exception": false,
     "start_time": "2022-04-01T03:38:20.403427",
     "status": "completed"
    },
    "tags": []
   },
   "outputs": [
    {
     "data": {
      "text/html": [
       "<style type='text/css'>\n",
       ".datatable table.frame { margin-bottom: 0; }\n",
       ".datatable table.frame thead { border-bottom: none; }\n",
       ".datatable table.frame tr.coltypes td {  color: #FFFFFF;  line-height: 6px;  padding: 0 0.5em;}\n",
       ".datatable .bool    { background: #DDDD99; }\n",
       ".datatable .object  { background: #565656; }\n",
       ".datatable .int     { background: #5D9E5D; }\n",
       ".datatable .float   { background: #4040CC; }\n",
       ".datatable .str     { background: #CC4040; }\n",
       ".datatable .time    { background: #40CC40; }\n",
       ".datatable .row_index {  background: var(--jp-border-color3);  border-right: 1px solid var(--jp-border-color0);  color: var(--jp-ui-font-color3);  font-size: 9px;}\n",
       ".datatable .frame tbody td { text-align: left; }\n",
       ".datatable .frame tr.coltypes .row_index {  background: var(--jp-border-color0);}\n",
       ".datatable th:nth-child(2) { padding-left: 12px; }\n",
       ".datatable .hellipsis {  color: var(--jp-cell-editor-border-color);}\n",
       ".datatable .vellipsis {  background: var(--jp-layout-color0);  color: var(--jp-cell-editor-border-color);}\n",
       ".datatable .na {  color: var(--jp-cell-editor-border-color);  font-size: 80%;}\n",
       ".datatable .sp {  opacity: 0.25;}\n",
       ".datatable .footer { font-size: 9px; }\n",
       ".datatable .frame_dimensions {  background: var(--jp-border-color3);  border-top: 1px solid var(--jp-border-color0);  color: var(--jp-ui-font-color3);  display: inline-block;  opacity: 0.6;  padding: 1px 10px 1px 5px;}\n",
       "</style>\n"
      ],
      "text/plain": [
       "<IPython.core.display.HTML object>"
      ]
     },
     "metadata": {},
     "output_type": "display_data"
    },
    {
     "name": "stderr",
     "output_type": "stream",
     "text": [
      "/opt/conda/lib/python3.7/site-packages/sklearn/utils/deprecation.py:143: FutureWarning: The sklearn.utils.testing module is  deprecated in version 0.22 and will be removed in version 0.24. The corresponding classes / functions should instead be imported from sklearn.utils. Anything that cannot be imported from sklearn.utils is now part of the private API.\n",
      "  warnings.warn(message, FutureWarning)\n"
     ]
    }
   ],
   "source": [
    "import numpy as np\n",
    "import pandas as pd\n",
    "import seaborn as sns\n",
    "import plotly.express as px\n",
    "import matplotlib.pyplot as plt\n",
    "import plotly.graph_objects as go\n",
    "from plotly.subplots import make_subplots\n",
    "\n",
    "\n",
    "from sklearn.impute import SimpleImputer\n",
    "from sklearn.metrics import accuracy_score\n",
    "from sklearn.preprocessing import LabelEncoder\n",
    "from sklearn.model_selection import StratifiedKFold, train_test_split\n",
    "\n",
    "\n",
    "from lightgbm import LGBMClassifier\n",
    "import lazypredict\n",
    "from lazypredict.Supervised import LazyClassifier\n",
    "\n",
    "import time\n",
    "import warnings\n",
    "warnings.filterwarnings('ignore')"
   ]
  },
  {
   "cell_type": "markdown",
   "id": "0b99db1f",
   "metadata": {
    "papermill": {
     "duration": 0.0229,
     "end_time": "2022-04-01T03:38:22.675522",
     "exception": false,
     "start_time": "2022-04-01T03:38:22.652622",
     "status": "completed"
    },
    "tags": []
   },
   "source": [
    "# Data Loading and Preparation"
   ]
  },
  {
   "cell_type": "code",
   "execution_count": 4,
   "id": "e50e63dd",
   "metadata": {
    "execution": {
     "iopub.execute_input": "2022-04-01T03:38:22.725999Z",
     "iopub.status.busy": "2022-04-01T03:38:22.725362Z",
     "iopub.status.idle": "2022-04-01T03:38:22.812207Z",
     "shell.execute_reply": "2022-04-01T03:38:22.811703Z",
     "shell.execute_reply.started": "2022-04-01T03:11:58.920774Z"
    },
    "papermill": {
     "duration": 0.113762,
     "end_time": "2022-04-01T03:38:22.812403",
     "exception": false,
     "start_time": "2022-04-01T03:38:22.698641",
     "status": "completed"
    },
    "tags": []
   },
   "outputs": [],
   "source": [
    "train = pd.read_csv(\"/kaggle/input/spaceship-titanic/train.csv\")\n",
    "test = pd.read_csv(\"/kaggle/input/spaceship-titanic/test.csv\")\n",
    "submission = pd.read_csv(\"/kaggle/input/spaceship-titanic/sample_submission.csv\")\n",
    "\n",
    "RANDOM_STATE = 42\n",
    "FOLDS = 5\n",
    "STRATEGY = 'median'"
   ]
  },
  {
   "cell_type": "markdown",
   "id": "df562326",
   "metadata": {
    "papermill": {
     "duration": 0.021597,
     "end_time": "2022-04-01T03:38:22.856934",
     "exception": false,
     "start_time": "2022-04-01T03:38:22.835337",
     "status": "completed"
    },
    "tags": []
   },
   "source": [
    "### Exploring Train Data :\n",
    "\n",
    "📌  Observations in Train Data:\n",
    "* There are total of 14 columns and 8693 rows in train data.\n",
    "* Train data contains 119378 observation with 2324 missing values.\n",
    "* All 12 feature columns have missing values in them with CryoSleep having highest missing values (217)\n",
    "* Transported is the target variable which is only available in the train dataset."
   ]
  },
  {
   "cell_type": "markdown",
   "id": "706553b6",
   "metadata": {
    "papermill": {
     "duration": 0.021564,
     "end_time": "2022-04-01T03:38:22.900358",
     "exception": false,
     "start_time": "2022-04-01T03:38:22.878794",
     "status": "completed"
    },
    "tags": []
   },
   "source": [
    "### 훈련 데이터 탐색:\n",
    "\n",
    "📌 훈련 데이터의 관측치:\n",
    "* 훈련 데이터에는 총 14개의 열과 8693개의 행이 있습니다.\n",
    "* 훈련 데이터에는 2324개의 결측값이 있는 119378 관측치가 포함되어 있습니다.\n",
    "* 모든 12개의 피쳐 열에 결측값이 있으며, CryoSleep은 결측값이 가장 높습니다(217).\n",
    "* Transported는 열차 데이터 집합에서만 사용할 수 있는 대상 변수입니다."
   ]
  },
  {
   "cell_type": "markdown",
   "id": "0cfbb32a",
   "metadata": {
    "papermill": {
     "duration": 0.021571,
     "end_time": "2022-04-01T03:38:22.943664",
     "exception": false,
     "start_time": "2022-04-01T03:38:22.922093",
     "status": "completed"
    },
    "tags": []
   },
   "source": [
    "#### Quick view of Train Data:\n",
    "\n",
    "Below are the first 5 rows of train dataset:"
   ]
  },
  {
   "cell_type": "code",
   "execution_count": 5,
   "id": "091b763b",
   "metadata": {
    "execution": {
     "iopub.execute_input": "2022-04-01T03:38:22.991107Z",
     "iopub.status.busy": "2022-04-01T03:38:22.990551Z",
     "iopub.status.idle": "2022-04-01T03:38:23.009711Z",
     "shell.execute_reply": "2022-04-01T03:38:23.009086Z",
     "shell.execute_reply.started": "2022-04-01T03:12:02.588549Z"
    },
    "papermill": {
     "duration": 0.044177,
     "end_time": "2022-04-01T03:38:23.009841",
     "exception": false,
     "start_time": "2022-04-01T03:38:22.965664",
     "status": "completed"
    },
    "tags": []
   },
   "outputs": [
    {
     "data": {
      "text/html": [
       "<div>\n",
       "<style scoped>\n",
       "    .dataframe tbody tr th:only-of-type {\n",
       "        vertical-align: middle;\n",
       "    }\n",
       "\n",
       "    .dataframe tbody tr th {\n",
       "        vertical-align: top;\n",
       "    }\n",
       "\n",
       "    .dataframe thead th {\n",
       "        text-align: right;\n",
       "    }\n",
       "</style>\n",
       "<table border=\"1\" class=\"dataframe\">\n",
       "  <thead>\n",
       "    <tr style=\"text-align: right;\">\n",
       "      <th></th>\n",
       "      <th>PassengerId</th>\n",
       "      <th>HomePlanet</th>\n",
       "      <th>CryoSleep</th>\n",
       "      <th>Cabin</th>\n",
       "      <th>Destination</th>\n",
       "      <th>Age</th>\n",
       "      <th>VIP</th>\n",
       "      <th>RoomService</th>\n",
       "      <th>FoodCourt</th>\n",
       "      <th>ShoppingMall</th>\n",
       "      <th>Spa</th>\n",
       "      <th>VRDeck</th>\n",
       "      <th>Name</th>\n",
       "      <th>Transported</th>\n",
       "    </tr>\n",
       "  </thead>\n",
       "  <tbody>\n",
       "    <tr>\n",
       "      <th>0</th>\n",
       "      <td>0001_01</td>\n",
       "      <td>Europa</td>\n",
       "      <td>False</td>\n",
       "      <td>B/0/P</td>\n",
       "      <td>TRAPPIST-1e</td>\n",
       "      <td>39.00</td>\n",
       "      <td>False</td>\n",
       "      <td>0.00</td>\n",
       "      <td>0.00</td>\n",
       "      <td>0.00</td>\n",
       "      <td>0.00</td>\n",
       "      <td>0.00</td>\n",
       "      <td>Maham Ofracculy</td>\n",
       "      <td>False</td>\n",
       "    </tr>\n",
       "    <tr>\n",
       "      <th>1</th>\n",
       "      <td>0002_01</td>\n",
       "      <td>Earth</td>\n",
       "      <td>False</td>\n",
       "      <td>F/0/S</td>\n",
       "      <td>TRAPPIST-1e</td>\n",
       "      <td>24.00</td>\n",
       "      <td>False</td>\n",
       "      <td>109.00</td>\n",
       "      <td>9.00</td>\n",
       "      <td>25.00</td>\n",
       "      <td>549.00</td>\n",
       "      <td>44.00</td>\n",
       "      <td>Juanna Vines</td>\n",
       "      <td>True</td>\n",
       "    </tr>\n",
       "    <tr>\n",
       "      <th>2</th>\n",
       "      <td>0003_01</td>\n",
       "      <td>Europa</td>\n",
       "      <td>False</td>\n",
       "      <td>A/0/S</td>\n",
       "      <td>TRAPPIST-1e</td>\n",
       "      <td>58.00</td>\n",
       "      <td>True</td>\n",
       "      <td>43.00</td>\n",
       "      <td>3576.00</td>\n",
       "      <td>0.00</td>\n",
       "      <td>6715.00</td>\n",
       "      <td>49.00</td>\n",
       "      <td>Altark Susent</td>\n",
       "      <td>False</td>\n",
       "    </tr>\n",
       "    <tr>\n",
       "      <th>3</th>\n",
       "      <td>0003_02</td>\n",
       "      <td>Europa</td>\n",
       "      <td>False</td>\n",
       "      <td>A/0/S</td>\n",
       "      <td>TRAPPIST-1e</td>\n",
       "      <td>33.00</td>\n",
       "      <td>False</td>\n",
       "      <td>0.00</td>\n",
       "      <td>1283.00</td>\n",
       "      <td>371.00</td>\n",
       "      <td>3329.00</td>\n",
       "      <td>193.00</td>\n",
       "      <td>Solam Susent</td>\n",
       "      <td>False</td>\n",
       "    </tr>\n",
       "    <tr>\n",
       "      <th>4</th>\n",
       "      <td>0004_01</td>\n",
       "      <td>Earth</td>\n",
       "      <td>False</td>\n",
       "      <td>F/1/S</td>\n",
       "      <td>TRAPPIST-1e</td>\n",
       "      <td>16.00</td>\n",
       "      <td>False</td>\n",
       "      <td>303.00</td>\n",
       "      <td>70.00</td>\n",
       "      <td>151.00</td>\n",
       "      <td>565.00</td>\n",
       "      <td>2.00</td>\n",
       "      <td>Willy Santantines</td>\n",
       "      <td>True</td>\n",
       "    </tr>\n",
       "  </tbody>\n",
       "</table>\n",
       "</div>"
      ],
      "text/plain": [
       "  PassengerId HomePlanet CryoSleep  Cabin  Destination   Age    VIP  \\\n",
       "0     0001_01     Europa     False  B/0/P  TRAPPIST-1e 39.00  False   \n",
       "1     0002_01      Earth     False  F/0/S  TRAPPIST-1e 24.00  False   \n",
       "2     0003_01     Europa     False  A/0/S  TRAPPIST-1e 58.00   True   \n",
       "3     0003_02     Europa     False  A/0/S  TRAPPIST-1e 33.00  False   \n",
       "4     0004_01      Earth     False  F/1/S  TRAPPIST-1e 16.00  False   \n",
       "\n",
       "   RoomService  FoodCourt  ShoppingMall     Spa  VRDeck               Name  \\\n",
       "0         0.00       0.00          0.00    0.00    0.00    Maham Ofracculy   \n",
       "1       109.00       9.00         25.00  549.00   44.00       Juanna Vines   \n",
       "2        43.00    3576.00          0.00 6715.00   49.00      Altark Susent   \n",
       "3         0.00    1283.00        371.00 3329.00  193.00       Solam Susent   \n",
       "4       303.00      70.00        151.00  565.00    2.00  Willy Santantines   \n",
       "\n",
       "   Transported  \n",
       "0        False  \n",
       "1         True  \n",
       "2        False  \n",
       "3        False  \n",
       "4         True  "
      ]
     },
     "execution_count": 5,
     "metadata": {},
     "output_type": "execute_result"
    }
   ],
   "source": [
    "train.head()"
   ]
  },
  {
   "cell_type": "code",
   "execution_count": 6,
   "id": "da2869a5",
   "metadata": {
    "execution": {
     "iopub.execute_input": "2022-04-01T03:38:23.065953Z",
     "iopub.status.busy": "2022-04-01T03:38:23.062193Z",
     "iopub.status.idle": "2022-04-01T03:38:23.075857Z",
     "shell.execute_reply": "2022-04-01T03:38:23.075281Z",
     "shell.execute_reply.started": "2022-04-01T03:14:39.008930Z"
    },
    "papermill": {
     "duration": 0.043872,
     "end_time": "2022-04-01T03:38:23.076000",
     "exception": false,
     "start_time": "2022-04-01T03:38:23.032128",
     "status": "completed"
    },
    "tags": []
   },
   "outputs": [
    {
     "name": "stdout",
     "output_type": "stream",
     "text": [
      "\u001b[94mNumber of rows in train data: 8693\n",
      "\u001b[94mNumber of columns in train data: 14\n",
      "\u001b[94mNumber of vlues in train data: 119378\n",
      "\u001b[94mNumber missing values in train data: 2324\n"
     ]
    }
   ],
   "source": [
    "print(f'\\033[94mNumber of rows in train data: {train.shape[0]}')\n",
    "print(f'\\033[94mNumber of columns in train data: {train.shape[1]}')\n",
    "print(f'\\033[94mNumber of vlues in train data: {train.count().sum()}')\n",
    "print(f'\\033[94mNumber missing values in train data: {sum(train.isna().sum())}')"
   ]
  },
  {
   "cell_type": "markdown",
   "id": "89974849",
   "metadata": {
    "papermill": {
     "duration": 0.022799,
     "end_time": "2022-04-01T03:38:23.121418",
     "exception": false,
     "start_time": "2022-04-01T03:38:23.098619",
     "status": "completed"
    },
    "tags": []
   },
   "source": [
    "#### Column Wise missing values:"
   ]
  },
  {
   "cell_type": "code",
   "execution_count": 7,
   "id": "c74b3bcf",
   "metadata": {
    "execution": {
     "iopub.execute_input": "2022-04-01T03:38:23.175020Z",
     "iopub.status.busy": "2022-04-01T03:38:23.174059Z",
     "iopub.status.idle": "2022-04-01T03:38:23.180361Z",
     "shell.execute_reply": "2022-04-01T03:38:23.181114Z",
     "shell.execute_reply.started": "2022-04-01T03:16:53.281381Z"
    },
    "papermill": {
     "duration": 0.037409,
     "end_time": "2022-04-01T03:38:23.181358",
     "exception": false,
     "start_time": "2022-04-01T03:38:23.143949",
     "status": "completed"
    },
    "tags": []
   },
   "outputs": [
    {
     "name": "stdout",
     "output_type": "stream",
     "text": [
      "\u001b[94m\n",
      "CryoSleep       217\n",
      "ShoppingMall    208\n",
      "VIP             203\n",
      "HomePlanet      201\n",
      "Name            200\n",
      "Cabin           199\n",
      "VRDeck          188\n",
      "FoodCourt       183\n",
      "Spa             183\n",
      "Destination     182\n",
      "RoomService     181\n",
      "Age             179\n",
      "PassengerId       0\n",
      "Transported       0\n",
      "dtype: int64\n"
     ]
    }
   ],
   "source": [
    "print(f'\\033[94m')\n",
    "print(train.isna().sum().sort_values(ascending = False))"
   ]
  },
  {
   "cell_type": "markdown",
   "id": "06e27c88",
   "metadata": {
    "papermill": {
     "duration": 0.02257,
     "end_time": "2022-04-01T03:38:23.227878",
     "exception": false,
     "start_time": "2022-04-01T03:38:23.205308",
     "status": "completed"
    },
    "tags": []
   },
   "source": [
    "#### Basic statistics of training data:\n",
    "\n",
    "Below is the basic statistics for each variables which contain information on count, mean, standard deviation, minimum, 1st quartile, median, 3rd quartile and maximum."
   ]
  },
  {
   "cell_type": "code",
   "execution_count": 8,
   "id": "f5c0be2c",
   "metadata": {
    "execution": {
     "iopub.execute_input": "2022-04-01T03:38:23.277005Z",
     "iopub.status.busy": "2022-04-01T03:38:23.276445Z",
     "iopub.status.idle": "2022-04-01T03:38:23.310300Z",
     "shell.execute_reply": "2022-04-01T03:38:23.310734Z",
     "shell.execute_reply.started": "2022-04-01T03:22:59.394342Z"
    },
    "papermill": {
     "duration": 0.060316,
     "end_time": "2022-04-01T03:38:23.310891",
     "exception": false,
     "start_time": "2022-04-01T03:38:23.250575",
     "status": "completed"
    },
    "tags": []
   },
   "outputs": [
    {
     "data": {
      "text/html": [
       "<div>\n",
       "<style scoped>\n",
       "    .dataframe tbody tr th:only-of-type {\n",
       "        vertical-align: middle;\n",
       "    }\n",
       "\n",
       "    .dataframe tbody tr th {\n",
       "        vertical-align: top;\n",
       "    }\n",
       "\n",
       "    .dataframe thead th {\n",
       "        text-align: right;\n",
       "    }\n",
       "</style>\n",
       "<table border=\"1\" class=\"dataframe\">\n",
       "  <thead>\n",
       "    <tr style=\"text-align: right;\">\n",
       "      <th></th>\n",
       "      <th>Age</th>\n",
       "      <th>RoomService</th>\n",
       "      <th>FoodCourt</th>\n",
       "      <th>ShoppingMall</th>\n",
       "      <th>Spa</th>\n",
       "      <th>VRDeck</th>\n",
       "    </tr>\n",
       "  </thead>\n",
       "  <tbody>\n",
       "    <tr>\n",
       "      <th>count</th>\n",
       "      <td>8514.00</td>\n",
       "      <td>8512.00</td>\n",
       "      <td>8510.00</td>\n",
       "      <td>8485.00</td>\n",
       "      <td>8510.00</td>\n",
       "      <td>8505.00</td>\n",
       "    </tr>\n",
       "    <tr>\n",
       "      <th>mean</th>\n",
       "      <td>28.83</td>\n",
       "      <td>224.69</td>\n",
       "      <td>458.08</td>\n",
       "      <td>173.73</td>\n",
       "      <td>311.14</td>\n",
       "      <td>304.85</td>\n",
       "    </tr>\n",
       "    <tr>\n",
       "      <th>std</th>\n",
       "      <td>14.49</td>\n",
       "      <td>666.72</td>\n",
       "      <td>1611.49</td>\n",
       "      <td>604.70</td>\n",
       "      <td>1136.71</td>\n",
       "      <td>1145.72</td>\n",
       "    </tr>\n",
       "    <tr>\n",
       "      <th>min</th>\n",
       "      <td>0.00</td>\n",
       "      <td>0.00</td>\n",
       "      <td>0.00</td>\n",
       "      <td>0.00</td>\n",
       "      <td>0.00</td>\n",
       "      <td>0.00</td>\n",
       "    </tr>\n",
       "    <tr>\n",
       "      <th>25%</th>\n",
       "      <td>19.00</td>\n",
       "      <td>0.00</td>\n",
       "      <td>0.00</td>\n",
       "      <td>0.00</td>\n",
       "      <td>0.00</td>\n",
       "      <td>0.00</td>\n",
       "    </tr>\n",
       "    <tr>\n",
       "      <th>50%</th>\n",
       "      <td>27.00</td>\n",
       "      <td>0.00</td>\n",
       "      <td>0.00</td>\n",
       "      <td>0.00</td>\n",
       "      <td>0.00</td>\n",
       "      <td>0.00</td>\n",
       "    </tr>\n",
       "    <tr>\n",
       "      <th>75%</th>\n",
       "      <td>38.00</td>\n",
       "      <td>47.00</td>\n",
       "      <td>76.00</td>\n",
       "      <td>27.00</td>\n",
       "      <td>59.00</td>\n",
       "      <td>46.00</td>\n",
       "    </tr>\n",
       "    <tr>\n",
       "      <th>max</th>\n",
       "      <td>79.00</td>\n",
       "      <td>14327.00</td>\n",
       "      <td>29813.00</td>\n",
       "      <td>23492.00</td>\n",
       "      <td>22408.00</td>\n",
       "      <td>24133.00</td>\n",
       "    </tr>\n",
       "  </tbody>\n",
       "</table>\n",
       "</div>"
      ],
      "text/plain": [
       "          Age  RoomService  FoodCourt  ShoppingMall      Spa   VRDeck\n",
       "count 8514.00      8512.00    8510.00       8485.00  8510.00  8505.00\n",
       "mean    28.83       224.69     458.08        173.73   311.14   304.85\n",
       "std     14.49       666.72    1611.49        604.70  1136.71  1145.72\n",
       "min      0.00         0.00       0.00          0.00     0.00     0.00\n",
       "25%     19.00         0.00       0.00          0.00     0.00     0.00\n",
       "50%     27.00         0.00       0.00          0.00     0.00     0.00\n",
       "75%     38.00        47.00      76.00         27.00    59.00    46.00\n",
       "max     79.00     14327.00   29813.00      23492.00 22408.00 24133.00"
      ]
     },
     "execution_count": 8,
     "metadata": {},
     "output_type": "execute_result"
    }
   ],
   "source": [
    "train.describe()"
   ]
  },
  {
   "cell_type": "markdown",
   "id": "23c750ba",
   "metadata": {
    "papermill": {
     "duration": 0.023191,
     "end_time": "2022-04-01T03:38:23.358500",
     "exception": false,
     "start_time": "2022-04-01T03:38:23.335309",
     "status": "completed"
    },
    "tags": []
   },
   "source": [
    "### Exploring Test Data\n",
    "\n",
    "📌  Observations in Test Data:\n",
    "* There are total of 13 columns and 4277 rows in test data.\n",
    "* Train data contains 54484 observation with 1117 missing values.\n",
    "* All 12 feature columns have missing values in them with FoodCourt having highest missing values (106)"
   ]
  },
  {
   "cell_type": "markdown",
   "id": "67b0d668",
   "metadata": {
    "papermill": {
     "duration": 0.023891,
     "end_time": "2022-04-01T03:38:23.406611",
     "exception": false,
     "start_time": "2022-04-01T03:38:23.382720",
     "status": "completed"
    },
    "tags": []
   },
   "source": [
    "### 테스트 데이터 탐색\n",
    "\n",
    "📌 테스트 데이터의 관측치:\n",
    "* 테스트 데이터에는 총 13개의 열과 4277개의 행이 있습니다.\n",
    "* 훈련 데이터에는 결측값이 1117개인 54484개의 관측치가 포함되어 있습니다.\n",
    "* 모든 12개 피쳐 열에 결측값이 있으며 FoodCourt의 결측값이 가장 높습니다(106)."
   ]
  },
  {
   "cell_type": "markdown",
   "id": "598fd04a",
   "metadata": {
    "papermill": {
     "duration": 0.023168,
     "end_time": "2022-04-01T03:38:23.454038",
     "exception": false,
     "start_time": "2022-04-01T03:38:23.430870",
     "status": "completed"
    },
    "tags": []
   },
   "source": [
    "#### Quick view of Test Data"
   ]
  },
  {
   "cell_type": "code",
   "execution_count": 9,
   "id": "93820339",
   "metadata": {
    "execution": {
     "iopub.execute_input": "2022-04-01T03:38:23.504209Z",
     "iopub.status.busy": "2022-04-01T03:38:23.503660Z",
     "iopub.status.idle": "2022-04-01T03:38:23.515948Z",
     "shell.execute_reply": "2022-04-01T03:38:23.516435Z",
     "shell.execute_reply.started": "2022-04-01T03:25:52.027637Z"
    },
    "papermill": {
     "duration": 0.039214,
     "end_time": "2022-04-01T03:38:23.516615",
     "exception": false,
     "start_time": "2022-04-01T03:38:23.477401",
     "status": "completed"
    },
    "tags": []
   },
   "outputs": [
    {
     "data": {
      "text/html": [
       "<div>\n",
       "<style scoped>\n",
       "    .dataframe tbody tr th:only-of-type {\n",
       "        vertical-align: middle;\n",
       "    }\n",
       "\n",
       "    .dataframe tbody tr th {\n",
       "        vertical-align: top;\n",
       "    }\n",
       "\n",
       "    .dataframe thead th {\n",
       "        text-align: right;\n",
       "    }\n",
       "</style>\n",
       "<table border=\"1\" class=\"dataframe\">\n",
       "  <thead>\n",
       "    <tr style=\"text-align: right;\">\n",
       "      <th></th>\n",
       "      <th>PassengerId</th>\n",
       "      <th>HomePlanet</th>\n",
       "      <th>CryoSleep</th>\n",
       "      <th>Cabin</th>\n",
       "      <th>Destination</th>\n",
       "      <th>Age</th>\n",
       "      <th>VIP</th>\n",
       "      <th>RoomService</th>\n",
       "      <th>FoodCourt</th>\n",
       "      <th>ShoppingMall</th>\n",
       "      <th>Spa</th>\n",
       "      <th>VRDeck</th>\n",
       "      <th>Name</th>\n",
       "    </tr>\n",
       "  </thead>\n",
       "  <tbody>\n",
       "    <tr>\n",
       "      <th>0</th>\n",
       "      <td>0013_01</td>\n",
       "      <td>Earth</td>\n",
       "      <td>True</td>\n",
       "      <td>G/3/S</td>\n",
       "      <td>TRAPPIST-1e</td>\n",
       "      <td>27.00</td>\n",
       "      <td>False</td>\n",
       "      <td>0.00</td>\n",
       "      <td>0.00</td>\n",
       "      <td>0.00</td>\n",
       "      <td>0.00</td>\n",
       "      <td>0.00</td>\n",
       "      <td>Nelly Carsoning</td>\n",
       "    </tr>\n",
       "    <tr>\n",
       "      <th>1</th>\n",
       "      <td>0018_01</td>\n",
       "      <td>Earth</td>\n",
       "      <td>False</td>\n",
       "      <td>F/4/S</td>\n",
       "      <td>TRAPPIST-1e</td>\n",
       "      <td>19.00</td>\n",
       "      <td>False</td>\n",
       "      <td>0.00</td>\n",
       "      <td>9.00</td>\n",
       "      <td>0.00</td>\n",
       "      <td>2823.00</td>\n",
       "      <td>0.00</td>\n",
       "      <td>Lerome Peckers</td>\n",
       "    </tr>\n",
       "    <tr>\n",
       "      <th>2</th>\n",
       "      <td>0019_01</td>\n",
       "      <td>Europa</td>\n",
       "      <td>True</td>\n",
       "      <td>C/0/S</td>\n",
       "      <td>55 Cancri e</td>\n",
       "      <td>31.00</td>\n",
       "      <td>False</td>\n",
       "      <td>0.00</td>\n",
       "      <td>0.00</td>\n",
       "      <td>0.00</td>\n",
       "      <td>0.00</td>\n",
       "      <td>0.00</td>\n",
       "      <td>Sabih Unhearfus</td>\n",
       "    </tr>\n",
       "    <tr>\n",
       "      <th>3</th>\n",
       "      <td>0021_01</td>\n",
       "      <td>Europa</td>\n",
       "      <td>False</td>\n",
       "      <td>C/1/S</td>\n",
       "      <td>TRAPPIST-1e</td>\n",
       "      <td>38.00</td>\n",
       "      <td>False</td>\n",
       "      <td>0.00</td>\n",
       "      <td>6652.00</td>\n",
       "      <td>0.00</td>\n",
       "      <td>181.00</td>\n",
       "      <td>585.00</td>\n",
       "      <td>Meratz Caltilter</td>\n",
       "    </tr>\n",
       "    <tr>\n",
       "      <th>4</th>\n",
       "      <td>0023_01</td>\n",
       "      <td>Earth</td>\n",
       "      <td>False</td>\n",
       "      <td>F/5/S</td>\n",
       "      <td>TRAPPIST-1e</td>\n",
       "      <td>20.00</td>\n",
       "      <td>False</td>\n",
       "      <td>10.00</td>\n",
       "      <td>0.00</td>\n",
       "      <td>635.00</td>\n",
       "      <td>0.00</td>\n",
       "      <td>0.00</td>\n",
       "      <td>Brence Harperez</td>\n",
       "    </tr>\n",
       "  </tbody>\n",
       "</table>\n",
       "</div>"
      ],
      "text/plain": [
       "  PassengerId HomePlanet CryoSleep  Cabin  Destination   Age    VIP  \\\n",
       "0     0013_01      Earth      True  G/3/S  TRAPPIST-1e 27.00  False   \n",
       "1     0018_01      Earth     False  F/4/S  TRAPPIST-1e 19.00  False   \n",
       "2     0019_01     Europa      True  C/0/S  55 Cancri e 31.00  False   \n",
       "3     0021_01     Europa     False  C/1/S  TRAPPIST-1e 38.00  False   \n",
       "4     0023_01      Earth     False  F/5/S  TRAPPIST-1e 20.00  False   \n",
       "\n",
       "   RoomService  FoodCourt  ShoppingMall     Spa  VRDeck              Name  \n",
       "0         0.00       0.00          0.00    0.00    0.00   Nelly Carsoning  \n",
       "1         0.00       9.00          0.00 2823.00    0.00    Lerome Peckers  \n",
       "2         0.00       0.00          0.00    0.00    0.00   Sabih Unhearfus  \n",
       "3         0.00    6652.00          0.00  181.00  585.00  Meratz Caltilter  \n",
       "4        10.00       0.00        635.00    0.00    0.00   Brence Harperez  "
      ]
     },
     "execution_count": 9,
     "metadata": {},
     "output_type": "execute_result"
    }
   ],
   "source": [
    "test.head()"
   ]
  },
  {
   "cell_type": "code",
   "execution_count": 10,
   "id": "d826f154",
   "metadata": {
    "execution": {
     "iopub.execute_input": "2022-04-01T03:38:23.568312Z",
     "iopub.status.busy": "2022-04-01T03:38:23.567720Z",
     "iopub.status.idle": "2022-04-01T03:38:23.578991Z",
     "shell.execute_reply": "2022-04-01T03:38:23.578405Z",
     "shell.execute_reply.started": "2022-04-01T03:26:05.186884Z"
    },
    "papermill": {
     "duration": 0.03838,
     "end_time": "2022-04-01T03:38:23.579125",
     "exception": false,
     "start_time": "2022-04-01T03:38:23.540745",
     "status": "completed"
    },
    "tags": []
   },
   "outputs": [
    {
     "name": "stdout",
     "output_type": "stream",
     "text": [
      "\u001b[94mNumber of rows in test data: 4277\n",
      "\u001b[94mNumber of columns in test data: 13\n",
      "\u001b[94mNumber of values in train data: 54484\n",
      "\u001b[94mNo of rows with missing values  in test data: 1117\n"
     ]
    }
   ],
   "source": [
    "print(f'\\033[94mNumber of rows in test data: {test.shape[0]}')\n",
    "print(f'\\033[94mNumber of columns in test data: {test.shape[1]}')\n",
    "print(f'\\033[94mNumber of values in train data: {test.count().sum()}')\n",
    "print(f'\\033[94mNo of rows with missing values  in test data: {sum(test.isna().sum())}')"
   ]
  },
  {
   "cell_type": "markdown",
   "id": "23e913e9",
   "metadata": {
    "papermill": {
     "duration": 0.024057,
     "end_time": "2022-04-01T03:38:23.627468",
     "exception": false,
     "start_time": "2022-04-01T03:38:23.603411",
     "status": "completed"
    },
    "tags": []
   },
   "source": [
    "#### Column Wise missing values"
   ]
  },
  {
   "cell_type": "code",
   "execution_count": 11,
   "id": "b3a651e4",
   "metadata": {
    "execution": {
     "iopub.execute_input": "2022-04-01T03:38:23.680503Z",
     "iopub.status.busy": "2022-04-01T03:38:23.679551Z",
     "iopub.status.idle": "2022-04-01T03:38:23.688527Z",
     "shell.execute_reply": "2022-04-01T03:38:23.689002Z",
     "shell.execute_reply.started": "2022-04-01T03:26:26.607504Z"
    },
    "papermill": {
     "duration": 0.036794,
     "end_time": "2022-04-01T03:38:23.689181",
     "exception": false,
     "start_time": "2022-04-01T03:38:23.652387",
     "status": "completed"
    },
    "tags": []
   },
   "outputs": [
    {
     "name": "stdout",
     "output_type": "stream",
     "text": [
      "\u001b[94m\n",
      "FoodCourt       106\n",
      "Spa             101\n",
      "Cabin           100\n",
      "ShoppingMall     98\n",
      "Name             94\n",
      "CryoSleep        93\n",
      "VIP              93\n",
      "Destination      92\n",
      "Age              91\n",
      "HomePlanet       87\n",
      "RoomService      82\n",
      "VRDeck           80\n",
      "PassengerId       0\n",
      "dtype: int64\n"
     ]
    }
   ],
   "source": [
    "print(f'\\033[94m')\n",
    "print((test.isna().sum().sort_values(ascending = False)))"
   ]
  },
  {
   "cell_type": "markdown",
   "id": "d1d95e9b",
   "metadata": {
    "papermill": {
     "duration": 0.025583,
     "end_time": "2022-04-01T03:38:23.740526",
     "exception": false,
     "start_time": "2022-04-01T03:38:23.714943",
     "status": "completed"
    },
    "tags": []
   },
   "source": [
    "#### Basic statistics of test data \n",
    "\n",
    "Below is the basic statistics for each variables which contain information on count, mean, standard deviation, minimum, 1st quartile, median, 3rd quartile and maximum."
   ]
  },
  {
   "cell_type": "code",
   "execution_count": 12,
   "id": "a466bcdd",
   "metadata": {
    "execution": {
     "iopub.execute_input": "2022-04-01T03:38:23.797688Z",
     "iopub.status.busy": "2022-04-01T03:38:23.796738Z",
     "iopub.status.idle": "2022-04-01T03:38:23.816522Z",
     "shell.execute_reply": "2022-04-01T03:38:23.816925Z",
     "shell.execute_reply.started": "2022-04-01T03:28:07.188309Z"
    },
    "papermill": {
     "duration": 0.051542,
     "end_time": "2022-04-01T03:38:23.817091",
     "exception": false,
     "start_time": "2022-04-01T03:38:23.765549",
     "status": "completed"
    },
    "tags": []
   },
   "outputs": [
    {
     "data": {
      "text/html": [
       "<div>\n",
       "<style scoped>\n",
       "    .dataframe tbody tr th:only-of-type {\n",
       "        vertical-align: middle;\n",
       "    }\n",
       "\n",
       "    .dataframe tbody tr th {\n",
       "        vertical-align: top;\n",
       "    }\n",
       "\n",
       "    .dataframe thead th {\n",
       "        text-align: right;\n",
       "    }\n",
       "</style>\n",
       "<table border=\"1\" class=\"dataframe\">\n",
       "  <thead>\n",
       "    <tr style=\"text-align: right;\">\n",
       "      <th></th>\n",
       "      <th>Age</th>\n",
       "      <th>RoomService</th>\n",
       "      <th>FoodCourt</th>\n",
       "      <th>ShoppingMall</th>\n",
       "      <th>Spa</th>\n",
       "      <th>VRDeck</th>\n",
       "    </tr>\n",
       "  </thead>\n",
       "  <tbody>\n",
       "    <tr>\n",
       "      <th>count</th>\n",
       "      <td>4186.00</td>\n",
       "      <td>4195.00</td>\n",
       "      <td>4171.00</td>\n",
       "      <td>4179.00</td>\n",
       "      <td>4176.00</td>\n",
       "      <td>4197.00</td>\n",
       "    </tr>\n",
       "    <tr>\n",
       "      <th>mean</th>\n",
       "      <td>28.66</td>\n",
       "      <td>219.27</td>\n",
       "      <td>439.48</td>\n",
       "      <td>177.30</td>\n",
       "      <td>303.05</td>\n",
       "      <td>310.71</td>\n",
       "    </tr>\n",
       "    <tr>\n",
       "      <th>std</th>\n",
       "      <td>14.18</td>\n",
       "      <td>607.01</td>\n",
       "      <td>1527.66</td>\n",
       "      <td>560.82</td>\n",
       "      <td>1117.19</td>\n",
       "      <td>1246.99</td>\n",
       "    </tr>\n",
       "    <tr>\n",
       "      <th>min</th>\n",
       "      <td>0.00</td>\n",
       "      <td>0.00</td>\n",
       "      <td>0.00</td>\n",
       "      <td>0.00</td>\n",
       "      <td>0.00</td>\n",
       "      <td>0.00</td>\n",
       "    </tr>\n",
       "    <tr>\n",
       "      <th>25%</th>\n",
       "      <td>19.00</td>\n",
       "      <td>0.00</td>\n",
       "      <td>0.00</td>\n",
       "      <td>0.00</td>\n",
       "      <td>0.00</td>\n",
       "      <td>0.00</td>\n",
       "    </tr>\n",
       "    <tr>\n",
       "      <th>50%</th>\n",
       "      <td>26.00</td>\n",
       "      <td>0.00</td>\n",
       "      <td>0.00</td>\n",
       "      <td>0.00</td>\n",
       "      <td>0.00</td>\n",
       "      <td>0.00</td>\n",
       "    </tr>\n",
       "    <tr>\n",
       "      <th>75%</th>\n",
       "      <td>37.00</td>\n",
       "      <td>53.00</td>\n",
       "      <td>78.00</td>\n",
       "      <td>33.00</td>\n",
       "      <td>50.00</td>\n",
       "      <td>36.00</td>\n",
       "    </tr>\n",
       "    <tr>\n",
       "      <th>max</th>\n",
       "      <td>79.00</td>\n",
       "      <td>11567.00</td>\n",
       "      <td>25273.00</td>\n",
       "      <td>8292.00</td>\n",
       "      <td>19844.00</td>\n",
       "      <td>22272.00</td>\n",
       "    </tr>\n",
       "  </tbody>\n",
       "</table>\n",
       "</div>"
      ],
      "text/plain": [
       "          Age  RoomService  FoodCourt  ShoppingMall      Spa   VRDeck\n",
       "count 4186.00      4195.00    4171.00       4179.00  4176.00  4197.00\n",
       "mean    28.66       219.27     439.48        177.30   303.05   310.71\n",
       "std     14.18       607.01    1527.66        560.82  1117.19  1246.99\n",
       "min      0.00         0.00       0.00          0.00     0.00     0.00\n",
       "25%     19.00         0.00       0.00          0.00     0.00     0.00\n",
       "50%     26.00         0.00       0.00          0.00     0.00     0.00\n",
       "75%     37.00        53.00      78.00         33.00    50.00    36.00\n",
       "max     79.00     11567.00   25273.00       8292.00 19844.00 22272.00"
      ]
     },
     "execution_count": 12,
     "metadata": {},
     "output_type": "execute_result"
    }
   ],
   "source": [
    "test.describe()"
   ]
  },
  {
   "cell_type": "markdown",
   "id": "4272afae",
   "metadata": {
    "papermill": {
     "duration": 0.025361,
     "end_time": "2022-04-01T03:38:23.867980",
     "exception": false,
     "start_time": "2022-04-01T03:38:23.842619",
     "status": "completed"
    },
    "tags": []
   },
   "source": [
    "### Submission File\n",
    "\n",
    "#### Quick view of submission File"
   ]
  },
  {
   "cell_type": "code",
   "execution_count": 13,
   "id": "5c8e659c",
   "metadata": {
    "execution": {
     "iopub.execute_input": "2022-04-01T03:38:23.927773Z",
     "iopub.status.busy": "2022-04-01T03:38:23.926996Z",
     "iopub.status.idle": "2022-04-01T03:38:23.930732Z",
     "shell.execute_reply": "2022-04-01T03:38:23.930217Z",
     "shell.execute_reply.started": "2022-04-01T03:28:47.346836Z"
    },
    "papermill": {
     "duration": 0.037668,
     "end_time": "2022-04-01T03:38:23.930863",
     "exception": false,
     "start_time": "2022-04-01T03:38:23.893195",
     "status": "completed"
    },
    "tags": []
   },
   "outputs": [
    {
     "data": {
      "text/html": [
       "<div>\n",
       "<style scoped>\n",
       "    .dataframe tbody tr th:only-of-type {\n",
       "        vertical-align: middle;\n",
       "    }\n",
       "\n",
       "    .dataframe tbody tr th {\n",
       "        vertical-align: top;\n",
       "    }\n",
       "\n",
       "    .dataframe thead th {\n",
       "        text-align: right;\n",
       "    }\n",
       "</style>\n",
       "<table border=\"1\" class=\"dataframe\">\n",
       "  <thead>\n",
       "    <tr style=\"text-align: right;\">\n",
       "      <th></th>\n",
       "      <th>PassengerId</th>\n",
       "      <th>Transported</th>\n",
       "    </tr>\n",
       "  </thead>\n",
       "  <tbody>\n",
       "    <tr>\n",
       "      <th>0</th>\n",
       "      <td>0013_01</td>\n",
       "      <td>False</td>\n",
       "    </tr>\n",
       "    <tr>\n",
       "      <th>1</th>\n",
       "      <td>0018_01</td>\n",
       "      <td>False</td>\n",
       "    </tr>\n",
       "    <tr>\n",
       "      <th>2</th>\n",
       "      <td>0019_01</td>\n",
       "      <td>False</td>\n",
       "    </tr>\n",
       "    <tr>\n",
       "      <th>3</th>\n",
       "      <td>0021_01</td>\n",
       "      <td>False</td>\n",
       "    </tr>\n",
       "    <tr>\n",
       "      <th>4</th>\n",
       "      <td>0023_01</td>\n",
       "      <td>False</td>\n",
       "    </tr>\n",
       "  </tbody>\n",
       "</table>\n",
       "</div>"
      ],
      "text/plain": [
       "  PassengerId  Transported\n",
       "0     0013_01        False\n",
       "1     0018_01        False\n",
       "2     0019_01        False\n",
       "3     0021_01        False\n",
       "4     0023_01        False"
      ]
     },
     "execution_count": 13,
     "metadata": {},
     "output_type": "execute_result"
    }
   ],
   "source": [
    "submission.head()"
   ]
  },
  {
   "cell_type": "markdown",
   "id": "8365a7bd",
   "metadata": {
    "papermill": {
     "duration": 0.025127,
     "end_time": "2022-04-01T03:38:23.981598",
     "exception": false,
     "start_time": "2022-04-01T03:38:23.956471",
     "status": "completed"
    },
    "tags": []
   },
   "source": [
    "# EDA"
   ]
  },
  {
   "cell_type": "markdown",
   "id": "2a876099",
   "metadata": {
    "papermill": {
     "duration": 0.02516,
     "end_time": "2022-04-01T03:38:24.032337",
     "exception": false,
     "start_time": "2022-04-01T03:38:24.007177",
     "status": "completed"
    },
    "tags": []
   },
   "source": [
    "# Step 1. 라이브러리 및 데이터 불러오기\n",
    "\n",
    "- 라이브러리 버전 확인"
   ]
  },
  {
   "cell_type": "markdown",
   "id": "7392a1b5",
   "metadata": {
    "papermill": {
     "duration": 0.025071,
     "end_time": "2022-04-01T03:38:24.082874",
     "exception": false,
     "start_time": "2022-04-01T03:38:24.057803",
     "status": "completed"
    },
    "tags": []
   },
   "source": [
    "# Step 2. 탐색적 자료 분석(EDA)\n",
    "\n",
    "- 데이터 시각화\n",
    "- 산점도, 막대 그래프 등\n",
    "- 그래프 해석해서 설명을 달아야 함\n",
    "- 약간의 데이터 전처리"
   ]
  },
  {
   "cell_type": "markdown",
   "id": "4c620991",
   "metadata": {
    "papermill": {
     "duration": 0.025417,
     "end_time": "2022-04-01T03:38:24.135416",
     "exception": false,
     "start_time": "2022-04-01T03:38:24.109999",
     "status": "completed"
    },
    "tags": []
   },
   "source": [
    "# Step 3. 데이터 전처리\n",
    "\n",
    "- Feature Engineering\n",
    "- ML 모형을 돌리기 위해 표준화, 원핫-인코딩 등등등...\n",
    "- 파생변수 (도출 변수) 생성\n",
    "    + 왜 이 변수를 만들었는지에 대한 설명이 필요"
   ]
  },
  {
   "cell_type": "markdown",
   "id": "c7d64023",
   "metadata": {
    "papermill": {
     "duration": 0.025388,
     "end_time": "2022-04-01T03:38:24.187068",
     "exception": false,
     "start_time": "2022-04-01T03:38:24.161680",
     "status": "completed"
    },
    "tags": []
   },
   "source": [
    "# Step 4. 머신러닝 모형 개발\n",
    "\n",
    "- 모형에 대한 설명 필요\n",
    "- 모형을 1-2개 정도만 사용\n",
    "- 교차 검증\n",
    "- 하이퍼파라미터 튜닝"
   ]
  },
  {
   "cell_type": "markdown",
   "id": "7903bcd1",
   "metadata": {
    "papermill": {
     "duration": 0.025394,
     "end_time": "2022-04-01T03:38:24.238078",
     "exception": false,
     "start_time": "2022-04-01T03:38:24.212684",
     "status": "completed"
    },
    "tags": []
   },
   "source": [
    "# Step 5. 모형 평가\n",
    "- 훈련데이터를 꼬개서 훈련데이터와 검증데이터로 분류\n",
    "- 정확도 비교\n",
    "- 혼동행렬( Confusion Matrix) 설명"
   ]
  },
  {
   "cell_type": "markdown",
   "id": "9759a8b0",
   "metadata": {
    "papermill": {
     "duration": 0.025324,
     "end_time": "2022-04-01T03:38:24.289072",
     "exception": false,
     "start_time": "2022-04-01T03:38:24.263748",
     "status": "completed"
    },
    "tags": []
   },
   "source": [
    "# Step 6. 제출\n",
    "\n",
    "- 제출 양식은 샘플에 맞춰서"
   ]
  },
  {
   "cell_type": "markdown",
   "id": "689eb9f5",
   "metadata": {
    "papermill": {
     "duration": 0.025372,
     "end_time": "2022-04-01T03:38:24.340538",
     "exception": false,
     "start_time": "2022-04-01T03:38:24.315166",
     "status": "completed"
    },
    "tags": []
   },
   "source": [
    "# Reference (참고)\n",
    "\n",
    "- 다른 사람들의 code 설명을 보고 따라서 침\n",
    "- 노트북 표절 방지 위해, 참조한 코드는 반드시 링크 걸어둘 것\n",
    "- 저자 이름, 글 제목, 링크 주소"
   ]
  },
  {
   "cell_type": "markdown",
   "id": "de4cdbc3",
   "metadata": {
    "papermill": {
     "duration": 0.026422,
     "end_time": "2022-04-01T03:38:24.393132",
     "exception": false,
     "start_time": "2022-04-01T03:38:24.366710",
     "status": "completed"
    },
    "tags": []
   },
   "source": [
    "# 마감일\n",
    "\n",
    "- 4월 12일 17시 40분\n",
    "- 제출 형태\n",
    "    + 개인 DM으로 Leaderboard 랭킹 사진 캡처\n",
    "    + 고용노동부 보고 양식"
   ]
  }
 ],
 "metadata": {
  "kernelspec": {
   "display_name": "Python 3",
   "language": "python",
   "name": "python3"
  },
  "language_info": {
   "codemirror_mode": {
    "name": "ipython",
    "version": 3
   },
   "file_extension": ".py",
   "mimetype": "text/x-python",
   "name": "python",
   "nbconvert_exporter": "python",
   "pygments_lexer": "ipython3",
   "version": "3.7.12"
  },
  "papermill": {
   "default_parameters": {},
   "duration": 82.872298,
   "end_time": "2022-04-01T03:38:25.230024",
   "environment_variables": {},
   "exception": null,
   "input_path": "__notebook__.ipynb",
   "output_path": "__notebook__.ipynb",
   "parameters": {},
   "start_time": "2022-04-01T03:37:02.357726",
   "version": "2.3.3"
  }
 },
 "nbformat": 4,
 "nbformat_minor": 5
}
