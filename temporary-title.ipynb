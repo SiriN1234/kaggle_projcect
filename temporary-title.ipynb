{
 "cells": [
  {
   "cell_type": "code",
   "execution_count": 1,
   "id": "9ee6d84c",
   "metadata": {
    "_cell_guid": "b1076dfc-b9ad-4769-8c92-a6c4dae69d19",
    "_uuid": "8f2839f25d086af736a60e9eeb907d3b93b6e0e5",
    "execution": {
     "iopub.execute_input": "2022-04-04T13:58:26.139266Z",
     "iopub.status.busy": "2022-04-04T13:58:26.138095Z",
     "iopub.status.idle": "2022-04-04T13:58:26.153700Z",
     "shell.execute_reply": "2022-04-04T13:58:26.154629Z",
     "shell.execute_reply.started": "2022-04-04T13:56:09.687869Z"
    },
    "papermill": {
     "duration": 0.11231,
     "end_time": "2022-04-04T13:58:26.155036",
     "exception": false,
     "start_time": "2022-04-04T13:58:26.042726",
     "status": "completed"
    },
    "tags": []
   },
   "outputs": [
    {
     "name": "stdout",
     "output_type": "stream",
     "text": [
      "/kaggle/input/spaceship-titanic/sample_submission.csv\n",
      "/kaggle/input/spaceship-titanic/train.csv\n",
      "/kaggle/input/spaceship-titanic/test.csv\n"
     ]
    }
   ],
   "source": [
    "# This Python 3 environment comes with many helpful analytics libraries installed\n",
    "# It is defined by the kaggle/python Docker image: https://github.com/kaggle/docker-python\n",
    "# For example, here's several helpful packages to load\n",
    "\n",
    "import numpy as np # linear algebra\n",
    "import pandas as pd # data processing, CSV file I/O (e.g. pd.read_csv)\n",
    "\n",
    "# Input data files are available in the read-only \"../input/\" directory\n",
    "# For example, running this (by clicking run or pressing Shift+Enter) will list all files under the input directory\n",
    "\n",
    "import os\n",
    "for dirname, _, filenames in os.walk('/kaggle/input'):\n",
    "    for filename in filenames:\n",
    "        print(os.path.join(dirname, filename))\n",
    "\n",
    "# You can write up to 20GB to the current directory (/kaggle/working/) that gets preserved as output when you create a version using \"Save & Run All\" \n",
    "# You can also write temporary files to /kaggle/temp/, but they won't be saved outside of the current session"
   ]
  },
  {
   "cell_type": "markdown",
   "id": "1a15ffb4",
   "metadata": {
    "papermill": {
     "duration": 0.077657,
     "end_time": "2022-04-04T13:58:26.311228",
     "exception": false,
     "start_time": "2022-04-04T13:58:26.233571",
     "status": "completed"
    },
    "tags": []
   },
   "source": [
    "# File and Data Field Descriptions\n",
    "\n",
    "- train.csv - Personal records for about two-thirds (~8700) of the passengers, to be used as training data.\n",
    "    - PassengerId - A unique Id for each passenger. Each Id takes the form gggg_pp where gggg indicates a group the passenger is travelling with and pp is their number within the group. People in a group are often family members, but not always.\n",
    "    - HomePlanet - The planet the passenger departed from, typically their planet of permanent residence.\n",
    "    - CryoSleep - Indicates whether the passenger elected to be put into suspended animation for the duration of the voyage. Passengers in cryosleep are confined to their cabins.\n",
    "    - Cabin - The cabin number where the passenger is staying. Takes the form deck/num/side, where side can be either P for Port or S for Starboard.\n",
    "    - Destination - The planet the passenger will be debarking to.\n",
    "    - Age - The age of the passenger.\n",
    "    - VIP - Whether the passenger has paid for special VIP service during the voyage.\n",
    "    - RoomService, FoodCourt, ShoppingMall, Spa, VRDeck - Amount the passenger has billed at each of the Spaceship Titanic's many luxury amenities.\n",
    "    - Name - The first and last names of the passenger.\n",
    "    - Transported - Whether the passenger was transported to another dimension. This is the target, the column you are trying to predict.\n",
    "- test.csv - Personal records for the remaining one-third (~4300) of the passengers, to be used as test data. Your task is to predict the value of Transported for the passengers in this set.\n",
    "- sample_submission.csv - A submission file in the correct format.\n",
    "    - PassengerId - Id for each passenger in the test set.\n",
    "    - Transported - The target. For each passenger, predict either True or False."
   ]
  },
  {
   "cell_type": "markdown",
   "id": "74ad0052",
   "metadata": {
    "papermill": {
     "duration": 0.076684,
     "end_time": "2022-04-04T13:58:26.465685",
     "exception": false,
     "start_time": "2022-04-04T13:58:26.389001",
     "status": "completed"
    },
    "tags": []
   },
   "source": [
    "# 파일 및 데이터 필드 설명\n",
    "- train.csv - 승객의 약 3분의 2(~8700)에 대한 개인 기록으로, 훈련 데이터로 사용됩니다.\n",
    "    - PassengerId - 각 승객의 고유 ID입니다. 각 ID는 ggg_pp 형식을 취하며, 여기서 ggg는 승객이 함께 여행하는 그룹을 나타내며, pp는 그룹 내 번호를 나타냅니다. 그룹의 사람들은 종종 가족 구성원이지만 항상 그렇지는 않다.\n",
    "    - HomePlanet - 승객이 출발한 행성으로, 일반적으로 영구 거주지 행성입니다.\n",
    "    - CryoSleep - 승객이 항해가 진행되는 동안 일시 정지 애니메이션으로 전환되도록 선택했는지 여부를 나타냅니다. 저온 수면 중인 승객들은 객실에 갇히게 된다.\n",
    "    - 객실 - 승객이 머물고 있는 객실 번호입니다. 갑판/번호/측면 형식을 취합니다. 여기서 측면은 좌현에 P 또는 우현에 S가 될 수 있습니다.\n",
    "    - 목적지 - 승객이 주차를 해제할 행성입니다.\n",
    "    - 연령 - 승객의 연령입니다.\n",
    "    - VIP - 승객이 여행 중 특별 VIP 서비스에 비용을 지불했는지 여부\n",
    "    - 룸 서비스, 푸드 코트, 쇼핑 몰, 스파, VRDeck - 승객이 우주선 타이타닉의 많은 고급 편의 시설 각각에서 청구한 금액입니다.\n",
    "    - 이름 - 승객의 이름과 성.\n",
    "    - 운송됨 - 승객이 다른 차원으로 운송되었는지 여부. 예측하려는 대상 열입니다.\n",
    "- test.csv - 테스트 데이터로 사용되는 나머지 승객의 1/3(~4300)에 대한 개인 기록. 작업은 이 세트의 승객에 대한 운송 값을 예측하는 것입니다.\n",
    "- sample_submission.csv - 올바른 형식의 송신 파일.\n",
    "    - PassengerId - 테스트 세트에 포함된 각 승객의 ID입니다.\n",
    "    - Transported - 타겟. 각 승객에 대해 참 또는 거짓을 예측합니다."
   ]
  },
  {
   "cell_type": "markdown",
   "id": "1b196057",
   "metadata": {
    "papermill": {
     "duration": 0.077091,
     "end_time": "2022-04-04T13:58:26.620009",
     "exception": false,
     "start_time": "2022-04-04T13:58:26.542918",
     "status": "completed"
    },
    "tags": []
   },
   "source": [
    "# Step 1. 라이브러리 및 데이터 불러오기\n",
    "\n",
    "- 본 프로젝트 수행을 위한 필수 라이브러리를 불러온다. "
   ]
  },
  {
   "cell_type": "code",
   "execution_count": 2,
   "id": "4c82219b",
   "metadata": {
    "execution": {
     "iopub.execute_input": "2022-04-04T13:58:26.777055Z",
     "iopub.status.busy": "2022-04-04T13:58:26.776421Z",
     "iopub.status.idle": "2022-04-04T13:58:27.785847Z",
     "shell.execute_reply": "2022-04-04T13:58:27.785025Z",
     "shell.execute_reply.started": "2022-04-04T13:56:09.933283Z"
    },
    "papermill": {
     "duration": 1.08891,
     "end_time": "2022-04-04T13:58:27.786014",
     "exception": false,
     "start_time": "2022-04-04T13:58:26.697104",
     "status": "completed"
    },
    "tags": []
   },
   "outputs": [
    {
     "name": "stdout",
     "output_type": "stream",
     "text": [
      "numpy version: 1.20.3\n",
      "pandas version: 1.3.5\n",
      "matplotlib version: 3.5.1\n",
      "seaborn version: 0.11.2\n"
     ]
    }
   ],
   "source": [
    "# 데이터 가공 \n",
    "import numpy as np \n",
    "import pandas as pd \n",
    "\n",
    "print(\"numpy version:\", np.__version__)\n",
    "print(\"pandas version:\", pd.__version__)\n",
    "\n",
    "# 데이터 시각화\n",
    "import matplotlib\n",
    "import matplotlib.pyplot as plt \n",
    "import seaborn as sns \n",
    "print(\"matplotlib version:\", matplotlib.__version__)\n",
    "print(\"seaborn version:\", sns.__version__)"
   ]
  },
  {
   "cell_type": "markdown",
   "id": "384b90ad",
   "metadata": {
    "papermill": {
     "duration": 0.078678,
     "end_time": "2022-04-04T13:58:27.943583",
     "exception": false,
     "start_time": "2022-04-04T13:58:27.864905",
     "status": "completed"
    },
    "tags": []
   },
   "source": [
    "- 이번에는 주어진 데이터를 불러온다. \n",
    "- 훈련데이터는 8,693개, 테스트 데이터는 4,277개로 구성이 되어 있음\n",
    "- 독립변수 컬럼 갯수는 13개이며, 종속 변수는 1개로 구성되어 있음"
   ]
  },
  {
   "cell_type": "code",
   "execution_count": 3,
   "id": "114e540b",
   "metadata": {
    "execution": {
     "iopub.execute_input": "2022-04-04T13:58:28.104182Z",
     "iopub.status.busy": "2022-04-04T13:58:28.103512Z",
     "iopub.status.idle": "2022-04-04T13:58:28.190685Z",
     "shell.execute_reply": "2022-04-04T13:58:28.191258Z",
     "shell.execute_reply.started": "2022-04-04T13:56:11.119198Z"
    },
    "papermill": {
     "duration": 0.168325,
     "end_time": "2022-04-04T13:58:28.191432",
     "exception": false,
     "start_time": "2022-04-04T13:58:28.023107",
     "status": "completed"
    },
    "tags": []
   },
   "outputs": [
    {
     "data": {
      "text/plain": [
       "((8693, 14), (4277, 13), (4277, 2))"
      ]
     },
     "execution_count": 3,
     "metadata": {},
     "output_type": "execute_result"
    }
   ],
   "source": [
    "train_data = pd.read_csv(\"../input/spaceship-titanic/train.csv\")\n",
    "test_data = pd.read_csv(\"../input/spaceship-titanic/test.csv\")\n",
    "sample_submission = pd.read_csv(\"../input/spaceship-titanic/sample_submission.csv\")\n",
    "\n",
    "train_data.shape, test_data.shape, sample_submission.shape"
   ]
  },
  {
   "cell_type": "code",
   "execution_count": 4,
   "id": "5a81cef4",
   "metadata": {
    "execution": {
     "iopub.execute_input": "2022-04-04T13:58:28.358289Z",
     "iopub.status.busy": "2022-04-04T13:58:28.357604Z",
     "iopub.status.idle": "2022-04-04T13:58:28.384809Z",
     "shell.execute_reply": "2022-04-04T13:58:28.384292Z",
     "shell.execute_reply.started": "2022-04-04T13:56:11.223797Z"
    },
    "papermill": {
     "duration": 0.113827,
     "end_time": "2022-04-04T13:58:28.384950",
     "exception": false,
     "start_time": "2022-04-04T13:58:28.271123",
     "status": "completed"
    },
    "tags": []
   },
   "outputs": [
    {
     "data": {
      "text/html": [
       "<div>\n",
       "<style scoped>\n",
       "    .dataframe tbody tr th:only-of-type {\n",
       "        vertical-align: middle;\n",
       "    }\n",
       "\n",
       "    .dataframe tbody tr th {\n",
       "        vertical-align: top;\n",
       "    }\n",
       "\n",
       "    .dataframe thead th {\n",
       "        text-align: right;\n",
       "    }\n",
       "</style>\n",
       "<table border=\"1\" class=\"dataframe\">\n",
       "  <thead>\n",
       "    <tr style=\"text-align: right;\">\n",
       "      <th></th>\n",
       "      <th>PassengerId</th>\n",
       "      <th>HomePlanet</th>\n",
       "      <th>CryoSleep</th>\n",
       "      <th>Cabin</th>\n",
       "      <th>Destination</th>\n",
       "      <th>Age</th>\n",
       "      <th>VIP</th>\n",
       "      <th>RoomService</th>\n",
       "      <th>FoodCourt</th>\n",
       "      <th>ShoppingMall</th>\n",
       "      <th>Spa</th>\n",
       "      <th>VRDeck</th>\n",
       "      <th>Name</th>\n",
       "      <th>Transported</th>\n",
       "    </tr>\n",
       "  </thead>\n",
       "  <tbody>\n",
       "    <tr>\n",
       "      <th>0</th>\n",
       "      <td>0001_01</td>\n",
       "      <td>Europa</td>\n",
       "      <td>False</td>\n",
       "      <td>B/0/P</td>\n",
       "      <td>TRAPPIST-1e</td>\n",
       "      <td>39.0</td>\n",
       "      <td>False</td>\n",
       "      <td>0.0</td>\n",
       "      <td>0.0</td>\n",
       "      <td>0.0</td>\n",
       "      <td>0.0</td>\n",
       "      <td>0.0</td>\n",
       "      <td>Maham Ofracculy</td>\n",
       "      <td>False</td>\n",
       "    </tr>\n",
       "    <tr>\n",
       "      <th>1</th>\n",
       "      <td>0002_01</td>\n",
       "      <td>Earth</td>\n",
       "      <td>False</td>\n",
       "      <td>F/0/S</td>\n",
       "      <td>TRAPPIST-1e</td>\n",
       "      <td>24.0</td>\n",
       "      <td>False</td>\n",
       "      <td>109.0</td>\n",
       "      <td>9.0</td>\n",
       "      <td>25.0</td>\n",
       "      <td>549.0</td>\n",
       "      <td>44.0</td>\n",
       "      <td>Juanna Vines</td>\n",
       "      <td>True</td>\n",
       "    </tr>\n",
       "    <tr>\n",
       "      <th>2</th>\n",
       "      <td>0003_01</td>\n",
       "      <td>Europa</td>\n",
       "      <td>False</td>\n",
       "      <td>A/0/S</td>\n",
       "      <td>TRAPPIST-1e</td>\n",
       "      <td>58.0</td>\n",
       "      <td>True</td>\n",
       "      <td>43.0</td>\n",
       "      <td>3576.0</td>\n",
       "      <td>0.0</td>\n",
       "      <td>6715.0</td>\n",
       "      <td>49.0</td>\n",
       "      <td>Altark Susent</td>\n",
       "      <td>False</td>\n",
       "    </tr>\n",
       "    <tr>\n",
       "      <th>3</th>\n",
       "      <td>0003_02</td>\n",
       "      <td>Europa</td>\n",
       "      <td>False</td>\n",
       "      <td>A/0/S</td>\n",
       "      <td>TRAPPIST-1e</td>\n",
       "      <td>33.0</td>\n",
       "      <td>False</td>\n",
       "      <td>0.0</td>\n",
       "      <td>1283.0</td>\n",
       "      <td>371.0</td>\n",
       "      <td>3329.0</td>\n",
       "      <td>193.0</td>\n",
       "      <td>Solam Susent</td>\n",
       "      <td>False</td>\n",
       "    </tr>\n",
       "    <tr>\n",
       "      <th>4</th>\n",
       "      <td>0004_01</td>\n",
       "      <td>Earth</td>\n",
       "      <td>False</td>\n",
       "      <td>F/1/S</td>\n",
       "      <td>TRAPPIST-1e</td>\n",
       "      <td>16.0</td>\n",
       "      <td>False</td>\n",
       "      <td>303.0</td>\n",
       "      <td>70.0</td>\n",
       "      <td>151.0</td>\n",
       "      <td>565.0</td>\n",
       "      <td>2.0</td>\n",
       "      <td>Willy Santantines</td>\n",
       "      <td>True</td>\n",
       "    </tr>\n",
       "    <tr>\n",
       "      <th>5</th>\n",
       "      <td>0005_01</td>\n",
       "      <td>Earth</td>\n",
       "      <td>False</td>\n",
       "      <td>F/0/P</td>\n",
       "      <td>PSO J318.5-22</td>\n",
       "      <td>44.0</td>\n",
       "      <td>False</td>\n",
       "      <td>0.0</td>\n",
       "      <td>483.0</td>\n",
       "      <td>0.0</td>\n",
       "      <td>291.0</td>\n",
       "      <td>0.0</td>\n",
       "      <td>Sandie Hinetthews</td>\n",
       "      <td>True</td>\n",
       "    </tr>\n",
       "    <tr>\n",
       "      <th>6</th>\n",
       "      <td>0006_01</td>\n",
       "      <td>Earth</td>\n",
       "      <td>False</td>\n",
       "      <td>F/2/S</td>\n",
       "      <td>TRAPPIST-1e</td>\n",
       "      <td>26.0</td>\n",
       "      <td>False</td>\n",
       "      <td>42.0</td>\n",
       "      <td>1539.0</td>\n",
       "      <td>3.0</td>\n",
       "      <td>0.0</td>\n",
       "      <td>0.0</td>\n",
       "      <td>Billex Jacostaffey</td>\n",
       "      <td>True</td>\n",
       "    </tr>\n",
       "    <tr>\n",
       "      <th>7</th>\n",
       "      <td>0006_02</td>\n",
       "      <td>Earth</td>\n",
       "      <td>True</td>\n",
       "      <td>G/0/S</td>\n",
       "      <td>TRAPPIST-1e</td>\n",
       "      <td>28.0</td>\n",
       "      <td>False</td>\n",
       "      <td>0.0</td>\n",
       "      <td>0.0</td>\n",
       "      <td>0.0</td>\n",
       "      <td>0.0</td>\n",
       "      <td>NaN</td>\n",
       "      <td>Candra Jacostaffey</td>\n",
       "      <td>True</td>\n",
       "    </tr>\n",
       "    <tr>\n",
       "      <th>8</th>\n",
       "      <td>0007_01</td>\n",
       "      <td>Earth</td>\n",
       "      <td>False</td>\n",
       "      <td>F/3/S</td>\n",
       "      <td>TRAPPIST-1e</td>\n",
       "      <td>35.0</td>\n",
       "      <td>False</td>\n",
       "      <td>0.0</td>\n",
       "      <td>785.0</td>\n",
       "      <td>17.0</td>\n",
       "      <td>216.0</td>\n",
       "      <td>0.0</td>\n",
       "      <td>Andona Beston</td>\n",
       "      <td>True</td>\n",
       "    </tr>\n",
       "    <tr>\n",
       "      <th>9</th>\n",
       "      <td>0008_01</td>\n",
       "      <td>Europa</td>\n",
       "      <td>True</td>\n",
       "      <td>B/1/P</td>\n",
       "      <td>55 Cancri e</td>\n",
       "      <td>14.0</td>\n",
       "      <td>False</td>\n",
       "      <td>0.0</td>\n",
       "      <td>0.0</td>\n",
       "      <td>0.0</td>\n",
       "      <td>0.0</td>\n",
       "      <td>0.0</td>\n",
       "      <td>Erraiam Flatic</td>\n",
       "      <td>True</td>\n",
       "    </tr>\n",
       "  </tbody>\n",
       "</table>\n",
       "</div>"
      ],
      "text/plain": [
       "  PassengerId HomePlanet CryoSleep  Cabin    Destination   Age    VIP  \\\n",
       "0     0001_01     Europa     False  B/0/P    TRAPPIST-1e  39.0  False   \n",
       "1     0002_01      Earth     False  F/0/S    TRAPPIST-1e  24.0  False   \n",
       "2     0003_01     Europa     False  A/0/S    TRAPPIST-1e  58.0   True   \n",
       "3     0003_02     Europa     False  A/0/S    TRAPPIST-1e  33.0  False   \n",
       "4     0004_01      Earth     False  F/1/S    TRAPPIST-1e  16.0  False   \n",
       "5     0005_01      Earth     False  F/0/P  PSO J318.5-22  44.0  False   \n",
       "6     0006_01      Earth     False  F/2/S    TRAPPIST-1e  26.0  False   \n",
       "7     0006_02      Earth      True  G/0/S    TRAPPIST-1e  28.0  False   \n",
       "8     0007_01      Earth     False  F/3/S    TRAPPIST-1e  35.0  False   \n",
       "9     0008_01     Europa      True  B/1/P    55 Cancri e  14.0  False   \n",
       "\n",
       "   RoomService  FoodCourt  ShoppingMall     Spa  VRDeck                Name  \\\n",
       "0          0.0        0.0           0.0     0.0     0.0     Maham Ofracculy   \n",
       "1        109.0        9.0          25.0   549.0    44.0        Juanna Vines   \n",
       "2         43.0     3576.0           0.0  6715.0    49.0       Altark Susent   \n",
       "3          0.0     1283.0         371.0  3329.0   193.0        Solam Susent   \n",
       "4        303.0       70.0         151.0   565.0     2.0   Willy Santantines   \n",
       "5          0.0      483.0           0.0   291.0     0.0   Sandie Hinetthews   \n",
       "6         42.0     1539.0           3.0     0.0     0.0  Billex Jacostaffey   \n",
       "7          0.0        0.0           0.0     0.0     NaN  Candra Jacostaffey   \n",
       "8          0.0      785.0          17.0   216.0     0.0       Andona Beston   \n",
       "9          0.0        0.0           0.0     0.0     0.0      Erraiam Flatic   \n",
       "\n",
       "   Transported  \n",
       "0        False  \n",
       "1         True  \n",
       "2        False  \n",
       "3        False  \n",
       "4         True  \n",
       "5         True  \n",
       "6         True  \n",
       "7         True  \n",
       "8         True  \n",
       "9         True  "
      ]
     },
     "execution_count": 4,
     "metadata": {},
     "output_type": "execute_result"
    }
   ],
   "source": [
    "train_data.head(10)"
   ]
  },
  {
   "cell_type": "code",
   "execution_count": 5,
   "id": "fe3c1c72",
   "metadata": {
    "execution": {
     "iopub.execute_input": "2022-04-04T13:58:28.547490Z",
     "iopub.status.busy": "2022-04-04T13:58:28.546831Z",
     "iopub.status.idle": "2022-04-04T13:58:28.584346Z",
     "shell.execute_reply": "2022-04-04T13:58:28.583684Z",
     "shell.execute_reply.started": "2022-04-04T13:56:11.262471Z"
    },
    "papermill": {
     "duration": 0.119609,
     "end_time": "2022-04-04T13:58:28.584498",
     "exception": false,
     "start_time": "2022-04-04T13:58:28.464889",
     "status": "completed"
    },
    "tags": []
   },
   "outputs": [],
   "source": [
    "train_data[['Deck', 'Num', 'Side']] = train_data['Cabin'].str.split('/', expand=True)\n",
    "test_data[['Deck', 'Num', 'Side']] = test_data['Cabin'].str.split('/', expand=True)"
   ]
  },
  {
   "cell_type": "code",
   "execution_count": 6,
   "id": "a14ef50f",
   "metadata": {
    "execution": {
     "iopub.execute_input": "2022-04-04T13:58:28.750677Z",
     "iopub.status.busy": "2022-04-04T13:58:28.749954Z",
     "iopub.status.idle": "2022-04-04T13:58:28.774711Z",
     "shell.execute_reply": "2022-04-04T13:58:28.775321Z",
     "shell.execute_reply.started": "2022-04-04T13:56:11.307422Z"
    },
    "papermill": {
     "duration": 0.109603,
     "end_time": "2022-04-04T13:58:28.775505",
     "exception": false,
     "start_time": "2022-04-04T13:58:28.665902",
     "status": "completed"
    },
    "tags": []
   },
   "outputs": [
    {
     "data": {
      "text/html": [
       "<div>\n",
       "<style scoped>\n",
       "    .dataframe tbody tr th:only-of-type {\n",
       "        vertical-align: middle;\n",
       "    }\n",
       "\n",
       "    .dataframe tbody tr th {\n",
       "        vertical-align: top;\n",
       "    }\n",
       "\n",
       "    .dataframe thead th {\n",
       "        text-align: right;\n",
       "    }\n",
       "</style>\n",
       "<table border=\"1\" class=\"dataframe\">\n",
       "  <thead>\n",
       "    <tr style=\"text-align: right;\">\n",
       "      <th></th>\n",
       "      <th>PassengerId</th>\n",
       "      <th>HomePlanet</th>\n",
       "      <th>CryoSleep</th>\n",
       "      <th>Cabin</th>\n",
       "      <th>Destination</th>\n",
       "      <th>Age</th>\n",
       "      <th>VIP</th>\n",
       "      <th>RoomService</th>\n",
       "      <th>FoodCourt</th>\n",
       "      <th>ShoppingMall</th>\n",
       "      <th>Spa</th>\n",
       "      <th>VRDeck</th>\n",
       "      <th>Name</th>\n",
       "      <th>Transported</th>\n",
       "      <th>Deck</th>\n",
       "      <th>Num</th>\n",
       "      <th>Side</th>\n",
       "    </tr>\n",
       "  </thead>\n",
       "  <tbody>\n",
       "    <tr>\n",
       "      <th>0</th>\n",
       "      <td>0001_01</td>\n",
       "      <td>Europa</td>\n",
       "      <td>False</td>\n",
       "      <td>B/0/P</td>\n",
       "      <td>TRAPPIST-1e</td>\n",
       "      <td>39.0</td>\n",
       "      <td>False</td>\n",
       "      <td>0.0</td>\n",
       "      <td>0.0</td>\n",
       "      <td>0.0</td>\n",
       "      <td>0.0</td>\n",
       "      <td>0.0</td>\n",
       "      <td>Maham Ofracculy</td>\n",
       "      <td>False</td>\n",
       "      <td>B</td>\n",
       "      <td>0</td>\n",
       "      <td>P</td>\n",
       "    </tr>\n",
       "    <tr>\n",
       "      <th>1</th>\n",
       "      <td>0002_01</td>\n",
       "      <td>Earth</td>\n",
       "      <td>False</td>\n",
       "      <td>F/0/S</td>\n",
       "      <td>TRAPPIST-1e</td>\n",
       "      <td>24.0</td>\n",
       "      <td>False</td>\n",
       "      <td>109.0</td>\n",
       "      <td>9.0</td>\n",
       "      <td>25.0</td>\n",
       "      <td>549.0</td>\n",
       "      <td>44.0</td>\n",
       "      <td>Juanna Vines</td>\n",
       "      <td>True</td>\n",
       "      <td>F</td>\n",
       "      <td>0</td>\n",
       "      <td>S</td>\n",
       "    </tr>\n",
       "    <tr>\n",
       "      <th>2</th>\n",
       "      <td>0003_01</td>\n",
       "      <td>Europa</td>\n",
       "      <td>False</td>\n",
       "      <td>A/0/S</td>\n",
       "      <td>TRAPPIST-1e</td>\n",
       "      <td>58.0</td>\n",
       "      <td>True</td>\n",
       "      <td>43.0</td>\n",
       "      <td>3576.0</td>\n",
       "      <td>0.0</td>\n",
       "      <td>6715.0</td>\n",
       "      <td>49.0</td>\n",
       "      <td>Altark Susent</td>\n",
       "      <td>False</td>\n",
       "      <td>A</td>\n",
       "      <td>0</td>\n",
       "      <td>S</td>\n",
       "    </tr>\n",
       "    <tr>\n",
       "      <th>3</th>\n",
       "      <td>0003_02</td>\n",
       "      <td>Europa</td>\n",
       "      <td>False</td>\n",
       "      <td>A/0/S</td>\n",
       "      <td>TRAPPIST-1e</td>\n",
       "      <td>33.0</td>\n",
       "      <td>False</td>\n",
       "      <td>0.0</td>\n",
       "      <td>1283.0</td>\n",
       "      <td>371.0</td>\n",
       "      <td>3329.0</td>\n",
       "      <td>193.0</td>\n",
       "      <td>Solam Susent</td>\n",
       "      <td>False</td>\n",
       "      <td>A</td>\n",
       "      <td>0</td>\n",
       "      <td>S</td>\n",
       "    </tr>\n",
       "    <tr>\n",
       "      <th>4</th>\n",
       "      <td>0004_01</td>\n",
       "      <td>Earth</td>\n",
       "      <td>False</td>\n",
       "      <td>F/1/S</td>\n",
       "      <td>TRAPPIST-1e</td>\n",
       "      <td>16.0</td>\n",
       "      <td>False</td>\n",
       "      <td>303.0</td>\n",
       "      <td>70.0</td>\n",
       "      <td>151.0</td>\n",
       "      <td>565.0</td>\n",
       "      <td>2.0</td>\n",
       "      <td>Willy Santantines</td>\n",
       "      <td>True</td>\n",
       "      <td>F</td>\n",
       "      <td>1</td>\n",
       "      <td>S</td>\n",
       "    </tr>\n",
       "    <tr>\n",
       "      <th>5</th>\n",
       "      <td>0005_01</td>\n",
       "      <td>Earth</td>\n",
       "      <td>False</td>\n",
       "      <td>F/0/P</td>\n",
       "      <td>PSO J318.5-22</td>\n",
       "      <td>44.0</td>\n",
       "      <td>False</td>\n",
       "      <td>0.0</td>\n",
       "      <td>483.0</td>\n",
       "      <td>0.0</td>\n",
       "      <td>291.0</td>\n",
       "      <td>0.0</td>\n",
       "      <td>Sandie Hinetthews</td>\n",
       "      <td>True</td>\n",
       "      <td>F</td>\n",
       "      <td>0</td>\n",
       "      <td>P</td>\n",
       "    </tr>\n",
       "    <tr>\n",
       "      <th>6</th>\n",
       "      <td>0006_01</td>\n",
       "      <td>Earth</td>\n",
       "      <td>False</td>\n",
       "      <td>F/2/S</td>\n",
       "      <td>TRAPPIST-1e</td>\n",
       "      <td>26.0</td>\n",
       "      <td>False</td>\n",
       "      <td>42.0</td>\n",
       "      <td>1539.0</td>\n",
       "      <td>3.0</td>\n",
       "      <td>0.0</td>\n",
       "      <td>0.0</td>\n",
       "      <td>Billex Jacostaffey</td>\n",
       "      <td>True</td>\n",
       "      <td>F</td>\n",
       "      <td>2</td>\n",
       "      <td>S</td>\n",
       "    </tr>\n",
       "    <tr>\n",
       "      <th>7</th>\n",
       "      <td>0006_02</td>\n",
       "      <td>Earth</td>\n",
       "      <td>True</td>\n",
       "      <td>G/0/S</td>\n",
       "      <td>TRAPPIST-1e</td>\n",
       "      <td>28.0</td>\n",
       "      <td>False</td>\n",
       "      <td>0.0</td>\n",
       "      <td>0.0</td>\n",
       "      <td>0.0</td>\n",
       "      <td>0.0</td>\n",
       "      <td>NaN</td>\n",
       "      <td>Candra Jacostaffey</td>\n",
       "      <td>True</td>\n",
       "      <td>G</td>\n",
       "      <td>0</td>\n",
       "      <td>S</td>\n",
       "    </tr>\n",
       "    <tr>\n",
       "      <th>8</th>\n",
       "      <td>0007_01</td>\n",
       "      <td>Earth</td>\n",
       "      <td>False</td>\n",
       "      <td>F/3/S</td>\n",
       "      <td>TRAPPIST-1e</td>\n",
       "      <td>35.0</td>\n",
       "      <td>False</td>\n",
       "      <td>0.0</td>\n",
       "      <td>785.0</td>\n",
       "      <td>17.0</td>\n",
       "      <td>216.0</td>\n",
       "      <td>0.0</td>\n",
       "      <td>Andona Beston</td>\n",
       "      <td>True</td>\n",
       "      <td>F</td>\n",
       "      <td>3</td>\n",
       "      <td>S</td>\n",
       "    </tr>\n",
       "    <tr>\n",
       "      <th>9</th>\n",
       "      <td>0008_01</td>\n",
       "      <td>Europa</td>\n",
       "      <td>True</td>\n",
       "      <td>B/1/P</td>\n",
       "      <td>55 Cancri e</td>\n",
       "      <td>14.0</td>\n",
       "      <td>False</td>\n",
       "      <td>0.0</td>\n",
       "      <td>0.0</td>\n",
       "      <td>0.0</td>\n",
       "      <td>0.0</td>\n",
       "      <td>0.0</td>\n",
       "      <td>Erraiam Flatic</td>\n",
       "      <td>True</td>\n",
       "      <td>B</td>\n",
       "      <td>1</td>\n",
       "      <td>P</td>\n",
       "    </tr>\n",
       "  </tbody>\n",
       "</table>\n",
       "</div>"
      ],
      "text/plain": [
       "  PassengerId HomePlanet CryoSleep  Cabin    Destination   Age    VIP  \\\n",
       "0     0001_01     Europa     False  B/0/P    TRAPPIST-1e  39.0  False   \n",
       "1     0002_01      Earth     False  F/0/S    TRAPPIST-1e  24.0  False   \n",
       "2     0003_01     Europa     False  A/0/S    TRAPPIST-1e  58.0   True   \n",
       "3     0003_02     Europa     False  A/0/S    TRAPPIST-1e  33.0  False   \n",
       "4     0004_01      Earth     False  F/1/S    TRAPPIST-1e  16.0  False   \n",
       "5     0005_01      Earth     False  F/0/P  PSO J318.5-22  44.0  False   \n",
       "6     0006_01      Earth     False  F/2/S    TRAPPIST-1e  26.0  False   \n",
       "7     0006_02      Earth      True  G/0/S    TRAPPIST-1e  28.0  False   \n",
       "8     0007_01      Earth     False  F/3/S    TRAPPIST-1e  35.0  False   \n",
       "9     0008_01     Europa      True  B/1/P    55 Cancri e  14.0  False   \n",
       "\n",
       "   RoomService  FoodCourt  ShoppingMall     Spa  VRDeck                Name  \\\n",
       "0          0.0        0.0           0.0     0.0     0.0     Maham Ofracculy   \n",
       "1        109.0        9.0          25.0   549.0    44.0        Juanna Vines   \n",
       "2         43.0     3576.0           0.0  6715.0    49.0       Altark Susent   \n",
       "3          0.0     1283.0         371.0  3329.0   193.0        Solam Susent   \n",
       "4        303.0       70.0         151.0   565.0     2.0   Willy Santantines   \n",
       "5          0.0      483.0           0.0   291.0     0.0   Sandie Hinetthews   \n",
       "6         42.0     1539.0           3.0     0.0     0.0  Billex Jacostaffey   \n",
       "7          0.0        0.0           0.0     0.0     NaN  Candra Jacostaffey   \n",
       "8          0.0      785.0          17.0   216.0     0.0       Andona Beston   \n",
       "9          0.0        0.0           0.0     0.0     0.0      Erraiam Flatic   \n",
       "\n",
       "   Transported Deck Num Side  \n",
       "0        False    B   0    P  \n",
       "1         True    F   0    S  \n",
       "2        False    A   0    S  \n",
       "3        False    A   0    S  \n",
       "4         True    F   1    S  \n",
       "5         True    F   0    P  \n",
       "6         True    F   2    S  \n",
       "7         True    G   0    S  \n",
       "8         True    F   3    S  \n",
       "9         True    B   1    P  "
      ]
     },
     "execution_count": 6,
     "metadata": {},
     "output_type": "execute_result"
    }
   ],
   "source": [
    "train_data.head(10)"
   ]
  },
  {
   "cell_type": "markdown",
   "id": "f1ab05e7",
   "metadata": {
    "papermill": {
     "duration": 0.080804,
     "end_time": "2022-04-04T13:58:28.938217",
     "exception": false,
     "start_time": "2022-04-04T13:58:28.857413",
     "status": "completed"
    },
    "tags": []
   },
   "source": [
    "- train_data에 대해 살펴본다. \n",
    "- 먼저, 결측치가 있는 코드들이 있지만, 전체적으로 많은 편은 아님. \n",
    "- bool(1), float64(6), object(10)개로 구성이 되어 있음. "
   ]
  },
  {
   "cell_type": "code",
   "execution_count": 7,
   "id": "25e8b246",
   "metadata": {
    "execution": {
     "iopub.execute_input": "2022-04-04T13:58:29.102819Z",
     "iopub.status.busy": "2022-04-04T13:58:29.102208Z",
     "iopub.status.idle": "2022-04-04T13:58:29.136889Z",
     "shell.execute_reply": "2022-04-04T13:58:29.137414Z",
     "shell.execute_reply.started": "2022-04-04T13:56:11.343801Z"
    },
    "papermill": {
     "duration": 0.118371,
     "end_time": "2022-04-04T13:58:29.137586",
     "exception": false,
     "start_time": "2022-04-04T13:58:29.019215",
     "status": "completed"
    },
    "tags": []
   },
   "outputs": [
    {
     "name": "stdout",
     "output_type": "stream",
     "text": [
      "<class 'pandas.core.frame.DataFrame'>\n",
      "RangeIndex: 8693 entries, 0 to 8692\n",
      "Data columns (total 17 columns):\n",
      " #   Column        Non-Null Count  Dtype  \n",
      "---  ------        --------------  -----  \n",
      " 0   PassengerId   8693 non-null   object \n",
      " 1   HomePlanet    8492 non-null   object \n",
      " 2   CryoSleep     8476 non-null   object \n",
      " 3   Cabin         8494 non-null   object \n",
      " 4   Destination   8511 non-null   object \n",
      " 5   Age           8514 non-null   float64\n",
      " 6   VIP           8490 non-null   object \n",
      " 7   RoomService   8512 non-null   float64\n",
      " 8   FoodCourt     8510 non-null   float64\n",
      " 9   ShoppingMall  8485 non-null   float64\n",
      " 10  Spa           8510 non-null   float64\n",
      " 11  VRDeck        8505 non-null   float64\n",
      " 12  Name          8493 non-null   object \n",
      " 13  Transported   8693 non-null   bool   \n",
      " 14  Deck          8494 non-null   object \n",
      " 15  Num           8494 non-null   object \n",
      " 16  Side          8494 non-null   object \n",
      "dtypes: bool(1), float64(6), object(10)\n",
      "memory usage: 1.1+ MB\n"
     ]
    }
   ],
   "source": [
    "train_data.info()"
   ]
  },
  {
   "cell_type": "markdown",
   "id": "3872fb07",
   "metadata": {
    "papermill": {
     "duration": 0.080677,
     "end_time": "2022-04-04T13:58:29.299360",
     "exception": false,
     "start_time": "2022-04-04T13:58:29.218683",
     "status": "completed"
    },
    "tags": []
   },
   "source": [
    "- 테스트 데이터도 마찬가지로 비슷한 양상을 나타냄. "
   ]
  },
  {
   "cell_type": "code",
   "execution_count": 8,
   "id": "ae32712c",
   "metadata": {
    "execution": {
     "iopub.execute_input": "2022-04-04T13:58:29.463824Z",
     "iopub.status.busy": "2022-04-04T13:58:29.463213Z",
     "iopub.status.idle": "2022-04-04T13:58:29.479163Z",
     "shell.execute_reply": "2022-04-04T13:58:29.479735Z",
     "shell.execute_reply.started": "2022-04-04T13:56:11.381141Z"
    },
    "papermill": {
     "duration": 0.100046,
     "end_time": "2022-04-04T13:58:29.479892",
     "exception": false,
     "start_time": "2022-04-04T13:58:29.379846",
     "status": "completed"
    },
    "tags": []
   },
   "outputs": [
    {
     "name": "stdout",
     "output_type": "stream",
     "text": [
      "<class 'pandas.core.frame.DataFrame'>\n",
      "RangeIndex: 4277 entries, 0 to 4276\n",
      "Data columns (total 16 columns):\n",
      " #   Column        Non-Null Count  Dtype  \n",
      "---  ------        --------------  -----  \n",
      " 0   PassengerId   4277 non-null   object \n",
      " 1   HomePlanet    4190 non-null   object \n",
      " 2   CryoSleep     4184 non-null   object \n",
      " 3   Cabin         4177 non-null   object \n",
      " 4   Destination   4185 non-null   object \n",
      " 5   Age           4186 non-null   float64\n",
      " 6   VIP           4184 non-null   object \n",
      " 7   RoomService   4195 non-null   float64\n",
      " 8   FoodCourt     4171 non-null   float64\n",
      " 9   ShoppingMall  4179 non-null   float64\n",
      " 10  Spa           4176 non-null   float64\n",
      " 11  VRDeck        4197 non-null   float64\n",
      " 12  Name          4183 non-null   object \n",
      " 13  Deck          4177 non-null   object \n",
      " 14  Num           4177 non-null   object \n",
      " 15  Side          4177 non-null   object \n",
      "dtypes: float64(6), object(10)\n",
      "memory usage: 534.8+ KB\n"
     ]
    }
   ],
   "source": [
    "test_data.info()"
   ]
  },
  {
   "cell_type": "markdown",
   "id": "2279e3b2",
   "metadata": {
    "papermill": {
     "duration": 0.080367,
     "end_time": "2022-04-04T13:58:29.640731",
     "exception": false,
     "start_time": "2022-04-04T13:58:29.560364",
     "status": "completed"
    },
    "tags": []
   },
   "source": [
    "- 예측해야 할 종속변수는 Transported 인 것으로 확인됨. "
   ]
  },
  {
   "cell_type": "code",
   "execution_count": 9,
   "id": "7fe6451f",
   "metadata": {
    "execution": {
     "iopub.execute_input": "2022-04-04T13:58:29.806326Z",
     "iopub.status.busy": "2022-04-04T13:58:29.805655Z",
     "iopub.status.idle": "2022-04-04T13:58:29.817333Z",
     "shell.execute_reply": "2022-04-04T13:58:29.816658Z",
     "shell.execute_reply.started": "2022-04-04T13:56:11.607440Z"
    },
    "papermill": {
     "duration": 0.095659,
     "end_time": "2022-04-04T13:58:29.817477",
     "exception": false,
     "start_time": "2022-04-04T13:58:29.721818",
     "status": "completed"
    },
    "tags": []
   },
   "outputs": [
    {
     "name": "stdout",
     "output_type": "stream",
     "text": [
      "<class 'pandas.core.frame.DataFrame'>\n",
      "RangeIndex: 4277 entries, 0 to 4276\n",
      "Data columns (total 2 columns):\n",
      " #   Column       Non-Null Count  Dtype \n",
      "---  ------       --------------  ----- \n",
      " 0   PassengerId  4277 non-null   object\n",
      " 1   Transported  4277 non-null   bool  \n",
      "dtypes: bool(1), object(1)\n",
      "memory usage: 37.7+ KB\n"
     ]
    }
   ],
   "source": [
    "sample_submission.info()"
   ]
  },
  {
   "cell_type": "markdown",
   "id": "82df1e3f",
   "metadata": {
    "papermill": {
     "duration": 0.083027,
     "end_time": "2022-04-04T13:58:29.983199",
     "exception": false,
     "start_time": "2022-04-04T13:58:29.900172",
     "status": "completed"
    },
    "tags": []
   },
   "source": [
    "- 데이터 컬럼 확인\n",
    "    + 각 데이터의 특성을 파악하기 위해서는 해당 설명서를 참조하는 것이 좋음. \n",
    "    + 출처 : https://www.kaggle.com/competitions/spaceship-titanic/data\n",
    "- 본 포스트에서는 추가 설명은 생략함. "
   ]
  },
  {
   "cell_type": "markdown",
   "id": "81145569",
   "metadata": {
    "papermill": {
     "duration": 0.081151,
     "end_time": "2022-04-04T13:58:30.147997",
     "exception": false,
     "start_time": "2022-04-04T13:58:30.066846",
     "status": "completed"
    },
    "tags": []
   },
   "source": [
    "- 대회주제\n",
    "    + Transported Column 설명을 보면, 다른 차원으로 이동하기 위한, 각 승객의 탑승을 했는지 못했는지를 예측하는 문제이며, 평가지표는 정확도로 판정함.\n",
    "- 분류 정확도(Classification Accuracy)의 설명은 [Classification Accuracy](https://developers.google.com/machine-learning/crash-course/classification/accuracy)에서 확인할 수 있다. "
   ]
  },
  {
   "cell_type": "markdown",
   "id": "aa4455d1",
   "metadata": {
    "papermill": {
     "duration": 0.081732,
     "end_time": "2022-04-04T13:58:30.313004",
     "exception": false,
     "start_time": "2022-04-04T13:58:30.231272",
     "status": "completed"
    },
    "tags": []
   },
   "source": [
    "# Step 2. 탐색적 자료 분석 (EDA)\n",
    "- 데이터 시각화\n",
    "- 산점도, 막대 그래프 등\n",
    "- 그래프 해석해서 설명을 달아야 함\n",
    "- 약간의 데이터 전처리"
   ]
  },
  {
   "cell_type": "markdown",
   "id": "812ccf43",
   "metadata": {
    "papermill": {
     "duration": 0.080833,
     "end_time": "2022-04-04T13:58:30.475298",
     "exception": false,
     "start_time": "2022-04-04T13:58:30.394465",
     "status": "completed"
    },
    "tags": []
   },
   "source": [
    "## 데이터 시각화를 위한 주요 함수 작성\n",
    "- 훈련데이터의 구조는 다음과 같다. \n",
    "    + dtypes: bool(1), float64(6), object(10)\n",
    "- 우선, 종속변수인 bool의 갯수에 대해 확인한다. \n",
    "- 갯수로 파악할 때는 비율은 큰 차이가 없는 것으로 확인했다. 즉, 데이터는 매우 균등하게 구성이 된 것이다. \n",
    "- 추가적으로 Deck, Num, Side에 대해 파악한다"
   ]
  },
  {
   "cell_type": "code",
   "execution_count": 10,
   "id": "61302b31",
   "metadata": {
    "execution": {
     "iopub.execute_input": "2022-04-04T13:58:30.643720Z",
     "iopub.status.busy": "2022-04-04T13:58:30.643100Z",
     "iopub.status.idle": "2022-04-04T13:58:30.645702Z",
     "shell.execute_reply": "2022-04-04T13:58:30.646219Z",
     "shell.execute_reply.started": "2022-04-04T13:56:11.968198Z"
    },
    "papermill": {
     "duration": 0.090028,
     "end_time": "2022-04-04T13:58:30.646376",
     "exception": false,
     "start_time": "2022-04-04T13:58:30.556348",
     "status": "completed"
    },
    "tags": []
   },
   "outputs": [
    {
     "data": {
      "text/plain": [
       "True     4378\n",
       "False    4315\n",
       "Name: Transported, dtype: int64"
      ]
     },
     "execution_count": 10,
     "metadata": {},
     "output_type": "execute_result"
    }
   ],
   "source": [
    "train_data['Transported'].value_counts()"
   ]
  },
  {
   "cell_type": "code",
   "execution_count": 11,
   "id": "cc18ab76",
   "metadata": {
    "execution": {
     "iopub.execute_input": "2022-04-04T13:58:30.817555Z",
     "iopub.status.busy": "2022-04-04T13:58:30.816835Z",
     "iopub.status.idle": "2022-04-04T13:58:30.819358Z",
     "shell.execute_reply": "2022-04-04T13:58:30.819903Z",
     "shell.execute_reply.started": "2022-04-04T13:56:12.322340Z"
    },
    "papermill": {
     "duration": 0.09228,
     "end_time": "2022-04-04T13:58:30.820089",
     "exception": false,
     "start_time": "2022-04-04T13:58:30.727809",
     "status": "completed"
    },
    "tags": []
   },
   "outputs": [
    {
     "data": {
      "text/plain": [
       "False    5439\n",
       "True     3037\n",
       "Name: CryoSleep, dtype: int64"
      ]
     },
     "execution_count": 11,
     "metadata": {},
     "output_type": "execute_result"
    }
   ],
   "source": [
    "train_data['CryoSleep'].value_counts()"
   ]
  },
  {
   "cell_type": "code",
   "execution_count": 12,
   "id": "616c1a28",
   "metadata": {
    "execution": {
     "iopub.execute_input": "2022-04-04T13:58:30.989234Z",
     "iopub.status.busy": "2022-04-04T13:58:30.988607Z",
     "iopub.status.idle": "2022-04-04T13:58:30.995837Z",
     "shell.execute_reply": "2022-04-04T13:58:30.996492Z",
     "shell.execute_reply.started": "2022-04-04T13:56:12.458174Z"
    },
    "papermill": {
     "duration": 0.093436,
     "end_time": "2022-04-04T13:58:30.996658",
     "exception": false,
     "start_time": "2022-04-04T13:58:30.903222",
     "status": "completed"
    },
    "tags": []
   },
   "outputs": [
    {
     "data": {
      "text/plain": [
       "F    2794\n",
       "G    2559\n",
       "E     876\n",
       "B     779\n",
       "C     747\n",
       "D     478\n",
       "A     256\n",
       "T       5\n",
       "Name: Deck, dtype: int64"
      ]
     },
     "execution_count": 12,
     "metadata": {},
     "output_type": "execute_result"
    }
   ],
   "source": [
    "train_data['Deck'].value_counts()"
   ]
  },
  {
   "cell_type": "code",
   "execution_count": 13,
   "id": "966bdeca",
   "metadata": {
    "execution": {
     "iopub.execute_input": "2022-04-04T13:58:31.166120Z",
     "iopub.status.busy": "2022-04-04T13:58:31.165502Z",
     "iopub.status.idle": "2022-04-04T13:58:31.176073Z",
     "shell.execute_reply": "2022-04-04T13:58:31.175521Z",
     "shell.execute_reply.started": "2022-04-04T13:56:12.505224Z"
    },
    "papermill": {
     "duration": 0.096184,
     "end_time": "2022-04-04T13:58:31.176221",
     "exception": false,
     "start_time": "2022-04-04T13:58:31.080037",
     "status": "completed"
    },
    "tags": []
   },
   "outputs": [
    {
     "data": {
      "text/plain": [
       "82      28\n",
       "86      22\n",
       "19      22\n",
       "56      21\n",
       "176     21\n",
       "        ..\n",
       "1644     1\n",
       "1515     1\n",
       "1639     1\n",
       "1277     1\n",
       "1894     1\n",
       "Name: Num, Length: 1817, dtype: int64"
      ]
     },
     "execution_count": 13,
     "metadata": {},
     "output_type": "execute_result"
    }
   ],
   "source": [
    "train_data['Num'].value_counts()"
   ]
  },
  {
   "cell_type": "code",
   "execution_count": 14,
   "id": "c537bf22",
   "metadata": {
    "execution": {
     "iopub.execute_input": "2022-04-04T13:58:31.351351Z",
     "iopub.status.busy": "2022-04-04T13:58:31.350397Z",
     "iopub.status.idle": "2022-04-04T13:58:31.357519Z",
     "shell.execute_reply": "2022-04-04T13:58:31.358076Z",
     "shell.execute_reply.started": "2022-04-04T13:56:12.548737Z"
    },
    "papermill": {
     "duration": 0.095751,
     "end_time": "2022-04-04T13:58:31.358241",
     "exception": false,
     "start_time": "2022-04-04T13:58:31.262490",
     "status": "completed"
    },
    "tags": []
   },
   "outputs": [
    {
     "data": {
      "text/plain": [
       "S    4288\n",
       "P    4206\n",
       "Name: Side, dtype: int64"
      ]
     },
     "execution_count": 14,
     "metadata": {},
     "output_type": "execute_result"
    }
   ],
   "source": [
    "train_data['Side'].value_counts()"
   ]
  },
  {
   "cell_type": "code",
   "execution_count": 15,
   "id": "04872f7c",
   "metadata": {
    "execution": {
     "iopub.execute_input": "2022-04-04T13:58:31.529244Z",
     "iopub.status.busy": "2022-04-04T13:58:31.528512Z",
     "iopub.status.idle": "2022-04-04T13:58:31.539704Z",
     "shell.execute_reply": "2022-04-04T13:58:31.540244Z",
     "shell.execute_reply.started": "2022-04-04T13:56:12.684727Z"
    },
    "papermill": {
     "duration": 0.097567,
     "end_time": "2022-04-04T13:58:31.540419",
     "exception": false,
     "start_time": "2022-04-04T13:58:31.442852",
     "status": "completed"
    },
    "tags": []
   },
   "outputs": [],
   "source": [
    "def cnt_bar(data, col_name):\n",
    "    df = data[col_name].value_counts()\n",
    "    fig, ax = plt.subplots(figsize=(10, 8))\n",
    "    labels = [str(item) for item in list(data[col_name].value_counts().index)]\n",
    "    bars = sns.countplot(x=col_name, data=data, color='lightgray', alpha=0.85, zorder=2, ax=ax)\n",
    "    \n",
    "    for bar in bars.patches:\n",
    "        fontweight = \"normal\"\n",
    "        color = \"k\"\n",
    "        height = np.round(bar.get_height(), 2)\n",
    "        if bar.get_height() == data[col_name].value_counts().values[0]:\n",
    "            fontweight=\"bold\"\n",
    "            color=\"orange\"\n",
    "            bar.set_facecolor(color)\n",
    "        ax.text(bar.get_x() + bar.get_width()/2., height+100, height+1, ha = 'center', size=12, fontweight=fontweight, color=color)\n",
    "    ax.set_title(f'Bar Graph of {col_name}', size = 16)\n",
    "    ax.set_xlabel(col_name, size = 16)\n",
    "    ax.set_ylabel(\"No. Passengers\", size = 16)\n",
    "\n",
    "    ax.spines['top'].set_visible(False)\n",
    "    ax.spines['left'].set_position((\"outward\", 20))\n",
    "    ax.spines['left'].set_visible(False)\n",
    "    ax.spines['right'].set_visible(False)\n",
    "\n",
    "    ax.grid(axis=\"y\", which=\"major\", color=\"lightgray\")\n",
    "    ax.grid(axis=\"y\", which=\"minor\", ls=\":\")\n",
    "    \n",
    "    plt.show()"
   ]
  },
  {
   "cell_type": "markdown",
   "id": "8ae28ce7",
   "metadata": {
    "papermill": {
     "duration": 0.0829,
     "end_time": "2022-04-04T13:58:31.707280",
     "exception": false,
     "start_time": "2022-04-04T13:58:31.624380",
     "status": "completed"
    },
    "tags": []
   },
   "source": [
    "- 이제 함수를 적용해본다. \n",
    "    + Cabin이나, PassengerID 등에는 적용할 수 없다. "
   ]
  },
  {
   "cell_type": "code",
   "execution_count": 16,
   "id": "d435a35f",
   "metadata": {
    "execution": {
     "iopub.execute_input": "2022-04-04T13:58:31.877546Z",
     "iopub.status.busy": "2022-04-04T13:58:31.876846Z",
     "iopub.status.idle": "2022-04-04T13:58:32.131131Z",
     "shell.execute_reply": "2022-04-04T13:58:32.131636Z",
     "shell.execute_reply.started": "2022-04-04T13:56:12.904924Z"
    },
    "papermill": {
     "duration": 0.341478,
     "end_time": "2022-04-04T13:58:32.131804",
     "exception": false,
     "start_time": "2022-04-04T13:58:31.790326",
     "status": "completed"
    },
    "tags": []
   },
   "outputs": [
    {
     "data": {
      "image/png": "[encoded data removed]",
      "text/plain": [
       "<Figure size 720x576 with 1 Axes>"
      ]
     },
     "metadata": {
      "needs_background": "light"
     },
     "output_type": "display_data"
    }
   ],
   "source": [
    "cnt_bar(train_data, \"Destination\")"
   ]
  },
  {
   "cell_type": "code",
   "execution_count": 17,
   "id": "bbd58f01",
   "metadata": {
    "execution": {
     "iopub.execute_input": "2022-04-04T13:58:32.304016Z",
     "iopub.status.busy": "2022-04-04T13:58:32.303400Z",
     "iopub.status.idle": "2022-04-04T13:58:32.502236Z",
     "shell.execute_reply": "2022-04-04T13:58:32.501732Z",
     "shell.execute_reply.started": "2022-04-04T13:56:13.180207Z"
    },
    "papermill": {
     "duration": 0.284983,
     "end_time": "2022-04-04T13:58:32.502373",
     "exception": false,
     "start_time": "2022-04-04T13:58:32.217390",
     "status": "completed"
    },
    "tags": []
   },
   "outputs": [
    {
     "data": {
      "image/png": "[encoded data removed]",
      "text/plain": [
       "<Figure size 720x576 with 1 Axes>"
      ]
     },
     "metadata": {
      "needs_background": "light"
     },
     "output_type": "display_data"
    }
   ],
   "source": [
    "cnt_bar(train_data, \"HomePlanet\")"
   ]
  },
  {
   "cell_type": "code",
   "execution_count": 18,
   "id": "2b163e94",
   "metadata": {
    "execution": {
     "iopub.execute_input": "2022-04-04T13:58:32.676337Z",
     "iopub.status.busy": "2022-04-04T13:58:32.675654Z",
     "iopub.status.idle": "2022-04-04T13:58:32.886611Z",
     "shell.execute_reply": "2022-04-04T13:58:32.886095Z",
     "shell.execute_reply.started": "2022-04-04T13:56:13.399011Z"
    },
    "papermill": {
     "duration": 0.299174,
     "end_time": "2022-04-04T13:58:32.886753",
     "exception": false,
     "start_time": "2022-04-04T13:58:32.587579",
     "status": "completed"
    },
    "tags": []
   },
   "outputs": [
    {
     "data": {
      "image/png": "[encoded data removed]",
      "text/plain": [
       "<Figure size 720x576 with 1 Axes>"
      ]
     },
     "metadata": {
      "needs_background": "light"
     },
     "output_type": "display_data"
    }
   ],
   "source": [
    "cnt_bar(train_data, \"CryoSleep\")"
   ]
  },
  {
   "cell_type": "code",
   "execution_count": 19,
   "id": "9aefbcf5",
   "metadata": {
    "execution": {
     "iopub.execute_input": "2022-04-04T13:58:33.117191Z",
     "iopub.status.busy": "2022-04-04T13:58:33.116063Z",
     "iopub.status.idle": "2022-04-04T13:58:33.292855Z",
     "shell.execute_reply": "2022-04-04T13:58:33.292257Z",
     "shell.execute_reply.started": "2022-04-04T13:56:13.630357Z"
    },
    "papermill": {
     "duration": 0.318725,
     "end_time": "2022-04-04T13:58:33.293014",
     "exception": false,
     "start_time": "2022-04-04T13:58:32.974289",
     "status": "completed"
    },
    "tags": []
   },
   "outputs": [
    {
     "data": {
      "image/png": "[encoded data removed]",
      "text/plain": [
       "<Figure size 720x576 with 1 Axes>"
      ]
     },
     "metadata": {
      "needs_background": "light"
     },
     "output_type": "display_data"
    }
   ],
   "source": [
    "cnt_bar(train_data, \"VIP\")"
   ]
  },
  {
   "cell_type": "code",
   "execution_count": 20,
   "id": "f5a3ae4e",
   "metadata": {
    "execution": {
     "iopub.execute_input": "2022-04-04T13:58:33.485803Z",
     "iopub.status.busy": "2022-04-04T13:58:33.474684Z",
     "iopub.status.idle": "2022-04-04T13:58:33.654672Z",
     "shell.execute_reply": "2022-04-04T13:58:33.654056Z",
     "shell.execute_reply.started": "2022-04-04T13:56:13.880707Z"
    },
    "papermill": {
     "duration": 0.27294,
     "end_time": "2022-04-04T13:58:33.654807",
     "exception": false,
     "start_time": "2022-04-04T13:58:33.381867",
     "status": "completed"
    },
    "tags": []
   },
   "outputs": [
    {
     "data": {
      "image/png": "[encoded data removed]",
      "text/plain": [
       "<Figure size 720x576 with 1 Axes>"
      ]
     },
     "metadata": {
      "needs_background": "light"
     },
     "output_type": "display_data"
    }
   ],
   "source": [
    "cnt_bar(train_data, \"Transported\")"
   ]
  },
  {
   "cell_type": "code",
   "execution_count": 21,
   "id": "7afdbed9",
   "metadata": {
    "execution": {
     "iopub.execute_input": "2022-04-04T13:58:33.867834Z",
     "iopub.status.busy": "2022-04-04T13:58:33.844819Z",
     "iopub.status.idle": "2022-04-04T13:58:34.093699Z",
     "shell.execute_reply": "2022-04-04T13:58:34.092969Z",
     "shell.execute_reply.started": "2022-04-04T13:56:14.080823Z"
    },
    "papermill": {
     "duration": 0.350657,
     "end_time": "2022-04-04T13:58:34.093834",
     "exception": false,
     "start_time": "2022-04-04T13:58:33.743177",
     "status": "completed"
    },
    "tags": []
   },
   "outputs": [
    {
     "data": {
      "image/png": "[encoded data removed]",
      "text/plain": [
       "<Figure size 720x576 with 1 Axes>"
      ]
     },
     "metadata": {
      "needs_background": "light"
     },
     "output_type": "display_data"
    }
   ],
   "source": [
    "cnt_bar(train_data, \"Deck\")"
   ]
  },
  {
   "cell_type": "code",
   "execution_count": 22,
   "id": "5f0a0c52",
   "metadata": {
    "execution": {
     "iopub.execute_input": "2022-04-04T13:58:34.289016Z",
     "iopub.status.busy": "2022-04-04T13:58:34.280605Z",
     "iopub.status.idle": "2022-04-04T13:58:34.467891Z",
     "shell.execute_reply": "2022-04-04T13:58:34.467310Z",
     "shell.execute_reply.started": "2022-04-04T13:56:14.354693Z"
    },
    "papermill": {
     "duration": 0.28477,
     "end_time": "2022-04-04T13:58:34.468067",
     "exception": false,
     "start_time": "2022-04-04T13:58:34.183297",
     "status": "completed"
    },
    "tags": []
   },
   "outputs": [
    {
     "data": {
      "image/png": "[encoded data removed]",
      "text/plain": [
       "<Figure size 720x576 with 1 Axes>"
      ]
     },
     "metadata": {
      "needs_background": "light"
     },
     "output_type": "display_data"
    }
   ],
   "source": [
    "cnt_bar(train_data, \"Side\")"
   ]
  },
  {
   "cell_type": "markdown",
   "id": "291a009f",
   "metadata": {
    "papermill": {
     "duration": 0.090418,
     "end_time": "2022-04-04T13:58:34.650642",
     "exception": false,
     "start_time": "2022-04-04T13:58:34.560224",
     "status": "completed"
    },
    "tags": []
   },
   "source": [
    "- 이번에는 Describe() 함수를 적용해본다. "
   ]
  },
  {
   "cell_type": "code",
   "execution_count": 23,
   "id": "df5ebbc7",
   "metadata": {
    "execution": {
     "iopub.execute_input": "2022-04-04T13:58:34.839269Z",
     "iopub.status.busy": "2022-04-04T13:58:34.838533Z",
     "iopub.status.idle": "2022-04-04T13:58:34.867190Z",
     "shell.execute_reply": "2022-04-04T13:58:34.866679Z",
     "shell.execute_reply.started": "2022-04-04T13:56:14.560250Z"
    },
    "papermill": {
     "duration": 0.12526,
     "end_time": "2022-04-04T13:58:34.867329",
     "exception": false,
     "start_time": "2022-04-04T13:58:34.742069",
     "status": "completed"
    },
    "tags": []
   },
   "outputs": [
    {
     "data": {
      "text/html": [
       "<div>\n",
       "<style scoped>\n",
       "    .dataframe tbody tr th:only-of-type {\n",
       "        vertical-align: middle;\n",
       "    }\n",
       "\n",
       "    .dataframe tbody tr th {\n",
       "        vertical-align: top;\n",
       "    }\n",
       "\n",
       "    .dataframe thead th {\n",
       "        text-align: right;\n",
       "    }\n",
       "</style>\n",
       "<table border=\"1\" class=\"dataframe\">\n",
       "  <thead>\n",
       "    <tr style=\"text-align: right;\">\n",
       "      <th></th>\n",
       "      <th>Age</th>\n",
       "      <th>RoomService</th>\n",
       "      <th>FoodCourt</th>\n",
       "      <th>ShoppingMall</th>\n",
       "      <th>Spa</th>\n",
       "      <th>VRDeck</th>\n",
       "    </tr>\n",
       "  </thead>\n",
       "  <tbody>\n",
       "    <tr>\n",
       "      <th>count</th>\n",
       "      <td>8514.000000</td>\n",
       "      <td>8512.000000</td>\n",
       "      <td>8510.000000</td>\n",
       "      <td>8485.000000</td>\n",
       "      <td>8510.000000</td>\n",
       "      <td>8505.000000</td>\n",
       "    </tr>\n",
       "    <tr>\n",
       "      <th>mean</th>\n",
       "      <td>28.827930</td>\n",
       "      <td>224.687617</td>\n",
       "      <td>458.077203</td>\n",
       "      <td>173.729169</td>\n",
       "      <td>311.138778</td>\n",
       "      <td>304.854791</td>\n",
       "    </tr>\n",
       "    <tr>\n",
       "      <th>std</th>\n",
       "      <td>14.489021</td>\n",
       "      <td>666.717663</td>\n",
       "      <td>1611.489240</td>\n",
       "      <td>604.696458</td>\n",
       "      <td>1136.705535</td>\n",
       "      <td>1145.717189</td>\n",
       "    </tr>\n",
       "    <tr>\n",
       "      <th>min</th>\n",
       "      <td>0.000000</td>\n",
       "      <td>0.000000</td>\n",
       "      <td>0.000000</td>\n",
       "      <td>0.000000</td>\n",
       "      <td>0.000000</td>\n",
       "      <td>0.000000</td>\n",
       "    </tr>\n",
       "    <tr>\n",
       "      <th>25%</th>\n",
       "      <td>19.000000</td>\n",
       "      <td>0.000000</td>\n",
       "      <td>0.000000</td>\n",
       "      <td>0.000000</td>\n",
       "      <td>0.000000</td>\n",
       "      <td>0.000000</td>\n",
       "    </tr>\n",
       "    <tr>\n",
       "      <th>50%</th>\n",
       "      <td>27.000000</td>\n",
       "      <td>0.000000</td>\n",
       "      <td>0.000000</td>\n",
       "      <td>0.000000</td>\n",
       "      <td>0.000000</td>\n",
       "      <td>0.000000</td>\n",
       "    </tr>\n",
       "    <tr>\n",
       "      <th>75%</th>\n",
       "      <td>38.000000</td>\n",
       "      <td>47.000000</td>\n",
       "      <td>76.000000</td>\n",
       "      <td>27.000000</td>\n",
       "      <td>59.000000</td>\n",
       "      <td>46.000000</td>\n",
       "    </tr>\n",
       "    <tr>\n",
       "      <th>max</th>\n",
       "      <td>79.000000</td>\n",
       "      <td>14327.000000</td>\n",
       "      <td>29813.000000</td>\n",
       "      <td>23492.000000</td>\n",
       "      <td>22408.000000</td>\n",
       "      <td>24133.000000</td>\n",
       "    </tr>\n",
       "  </tbody>\n",
       "</table>\n",
       "</div>"
      ],
      "text/plain": [
       "               Age   RoomService     FoodCourt  ShoppingMall           Spa  \\\n",
       "count  8514.000000   8512.000000   8510.000000   8485.000000   8510.000000   \n",
       "mean     28.827930    224.687617    458.077203    173.729169    311.138778   \n",
       "std      14.489021    666.717663   1611.489240    604.696458   1136.705535   \n",
       "min       0.000000      0.000000      0.000000      0.000000      0.000000   \n",
       "25%      19.000000      0.000000      0.000000      0.000000      0.000000   \n",
       "50%      27.000000      0.000000      0.000000      0.000000      0.000000   \n",
       "75%      38.000000     47.000000     76.000000     27.000000     59.000000   \n",
       "max      79.000000  14327.000000  29813.000000  23492.000000  22408.000000   \n",
       "\n",
       "             VRDeck  \n",
       "count   8505.000000  \n",
       "mean     304.854791  \n",
       "std     1145.717189  \n",
       "min        0.000000  \n",
       "25%        0.000000  \n",
       "50%        0.000000  \n",
       "75%       46.000000  \n",
       "max    24133.000000  "
      ]
     },
     "execution_count": 23,
     "metadata": {},
     "output_type": "execute_result"
    }
   ],
   "source": [
    "train_data.describe()"
   ]
  },
  {
   "cell_type": "code",
   "execution_count": 24,
   "id": "d72f4cfe",
   "metadata": {
    "execution": {
     "iopub.execute_input": "2022-04-04T13:58:35.058027Z",
     "iopub.status.busy": "2022-04-04T13:58:35.057347Z",
     "iopub.status.idle": "2022-04-04T13:58:35.059828Z",
     "shell.execute_reply": "2022-04-04T13:58:35.060346Z",
     "shell.execute_reply.started": "2022-04-04T13:56:14.599253Z"
    },
    "papermill": {
     "duration": 0.101181,
     "end_time": "2022-04-04T13:58:35.060511",
     "exception": false,
     "start_time": "2022-04-04T13:58:34.959330",
     "status": "completed"
    },
    "tags": []
   },
   "outputs": [
    {
     "data": {
      "text/plain": [
       "Index(['Age', 'RoomService', 'FoodCourt', 'ShoppingMall', 'Spa', 'VRDeck'], dtype='object')"
      ]
     },
     "execution_count": 24,
     "metadata": {},
     "output_type": "execute_result"
    }
   ],
   "source": [
    "numeric_features = train_data.select_dtypes(include=[np.number])\n",
    "numeric_features.columns"
   ]
  },
  {
   "cell_type": "code",
   "execution_count": 25,
   "id": "189242b0",
   "metadata": {
    "execution": {
     "iopub.execute_input": "2022-04-04T13:58:35.247752Z",
     "iopub.status.busy": "2022-04-04T13:58:35.247125Z",
     "iopub.status.idle": "2022-04-04T13:58:36.323016Z",
     "shell.execute_reply": "2022-04-04T13:58:36.322350Z",
     "shell.execute_reply.started": "2022-04-04T13:56:14.677294Z"
    },
    "papermill": {
     "duration": 1.17107,
     "end_time": "2022-04-04T13:58:36.323216",
     "exception": false,
     "start_time": "2022-04-04T13:58:35.152146",
     "status": "completed"
    },
    "tags": []
   },
   "outputs": [
    {
     "data": {
      "image/png": "[encoded data removed]",
      "text/plain": [
       "<Figure size 1152x720 with 6 Axes>"
      ]
     },
     "metadata": {
      "needs_background": "light"
     },
     "output_type": "display_data"
    }
   ],
   "source": [
    "fig, ax = plt.subplots(2, 3, figsize=(16, 10)) # 그래프의 행과 열 지정 및, 이미지 사이즈 지정\n",
    "data = train_data.copy()\n",
    "# data[numeric_features.columns].columns[0:]\n",
    "for i, col in enumerate(data[numeric_features.columns].columns[0:]): # 좌표 평면 지정\n",
    "    # print(i, col)\n",
    "    if i <= 2:\n",
    "        sns.boxplot(x=data[\"Transported\"], y=data[col], ax=ax[0,i]) # 1행 좌표 평면\n",
    "    else: \n",
    "        sns.boxplot(x=data[\"Transported\"], y=data[col], ax=ax[1,i-4]) # 5행 좌표 평면\n",
    "fig.suptitle('My Box Plots')\n",
    "fig.tight_layout()\n",
    "fig.subplots_adjust(top=0.95)"
   ]
  },
  {
   "cell_type": "markdown",
   "id": "ff1c0a28",
   "metadata": {
    "papermill": {
     "duration": 0.092877,
     "end_time": "2022-04-04T13:58:36.510881",
     "exception": false,
     "start_time": "2022-04-04T13:58:36.418004",
     "status": "completed"
    },
    "tags": []
   },
   "source": [
    "- 위 시각화 결과물을 놓고 보면, RoomService, FoodCount, Spa, VRDeck, ShoppingMall은 수치가 아닌 것처럼 보임. "
   ]
  },
  {
   "cell_type": "code",
   "execution_count": 26,
   "id": "dc7998b2",
   "metadata": {
    "execution": {
     "iopub.execute_input": "2022-04-04T13:58:36.706401Z",
     "iopub.status.busy": "2022-04-04T13:58:36.703422Z",
     "iopub.status.idle": "2022-04-04T13:58:36.709361Z",
     "shell.execute_reply": "2022-04-04T13:58:36.709869Z",
     "shell.execute_reply.started": "2022-04-04T13:56:15.813301Z"
    },
    "papermill": {
     "duration": 0.105883,
     "end_time": "2022-04-04T13:58:36.710070",
     "exception": false,
     "start_time": "2022-04-04T13:58:36.604187",
     "status": "completed"
    },
    "tags": []
   },
   "outputs": [
    {
     "data": {
      "text/plain": [
       "0.0       5577\n",
       "1.0        117\n",
       "2.0         79\n",
       "3.0         61\n",
       "4.0         47\n",
       "          ... \n",
       "1612.0       1\n",
       "2598.0       1\n",
       "632.0        1\n",
       "378.0        1\n",
       "745.0        1\n",
       "Name: RoomService, Length: 1273, dtype: int64"
      ]
     },
     "execution_count": 26,
     "metadata": {},
     "output_type": "execute_result"
    }
   ],
   "source": [
    "train_data['RoomService'].value_counts()"
   ]
  },
  {
   "cell_type": "code",
   "execution_count": 27,
   "id": "091d6e52",
   "metadata": {
    "execution": {
     "iopub.execute_input": "2022-04-04T13:58:36.900778Z",
     "iopub.status.busy": "2022-04-04T13:58:36.900068Z",
     "iopub.status.idle": "2022-04-04T13:58:36.909477Z",
     "shell.execute_reply": "2022-04-04T13:58:36.908823Z",
     "shell.execute_reply.started": "2022-04-04T13:56:15.827794Z"
    },
    "papermill": {
     "duration": 0.105743,
     "end_time": "2022-04-04T13:58:36.909614",
     "exception": false,
     "start_time": "2022-04-04T13:58:36.803871",
     "status": "completed"
    },
    "tags": []
   },
   "outputs": [
    {
     "data": {
      "text/plain": [
       "0.0       5456\n",
       "1.0        116\n",
       "2.0         75\n",
       "3.0         53\n",
       "4.0         53\n",
       "          ... \n",
       "3846.0       1\n",
       "5193.0       1\n",
       "312.0        1\n",
       "827.0        1\n",
       "4688.0       1\n",
       "Name: FoodCourt, Length: 1507, dtype: int64"
      ]
     },
     "execution_count": 27,
     "metadata": {},
     "output_type": "execute_result"
    }
   ],
   "source": [
    "train_data['FoodCourt'].value_counts()"
   ]
  },
  {
   "cell_type": "code",
   "execution_count": 28,
   "id": "6b150d2e",
   "metadata": {
    "execution": {
     "iopub.execute_input": "2022-04-04T13:58:37.117551Z",
     "iopub.status.busy": "2022-04-04T13:58:37.116585Z",
     "iopub.status.idle": "2022-04-04T13:58:37.124532Z",
     "shell.execute_reply": "2022-04-04T13:58:37.125122Z",
     "shell.execute_reply.started": "2022-04-04T13:56:15.848000Z"
    },
    "papermill": {
     "duration": 0.120303,
     "end_time": "2022-04-04T13:58:37.125308",
     "exception": false,
     "start_time": "2022-04-04T13:58:37.005005",
     "status": "completed"
    },
    "tags": []
   },
   "outputs": [
    {
     "data": {
      "text/plain": [
       "0.0       5324\n",
       "1.0        146\n",
       "2.0        105\n",
       "5.0         53\n",
       "3.0         53\n",
       "          ... \n",
       "273.0        1\n",
       "2581.0       1\n",
       "2948.0       1\n",
       "3778.0       1\n",
       "1643.0       1\n",
       "Name: Spa, Length: 1327, dtype: int64"
      ]
     },
     "execution_count": 28,
     "metadata": {},
     "output_type": "execute_result"
    }
   ],
   "source": [
    "train_data['Spa'].value_counts()"
   ]
  },
  {
   "cell_type": "markdown",
   "id": "f5fdd53d",
   "metadata": {
    "papermill": {
     "duration": 0.09386,
     "end_time": "2022-04-04T13:58:37.320222",
     "exception": false,
     "start_time": "2022-04-04T13:58:37.226362",
     "status": "completed"
    },
    "tags": []
   },
   "source": [
    "- 실제 컬럼명에서 말하는 것도 다음과 같음. \n",
    "    + RoomService, FoodCourt, ShoppingMall, Spa, VRDeck - Amount the passenger has billed at each of the Spaceship Titanic's many luxury amenities.\n",
    "- 즉, 위 데이터는 연속형 데이터라고 보기에는 비연속형 수치 데이터인 것을 확인함. "
   ]
  },
  {
   "cell_type": "markdown",
   "id": "3e99817b",
   "metadata": {
    "papermill": {
     "duration": 0.094069,
     "end_time": "2022-04-04T13:58:37.509704",
     "exception": false,
     "start_time": "2022-04-04T13:58:37.415635",
     "status": "completed"
    },
    "tags": []
   },
   "source": [
    "# Step 3. 데이터 전처리\n",
    "- Feature Engineering\n",
    "- ML 모형을 돌리기 위해 표준화 등 / 원핫-인코딩\n",
    "- 파생변수 (도출 변수)\n",
    "    + 왜 이 변수를 만들었는지에 대한 여러분들의 설명 필요"
   ]
  },
  {
   "cell_type": "markdown",
   "id": "e13d9e2b",
   "metadata": {
    "papermill": {
     "duration": 0.093841,
     "end_time": "2022-04-04T13:58:37.697879",
     "exception": false,
     "start_time": "2022-04-04T13:58:37.604038",
     "status": "completed"
    },
    "tags": []
   },
   "source": [
    "## 불필요한 변수 제거 \n",
    "- 모형에 쓰지 않을 변수들을 제거한다. \n",
    "    + PassengerId, Name, Carbin, Num\n",
    "- Name은 모형을 개선할 때, 가족 유무 등 판단 시, 재활용할 가치는 있다.\n",
    "- Cabin은 값을 분리했기 때문에 제거한다."
   ]
  },
  {
   "cell_type": "code",
   "execution_count": 29,
   "id": "59c9592c",
   "metadata": {
    "execution": {
     "iopub.execute_input": "2022-04-04T13:58:37.891685Z",
     "iopub.status.busy": "2022-04-04T13:58:37.890658Z",
     "iopub.status.idle": "2022-04-04T13:58:37.903480Z",
     "shell.execute_reply": "2022-04-04T13:58:37.904012Z",
     "shell.execute_reply.started": "2022-04-04T13:56:15.865079Z"
    },
    "papermill": {
     "duration": 0.112145,
     "end_time": "2022-04-04T13:58:37.904186",
     "exception": false,
     "start_time": "2022-04-04T13:58:37.792041",
     "status": "completed"
    },
    "tags": []
   },
   "outputs": [
    {
     "data": {
      "text/plain": [
       "Gollux Reedall        2\n",
       "Elaney Webstephrey    2\n",
       "Grake Porki           2\n",
       "Sus Coolez            2\n",
       "Apix Wala             2\n",
       "                     ..\n",
       "Jamela Griffy         1\n",
       "Hardy Griffy          1\n",
       "Salley Mckinn         1\n",
       "Mall Frasp            1\n",
       "Propsh Hontichre      1\n",
       "Name: Name, Length: 8473, dtype: int64"
      ]
     },
     "execution_count": 29,
     "metadata": {},
     "output_type": "execute_result"
    }
   ],
   "source": [
    "train_data['Name'].value_counts()"
   ]
  },
  {
   "cell_type": "code",
   "execution_count": 30,
   "id": "75d9cb93",
   "metadata": {
    "execution": {
     "iopub.execute_input": "2022-04-04T13:58:38.100527Z",
     "iopub.status.busy": "2022-04-04T13:58:38.099597Z",
     "iopub.status.idle": "2022-04-04T13:58:38.111218Z",
     "shell.execute_reply": "2022-04-04T13:58:38.111806Z",
     "shell.execute_reply.started": "2022-04-04T13:56:15.885162Z"
    },
    "papermill": {
     "duration": 0.111806,
     "end_time": "2022-04-04T13:58:38.111988",
     "exception": false,
     "start_time": "2022-04-04T13:58:38.000182",
     "status": "completed"
    },
    "tags": []
   },
   "outputs": [
    {
     "data": {
      "text/plain": [
       "G/734/S     8\n",
       "G/109/P     7\n",
       "B/201/P     7\n",
       "G/1368/P    7\n",
       "G/981/S     7\n",
       "           ..\n",
       "G/556/P     1\n",
       "E/231/S     1\n",
       "G/545/S     1\n",
       "G/543/S     1\n",
       "F/947/P     1\n",
       "Name: Cabin, Length: 6560, dtype: int64"
      ]
     },
     "execution_count": 30,
     "metadata": {},
     "output_type": "execute_result"
    }
   ],
   "source": [
    "train_data['Cabin'].value_counts()"
   ]
  },
  {
   "cell_type": "code",
   "execution_count": 31,
   "id": "bea78a93",
   "metadata": {
    "execution": {
     "iopub.execute_input": "2022-04-04T13:58:38.306686Z",
     "iopub.status.busy": "2022-04-04T13:58:38.305738Z",
     "iopub.status.idle": "2022-04-04T13:58:38.317449Z",
     "shell.execute_reply": "2022-04-04T13:58:38.316890Z",
     "shell.execute_reply.started": "2022-04-04T13:56:15.909790Z"
    },
    "papermill": {
     "duration": 0.109581,
     "end_time": "2022-04-04T13:58:38.317597",
     "exception": false,
     "start_time": "2022-04-04T13:58:38.208016",
     "status": "completed"
    },
    "tags": []
   },
   "outputs": [
    {
     "name": "stdout",
     "output_type": "stream",
     "text": [
      "Before: (8693, 17) (4277, 16)\n",
      "After: (8693, 13) (4277, 12)\n"
     ]
    }
   ],
   "source": [
    "remove_cols = ['PassengerId', 'Name', 'Cabin', 'Num']\n",
    "PassengerId = test_data['PassengerId']\n",
    "\n",
    "print(\"Before:\", train_data.shape, test_data.shape)\n",
    "train_data = train_data.drop(remove_cols, axis=1)\n",
    "test_data = test_data.drop(remove_cols, axis=1)\n",
    "\n",
    "print(\"After:\", train_data.shape, test_data.shape)"
   ]
  },
  {
   "cell_type": "markdown",
   "id": "42fa4373",
   "metadata": {
    "papermill": {
     "duration": 0.095569,
     "end_time": "2022-04-04T13:58:38.510012",
     "exception": false,
     "start_time": "2022-04-04T13:58:38.414443",
     "status": "completed"
    },
    "tags": []
   },
   "source": [
    "## 결측치 \n",
    "- 결측치 데이터를 추가하도록 한다. 결측치를 추가하기 위해 SimpleImputer 클래스를 사용하였다. \n",
    "- train_data의 결측치 패턴을 파악한 후, train_data 및 test_data 결과에도 적용한다. \n",
    "    + 주의 : 반드시 이렇게 해야 한다. (Data Leakage 방지)"
   ]
  },
  {
   "cell_type": "code",
   "execution_count": 32,
   "id": "d367b1d4",
   "metadata": {
    "execution": {
     "iopub.execute_input": "2022-04-04T13:58:38.704817Z",
     "iopub.status.busy": "2022-04-04T13:58:38.704130Z",
     "iopub.status.idle": "2022-04-04T13:58:38.716745Z",
     "shell.execute_reply": "2022-04-04T13:58:38.717261Z",
     "shell.execute_reply.started": "2022-04-04T13:56:16.123449Z"
    },
    "papermill": {
     "duration": 0.111702,
     "end_time": "2022-04-04T13:58:38.717440",
     "exception": false,
     "start_time": "2022-04-04T13:58:38.605738",
     "status": "completed"
    },
    "tags": []
   },
   "outputs": [
    {
     "data": {
      "text/plain": [
       "HomePlanet      201\n",
       "CryoSleep       217\n",
       "Destination     182\n",
       "Age             179\n",
       "VIP             203\n",
       "RoomService     181\n",
       "FoodCourt       183\n",
       "ShoppingMall    208\n",
       "Spa             183\n",
       "VRDeck          188\n",
       "Transported       0\n",
       "Deck            199\n",
       "Side            199\n",
       "dtype: int64"
      ]
     },
     "execution_count": 32,
     "metadata": {},
     "output_type": "execute_result"
    }
   ],
   "source": [
    "train_data.isnull().sum()"
   ]
  },
  {
   "cell_type": "code",
   "execution_count": 33,
   "id": "6893fc3e",
   "metadata": {
    "execution": {
     "iopub.execute_input": "2022-04-04T13:58:38.919487Z",
     "iopub.status.busy": "2022-04-04T13:58:38.918799Z",
     "iopub.status.idle": "2022-04-04T13:58:38.923576Z",
     "shell.execute_reply": "2022-04-04T13:58:38.924059Z",
     "shell.execute_reply.started": "2022-04-04T13:56:16.332937Z"
    },
    "papermill": {
     "duration": 0.109488,
     "end_time": "2022-04-04T13:58:38.924231",
     "exception": false,
     "start_time": "2022-04-04T13:58:38.814743",
     "status": "completed"
    },
    "tags": []
   },
   "outputs": [
    {
     "data": {
      "text/plain": [
       "HomePlanet       87\n",
       "CryoSleep        93\n",
       "Destination      92\n",
       "Age              91\n",
       "VIP              93\n",
       "RoomService      82\n",
       "FoodCourt       106\n",
       "ShoppingMall     98\n",
       "Spa             101\n",
       "VRDeck           80\n",
       "Deck            100\n",
       "Side            100\n",
       "dtype: int64"
      ]
     },
     "execution_count": 33,
     "metadata": {},
     "output_type": "execute_result"
    }
   ],
   "source": [
    "test_data.isnull().sum()"
   ]
  },
  {
   "cell_type": "markdown",
   "id": "9f7427ca",
   "metadata": {
    "papermill": {
     "duration": 0.097381,
     "end_time": "2022-04-04T13:58:39.118995",
     "exception": false,
     "start_time": "2022-04-04T13:58:39.021614",
     "status": "completed"
    },
    "tags": []
   },
   "source": [
    "- 결측치를 처리하기 위해 가장 쉬운 방법은 sklearn.impute 내에서의 SimpleImputer 클래스를 활용하는 것이다. \n",
    "    + https://scikit-learn.org/stable/modules/generated/sklearn.impute.SimpleImputer.html"
   ]
  },
  {
   "cell_type": "code",
   "execution_count": 34,
   "id": "02e9fa1b",
   "metadata": {
    "execution": {
     "iopub.execute_input": "2022-04-04T13:58:39.316653Z",
     "iopub.status.busy": "2022-04-04T13:58:39.315945Z",
     "iopub.status.idle": "2022-04-04T13:58:39.661219Z",
     "shell.execute_reply": "2022-04-04T13:58:39.660382Z",
     "shell.execute_reply.started": "2022-04-04T13:56:16.542377Z"
    },
    "papermill": {
     "duration": 0.445635,
     "end_time": "2022-04-04T13:58:39.661369",
     "exception": false,
     "start_time": "2022-04-04T13:58:39.215734",
     "status": "completed"
    },
    "tags": []
   },
   "outputs": [
    {
     "name": "stdout",
     "output_type": "stream",
     "text": [
      "train_data:\n",
      " HomePlanet      201\n",
      "CryoSleep       217\n",
      "Destination     182\n",
      "Age               0\n",
      "VIP             203\n",
      "RoomService       0\n",
      "FoodCourt         0\n",
      "ShoppingMall      0\n",
      "Spa               0\n",
      "VRDeck            0\n",
      "Transported       0\n",
      "Deck            199\n",
      "Side            199\n",
      "dtype: int64\n",
      "---\n",
      "test_data:\n",
      " HomePlanet       87\n",
      "CryoSleep        93\n",
      "Destination      92\n",
      "Age               0\n",
      "VIP              93\n",
      "RoomService       0\n",
      "FoodCourt         0\n",
      "ShoppingMall      0\n",
      "Spa               0\n",
      "VRDeck            0\n",
      "Deck            100\n",
      "Side            100\n",
      "dtype: int64\n"
     ]
    }
   ],
   "source": [
    "from sklearn.impute import SimpleImputer\n",
    "\n",
    "imputer_cols = [\"Age\", \"FoodCourt\", \"ShoppingMall\", \"Spa\", \"VRDeck\" ,\"RoomService\"]\n",
    "STRATEGY = 'median'\n",
    "\n",
    "imputer = SimpleImputer(strategy=STRATEGY)\n",
    "imputer.fit(train_data[imputer_cols])\n",
    "train_data[imputer_cols] = imputer.transform(train_data[imputer_cols])\n",
    "test_data[imputer_cols] = imputer.transform(test_data[imputer_cols])\n",
    "\n",
    "print(\"train_data:\\n\", train_data.isnull().sum())\n",
    "print(\"---\")\n",
    "print(\"test_data:\\n\", test_data.isnull().sum())"
   ]
  },
  {
   "cell_type": "markdown",
   "id": "10dbb1ad",
   "metadata": {
    "papermill": {
     "duration": 0.097965,
     "end_time": "2022-04-04T13:58:39.858297",
     "exception": false,
     "start_time": "2022-04-04T13:58:39.760332",
     "status": "completed"
    },
    "tags": []
   },
   "source": [
    "- 이번에는 문자열 데이터를 추가한다. "
   ]
  },
  {
   "cell_type": "code",
   "execution_count": 35,
   "id": "e635c6f5",
   "metadata": {
    "execution": {
     "iopub.execute_input": "2022-04-04T13:58:40.059417Z",
     "iopub.status.busy": "2022-04-04T13:58:40.058674Z",
     "iopub.status.idle": "2022-04-04T13:58:40.096668Z",
     "shell.execute_reply": "2022-04-04T13:58:40.097147Z",
     "shell.execute_reply.started": "2022-04-04T13:56:16.961395Z"
    },
    "papermill": {
     "duration": 0.14058,
     "end_time": "2022-04-04T13:58:40.097327",
     "exception": false,
     "start_time": "2022-04-04T13:58:39.956747",
     "status": "completed"
    },
    "tags": []
   },
   "outputs": [
    {
     "name": "stdout",
     "output_type": "stream",
     "text": [
      "train_data:\n",
      " HomePlanet      0\n",
      "CryoSleep       0\n",
      "Destination     0\n",
      "Age             0\n",
      "VIP             0\n",
      "RoomService     0\n",
      "FoodCourt       0\n",
      "ShoppingMall    0\n",
      "Spa             0\n",
      "VRDeck          0\n",
      "Transported     0\n",
      "Deck            0\n",
      "Side            0\n",
      "dtype: int64\n",
      "---\n",
      "test_data:\n",
      " HomePlanet      0\n",
      "CryoSleep       0\n",
      "Destination     0\n",
      "Age             0\n",
      "VIP             0\n",
      "RoomService     0\n",
      "FoodCourt       0\n",
      "ShoppingMall    0\n",
      "Spa             0\n",
      "VRDeck          0\n",
      "Deck            0\n",
      "Side            0\n",
      "dtype: int64\n"
     ]
    }
   ],
   "source": [
    "imputer_cols = [\"HomePlanet\", \"CryoSleep\", \"Destination\", \"VIP\", \"Deck\", \"Side\"]\n",
    "STRATEGY = 'most_frequent'\n",
    "\n",
    "imputer = SimpleImputer(strategy=STRATEGY)\n",
    "imputer.fit(train_data[imputer_cols])\n",
    "train_data[imputer_cols] = imputer.transform(train_data[imputer_cols])\n",
    "test_data[imputer_cols] = imputer.transform(test_data[imputer_cols])\n",
    "\n",
    "print(\"train_data:\\n\", train_data.isnull().sum())\n",
    "print(\"---\")\n",
    "print(\"test_data:\\n\", test_data.isnull().sum())"
   ]
  },
  {
   "cell_type": "markdown",
   "id": "0bc69cc2",
   "metadata": {
    "papermill": {
     "duration": 0.097666,
     "end_time": "2022-04-04T13:58:40.293521",
     "exception": false,
     "start_time": "2022-04-04T13:58:40.195855",
     "status": "completed"
    },
    "tags": []
   },
   "source": [
    "- 결측치가 사라진 것을 확인할 수 있다. "
   ]
  },
  {
   "cell_type": "markdown",
   "id": "3a251339",
   "metadata": {
    "papermill": {
     "duration": 0.100911,
     "end_time": "2022-04-04T13:58:40.493382",
     "exception": false,
     "start_time": "2022-04-04T13:58:40.392471",
     "status": "completed"
    },
    "tags": []
   },
   "source": [
    "## Categorical Feature Encoding\n",
    "- 머신러닝 알고리즘은 수식으로 구성이 되어 있기 때문에 문자열의 경우 인코딩으로 변환을 주어야 한다. \n",
    "- 크게 두가지 방법이 존재한다. \n",
    "    + Ordinal Encoding \n",
    "        - 점수 : 0.78770\n",
    "    + Onehot Encoding\n",
    "        - 점수 : 0.78840\n",
    "    + pd.get_dummies\n",
    "        - 점수 : 0.78840\n",
    "        \n",
    "- 크게 두가지 결론을 얻을 수 있었음\n",
    "    + 첫째, 본 데이터에서는 OneHotEncoding 방식이 Ordinal Encoding 보다 좋았음. \n",
    "    + 둘째, Onehot Encoding 방식과 pd.get_dummies 방식 차이는 없었음"
   ]
  },
  {
   "cell_type": "code",
   "execution_count": 36,
   "id": "f6930443",
   "metadata": {
    "execution": {
     "iopub.execute_input": "2022-04-04T13:58:40.693689Z",
     "iopub.status.busy": "2022-04-04T13:58:40.692902Z",
     "iopub.status.idle": "2022-04-04T13:58:40.698240Z",
     "shell.execute_reply": "2022-04-04T13:58:40.698833Z",
     "shell.execute_reply.started": "2022-04-04T13:56:17.005624Z"
    },
    "papermill": {
     "duration": 0.107416,
     "end_time": "2022-04-04T13:58:40.699024",
     "exception": false,
     "start_time": "2022-04-04T13:58:40.591608",
     "status": "completed"
    },
    "tags": []
   },
   "outputs": [
    {
     "data": {
      "text/plain": [
       "'\\nfrom sklearn.preprocessing import OrdinalEncoder\\n\\n# Target 데이터는 1과 0으로 바꿈\\ntrain_data[\\'Transported\\'] = train_data[\\'Transported\\'].map({True: 1, False: 0})\\ncategorical_cols = [\"HomePlanet\", \"CryoSleep\", \"Destination\", \"VIP\"]\\n\\nordinal_encoder = OrdinalEncoder()\\ntrain_data[categorical_cols] = ordinal_encoder.fit_transform(train_data[categorical_cols])\\ntest_data[categorical_cols] = ordinal_encoder.fit_transform(test_data[categorical_cols])\\n\\ntrain_data.info()\\n'"
      ]
     },
     "execution_count": 36,
     "metadata": {},
     "output_type": "execute_result"
    }
   ],
   "source": [
    "'''\n",
    "from sklearn.preprocessing import OrdinalEncoder\n",
    "\n",
    "# Target 데이터는 1과 0으로 바꿈\n",
    "train_data['Transported'] = train_data['Transported'].map({True: 1, False: 0})\n",
    "categorical_cols = [\"HomePlanet\", \"CryoSleep\", \"Destination\", \"VIP\"]\n",
    "\n",
    "ordinal_encoder = OrdinalEncoder()\n",
    "train_data[categorical_cols] = ordinal_encoder.fit_transform(train_data[categorical_cols])\n",
    "test_data[categorical_cols] = ordinal_encoder.fit_transform(test_data[categorical_cols])\n",
    "\n",
    "train_data.info()\n",
    "'''"
   ]
  },
  {
   "cell_type": "markdown",
   "id": "deaa0ced",
   "metadata": {
    "papermill": {
     "duration": 0.098566,
     "end_time": "2022-04-04T13:58:40.898152",
     "exception": false,
     "start_time": "2022-04-04T13:58:40.799586",
     "status": "completed"
    },
    "tags": []
   },
   "source": [
    "- 이번에는 Onehot Encoding을 적용해본다. 이 때, pd.get_dummies() 방식을 사용한다. "
   ]
  },
  {
   "cell_type": "code",
   "execution_count": 37,
   "id": "f3671d97",
   "metadata": {
    "execution": {
     "iopub.execute_input": "2022-04-04T13:58:41.098916Z",
     "iopub.status.busy": "2022-04-04T13:58:41.098286Z",
     "iopub.status.idle": "2022-04-04T13:58:41.102611Z",
     "shell.execute_reply": "2022-04-04T13:58:41.103224Z",
     "shell.execute_reply.started": "2022-04-04T13:56:17.166474Z"
    },
    "papermill": {
     "duration": 0.10661,
     "end_time": "2022-04-04T13:58:41.103386",
     "exception": false,
     "start_time": "2022-04-04T13:58:40.996776",
     "status": "completed"
    },
    "tags": []
   },
   "outputs": [
    {
     "data": {
      "text/plain": [
       "'\\n# Target 데이터는 1과 0으로 바꿈\\ntrain_data[\\'Transported\\'] = train_data[\\'Transported\\'].map({True: 1, False: 0})\\ncategorical_cols = [\"HomePlanet\", \"CryoSleep\", \"Destination\", \"VIP\"]\\n\\ntrain_data = pd.get_dummies(train_data)\\ntest_data = pd.get_dummies(test_data)\\ntrain_data.info()\\n'"
      ]
     },
     "execution_count": 37,
     "metadata": {},
     "output_type": "execute_result"
    }
   ],
   "source": [
    "\n",
    "'''\n",
    "# Target 데이터는 1과 0으로 바꿈\n",
    "train_data['Transported'] = train_data['Transported'].map({True: 1, False: 0})\n",
    "categorical_cols = [\"HomePlanet\", \"CryoSleep\", \"Destination\", \"VIP\"]\n",
    "\n",
    "train_data = pd.get_dummies(train_data)\n",
    "test_data = pd.get_dummies(test_data)\n",
    "train_data.info()\n",
    "'''"
   ]
  },
  {
   "cell_type": "markdown",
   "id": "c46fb871",
   "metadata": {
    "papermill": {
     "duration": 0.09828,
     "end_time": "2022-04-04T13:58:41.300511",
     "exception": false,
     "start_time": "2022-04-04T13:58:41.202231",
     "status": "completed"
    },
    "tags": []
   },
   "source": [
    "- 이번에는 OneHoeEncoder 메서드를 사용해본다. "
   ]
  },
  {
   "cell_type": "code",
   "execution_count": 38,
   "id": "cbda03d4",
   "metadata": {
    "execution": {
     "iopub.execute_input": "2022-04-04T13:58:41.501033Z",
     "iopub.status.busy": "2022-04-04T13:58:41.500352Z",
     "iopub.status.idle": "2022-04-04T13:58:41.564516Z",
     "shell.execute_reply": "2022-04-04T13:58:41.563946Z",
     "shell.execute_reply.started": "2022-04-04T13:56:17.366304Z"
    },
    "papermill": {
     "duration": 0.165206,
     "end_time": "2022-04-04T13:58:41.564683",
     "exception": false,
     "start_time": "2022-04-04T13:58:41.399477",
     "status": "completed"
    },
    "tags": []
   },
   "outputs": [],
   "source": [
    "from sklearn.preprocessing import OneHotEncoder\n",
    "from sklearn.compose import make_column_transformer\n",
    "\n",
    "# Target 데이터는 1과 0으로 바꿈\n",
    "train_data['Transported'] = train_data['Transported'].map({True: 1, False: 0})\n",
    "categorical_cols = [\"HomePlanet\", \"CryoSleep\", \"Destination\", \"VIP\", \"Deck\", \"Side\"]\n",
    "\n",
    "transformer = make_column_transformer(\n",
    "    (OneHotEncoder(), categorical_cols),\n",
    "    remainder='passthrough')\n",
    "\n",
    "train_transformed = transformer.fit_transform(train_data[categorical_cols])\n",
    "train_transformed_df = pd.DataFrame(train_transformed, columns=transformer.get_feature_names_out())\n",
    "train_data = pd.concat([train_data, train_transformed_df], axis = 1)\n",
    "train_data = train_data.drop(categorical_cols, axis = 1)\n",
    "\n",
    "test_transformed = transformer.fit_transform(test_data[categorical_cols])\n",
    "test_transformed_df = pd.DataFrame(test_transformed, columns=transformer.get_feature_names_out())\n",
    "test_data = pd.concat([test_data, test_transformed_df], axis = 1)\n",
    "test_data = test_data.drop(categorical_cols, axis = 1)"
   ]
  },
  {
   "cell_type": "code",
   "execution_count": 39,
   "id": "c7172696",
   "metadata": {
    "execution": {
     "iopub.execute_input": "2022-04-04T13:58:41.764663Z",
     "iopub.status.busy": "2022-04-04T13:58:41.764062Z",
     "iopub.status.idle": "2022-04-04T13:58:41.777247Z",
     "shell.execute_reply": "2022-04-04T13:58:41.776617Z",
     "shell.execute_reply.started": "2022-04-04T13:56:17.568018Z"
    },
    "papermill": {
     "duration": 0.11457,
     "end_time": "2022-04-04T13:58:41.777383",
     "exception": false,
     "start_time": "2022-04-04T13:58:41.662813",
     "status": "completed"
    },
    "tags": []
   },
   "outputs": [
    {
     "name": "stdout",
     "output_type": "stream",
     "text": [
      "<class 'pandas.core.frame.DataFrame'>\n",
      "RangeIndex: 8693 entries, 0 to 8692\n",
      "Data columns (total 27 columns):\n",
      " #   Column                                    Non-Null Count  Dtype  \n",
      "---  ------                                    --------------  -----  \n",
      " 0   Age                                       8693 non-null   float64\n",
      " 1   RoomService                               8693 non-null   float64\n",
      " 2   FoodCourt                                 8693 non-null   float64\n",
      " 3   ShoppingMall                              8693 non-null   float64\n",
      " 4   Spa                                       8693 non-null   float64\n",
      " 5   VRDeck                                    8693 non-null   float64\n",
      " 6   Transported                               8693 non-null   int64  \n",
      " 7   onehotencoder__HomePlanet_Earth           8693 non-null   float64\n",
      " 8   onehotencoder__HomePlanet_Europa          8693 non-null   float64\n",
      " 9   onehotencoder__HomePlanet_Mars            8693 non-null   float64\n",
      " 10  onehotencoder__CryoSleep_False            8693 non-null   float64\n",
      " 11  onehotencoder__CryoSleep_True             8693 non-null   float64\n",
      " 12  onehotencoder__Destination_55 Cancri e    8693 non-null   float64\n",
      " 13  onehotencoder__Destination_PSO J318.5-22  8693 non-null   float64\n",
      " 14  onehotencoder__Destination_TRAPPIST-1e    8693 non-null   float64\n",
      " 15  onehotencoder__VIP_False                  8693 non-null   float64\n",
      " 16  onehotencoder__VIP_True                   8693 non-null   float64\n",
      " 17  onehotencoder__Deck_A                     8693 non-null   float64\n",
      " 18  onehotencoder__Deck_B                     8693 non-null   float64\n",
      " 19  onehotencoder__Deck_C                     8693 non-null   float64\n",
      " 20  onehotencoder__Deck_D                     8693 non-null   float64\n",
      " 21  onehotencoder__Deck_E                     8693 non-null   float64\n",
      " 22  onehotencoder__Deck_F                     8693 non-null   float64\n",
      " 23  onehotencoder__Deck_G                     8693 non-null   float64\n",
      " 24  onehotencoder__Deck_T                     8693 non-null   float64\n",
      " 25  onehotencoder__Side_P                     8693 non-null   float64\n",
      " 26  onehotencoder__Side_S                     8693 non-null   float64\n",
      "dtypes: float64(26), int64(1)\n",
      "memory usage: 1.8 MB\n"
     ]
    }
   ],
   "source": [
    "train_data.info()"
   ]
  },
  {
   "cell_type": "code",
   "execution_count": 40,
   "id": "5c295c6a",
   "metadata": {
    "execution": {
     "iopub.execute_input": "2022-04-04T13:58:41.984381Z",
     "iopub.status.busy": "2022-04-04T13:58:41.983723Z",
     "iopub.status.idle": "2022-04-04T13:58:41.995793Z",
     "shell.execute_reply": "2022-04-04T13:58:41.996462Z",
     "shell.execute_reply.started": "2022-04-04T13:56:17.768158Z"
    },
    "papermill": {
     "duration": 0.120757,
     "end_time": "2022-04-04T13:58:41.996836",
     "exception": false,
     "start_time": "2022-04-04T13:58:41.876079",
     "status": "completed"
    },
    "tags": []
   },
   "outputs": [
    {
     "name": "stdout",
     "output_type": "stream",
     "text": [
      "<class 'pandas.core.frame.DataFrame'>\n",
      "RangeIndex: 4277 entries, 0 to 4276\n",
      "Data columns (total 26 columns):\n",
      " #   Column                                    Non-Null Count  Dtype  \n",
      "---  ------                                    --------------  -----  \n",
      " 0   Age                                       4277 non-null   float64\n",
      " 1   RoomService                               4277 non-null   float64\n",
      " 2   FoodCourt                                 4277 non-null   float64\n",
      " 3   ShoppingMall                              4277 non-null   float64\n",
      " 4   Spa                                       4277 non-null   float64\n",
      " 5   VRDeck                                    4277 non-null   float64\n",
      " 6   onehotencoder__HomePlanet_Earth           4277 non-null   float64\n",
      " 7   onehotencoder__HomePlanet_Europa          4277 non-null   float64\n",
      " 8   onehotencoder__HomePlanet_Mars            4277 non-null   float64\n",
      " 9   onehotencoder__CryoSleep_False            4277 non-null   float64\n",
      " 10  onehotencoder__CryoSleep_True             4277 non-null   float64\n",
      " 11  onehotencoder__Destination_55 Cancri e    4277 non-null   float64\n",
      " 12  onehotencoder__Destination_PSO J318.5-22  4277 non-null   float64\n",
      " 13  onehotencoder__Destination_TRAPPIST-1e    4277 non-null   float64\n",
      " 14  onehotencoder__VIP_False                  4277 non-null   float64\n",
      " 15  onehotencoder__VIP_True                   4277 non-null   float64\n",
      " 16  onehotencoder__Deck_A                     4277 non-null   float64\n",
      " 17  onehotencoder__Deck_B                     4277 non-null   float64\n",
      " 18  onehotencoder__Deck_C                     4277 non-null   float64\n",
      " 19  onehotencoder__Deck_D                     4277 non-null   float64\n",
      " 20  onehotencoder__Deck_E                     4277 non-null   float64\n",
      " 21  onehotencoder__Deck_F                     4277 non-null   float64\n",
      " 22  onehotencoder__Deck_G                     4277 non-null   float64\n",
      " 23  onehotencoder__Deck_T                     4277 non-null   float64\n",
      " 24  onehotencoder__Side_P                     4277 non-null   float64\n",
      " 25  onehotencoder__Side_S                     4277 non-null   float64\n",
      "dtypes: float64(26)\n",
      "memory usage: 868.9 KB\n"
     ]
    }
   ],
   "source": [
    "test_data.info()"
   ]
  },
  {
   "cell_type": "markdown",
   "id": "30c9c8ab",
   "metadata": {
    "papermill": {
     "duration": 0.100098,
     "end_time": "2022-04-04T13:58:42.199111",
     "exception": false,
     "start_time": "2022-04-04T13:58:42.099013",
     "status": "completed"
    },
    "tags": []
   },
   "source": [
    "# Step 4. 머신러닝 모형 개발\n",
    "- 모형에 대한 설명 필요\n",
    "- 모형을 1-2개 사용\n",
    "- 교차 검증\n",
    "- 하이퍼파라미터 튜닝"
   ]
  },
  {
   "cell_type": "markdown",
   "id": "7dcaef98",
   "metadata": {
    "papermill": {
     "duration": 0.098333,
     "end_time": "2022-04-04T13:58:42.396171",
     "exception": false,
     "start_time": "2022-04-04T13:58:42.297838",
     "status": "completed"
    },
    "tags": []
   },
   "source": [
    "- 독립변수와 종속변수를 구분해야 한다. "
   ]
  },
  {
   "cell_type": "code",
   "execution_count": 41,
   "id": "91275b86",
   "metadata": {
    "execution": {
     "iopub.execute_input": "2022-04-04T13:58:42.598553Z",
     "iopub.status.busy": "2022-04-04T13:58:42.597561Z",
     "iopub.status.idle": "2022-04-04T13:58:42.602668Z",
     "shell.execute_reply": "2022-04-04T13:58:42.603256Z",
     "shell.execute_reply.started": "2022-04-04T13:56:17.968115Z"
    },
    "papermill": {
     "duration": 0.107631,
     "end_time": "2022-04-04T13:58:42.603417",
     "exception": false,
     "start_time": "2022-04-04T13:58:42.495786",
     "status": "completed"
    },
    "tags": []
   },
   "outputs": [],
   "source": [
    "X_cols = test_data.columns\n",
    "X = train_data[X_cols].to_numpy()\n",
    "y = train_data['Transported'].to_numpy()"
   ]
  },
  {
   "cell_type": "markdown",
   "id": "8afde577",
   "metadata": {
    "papermill": {
     "duration": 0.102853,
     "end_time": "2022-04-04T13:58:42.806497",
     "exception": false,
     "start_time": "2022-04-04T13:58:42.703644",
     "status": "completed"
    },
    "tags": []
   },
   "source": [
    "- 이번에는 훈련데이터를 검증데이터를 분리한다. \n",
    "- 이때 교차검증은 3회만 실시한다. "
   ]
  },
  {
   "cell_type": "code",
   "execution_count": 42,
   "id": "1b2e289b",
   "metadata": {
    "execution": {
     "iopub.execute_input": "2022-04-04T13:58:43.010743Z",
     "iopub.status.busy": "2022-04-04T13:58:43.009728Z",
     "iopub.status.idle": "2022-04-04T13:58:43.018717Z",
     "shell.execute_reply": "2022-04-04T13:58:43.019334Z",
     "shell.execute_reply.started": "2022-04-04T13:56:18.166384Z"
    },
    "papermill": {
     "duration": 0.113138,
     "end_time": "2022-04-04T13:58:43.019494",
     "exception": false,
     "start_time": "2022-04-04T13:58:42.906356",
     "status": "completed"
    },
    "tags": []
   },
   "outputs": [
    {
     "data": {
      "text/plain": [
       "((6085, 26), (2608, 26), (6085,), (2608,))"
      ]
     },
     "execution_count": 42,
     "metadata": {},
     "output_type": "execute_result"
    }
   ],
   "source": [
    "from sklearn.model_selection import train_test_split\n",
    "X_train, X_val, y_train, y_val = train_test_split(X, y, test_size=0.3, random_state=42)\n",
    "X_train.shape, X_val.shape, y_train.shape, y_val.shape"
   ]
  },
  {
   "cell_type": "markdown",
   "id": "780f4647",
   "metadata": {
    "papermill": {
     "duration": 0.099575,
     "end_time": "2022-04-04T13:58:43.219860",
     "exception": false,
     "start_time": "2022-04-04T13:58:43.120285",
     "status": "completed"
    },
    "tags": []
   },
   "source": [
    "- XGBoost 클래스를 부른 후 모형을 학습한다"
   ]
  },
  {
   "cell_type": "code",
   "execution_count": 43,
   "id": "597d113f",
   "metadata": {
    "execution": {
     "iopub.execute_input": "2022-04-04T13:58:43.425208Z",
     "iopub.status.busy": "2022-04-04T13:58:43.424266Z",
     "iopub.status.idle": "2022-04-04T13:58:43.430152Z",
     "shell.execute_reply": "2022-04-04T13:58:43.430597Z",
     "shell.execute_reply.started": "2022-04-04T13:56:18.359398Z"
    },
    "papermill": {
     "duration": 0.110044,
     "end_time": "2022-04-04T13:58:43.430777",
     "exception": false,
     "start_time": "2022-04-04T13:58:43.320733",
     "status": "completed"
    },
    "tags": []
   },
   "outputs": [
    {
     "data": {
      "text/plain": [
       "'\\nfrom xgboost import XGBClassifier\\n\\nxgb = XGBClassifier(random_state = 42)\\nxgb\\n'"
      ]
     },
     "execution_count": 43,
     "metadata": {},
     "output_type": "execute_result"
    }
   ],
   "source": [
    "\"\"\"\n",
    "from xgboost import XGBClassifier\n",
    "\n",
    "xgb = XGBClassifier(random_state = 42)\n",
    "xgb\n",
    "\"\"\""
   ]
  },
  {
   "cell_type": "markdown",
   "id": "011eed4b",
   "metadata": {
    "papermill": {
     "duration": 0.100286,
     "end_time": "2022-04-04T13:58:43.631464",
     "exception": false,
     "start_time": "2022-04-04T13:58:43.531178",
     "status": "completed"
    },
    "tags": []
   },
   "source": [
    "- 이번에는 LightGBM 클래스를 부른 후 모형을 학습한다. "
   ]
  },
  {
   "cell_type": "code",
   "execution_count": 44,
   "id": "4d85197e",
   "metadata": {
    "execution": {
     "iopub.execute_input": "2022-04-04T13:58:43.838207Z",
     "iopub.status.busy": "2022-04-04T13:58:43.837343Z",
     "iopub.status.idle": "2022-04-04T13:58:43.840449Z",
     "shell.execute_reply": "2022-04-04T13:58:43.840932Z",
     "shell.execute_reply.started": "2022-04-04T13:56:18.549422Z"
    },
    "papermill": {
     "duration": 0.109064,
     "end_time": "2022-04-04T13:58:43.841155",
     "exception": false,
     "start_time": "2022-04-04T13:58:43.732091",
     "status": "completed"
    },
    "tags": []
   },
   "outputs": [
    {
     "data": {
      "text/plain": [
       "'\\nfrom lightgbm import LGBMClassifier\\n\\nlgb = LGBMClassifier(random_state=42)\\nlgb\\n'"
      ]
     },
     "execution_count": 44,
     "metadata": {},
     "output_type": "execute_result"
    }
   ],
   "source": [
    "\"\"\"\n",
    "from lightgbm import LGBMClassifier\n",
    "\n",
    "lgb = LGBMClassifier(random_state=42)\n",
    "lgb\n",
    "\"\"\""
   ]
  },
  {
   "cell_type": "markdown",
   "id": "2613e99e",
   "metadata": {
    "papermill": {
     "duration": 0.102007,
     "end_time": "2022-04-04T13:58:44.046575",
     "exception": false,
     "start_time": "2022-04-04T13:58:43.944568",
     "status": "completed"
    },
    "tags": []
   },
   "source": [
    "# Model Selection \n",
    "- Ref. https://www.kaggle.com/code/samuelcortinhas/spaceship-titanic-a-complete-guide\n",
    "- 그리드 서치를 적용함. \n",
    "- 4차시도 : 0.79097 (미 적용 시 : 0.78840)\n",
    "    + 큰 차이는 일어나지 않음\n",
    "    + 그러나 코드는 많이 작성...;;;"
   ]
  },
  {
   "cell_type": "markdown",
   "id": "df119e78",
   "metadata": {
    "papermill": {
     "duration": 0.099581,
     "end_time": "2022-04-04T13:58:44.248632",
     "exception": false,
     "start_time": "2022-04-04T13:58:44.149051",
     "status": "completed"
    },
    "tags": []
   },
   "source": [
    "## 모형 옵션 선택\n",
    "- 아래와 같은 모형을 정의한다. "
   ]
  },
  {
   "cell_type": "code",
   "execution_count": 45,
   "id": "13c7687a",
   "metadata": {
    "execution": {
     "iopub.execute_input": "2022-04-04T13:58:44.455918Z",
     "iopub.status.busy": "2022-04-04T13:58:44.455308Z",
     "iopub.status.idle": "2022-04-04T13:58:45.688099Z",
     "shell.execute_reply": "2022-04-04T13:58:45.687525Z",
     "shell.execute_reply.started": "2022-04-04T13:56:18.724244Z"
    },
    "papermill": {
     "duration": 1.339749,
     "end_time": "2022-04-04T13:58:45.688252",
     "exception": false,
     "start_time": "2022-04-04T13:58:44.348503",
     "status": "completed"
    },
    "tags": []
   },
   "outputs": [
    {
     "data": {
      "text/html": [
       "<style type='text/css'>\n",
       ".datatable table.frame { margin-bottom: 0; }\n",
       ".datatable table.frame thead { border-bottom: none; }\n",
       ".datatable table.frame tr.coltypes td {  color: #FFFFFF;  line-height: 6px;  padding: 0 0.5em;}\n",
       ".datatable .bool    { background: #DDDD99; }\n",
       ".datatable .object  { background: #565656; }\n",
       ".datatable .int     { background: #5D9E5D; }\n",
       ".datatable .float   { background: #4040CC; }\n",
       ".datatable .str     { background: #CC4040; }\n",
       ".datatable .time    { background: #40CC40; }\n",
       ".datatable .row_index {  background: var(--jp-border-color3);  border-right: 1px solid var(--jp-border-color0);  color: var(--jp-ui-font-color3);  font-size: 9px;}\n",
       ".datatable .frame tbody td { text-align: left; }\n",
       ".datatable .frame tr.coltypes .row_index {  background: var(--jp-border-color0);}\n",
       ".datatable th:nth-child(2) { padding-left: 12px; }\n",
       ".datatable .hellipsis {  color: var(--jp-cell-editor-border-color);}\n",
       ".datatable .vellipsis {  background: var(--jp-layout-color0);  color: var(--jp-cell-editor-border-color);}\n",
       ".datatable .na {  color: var(--jp-cell-editor-border-color);  font-size: 80%;}\n",
       ".datatable .sp {  opacity: 0.25;}\n",
       ".datatable .footer { font-size: 9px; }\n",
       ".datatable .frame_dimensions {  background: var(--jp-border-color3);  border-top: 1px solid var(--jp-border-color0);  color: var(--jp-ui-font-color3);  display: inline-block;  opacity: 0.6;  padding: 1px 10px 1px 5px;}\n",
       "</style>\n"
      ],
      "text/plain": [
       "<IPython.core.display.HTML object>"
      ]
     },
     "metadata": {},
     "output_type": "display_data"
    }
   ],
   "source": [
    "# Models\n",
    "from sklearn.linear_model import LogisticRegression\n",
    "from sklearn.neighbors import KNeighborsClassifier\n",
    "from sklearn.svm import SVC\n",
    "from sklearn.tree import DecisionTreeClassifier\n",
    "from sklearn.ensemble import RandomForestClassifier\n",
    "from xgboost import XGBClassifier\n",
    "from lightgbm import LGBMClassifier\n",
    "from catboost import CatBoostClassifier\n",
    "from sklearn.naive_bayes import GaussianNB\n",
    "\n",
    "# Classifiers\n",
    "classifiers = {\n",
    "    \"LogisticRegression\" : LogisticRegression(random_state=0),\n",
    "    \"KNN\" : KNeighborsClassifier(),\n",
    "    \"RandomForest\" : RandomForestClassifier(random_state=0),\n",
    "    \"LGBM\" : LGBMClassifier(random_state=0)\n",
    "}"
   ]
  },
  {
   "cell_type": "markdown",
   "id": "9d830366",
   "metadata": {
    "papermill": {
     "duration": 0.100747,
     "end_time": "2022-04-04T13:58:45.889987",
     "exception": false,
     "start_time": "2022-04-04T13:58:45.789240",
     "status": "completed"
    },
    "tags": []
   },
   "source": [
    "- 그리드 서치를 위한 옵션을 선택한다. "
   ]
  },
  {
   "cell_type": "code",
   "execution_count": 46,
   "id": "02459b82",
   "metadata": {
    "execution": {
     "iopub.execute_input": "2022-04-04T13:58:46.096771Z",
     "iopub.status.busy": "2022-04-04T13:58:46.096101Z",
     "iopub.status.idle": "2022-04-04T13:58:46.104148Z",
     "shell.execute_reply": "2022-04-04T13:58:46.103558Z",
     "shell.execute_reply.started": "2022-04-04T13:56:20.179006Z"
    },
    "papermill": {
     "duration": 0.113758,
     "end_time": "2022-04-04T13:58:46.104281",
     "exception": false,
     "start_time": "2022-04-04T13:58:45.990523",
     "status": "completed"
    },
    "tags": []
   },
   "outputs": [],
   "source": [
    "# Grids for grid search\n",
    "LR_grid = {'penalty': ['l1','l2'],\n",
    "           'C': [0.25, 0.5, 0.75, 1, 1.25, 1.5],\n",
    "           'max_iter': [50, 100, 150]}\n",
    "\n",
    "KNN_grid = {'n_neighbors': [3, 5, 7, 9],\n",
    "            'p': [1, 2]}\n",
    "\n",
    "RF_grid = {'n_estimators': [50, 100, 150, 200, 250, 300],\n",
    "        'max_depth': [4, 6, 8, 10, 12]}\n",
    "\n",
    "\n",
    "boosted_grid = {'n_estimators': [50, 100, 150, 200],\n",
    "        'max_depth': [4, 8, 12],\n",
    "        'learning_rate': [0.05, 0.1, 0.15]}\n",
    "\n",
    "# Dictionary of all grids\n",
    "grid = {\n",
    "    \"LogisticRegression\" : LR_grid,\n",
    "    \"KNN\" : KNN_grid,\n",
    "    \"RandomForest\" : RF_grid,\n",
    "    \"LGBM\" : boosted_grid\n",
    "}"
   ]
  },
  {
   "cell_type": "markdown",
   "id": "ec703c57",
   "metadata": {
    "papermill": {
     "duration": 0.101134,
     "end_time": "2022-04-04T13:58:46.306789",
     "exception": false,
     "start_time": "2022-04-04T13:58:46.205655",
     "status": "completed"
    },
    "tags": []
   },
   "source": [
    "- 불러온 모형과 그리드 서치를 각각 개별적으로 정의하는 코드를 작성한다. \n",
    "- 해당 결과는 모두 데이터프레임에 담도록 한다. "
   ]
  },
  {
   "cell_type": "code",
   "execution_count": 47,
   "id": "43f28500",
   "metadata": {
    "execution": {
     "iopub.execute_input": "2022-04-04T13:58:46.519037Z",
     "iopub.status.busy": "2022-04-04T13:58:46.518044Z",
     "iopub.status.idle": "2022-04-04T13:59:52.933483Z",
     "shell.execute_reply": "2022-04-04T13:59:52.934497Z",
     "shell.execute_reply.started": "2022-04-04T13:56:20.190704Z"
    },
    "papermill": {
     "duration": 66.526708,
     "end_time": "2022-04-04T13:59:52.934758",
     "exception": false,
     "start_time": "2022-04-04T13:58:46.408050",
     "status": "completed"
    },
    "tags": []
   },
   "outputs": [
    {
     "name": "stderr",
     "output_type": "stream",
     "text": [
      "/opt/conda/lib/python3.7/site-packages/sklearn/linear_model/_logistic.py:818: ConvergenceWarning: lbfgs failed to converge (status=1):\n",
      "STOP: TOTAL NO. of ITERATIONS REACHED LIMIT.\n",
      "\n",
      "Increase the number of iterations (max_iter) or scale the data as shown in:\n",
      "    https://scikit-learn.org/stable/modules/preprocessing.html\n",
      "Please also refer to the documentation for alternative solver options:\n",
      "    https://scikit-learn.org/stable/modules/linear_model.html#logistic-regression\n",
      "  extra_warning_msg=_LOGISTIC_SOLVER_CONVERGENCE_MSG,\n",
      "/opt/conda/lib/python3.7/site-packages/sklearn/linear_model/_logistic.py:818: ConvergenceWarning: lbfgs failed to converge (status=1):\n",
      "STOP: TOTAL NO. of ITERATIONS REACHED LIMIT.\n",
      "\n",
      "Increase the number of iterations (max_iter) or scale the data as shown in:\n",
      "    https://scikit-learn.org/stable/modules/preprocessing.html\n",
      "Please also refer to the documentation for alternative solver options:\n",
      "    https://scikit-learn.org/stable/modules/linear_model.html#logistic-regression\n",
      "  extra_warning_msg=_LOGISTIC_SOLVER_CONVERGENCE_MSG,\n",
      "/opt/conda/lib/python3.7/site-packages/sklearn/linear_model/_logistic.py:818: ConvergenceWarning: lbfgs failed to converge (status=1):\n",
      "STOP: TOTAL NO. of ITERATIONS REACHED LIMIT.\n",
      "\n",
      "Increase the number of iterations (max_iter) or scale the data as shown in:\n",
      "    https://scikit-learn.org/stable/modules/preprocessing.html\n",
      "Please also refer to the documentation for alternative solver options:\n",
      "    https://scikit-learn.org/stable/modules/linear_model.html#logistic-regression\n",
      "  extra_warning_msg=_LOGISTIC_SOLVER_CONVERGENCE_MSG,\n",
      "/opt/conda/lib/python3.7/site-packages/sklearn/linear_model/_logistic.py:818: ConvergenceWarning: lbfgs failed to converge (status=1):\n",
      "STOP: TOTAL NO. of ITERATIONS REACHED LIMIT.\n",
      "\n",
      "Increase the number of iterations (max_iter) or scale the data as shown in:\n",
      "    https://scikit-learn.org/stable/modules/preprocessing.html\n",
      "Please also refer to the documentation for alternative solver options:\n",
      "    https://scikit-learn.org/stable/modules/linear_model.html#logistic-regression\n",
      "  extra_warning_msg=_LOGISTIC_SOLVER_CONVERGENCE_MSG,\n",
      "/opt/conda/lib/python3.7/site-packages/sklearn/linear_model/_logistic.py:818: ConvergenceWarning: lbfgs failed to converge (status=1):\n",
      "STOP: TOTAL NO. of ITERATIONS REACHED LIMIT.\n",
      "\n",
      "Increase the number of iterations (max_iter) or scale the data as shown in:\n",
      "    https://scikit-learn.org/stable/modules/preprocessing.html\n",
      "Please also refer to the documentation for alternative solver options:\n",
      "    https://scikit-learn.org/stable/modules/linear_model.html#logistic-regression\n",
      "  extra_warning_msg=_LOGISTIC_SOLVER_CONVERGENCE_MSG,\n",
      "/opt/conda/lib/python3.7/site-packages/sklearn/linear_model/_logistic.py:818: ConvergenceWarning: lbfgs failed to converge (status=1):\n",
      "STOP: TOTAL NO. of ITERATIONS REACHED LIMIT.\n",
      "\n",
      "Increase the number of iterations (max_iter) or scale the data as shown in:\n",
      "    https://scikit-learn.org/stable/modules/preprocessing.html\n",
      "Please also refer to the documentation for alternative solver options:\n",
      "    https://scikit-learn.org/stable/modules/linear_model.html#logistic-regression\n",
      "  extra_warning_msg=_LOGISTIC_SOLVER_CONVERGENCE_MSG,\n",
      "/opt/conda/lib/python3.7/site-packages/sklearn/linear_model/_logistic.py:818: ConvergenceWarning: lbfgs failed to converge (status=1):\n",
      "STOP: TOTAL NO. of ITERATIONS REACHED LIMIT.\n",
      "\n",
      "Increase the number of iterations (max_iter) or scale the data as shown in:\n",
      "    https://scikit-learn.org/stable/modules/preprocessing.html\n",
      "Please also refer to the documentation for alternative solver options:\n",
      "    https://scikit-learn.org/stable/modules/linear_model.html#logistic-regression\n",
      "  extra_warning_msg=_LOGISTIC_SOLVER_CONVERGENCE_MSG,\n",
      "/opt/conda/lib/python3.7/site-packages/sklearn/linear_model/_logistic.py:818: ConvergenceWarning: lbfgs failed to converge (status=1):\n",
      "STOP: TOTAL NO. of ITERATIONS REACHED LIMIT.\n",
      "\n",
      "Increase the number of iterations (max_iter) or scale the data as shown in:\n",
      "    https://scikit-learn.org/stable/modules/preprocessing.html\n",
      "Please also refer to the documentation for alternative solver options:\n",
      "    https://scikit-learn.org/stable/modules/linear_model.html#logistic-regression\n",
      "  extra_warning_msg=_LOGISTIC_SOLVER_CONVERGENCE_MSG,\n",
      "/opt/conda/lib/python3.7/site-packages/sklearn/linear_model/_logistic.py:818: ConvergenceWarning: lbfgs failed to converge (status=1):\n",
      "STOP: TOTAL NO. of ITERATIONS REACHED LIMIT.\n",
      "\n",
      "Increase the number of iterations (max_iter) or scale the data as shown in:\n",
      "    https://scikit-learn.org/stable/modules/preprocessing.html\n",
      "Please also refer to the documentation for alternative solver options:\n",
      "    https://scikit-learn.org/stable/modules/linear_model.html#logistic-regression\n",
      "  extra_warning_msg=_LOGISTIC_SOLVER_CONVERGENCE_MSG,\n",
      "/opt/conda/lib/python3.7/site-packages/sklearn/linear_model/_logistic.py:818: ConvergenceWarning: lbfgs failed to converge (status=1):\n",
      "STOP: TOTAL NO. of ITERATIONS REACHED LIMIT.\n",
      "\n",
      "Increase the number of iterations (max_iter) or scale the data as shown in:\n",
      "    https://scikit-learn.org/stable/modules/preprocessing.html\n",
      "Please also refer to the documentation for alternative solver options:\n",
      "    https://scikit-learn.org/stable/modules/linear_model.html#logistic-regression\n",
      "  extra_warning_msg=_LOGISTIC_SOLVER_CONVERGENCE_MSG,\n",
      "/opt/conda/lib/python3.7/site-packages/sklearn/linear_model/_logistic.py:818: ConvergenceWarning: lbfgs failed to converge (status=1):\n",
      "STOP: TOTAL NO. of ITERATIONS REACHED LIMIT.\n",
      "\n",
      "Increase the number of iterations (max_iter) or scale the data as shown in:\n",
      "    https://scikit-learn.org/stable/modules/preprocessing.html\n",
      "Please also refer to the documentation for alternative solver options:\n",
      "    https://scikit-learn.org/stable/modules/linear_model.html#logistic-regression\n",
      "  extra_warning_msg=_LOGISTIC_SOLVER_CONVERGENCE_MSG,\n",
      "/opt/conda/lib/python3.7/site-packages/sklearn/linear_model/_logistic.py:818: ConvergenceWarning: lbfgs failed to converge (status=1):\n",
      "STOP: TOTAL NO. of ITERATIONS REACHED LIMIT.\n",
      "\n",
      "Increase the number of iterations (max_iter) or scale the data as shown in:\n",
      "    https://scikit-learn.org/stable/modules/preprocessing.html\n",
      "Please also refer to the documentation for alternative solver options:\n",
      "    https://scikit-learn.org/stable/modules/linear_model.html#logistic-regression\n",
      "  extra_warning_msg=_LOGISTIC_SOLVER_CONVERGENCE_MSG,\n",
      "/opt/conda/lib/python3.7/site-packages/sklearn/linear_model/_logistic.py:818: ConvergenceWarning: lbfgs failed to converge (status=1):\n",
      "STOP: TOTAL NO. of ITERATIONS REACHED LIMIT.\n",
      "\n",
      "Increase the number of iterations (max_iter) or scale the data as shown in:\n",
      "    https://scikit-learn.org/stable/modules/preprocessing.html\n",
      "Please also refer to the documentation for alternative solver options:\n",
      "    https://scikit-learn.org/stable/modules/linear_model.html#logistic-regression\n",
      "  extra_warning_msg=_LOGISTIC_SOLVER_CONVERGENCE_MSG,\n",
      "/opt/conda/lib/python3.7/site-packages/sklearn/linear_model/_logistic.py:818: ConvergenceWarning: lbfgs failed to converge (status=1):\n",
      "STOP: TOTAL NO. of ITERATIONS REACHED LIMIT.\n",
      "\n",
      "Increase the number of iterations (max_iter) or scale the data as shown in:\n",
      "    https://scikit-learn.org/stable/modules/preprocessing.html\n",
      "Please also refer to the documentation for alternative solver options:\n",
      "    https://scikit-learn.org/stable/modules/linear_model.html#logistic-regression\n",
      "  extra_warning_msg=_LOGISTIC_SOLVER_CONVERGENCE_MSG,\n",
      "/opt/conda/lib/python3.7/site-packages/sklearn/linear_model/_logistic.py:818: ConvergenceWarning: lbfgs failed to converge (status=1):\n",
      "STOP: TOTAL NO. of ITERATIONS REACHED LIMIT.\n",
      "\n",
      "Increase the number of iterations (max_iter) or scale the data as shown in:\n",
      "    https://scikit-learn.org/stable/modules/preprocessing.html\n",
      "Please also refer to the documentation for alternative solver options:\n",
      "    https://scikit-learn.org/stable/modules/linear_model.html#logistic-regression\n",
      "  extra_warning_msg=_LOGISTIC_SOLVER_CONVERGENCE_MSG,\n",
      "/opt/conda/lib/python3.7/site-packages/sklearn/linear_model/_logistic.py:818: ConvergenceWarning: lbfgs failed to converge (status=1):\n",
      "STOP: TOTAL NO. of ITERATIONS REACHED LIMIT.\n",
      "\n",
      "Increase the number of iterations (max_iter) or scale the data as shown in:\n",
      "    https://scikit-learn.org/stable/modules/preprocessing.html\n",
      "Please also refer to the documentation for alternative solver options:\n",
      "    https://scikit-learn.org/stable/modules/linear_model.html#logistic-regression\n",
      "  extra_warning_msg=_LOGISTIC_SOLVER_CONVERGENCE_MSG,\n",
      "/opt/conda/lib/python3.7/site-packages/sklearn/linear_model/_logistic.py:818: ConvergenceWarning: lbfgs failed to converge (status=1):\n",
      "STOP: TOTAL NO. of ITERATIONS REACHED LIMIT.\n",
      "\n",
      "Increase the number of iterations (max_iter) or scale the data as shown in:\n",
      "    https://scikit-learn.org/stable/modules/preprocessing.html\n",
      "Please also refer to the documentation for alternative solver options:\n",
      "    https://scikit-learn.org/stable/modules/linear_model.html#logistic-regression\n",
      "  extra_warning_msg=_LOGISTIC_SOLVER_CONVERGENCE_MSG,\n",
      "/opt/conda/lib/python3.7/site-packages/sklearn/linear_model/_logistic.py:818: ConvergenceWarning: lbfgs failed to converge (status=1):\n",
      "STOP: TOTAL NO. of ITERATIONS REACHED LIMIT.\n",
      "\n",
      "Increase the number of iterations (max_iter) or scale the data as shown in:\n",
      "    https://scikit-learn.org/stable/modules/preprocessing.html\n",
      "Please also refer to the documentation for alternative solver options:\n",
      "    https://scikit-learn.org/stable/modules/linear_model.html#logistic-regression\n",
      "  extra_warning_msg=_LOGISTIC_SOLVER_CONVERGENCE_MSG,\n",
      "/opt/conda/lib/python3.7/site-packages/sklearn/linear_model/_logistic.py:818: ConvergenceWarning: lbfgs failed to converge (status=1):\n",
      "STOP: TOTAL NO. of ITERATIONS REACHED LIMIT.\n",
      "\n",
      "Increase the number of iterations (max_iter) or scale the data as shown in:\n",
      "    https://scikit-learn.org/stable/modules/preprocessing.html\n",
      "Please also refer to the documentation for alternative solver options:\n",
      "    https://scikit-learn.org/stable/modules/linear_model.html#logistic-regression\n",
      "  extra_warning_msg=_LOGISTIC_SOLVER_CONVERGENCE_MSG,\n",
      "/opt/conda/lib/python3.7/site-packages/sklearn/linear_model/_logistic.py:818: ConvergenceWarning: lbfgs failed to converge (status=1):\n",
      "STOP: TOTAL NO. of ITERATIONS REACHED LIMIT.\n",
      "\n",
      "Increase the number of iterations (max_iter) or scale the data as shown in:\n",
      "    https://scikit-learn.org/stable/modules/preprocessing.html\n",
      "Please also refer to the documentation for alternative solver options:\n",
      "    https://scikit-learn.org/stable/modules/linear_model.html#logistic-regression\n",
      "  extra_warning_msg=_LOGISTIC_SOLVER_CONVERGENCE_MSG,\n",
      "/opt/conda/lib/python3.7/site-packages/sklearn/linear_model/_logistic.py:818: ConvergenceWarning: lbfgs failed to converge (status=1):\n",
      "STOP: TOTAL NO. of ITERATIONS REACHED LIMIT.\n",
      "\n",
      "Increase the number of iterations (max_iter) or scale the data as shown in:\n",
      "    https://scikit-learn.org/stable/modules/preprocessing.html\n",
      "Please also refer to the documentation for alternative solver options:\n",
      "    https://scikit-learn.org/stable/modules/linear_model.html#logistic-regression\n",
      "  extra_warning_msg=_LOGISTIC_SOLVER_CONVERGENCE_MSG,\n",
      "/opt/conda/lib/python3.7/site-packages/sklearn/linear_model/_logistic.py:818: ConvergenceWarning: lbfgs failed to converge (status=1):\n",
      "STOP: TOTAL NO. of ITERATIONS REACHED LIMIT.\n",
      "\n",
      "Increase the number of iterations (max_iter) or scale the data as shown in:\n",
      "    https://scikit-learn.org/stable/modules/preprocessing.html\n",
      "Please also refer to the documentation for alternative solver options:\n",
      "    https://scikit-learn.org/stable/modules/linear_model.html#logistic-regression\n",
      "  extra_warning_msg=_LOGISTIC_SOLVER_CONVERGENCE_MSG,\n",
      "/opt/conda/lib/python3.7/site-packages/sklearn/linear_model/_logistic.py:818: ConvergenceWarning: lbfgs failed to converge (status=1):\n",
      "STOP: TOTAL NO. of ITERATIONS REACHED LIMIT.\n",
      "\n",
      "Increase the number of iterations (max_iter) or scale the data as shown in:\n",
      "    https://scikit-learn.org/stable/modules/preprocessing.html\n",
      "Please also refer to the documentation for alternative solver options:\n",
      "    https://scikit-learn.org/stable/modules/linear_model.html#logistic-regression\n",
      "  extra_warning_msg=_LOGISTIC_SOLVER_CONVERGENCE_MSG,\n",
      "/opt/conda/lib/python3.7/site-packages/sklearn/linear_model/_logistic.py:818: ConvergenceWarning: lbfgs failed to converge (status=1):\n",
      "STOP: TOTAL NO. of ITERATIONS REACHED LIMIT.\n",
      "\n",
      "Increase the number of iterations (max_iter) or scale the data as shown in:\n",
      "    https://scikit-learn.org/stable/modules/preprocessing.html\n",
      "Please also refer to the documentation for alternative solver options:\n",
      "    https://scikit-learn.org/stable/modules/linear_model.html#logistic-regression\n",
      "  extra_warning_msg=_LOGISTIC_SOLVER_CONVERGENCE_MSG,\n",
      "/opt/conda/lib/python3.7/site-packages/sklearn/linear_model/_logistic.py:818: ConvergenceWarning: lbfgs failed to converge (status=1):\n",
      "STOP: TOTAL NO. of ITERATIONS REACHED LIMIT.\n",
      "\n",
      "Increase the number of iterations (max_iter) or scale the data as shown in:\n",
      "    https://scikit-learn.org/stable/modules/preprocessing.html\n",
      "Please also refer to the documentation for alternative solver options:\n",
      "    https://scikit-learn.org/stable/modules/linear_model.html#logistic-regression\n",
      "  extra_warning_msg=_LOGISTIC_SOLVER_CONVERGENCE_MSG,\n",
      "/opt/conda/lib/python3.7/site-packages/sklearn/linear_model/_logistic.py:818: ConvergenceWarning: lbfgs failed to converge (status=1):\n",
      "STOP: TOTAL NO. of ITERATIONS REACHED LIMIT.\n",
      "\n",
      "Increase the number of iterations (max_iter) or scale the data as shown in:\n",
      "    https://scikit-learn.org/stable/modules/preprocessing.html\n",
      "Please also refer to the documentation for alternative solver options:\n",
      "    https://scikit-learn.org/stable/modules/linear_model.html#logistic-regression\n",
      "  extra_warning_msg=_LOGISTIC_SOLVER_CONVERGENCE_MSG,\n",
      "/opt/conda/lib/python3.7/site-packages/sklearn/linear_model/_logistic.py:818: ConvergenceWarning: lbfgs failed to converge (status=1):\n",
      "STOP: TOTAL NO. of ITERATIONS REACHED LIMIT.\n",
      "\n",
      "Increase the number of iterations (max_iter) or scale the data as shown in:\n",
      "    https://scikit-learn.org/stable/modules/preprocessing.html\n",
      "Please also refer to the documentation for alternative solver options:\n",
      "    https://scikit-learn.org/stable/modules/linear_model.html#logistic-regression\n",
      "  extra_warning_msg=_LOGISTIC_SOLVER_CONVERGENCE_MSG,\n",
      "/opt/conda/lib/python3.7/site-packages/sklearn/linear_model/_logistic.py:818: ConvergenceWarning: lbfgs failed to converge (status=1):\n",
      "STOP: TOTAL NO. of ITERATIONS REACHED LIMIT.\n",
      "\n",
      "Increase the number of iterations (max_iter) or scale the data as shown in:\n",
      "    https://scikit-learn.org/stable/modules/preprocessing.html\n",
      "Please also refer to the documentation for alternative solver options:\n",
      "    https://scikit-learn.org/stable/modules/linear_model.html#logistic-regression\n",
      "  extra_warning_msg=_LOGISTIC_SOLVER_CONVERGENCE_MSG,\n",
      "/opt/conda/lib/python3.7/site-packages/sklearn/linear_model/_logistic.py:818: ConvergenceWarning: lbfgs failed to converge (status=1):\n",
      "STOP: TOTAL NO. of ITERATIONS REACHED LIMIT.\n",
      "\n",
      "Increase the number of iterations (max_iter) or scale the data as shown in:\n",
      "    https://scikit-learn.org/stable/modules/preprocessing.html\n",
      "Please also refer to the documentation for alternative solver options:\n",
      "    https://scikit-learn.org/stable/modules/linear_model.html#logistic-regression\n",
      "  extra_warning_msg=_LOGISTIC_SOLVER_CONVERGENCE_MSG,\n",
      "/opt/conda/lib/python3.7/site-packages/sklearn/linear_model/_logistic.py:818: ConvergenceWarning: lbfgs failed to converge (status=1):\n",
      "STOP: TOTAL NO. of ITERATIONS REACHED LIMIT.\n",
      "\n",
      "Increase the number of iterations (max_iter) or scale the data as shown in:\n",
      "    https://scikit-learn.org/stable/modules/preprocessing.html\n",
      "Please also refer to the documentation for alternative solver options:\n",
      "    https://scikit-learn.org/stable/modules/linear_model.html#logistic-regression\n",
      "  extra_warning_msg=_LOGISTIC_SOLVER_CONVERGENCE_MSG,\n",
      "/opt/conda/lib/python3.7/site-packages/sklearn/linear_model/_logistic.py:818: ConvergenceWarning: lbfgs failed to converge (status=1):\n",
      "STOP: TOTAL NO. of ITERATIONS REACHED LIMIT.\n",
      "\n",
      "Increase the number of iterations (max_iter) or scale the data as shown in:\n",
      "    https://scikit-learn.org/stable/modules/preprocessing.html\n",
      "Please also refer to the documentation for alternative solver options:\n",
      "    https://scikit-learn.org/stable/modules/linear_model.html#logistic-regression\n",
      "  extra_warning_msg=_LOGISTIC_SOLVER_CONVERGENCE_MSG,\n",
      "/opt/conda/lib/python3.7/site-packages/sklearn/linear_model/_logistic.py:818: ConvergenceWarning: lbfgs failed to converge (status=1):\n",
      "STOP: TOTAL NO. of ITERATIONS REACHED LIMIT.\n",
      "\n",
      "Increase the number of iterations (max_iter) or scale the data as shown in:\n",
      "    https://scikit-learn.org/stable/modules/preprocessing.html\n",
      "Please also refer to the documentation for alternative solver options:\n",
      "    https://scikit-learn.org/stable/modules/linear_model.html#logistic-regression\n",
      "  extra_warning_msg=_LOGISTIC_SOLVER_CONVERGENCE_MSG,\n",
      "/opt/conda/lib/python3.7/site-packages/sklearn/linear_model/_logistic.py:818: ConvergenceWarning: lbfgs failed to converge (status=1):\n",
      "STOP: TOTAL NO. of ITERATIONS REACHED LIMIT.\n",
      "\n",
      "Increase the number of iterations (max_iter) or scale the data as shown in:\n",
      "    https://scikit-learn.org/stable/modules/preprocessing.html\n",
      "Please also refer to the documentation for alternative solver options:\n",
      "    https://scikit-learn.org/stable/modules/linear_model.html#logistic-regression\n",
      "  extra_warning_msg=_LOGISTIC_SOLVER_CONVERGENCE_MSG,\n",
      "/opt/conda/lib/python3.7/site-packages/sklearn/linear_model/_logistic.py:818: ConvergenceWarning: lbfgs failed to converge (status=1):\n",
      "STOP: TOTAL NO. of ITERATIONS REACHED LIMIT.\n",
      "\n",
      "Increase the number of iterations (max_iter) or scale the data as shown in:\n",
      "    https://scikit-learn.org/stable/modules/preprocessing.html\n",
      "Please also refer to the documentation for alternative solver options:\n",
      "    https://scikit-learn.org/stable/modules/linear_model.html#logistic-regression\n",
      "  extra_warning_msg=_LOGISTIC_SOLVER_CONVERGENCE_MSG,\n",
      "/opt/conda/lib/python3.7/site-packages/sklearn/linear_model/_logistic.py:818: ConvergenceWarning: lbfgs failed to converge (status=1):\n",
      "STOP: TOTAL NO. of ITERATIONS REACHED LIMIT.\n",
      "\n",
      "Increase the number of iterations (max_iter) or scale the data as shown in:\n",
      "    https://scikit-learn.org/stable/modules/preprocessing.html\n",
      "Please also refer to the documentation for alternative solver options:\n",
      "    https://scikit-learn.org/stable/modules/linear_model.html#logistic-regression\n",
      "  extra_warning_msg=_LOGISTIC_SOLVER_CONVERGENCE_MSG,\n",
      "/opt/conda/lib/python3.7/site-packages/sklearn/linear_model/_logistic.py:818: ConvergenceWarning: lbfgs failed to converge (status=1):\n",
      "STOP: TOTAL NO. of ITERATIONS REACHED LIMIT.\n",
      "\n",
      "Increase the number of iterations (max_iter) or scale the data as shown in:\n",
      "    https://scikit-learn.org/stable/modules/preprocessing.html\n",
      "Please also refer to the documentation for alternative solver options:\n",
      "    https://scikit-learn.org/stable/modules/linear_model.html#logistic-regression\n",
      "  extra_warning_msg=_LOGISTIC_SOLVER_CONVERGENCE_MSG,\n",
      "/opt/conda/lib/python3.7/site-packages/sklearn/linear_model/_logistic.py:818: ConvergenceWarning: lbfgs failed to converge (status=1):\n",
      "STOP: TOTAL NO. of ITERATIONS REACHED LIMIT.\n",
      "\n",
      "Increase the number of iterations (max_iter) or scale the data as shown in:\n",
      "    https://scikit-learn.org/stable/modules/preprocessing.html\n",
      "Please also refer to the documentation for alternative solver options:\n",
      "    https://scikit-learn.org/stable/modules/linear_model.html#logistic-regression\n",
      "  extra_warning_msg=_LOGISTIC_SOLVER_CONVERGENCE_MSG,\n",
      "/opt/conda/lib/python3.7/site-packages/sklearn/linear_model/_logistic.py:818: ConvergenceWarning: lbfgs failed to converge (status=1):\n",
      "STOP: TOTAL NO. of ITERATIONS REACHED LIMIT.\n",
      "\n",
      "Increase the number of iterations (max_iter) or scale the data as shown in:\n",
      "    https://scikit-learn.org/stable/modules/preprocessing.html\n",
      "Please also refer to the documentation for alternative solver options:\n",
      "    https://scikit-learn.org/stable/modules/linear_model.html#logistic-regression\n",
      "  extra_warning_msg=_LOGISTIC_SOLVER_CONVERGENCE_MSG,\n",
      "/opt/conda/lib/python3.7/site-packages/sklearn/linear_model/_logistic.py:818: ConvergenceWarning: lbfgs failed to converge (status=1):\n",
      "STOP: TOTAL NO. of ITERATIONS REACHED LIMIT.\n",
      "\n",
      "Increase the number of iterations (max_iter) or scale the data as shown in:\n",
      "    https://scikit-learn.org/stable/modules/preprocessing.html\n",
      "Please also refer to the documentation for alternative solver options:\n",
      "    https://scikit-learn.org/stable/modules/linear_model.html#logistic-regression\n",
      "  extra_warning_msg=_LOGISTIC_SOLVER_CONVERGENCE_MSG,\n",
      "/opt/conda/lib/python3.7/site-packages/sklearn/linear_model/_logistic.py:818: ConvergenceWarning: lbfgs failed to converge (status=1):\n",
      "STOP: TOTAL NO. of ITERATIONS REACHED LIMIT.\n",
      "\n",
      "Increase the number of iterations (max_iter) or scale the data as shown in:\n",
      "    https://scikit-learn.org/stable/modules/preprocessing.html\n",
      "Please also refer to the documentation for alternative solver options:\n",
      "    https://scikit-learn.org/stable/modules/linear_model.html#logistic-regression\n",
      "  extra_warning_msg=_LOGISTIC_SOLVER_CONVERGENCE_MSG,\n",
      "/opt/conda/lib/python3.7/site-packages/sklearn/linear_model/_logistic.py:818: ConvergenceWarning: lbfgs failed to converge (status=1):\n",
      "STOP: TOTAL NO. of ITERATIONS REACHED LIMIT.\n",
      "\n",
      "Increase the number of iterations (max_iter) or scale the data as shown in:\n",
      "    https://scikit-learn.org/stable/modules/preprocessing.html\n",
      "Please also refer to the documentation for alternative solver options:\n",
      "    https://scikit-learn.org/stable/modules/linear_model.html#logistic-regression\n",
      "  extra_warning_msg=_LOGISTIC_SOLVER_CONVERGENCE_MSG,\n",
      "/opt/conda/lib/python3.7/site-packages/sklearn/linear_model/_logistic.py:818: ConvergenceWarning: lbfgs failed to converge (status=1):\n",
      "STOP: TOTAL NO. of ITERATIONS REACHED LIMIT.\n",
      "\n",
      "Increase the number of iterations (max_iter) or scale the data as shown in:\n",
      "    https://scikit-learn.org/stable/modules/preprocessing.html\n",
      "Please also refer to the documentation for alternative solver options:\n",
      "    https://scikit-learn.org/stable/modules/linear_model.html#logistic-regression\n",
      "  extra_warning_msg=_LOGISTIC_SOLVER_CONVERGENCE_MSG,\n",
      "/opt/conda/lib/python3.7/site-packages/sklearn/linear_model/_logistic.py:818: ConvergenceWarning: lbfgs failed to converge (status=1):\n",
      "STOP: TOTAL NO. of ITERATIONS REACHED LIMIT.\n",
      "\n",
      "Increase the number of iterations (max_iter) or scale the data as shown in:\n",
      "    https://scikit-learn.org/stable/modules/preprocessing.html\n",
      "Please also refer to the documentation for alternative solver options:\n",
      "    https://scikit-learn.org/stable/modules/linear_model.html#logistic-regression\n",
      "  extra_warning_msg=_LOGISTIC_SOLVER_CONVERGENCE_MSG,\n",
      "/opt/conda/lib/python3.7/site-packages/sklearn/linear_model/_logistic.py:818: ConvergenceWarning: lbfgs failed to converge (status=1):\n",
      "STOP: TOTAL NO. of ITERATIONS REACHED LIMIT.\n",
      "\n",
      "Increase the number of iterations (max_iter) or scale the data as shown in:\n",
      "    https://scikit-learn.org/stable/modules/preprocessing.html\n",
      "Please also refer to the documentation for alternative solver options:\n",
      "    https://scikit-learn.org/stable/modules/linear_model.html#logistic-regression\n",
      "  extra_warning_msg=_LOGISTIC_SOLVER_CONVERGENCE_MSG,\n",
      "/opt/conda/lib/python3.7/site-packages/sklearn/linear_model/_logistic.py:818: ConvergenceWarning: lbfgs failed to converge (status=1):\n",
      "STOP: TOTAL NO. of ITERATIONS REACHED LIMIT.\n",
      "\n",
      "Increase the number of iterations (max_iter) or scale the data as shown in:\n",
      "    https://scikit-learn.org/stable/modules/preprocessing.html\n",
      "Please also refer to the documentation for alternative solver options:\n",
      "    https://scikit-learn.org/stable/modules/linear_model.html#logistic-regression\n",
      "  extra_warning_msg=_LOGISTIC_SOLVER_CONVERGENCE_MSG,\n",
      "/opt/conda/lib/python3.7/site-packages/sklearn/linear_model/_logistic.py:818: ConvergenceWarning: lbfgs failed to converge (status=1):\n",
      "STOP: TOTAL NO. of ITERATIONS REACHED LIMIT.\n",
      "\n",
      "Increase the number of iterations (max_iter) or scale the data as shown in:\n",
      "    https://scikit-learn.org/stable/modules/preprocessing.html\n",
      "Please also refer to the documentation for alternative solver options:\n",
      "    https://scikit-learn.org/stable/modules/linear_model.html#logistic-regression\n",
      "  extra_warning_msg=_LOGISTIC_SOLVER_CONVERGENCE_MSG,\n",
      "/opt/conda/lib/python3.7/site-packages/sklearn/linear_model/_logistic.py:818: ConvergenceWarning: lbfgs failed to converge (status=1):\n",
      "STOP: TOTAL NO. of ITERATIONS REACHED LIMIT.\n",
      "\n",
      "Increase the number of iterations (max_iter) or scale the data as shown in:\n",
      "    https://scikit-learn.org/stable/modules/preprocessing.html\n",
      "Please also refer to the documentation for alternative solver options:\n",
      "    https://scikit-learn.org/stable/modules/linear_model.html#logistic-regression\n",
      "  extra_warning_msg=_LOGISTIC_SOLVER_CONVERGENCE_MSG,\n",
      "/opt/conda/lib/python3.7/site-packages/sklearn/linear_model/_logistic.py:818: ConvergenceWarning: lbfgs failed to converge (status=1):\n",
      "STOP: TOTAL NO. of ITERATIONS REACHED LIMIT.\n",
      "\n",
      "Increase the number of iterations (max_iter) or scale the data as shown in:\n",
      "    https://scikit-learn.org/stable/modules/preprocessing.html\n",
      "Please also refer to the documentation for alternative solver options:\n",
      "    https://scikit-learn.org/stable/modules/linear_model.html#logistic-regression\n",
      "  extra_warning_msg=_LOGISTIC_SOLVER_CONVERGENCE_MSG,\n",
      "/opt/conda/lib/python3.7/site-packages/sklearn/linear_model/_logistic.py:818: ConvergenceWarning: lbfgs failed to converge (status=1):\n",
      "STOP: TOTAL NO. of ITERATIONS REACHED LIMIT.\n",
      "\n",
      "Increase the number of iterations (max_iter) or scale the data as shown in:\n",
      "    https://scikit-learn.org/stable/modules/preprocessing.html\n",
      "Please also refer to the documentation for alternative solver options:\n",
      "    https://scikit-learn.org/stable/modules/linear_model.html#logistic-regression\n",
      "  extra_warning_msg=_LOGISTIC_SOLVER_CONVERGENCE_MSG,\n",
      "/opt/conda/lib/python3.7/site-packages/sklearn/linear_model/_logistic.py:818: ConvergenceWarning: lbfgs failed to converge (status=1):\n",
      "STOP: TOTAL NO. of ITERATIONS REACHED LIMIT.\n",
      "\n",
      "Increase the number of iterations (max_iter) or scale the data as shown in:\n",
      "    https://scikit-learn.org/stable/modules/preprocessing.html\n",
      "Please also refer to the documentation for alternative solver options:\n",
      "    https://scikit-learn.org/stable/modules/linear_model.html#logistic-regression\n",
      "  extra_warning_msg=_LOGISTIC_SOLVER_CONVERGENCE_MSG,\n",
      "/opt/conda/lib/python3.7/site-packages/sklearn/linear_model/_logistic.py:818: ConvergenceWarning: lbfgs failed to converge (status=1):\n",
      "STOP: TOTAL NO. of ITERATIONS REACHED LIMIT.\n",
      "\n",
      "Increase the number of iterations (max_iter) or scale the data as shown in:\n",
      "    https://scikit-learn.org/stable/modules/preprocessing.html\n",
      "Please also refer to the documentation for alternative solver options:\n",
      "    https://scikit-learn.org/stable/modules/linear_model.html#logistic-regression\n",
      "  extra_warning_msg=_LOGISTIC_SOLVER_CONVERGENCE_MSG,\n",
      "/opt/conda/lib/python3.7/site-packages/sklearn/linear_model/_logistic.py:818: ConvergenceWarning: lbfgs failed to converge (status=1):\n",
      "STOP: TOTAL NO. of ITERATIONS REACHED LIMIT.\n",
      "\n",
      "Increase the number of iterations (max_iter) or scale the data as shown in:\n",
      "    https://scikit-learn.org/stable/modules/preprocessing.html\n",
      "Please also refer to the documentation for alternative solver options:\n",
      "    https://scikit-learn.org/stable/modules/linear_model.html#logistic-regression\n",
      "  extra_warning_msg=_LOGISTIC_SOLVER_CONVERGENCE_MSG,\n",
      "/opt/conda/lib/python3.7/site-packages/sklearn/linear_model/_logistic.py:818: ConvergenceWarning: lbfgs failed to converge (status=1):\n",
      "STOP: TOTAL NO. of ITERATIONS REACHED LIMIT.\n",
      "\n",
      "Increase the number of iterations (max_iter) or scale the data as shown in:\n",
      "    https://scikit-learn.org/stable/modules/preprocessing.html\n",
      "Please also refer to the documentation for alternative solver options:\n",
      "    https://scikit-learn.org/stable/modules/linear_model.html#logistic-regression\n",
      "  extra_warning_msg=_LOGISTIC_SOLVER_CONVERGENCE_MSG,\n",
      "/opt/conda/lib/python3.7/site-packages/sklearn/linear_model/_logistic.py:818: ConvergenceWarning: lbfgs failed to converge (status=1):\n",
      "STOP: TOTAL NO. of ITERATIONS REACHED LIMIT.\n",
      "\n",
      "Increase the number of iterations (max_iter) or scale the data as shown in:\n",
      "    https://scikit-learn.org/stable/modules/preprocessing.html\n",
      "Please also refer to the documentation for alternative solver options:\n",
      "    https://scikit-learn.org/stable/modules/linear_model.html#logistic-regression\n",
      "  extra_warning_msg=_LOGISTIC_SOLVER_CONVERGENCE_MSG,\n",
      "/opt/conda/lib/python3.7/site-packages/sklearn/linear_model/_logistic.py:818: ConvergenceWarning: lbfgs failed to converge (status=1):\n",
      "STOP: TOTAL NO. of ITERATIONS REACHED LIMIT.\n",
      "\n",
      "Increase the number of iterations (max_iter) or scale the data as shown in:\n",
      "    https://scikit-learn.org/stable/modules/preprocessing.html\n",
      "Please also refer to the documentation for alternative solver options:\n",
      "    https://scikit-learn.org/stable/modules/linear_model.html#logistic-regression\n",
      "  extra_warning_msg=_LOGISTIC_SOLVER_CONVERGENCE_MSG,\n",
      "/opt/conda/lib/python3.7/site-packages/sklearn/linear_model/_logistic.py:818: ConvergenceWarning: lbfgs failed to converge (status=1):\n",
      "STOP: TOTAL NO. of ITERATIONS REACHED LIMIT.\n",
      "\n",
      "Increase the number of iterations (max_iter) or scale the data as shown in:\n",
      "    https://scikit-learn.org/stable/modules/preprocessing.html\n",
      "Please also refer to the documentation for alternative solver options:\n",
      "    https://scikit-learn.org/stable/modules/linear_model.html#logistic-regression\n",
      "  extra_warning_msg=_LOGISTIC_SOLVER_CONVERGENCE_MSG,\n",
      "/opt/conda/lib/python3.7/site-packages/sklearn/linear_model/_logistic.py:818: ConvergenceWarning: lbfgs failed to converge (status=1):\n",
      "STOP: TOTAL NO. of ITERATIONS REACHED LIMIT.\n",
      "\n",
      "Increase the number of iterations (max_iter) or scale the data as shown in:\n",
      "    https://scikit-learn.org/stable/modules/preprocessing.html\n",
      "Please also refer to the documentation for alternative solver options:\n",
      "    https://scikit-learn.org/stable/modules/linear_model.html#logistic-regression\n",
      "  extra_warning_msg=_LOGISTIC_SOLVER_CONVERGENCE_MSG,\n",
      "/opt/conda/lib/python3.7/site-packages/sklearn/linear_model/_logistic.py:818: ConvergenceWarning: lbfgs failed to converge (status=1):\n",
      "STOP: TOTAL NO. of ITERATIONS REACHED LIMIT.\n",
      "\n",
      "Increase the number of iterations (max_iter) or scale the data as shown in:\n",
      "    https://scikit-learn.org/stable/modules/preprocessing.html\n",
      "Please also refer to the documentation for alternative solver options:\n",
      "    https://scikit-learn.org/stable/modules/linear_model.html#logistic-regression\n",
      "  extra_warning_msg=_LOGISTIC_SOLVER_CONVERGENCE_MSG,\n",
      "/opt/conda/lib/python3.7/site-packages/sklearn/linear_model/_logistic.py:818: ConvergenceWarning: lbfgs failed to converge (status=1):\n",
      "STOP: TOTAL NO. of ITERATIONS REACHED LIMIT.\n",
      "\n",
      "Increase the number of iterations (max_iter) or scale the data as shown in:\n",
      "    https://scikit-learn.org/stable/modules/preprocessing.html\n",
      "Please also refer to the documentation for alternative solver options:\n",
      "    https://scikit-learn.org/stable/modules/linear_model.html#logistic-regression\n",
      "  extra_warning_msg=_LOGISTIC_SOLVER_CONVERGENCE_MSG,\n",
      "/opt/conda/lib/python3.7/site-packages/sklearn/linear_model/_logistic.py:818: ConvergenceWarning: lbfgs failed to converge (status=1):\n",
      "STOP: TOTAL NO. of ITERATIONS REACHED LIMIT.\n",
      "\n",
      "Increase the number of iterations (max_iter) or scale the data as shown in:\n",
      "    https://scikit-learn.org/stable/modules/preprocessing.html\n",
      "Please also refer to the documentation for alternative solver options:\n",
      "    https://scikit-learn.org/stable/modules/linear_model.html#logistic-regression\n",
      "  extra_warning_msg=_LOGISTIC_SOLVER_CONVERGENCE_MSG,\n",
      "/opt/conda/lib/python3.7/site-packages/sklearn/linear_model/_logistic.py:818: ConvergenceWarning: lbfgs failed to converge (status=1):\n",
      "STOP: TOTAL NO. of ITERATIONS REACHED LIMIT.\n",
      "\n",
      "Increase the number of iterations (max_iter) or scale the data as shown in:\n",
      "    https://scikit-learn.org/stable/modules/preprocessing.html\n",
      "Please also refer to the documentation for alternative solver options:\n",
      "    https://scikit-learn.org/stable/modules/linear_model.html#logistic-regression\n",
      "  extra_warning_msg=_LOGISTIC_SOLVER_CONVERGENCE_MSG,\n",
      "/opt/conda/lib/python3.7/site-packages/sklearn/linear_model/_logistic.py:818: ConvergenceWarning: lbfgs failed to converge (status=1):\n",
      "STOP: TOTAL NO. of ITERATIONS REACHED LIMIT.\n",
      "\n",
      "Increase the number of iterations (max_iter) or scale the data as shown in:\n",
      "    https://scikit-learn.org/stable/modules/preprocessing.html\n",
      "Please also refer to the documentation for alternative solver options:\n",
      "    https://scikit-learn.org/stable/modules/linear_model.html#logistic-regression\n",
      "  extra_warning_msg=_LOGISTIC_SOLVER_CONVERGENCE_MSG,\n",
      "/opt/conda/lib/python3.7/site-packages/sklearn/linear_model/_logistic.py:818: ConvergenceWarning: lbfgs failed to converge (status=1):\n",
      "STOP: TOTAL NO. of ITERATIONS REACHED LIMIT.\n",
      "\n",
      "Increase the number of iterations (max_iter) or scale the data as shown in:\n",
      "    https://scikit-learn.org/stable/modules/preprocessing.html\n",
      "Please also refer to the documentation for alternative solver options:\n",
      "    https://scikit-learn.org/stable/modules/linear_model.html#logistic-regression\n",
      "  extra_warning_msg=_LOGISTIC_SOLVER_CONVERGENCE_MSG,\n",
      "/opt/conda/lib/python3.7/site-packages/sklearn/linear_model/_logistic.py:818: ConvergenceWarning: lbfgs failed to converge (status=1):\n",
      "STOP: TOTAL NO. of ITERATIONS REACHED LIMIT.\n",
      "\n",
      "Increase the number of iterations (max_iter) or scale the data as shown in:\n",
      "    https://scikit-learn.org/stable/modules/preprocessing.html\n",
      "Please also refer to the documentation for alternative solver options:\n",
      "    https://scikit-learn.org/stable/modules/linear_model.html#logistic-regression\n",
      "  extra_warning_msg=_LOGISTIC_SOLVER_CONVERGENCE_MSG,\n",
      "/opt/conda/lib/python3.7/site-packages/sklearn/model_selection/_validation.py:372: FitFailedWarning: \n",
      "90 fits failed out of a total of 180.\n",
      "The score on these train-test partitions for these parameters will be set to nan.\n",
      "If these failures are not expected, you can try to debug them by setting error_score='raise'.\n",
      "\n",
      "Below are more details about the failures:\n",
      "--------------------------------------------------------------------------------\n",
      "90 fits failed with the following error:\n",
      "Traceback (most recent call last):\n",
      "  File \"/opt/conda/lib/python3.7/site-packages/sklearn/model_selection/_validation.py\", line 681, in _fit_and_score\n",
      "    estimator.fit(X_train, y_train, **fit_params)\n",
      "  File \"/opt/conda/lib/python3.7/site-packages/sklearn/linear_model/_logistic.py\", line 1461, in fit\n",
      "    solver = _check_solver(self.solver, self.penalty, self.dual)\n",
      "  File \"/opt/conda/lib/python3.7/site-packages/sklearn/linear_model/_logistic.py\", line 449, in _check_solver\n",
      "    % (solver, penalty)\n",
      "ValueError: Solver lbfgs supports only 'l2' or 'none' penalties, got l1 penalty.\n",
      "\n",
      "  warnings.warn(some_fits_failed_message, FitFailedWarning)\n",
      "/opt/conda/lib/python3.7/site-packages/sklearn/model_selection/_search.py:972: UserWarning: One or more of the test scores are non-finite: [       nan 0.79720624        nan 0.78997535        nan 0.79260477\n",
      "        nan 0.79769926        nan 0.79013969        nan 0.79211175\n",
      "        nan 0.79769926        nan 0.79326212        nan 0.78997535\n",
      "        nan 0.79769926        nan 0.7906327         nan 0.78981101\n",
      "        nan 0.79753492        nan 0.79293344        nan 0.79112572\n",
      "        nan 0.79753492        nan 0.79046836        nan 0.79227609]\n",
      "  category=UserWarning,\n",
      "/opt/conda/lib/python3.7/site-packages/sklearn/linear_model/_logistic.py:818: ConvergenceWarning: lbfgs failed to converge (status=1):\n",
      "STOP: TOTAL NO. of ITERATIONS REACHED LIMIT.\n",
      "\n",
      "Increase the number of iterations (max_iter) or scale the data as shown in:\n",
      "    https://scikit-learn.org/stable/modules/preprocessing.html\n",
      "Please also refer to the documentation for alternative solver options:\n",
      "    https://scikit-learn.org/stable/modules/linear_model.html#logistic-regression\n",
      "  extra_warning_msg=_LOGISTIC_SOLVER_CONVERGENCE_MSG,\n"
     ]
    },
    {
     "name": "stdout",
     "output_type": "stream",
     "text": [
      "Model: LogisticRegression\n",
      "Training time (mins): 0.07\n",
      "\n",
      "Model: KNN\n",
      "Training time (mins): 0.06\n",
      "\n",
      "Model: RandomForest\n",
      "Training time (mins): 0.75\n",
      "\n",
      "Model: LGBM\n",
      "Training time (mins): 0.23\n",
      "\n"
     ]
    }
   ],
   "source": [
    "# Sklearn\n",
    "from sklearn.model_selection import train_test_split, GridSearchCV, RandomizedSearchCV, StratifiedKFold\n",
    "\n",
    "import time\n",
    "\n",
    "i=0\n",
    "clf_best_params=classifiers.copy()\n",
    "valid_scores=pd.DataFrame({'Classifer':classifiers.keys(), 'Validation accuracy': np.zeros(len(classifiers)), 'Training time': np.zeros(len(classifiers))})\n",
    "for key, classifier in classifiers.items():\n",
    "    start = time.time()\n",
    "    clf = GridSearchCV(estimator=classifier, param_grid=grid[key], n_jobs=-1, cv=None)\n",
    "\n",
    "    # Train and score\n",
    "    clf.fit(X_train, y_train)\n",
    "    valid_scores.iloc[i,1]=clf.score(X_val, y_val)\n",
    "\n",
    "    # Save trained model\n",
    "    clf_best_params[key]=clf.best_params_\n",
    "    \n",
    "    # Print iteration and training time\n",
    "    stop = time.time()\n",
    "    valid_scores.iloc[i,2]=np.round((stop - start)/60, 2)\n",
    "    \n",
    "    print('Model:', key)\n",
    "    print('Training time (mins):', valid_scores.iloc[i,2])\n",
    "    print('')\n",
    "\n",
    "    i+=1"
   ]
  },
  {
   "cell_type": "markdown",
   "id": "e6459d85",
   "metadata": {
    "papermill": {
     "duration": 0.107451,
     "end_time": "2022-04-04T13:59:53.151621",
     "exception": false,
     "start_time": "2022-04-04T13:59:53.044170",
     "status": "completed"
    },
    "tags": []
   },
   "source": [
    "- 4개의 모형에 대한 모형 개발 속도 및 정확도 평가지표를 확인한다. "
   ]
  },
  {
   "cell_type": "code",
   "execution_count": 48,
   "id": "a048272a",
   "metadata": {
    "execution": {
     "iopub.execute_input": "2022-04-04T13:59:53.365647Z",
     "iopub.status.busy": "2022-04-04T13:59:53.365022Z",
     "iopub.status.idle": "2022-04-04T13:59:53.374314Z",
     "shell.execute_reply": "2022-04-04T13:59:53.374811Z",
     "shell.execute_reply.started": "2022-04-04T13:57:30.700969Z"
    },
    "papermill": {
     "duration": 0.118339,
     "end_time": "2022-04-04T13:59:53.374992",
     "exception": false,
     "start_time": "2022-04-04T13:59:53.256653",
     "status": "completed"
    },
    "tags": []
   },
   "outputs": [
    {
     "data": {
      "text/html": [
       "<div>\n",
       "<style scoped>\n",
       "    .dataframe tbody tr th:only-of-type {\n",
       "        vertical-align: middle;\n",
       "    }\n",
       "\n",
       "    .dataframe tbody tr th {\n",
       "        vertical-align: top;\n",
       "    }\n",
       "\n",
       "    .dataframe thead th {\n",
       "        text-align: right;\n",
       "    }\n",
       "</style>\n",
       "<table border=\"1\" class=\"dataframe\">\n",
       "  <thead>\n",
       "    <tr style=\"text-align: right;\">\n",
       "      <th></th>\n",
       "      <th>Classifer</th>\n",
       "      <th>Validation accuracy</th>\n",
       "      <th>Training time</th>\n",
       "    </tr>\n",
       "  </thead>\n",
       "  <tbody>\n",
       "    <tr>\n",
       "      <th>0</th>\n",
       "      <td>LogisticRegression</td>\n",
       "      <td>0.779525</td>\n",
       "      <td>0.07</td>\n",
       "    </tr>\n",
       "    <tr>\n",
       "      <th>1</th>\n",
       "      <td>KNN</td>\n",
       "      <td>0.786810</td>\n",
       "      <td>0.06</td>\n",
       "    </tr>\n",
       "    <tr>\n",
       "      <th>2</th>\n",
       "      <td>RandomForest</td>\n",
       "      <td>0.793328</td>\n",
       "      <td>0.75</td>\n",
       "    </tr>\n",
       "    <tr>\n",
       "      <th>3</th>\n",
       "      <td>LGBM</td>\n",
       "      <td>0.788344</td>\n",
       "      <td>0.23</td>\n",
       "    </tr>\n",
       "  </tbody>\n",
       "</table>\n",
       "</div>"
      ],
      "text/plain": [
       "            Classifer  Validation accuracy  Training time\n",
       "0  LogisticRegression             0.779525           0.07\n",
       "1                 KNN             0.786810           0.06\n",
       "2        RandomForest             0.793328           0.75\n",
       "3                LGBM             0.788344           0.23"
      ]
     },
     "execution_count": 48,
     "metadata": {},
     "output_type": "execute_result"
    }
   ],
   "source": [
    "# Show results\n",
    "valid_scores"
   ]
  },
  {
   "cell_type": "markdown",
   "id": "38564732",
   "metadata": {
    "papermill": {
     "duration": 0.104486,
     "end_time": "2022-04-04T13:59:53.585009",
     "exception": false,
     "start_time": "2022-04-04T13:59:53.480523",
     "status": "completed"
    },
    "tags": []
   },
   "source": [
    "- 그리드 서치를 통해서 얻어낸 지표 중 가장 좋은 파라미터를 찾는다. "
   ]
  },
  {
   "cell_type": "code",
   "execution_count": 49,
   "id": "7c449068",
   "metadata": {
    "execution": {
     "iopub.execute_input": "2022-04-04T13:59:53.801336Z",
     "iopub.status.busy": "2022-04-04T13:59:53.800672Z",
     "iopub.status.idle": "2022-04-04T13:59:53.805304Z",
     "shell.execute_reply": "2022-04-04T13:59:53.805796Z",
     "shell.execute_reply.started": "2022-04-04T13:57:30.716711Z"
    },
    "papermill": {
     "duration": 0.11344,
     "end_time": "2022-04-04T13:59:53.805954",
     "exception": false,
     "start_time": "2022-04-04T13:59:53.692514",
     "status": "completed"
    },
    "tags": []
   },
   "outputs": [
    {
     "data": {
      "text/plain": [
       "{'LogisticRegression': {'C': 0.5, 'max_iter': 50, 'penalty': 'l2'},\n",
       " 'KNN': {'n_neighbors': 9, 'p': 2},\n",
       " 'RandomForest': {'max_depth': 10, 'n_estimators': 300},\n",
       " 'LGBM': {'learning_rate': 0.05, 'max_depth': 4, 'n_estimators': 150}}"
      ]
     },
     "execution_count": 49,
     "metadata": {},
     "output_type": "execute_result"
    }
   ],
   "source": [
    "clf_best_params"
   ]
  },
  {
   "cell_type": "markdown",
   "id": "c66ba37c",
   "metadata": {
    "papermill": {
     "duration": 0.105908,
     "end_time": "2022-04-04T13:59:54.018780",
     "exception": false,
     "start_time": "2022-04-04T13:59:53.912872",
     "status": "completed"
    },
    "tags": []
   },
   "source": [
    "- 가장 좋은 모형을 적용한다. "
   ]
  },
  {
   "cell_type": "code",
   "execution_count": 50,
   "id": "7e82fcae",
   "metadata": {
    "execution": {
     "iopub.execute_input": "2022-04-04T13:59:54.253432Z",
     "iopub.status.busy": "2022-04-04T13:59:54.252446Z",
     "iopub.status.idle": "2022-04-04T13:59:54.256881Z",
     "shell.execute_reply": "2022-04-04T13:59:54.257517Z",
     "shell.execute_reply.started": "2022-04-04T13:57:30.736440Z"
    },
    "papermill": {
     "duration": 0.114961,
     "end_time": "2022-04-04T13:59:54.257676",
     "exception": false,
     "start_time": "2022-04-04T13:59:54.142715",
     "status": "completed"
    },
    "tags": []
   },
   "outputs": [],
   "source": [
    "# Classifiers\n",
    "best_classifiers = {\n",
    "    \"RandomForest\" : RandomForestClassifier(**clf_best_params[\"RandomForest\"], random_state=0),\n",
    "    \"LGBM\" : LGBMClassifier(**clf_best_params[\"LGBM\"], random_state=0)\n",
    "}"
   ]
  },
  {
   "cell_type": "markdown",
   "id": "1e882ea0",
   "metadata": {
    "papermill": {
     "duration": 0.10386,
     "end_time": "2022-04-04T13:59:54.466939",
     "exception": false,
     "start_time": "2022-04-04T13:59:54.363079",
     "status": "completed"
    },
    "tags": []
   },
   "source": [
    "- 이번에는 10겹 교차검증을 실시한다. "
   ]
  },
  {
   "cell_type": "code",
   "execution_count": 51,
   "id": "733216a6",
   "metadata": {
    "execution": {
     "iopub.execute_input": "2022-04-04T13:59:54.689581Z",
     "iopub.status.busy": "2022-04-04T13:59:54.688858Z",
     "iopub.status.idle": "2022-04-04T14:00:17.199854Z",
     "shell.execute_reply": "2022-04-04T14:00:17.201060Z",
     "shell.execute_reply.started": "2022-04-04T13:57:30.752860Z"
    },
    "papermill": {
     "duration": 22.628636,
     "end_time": "2022-04-04T14:00:17.201332",
     "exception": false,
     "start_time": "2022-04-04T13:59:54.572696",
     "status": "completed"
    },
    "tags": []
   },
   "outputs": [
    {
     "name": "stderr",
     "output_type": "stream",
     "text": [
      "/opt/conda/lib/python3.7/site-packages/sklearn/base.py:439: UserWarning: X has feature names, but RandomForestClassifier was fitted without feature names\n",
      "  f\"X has feature names, but {self.__class__.__name__} was fitted without\"\n",
      "/opt/conda/lib/python3.7/site-packages/sklearn/base.py:439: UserWarning: X has feature names, but RandomForestClassifier was fitted without feature names\n",
      "  f\"X has feature names, but {self.__class__.__name__} was fitted without\"\n",
      "/opt/conda/lib/python3.7/site-packages/sklearn/base.py:439: UserWarning: X has feature names, but RandomForestClassifier was fitted without feature names\n",
      "  f\"X has feature names, but {self.__class__.__name__} was fitted without\"\n",
      "/opt/conda/lib/python3.7/site-packages/sklearn/base.py:439: UserWarning: X has feature names, but RandomForestClassifier was fitted without feature names\n",
      "  f\"X has feature names, but {self.__class__.__name__} was fitted without\"\n",
      "/opt/conda/lib/python3.7/site-packages/sklearn/base.py:439: UserWarning: X has feature names, but RandomForestClassifier was fitted without feature names\n",
      "  f\"X has feature names, but {self.__class__.__name__} was fitted without\"\n",
      "/opt/conda/lib/python3.7/site-packages/sklearn/base.py:439: UserWarning: X has feature names, but RandomForestClassifier was fitted without feature names\n",
      "  f\"X has feature names, but {self.__class__.__name__} was fitted without\"\n",
      "/opt/conda/lib/python3.7/site-packages/sklearn/base.py:439: UserWarning: X has feature names, but RandomForestClassifier was fitted without feature names\n",
      "  f\"X has feature names, but {self.__class__.__name__} was fitted without\"\n",
      "/opt/conda/lib/python3.7/site-packages/sklearn/base.py:439: UserWarning: X has feature names, but RandomForestClassifier was fitted without feature names\n",
      "  f\"X has feature names, but {self.__class__.__name__} was fitted without\"\n",
      "/opt/conda/lib/python3.7/site-packages/sklearn/base.py:439: UserWarning: X has feature names, but RandomForestClassifier was fitted without feature names\n",
      "  f\"X has feature names, but {self.__class__.__name__} was fitted without\"\n",
      "/opt/conda/lib/python3.7/site-packages/sklearn/base.py:439: UserWarning: X has feature names, but RandomForestClassifier was fitted without feature names\n",
      "  f\"X has feature names, but {self.__class__.__name__} was fitted without\"\n"
     ]
    },
    {
     "name": "stdout",
     "output_type": "stream",
     "text": [
      "Model: RandomForest\n",
      "Average validation accuracy: 79.97\n",
      "Training time (mins): 0.35\n",
      "\n",
      "Model: LGBM\n",
      "Average validation accuracy: 80.32\n",
      "Training time (mins): 0.02\n",
      "\n"
     ]
    }
   ],
   "source": [
    "# Number of folds in cross validation\n",
    "FOLDS=10\n",
    "\n",
    "preds=np.zeros(len(test_data))\n",
    "for key, classifier in best_classifiers.items():\n",
    "    start = time.time()\n",
    "    \n",
    "    # 5-fold cross validation\n",
    "    cv = StratifiedKFold(n_splits=FOLDS, shuffle=True, random_state=0)\n",
    "    \n",
    "    score=0\n",
    "    for fold, (train_idx, val_idx) in enumerate(cv.split(X, y)):\n",
    "        # Get training and validation sets\n",
    "        X_train, X_valid = X[train_idx], X[val_idx]\n",
    "        y_train, y_valid = y[train_idx], y[val_idx]\n",
    "\n",
    "        # Train model\n",
    "        clf = classifier\n",
    "        clf.fit(X_train, y_train)\n",
    "\n",
    "        # Make predictions and measure accuracy\n",
    "        preds += clf.predict_proba(test_data)[:,1]\n",
    "        score += clf.score(X_valid, y_valid)\n",
    "\n",
    "    # Average accuracy    \n",
    "    score=score/FOLDS\n",
    "    \n",
    "    # Stop timer\n",
    "    stop = time.time()\n",
    "\n",
    "    # Print accuracy and time\n",
    "    print('Model:', key)\n",
    "    print('Average validation accuracy:', np.round(100*score,2))\n",
    "    print('Training time (mins):', np.round((stop - start)/60,2))\n",
    "    print('')\n",
    "    \n",
    "# Ensemble predictions\n",
    "preds=preds/(FOLDS*len(best_classifiers))"
   ]
  },
  {
   "cell_type": "markdown",
   "id": "0f05d980",
   "metadata": {
    "papermill": {
     "duration": 0.109887,
     "end_time": "2022-04-04T14:00:17.423062",
     "exception": false,
     "start_time": "2022-04-04T14:00:17.313175",
     "status": "completed"
    },
    "tags": []
   },
   "source": [
    "# Step 5. 모형 평가\n",
    "- 훈련데이터 쪼갠다. 훈련데이터 + 검증데이터 분리\n",
    "- 정확도 비교\n",
    "- 혼동행렬 (Confusion Matrix) 설명"
   ]
  },
  {
   "cell_type": "markdown",
   "id": "234cb338",
   "metadata": {
    "papermill": {
     "duration": 0.111483,
     "end_time": "2022-04-04T14:00:17.645088",
     "exception": false,
     "start_time": "2022-04-04T14:00:17.533605",
     "status": "completed"
    },
    "tags": []
   },
   "source": [
    "- 먼저 cross_validate() 활용한다. "
   ]
  },
  {
   "cell_type": "code",
   "execution_count": 52,
   "id": "2a1bebc9",
   "metadata": {
    "execution": {
     "iopub.execute_input": "2022-04-04T14:00:17.869965Z",
     "iopub.status.busy": "2022-04-04T14:00:17.869318Z",
     "iopub.status.idle": "2022-04-04T14:00:17.874118Z",
     "shell.execute_reply": "2022-04-04T14:00:17.874609Z",
     "shell.execute_reply.started": "2022-04-04T13:57:54.970510Z"
    },
    "papermill": {
     "duration": 0.118907,
     "end_time": "2022-04-04T14:00:17.874771",
     "exception": false,
     "start_time": "2022-04-04T14:00:17.755864",
     "status": "completed"
    },
    "tags": []
   },
   "outputs": [
    {
     "data": {
      "text/plain": [
       "'\\nfrom sklearn.model_selection import StratifiedKFold\\nfrom sklearn.model_selection import cross_validate\\n\\nsplitter = StratifiedKFold(n_splits = 5, shuffle = True, random_state=42)\\nscores_xgb = cross_validate(xgb, X_train, y_train, return_train_score = True, cv=splitter)\\nscores_lgb = cross_validate(lgb, X_train, y_train, return_train_score = True, cv=splitter)\\n\\nprint(\"xgb train Acc.\", np.mean(scores_xgb[\\'train_score\\']))\\nprint(\"xgb test Acc.\", np.mean(scores_xgb[\\'test_score\\']))\\nprint(\"lgb train Acc.\", np.mean(scores_lgb[\\'train_score\\']))\\nprint(\"lgb test Acc.\", np.mean(scores_lgb[\\'test_score\\']))\\n'"
      ]
     },
     "execution_count": 52,
     "metadata": {},
     "output_type": "execute_result"
    }
   ],
   "source": [
    "\"\"\"\n",
    "from sklearn.model_selection import StratifiedKFold\n",
    "from sklearn.model_selection import cross_validate\n",
    "\n",
    "splitter = StratifiedKFold(n_splits = 5, shuffle = True, random_state=42)\n",
    "scores_xgb = cross_validate(xgb, X_train, y_train, return_train_score = True, cv=splitter)\n",
    "scores_lgb = cross_validate(lgb, X_train, y_train, return_train_score = True, cv=splitter)\n",
    "\n",
    "print(\"xgb train Acc.\", np.mean(scores_xgb['train_score']))\n",
    "print(\"xgb test Acc.\", np.mean(scores_xgb['test_score']))\n",
    "print(\"lgb train Acc.\", np.mean(scores_lgb['train_score']))\n",
    "print(\"lgb test Acc.\", np.mean(scores_lgb['test_score']))\n",
    "\"\"\""
   ]
  },
  {
   "cell_type": "markdown",
   "id": "b092f205",
   "metadata": {
    "papermill": {
     "duration": 0.110934,
     "end_time": "2022-04-04T14:00:18.097222",
     "exception": false,
     "start_time": "2022-04-04T14:00:17.986288",
     "status": "completed"
    },
    "tags": []
   },
   "source": [
    "- 이번에는 검증 데이터를 활용하여 정확도를 예상해본다. "
   ]
  },
  {
   "cell_type": "code",
   "execution_count": 53,
   "id": "2b1f633b",
   "metadata": {
    "execution": {
     "iopub.execute_input": "2022-04-04T14:00:18.320377Z",
     "iopub.status.busy": "2022-04-04T14:00:18.319700Z",
     "iopub.status.idle": "2022-04-04T14:00:18.324180Z",
     "shell.execute_reply": "2022-04-04T14:00:18.324727Z",
     "shell.execute_reply.started": "2022-04-04T13:57:54.980458Z"
    },
    "papermill": {
     "duration": 0.117726,
     "end_time": "2022-04-04T14:00:18.324880",
     "exception": false,
     "start_time": "2022-04-04T14:00:18.207154",
     "status": "completed"
    },
    "tags": []
   },
   "outputs": [
    {
     "data": {
      "text/plain": [
       "'\\nfrom sklearn.metrics import accuracy_score\\n\\nxgb.fit(X_train, y_train)\\ny_pred = xgb.predict(X_val)\\nprint(\"xgb Acc.\", accuracy_score(y_val, y_pred))\\n\\nlgb.fit(X_train, y_train)\\ny_pred = lgb.predict(X_val)\\nprint(\"lgb Acc.\", accuracy_score(y_val, y_pred))\\n'"
      ]
     },
     "execution_count": 53,
     "metadata": {},
     "output_type": "execute_result"
    }
   ],
   "source": [
    "\"\"\"\n",
    "from sklearn.metrics import accuracy_score\n",
    "\n",
    "xgb.fit(X_train, y_train)\n",
    "y_pred = xgb.predict(X_val)\n",
    "print(\"xgb Acc.\", accuracy_score(y_val, y_pred))\n",
    "\n",
    "lgb.fit(X_train, y_train)\n",
    "y_pred = lgb.predict(X_val)\n",
    "print(\"lgb Acc.\", accuracy_score(y_val, y_pred))\n",
    "\"\"\""
   ]
  },
  {
   "cell_type": "markdown",
   "id": "bf660bb9",
   "metadata": {
    "papermill": {
     "duration": 0.110662,
     "end_time": "2022-04-04T14:00:18.546129",
     "exception": false,
     "start_time": "2022-04-04T14:00:18.435467",
     "status": "completed"
    },
    "tags": []
   },
   "source": [
    "- LightGBM이 약간의 우세에 있음"
   ]
  },
  {
   "cell_type": "markdown",
   "id": "7e54fd31",
   "metadata": {
    "papermill": {
     "duration": 0.110252,
     "end_time": "2022-04-04T14:00:18.767188",
     "exception": false,
     "start_time": "2022-04-04T14:00:18.656936",
     "status": "completed"
    },
    "tags": []
   },
   "source": [
    "# Step 6. 제출\n",
    "- 제출 양식은 샘플 만들어드림"
   ]
  },
  {
   "cell_type": "code",
   "execution_count": 54,
   "id": "8d38235d",
   "metadata": {
    "execution": {
     "iopub.execute_input": "2022-04-04T14:00:18.993711Z",
     "iopub.status.busy": "2022-04-04T14:00:18.993077Z",
     "iopub.status.idle": "2022-04-04T14:00:19.013659Z",
     "shell.execute_reply": "2022-04-04T14:00:19.014197Z",
     "shell.execute_reply.started": "2022-04-04T13:57:54.999245Z"
    },
    "papermill": {
     "duration": 0.13687,
     "end_time": "2022-04-04T14:00:19.014363",
     "exception": false,
     "start_time": "2022-04-04T14:00:18.877493",
     "status": "completed"
    },
    "tags": []
   },
   "outputs": [
    {
     "data": {
      "text/html": [
       "<div>\n",
       "<style scoped>\n",
       "    .dataframe tbody tr th:only-of-type {\n",
       "        vertical-align: middle;\n",
       "    }\n",
       "\n",
       "    .dataframe tbody tr th {\n",
       "        vertical-align: top;\n",
       "    }\n",
       "\n",
       "    .dataframe thead th {\n",
       "        text-align: right;\n",
       "    }\n",
       "</style>\n",
       "<table border=\"1\" class=\"dataframe\">\n",
       "  <thead>\n",
       "    <tr style=\"text-align: right;\">\n",
       "      <th></th>\n",
       "      <th>PassengerId</th>\n",
       "      <th>Transported</th>\n",
       "    </tr>\n",
       "  </thead>\n",
       "  <tbody>\n",
       "    <tr>\n",
       "      <th>0</th>\n",
       "      <td>0013_01</td>\n",
       "      <td>True</td>\n",
       "    </tr>\n",
       "    <tr>\n",
       "      <th>1</th>\n",
       "      <td>0018_01</td>\n",
       "      <td>False</td>\n",
       "    </tr>\n",
       "    <tr>\n",
       "      <th>2</th>\n",
       "      <td>0019_01</td>\n",
       "      <td>True</td>\n",
       "    </tr>\n",
       "    <tr>\n",
       "      <th>3</th>\n",
       "      <td>0021_01</td>\n",
       "      <td>True</td>\n",
       "    </tr>\n",
       "    <tr>\n",
       "      <th>4</th>\n",
       "      <td>0023_01</td>\n",
       "      <td>True</td>\n",
       "    </tr>\n",
       "  </tbody>\n",
       "</table>\n",
       "</div>"
      ],
      "text/plain": [
       "  PassengerId  Transported\n",
       "0     0013_01         True\n",
       "1     0018_01        False\n",
       "2     0019_01         True\n",
       "3     0021_01         True\n",
       "4     0023_01         True"
      ]
     },
     "execution_count": 54,
     "metadata": {},
     "output_type": "execute_result"
    }
   ],
   "source": [
    "\"\"\"\n",
    "test_preds = lgb.predict(test_data.to_numpy())\n",
    "sample_submission['Transported'] = test_preds.astype(\"bool\")\n",
    "sample_submission.to_csv(\"submission.csv\",index=False)\n",
    "sample_submission.head()\n",
    "\"\"\"\n",
    "\n",
    "# Round predictions to nearest integer\n",
    "preds=np.round(preds).astype(bool)\n",
    "sample_submission['Transported'] = preds\n",
    "sample_submission.to_csv(\"submission.csv\",index=False)\n",
    "sample_submission.head()"
   ]
  }
 ],
 "metadata": {
  "kernelspec": {
   "display_name": "Python 3",
   "language": "python",
   "name": "python3"
  },
  "language_info": {
   "codemirror_mode": {
    "name": "ipython",
    "version": 3
   },
   "file_extension": ".py",
   "mimetype": "text/x-python",
   "name": "python",
   "nbconvert_exporter": "python",
   "pygments_lexer": "ipython3",
   "version": "3.7.12"
  },
  "papermill": {
   "default_parameters": {},
   "duration": 123.31052,
   "end_time": "2022-04-04T14:00:20.037297",
   "environment_variables": {},
   "exception": null,
   "input_path": "__notebook__.ipynb",
   "output_path": "__notebook__.ipynb",
   "parameters": {},
   "start_time": "2022-04-04T13:58:16.726777",
   "version": "2.3.3"
  }
 },
 "nbformat": 4,
 "nbformat_minor": 5
}
